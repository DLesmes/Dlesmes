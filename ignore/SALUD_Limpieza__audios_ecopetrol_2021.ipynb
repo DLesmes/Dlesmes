{
  "nbformat": 4,
  "nbformat_minor": 0,
  "metadata": {
    "colab": {
      "name": "SALUD_Limpieza__audios_ecopetrol_2021.ipynb",
      "provenance": [],
      "collapsed_sections": [
        "9gt3i36V0tKy"
      ]
    },
    "kernelspec": {
      "display_name": "Python 3",
      "language": "python",
      "name": "python3"
    },
    "language_info": {
      "codemirror_mode": {
        "name": "ipython",
        "version": 3
      },
      "file_extension": ".py",
      "mimetype": "text/x-python",
      "name": "python",
      "nbconvert_exporter": "python",
      "pygments_lexer": "ipython3",
      "version": "3.8.3"
    }
  },
  "cells": [
    {
      "cell_type": "code",
      "metadata": {
        "id": "1g6nGNwVJJVe",
        "colab": {
          "base_uri": "https://localhost:8080/"
        },
        "outputId": "edf8080e-2376-4133-9741-28ffe0a73596"
      },
      "source": [
        "from google.colab import drive\n",
        "drive.mount('/content/drive')"
      ],
      "execution_count": 1,
      "outputs": [
        {
          "output_type": "stream",
          "text": [
            "Mounted at /content/drive\n"
          ],
          "name": "stdout"
        }
      ]
    },
    {
      "cell_type": "markdown",
      "metadata": {
        "id": "WQ7XO6sbaRPM"
      },
      "source": [
        "**Instalación de las librerías necesarias para el proceso**"
      ]
    },
    {
      "cell_type": "code",
      "metadata": {
        "id": "71Aj2Sh4gvlw",
        "colab": {
          "base_uri": "https://localhost:8080/"
        },
        "outputId": "2cc85677-589b-4eb1-cb47-0c8b23030aeb"
      },
      "source": [
        "# @title Intalación de paquetes adicionales necesarios\n",
        "!pip install pyLDAvis==2.1.2\n",
        "!pip install gensim\n",
        "# muy costoso computacionalmente, tarda bastante, te recomiendo usar AWS\n",
        "!pip install pyspellchecker\n",
        "# NEUTRAL, POSIITIVA, NEGATIVA\n",
        "!pip install spanish-sentiment-analysis\n",
        "!pip install sentiment-analysis-spanish\n",
        "!pip install keras tensorflow\n",
        "# Necesaria para el proceso de traducción VERSION FREE 15000 CARACTARES\n",
        "#!pip install googletrans\n",
        "#!pip install googletrans==3.1.0a0\n",
        "!pip install googletrans==4.0.0-rc1\n",
        "# Para eliminar posibles emojis\n",
        "!pip install emoji\n",
        "# Para procesar texto de manera rápida con tensorflow\n",
        "!pip install tweet-preprocessor"
      ],
      "execution_count": 93,
      "outputs": [
        {
          "output_type": "stream",
          "text": [
            "Requirement already satisfied: pyLDAvis==2.1.2 in /usr/local/lib/python3.7/dist-packages (2.1.2)\n",
            "Requirement already satisfied: pandas>=0.17.0 in /usr/local/lib/python3.7/dist-packages (from pyLDAvis==2.1.2) (1.1.5)\n",
            "Requirement already satisfied: numexpr in /usr/local/lib/python3.7/dist-packages (from pyLDAvis==2.1.2) (2.7.2)\n",
            "Requirement already satisfied: joblib>=0.8.4 in /usr/local/lib/python3.7/dist-packages (from pyLDAvis==2.1.2) (1.0.1)\n",
            "Requirement already satisfied: funcy in /usr/local/lib/python3.7/dist-packages (from pyLDAvis==2.1.2) (1.15)\n",
            "Requirement already satisfied: numpy>=1.9.2 in /usr/local/lib/python3.7/dist-packages (from pyLDAvis==2.1.2) (1.19.5)\n",
            "Requirement already satisfied: jinja2>=2.7.2 in /usr/local/lib/python3.7/dist-packages (from pyLDAvis==2.1.2) (2.11.3)\n",
            "Requirement already satisfied: future in /usr/local/lib/python3.7/dist-packages (from pyLDAvis==2.1.2) (0.16.0)\n",
            "Requirement already satisfied: scipy>=0.18.0 in /usr/local/lib/python3.7/dist-packages (from pyLDAvis==2.1.2) (1.4.1)\n",
            "Requirement already satisfied: wheel>=0.23.0 in /usr/local/lib/python3.7/dist-packages (from pyLDAvis==2.1.2) (0.36.2)\n",
            "Requirement already satisfied: pytest in /usr/local/lib/python3.7/dist-packages (from pyLDAvis==2.1.2) (3.6.4)\n",
            "Requirement already satisfied: python-dateutil>=2.7.3 in /usr/local/lib/python3.7/dist-packages (from pandas>=0.17.0->pyLDAvis==2.1.2) (2.8.1)\n",
            "Requirement already satisfied: pytz>=2017.2 in /usr/local/lib/python3.7/dist-packages (from pandas>=0.17.0->pyLDAvis==2.1.2) (2018.9)\n",
            "Requirement already satisfied: MarkupSafe>=0.23 in /usr/local/lib/python3.7/dist-packages (from jinja2>=2.7.2->pyLDAvis==2.1.2) (1.1.1)\n",
            "Requirement already satisfied: py>=1.5.0 in /usr/local/lib/python3.7/dist-packages (from pytest->pyLDAvis==2.1.2) (1.10.0)\n",
            "Requirement already satisfied: setuptools in /usr/local/lib/python3.7/dist-packages (from pytest->pyLDAvis==2.1.2) (54.0.0)\n",
            "Requirement already satisfied: six>=1.10.0 in /usr/local/lib/python3.7/dist-packages (from pytest->pyLDAvis==2.1.2) (1.15.0)\n",
            "Requirement already satisfied: atomicwrites>=1.0 in /usr/local/lib/python3.7/dist-packages (from pytest->pyLDAvis==2.1.2) (1.4.0)\n",
            "Requirement already satisfied: more-itertools>=4.0.0 in /usr/local/lib/python3.7/dist-packages (from pytest->pyLDAvis==2.1.2) (8.7.0)\n",
            "Requirement already satisfied: attrs>=17.4.0 in /usr/local/lib/python3.7/dist-packages (from pytest->pyLDAvis==2.1.2) (20.3.0)\n",
            "Requirement already satisfied: pluggy<0.8,>=0.5 in /usr/local/lib/python3.7/dist-packages (from pytest->pyLDAvis==2.1.2) (0.7.1)\n",
            "Requirement already satisfied: gensim in /usr/local/lib/python3.7/dist-packages (3.6.0)\n",
            "Requirement already satisfied: scipy>=0.18.1 in /usr/local/lib/python3.7/dist-packages (from gensim) (1.4.1)\n",
            "Requirement already satisfied: smart-open>=1.2.1 in /usr/local/lib/python3.7/dist-packages (from gensim) (4.2.0)\n",
            "Requirement already satisfied: six>=1.5.0 in /usr/local/lib/python3.7/dist-packages (from gensim) (1.15.0)\n",
            "Requirement already satisfied: numpy>=1.11.3 in /usr/local/lib/python3.7/dist-packages (from gensim) (1.19.5)\n",
            "Requirement already satisfied: pyspellchecker in /usr/local/lib/python3.7/dist-packages (0.6.0)\n",
            "Requirement already satisfied: spanish-sentiment-analysis in /usr/local/lib/python3.7/dist-packages (1.0.0)\n",
            "Requirement already satisfied: numpy in /usr/local/lib/python3.7/dist-packages (from spanish-sentiment-analysis) (1.19.5)\n",
            "Requirement already satisfied: marisa-trie in /usr/local/lib/python3.7/dist-packages (from spanish-sentiment-analysis) (0.7.5)\n",
            "Requirement already satisfied: sklearn in /usr/local/lib/python3.7/dist-packages (from spanish-sentiment-analysis) (0.0)\n",
            "Requirement already satisfied: nltk in /usr/local/lib/python3.7/dist-packages (from spanish-sentiment-analysis) (3.2.5)\n",
            "Requirement already satisfied: scipy in /usr/local/lib/python3.7/dist-packages (from spanish-sentiment-analysis) (1.4.1)\n",
            "Requirement already satisfied: scikit-learn in /usr/local/lib/python3.7/dist-packages (from sklearn->spanish-sentiment-analysis) (0.22.2.post1)\n",
            "Requirement already satisfied: six in /usr/local/lib/python3.7/dist-packages (from nltk->spanish-sentiment-analysis) (1.15.0)\n",
            "Requirement already satisfied: joblib>=0.11 in /usr/local/lib/python3.7/dist-packages (from scikit-learn->sklearn->spanish-sentiment-analysis) (1.0.1)\n",
            "Requirement already satisfied: sentiment-analysis-spanish in /usr/local/lib/python3.7/dist-packages (0.0.25)\n",
            "Requirement already satisfied: keras in /usr/local/lib/python3.7/dist-packages (2.4.3)\n",
            "Requirement already satisfied: tensorflow in /usr/local/lib/python3.7/dist-packages (2.4.1)\n",
            "Requirement already satisfied: scipy>=0.14 in /usr/local/lib/python3.7/dist-packages (from keras) (1.4.1)\n",
            "Requirement already satisfied: pyyaml in /usr/local/lib/python3.7/dist-packages (from keras) (3.13)\n",
            "Requirement already satisfied: numpy>=1.9.1 in /usr/local/lib/python3.7/dist-packages (from keras) (1.19.5)\n",
            "Requirement already satisfied: h5py in /usr/local/lib/python3.7/dist-packages (from keras) (2.10.0)\n",
            "Requirement already satisfied: tensorboard~=2.4 in /usr/local/lib/python3.7/dist-packages (from tensorflow) (2.4.1)\n",
            "Requirement already satisfied: termcolor~=1.1.0 in /usr/local/lib/python3.7/dist-packages (from tensorflow) (1.1.0)\n",
            "Requirement already satisfied: wheel~=0.35 in /usr/local/lib/python3.7/dist-packages (from tensorflow) (0.36.2)\n",
            "Requirement already satisfied: grpcio~=1.32.0 in /usr/local/lib/python3.7/dist-packages (from tensorflow) (1.32.0)\n",
            "Requirement already satisfied: google-pasta~=0.2 in /usr/local/lib/python3.7/dist-packages (from tensorflow) (0.2.0)\n",
            "Requirement already satisfied: opt-einsum~=3.3.0 in /usr/local/lib/python3.7/dist-packages (from tensorflow) (3.3.0)\n",
            "Requirement already satisfied: gast==0.3.3 in /usr/local/lib/python3.7/dist-packages (from tensorflow) (0.3.3)\n",
            "Requirement already satisfied: typing-extensions~=3.7.4 in /usr/local/lib/python3.7/dist-packages (from tensorflow) (3.7.4.3)\n",
            "Requirement already satisfied: tensorflow-estimator<2.5.0,>=2.4.0 in /usr/local/lib/python3.7/dist-packages (from tensorflow) (2.4.0)\n",
            "Requirement already satisfied: protobuf>=3.9.2 in /usr/local/lib/python3.7/dist-packages (from tensorflow) (3.12.4)\n",
            "Requirement already satisfied: flatbuffers~=1.12.0 in /usr/local/lib/python3.7/dist-packages (from tensorflow) (1.12)\n",
            "Requirement already satisfied: astunparse~=1.6.3 in /usr/local/lib/python3.7/dist-packages (from tensorflow) (1.6.3)\n",
            "Requirement already satisfied: wrapt~=1.12.1 in /usr/local/lib/python3.7/dist-packages (from tensorflow) (1.12.1)\n",
            "Requirement already satisfied: keras-preprocessing~=1.1.2 in /usr/local/lib/python3.7/dist-packages (from tensorflow) (1.1.2)\n",
            "Requirement already satisfied: absl-py~=0.10 in /usr/local/lib/python3.7/dist-packages (from tensorflow) (0.10.0)\n",
            "Requirement already satisfied: six~=1.15.0 in /usr/local/lib/python3.7/dist-packages (from tensorflow) (1.15.0)\n",
            "Requirement already satisfied: requests<3,>=2.21.0 in /usr/local/lib/python3.7/dist-packages (from tensorboard~=2.4->tensorflow) (2.23.0)\n",
            "Requirement already satisfied: setuptools>=41.0.0 in /usr/local/lib/python3.7/dist-packages (from tensorboard~=2.4->tensorflow) (54.0.0)\n",
            "Requirement already satisfied: werkzeug>=0.11.15 in /usr/local/lib/python3.7/dist-packages (from tensorboard~=2.4->tensorflow) (1.0.1)\n",
            "Requirement already satisfied: markdown>=2.6.8 in /usr/local/lib/python3.7/dist-packages (from tensorboard~=2.4->tensorflow) (3.3.4)\n",
            "Requirement already satisfied: tensorboard-plugin-wit>=1.6.0 in /usr/local/lib/python3.7/dist-packages (from tensorboard~=2.4->tensorflow) (1.8.0)\n",
            "Requirement already satisfied: google-auth<2,>=1.6.3 in /usr/local/lib/python3.7/dist-packages (from tensorboard~=2.4->tensorflow) (1.27.0)\n",
            "Requirement already satisfied: google-auth-oauthlib<0.5,>=0.4.1 in /usr/local/lib/python3.7/dist-packages (from tensorboard~=2.4->tensorflow) (0.4.2)\n",
            "Requirement already satisfied: idna<3,>=2.5 in /usr/local/lib/python3.7/dist-packages (from requests<3,>=2.21.0->tensorboard~=2.4->tensorflow) (2.10)\n",
            "Requirement already satisfied: chardet<4,>=3.0.2 in /usr/local/lib/python3.7/dist-packages (from requests<3,>=2.21.0->tensorboard~=2.4->tensorflow) (3.0.4)\n",
            "Requirement already satisfied: certifi>=2017.4.17 in /usr/local/lib/python3.7/dist-packages (from requests<3,>=2.21.0->tensorboard~=2.4->tensorflow) (2020.12.5)\n",
            "Requirement already satisfied: urllib3!=1.25.0,!=1.25.1,<1.26,>=1.21.1 in /usr/local/lib/python3.7/dist-packages (from requests<3,>=2.21.0->tensorboard~=2.4->tensorflow) (1.24.3)\n",
            "Requirement already satisfied: importlib-metadata; python_version < \"3.8\" in /usr/local/lib/python3.7/dist-packages (from markdown>=2.6.8->tensorboard~=2.4->tensorflow) (3.7.0)\n",
            "Requirement already satisfied: rsa<5,>=3.1.4; python_version >= \"3.6\" in /usr/local/lib/python3.7/dist-packages (from google-auth<2,>=1.6.3->tensorboard~=2.4->tensorflow) (4.7.2)\n",
            "Requirement already satisfied: pyasn1-modules>=0.2.1 in /usr/local/lib/python3.7/dist-packages (from google-auth<2,>=1.6.3->tensorboard~=2.4->tensorflow) (0.2.8)\n",
            "Requirement already satisfied: cachetools<5.0,>=2.0.0 in /usr/local/lib/python3.7/dist-packages (from google-auth<2,>=1.6.3->tensorboard~=2.4->tensorflow) (4.2.1)\n",
            "Requirement already satisfied: requests-oauthlib>=0.7.0 in /usr/local/lib/python3.7/dist-packages (from google-auth-oauthlib<0.5,>=0.4.1->tensorboard~=2.4->tensorflow) (1.3.0)\n",
            "Requirement already satisfied: zipp>=0.5 in /usr/local/lib/python3.7/dist-packages (from importlib-metadata; python_version < \"3.8\"->markdown>=2.6.8->tensorboard~=2.4->tensorflow) (3.4.0)\n",
            "Requirement already satisfied: pyasn1>=0.1.3 in /usr/local/lib/python3.7/dist-packages (from rsa<5,>=3.1.4; python_version >= \"3.6\"->google-auth<2,>=1.6.3->tensorboard~=2.4->tensorflow) (0.4.8)\n",
            "Requirement already satisfied: oauthlib>=3.0.0 in /usr/local/lib/python3.7/dist-packages (from requests-oauthlib>=0.7.0->google-auth-oauthlib<0.5,>=0.4.1->tensorboard~=2.4->tensorflow) (3.1.0)\n",
            "Requirement already satisfied: googletrans==4.0.0-rc1 in /usr/local/lib/python3.7/dist-packages (4.0.0rc1)\n",
            "Requirement already satisfied: httpx==0.13.3 in /usr/local/lib/python3.7/dist-packages (from googletrans==4.0.0-rc1) (0.13.3)\n",
            "Requirement already satisfied: rfc3986<2,>=1.3 in /usr/local/lib/python3.7/dist-packages (from httpx==0.13.3->googletrans==4.0.0-rc1) (1.4.0)\n",
            "Requirement already satisfied: sniffio in /usr/local/lib/python3.7/dist-packages (from httpx==0.13.3->googletrans==4.0.0-rc1) (1.2.0)\n",
            "Requirement already satisfied: chardet==3.* in /usr/local/lib/python3.7/dist-packages (from httpx==0.13.3->googletrans==4.0.0-rc1) (3.0.4)\n",
            "Requirement already satisfied: hstspreload in /usr/local/lib/python3.7/dist-packages (from httpx==0.13.3->googletrans==4.0.0-rc1) (2020.12.22)\n",
            "Requirement already satisfied: idna==2.* in /usr/local/lib/python3.7/dist-packages (from httpx==0.13.3->googletrans==4.0.0-rc1) (2.10)\n",
            "Requirement already satisfied: httpcore==0.9.* in /usr/local/lib/python3.7/dist-packages (from httpx==0.13.3->googletrans==4.0.0-rc1) (0.9.1)\n",
            "Requirement already satisfied: certifi in /usr/local/lib/python3.7/dist-packages (from httpx==0.13.3->googletrans==4.0.0-rc1) (2020.12.5)\n",
            "Requirement already satisfied: h2==3.* in /usr/local/lib/python3.7/dist-packages (from httpcore==0.9.*->httpx==0.13.3->googletrans==4.0.0-rc1) (3.2.0)\n",
            "Requirement already satisfied: h11<0.10,>=0.8 in /usr/local/lib/python3.7/dist-packages (from httpcore==0.9.*->httpx==0.13.3->googletrans==4.0.0-rc1) (0.9.0)\n",
            "Requirement already satisfied: hpack<4,>=3.0 in /usr/local/lib/python3.7/dist-packages (from h2==3.*->httpcore==0.9.*->httpx==0.13.3->googletrans==4.0.0-rc1) (3.0.0)\n",
            "Requirement already satisfied: hyperframe<6,>=5.2.0 in /usr/local/lib/python3.7/dist-packages (from h2==3.*->httpcore==0.9.*->httpx==0.13.3->googletrans==4.0.0-rc1) (5.2.0)\n",
            "Requirement already satisfied: emoji in /usr/local/lib/python3.7/dist-packages (1.2.0)\n",
            "Requirement already satisfied: tweet-preprocessor in /usr/local/lib/python3.7/dist-packages (0.6.0)\n"
          ],
          "name": "stdout"
        }
      ]
    },
    {
      "cell_type": "markdown",
      "metadata": {
        "id": "C6E26RvkaYjT"
      },
      "source": [
        "**Instalación del diccionario que contiene las palabras clasificadas según los sentimientos, esta parte es para evaluar el vocabulario empleado a los agentes**"
      ]
    },
    {
      "cell_type": "code",
      "metadata": {
        "id": "mdmnKOWRy8WU",
        "colab": {
          "base_uri": "https://localhost:8080/"
        },
        "outputId": "48030959-447e-4de3-e1ac-01f2eebe2397"
      },
      "source": [
        "####################EMOLEX\n",
        "# Eliminamos la carpeta EmoLex en caso de que exista\n",
        "!rm -rf EmoLex/\n",
        "# Descargamos un .zip con el léxico\n",
        "!wget -O emolex.zip https://raw.githubusercontent.com/larajuse/share/master/EmoLex.zip\n",
        "# Descomprimimos el .zip\n",
        "!unzip emolex.zip"
      ],
      "execution_count": 3,
      "outputs": [
        {
          "output_type": "stream",
          "text": [
            "--2021-03-04 23:00:27--  https://raw.githubusercontent.com/larajuse/share/master/EmoLex.zip\n",
            "Resolving raw.githubusercontent.com (raw.githubusercontent.com)... 185.199.111.133, 185.199.108.133, 185.199.110.133, ...\n",
            "Connecting to raw.githubusercontent.com (raw.githubusercontent.com)|185.199.111.133|:443... connected.\n",
            "HTTP request sent, awaiting response... 200 OK\n",
            "Length: 52446 (51K) [application/zip]\n",
            "Saving to: ‘emolex.zip’\n",
            "\n",
            "emolex.zip          100%[===================>]  51.22K  --.-KB/s    in 0.01s   \n",
            "\n",
            "2021-03-04 23:00:27 (4.21 MB/s) - ‘emolex.zip’ saved [52446/52446]\n",
            "\n",
            "Archive:  emolex.zip\n",
            "   creating: EmoLex/\n",
            "  inflating: EmoLex/joy.txt          \n",
            "  inflating: EmoLex/positive.txt     \n",
            "  inflating: EmoLex/anticipation.txt  \n",
            "  inflating: EmoLex/trust.txt        \n",
            "  inflating: EmoLex/fear.txt         \n",
            "  inflating: EmoLex/sadness.txt      \n",
            "  inflating: EmoLex/surprise.txt     \n",
            "  inflating: EmoLex/anger.txt        \n",
            "  inflating: EmoLex/disgust.txt      \n",
            "  inflating: EmoLex/negative.txt     \n"
          ],
          "name": "stdout"
        }
      ]
    },
    {
      "cell_type": "code",
      "metadata": {
        "id": "QaS3um0xgSrc",
        "colab": {
          "base_uri": "https://localhost:8080/"
        },
        "outputId": "81f93a9a-1861-4253-b2f9-17461d65a763"
      },
      "source": [
        "#@title Librerías para NLP\n",
        "%matplotlib inline\n",
        "import matplotlib.pyplot as plt\n",
        "import pandas as pd\n",
        "import numpy as np\n",
        "from scipy import stats\n",
        "import re #expresiones regulares\n",
        "import itertools\n",
        "from collections import Counter \n",
        "import seaborn as sns\n",
        "import matplotlib as mpl\n",
        "plt.style.use('ggplot')\n",
        "sns.set_context(\"talk\")\n",
        "import datetime\n",
        "import dateutil\n",
        "\n",
        "#Librerias de visualizacion dinámica\n",
        "import plotly.express as px\n",
        "from PIL import Image\n",
        "from wordcloud import WordCloud\n",
        "from pprint import pprint #Manipulacion de datos\n",
        "\n",
        "#LDA MODEL FOR OBSERVACIONES\n",
        "#quitar mas profundamente stop_words\n",
        "import nltk\n",
        "nltk.download('punkt')\n",
        "from nltk.tokenize import word_tokenize\n",
        "import unicodedata\n",
        "import tqdm\n",
        "import spacy.cli\n",
        "from spacy.lang.es.stop_words import STOP_WORDS \n",
        "#descargamos los modelos\n",
        "from nltk.corpus import stopwords\n",
        "nltk.download('stopwords')\n",
        "\n",
        "nltk.download('punkt')\n",
        "from nltk.tokenize import word_tokenize\n",
        "import preprocessor as p\n",
        "nltk.download('stopwords')\n",
        "spacy.cli.download(\"es_core_news_md\")"
      ],
      "execution_count": 4,
      "outputs": [
        {
          "output_type": "stream",
          "text": [
            "[nltk_data] Downloading package punkt to /root/nltk_data...\n",
            "[nltk_data]   Unzipping tokenizers/punkt.zip.\n",
            "[nltk_data] Downloading package stopwords to /root/nltk_data...\n",
            "[nltk_data]   Unzipping corpora/stopwords.zip.\n",
            "[nltk_data] Downloading package punkt to /root/nltk_data...\n",
            "[nltk_data]   Package punkt is already up-to-date!\n",
            "[nltk_data] Downloading package stopwords to /root/nltk_data...\n",
            "[nltk_data]   Package stopwords is already up-to-date!\n",
            "\u001b[38;5;2m✔ Download and installation successful\u001b[0m\n",
            "You can now load the model via spacy.load('es_core_news_md')\n"
          ],
          "name": "stdout"
        }
      ]
    },
    {
      "cell_type": "code",
      "metadata": {
        "id": "IvQefPT72C5c",
        "cellView": "code"
      },
      "source": [
        "####LIBRERIAS EMOCIONES\n",
        "#@title Librerías de emociones\n",
        "from collections import defaultdict\n",
        "\n",
        "import googletrans\n",
        "from googletrans import Translator\n",
        "translator = Translator()\n",
        "import emoji\n",
        "import os\n",
        "from sklearn.preprocessing import MinMaxScaler\n",
        "\n",
        "#############LSTM\n",
        "import sklearn \n",
        "from sklearn.preprocessing import LabelEncoder, OneHotEncoder\n",
        "from keras.models import load_model\n",
        "from sklearn.model_selection import train_test_split\n",
        "\n",
        "import tensorflow as tf\n",
        "from keras.preprocessing import text, sequence\n",
        "from keras import Sequential\n",
        "from keras.layers import Embedding, SpatialDropout1D, LSTM, Dense"
      ],
      "execution_count": 94,
      "outputs": []
    },
    {
      "cell_type": "markdown",
      "metadata": {
        "id": "D9sVC_kVbrdv"
      },
      "source": [
        "**Las siguientes librerias son necesarias para estudiar las relaciones semánticas**"
      ]
    },
    {
      "cell_type": "code",
      "metadata": {
        "id": "GjTpVBw0cIsM",
        "cellView": "form"
      },
      "source": [
        "#@title Librerías necesarias para realizar el modelo de Word2Vec\n",
        "#word2vec modelo de EMBEDDING\n",
        "#word2vec\n",
        "from gensim.models import word2vec\n",
        "import multiprocessing\n",
        "from gensim.models import Word2Vec\n",
        "from collections import defaultdict \n",
        "import seaborn as sns\n",
        "sns.set_style(\"darkgrid\")\n",
        "from sklearn.decomposition import PCA\n",
        "from sklearn.manifold import TSNE\n",
        "from scipy import stats\n",
        "from pylab import rcParams\n",
        "from google.colab import widgets"
      ],
      "execution_count": 6,
      "outputs": []
    },
    {
      "cell_type": "markdown",
      "metadata": {
        "id": "DG9QnE6PcCt0"
      },
      "source": [
        "**Librerias necesarias para evaluar la experiencia general del cliente, no es necesario traducir el texto para este paso**"
      ]
    },
    {
      "cell_type": "code",
      "metadata": {
        "id": "vzxoyxTiEBLS",
        "cellView": "form",
        "colab": {
          "base_uri": "https://localhost:8080/"
        },
        "outputId": "1e48735f-be83-4aeb-f04e-9a48df225b00"
      },
      "source": [
        "#@title Librerias necesarias para evaluar la experiencia general del cliente\n",
        "#clasificacion de sentimientos, en español\n",
        "\n",
        "from wordcloud import WordCloud, STOPWORDS, ImageColorGenerator\n",
        "from spellchecker import SpellChecker\n",
        "spell = SpellChecker(language='es')\n",
        "from classifier import *\n",
        "clf = SentimentClassifier()\n",
        "from pylab import rcParams\n",
        "from google.colab import widgets"
      ],
      "execution_count": 7,
      "outputs": [
        {
          "output_type": "stream",
          "text": [
            "/usr/local/lib/python3.7/dist-packages/sklearn/externals/joblib/__init__.py:15: FutureWarning:\n",
            "\n",
            "sklearn.externals.joblib is deprecated in 0.21 and will be removed in 0.23. Please import this functionality directly from joblib, which can be installed with: pip install joblib. If this warning is raised when loading pickled models, you may need to re-serialize those models with scikit-learn 0.21+.\n",
            "\n"
          ],
          "name": "stderr"
        }
      ]
    },
    {
      "cell_type": "code",
      "metadata": {
        "id": "bjnx_ue4glPr",
        "cellView": "form",
        "colab": {
          "base_uri": "https://localhost:8080/"
        },
        "outputId": "5133a2f4-d8f3-4dfe-9425-57a428968684"
      },
      "source": [
        "#@title Librerías para aplicar el modelo de LDA\n",
        "## APLLY LDA MODEL TO OBSERVACIONES\n",
        "#Gensim para modelado de temas, indexación de documentos y recuperación de similitudes con grandes corpus\n",
        "import gensim\n",
        "import gensim.corpora as corpora\n",
        "from gensim.utils import simple_preprocess\n",
        "from gensim.models import CoherenceModel\n",
        "#Spacy para la lemmatization\n",
        "import spacy\n",
        "# Herramientas de graficado\n",
        "import pyLDAvis\n",
        "import pyLDAvis.gensim\n",
        "import matplotlib.pyplot as plt\n",
        "%matplotlib inline\n",
        "# Habilitado de logging para gensim (opcional)\n",
        "import logging\n",
        "logging.basicConfig(format='%(asctime)s : %(levelname)s : %(message)s', level=logging.ERROR)\n",
        "import warnings\n",
        "warnings.filterwarnings(\"ignore\",category=DeprecationWarning)\n",
        "from sklearn.feature_extraction.text import CountVectorizer\n"
      ],
      "execution_count": 8,
      "outputs": [
        {
          "output_type": "stream",
          "text": [
            "/usr/local/lib/python3.7/dist-packages/past/types/oldstr.py:5: DeprecationWarning:\n",
            "\n",
            "Using or importing the ABCs from 'collections' instead of from 'collections.abc' is deprecated since Python 3.3,and in 3.9 it will stop working\n",
            "\n"
          ],
          "name": "stderr"
        }
      ]
    },
    {
      "cell_type": "markdown",
      "metadata": {
        "id": "Wokv5rvmi_u7"
      },
      "source": [
        "Funciones globales para la limpieza de texto"
      ]
    },
    {
      "cell_type": "code",
      "metadata": {
        "id": "VRRK89RSgokp"
      },
      "source": [
        "def elimina_tildes(cadena):\n",
        "  #Función para eliminar acentos en el texto\n",
        "              s = ''.join((c for c in unicodedata.normalize('NFD',cadena) if unicodedata.category(c) != 'Mn'))\n",
        "              return s\n",
        "\n",
        "        \n",
        "def clean_text(text):\n",
        "\n",
        "          ''' remove text in square brackets, remove punctuation and remove words containing numbers.'''\n",
        "          text=re.sub('0','O',text)\n",
        "          text = re.sub('\\w*\\d\\w*', '', text)\n",
        "          text = re.sub('[‘’“”?¿#&¡!\\/$%()\\|/*+=-@]', '', text)\n",
        "          text= re.sub('[!\"#$%&\\'()*+-/<=>?@[\\\\]^_{|}]', '', text)\n",
        "          text=re.sub('[~Œƒ„‰Š‹•™›Ÿ¢£¤¦§¨©ª«¬®°²³´µ¶·¹º»¼½¾¿ÀÁÂÃÄÅÆÇÈÉÊËÌÍÎÏÐÒÓÔÕÖ×ØÙÚÛÜÝÞß÷]','', text, flags=re.UNICODE)\n",
        "          text=re.sub(':','', text, flags=re.UNICODE)\n",
        "          return text\n",
        "\n",
        "def replace(word):\n",
        "  #arregla palabras como holaaa----hola, rrapido-----rapido- raaaaaaaaaaaaaaaaaapido---rapido\n",
        "     if wordnet.synsets(word):\n",
        "       return word \n",
        "     repl_word = re.compile(r'(\\w*)(\\w)\\2(\\w*)').sub(r'\\1\\2\\3', word) \n",
        "     if repl_word != word:            \n",
        "       return replace(repl_word)        \n",
        "     else:            \n",
        "       return repl_word \n",
        "\n",
        "\n",
        "def s_correction( text, patterns): \n",
        "\n",
        "  #Función auxiliar que corrige errores ortográficos, como rezpeto---respeto, se debe pasar una lista con estas correciones\n",
        "\n",
        "          patterns1 = [(re.compile(regex), repl) for (regex, repl) in   patterns]      \n",
        "          s = text       \n",
        "          for (pattern, repl) in patterns1:        \n",
        "                 (s, count) = re.subn(pattern, repl, s)    \n",
        "          return s\n",
        "    \n",
        "def remove_stop(x, lista):\n",
        "  #Función que optimiza la remoción de stop-words\n",
        "  pattern = re.compile(r'\\b(' + r'|'.join(lista_stop_words) + r')\\b\\s*')\n",
        "  text = pattern.sub(' ',x)\n",
        "  return text\n",
        "\n",
        "def clean_text_p(text):\n",
        "  #Quita palabras cortas \n",
        "        ''' remove text in square brackets, remove punctuation and remove words containing numbers.'''\n",
        "        text =  re.sub(r'\\b\\w{1,3}\\b', '', text) \n",
        "        return text\n",
        "\n",
        "def sent_to_words(sentences):\n",
        "    for sentence in sentences:\n",
        "        yield(gensim.utils.simple_preprocess(str(sentence), deacc=True))"
      ],
      "execution_count": 9,
      "outputs": []
    },
    {
      "cell_type": "code",
      "metadata": {
        "id": "0jh-BMD5g6ko"
      },
      "source": [
        "FOLDER_EMOTION_ANALISIS = \"/content/drive/MyDrive/data/ABPS/NPL_Ecopetrol/emotion_analysis/\"\r\n",
        "FOLDER_DATASET_TRANSCRIPT = \"/content/drive/MyDrive/data/ABPS/NPL_Ecopetrol/\"\r\n",
        "FOLDER_STOP_WORDS = \"/content/drive/MyDrive/data/ABPS/NPL_Ecopetrol/stop_word/\"\r\n",
        "FOLDER_RAW = \"/content/drive/MyDrive/data/ABPS/NPL_Ecopetrol/\""
      ],
      "execution_count": 10,
      "outputs": []
    },
    {
      "cell_type": "markdown",
      "metadata": {
        "id": "MAbdV4M3mgaD"
      },
      "source": [
        "# **Lectura del Dataframe**"
      ]
    },
    {
      "cell_type": "code",
      "metadata": {
        "id": "BBxO0iX2lDgD",
        "colab": {
          "base_uri": "https://localhost:8080/",
          "height": 35
        },
        "outputId": "c5632025-dc69-4311-eafc-93ac4455db1a"
      },
      "source": [
        "'''\n",
        "df_user=pd.read_csv('/content/drive/My Drive/NPL_Ecopetrol/df_total/df_total_limp_user.csv')\n",
        "df_user=df_user[df_user.transcripcion.notna()]\n",
        "df_user.shape\n",
        "'''"
      ],
      "execution_count": 11,
      "outputs": [
        {
          "output_type": "execute_result",
          "data": {
            "application/vnd.google.colaboratory.intrinsic+json": {
              "type": "string"
            },
            "text/plain": [
              "\"\\ndf_user=pd.read_csv('/content/drive/My Drive/NPL_Ecopetrol/df_total/df_total_limp_user.csv')\\ndf_user=df_user[df_user.transcripcion.notna()]\\ndf_user.shape\\n\""
            ]
          },
          "metadata": {
            "tags": []
          },
          "execution_count": 11
        }
      ]
    },
    {
      "cell_type": "code",
      "metadata": {
        "colab": {
          "base_uri": "https://localhost:8080/",
          "height": 35
        },
        "id": "5I0Z0Pyllx4p",
        "outputId": "1f0b96dc-af46-47f3-a62c-fe791bf995fa"
      },
      "source": [
        "'''\r\n",
        "df_agent=df[df.owner=='agente']\r\n",
        "df_user=df[df.owner=='usuario']\r\n",
        "\r\n",
        "print('dimensionalidad agente:', df_agent.shape)\r\n",
        "print('dimensionalidad usuario:', df_user.shape)\r\n",
        "'''"
      ],
      "execution_count": 12,
      "outputs": [
        {
          "output_type": "execute_result",
          "data": {
            "application/vnd.google.colaboratory.intrinsic+json": {
              "type": "string"
            },
            "text/plain": [
              "\"\\ndf_agent=df[df.owner=='agente']\\ndf_user=df[df.owner=='usuario']\\n\\nprint('dimensionalidad agente:', df_agent.shape)\\nprint('dimensionalidad usuario:', df_user.shape)\\n\""
            ]
          },
          "metadata": {
            "tags": []
          },
          "execution_count": 12
        }
      ]
    },
    {
      "cell_type": "code",
      "metadata": {
        "colab": {
          "base_uri": "https://localhost:8080/",
          "height": 35
        },
        "id": "iOyXRs2slyWQ",
        "outputId": "e58dcf82-1b4d-499f-9994-5c0e64d6deb5"
      },
      "source": [
        "#os.listdir()\r\n",
        "\r\n",
        "os.chdir('/content/drive/MyDrive/data/ABPS/NPL_Ecopetrol/Data/database/Meses')\r\n",
        "%pwd"
      ],
      "execution_count": 13,
      "outputs": [
        {
          "output_type": "execute_result",
          "data": {
            "application/vnd.google.colaboratory.intrinsic+json": {
              "type": "string"
            },
            "text/plain": [
              "'/content/drive/My Drive/data/ABPS/NPL_Ecopetrol/Data/database/Meses'"
            ]
          },
          "metadata": {
            "tags": []
          },
          "execution_count": 13
        }
      ]
    },
    {
      "cell_type": "code",
      "metadata": {
        "colab": {
          "base_uri": "https://localhost:8080/"
        },
        "id": "rZG1sCNCl1BE",
        "outputId": "399abf6f-93b4-4478-cf6e-31c4c46e3ccc"
      },
      "source": [
        "import sqlite3\r\n",
        "\r\n",
        "lista = os.listdir()\r\n",
        "\r\n",
        "lista = pd.Series(lista)\r\n",
        "lista = lista[lista.str.contains('.db')]\r\n",
        "print(lista)\r\n",
        "\r\n",
        "for i in lista:\r\n",
        "  conn = sqlite3.connect(i)\r\n",
        "  def tables_in_sqlite_db(conn):\r\n",
        "      cursor = conn.execute(\"SELECT name FROM sqlite_master WHERE type='table';\")\r\n",
        "      tables = [\r\n",
        "          v[0] for v in cursor.fetchall()\r\n",
        "          if v[0] != \"sqlite_sequence\"\r\n",
        "      ]\r\n",
        "      cursor.close()\r\n",
        "      return tables\r\n",
        "  name =tables_in_sqlite_db(conn)\r\n",
        "  print(i,name)"
      ],
      "execution_count": 14,
      "outputs": [
        {
          "output_type": "stream",
          "text": [
            "0     speech_ecopetrol_Septiembre.db\n",
            "1        speech_ecopetrol_Octubre.db\n",
            "25     speech_ecopetrol_Noviembre.db\n",
            "dtype: object\n",
            "speech_ecopetrol_Septiembre.db ['speech_to_text']\n",
            "speech_ecopetrol_Octubre.db ['speech_to_text']\n",
            "speech_ecopetrol_Noviembre.db ['speech_to_text', 'speech_to_text_fitted']\n"
          ],
          "name": "stdout"
        }
      ]
    },
    {
      "cell_type": "code",
      "metadata": {
        "colab": {
          "base_uri": "https://localhost:8080/"
        },
        "id": "F4zo_MjCl71c",
        "outputId": "0c98f309-3b92-4f96-8537-0a7ed0801db4"
      },
      "source": [
        "import sqlite3\r\n",
        "import pandas as pd\r\n",
        "# Create your connection.\r\n",
        "\r\n",
        "\r\n",
        "#Septiembre\r\n",
        "cnx_sep = sqlite3.connect(FOLDER_RAW+'Data/database/Meses/speech_ecopetrol_Septiembre.db')\r\n",
        "\r\n",
        "df_sep = pd.read_sql_query(\"SELECT * FROM speech_to_text\", cnx_sep)\r\n",
        "df_sep['Mes']=df_sep['name_file'].apply(lambda x: \"Septiembre\")\r\n",
        "\r\n",
        "#Octubre\r\n",
        "cnx_oct = sqlite3.connect(FOLDER_RAW+'Data/database/Meses/speech_ecopetrol_Octubre.db')\r\n",
        "\r\n",
        "df_oct = pd.read_sql_query(\"SELECT * FROM speech_to_text\", cnx_oct)\r\n",
        "df_oct['Mes']=df_oct['name_file'].apply(lambda x: \"Octubre\")\r\n",
        "\r\n",
        "#Noviembre\r\n",
        "cnx_nov = sqlite3.connect(FOLDER_RAW+'Data/database/Meses/speech_ecopetrol_Noviembre.db')\r\n",
        "\r\n",
        "df_nov = pd.read_sql_query(\"SELECT * FROM speech_to_text_fitted\", cnx_nov)\r\n",
        "df_nov['Mes']=df_nov['name_file'].apply(lambda x: \"Noviembre\")\r\n",
        "\r\n",
        "# #Diciembre\r\n",
        "# cnx_dic = sqlite3.connect(FOLDER_RAW+'Data/database/Diciembre/speech_ecopetrol_diciembre.db')\r\n",
        "\r\n",
        "# df_dic = pd.read_sql_query(\"SELECT * FROM speech_to_text\", cnx_dic)\r\n",
        "# df_dic['Mes']=df_dic['name_file'].apply(lambda x: \"Diciembre\")\r\n",
        "\r\n",
        "pd.set_option('display.max_colwidth', -1) # show all characters \r\n",
        "\r\n",
        "print(\"Septiembre\")\r\n",
        "print(df_sep[0:3])\r\n",
        "print(len(df_sep))\r\n",
        "\r\n",
        "print(\"Octubre\")\r\n",
        "print(df_oct[0:3])\r\n",
        "print(len(df_oct))\r\n",
        "\r\n",
        "print(\"Noviembre\")\r\n",
        "print(df_nov.columns)\r\n",
        "print(len(df_nov))\r\n",
        "\r\n",
        "# print(\"Diciembre\")\r\n",
        "# print(df_dic[0:3])\r\n",
        "# print(len(df_dic))"
      ],
      "execution_count": 15,
      "outputs": [
        {
          "output_type": "stream",
          "text": [
            "Septiembre\n",
            "                                                                                                                               name_file  ...         Mes\n",
            "0  ULBQJ13L2545H7O07M2GVQ24680024AS_2020-09-09_17-33-54_2020-09-09_12-33-54_033223967169_28400_1055227053-063A01F5-1070457D-00000001.wav  ...  Septiembre\n",
            "1  ULBQJ13L2545H7O07M2GVQ2468001LK2_2020-09-03_14-19-53_2020-09-03_09-19-53_007756064_28400_53050685-063A01F5-106EF739-00000001.wav       ...  Septiembre\n",
            "2  ULBQJ13L2545H7O07M2GVQ24680032VR_2020-09-22_17-00-34_2020-09-22_12-00-34_3125861921_6532363_1233492388-063A01F6-1072DF39-00000001.wav  ...  Septiembre\n",
            "\n",
            "[3 rows x 7 columns]\n",
            "1183\n",
            "Octubre\n",
            "                                                                                                                               name_file  ...      Mes\n",
            "0  RQ21QO2HST63B28OIE5HQTGBLS00079C_2020-10-01_12-10-03_2020-10-01_07-10-03_033188208886_28200_1032400956-063A01F7-1074E7C3-00000001.wav  ...  Octubre\n",
            "1  RQ21QO2HST63B28OIE5HQTGBLS000ORH_2020-10-08_13-29-42_2020-10-08_08-29-43_43797_28400_1022981472-064C01F7-10747595-00000001.wav         ...  Octubre\n",
            "2  RQ21QO2HST63B28OIE5HQTGBLS0020HJ_2020-10-26_20-52-15_2020-10-26_15-52-15_76431997_6532364_1030622036-058101F9-108BB211-00000001.wav    ...  Octubre\n",
            "\n",
            "[3 rows x 7 columns]\n",
            "1097\n",
            "Noviembre\n",
            "Index(['name_file', 'transcripcion', 'speech_ratio', 'confidance', 'owner',\n",
            "       'raw', 'Mes'],\n",
            "      dtype='object')\n",
            "1115\n"
          ],
          "name": "stdout"
        }
      ]
    },
    {
      "cell_type": "code",
      "metadata": {
        "colab": {
          "base_uri": "https://localhost:8080/"
        },
        "id": "QL8aq5Ysl-Op",
        "outputId": "cd5d8c18-6196-4f07-a5b9-da64aa993cba"
      },
      "source": [
        "print(len(df_sep)+len(df_oct))#+len(df_nov))\r\n",
        "df_sep = df_sep.append(df_oct,ignore_index=True).reset_index(drop=True).copy()\r\n",
        "df_sep = df_sep.append(df_nov,ignore_index=True).reset_index(drop=True).copy()\r\n",
        "# df_sep = df_sep.append(df_dic,ignore_index=True).reset_index(drop=True).copy()\r\n",
        "# ojo, cambiar abajo a df_sep\r\n",
        "df_user = df_sep\r\n",
        "print(len(df_user))"
      ],
      "execution_count": 16,
      "outputs": [
        {
          "output_type": "stream",
          "text": [
            "2280\n",
            "3395\n"
          ],
          "name": "stdout"
        }
      ]
    },
    {
      "cell_type": "code",
      "metadata": {
        "colab": {
          "base_uri": "https://localhost:8080/"
        },
        "id": "zgVao0zZxIRP",
        "outputId": "47e7b3db-1408-4a03-d78f-957acb44816e"
      },
      "source": [
        "pd.set_option('display.max_colwidth',-1) # mostrar todos los caracteres del dataset\r\n",
        "\r\n",
        "df_user['name_file'][0:1]"
      ],
      "execution_count": 17,
      "outputs": [
        {
          "output_type": "execute_result",
          "data": {
            "text/plain": [
              "0    ULBQJ13L2545H7O07M2GVQ24680024AS_2020-09-09_17-33-54_2020-09-09_12-33-54_033223967169_28400_1055227053-063A01F5-1070457D-00000001.wav\n",
              "Name: name_file, dtype: object"
            ]
          },
          "metadata": {
            "tags": []
          },
          "execution_count": 17
        }
      ]
    },
    {
      "cell_type": "code",
      "metadata": {
        "colab": {
          "base_uri": "https://localhost:8080/"
        },
        "id": "9fD9pCGqx7O6",
        "outputId": "948c9eb4-ed07-42b0-f498-017a41ec65d8"
      },
      "source": [
        "df_user[\"name_file\"] = df_user[\"name_file\"].str.extract(r'^([\\w]+-?[\\w]+-?[\\w]+_[\\w]+-[\\w]+-[\\w]+_)')\r\n",
        "#df_user[\"name_file\"]  = df_user[\"name_file\"].map(lambda x: x.rstrip('2020'))\r\n",
        "\r\n",
        "df_user['name_file'][0:1]"
      ],
      "execution_count": 18,
      "outputs": [
        {
          "output_type": "execute_result",
          "data": {
            "text/plain": [
              "0    ULBQJ13L2545H7O07M2GVQ24680024AS_2020-09-09_17-33-54_\n",
              "Name: name_file, dtype: object"
            ]
          },
          "metadata": {
            "tags": []
          },
          "execution_count": 18
        }
      ]
    },
    {
      "cell_type": "code",
      "metadata": {
        "colab": {
          "base_uri": "https://localhost:8080/"
        },
        "id": "6w_ZwrkQtW7t",
        "outputId": "97eeae25-b827-49fa-9279-256b8465f42f"
      },
      "source": [
        "df_original_sep= pd.read_excel(FOLDER_RAW+'Data/database/Septiembre/dataset_sep.xlsx')\r\n",
        "df_original_oct = pd.read_excel(FOLDER_RAW+'Data/database/Octubre/dataset_oct.xlsx')\r\n",
        "df_original_nov = pd.read_excel(FOLDER_RAW+'Data/database/Noviembre/dataset_nov.xlsx')\r\n",
        "\r\n",
        "df_original = pd.concat([df_original_sep, df_original_oct, df_original_nov])\r\n",
        "\r\n",
        "df_original['GUID'] = df_original['GUID'] + '_'\r\n",
        "df_original = df_original.rename(columns={'GUID':'name_file'})\r\n",
        "\r\n",
        "df_original['name_file'][0:1]"
      ],
      "execution_count": 19,
      "outputs": [
        {
          "output_type": "execute_result",
          "data": {
            "text/plain": [
              "0    ULBQJ13L2545H7O07M2GVQ2468001F94_2020-09-01_06-33-56_\n",
              "Name: name_file, dtype: object"
            ]
          },
          "metadata": {
            "tags": []
          },
          "execution_count": 19
        }
      ]
    },
    {
      "cell_type": "code",
      "metadata": {
        "colab": {
          "base_uri": "https://localhost:8080/"
        },
        "id": "HDNwAHS4BFkI",
        "outputId": "abbd0fa3-978b-414d-9d1e-9ba6bf90b20b"
      },
      "source": [
        "len(df_original['name_file'])"
      ],
      "execution_count": 20,
      "outputs": [
        {
          "output_type": "execute_result",
          "data": {
            "text/plain": [
              "73917"
            ]
          },
          "metadata": {
            "tags": []
          },
          "execution_count": 20
        }
      ]
    },
    {
      "cell_type": "code",
      "metadata": {
        "id": "OIVe_xyZux4V"
      },
      "source": [
        "df_user = df_user.merge(df_original, how='left', on='name_file')\r\n",
        "df_user = df_user.drop(['raw'], axis=1)\r\n",
        "df_user = df_user.drop(df_user[df_user[\"Linea\"]==\"Conmutador\"].index)\r\n",
        "df_user = df_user.drop(df_user[df_user[\"Linea\"]==\"Incidentes y fallas\"].index)"
      ],
      "execution_count": 21,
      "outputs": []
    },
    {
      "cell_type": "code",
      "metadata": {
        "colab": {
          "base_uri": "https://localhost:8080/",
          "height": 1000
        },
        "id": "qJ0BupQM_gH1",
        "outputId": "6b089c8e-682b-47bc-a0c4-4d8f65887ae2"
      },
      "source": [
        "df_user[0:2]"
      ],
      "execution_count": 22,
      "outputs": [
        {
          "output_type": "execute_result",
          "data": {
            "text/html": [
              "<div>\n",
              "<style scoped>\n",
              "    .dataframe tbody tr th:only-of-type {\n",
              "        vertical-align: middle;\n",
              "    }\n",
              "\n",
              "    .dataframe tbody tr th {\n",
              "        vertical-align: top;\n",
              "    }\n",
              "\n",
              "    .dataframe thead th {\n",
              "        text-align: right;\n",
              "    }\n",
              "</style>\n",
              "<table border=\"1\" class=\"dataframe\">\n",
              "  <thead>\n",
              "    <tr style=\"text-align: right;\">\n",
              "      <th></th>\n",
              "      <th>name_file</th>\n",
              "      <th>transcripcion</th>\n",
              "      <th>speech_ratio</th>\n",
              "      <th>confidance</th>\n",
              "      <th>owner</th>\n",
              "      <th>Mes</th>\n",
              "      <th>GUID_ORIGINAL</th>\n",
              "      <th>CC</th>\n",
              "      <th>DNIS</th>\n",
              "      <th>ANI</th>\n",
              "      <th>Start Date IXN Res</th>\n",
              "      <th>End Date IXN Res</th>\n",
              "      <th>IXN ID</th>\n",
              "      <th>Tenant Name</th>\n",
              "      <th>INTERACTION_TYPE</th>\n",
              "      <th>PLACE_NAME</th>\n",
              "      <th>Last VQ</th>\n",
              "      <th>Agent</th>\n",
              "      <th>Customer Talk Duration</th>\n",
              "      <th>Engage Duration</th>\n",
              "      <th>Linea</th>\n",
              "      <th>Start_Date_hour</th>\n",
              "    </tr>\n",
              "  </thead>\n",
              "  <tbody>\n",
              "    <tr>\n",
              "      <th>0</th>\n",
              "      <td>ULBQJ13L2545H7O07M2GVQ24680024AS_2020-09-09_17-33-54_</td>\n",
              "      <td>muy bien un par de intrusión la línea de personal con el ala en  no era de tu logran  en recuerdo de un proveedor o que relacionó incluso tienen con estos estilos para poderle direcciona un día más de acuerdo permítame por favor  el fruto de por favor ya validen directamente dependientes o arias y el treinta del proceso ya que en un momento se encuentra comunicada con la línea trescientos personas consultar por favor</td>\n",
              "      <td>0.754</td>\n",
              "      <td>0.5775</td>\n",
              "      <td>agente</td>\n",
              "      <td>Septiembre</td>\n",
              "      <td>ULBQJ13L2545H7O07M2GVQ24680024AS</td>\n",
              "      <td>1.055227e+09</td>\n",
              "      <td>28400.0</td>\n",
              "      <td>033223967169</td>\n",
              "      <td>20200909 12:33:54</td>\n",
              "      <td>20200909 12:34:59</td>\n",
              "      <td>160395807.0</td>\n",
              "      <td>Ecopetrol</td>\n",
              "      <td>Inbound</td>\n",
              "      <td>Ecopetrol_52094</td>\n",
              "      <td>VQ_Ecopetrol_INB_Para_Personal</td>\n",
              "      <td>, C Persn William Guillermo Ferrucho Ferrucho (wilferfe) - 1055227053</td>\n",
              "      <td>61.0</td>\n",
              "      <td>0.0</td>\n",
              "      <td>Personal</td>\n",
              "      <td>2020-09-09_17-33-54</td>\n",
              "    </tr>\n",
              "    <tr>\n",
              "      <th>1</th>\n",
              "      <td>ULBQJ13L2545H7O07M2GVQ2468001LK2_2020-09-03_14-19-53_</td>\n",
              "      <td>general línea servicios compartidos del personal le hablan que no vengas con quién tengo el gusto de hablar inglés con colores no no señora no todavía no está la oficina de directo no señora no señor los envía oficina virtual de personal arroba ecopetrol punto com punto cero que señores no escanea escaneando documentos los firmas proxeneta usted imprime los documentos los firma los kane los envía en señora del personal de ecopetrol punto com punto cero en enseñanzas buenas no señor todas nos han indicado como tal proceso no frank cuando lleguen a realizar aperturas buenas perderán comunicación e servicios compartidos del personal de llamada que relacionada con el número trece veinticinco treinta y úno cuarenta y ocho qué pasa teniente</td>\n",
              "      <td>0.924</td>\n",
              "      <td>0.7100</td>\n",
              "      <td>agente</td>\n",
              "      <td>Septiembre</td>\n",
              "      <td>ULBQJ13L2545H7O07M2GVQ2468001LK2</td>\n",
              "      <td>5.305068e+07</td>\n",
              "      <td>28400.0</td>\n",
              "      <td>007756064</td>\n",
              "      <td>20200903 09:19:53</td>\n",
              "      <td>20200903 09:21:28</td>\n",
              "      <td>158426841.0</td>\n",
              "      <td>Ecopetrol</td>\n",
              "      <td>Inbound</td>\n",
              "      <td>Ecopetrol_52135</td>\n",
              "      <td>VQ_Ecopetrol_INB_Serv_Personal</td>\n",
              "      <td>, C Persn Angie Paola Luengas Tunjano (angluetu) - 53050685</td>\n",
              "      <td>95.0</td>\n",
              "      <td>0.0</td>\n",
              "      <td>Personal</td>\n",
              "      <td>2020-09-03_14-19-53</td>\n",
              "    </tr>\n",
              "  </tbody>\n",
              "</table>\n",
              "</div>"
            ],
            "text/plain": [
              "                                               name_file  ...      Start_Date_hour\n",
              "0  ULBQJ13L2545H7O07M2GVQ24680024AS_2020-09-09_17-33-54_  ...  2020-09-09_17-33-54\n",
              "1  ULBQJ13L2545H7O07M2GVQ2468001LK2_2020-09-03_14-19-53_  ...  2020-09-03_14-19-53\n",
              "\n",
              "[2 rows x 22 columns]"
            ]
          },
          "metadata": {
            "tags": []
          },
          "execution_count": 22
        }
      ]
    },
    {
      "cell_type": "code",
      "metadata": {
        "colab": {
          "base_uri": "https://localhost:8080/"
        },
        "id": "GK5xyhukCpgE",
        "outputId": "9d2d4a97-3c65-4e73-af4c-309daf7d94c7"
      },
      "source": [
        "for i in range(len(df_user)):\r\n",
        "  if df_user.iloc[i, 0] == 'RQ21QO2HST63B28OIE5HQTGBLS002O2F_2020-11-05_15-43-07_':\r\n",
        "    print(df_user.iloc[i, 0])\r\n",
        "    print(i)"
      ],
      "execution_count": 23,
      "outputs": [
        {
          "output_type": "stream",
          "text": [
            "RQ21QO2HST63B28OIE5HQTGBLS002O2F_2020-11-05_15-43-07_\n",
            "2429\n",
            "RQ21QO2HST63B28OIE5HQTGBLS002O2F_2020-11-05_15-43-07_\n",
            "2430\n"
          ],
          "name": "stdout"
        }
      ]
    },
    {
      "cell_type": "code",
      "metadata": {
        "colab": {
          "base_uri": "https://localhost:8080/"
        },
        "id": "kdkDe21sDN5F",
        "outputId": "5b5acda1-820c-4bb0-af82-6788ac1aa34f"
      },
      "source": [
        "print(df_user.iloc[169])\r\n",
        "print(80*\"-\")\r\n",
        "print(df_user.iloc[170])"
      ],
      "execution_count": 24,
      "outputs": [
        {
          "output_type": "stream",
          "text": [
            "name_file                 RQ21QO2HST63B28OIE5HQTGBLS0004K1_2020-09-30_15-06-37_                                                                                                                                                                                                                                                                                                                                                                                       \n",
            "transcripcion              un muy buen día latinas en condesa de ecopetrol en qué le puedo colaborar señor rivera en qué le puedo colaborar con mucho gusto si señor para filial del perdón permítame por favor detrás del área de servicios compartidos de agentes con los que se encargan de realizar este trámite permanezca en la línea por favor inmediato ante lo cual el congo de esta última de la recta real es él compartió personas tengo imbécil con esto \n",
            "speech_ratio              0.903                                                                                                                                                                                                                                                                                                                                                                                                                                       \n",
            "confidance                0.69                                                                                                                                                                                                                                                                                                                                                                                                                                        \n",
            "owner                     agente                                                                                                                                                                                                                                                                                                                                                                                                                                      \n",
            "Mes                       Septiembre                                                                                                                                                                                                                                                                                                                                                                                                                                  \n",
            "GUID_ORIGINAL             RQ21QO2HST63B28OIE5HQTGBLS0004K1                                                                                                                                                                                                                                                                                                                                                                                                            \n",
            "CC                        1.01605e+09                                                                                                                                                                                                                                                                                                                                                                                                                                 \n",
            "DNIS                      6.53236e+06                                                                                                                                                                                                                                                                                                                                                                                                                                 \n",
            "ANI                       3112471537                                                                                                                                                                                                                                                                                                                                                                                                                                  \n",
            "Start Date IXN Res        20200930 10:06:37                                                                                                                                                                                                                                                                                                                                                                                                                           \n",
            "End Date IXN Res          20200930 10:07:29                                                                                                                                                                                                                                                                                                                                                                                                                           \n",
            "IXN ID                    1.66958e+08                                                                                                                                                                                                                                                                                                                                                                                                                                 \n",
            "Tenant Name               Ecopetrol                                                                                                                                                                                                                                                                                                                                                                                                                                   \n",
            "INTERACTION_TYPE          Inbound                                                                                                                                                                                                                                                                                                                                                                                                                                     \n",
            "PLACE_NAME                Ecopetrol_52110                                                                                                                                                                                                                                                                                                                                                                                                                             \n",
            "Last VQ                   VQ_Ecopetrol_INB_Para_Salud                                                                                                                                                                                                                                                                                                                                                                                                                 \n",
            "Agent                     , C Queja Jinneth Constanza Rincon Pineda (jinrinpi) - 1016046663                                                                                                                                                                                                                                                                                                                                                                           \n",
            "Customer Talk Duration    52                                                                                                                                                                                                                                                                                                                                                                                                                                          \n",
            "Engage Duration           0                                                                                                                                                                                                                                                                                                                                                                                                                                           \n",
            "Linea                     Salud                                                                                                                                                                                                                                                                                                                                                                                                                                       \n",
            "Start_Date_hour           2020-09-30_15-06-37                                                                                                                                                                                                                                                                                                                                                                                                                         \n",
            "Name: 171, dtype: object\n",
            "--------------------------------------------------------------------------------\n",
            "name_file                 ULBQJ13L2545H7O07M2GVQ2468001P0M_2020-09-04_15-59-01_                                                                                                                                                                                                                                                                                                                                                                                                                                                                                                                                                                                                                                                                                                                                                                                                                                                                                                                                                                                                                                                                                                                                                                                                                                                                                                                                                                                                                                                                                                                                                                                                                                                                                                                                                                                                                                                                                                                                                                                                                                                                                                                                                                                                                                                                                                                                                                                                                                                                                                                                                                                                                                                                                                                                                                                                                                                                                                                                                                                                                                                                                                                                                                                                                                                                                                                                                                                                                                                                                                                                                                                                                                                                                                                                                                                                                                                                                                                                                                                                                                                                                                                                                                                                                                                                                                                                                                                                                                                                               \n",
            "transcripcion              terminé de alinear personalidad le hace el banco con quién tengo el gusto de hablar muy buenos días en qué le puedo colaborar de los ochenta y cinco cero siete si señor y señora de la buena le comenta entonces en este caso el hijo si lo permiten los órdenes típico los a de los derechos de cada mes o más entonces necesito un formato tres el crédito para diligenciarlo y enviarle entonces a los puedes subir por la plataforma no sé si ustedes están realizando los procesos de integración por más o nos está haciendo directamente a west permite sí señor le escucho bueno no si así que deja la opción de audio completo de todas formas pero hay una opción en vez de escoger el semestre por lo general es la última que hice derechos de gas dentro de cinco días desde el sistema en que estado se encuentra su ermita dos días para el cable de todas formas sé sí con con el año en que a veces no de actos más zonas de entonces en el tipo de solicitud y no sé si este rebelde y parís y de pronto poligonal cuál revisa reconocimiento legalización sí señor  bueno entonces permítame señor le podría enviar un correo con la información para realizarlo desde allí le confirmó al correo electrónico correo no en este caso para derechos de grado se les enseña a otro formato el formato que usted esté de diligencias permítame le le indico es el tres veinte cuatro no éste no éste no es necesario estos cambios del instante no lo dejen irse al hermano de adjunta el recibo de pago de los derechos de grado y no lo envían de vuelta el correo oficina virtual de personas a recuperar pronto como punto cero de señal sí sí señor no habría inconveniente con tal que no no serías como sobrepuesta la firma de emma y por hacernos dos preguntas nos proporciona tres minutos y puede estar al pendiente de su correo electrónico que me indique si los residentes del coste por usted señor no dos días y no sé si usted pálido correas llegó la información y le llegó el correo con la información al correo con buena activo de la reina punto monroe qué haces que me indique si si el efecto orden clases dominicales de pico si sabés lo que es una de las once y cinco de la mañana a su correcto ross por activos y salió del concorde que ofrece información y rena mon ron el ron es de plantas tocancipá los contactos que pronto actualizadas over en correos no deseados por el controvertido realizar instrucción presidencial del que pende del sistema que no parece el título de en el concierto trece delegados buenos intérpretes de el cristo están navegando momento por qué se fue de una acción en la parte superior de  enviar recibir y que es opcional y una opción de actualizar carpeta a bueno perfecto sí señora entonces que el indicador de formato para esta solicitud al mismo tiempo deben enterrarlo con certificación de león hacia los derechos de grado y recibe que usted lo cancelo y no nos dejes con este que es el tres veinte cuatro conos buenas y que corre del publicista éste es sí y no lo enviara correo oficina virtual del personal arrobe completos junto con puntos ciegos señor oficial de personal de compuestos punto completo creo que en este e p consta de diez entre ciento cuarenta y ocho básicamente están de pie la matrícula ordinarios y los cortos y además del formato que yo le envié el formato tres veinticuatro cuando usted lo elige a él le dice el concepto entonces estás contacto de derechos derivados mina y coloca el concilio el valor en sí reconocimiento reconocimiento de derechos de grabado sí señora intente pues ya entró el correo del cuerpo el correco consulta es kathy nombre estuvo tu registro de solicitud entonces los derechos de grado del que ya hizo de sillas contra la documentación enseña todo el el proceso si señor y si tienen la certificación del acta de juntar este formato ciento cuarenta y ocho si lo desea ya que si no mando termas sí señor si desea puedo contarlo no hay problema bueno yo no no hay les coloca en estanques derechos de sí señor sí señor electos el nombre ti señor krishna el titular en las tardes si señor si señor en orden con sí señor y si la tienes no hay problema bueno perfecto sí no hay problema recuerde estoy llama yo la dejo registra con número trece veintiséis treinta y seis tres que es el mismo cree allí entró el correo bueno y si no lo hacen los traseros por calificó la tensión entre jóvenes  tarde está bien \n",
            "speech_ratio              0.913                                                                                                                                                                                                                                                                                                                                                                                                                                                                                                                                                                                                                                                                                                                                                                                                                                                                                                                                                                                                                                                                                                                                                                                                                                                                                                                                                                                                                                                                                                                                                                                                                                                                                                                                                                                                                                                                                                                                                                                                                                                                                                                                                                                                                                                                                                                                                                                                                                                                                                                                                                                                                                                                                                                                                                                                                                                                                                                                                                                                                                                                                                                                                                                                                                                                                                                                                                                                                                                                                                                                                                                                                                                                                                                                                                                                                                                                                                                                                                                                                                                                                                                                                                                                                                                                                                                                                                                                                                                                                                                               \n",
            "confidance                0.615                                                                                                                                                                                                                                                                                                                                                                                                                                                                                                                                                                                                                                                                                                                                                                                                                                                                                                                                                                                                                                                                                                                                                                                                                                                                                                                                                                                                                                                                                                                                                                                                                                                                                                                                                                                                                                                                                                                                                                                                                                                                                                                                                                                                                                                                                                                                                                                                                                                                                                                                                                                                                                                                                                                                                                                                                                                                                                                                                                                                                                                                                                                                                                                                                                                                                                                                                                                                                                                                                                                                                                                                                                                                                                                                                                                                                                                                                                                                                                                                                                                                                                                                                                                                                                                                                                                                                                                                                                                                                                                               \n",
            "owner                     agente                                                                                                                                                                                                                                                                                                                                                                                                                                                                                                                                                                                                                                                                                                                                                                                                                                                                                                                                                                                                                                                                                                                                                                                                                                                                                                                                                                                                                                                                                                                                                                                                                                                                                                                                                                                                                                                                                                                                                                                                                                                                                                                                                                                                                                                                                                                                                                                                                                                                                                                                                                                                                                                                                                                                                                                                                                                                                                                                                                                                                                                                                                                                                                                                                                                                                                                                                                                                                                                                                                                                                                                                                                                                                                                                                                                                                                                                                                                                                                                                                                                                                                                                                                                                                                                                                                                                                                                                                                                                                                                              \n",
            "Mes                       Septiembre                                                                                                                                                                                                                                                                                                                                                                                                                                                                                                                                                                                                                                                                                                                                                                                                                                                                                                                                                                                                                                                                                                                                                                                                                                                                                                                                                                                                                                                                                                                                                                                                                                                                                                                                                                                                                                                                                                                                                                                                                                                                                                                                                                                                                                                                                                                                                                                                                                                                                                                                                                                                                                                                                                                                                                                                                                                                                                                                                                                                                                                                                                                                                                                                                                                                                                                                                                                                                                                                                                                                                                                                                                                                                                                                                                                                                                                                                                                                                                                                                                                                                                                                                                                                                                                                                                                                                                                                                                                                                                                          \n",
            "GUID_ORIGINAL             ULBQJ13L2545H7O07M2GVQ2468001P0M                                                                                                                                                                                                                                                                                                                                                                                                                                                                                                                                                                                                                                                                                                                                                                                                                                                                                                                                                                                                                                                                                                                                                                                                                                                                                                                                                                                                                                                                                                                                                                                                                                                                                                                                                                                                                                                                                                                                                                                                                                                                                                                                                                                                                                                                                                                                                                                                                                                                                                                                                                                                                                                                                                                                                                                                                                                                                                                                                                                                                                                                                                                                                                                                                                                                                                                                                                                                                                                                                                                                                                                                                                                                                                                                                                                                                                                                                                                                                                                                                                                                                                                                                                                                                                                                                                                                                                                                                                                                                                    \n",
            "CC                        8.02486e+07                                                                                                                                                                                                                                                                                                                                                                                                                                                                                                                                                                                                                                                                                                                                                                                                                                                                                                                                                                                                                                                                                                                                                                                                                                                                                                                                                                                                                                                                                                                                                                                                                                                                                                                                                                                                                                                                                                                                                                                                                                                                                                                                                                                                                                                                                                                                                                                                                                                                                                                                                                                                                                                                                                                                                                                                                                                                                                                                                                                                                                                                                                                                                                                                                                                                                                                                                                                                                                                                                                                                                                                                                                                                                                                                                                                                                                                                                                                                                                                                                                                                                                                                                                                                                                                                                                                                                                                                                                                                                                                         \n",
            "DNIS                      28400                                                                                                                                                                                                                                                                                                                                                                                                                                                                                                                                                                                                                                                                                                                                                                                                                                                                                                                                                                                                                                                                                                                                                                                                                                                                                                                                                                                                                                                                                                                                                                                                                                                                                                                                                                                                                                                                                                                                                                                                                                                                                                                                                                                                                                                                                                                                                                                                                                                                                                                                                                                                                                                                                                                                                                                                                                                                                                                                                                                                                                                                                                                                                                                                                                                                                                                                                                                                                                                                                                                                                                                                                                                                                                                                                                                                                                                                                                                                                                                                                                                                                                                                                                                                                                                                                                                                                                                                                                                                                                                               \n",
            "ANI                       033112632252                                                                                                                                                                                                                                                                                                                                                                                                                                                                                                                                                                                                                                                                                                                                                                                                                                                                                                                                                                                                                                                                                                                                                                                                                                                                                                                                                                                                                                                                                                                                                                                                                                                                                                                                                                                                                                                                                                                                                                                                                                                                                                                                                                                                                                                                                                                                                                                                                                                                                                                                                                                                                                                                                                                                                                                                                                                                                                                                                                                                                                                                                                                                                                                                                                                                                                                                                                                                                                                                                                                                                                                                                                                                                                                                                                                                                                                                                                                                                                                                                                                                                                                                                                                                                                                                                                                                                                                                                                                                                                                        \n",
            "Start Date IXN Res        20200904 10:59:01                                                                                                                                                                                                                                                                                                                                                                                                                                                                                                                                                                                                                                                                                                                                                                                                                                                                                                                                                                                                                                                                                                                                                                                                                                                                                                                                                                                                                                                                                                                                                                                                                                                                                                                                                                                                                                                                                                                                                                                                                                                                                                                                                                                                                                                                                                                                                                                                                                                                                                                                                                                                                                                                                                                                                                                                                                                                                                                                                                                                                                                                                                                                                                                                                                                                                                                                                                                                                                                                                                                                                                                                                                                                                                                                                                                                                                                                                                                                                                                                                                                                                                                                                                                                                                                                                                                                                                                                                                                                                                                   \n",
            "End Date IXN Res          20200904 11:14:25                                                                                                                                                                                                                                                                                                                                                                                                                                                                                                                                                                                                                                                                                                                                                                                                                                                                                                                                                                                                                                                                                                                                                                                                                                                                                                                                                                                                                                                                                                                                                                                                                                                                                                                                                                                                                                                                                                                                                                                                                                                                                                                                                                                                                                                                                                                                                                                                                                                                                                                                                                                                                                                                                                                                                                                                                                                                                                                                                                                                                                                                                                                                                                                                                                                                                                                                                                                                                                                                                                                                                                                                                                                                                                                                                                                                                                                                                                                                                                                                                                                                                                                                                                                                                                                                                                                                                                                                                                                                                                                   \n",
            "IXN ID                    1.58883e+08                                                                                                                                                                                                                                                                                                                                                                                                                                                                                                                                                                                                                                                                                                                                                                                                                                                                                                                                                                                                                                                                                                                                                                                                                                                                                                                                                                                                                                                                                                                                                                                                                                                                                                                                                                                                                                                                                                                                                                                                                                                                                                                                                                                                                                                                                                                                                                                                                                                                                                                                                                                                                                                                                                                                                                                                                                                                                                                                                                                                                                                                                                                                                                                                                                                                                                                                                                                                                                                                                                                                                                                                                                                                                                                                                                                                                                                                                                                                                                                                                                                                                                                                                                                                                                                                                                                                                                                                                                                                                                                         \n",
            "Tenant Name               Ecopetrol                                                                                                                                                                                                                                                                                                                                                                                                                                                                                                                                                                                                                                                                                                                                                                                                                                                                                                                                                                                                                                                                                                                                                                                                                                                                                                                                                                                                                                                                                                                                                                                                                                                                                                                                                                                                                                                                                                                                                                                                                                                                                                                                                                                                                                                                                                                                                                                                                                                                                                                                                                                                                                                                                                                                                                                                                                                                                                                                                                                                                                                                                                                                                                                                                                                                                                                                                                                                                                                                                                                                                                                                                                                                                                                                                                                                                                                                                                                                                                                                                                                                                                                                                                                                                                                                                                                                                                                                                                                                                                                           \n",
            "INTERACTION_TYPE          Inbound                                                                                                                                                                                                                                                                                                                                                                                                                                                                                                                                                                                                                                                                                                                                                                                                                                                                                                                                                                                                                                                                                                                                                                                                                                                                                                                                                                                                                                                                                                                                                                                                                                                                                                                                                                                                                                                                                                                                                                                                                                                                                                                                                                                                                                                                                                                                                                                                                                                                                                                                                                                                                                                                                                                                                                                                                                                                                                                                                                                                                                                                                                                                                                                                                                                                                                                                                                                                                                                                                                                                                                                                                                                                                                                                                                                                                                                                                                                                                                                                                                                                                                                                                                                                                                                                                                                                                                                                                                                                                                                             \n",
            "PLACE_NAME                Ecopetrol_52053                                                                                                                                                                                                                                                                                                                                                                                                                                                                                                                                                                                                                                                                                                                                                                                                                                                                                                                                                                                                                                                                                                                                                                                                                                                                                                                                                                                                                                                                                                                                                                                                                                                                                                                                                                                                                                                                                                                                                                                                                                                                                                                                                                                                                                                                                                                                                                                                                                                                                                                                                                                                                                                                                                                                                                                                                                                                                                                                                                                                                                                                                                                                                                                                                                                                                                                                                                                                                                                                                                                                                                                                                                                                                                                                                                                                                                                                                                                                                                                                                                                                                                                                                                                                                                                                                                                                                                                                                                                                                                                     \n",
            "Last VQ                   VQ_Ecopetrol_INB_Para_Personal                                                                                                                                                                                                                                                                                                                                                                                                                                                                                                                                                                                                                                                                                                                                                                                                                                                                                                                                                                                                                                                                                                                                                                                                                                                                                                                                                                                                                                                                                                                                                                                                                                                                                                                                                                                                                                                                                                                                                                                                                                                                                                                                                                                                                                                                                                                                                                                                                                                                                                                                                                                                                                                                                                                                                                                                                                                                                                                                                                                                                                                                                                                                                                                                                                                                                                                                                                                                                                                                                                                                                                                                                                                                                                                                                                                                                                                                                                                                                                                                                                                                                                                                                                                                                                                                                                                                                                                                                                                                                                      \n",
            "Agent                     , C Persn Edwar Mauricio Cruz (edwmaucr) - 80248594                                                                                                                                                                                                                                                                                                                                                                                                                                                                                                                                                                                                                                                                                                                                                                                                                                                                                                                                                                                                                                                                                                                                                                                                                                                                                                                                                                                                                                                                                                                                                                                                                                                                                                                                                                                                                                                                                                                                                                                                                                                                                                                                                                                                                                                                                                                                                                                                                                                                                                                                                                                                                                                                                                                                                                                                                                                                                                                                                                                                                                                                                                                                                                                                                                                                                                                                                                                                                                                                                                                                                                                                                                                                                                                                                                                                                                                                                                                                                                                                                                                                                                                                                                                                                                                                                                                                                                                                                                                                                 \n",
            "Customer Talk Duration    760                                                                                                                                                                                                                                                                                                                                                                                                                                                                                                                                                                                                                                                                                                                                                                                                                                                                                                                                                                                                                                                                                                                                                                                                                                                                                                                                                                                                                                                                                                                                                                                                                                                                                                                                                                                                                                                                                                                                                                                                                                                                                                                                                                                                                                                                                                                                                                                                                                                                                                                                                                                                                                                                                                                                                                                                                                                                                                                                                                                                                                                                                                                                                                                                                                                                                                                                                                                                                                                                                                                                                                                                                                                                                                                                                                                                                                                                                                                                                                                                                                                                                                                                                                                                                                                                                                                                                                                                                                                                                                                                 \n",
            "Engage Duration           0                                                                                                                                                                                                                                                                                                                                                                                                                                                                                                                                                                                                                                                                                                                                                                                                                                                                                                                                                                                                                                                                                                                                                                                                                                                                                                                                                                                                                                                                                                                                                                                                                                                                                                                                                                                                                                                                                                                                                                                                                                                                                                                                                                                                                                                                                                                                                                                                                                                                                                                                                                                                                                                                                                                                                                                                                                                                                                                                                                                                                                                                                                                                                                                                                                                                                                                                                                                                                                                                                                                                                                                                                                                                                                                                                                                                                                                                                                                                                                                                                                                                                                                                                                                                                                                                                                                                                                                                                                                                                                                                   \n",
            "Linea                     Personal                                                                                                                                                                                                                                                                                                                                                                                                                                                                                                                                                                                                                                                                                                                                                                                                                                                                                                                                                                                                                                                                                                                                                                                                                                                                                                                                                                                                                                                                                                                                                                                                                                                                                                                                                                                                                                                                                                                                                                                                                                                                                                                                                                                                                                                                                                                                                                                                                                                                                                                                                                                                                                                                                                                                                                                                                                                                                                                                                                                                                                                                                                                                                                                                                                                                                                                                                                                                                                                                                                                                                                                                                                                                                                                                                                                                                                                                                                                                                                                                                                                                                                                                                                                                                                                                                                                                                                                                                                                                                                                            \n",
            "Start_Date_hour           2020-09-04_15-59-01                                                                                                                                                                                                                                                                                                                                                                                                                                                                                                                                                                                                                                                                                                                                                                                                                                                                                                                                                                                                                                                                                                                                                                                                                                                                                                                                                                                                                                                                                                                                                                                                                                                                                                                                                                                                                                                                                                                                                                                                                                                                                                                                                                                                                                                                                                                                                                                                                                                                                                                                                                                                                                                                                                                                                                                                                                                                                                                                                                                                                                                                                                                                                                                                                                                                                                                                                                                                                                                                                                                                                                                                                                                                                                                                                                                                                                                                                                                                                                                                                                                                                                                                                                                                                                                                                                                                                                                                                                                                                                                 \n",
            "Name: 173, dtype: object\n"
          ],
          "name": "stdout"
        }
      ]
    },
    {
      "cell_type": "code",
      "metadata": {
        "colab": {
          "base_uri": "https://localhost:8080/"
        },
        "id": "jMWUIUB1CDZH",
        "outputId": "bf784ae8-a73e-4754-9b93-272eefb9617a"
      },
      "source": [
        "len(df_user)"
      ],
      "execution_count": 25,
      "outputs": [
        {
          "output_type": "execute_result",
          "data": {
            "text/plain": [
              "3373"
            ]
          },
          "metadata": {
            "tags": []
          },
          "execution_count": 25
        }
      ]
    },
    {
      "cell_type": "markdown",
      "metadata": {
        "id": "AUOaCGahlScz"
      },
      "source": [
        "Division del daframe Agente y usuario"
      ]
    },
    {
      "cell_type": "code",
      "metadata": {
        "colab": {
          "base_uri": "https://localhost:8080/"
        },
        "id": "JZ-04VWwmEaF",
        "outputId": "a1c16d3e-d51d-4f23-ba34-06f4520c5500"
      },
      "source": [
        "df_agent=df_user[df_user.owner=='agente']\r\n",
        "df_user=df_user[df_user.owner=='usuario']\r\n",
        "df_user= df_user.reset_index(drop=True)\r\n",
        "print('dimensionalidad agente:', df_agent.shape)\r\n",
        "print('dimensionalidad usuario:', df_user.shape)"
      ],
      "execution_count": 26,
      "outputs": [
        {
          "output_type": "stream",
          "text": [
            "dimensionalidad agente: (1714, 22)\n",
            "dimensionalidad usuario: (1659, 22)\n"
          ],
          "name": "stdout"
        }
      ]
    },
    {
      "cell_type": "code",
      "metadata": {
        "id": "UQeeVF7yPd8n"
      },
      "source": [
        "df_user_copy = df_user.copy()\r\n",
        "df_agent_copy = df_agent.copy()"
      ],
      "execution_count": 27,
      "outputs": []
    },
    {
      "cell_type": "markdown",
      "metadata": {
        "id": "MYIR3sVG2j3W"
      },
      "source": [
        "Creacion de variables para detectar atipicos\n"
      ]
    },
    {
      "cell_type": "code",
      "metadata": {
        "id": "InqLz04z2rHq"
      },
      "source": [
        "df_agent['len_trans']=df_agent['transcripcion'].apply(lambda x: len(x))\n",
        "df_user['len_trans']=df_user['transcripcion'].apply(lambda x: len(x))"
      ],
      "execution_count": 28,
      "outputs": []
    },
    {
      "cell_type": "markdown",
      "metadata": {
        "id": "8eGK4nY24eGY"
      },
      "source": [
        "Funcion global para la frecuencia de las palabras y polaridad de sentimientos"
      ]
    },
    {
      "cell_type": "code",
      "metadata": {
        "id": "U5Gkvq-r4iXc"
      },
      "source": [
        "def plot_10_most_common_words(count_data, count_vectorizer):\n",
        "   #Grafico de frecuencias\n",
        "    words = count_vectorizer.get_feature_names()\n",
        "    total_counts = np.zeros(len(words))\n",
        "    for t in count_data:\n",
        "        total_counts+=t.toarray()[0]\n",
        "    \n",
        "    count_dict = (zip(words, total_counts))\n",
        "    count_dict = sorted(count_dict, key=lambda x:x[1], reverse=True)[0:30]\n",
        "    words = [w[0] for w in count_dict]\n",
        "    counts = [w[1] for w in count_dict]\n",
        "    x_pos = np.arange(len(words)) \n",
        "    \n",
        "    fig = px.bar( x=words, y=counts, color_discrete_sequence=[\"darkgreen\",\"gold\",\"yellowgreen\"], title='TÉRMINOS MÁS COMUNES EN:'+' '+segmento,  labels=dict(x=\"Palabra Clave\", y=\"Frecuencia\", color=\"Place\")) #COLORES DE ECOPETROL, PUEDES VARIAR LOS COLORES\n",
        "    fig.write_html(segmento+\"_.html\")\n",
        "    fig.show()\n",
        "\n",
        "#Puntuadora de sentimientos\n",
        "def polaridad(x): return np.nan if str(x) == '' else clf.predict(x)\n",
        "\n",
        "#Ajustador de vocabulario\n",
        "def adjustment_all(text, dic):\n",
        "    for i, j in dic.items():\n",
        "        text = text.replace(i, j)\n",
        "    return text\n",
        "\n",
        "def get_sentiment(model,text):\n",
        "    text = clean_text(text)\n",
        "    #tokenize\n",
        "    twt = token.texts_to_sequences([text])\n",
        "    twt = sequence.pad_sequences(twt, maxlen=max_len, dtype='int32')\n",
        "    sentiment = model.predict(twt,batch_size=1,verbose = 2)\n",
        "    sent = np.round(np.dot(sentiment,100).tolist(),0)[0]\n",
        "    result = pd.DataFrame([sent_to_id.keys(),sent]).T\n",
        "    result.columns = [\"sentiment\",\"percentage\"]\n",
        "    result=result[result.percentage !=0]\n",
        "    return result\n",
        "\n",
        "\n",
        "def plot_result(df, segment):\n",
        "    #colors=['#D50000','#000000','#008EF8','#F5B27B','#EDECEC','#D84A09','#019BBD','#FFD000','#7800A0','#098F45','#807C7C','#85DDE9','#F55E10']\n",
        "    #fig = go.Figure(data=[go.Pie(labels=df.sentiment,values=df.percentage, hole=.3,textinfo='percent',hoverinfo='percent+label',marker=dict(colors=colors, line=dict(color='#000000', width=2)))])\n",
        "    #fig.show()\n",
        "    colors={'amor':'rgb(213,0,0)','vacio':'rgb(0,0,0)',\n",
        "                    'incertidumbre':'rgb(0,142,248)','entusiasmo':'rgb(245,178,123)',\n",
        "                    'neutral':'rgb(237,236,236)','preocupación':'rgb(216,74,9)',\n",
        "                    'sorpresa':'rgb(1,155,189)','diversión':'rgb(255,208,0)',\n",
        "                    'odio':'rgb(120,0,160)','felicidad':'rgb(9,143,69)',\n",
        "                    'desinterés':'rgb(128,124,124)','alivio':'rgb(133,221,233)',\n",
        "                    'enojo':'rgb(245,94,16)',\n",
        "                    'disfrute': 'rgb(141,235,59)',\n",
        "                    'miedo': 'rgb(235,59,217)'\n",
        "            }\n",
        "    col_2={}\n",
        "    for i in df.sentiment.to_list():\n",
        "        col_2[i]=colors[i]\n",
        "    fig = px.pie(df,values='percentage', names='sentiment',color='sentiment',color_discrete_map=col_2,hole=0.3,title=segment,)\n",
        "    fig.show()\n",
        "    fig.write_html(segment+\"_emotion.html\")"
      ],
      "execution_count": 29,
      "outputs": []
    },
    {
      "cell_type": "markdown",
      "metadata": {
        "id": "3x6c1cCEctzR"
      },
      "source": [
        "**PARA DETECTAR LAS EMOCIONES SIEMPRE SE DEBE CORRER LAS SIGUIENTES LINEAS:**"
      ]
    },
    {
      "cell_type": "markdown",
      "metadata": {
        "id": "9gt3i36V0tKy"
      },
      "source": [
        "#LSTM FOR EMOTION EXTRACTION"
      ]
    },
    {
      "cell_type": "markdown",
      "metadata": {
        "id": "whT5HCnhnQMb"
      },
      "source": [
        "En esta sección se explicará como se elaboró el modelo para la extracción de emociones de las conversaciones de los usuarios. Todos los dataset empleados están en inglés. El modelo puede elaborarse o modificarse si se logra encontrar un dataset con la clasificación de las emociones en español. También podemos mejorar el modelo corriendo con emmbedings entrenados, como word2vec u otros. El modelo ya se encuentra guardado y puede ser empleado en cualquier momento, sin embargo, si se quiere modificar el modelo, algún parámetros se iene que volver a correr y guardarlo en formato que tensor flow pueda reconocer después."
      ]
    },
    {
      "cell_type": "markdown",
      "metadata": {
        "id": "fsKPrjLunLiC"
      },
      "source": [
        "**Carga de los datos para el train**"
      ]
    },
    {
      "cell_type": "code",
      "metadata": {
        "id": "1hs1EAwO0vyK"
      },
      "source": [
        "data = pd.read_csv(\"/content/drive/MyDrive/data/ABPS/NPL_Ecopetrol/emotion_analysis/text_emotion.csv\")\n",
        "data0=pd.read_csv(\"/content/drive/My Drive/data/ABPS/NPL_Ecopetrol/emotion_analysis/train.txt\", sep=';',names=[\"content\",\"sentiment\"])\n"
      ],
      "execution_count": 30,
      "outputs": []
    },
    {
      "cell_type": "code",
      "metadata": {
        "id": "wuQe1mRU00Rt"
      },
      "source": [
        "#Unión de los dataframes\n",
        "data=data[['content','sentiment']]\n",
        "data0=data0[['content','sentiment']]\n",
        "data=pd.concat([data, data0],axis=0)\n",
        "data.reset_index(inplace=True)"
      ],
      "execution_count": 31,
      "outputs": []
    },
    {
      "cell_type": "code",
      "metadata": {
        "id": "Mj8s5YZd068i",
        "colab": {
          "base_uri": "https://localhost:8080/"
        },
        "outputId": "03bcfd76-071c-4252-c2fb-8cc73d4f4b95"
      },
      "source": [
        "#Corregir errores de tipografía,\n",
        "misspell_data = pd.read_csv(\"/content/drive/My Drive/data/ABPS/NPL_Ecopetrol/emotion_analysis/spell.txt\",sep=\":\",names=[\"correction\",\"misspell\"])\n",
        "misspell_data.misspell = misspell_data.misspell.str.strip()\n",
        "misspell_data.misspell = misspell_data.misspell.str.split(\" \")\n",
        "misspell_data = misspell_data.explode(\"misspell\").reset_index(drop=True)\n",
        "misspell_data.drop_duplicates(\"misspell\",inplace=True)\n",
        "miss_corr = dict(zip(misspell_data.misspell, misspell_data.correction))\n",
        "\n",
        "#Sample of the dict\n",
        "{v:miss_corr[v] for v in [list(miss_corr.keys())[k] for k in range(20)]}"
      ],
      "execution_count": 32,
      "outputs": [
        {
          "output_type": "execute_result",
          "data": {
            "text/plain": [
              "{'Steffen': 'Stephen',\n",
              " 'abilitey': 'ability',\n",
              " 'abouy': 'about',\n",
              " 'absorbtion': 'absorption',\n",
              " 'accidently': 'accidentally',\n",
              " 'accomodate': 'accommodate',\n",
              " 'acommadate': 'accommodate',\n",
              " 'acord': 'accord',\n",
              " 'adultry': 'adultery',\n",
              " 'aggresive': 'aggressive',\n",
              " 'alchohol': 'alcohol',\n",
              " 'alchoholic': 'alcoholic',\n",
              " 'allieve': 'alive',\n",
              " 'alright': 'all_right',\n",
              " 'aquantance': 'acquaintance',\n",
              " 'equire': 'acquire',\n",
              " 'nevade': 'Nevada',\n",
              " 'presbyterian': 'Presbyterian',\n",
              " 'rsx': 'RSX',\n",
              " 'susan': 'Susan'}"
            ]
          },
          "metadata": {
            "tags": []
          },
          "execution_count": 32
        }
      ]
    },
    {
      "cell_type": "code",
      "metadata": {
        "id": "Vrl4eSt40__u"
      },
      "source": [
        "def misspelled_correction(val):\n",
        "  #Función que corrige los errores de tipografía\n",
        "    for x in val.split(): \n",
        "        if x in miss_corr.keys(): \n",
        "            val = val.replace(x, miss_corr[x]) \n",
        "    return val"
      ],
      "execution_count": 33,
      "outputs": []
    },
    {
      "cell_type": "code",
      "metadata": {
        "id": "7OdtWA891Feg"
      },
      "source": [
        "data[\"clean_content\"] = data.content.apply(lambda x : misspelled_correction(x))"
      ],
      "execution_count": 34,
      "outputs": []
    },
    {
      "cell_type": "code",
      "metadata": {
        "id": "WAwqhilC1GBE"
      },
      "source": [
        "#Contractions, Dataset que contiene las contracciones típicas del inglés lo cargamos para eliminar este\n",
        "#tipo de escritura en el texto en inglés\n",
        "contractions = pd.read_csv(\"/content/drive/My Drive/data/ABPS/NPL_Ecopetrol/emotion_analysis/datasets_contractions.csv\")\n",
        "cont_dic = dict(zip(contractions.Contraction, contractions.Meaning))"
      ],
      "execution_count": 35,
      "outputs": []
    },
    {
      "cell_type": "code",
      "metadata": {
        "id": "6f5f-6Xu1Ike"
      },
      "source": [
        "def cont_to_meaning(val): \n",
        "  #Función que retira las contracciones en el texto (Inglés)\n",
        "    for x in val.split(): \n",
        "        if x in cont_dic.keys(): \n",
        "            val = val.replace(x, cont_dic[x]) \n",
        "    return val"
      ],
      "execution_count": 36,
      "outputs": []
    },
    {
      "cell_type": "code",
      "metadata": {
        "id": "ZOyE253L1MTe"
      },
      "source": [
        "data.clean_content = data.clean_content.apply(lambda x : cont_to_meaning(x))\n",
        "data[\"clean_content\"]=data.content.apply(lambda x : p.clean(x))"
      ],
      "execution_count": 37,
      "outputs": []
    },
    {
      "cell_type": "code",
      "metadata": {
        "id": "-RCropYb1OVr"
      },
      "source": [
        "#Puntuaction \n",
        "def punctuation(val): \n",
        "  #Función que remueve otro titpo de puntuaciones y simbolos\n",
        "    punctuations = '''()-[]{};:'\"\\,<>./@#$%^&_~'''\n",
        "  \n",
        "    for x in val.lower(): \n",
        "        if x in punctuations: \n",
        "            val = val.replace(x, \" \") \n",
        "    return val"
      ],
      "execution_count": 38,
      "outputs": []
    },
    {
      "cell_type": "markdown",
      "metadata": {
        "id": "RS_RYz3Ql7Pj"
      },
      "source": [
        "#Limpieza de los audios"
      ]
    },
    {
      "cell_type": "markdown",
      "metadata": {
        "id": "RO-hOcvbrz5W"
      },
      "source": [
        "En esta sección se realiza una limpieza general de los audios, eliminar stop words generales como nombres apellidos, números, preposiociones y demás."
      ]
    },
    {
      "cell_type": "code",
      "metadata": {
        "id": "EmSvDThhrQwW"
      },
      "source": [
        "STOP_WORDS1=[]\n",
        "for i in STOP_WORDS:\n",
        "  a=elimina_tildes(i)\n",
        "  STOP_WORDS1.append(i)"
      ],
      "execution_count": 39,
      "outputs": []
    },
    {
      "cell_type": "markdown",
      "metadata": {
        "id": "phtxceVKretd"
      },
      "source": [
        "Definicion Stop words_globales"
      ]
    },
    {
      "cell_type": "markdown",
      "metadata": {
        "id": "jpwUrwEk0an_"
      },
      "source": [
        "Nombres"
      ]
    },
    {
      "cell_type": "code",
      "metadata": {
        "id": "btfCjCGkrisZ"
      },
      "source": [
        "a_name = ['aarn','aaron','abad','abadia','abadiano','abalo','abaunza','abbigail','abdias','abdubal','abdul','abdulio','abel','abelanid','abelardo','abella','abello','abigail','abimel','abogados','abonce','abondano','abraham','abrahan','abreo','absalon','ac','acalo','accion','acciones','acebedo','acebo','acened','acenet','aceneth','acero','acevedo','acevedoq','achicanoy','achinte','achipiz','achly','acosta','acuña','ada','adaine','adalberto','adalena','adalgisa','adalgiza','adalia','adaluz','adames','adan','adarbe','adarve','adda','adecco','adecio','adel','adela','adelaida','adelayda','adelcia','adelfa','adelina','adelinda','adelmo','adelsaina','ademir','adey','adiel','adiela','adila','adisson','admiautos','administracion','administraciones','administradora','adnelice','adolfo','adonis','adoracion','adrada','adrian','adrian','adriana','adriana','adriano','aduanas','afanador','agatha','agaton','agencia','agnelio','agrace','agraces','agrada','agreda','agredo','agregado','agricolas','agricolas','agron','agropecuaria','aguacia','aguado','agualimpia','aguas','aguayo','agudelo','agueda','aguelo','aguiar','aguilar','aguilera','aguillon','aguinaga','aguiño','aguirre','agustin','agustina','agusto','ahedo','ahumada','aiba','aicardo','aicedo','aida','aidaly','aide','aidee','aidy','aily','ailyn','aimer','aimy','ainosas','airlyng','aissa','aitana','aiza','aizmeth','ala','alaba','aladino','alaguna','alaia','alain','alan','alana','alarcon','alarcon','alava','alba','alban','albaran','albaro','albarracin','albear','albeir','albeiro','albert','alberta','alberto','albery','albey','albino','albornoz','alcalde','alcaldia','alcaldia','alcaraz','alcazar','alcibiades','alcides','alcira','alda','aldana','aldarriaga','aldemar','alderete','alderis','aldery','aldineber','alean','alechor','alegria','alegria','alegrias','aleiber','aleicy','aleida','alejandra','alejandrina','alejandro','alejjandro','alejnadro','aleman','alemesa','alencia','ales','alessandra','alex','alexa','alexander','alexandra','alexandre','alexei','alexi','alexis','alexy','aleyda','aleyi','alezander','alfa','alfaro','alferez','alfonso','alfredo','ali','alia','alianza','alicia','alicio','alicua','alida','alimentarias','alimentos','alina','alinton','aliria','alirio','alis','alisa','alisamar','alison','alisson','alix','aliz','aljadi','aljure','allison','allisson','alliver','alma','almanza','almario','almeida','almendra','almendres','almendrez','alnoimer','alomia','alondra','alonso','alos','alpaca','alpala','alquedan','alquive','alsate','altamar','altamirano','altura','alulema','aluminio','alva','alvarado','alvaran','alvarez','alvarez','alvaro','alvear','alvedia','alveiro','alvenis','alves','alviar','alvis','alviz','alyn','alysson','alzamora','alzate','alzle','ama','amada','amadeo','amado','amador','amaia','amalci','amalf','amalfi','amalfy','amalia','amall','amancio','amanda','amarfi','amariles','amaris','amaury','amaya','amazo','ambuila','ambuz','amelia','amelie','amer','america','americo','amezquita','amibia','amilcar','amilvia','amin','amina','aminta','amira','amor','amorocho','amortegui','amortiteca','amparo','ampudia','amu','amy','ana','ana|','anabeiba','anabeiva','anabel','anabela','anabolena','anacona','anahi','anahia','anaibe','anali','analida','analy','anatalia','anavela','anaya','anayaeli','anayibe','anayiber','anchico','ancizar','and','ander','anderson','andersson','andica','andrade','andre','andrea','andreina','andres','andres','andrew','andrey','andry','anduquia','andy','anely','anganoy','angarita','angel','angel','angela','angeles','angeli','angeli','angelica','angelica','angelik','angelina','angeline','angelino','angello','angelly','angelo','angely','angge','anggy','angi','angie','angiee','angisay','angola','angrino','angucho','angulo','angy','anibal','anidisney','anirley','anita','anjie','anllely','anlly','anna','anni','annie','annirley','anny','anonio','anrrango','ante','antero','anthonella','anthony','antia','antidio','antimo','antolinez','antonella','antoni','antonia','antonieta','antonio','antony','antuan','anturi','anuar','anyel','anyela','anyeli','anyella','anyelli','anyelo','anyely','anyi','anyuri','anzola','añasco','apache','aparicio','apellidos','apolinar','apolinaria','apolindar','aponte','aponza','apostol','apraez','aptos','aqueli','aquilina','ara','araceli','aracelly','aracely','aragon','aragon','aramburo','araminta','arana','aranda','arandia','arando','aranelly','arango','aranguren','arantxa','aranza','aranzazu','araque','arara','ararat','arasmith','araujo','arbeiro','arbelaez','arbey','arboleda','arcadio','arce','arcelia','arcelio','arcenio','arces','arcesio','arcila','arcini','arciniega','arciniegas','arcira','arcley','arcon','arcos','ardila','aredondo','areiza','arelis','arellano','arena','arenales','arenas','arevalo','argelia','argemiro','argenis','argenys','argenzola','argermiro','argidia','argote','argoti','argotte','argoty','arguello','ariadna','ariana','ariane','arias','aricapa','aricia','ariel','ariela','aris','arismendi','arismendy','arist','aristides','aristizabal','aristizabal','aristobulo','ariza','arizabalate','arizabaleta','arizala','arizmendi','ariztizabal','arlency','arleny','arles','arlesa','arlex','arley','arlony','arly','armando','armenia','armero','armida','arnedo','arnobia','arnobio','arnoby','arnoldo','arnolfo','arnolia','arnoris','arnory','arnubia','arnulfo','aroca','arocemena','arosa','arosemena','arpesod','arquimedes','arrechea','arredondo','arrerondo','arriaga','arrias','arriero','arrieta','arris','arrollo','arroyabe','arroyave','arroyo','arrubia','arrubla','arsayus','arsecio','arsenio','arsesio','arteaga','artemio','artemo','artiaga','artunduaga','arturo','arvey','ary','arzayus','arzayuz','asbeidy','ascanio','ascencio','asceneth','ascension','ascuntar','asdrubal','asencion','aseneth','aseo','asesorias','ashley','ashli','ashlly','ashly','asis','aslan','asly','asmed','asmucol','asnoraldo','asociacion','asociados','asprilla','astaiza','astañeda','astella','asteria','asterio','astolfo','astrid','astros','astudillo','atanasio','ategue','atehortua','athala','atias','atuesta','audberto','audini','audivert','audrey','audry','augusto','aulestia','aulia','aulin','aura','auraelina','aurelena','aurelia','aureliano','aurelina','aurelinas','aurelio','auristella','aurita','aurora','ausecha','ausique','austin','autocorp','autonoma','aux','auxilio','avalo','avalos','avella','avendaño','avieser','avila','avila','aviles','avirama','avril','axel','aya','ayala','ayazo','aychell','ayda','ayde','aydee','aydivy','ayerbe','ayerve','ayili','aylin','aymer','ayner','ayora','ayovi','ayuda','aza','azael','azcarate','azucena','azyade','b.','babativa','baca','bacca','badillo','bados','baena','bahamon','bahamon','bahos','baicue','bairon','balanta','balantalina','balbin','balbina','balcazar','balcazar','baldemar','baldomero','baldrich','balladalez','ballen','ballestas','ballesteros','balmes','balmory','baltan','baltazar','balvin','bambague','banderas','banessa','banguera','banguero','banol','banoy','banquet','bañol','baos','baquero','barahona','barandica','barbara','barbetti','barbosa','barcenas','barco','barlaham','barney','baron','barona','barragan','barrantes','barreiro','barreneche','barrera','barrero','barreto','barrientos','barriga','barrios','barroso','barrrera','bartola','bartolo','bartolome','basante','basilia','basilio','bastidas','basto','bastos','batero','batioja','bautista','bayardo','bayer','bayona','bayron','bazan','bazantes','bbva','beatris','beatriz','beca','becca','beccy','becerra','becoche','bedolla','bedon','bedoya','beiba','beimer','bejarano','beky','bela','belalcazar','belarmina','belavenko','belen','belinda','belisa','belisario','belizabet','bella','bellaizan','bellalid','bello','belly','belquiz','beltran','beltran','benachi','benalcazar','benardo','benavides','benavidez','benedicto','benemerito','benhur','benicia','benicio','benigno','benilda','benilde','benites','benitez','benito','benjamin','benjamin','benjumea','benvides','benzon','berardo','berenice','berfalia','bermeo','bermudez','bermudez','bermuidez','bernabe','bernal','bernales','bernarda','bernardo','bernate','bernelio','berney','beron','beronica','berrio','berta','bertha','berthalia','bertil','bertilda','bertilde','bertulfo','besrnal','bessy','betancour','betancourt','betancourth','betancur','betancurluis','betancurt','betancurth','betes','bethy','betsabe','betsabeth','betsy','betty','betulia','beyanil','beylin','bibian','bibiana','biggitti','billy','biojo','birmany','biscue','biscunda','bislealdo','bismar','biteli','biuza','biviam','bivian','biviana','blackburn','bladimir','blainer','blanca','blanco','blandon','blandon','bleik','bleisi','blexon','bobadilla','bocanegra','bogota','bohorquez','bojaca','bojorge','bolaños','bolañoz','bolena','bolivar','bolivia','bolney','bomberos','bone','bonifacia','bonilla','booder','borda','boris','borja','bornachera','borrais','borras','borrero','botache','botello','botero','botina','bouzas','bpo','brady','brahant','brahiam','brahian','brahyam','bram','bran','brand','brandon','brasilia','bravo','brayam','brayan','braynny','bredy','breiner','brenda','brenyer','breychell','breydy','breyner','brian','briceida','bricella','briceño','briches','bridge','bridgee','brigette','briggitte','brigid','brigida','brigitte','brilli','brillit','brillith','brilly','brillyth','brindarly','briñez','brito','britsy','brittany','britto','briyid','briyith','briyitt','broquis','bruce','brunilda','bryan','bryllitte','btancourth','bubu','bucanero','bucheli','buchelli','buelvas','buenaventura','buendia','bueno','buesaquillo','buga','buila','builes','buitrago','buitron','bula','burbano','burgos','burgues','buritica','buritica','busscar','bustamante','bustillos','bustos','byron','c','cabal','caballero','cabanillas','cabanzo','cabezas','cabral','cabrales','cabrera','cacais','caceres','caceres','cadavid','cadena','caez','cafe','cagua','caguasango','cagueñas','caicedo','caipe','cairasco','caisa','caja','cajares','cajas','cajiado','cajiao','cajica','cajigas','calambas','calapsu','caldas','calderon','calderon','caldon','caleb','caleño','calero','calibio','calima','caliredes','calle','callejas','calles','calonge','calonje','caludia','calvache','calvaran','calvo','calzada','camacho','camargo','camayo','cambindo','camelo','camila','camilo','camla','campaña','campas','campaz','campeon','campiño','campo','campoelias','campos','campuzano','canabal','canache','canal','canaz','canchala','canchon','cancimance','cancimanci','candamil','candel','candela','candelo','candida','cando','canencio','canga','canizales','canizalez','cano','cansimanse','cantero','cantillo','cantor','canvindo','caña','cañar','cañarte','cañas','cañaveral','cañizalez','cañola','cañon','capera','capote','capurro','carabali','carabalica','caraballo','caracas','carbonell','carbonero','cardenas','cardenas','cardeño','cardiel','cardona','cardoso','cardoza','cardozo','cardula','caren','cargues','caridb','carillo','carime','carina','carla','carlina','carlo','carlomar','carlos','carlosama','carlota','carmelina','carmelita','carmelo','carmen','carmensa','carmenza','carmeza','carminia','carmiña','carmona','carnes','caro','carol','carola','carolan','carolay','carolina','caroll','carranza','carrascal','carrasquilla','carreño','carrera','carrero','carretero','carriillo','carrillo','cartagena','carton','carvajal','carvjal','casa','casadiego','casallan','casallas','casamachin','casanova','casañas','casaran','casas','casierra','casilimas','caso','casseta','cassetta','casso','castaneda','castano','castañeda','castaño','casteblanco','castelblanco','castellano','castellanos','casteñeda','castiblanco','castilla','castillo','castilo','castiño','castrillo','castrillon','castro','castsñeda','catacoli','catacoly','catalina','catalino','catamuscay','cataño','caterin','cathalina','catherin','catherine','cathy','catuche','cauca','caucayo','caviche','caviedes','caycedo','cc','cdem&cdeb','ceballos','cebastian','cecilia','cecilio','cedano','cedeño','cediel','ceferino','ceforo','celada','celades','celen','celene','celeni','celeny','celeste','celestino','celi','celia','celimo','celina','celis','celiz','celmira','celorio','celsa','celso','celvia','cely','cenaida','cenaira','cenayda','cened','ceneida','cenelia','cenelli','cenelly','cenen','ceneyda','cenide','cenider','cenobia','cenon','centeno','centro','cepeda','cerezo','ceron','ceron','cerpa','cerquera','cerrato','cersain','certuche','cervantes','cervera','cesar','cespedes','cess','cexprom','cha','chachanoy','chachinoy','chacon','chacua','chacue','chaguendo','chagueza','chaia','chaire','chala','chalacan','chalarca','chalare','chalarga','chambo','chambueta','chamizas','chamizo','chamorro','champutiz','chanchi','chantre','chañag','chapal','chaparro','chapid','chapurri','chara','charelin','charfuelan','chariana','charlotte','charon','charria','charrupi','charry','chasqui','chate','chaura','chausa','chaux','chavarria','chavarriaga','chavarro','chaverra','chaves','chavez','chayrla','chazatar','chazy','chec','checa','chelsea','chen','chenche','chepe','cheverry','chia','chiappe','chica','chicaiza','chicangana','chicue','chila','chilama','chilehuit','chilito','chilo','chima','chimachana','chimunja','chincha','chinchila','chinchilla','chinguad','chipichape','chiquito','chirley','chirpofer','chistian','chitan','chitiva','chito','choco','choconta','chocue','choi','cholo','chore','christiam','christian','christophe','christopher','christother','chrystian','chucrala','chud','chujfi','churi','cia','cidre','cielo','cifuentes','cilene','cileny','cilia','cindrid','cindy','cinia','cinthia','cinthya','cintya','cirley','ciro','cisley','cisneros','cisto','civiles','clair','claire','clara','clarena','clarencio','claret','claribel','claritza','clarivel','clariza','claros','claudia','claudina','claudineth','claudio','claver','clavijo','clayde','cleiser','cleiver','clelia','clemencia','clemente','clementina','cleofe','cleofelina','cleotilde','climaco','clinica','clinica','cliniserra','co','cobo','cobos','cock','cocoma','cocuñame','cocuy','codognotto','cogollo','cohecha','colina','coll','collantes','collazos','collo','colmenares','colo','colombia','colombiana','colombo','colonia','colorado','colpensiones','colviseg','combariza','comercio','cometa','comfamiliar','compañia','compuser','con','concai','concejo','concepcion','concepcion','concha','conda','conde','coneo','confecciones','congo','conindex','conny','conrado','consolacion','constain','constantino','constanza','construcciones','constructora','consuelo','consuleo','consultores','conto','contratando','contreras','cook','coolaborar','coomulsap','coopetativa','copete','coqueco','coques','coquis','coral','corbeta','corcino','cordero','cordoba','cordoba','cordobes','cordovez','corina','corleone','cornejo','cornelia','cornelio','cornelito','corodoba','coromoto','corona','coronado','coronel','corporacion','corral','corrales','correa','correal','correales','corredor','cortazar','cortes','cortez','cortinas','corzo','cosecha','cosme','cossio','costa','cotazo','cote','cotrina','covaleda','coy','cresencia','crespo','crhistian','criollo','crisdayan','crisostomo','crispin','cristal','cristancho','cristhiam','cristhian','cristhofer','cristi','cristiam','cristian','cristina','cristo','cristobal','cristofer','cristopher','cros','cruz','cruzana','crystal','crystian','cuaccialpu','cuacialpu','cuadrado','cuadros','cuaero','cuaical','cuaican','cuaicuan','cuaran','cuartas','cuasapud','cuasmayan','cuaspa','cuaspud','cuastumal','cuatin','cuaycan','cubides','cubillos','cucaita','cucalon','cuchillo','cuchimba','cuci','cucuma','cucuñame','cuellar','cuenca','cuenu','cuero','cueros','cuerpo','cuervo','cuesta','cuestas','cuetia','cueto','cueva','cuevas','cujar','cuji','cultid','cumbal','cumbe','cunda','cundumi','cupajita','cupitra','cusi','cuspian','cuspoca','custodia','custodio','cuta','cutiva','cynthia','da','dabeiba','dabeyba','dacareth','dadi','dagoberto','dagua','dahian','dahiana','dahiann','daian','daiana','daich','daifeny','daihana','dailin','dainer','daira','dairo','dairon','dais','daissy','daisy','daiyi','daizury','daladier','dalfeni','dalia','daliana','dalila','dalilly','daliri','dallana','dallys','damari','damaris','damelines','damian','damiro','damizuri','dana','dandiney','daneida','danelia','danelly','daneris','danery','daneyi','dani','dania','danicela','daniel','daniela','daniella','danilo','danilsa','danir','danis','danissa','danitza','danllely','danna','danniela','danny','danober','danora','danover','dante','dany','danyerlin','danyi','dar','daraviña','darbey','darcy','dari','daria','dariana','dario','dario','daris','darley','darli','darlid','darlin','darlina','darling','darlinton','darly','darlyn','darnelly','darwin','dary','daryery','dasly','dasy','datasae','dativa','dauqui','davalos','david','daviddavid','davila','davinson','davismach','day','dayan','dayana','dayanery','dayanna','dayhana','dayhann','dayra','dayron','daysuri','daysury','dayzury','daz','daza','dazza','deantonio','deaza','debie','debora','deborah','decio','deiba','deiber','deibi','deiby','deibys','deicy','deifa','deifan','deifeny','deimi','deiny','deiro','deisi','deison','deisy','deiva','deivi','deivid','deivis','deivy','del','dela','delayda','delbasto','delcida','delfa','delfamira','delfina','delgadillo','delgado','delgiza','delia','delina','delio','delkin','delliponti','delly','delma','delmy','delsy','delver','dely','deni','denice','denis','denise','denisse','dennis','denny','dennys','densy','denudetid','deny','denys','denyse','denzel','deossa','departamental','derazo','derek','derian','derli','derlin','derling','derlis','derlly','derly','dery','desideria','deverson','devia','devian','dey','deyaneri','deyanira','deybi','deyby','deyci','deyi','deylan','deymer','deysi','deysy','dharren','dhayana','diago','dian','diana','dianely','dianeth','dianey','dianid','diannet','dianny','diany','dias','diaz','diaz','diby','dickson','dictto','dicue','didier','didimo','diego','diela','diesel','dievely','diez','digitex','digna','dignery','dignier','dignora','dik','dila','dilan','dileny','dilfa','dilia','dillan','dilma','dilson','dilvia','dimar','dimarchy','dimas','dimate','dina','dinas','dinelli','diney','dinori','diocele','diogenes','diogne','diomedes','diomelina','diomira','dione','dioney','dionisia','dionisio','dionne','diony','dios','diosa','dioselina','diossa','diozahara','dique','direccion','directv','diriam','dirsa','disnery','disney','disneyda','dissan','dissu','distribuidora','distrital','diuza','diva','diver','divia','divian','divier','diyi','dizu','docier','dogman','dolcey','doli','dolly','dolmi','dolores','doly','domico','domiguez','dominga','domingo','dominguez','dominguez','dominic','donaciano','donatello','donatila','doney','donna','donneys','donny','donoso','dora','doracela','dorado','doralba','doralia','doralice','doralis','dorance','dorani','dorey','doreysi','doria','dorian','doriela','dorila','doris','dorlam','dorley','dorman','dorronsoro','dory','doryhan','dorys','dositeo','dosman','douglas','drews','driana','droguerias','drombo','duarte','dubal','duban','dubelly','duber','duberley','dubernal','duberney','dubian','dubys','dudli','dueñas','dufay','dulce','dulcey','dulfady','dulfary','dulfay','dulnelly','duque','duran','durango','durfay','durfey','durlandy','durley','dussan','duval','duvan','duver','duverney','dwight','dydier','dylan','dyro','dyssetth','dyvi','e','eastman','ebelia','eberney','ebet','eblin','ecco','ecdiver','echabarria','echavarria','echavrria','echegoyen','echeverri','echeverry','echevery','eda','eddie','eddier','eddna','eddy','edelmar','edelmira','edelvin','eder','ederson','edgar','edgardo','edi','ediber','edic','edid','edie','edier','edificaciones','edil','edilbe','edilberto','edilia','edilma','edilmer','edilsa','edilso','edilson','edima','edinarco','edinson','edinsonn','edinsson','edison','edisory','edit','edith','editha','editjh','edixon','edna','ednna','edoin','edson','edsson','edu','eduar','eduard','eduardo','educativa','eduerd','eduin','edulfa','edulfaris','edusmildo','edwar','edward','edwardo','edwars','edwarth','edwin','edy','efectivas','eficacia.','efigenia','efigenio','efrain','efrain','efred','efredy','efren','ega','egberto','egidio','egile','egna','egricelda','ehernan','ehivar','eida','eiden','eider','eiderman','eidi','eilin','eilyn','eiman','eimy','einar','eine','einer','eisenhooer','eiser','eivar','eiver','eiverth','el','eladio','elan','elba','elbar','elber','elbia','elcie','elcira','elcy','elda','elder','elean','eleana','eleany','eleazar','electricos','electrogenos','eledxader','elejalde','elena','elenith','eleonardo','eleonora','eleuterio','eli','elia','elian','eliana','elias','elibardo','eliberto','eliced','eliceo','elicer','elida','elider','elidier','eliecer','elina','elio','eliobel','elisa','elisabet','elisabeth','eliseo','eliud','eliver','eliza','elizabet','elizabeth','eljure','elkin','ella','elmar','elmer','elodia','eloina','eloisa','eloise','eloy','elpidia','elquin','elsa','elsi','elsidie','elsin','elsis','elson','elsy','eltidio','elva','elver','elvia','elvin','elvio','elvira','elvis','ely','elza','ema','emaida','emanuel','emaris','ember','emberto','embus','emelda','emely','emerita','emerson','emid','emidio','emigdio','emilce','emilda','emili','emilia','emiliana','emiliano','emilio','emilli','emilse','emilsen','emilssen','emily','emir','emira','emiro','emlia','emma','emmanuel','emmily','emperatriz','emplear','empresa','en','enais','enaliced','encarnacion','enciso','encizo','ened','enedis','eneida','enelia','eneriet','enerieth','eneyda','engracia','enid','enides','enidia','enidt','enilda','enio','enit','enith','enna','enny','enoc','enoe','enoris','enrioue','enrique','enriqueta','enriquez','enriquez','enrquez','enrrique','ensueño','enuar','enyell','epaminondas','epm','erasmo','eraso','erazmo','erazo','ercelly','ercilia','ercy','erdilia','eric','erica','erick','erik','erika','erlendy','ermeliza','ermila','erminda','erminia','erminso','erminsul','ermira','erned','ernedys','ernestina','ernesto','erney','ernilso','ervin','ery','esau','escalante','escallon','escamilla','escandon','escarpetta','escarraga','escarragas','escarria','escilda','esclava','escobar','escobedo','escolastica','escovar','escudero','escuela','esdrube','ese','esguerra','esilia','esimirey','esleida','eslendi','eslin','esly','esme','esmeralda','esmerlin','esmilda','esmira','esnayder','esneda','esnedy','esneider','esnelda','esnelia','esnery','esneth','esney','esneyder','esnna','españa','esparza','especialista','espejo','espeña','esperanza','espin','espinal','espinel','espinosa','espinoza','espitia','esquivel','essica','est','estacio','estafany','estanislao','esteba','estebali','esteban','estefam','estefani','estefania','estefanny','estefany','esteffany','estefhany','estefi','estela','estelia','estella','estephania','ester','esterling','estevan','esteven','esthefania','esther','estiben','estiven','estrada','estrella','estrellita','estrid','estupiñan','etayo','etelberto','etelvina','ethan','etm','etna','etsahin','eucaris','euclides','eudalia','eudocia','eufemia','eufemiano','eufracio','eufrasino','eugenia','eugenio','eugenioa','eugradis','eulalia','euli','eulises','eulofia','eulogio','eumir','eunice','eunise','euripides','euscategui','euse','eusebia','eusebio','eusse','eustacia','eustorgio','euvid','eva','evadista','evan','evangelina','evangelista','evarbo','evelia','evelier','evelin','evelina','evelio','evelly','evelsi','evelyn','evencio','evening','ever','everney','evert','eveyiseth','evolet','exdubar','exel','exela','expain','exposito','eybar','eyber','eyder','eydi','eydryan','eyiseth','eyleen','eylin','eylyn','eyzlen','ezequiel','ezray','fabara','faber','fabert','fabian','fabian','fabiano','fabio','fabioa','fabiola','fabricio','facundo','faency','fager','fahissury','faissury','faisully','faisuri','faisury','faizury','fajardo','falla','falon','fals','falya','fandino','fandiño','fanery','fanni','fannor','fanny','fanor','fanory','farfan','farid','faride','farley','farnery','farnesio','farney','fary','fatima','faustina','faustino','fausto','faver','favian','favid','favio','fayneri','faysiury','faysuli','fayzuly','fda','feder','federico','federman','felicia','felicidad','felicitas','felipa','felipe','felisa','felix','feneida','feniber','fenifer','feniver','fenner','ferannda','ferdinando','fergie','feria','ferla','ferley','fermin','fernada','fernadez','fernado','fernan','fernana','fernanada','fernanda','fernandez','fernandez','fernando','fernely','ferney','ferraro','ferreira','ferrer','ferrerosa','ferrin','ferro','fiallo','fichica','fidel','fideligna','fidelina','fidencio','fides','fieber','fierro','fiesco','figueroa','figureroa','filena','filiberto','filigrana','filippo','filomena','fiquitiva','fiscalia','fisely','fitzgeral','fitzgerald','flaquer','flavio','flechas','flecher','flerida','flor','flora','floralba','florancy','florangela','florencia','florencio','florentina','florentino','flores','floresmilo','florez','florez','flori','florian','floriano','floridana','florido','florines','floripes','flover','flower','flowers','floyd','fluvia','folleco','fonnegra','fonseca','fontal','fontalvo','fontecha','forero','fori','forigua','formit','fortich','fory','fracturas','francedys','francelia','francelina','franceline','franceny','francery','frances','francesco','franci','francia','francined','francis','francisca','francisco','franciso','franco','francois','francy','frank','franklin','frankly','franky','franquelina','franquis','franz','fraysury','frecia','freddy','fredericson','fredi','fredy','fredys','freidel','freider','freides','freire','freitas','fremat','fresanelia','fresneda','freyre','frimer','frimet','frncisco','froy','fruit','fuelantala','fuelpas','fuelpaz','fueltala','fuenmayor','fuentes','fuertes','fuerzas','fujiy','fuller','fulvia','fundacion','fundacion','fuquene','furio','g','gabalan','gabi','gabina','gabino','gabriel','gabriela','gabriella','gabrill','gael','gaez','gaitan','galan','galarraga','galarza','galeano','galia','galicia','galindez','galindo','gallady','gallardo','gallego','galliadi','gallo','gallon','gallon','galo','galvan','galves','galvez','galvis','galviz','gamba','gamboa','ganan','gañan','garaviña','garavito','garay','garcera','garces','garces','garci','garcia','garcia','gardel','garibello','garnica','garrido','gary','garzon','garzon','gasca','gaspar','gaviria','gazo','gean','gebara','gefrey','geiber','geiler','geiman','geiner','geinova','geinson','geison','gelsomina','gelsys','gelvez','gema','gembuel','genaro','gency','general','genesis','genesis','geni','genid','genis','genith','genivora','genny','genova','genoveva','gente','gentil','geny','geobana','geohana','geomar','george','georgina','geovani','geovanni','geovanny','geovany','geradina','geraldin','geraldine','gerardina','gerardine','gerardo','gercy','gerhemy','gerji','gerley','german','germania','geromito','geronimo','gerrado','gersain','gersey','gerson','gersson','gertrudis','gerviz','gesni','gestion','getial','geurrero','gezenia','gheraldine','gian','gianella','gianfranco','gianina','giannino','gianny','giany','gibel','gicela','gicell','giesenow','gil','gilbardo','gilbert','gilberto','gildardo','gilde','gildo','gilma','gilmer','gilon','gina','ginet','gineth','ginette','ginna','ginneth','gino','giobanna','giomar','giovana','giovann','giovanna','giovanni','giovannie','giovanny','gipsy','giral','girald','giraldo','girlado','giron','gironza','gisel','gisela','gisell','gisella','giselle','giselth','giset','gissel','gissell','gissella','gisselle','gissette','giuliano','giuseppe','gizet','gladid','gladis','gladiz','gladuys','gladys','gleidys','gleydin','gloria','glubis','godoy','goez','golu','gomez','gomez','gongola','gongolino','gongora','gonzaga','gonzales','gonzales','gonzalez','gonzalez','gonzalias','gonzaliaz','gonzalo','gordillo','gordon','gorlato','gourmet','govinda','goyeneche','goyes','gracia','graciela','graciliana','graciliano','gracilis','grajales','gran','granada','granado','granados','granda','grande','grandez','granja','granobles','granosle','grece','grecia','gregori','gregoria','gregorio','greicy','greisy','gretty','grey','greyns','gricela','gricelda','gricelly','grijalba','grijalda','grincelly','grisales','grisalez','griselda','grobien','groelfi','grueso','gruesso','grupo','guaca','guacaneme','guacas','guacha','guacheta','guadalupe','guadir','guahuña','guaido','guainas','gualdron','gualmatan','gualtero','gualteros','guamanga','guamiolamag','guampe','guancha','guañarita','guapacha','guapache','guapacho','guapi','guaqueta','guaquez','guar','guaran','guardia','guarin','guarni','guarnizo','guasaquillo','guasca','guaspud','guastar','guata','guatame','guayabo','guayal','guayara','guaza','gudiela','guegia','gueiby','guendica','guengue','guepud','guerao','guerra','guerrero','guerron','guetio','guette','guevara','guezaquillo','gugu','guido','guillen','guillermina','guillermo','guilllermo','guilombo','guinand','guince','guinchin','guiomar','guiovani','guiral','guisel','guiseppe','guitierrez','gullermo','gumenrsindo','gumersindo','gurrute','gustavo','gustin','gustinez','gutiererez','gutierrez','gutierrez','gutierrez','guzman','guzman','habib','habid','hadassa','haddad','hader','hadith','hael','haider','haidy','hailen','haimer','hamel','hamer','hames','hamilthon','hamilton','hanae','handersson','haner','hanna','hannah','hanndri','hanner','hanrryr','hans','hansel','hansen','hanz','haouchar','harbey','harby','harinera','harlington','harol','harold','harrison','harry','harryson','hartunduaga','harvey','harvi','harvy','hary','hatta','haussman','hayda','haydee','haymer','hazkary','heber','hebert','heberth','heberto','heblyn','hector','hector','heda','heder','hedil','heduin','heibel','heiber','heider','heidi','heidy','heilen','heiling','heindember','heisson','heladio','helbert','helda','helder','helen','helena','heli','heliberto','helica','helida','heliodoro','heliut','hellen','helly','helmer','helver','hemel','hemilson','henan','henao','hendes','henio','henor','henri','henriquez','henry','heraldo','herbey','hercelia','hercilia','heredia','heriberto','herica','herleny','herlex','herley','herlinda','herly','herman','hermann','hermelina','hermelinda','hermelizelda','hermen','hermencia','hermenson','hermes','hermila','herminda','herminia','herminio','herminson','herminsul','herminzul','hermogenes','hermosa','hermoso','hermoza','hernadez','hernado','hernan','hernan','hernandez','hernandez','hernando','hernesley','hernesto','herney','heroina','herran','herreño','herrer','herrera','herreros','herrique','hersain','herson','hervin','herweanis','herzon','hesair','hesilda','hever','hevers','heyder','heydy','heynier','heyson','hibor','hidalgo','hidrobo','higinio','higuera','higuita','hija','hijo','hilario','hilarion','hilary','hilaryn','hilda','hildaura','hilde','hildebrando','hilder','hillary','hilman','hilton','hincapie','hincapie','hinestrosa','hinestroza','hinojosa','hipasio','hipolito','hirosi','hislena','hissami','hobana','hoffman','hoffmann','holanda','holguin','holguin','holman','holmer','holmes','holver','home','homero','homes','honorio','hoover','hooverth','horacio','hordubay','horley','hormaza','horta','hortencia','hortensia','hortua','hospital','hoya','hoyola','hoyos','hoz','hrrl','huaza','hubeny','huber','huberley','hubert','huerfano','huerta','huertas','hugo','huila','humbarila','humberto','hungria','hunter','hurmendiz','hurtado','huseim','hutter','huver','huverney','i','ia','ian','ibagon','ibague','iban','ibañez','ibarbo','ibarguen','ibarra','ibarvo','ibata','iber','ibeth','ibett','ibis','ibon','ico','icopo','ida','idacio','idalba','idale','idali','idalia','idalid','idaly','idarraga','idarraga','idelbert','idelga','idelse','ideneo','ider','iderlan','idrobo','ifalia','igar','iglesias','ignacio','igua','iguaran','iguita','ijaji','ilbia','ilda','ildelides','ilder','ildira','ilduara','ileana','iles','ilia','iliana','ililian','illegas','illera','illya','ilma','ilner','ilsa','ilse','ilva','imat','imbachi','imbago','imbajoa','imelda','impormaderas','impuestos','inagan','incapie','incauca','incaucaservicios','inchima','indira','industriale','inelda','ines','inestrosa','infanta','infante','ingenio','ingenios','ingrib','ingrid','ingridt','ingris','ingrit','ingritd','ingry','inides','inirida','inmaculada','inocencia','insa','insandara','institucio','institucion','instituto','insuasti','insuasty','integrado','integral','integrales','interfisica','internacional','inversiones','inyaely','ipia','ipiales','ipila','ipujan','iragorri','iralda','irene','iriarte','irina','iris','irlan','irlanda','irlena','irleny','irley','irma','irurita','isaac','isaacs','isabel','isabela','isabelina','isabell','isabella','isabeth','isadora','isaias','isajar','isamara','isamel','isanoa','isanora','isaura','isaza','isaziga','isco','isdar','ises','ishibashi','isidora','isidoro','isidro',]\n",
        "b_name = ['eva','isis','islena','isleny','ismael','ismenia','isneire','isnelda','isnely','isolina','israel','isrrael','italia','italo','ithan','itsahiana','ituyan','itzel','ivan','ivan','ivana','ivaniel','ivanna','iver','iverson','ives','iveth','ivette','ivon','ivone','ivonn','ivonne','ixchel','iza','izan','izquierdo','jabela','jacinta','jacinto','jackelina','jackeline','jackelinne','jacob','jacobo','jacome','jacqueline','jader','jadiel','jady','jael','jagua','jahaira','jahiana','jahir','jahumer','jaiber','jaidar','jaide','jaider','jaidi','jaidiver','jaidivy','jaime','jaimer','jaimes','jainer','jair','jairo','jaiseep','jaiver','jajoy','jak','jakeline','jalid','jalie','jalil','jalile','jalin','jalitza','jaller','jama','jamauca','jamel','jamer','james','jamiledh','jamileth','jamilton','jamioy','jamir','jan','jana','janer','janet','janeth','janey','jani','jania','janice','janier','janine','janira','janner','jannet','janneth','jannier','janniher','janny','jansasoy','jansenio','jaquelin','jaquelina','jaqueline','jara','jaramillo','jaramilo','jarbin','jarby','jared','jarinzon','jarky','jarlin','jarly','jarme','jarminson','jarminton','jaro','jarrinson','jarvi','jasbleidy','jasel','jasmin','jasned','jason','jativa','jauime','javela','javer','javiano','javier','jaycol','jayder','jayko','jazmin','jean','jeanet','jeanneth','jeannette','jefer','jeferson','jefferson','jeffeson','jeffrey','jeffry','jehison','jeibi','jeicob','jeider','jeidy','jeimmy','jeimy','jeinny','jeins','jeison','jeisson','jeiver','jelianna','jembuel','jency','jeneth','jenffer','jenidia','jenifer','jeniffer','jeninnfer','jenith','jenkryfer','jenneffer','jennifer','jenniffer','jennilled','jenny','jennye','jennyfer','jensin','jeny','jenyfer','jenyffer','jeovana','jeraldin','jerdey','jeremias','jeremie','jeremih','jeremy','jerez','jeris','jermain','jerny','jeronimo','jeronimo','jerson','jesabeth','jesica','jesid','jessi','jessica','jessika','jesucita','jesus','jesus','jeykob','jeymy','jeyns','jeynsson','jeyson','jhair','jharolyn','jharrison','jheison','jhenyfer','jheraldin','jherien','jherlin','jhessenia','jhoan','jhoana','jhoanna','jhoel','jhoetmy','jhohana','jhohanna','jhohanny','jhojainer','jhojan','jhojana','jhojanes','jholfady','jhon','jhonalex','jhonatan','jhonathan','jhonattan','jhond','jhonier','jhonn','jhonnatan','jhonnathan','jhonnier','jhonny','jhonson','jhony','jhorfan','jhorjan','jhorlan','jhorman','jhoselin','jhosselyn','jhosua','jhosue','jhovana','jhovang','jhulian','jhuliana','jhurany','jicel','jihan','jill','jimena','jimenes','jimenez','jimenez','jimeno','jimmi','jimmy','jimy','jineth','jirado','jireh','jirlesa','jisell','jiseth','joahana','joan','joana','joanna','joany','joao','joaqui','joaquin','joaquin','joaquina','joe','joel','johan','johana','johann','johanna','johanny','johany','john','johnatan','johnathan','johnier','johnn','johnnatan','johnnier','johnny','johny','johon','johs','johvana','joimer','joiner','jojana','jojoa','jonatan','jonathan','jonattan','jonh','jonnatan','jonnathan','jonny','jony','jordan','jordany','jordy','jorge','jorladys','jorman','joronda','jos','josa','jose','jose','josefa','josefina','joselin','joselyn','josemaria','joseph','joseth','joshep','joshua','joshue','josias','joslany','josse','josselin','josselyn','josser','jossie','josue','josue','jova','jovana','jovanna','jovanni','jovanny','jovany','jovel','jualian','juan','juana','juanillo','juanita','juber','judit','judith','judy','juith','juleidy','julen','julia','julialba','julian','julian','juliana','julianna','julicue','julie','julier','juliet','julieta','julieth','juliett','julio','julissa','jully','julvia','july','junier','junior','junnior','jurado','jurany','juri','juridica','juspian','jusseth','justin','justina','justiniano','justinico','justino','justo','justyn','juvenal','juverney','jynei','kacterine','kahory','kahterine','kaled','kalindi','kamila','kamily','karem','karen','karent','karime','karin','karina','karla','karlo','karlos','karol','karolayn','karolina','karoll','kassandra','katalina','kateherine','katerin','katerine','kathalina','katherin','katherine','katheryn','katheryne','katiza','katlin','katterine','kattering','kattie','katty','katy','keila','keiner','kelen','keler','kelin','kelis','kelly','kely','kemberle','kenay','kendall','kener','keneth','kenia','kennedy','kennet','kenneth','kenny','keren','kerly','ketherine','ketsender','kety','kevin','kevinn','kevyn','kewin','keyla','keyner','kiliang','kimberly','kirlyn','kiyomi','klinger','koba','korina','koure','krafft','kristian','krysthol','l','la','labao','labio','laborales','labrada','labrador','laddy','ladecol','ladino','ladis','lady','ladys','lagarejo','lago','lagos','laguna','laia','laidys','laila','laines','lais','lajas','lalinde','lam','lame','lamilla','lamos','lamprea','lamus','lanchero','lancheros','landaeta','landazabal','landazary','landazuri','landazury','landinez','landino','landy','lañas','lara','larbin','lareo','largacha','largo','larrahondo','larrañaga','larrarte','larrea','larrosa','larry','las','lasa','laserna','lasprilla','lasso','latorre','laudino','laura','laureano','lauren','laurens','laurentina','laurido','laurnt','lauzier','lavao','laverde','lavrea','lay','layden','laydi','lazaro','lazo','leady','leah','leal','leandra','leandro','leannny','leany','lebaza','ledesma','ledezma','ledis','ledys','lee','leeam','legal','legarda','legria','legro','leguizamo','leguizamos','leiba','leibia','leiby','leida','leide','leider','leidi','leido','leidy','leidy','leila','leina','leiner','leirin','leisi','leison','leiton','leiva','leiver','leivy','lejandra','lelia','lema','lemos','lemus','lena','lengi','lenid','lenin','lenis','lenix','leny','leocadia','leofrande','leomina','leon','leon','leonarda','leonardo','leoncio','leondenis','leonel','leonela','leones','leonidas','leonila','leonilde','leonisa','leoniza','leonor','leonora','leontina','leopoldina','leopoldo','lerma','lernes','lesbia','lesby','lesdy','leslie','lesly','lesmes','lessdy','lesvi','lesvia','leticia','letrado','leudo','levi','levis','levy','lewinson','lewis','leyda','leydi','leydy','leyes','leyla','leyrin','leyton','leyva','lezama','lezcano','lia','liam','lian','liana','libad','libaniel','libardo','liber','libia','liboria','liborio','librada','libreros','liced','licenia','liceth','liciardy','licinia','lid','lida','lider','liderman','lidermina','lidia','lidier','lidis','lievano','lifuyed','ligia','liham','lila','lili','lilia','liliam','lilian','liliana','lilianaandreacalero','lilibeth','lilino','lilley','lilly','liloy','lily','lima','limbania','lina','linares','lince','linda','lindanyi','lindelia','lindo','lindsay','lineth','liney','linggren','linian','lino','linsay','linthon','linton','linz','liria','lis','lisa','lisandro','lisbe','lisbeth','lisbey','liscano','lisdaris','liseht','liselmo','liset','liseth','lisette','lisimaco','lisney','lisset','lisseth','lissette','liver','livia','liviam','lix','liz','liza','lizanyuri','lizarazo','lizbeth','lizcano','lizeth','lizette','llague','llamosa','llano','llanos','llanten','llarida','llirly','lloreda','llovany','loaiza','lobaton','lobello','loboa','lobon','local','lodt','lody','logan','logistica','lola','lombana','lombo','londono','londoño','londoñoo','londooo','longa','longana','lopeda','lopera','lopez','lopez','lora','lore','lorean','loren','lorena','lorensa','lorenza','lorenzo','lores','lorieth','lorin','lorna','lorza','los','losada','loteria','lotero','lourdes','lourido','lovera','loza','lozada','lozads','lozano','ltada','ltda','ltda.','luan','lubby','lubdibia','lubelly','lubian','lubin','lubo','lucano','lucas','luccy','lucedy','luceida','luceli','lucelia','lucelida','lucelli','lucelly','lucely','lucena','lucenid','luceny','lucero','luci','lucia','lucia','luciana','luciano','lucidia','luciela','lucila','lucinda','lucio','luciola','luciria','luciveli','lucrecia','lucresia','lucumi','lucy','ludeina','luder','ludibia','ludivia','ludy','luengas','lugil','lugo','luider','luis','luisa','luiyith','lujanith','luke','luligo','luly','luna','lupe','lus','lusaida','lusby','luseyne','luvier','luz','luzaida','luzbian','luzby','luzcelly','luzdary','luzmedia','luzmila','lyam','lyda','lyons','lysbeth','mabeisi','mabel','mabeli','maber','maca','macca','machado','macias','macuace','macuase','madahy','madan','madelaine','madeleine','madeleyne','madeleys','madelyn','mader','madrid','madrigal','madriñan','madroñero','maestre','mafier','mafla','magali','magalli','magally','magaly','magaña','magda','magdalena','magdalida','maglioni','magnalila','magnely','magnol','magnolia','magnory','magnus','magola','magon','magy','mahecha','maibel','maicol','maigual','maikol','maile','mailen','maillely','maily','mainaguez','mainguez','maira','mairena','mairongo','maithe','majin','malagon','malambo','malcon','maldonado','malena','males','malfis','malfitano','mallama','mallarino','mallely','mallorquin','malori','malory','malpud','mambague','mambuscay','mamian','mancera','manchabajoy','manchola','mancilla','manco','manfredy','manizales','manjarres','manquillo','manrique','manrrique','manso','mantilla','manuel','manuela','manufacturas','manyi','manyoma','manzano','manzo','manzour','mañosca','mañozca','mañunga','mañuzca','mao','mapura','maquilon','mar','marahevel','marcela','marceliano','marcelino','marcelo','marcia','marcial','marciana','marciano','marco','marcos','marcucci','mardoris','mardory','marduk','mare','mareina','marelbi','marely','marelyn','marenco','margalida','margareth','margarita','margid','margie','margori','margorie','margory','margot','margoth','margy','marha','mari','maria','maria','mariaca','mariah','mariajose','marialit','mariam','marian','mariana','marianela','marianella','mariangel','marianita','marianna','mariano','mariantonia','mariany','mariapaz','maribed','maribel','maricel','maricela','maricelly','maricely','marie','mariela','mariella','marielly','marielvy','marieth','mariette','marihtza','marilene','marilu','mariluz','marilyn','marin','marin','marina','marinc','marincano','marinela','marinella','marinez','marinilse','marino','mariño','mario','marion','maris','marisel','marisela','marisell','marisella','marisinelly','marisol','marisolani','maritza','maritzabell','mariu','marjely','marjy','mark','marlen','marlene','marleni','marlenis','marleny','marles','marley','marleyi','marlin','marlit','marlly','marlody','marlon','marly','marlyn','marlyng','marmol','marmolejo','marny','marñolejo','marolanda','marquez','marquez','marquinez','marriaga','marroquin','marta','martha','martin','martin','martina','martines','martinez','martinez','martiniano','martino','martir','martnez','martos','maruja','marulanda','marvin','marwin','mary','marya','marybel','maryeri','maryi','maryluz','maryoli','maryori','maryory','marysol','marystella','maryuri','maryury','mashacuri','masivo','masmela','massiel','masso','mata','matabanchoy','matallan','matallana','matavanchoy','mateo','materano','materon','matess','mateus','matew','mathias','mathius','matias','matilde','matiz','matoma','matta','matthew','maturana','mauna','maura','maureen','mauren','mauricio','maurico','maurieth','mauro','maury','mauselen','mavel','maver','maveryng','maximiliano','maximo','maximus','maxwell','maya','mayarlih','mayckol','maycol','mayela','mayeli','mayely','mayeni','mayer','mayerli','mayerlin','mayerling','mayerlis','mayerly','mayerlyn','mayers','mayileth','mayli','mayolin','mayor','mayorca','mayorga','mayorin','mayorquin','mayra','mayrin','mayuli','mayuri','mazabuel','mazo','mazorra','mazuera','mc','mclea','mecias','medardo','medellin','medicina','medina','meek','megan','meibe','meiby','meili','meivy','mejia','mejia','mejias','melan','melania','melanie','melanny','melany','melba','melchor','melecio','melendes','melendez','melenge','melenje','melfi','melia','melida','melindres','melisa','melissa','meliton','meliza','mellizo','melo','melqui','melquisedec','melva','melvy','mely','mena','menandro','mendes','mendez','mendez','mendieta','mendinueta','mendivelso','mendoza','meneces','menecez','menelly','menese','meneses','mensa','menza','meñaca','mera','meraly','mercado','mercedes','mercenario','merchan','merchancano','merchant','merci','mercy','merida','merino','merizalde','merle','merlin','merlly','merly','merlyn','mery','mesa','mesias','messa','mesti','mestil','mestizo','mestra','mesu','metal','metales','metaute','metromovil','meyer','meza','mezu','mia','micedith','michael','michaell','michel','micheli','michell','michelle','michelly','micolta','middleton','mieles','mier','migdalia','migdonia','miguel','mikol','mila','miladis','milady','miladys','milagro','milagros','milan','milanes','milbia','milciades','milde','mildred','mildreth','mildrey','mile','miled','miledy','mileidy','mileisy','milena','milenis','mileny','miler','milet','mileth','milexy','mileydy','milgen','milindres','militares','millan','millar','millenium','miller','millerlandy','milley','miloy','milton','milvia','mimalchi','mimi','mina','minda','minota','minu','minyeli','mira','miralba','mirama','miramag','miranda','mirbean','mireizon','mirelda','mirelia','mirella','mirelly','mireya','mirialba','miriam','mirian','mirillo','mirley','mirna','mirquez','mirta','mirtha','miryam','miryan','miryeny','misael','misaela','misaelina','misas','mischele','mishell','miyerlay','modesta','mogollon','mogollon','mogrovejo','mohamet','moises','moises','mojarrango','mojica','molano','moledo','molina','molineros','mompotes','mona','monar','moncada','moncaleano','moncayo','mondragon','mondragon','monedero','monica','monica','monique','monje','monroy','monrroy','monsalve','monserrat','monserrath','montacargas','montalvo','montana','montaña','montañez','montaño','montealegre','montegranario','montehermoso','montenegro','montero','monterrey','montes','montezuma','montiel','montilla','montillo','montoya','montserrat','moquera','mora','morales','moralez','moran','morant','morante','morantes','morcillo','morea','moreira','morelia','moreno','morera','moriano','morillo','moriones','morostoque','mosca','moscoso','moscote','mosorongo','mosquera','mossos','mostacilla','mota','motato','motoa','motor','motta','movil','moya','moyano','mr','mucua','muebles','muelas','mueses','mujer','mulato','mulcue','muller','multiactiva','multiservicios','munares','munebar','munera','munevar','municipal','municipio','munoz','muñeton','muño','muñoz','mur','murcia','murgas','murgueitio','muriel','murillas','murillo','muskus','mustafa','mutis','mutual','mykel','myllan','myriam','myrian','myryam','nabollan','nabor','naboyan','nacianceno','nacion','nacional','nacionales','nacivar','nader','nadia','nagles','nahia','nahiara','nahir','nahomi','nahum','naiala','naiara','naidu','naikira','nain','nampia','nanci','nancy','napoleon','naranjo','narcilo','narcisa','narciso','nardy','naren','nariño','narly','narradondo','narvaez','narvaez','narvez','nasamuez','nasly','nastacuaz','natacha','natali','natalia','natalie','natally','nataly','nates','nathalia','nathalie','nathaly','nathasha','natib','natividad','naufa','nauffal','nava','naval','navarrete','navarreto','navarro','navas','naveros','navia','nayady','nayancy','nayarith','nayda','naydu','nayeli','nayely','nayerli','nayibe','nayiby','nayive','nayla','naymar','nazareth','nazari','nazario','nazarit','nazly','nazlyn','nebrijo','neby','nedier','nedy','nefer','neftali','negret','negro','neicet','neicy','neida','neifer','neiger','neila','neiman','neira','neire','neisa','neison','neithan','neiva','neiver','neiza','nel','nela','nelci','nelcy','nelffi','nelfi','neli','nelia','nelida','nella','nelli','nelly','nellyreth','nelsi','nelson','nelsy','nelver','nely','nelys','nemecio','nemesio','nemu','nena','nereyda','nerieth','nerihe','nerly','neronimo','nery','nesly','nesmy','nestor','nestor','netty','neubedy','neuver','ney','neyci','neyired','neyler','neymar','neyra','neytan','nhora','nia','nibia','nickincyn','nicol','nicolas','nicolas','nicolasa','nicolay','nicold','nicole','nicoll','nicolle','nidia','nidya','niebles','nieto','nieva','nieves','nikol','nikolai','nikolas','nikole','nikoll','nilen','nille','nillereth','nilo','nilsa','nilsen','nilson','nilton','nilvi','ninco','ninfa','nini','niny','niño','nipaz','nipcela','nirama','nircy','niria','nirza','nivia','nixon','niyereth','niyiret','niyireth','niyirey','no','noe','noe','noebia','noel','noelba','noelia','noelva','noelvia','noemi','noemy','nogardo','noguera','nogues','nohelia','nohellys','nohely','nohemi','nohemy','nohira','nohora','nohra','noira','nolberto','nolmar','nombre','nomelin','nomina','nomina.com','nonietzko','nora','noralba','noraldo','norayda','norbelly','norberto','norbey','norby','norela','norelia','norely','norena','noreña','norfa','norfalia','norfi','norha','norhelia','nori','noriega','norles','norley','norma','norman','norvey','nory','noscue','novoa','noy','nubia','nubiola','numael','nunez','nunila','nuñez','nupan','nupia','nur','nurelba','nury','nuvia','nuvidia','nydia','ñañez','ñuscue','ñustes','oamira','oarles','obando','obdulia','obdulio','obed','obeida','oberi','obersen','obertulio','obonaga','obras','obregon','ocampo','ocando','occidente','ochoa','ociel','ocoro','octalivar','octavila','octavio','ocupar','oderay','odila','odilfo','odilia','odilma','odin','odriguez','oelty','ofelia','ofelmira','offir','ofir','oidor','oime','ojeda','olano','olariz','olarte','olave','olaya','olegario','oleida','olga','olguin','oliday','olimpia','olimpica','olinda','olinde','oliria','oliva','olivar','olivares','oliver','oliverio','oliveros','olivia','olivio','olivo','olma','olman','olmedo','olmer','olmes','olmos','olver','omaira','omar','ome','omen','omery','omes','omez','oneida','oney','oneyda','onid','onofre','oquendo','oralia','orbegozo','orcue','ordenoñez','ordonez','ordoñes','ordoñez','ordoñez','orduz','oreidy','orejarena','orejuela','orellana','orfa','orfalina','orfanery','orfany','orfelina','orfely','orfilia','orfindey','organizacion','oriana','orielly','origua','oriol','orjuela','orlady','orlain','orlando','orlania','orlay','orley','orlinda','orlivia','ormeño','orobio','orosco','orozco','orporacion','orrego','orsileny','ortega','ortegon','ortiz','ortunduaga','osa','osbaldo','oscar','ose','osidis','osiel','osiris','osleyda','osma','osman','osmer','osoario','osorio','osorno','ospima','ospina','ospitia','ossa','ossiris','osso','osvaldo','oswaldo','otalbaro','otalivar','otalora','otalvaro','otalvora','otavo','otaya','otero','otilia','otoniel','otto','ovalle','ovalles','oved','oveimar','overimar','oveth','ovidio','oviedo','ovirley','oweimar','owens','oyola','pabla','pablo','pabon','pabon','pacateque','pacheco','pachene','pachichana','pacho','pachon','pacue','padilla','padro','padua','paez','paez','paguatian','pahola','paja','pajarito','pajaro','pajoy','palacio','palaciodos','palacios','paladines','paladinez','palau','palechor','palecia','palencia','palma','palmezano','palmina','palmira','paloma','palomeque','palomino','palomo','palta','pamela','pamo','pamplona','panameño','panesso','paniagua','pantoja','paola','papamija','papel','papeles','papsy','paque','paracios','paramo','pardey','pardo','paredes','pareja','paris','parra','parrado','parraga','parrales','partner','paruma','pascagaza','pascual','pascuala','pascuas','pascuaza','pascumal','pasos','pasquel','pastor','pastora','pastrana','pasuy','patarroyo','paternina','patichoy','paticia','patino','patiño','patrcia','patrica','patricia','patrocinia','patrocinio','paubla','paucar','paul','paula','paulina','pauline','paulo','pava','pavel','pavi','pavon','paya','payan','payares','paz','pazmiño','pazos','pazu','peada','pealez','pechene','pechucue','pecillo','pedraza','pedrero','pedreros','pedro','pedroza','pedrozo','pelaez','pelaez','penagos','pencua','penilla','peña','peñafiel','peñalosa','peñaloza','peñaranda','peñarete','peñuela','pepicano','perafan','peralta','perdomo','perdonmo','perea','pereañez','pereira','perenguez','peres','perez','perez','perez','perico','perilla','perla','perlaza','pernia','perrea','persides','personeria','pescador','pesellin','pestana','peter','petrel','petsain','petter','petuma','phanor','pherson','piamba','pianda','pichica','pichimata','pico','picon','piedad','piedra','piedrahita','pierre','pieruchini','pilar','pilar','pilcue','pillimue','pimienta','pinch','pinchao','pineda','pinilla','pinillo','pinillos','pino','pinos','pinto','pinzon','pinzon','piña','piñerete','piñerez','piñeros','piño','pipicano','piquitero','piracoca','piraneque','piraquive','piscal','pita','pito','piza','pizarro','pizo','plata','playonero','plaza','plazas','plinio','plutarco','polanco','polania','policarpa','policarpo','polindara','pollos','polo','poloche','polonia','pomares','pombo','pomeo','pompilio','ponbo','ponton','pool','popayan','popo','porfirio','porras','portela','portilla','portillo','portocarrero','posada','poscue','posse','posso','possu','poter','potes','potosi','poveda','pracedes','prada','pradilla','prado','preciado','presentacion','presiga','prestadora','pretel','pretelt','prez','pricelis','prieto','primero','primitivo','primo','primoris','priscila','proaños','productora','proing','providencia','proyeccion','proyectos','ptrocinia','puablo','pubenza','publica','puchana','puente','puentes','puerta','puertas','puerto','puetate','puetes','pulecio','pulgar','pulgarin','pulgarin','pulido','pulpa','puni','pupiales','purificacion','pusil','q','q.v','quebrada','quebradas','quejada','quelal','quenguan','quenoran','quesada','quetama','quevedo','quezada','quiceno','quick','quiguanas','quiguanaz','quijano','quilcue','quilindo','quimbaya','quimbayo','quina','quinayas','quinceno','quinche','quinonez','quintana','quintero','quinteroval','quintin','quinto','quiñones','quiñonez','quique','quirama','quiroga','quiros','quiroz','quisoboni','quistanchala','quistial','quitiaquez','quitombo','quitumbo','quiza','quizamano','r','raba','racines','rada','rafael','rafaela','raga','raigosa','raigoza','ralphfi','ramirez','ramirez','ramirezx','ramiro','ramo','ramon','ramos','rangel','raphael','raquejo','raquel','rasha','raudino','raul','raul','rave','raymond','rayo','rcn','realpe','reaños','rebeca','rebellon','rebeyon','rebolleda','rebolledo','recalde','recio','redemer','redes','redondo','refiere','regina','regional','reina','reinaldo','reinario','reinel','reinelio','reinell','reinelly','reinerio','reinier','reinilfa','reinosa','reinoso','remedios','remeo','remicio','remigio','remolina','renata','rendon','rendon','rene','rened','renfijo','rengifo','renteria','renteria','renza','resguzman','restrepo','resurreccion','retavisca','retrepo','revellon','revelo','rey','reyes','reynaldo','reynel','reza','reznik','riaño','riaños','riasco','riascos','riascos&nbsp;','riazcos','ribon','ricardina','ricardo','ricaurte','ricaute','ricci','riccio','richard','richer','rico','rigoberto','rincon','rincon','rincones','rio','rioja','riomalo','riorrecio','rios','rios','riovo','ripe','ripoll','risaralda','risso','rita','rivas','rivasq','rivera','rivero','riveros','rivillas','rizo','roa','roballegas','robayo','robeiro','robelto','rober','robert','roberteau','roberth','roberto','robertulio','robin','robins','robinson','robledo','robles','rocha','roche','rocio','rock','rodallega','rodallegas','rodas','rodolfo','rodrigez','rodrigo','rodriguez','rodriguez','rogelia','rogelio','rogelis','roger','rogerio','roin','rojas','rojo','rolando','roldan','roldanillo','roman','roman','romaña','romel','romelia','romeo','romero','romiliana','rommy','romo','romulo','romy','ronal','ronald','roncancio','rondon','roney','ronny','roosevelt','roostvelh','roque','rosa','rosabel','rosada','rosalba','rosalbina','rosales','rosalia','rosalinda','rosaline','rosana','rosangela','rosario','rosas','rosaura','rose','roselia','roseline','roselver','rosely','rosember','rosemberg','rosen','rosendo','rosero','rosillo','rosina','rosinda','rosio','rosiver','rosmary','rosmery','rosmira','roso','rossemary','rossi','rotavisky','rotavista','roure','rovinson','rovira','roxana','royero','rozo','rta','rua','ruales','ruano','rubby','rubelia','ruben','ruber','rubert','rubi','rubia','rubialba','rubiano','rubidia','rubiel','rubiela','rubier','rubilia','rubio','rubria','rubriche','ruby','ruco','rudas','rudy','rueda','rufina','rufino','ruge','rugeles','ruiz','ruiz','rumaña','rumualdo','ruperto','ruque','rusbel','rusby','rusca','russi','rutber','ruth','ruverth','rvera','rym','sas','s','s.a','s.a.','s.a.s','s.a.s.','sa','saa','saavedra','sabarain','sabas','sabath','sabi','sabina','sabogal','sabrina','sacramento','sadi','sady','saenz','sahiary','said','saida','saide','saiduta','saira','saitemp','salamanca','salamando','salas','salazar','salcedo','saldaña','saldariaga','saldarriaga','salem','salgado','salguero','salima','salinas','salma','salom','salome','salome','salomon','salud','salustino','salvador','sam','samanta','samantha','samara','samboni','sambony','sambrano','sameco','samir','samira','sammer','sammy','sampayo','sampedro','samuel','samuell','samy','san','sana','sanabria','sanches','sanchez','sanchez','sanclemente','sanders','sandoval','sandra','sandro','sangiovanni','sanin','sanjuan','sanmiguel','sanna','sanson','sant','santa','santacoloma','santacruz','santafe','santamaria','santamaria','santana','santander','santanilla','santiagho','santiago','santibañez','santigo','santillana','santofimio','santos','sanz','sapuyes','sara','sarabia','sarah','sarai','sarasa','sarasti','sarasty','sarat','saray','sarita','sarmiento','sarrea','sarria','sarzosa','sas','sastoque','sastre','satisabal','sativa','satizabal','saturia','saucea','saucedo','saul','saulo','savine','sayledt','sayuri','scarpeta','scarpetta','sebastian','sebastian','secretaria','sedano','sedas','sediel','sedoc','seferina','segovia','segrera','segunda','segundo','segura','seguridad','seguro','seira','seiza','selemin','selene','seleny','selorio','semanate','senayda','sendoya','senel','señor','sepulveda','sergina','sergio','serna','serra','serrano','serrato','services','servicio','servicios','serviconstrucciones','serviespeciales','servio','severino','severo','sevilla','sevillano','seydel','shadday','shadid','shaiel','shaik','shailler','shaira','shalom','shara','sharay','sharick','sharit','sharom','sharon','sharyk','sharyth','sheccid','sheila','shek','shelly','sherley','shermie','shery','sheyla','shirledy','shirley','shti','siarah','sibaja','sicard','sicaroni','sicua','sidney','sierra','siesly','sigifredo','siglo','sigrid','silena','silfredo','silva','silvana','silvia','silvio','simanca','simbaqueba','simon','sinar','sindi','sindia','sindicato','sindy','sinisterra','sintrainagro','sinza','sion','sir','sirlene','sirley','sissa','sivoney','sixta','sixto','siyey','slanne','sleither','slith','smart','smc','smit','smith','snayder','sneider','sniper','soacha','sobeida','sociedad','socorro','soffi','sofi','sofia','sofia','sofonias','sofya','sogamoso','sohir','soide','sol','solandria','solandy','solange','solangel','solangy','solanilla','solanlly','solano','solanyi','solar','solarte','soledad','soledis','soleibe','soleine','soleiny','solemy','soler','solery','soley','solfemira','solhangelly','soliman','solis','solita','solla','solomoflex','solorsano','solorzano','soluciones','sonia','sonnia','sons','sophia','sophie','sor','soraida','sorane','sorangel','sorany','soraya','sorayda','sorenydht','sorey','sorfiria','sori','soriano','sorin','sorlanda','sorley','sorleyda','sorvay','sory','sosa','soscue','sossa','soteldo','sotelo','sotero','soto','sotomayor','sperez','spitia','sprintis','steban','stefani','stefania','stefanie','stefannia','stefannia','stefanny','stefannya','stefano','stefany','stefanya','steffany','stefhani','stefhania','stefhany','stehiner','stela','stella','stephania','stephanie','stephanny','stephany','stephanya','sterling','stevan','steve','steveen','steven','stevens','stevenson','steward','stf','sthefani','sthefania','sthefannia','sthefany','sthella','sthepanie','sthepany','sther','sthevan','sthevens','stiveen','stiven','sttid','studio','styles','styven','styward','suarez','suarez','suaza','sucrala','sucre','sucroal','suescun','sugey','sujely','sujey','sulay','suldery','suleima','suley','suleydi','suleydy','sulgey','sully','sulma','suluaga','suly','sumitep','superior','supermercado','supermercados','supertiendas','supremo','surata','suray','surly','surtifamiliar','susan','susana','susy','suzarte','suzuki','sylvana','sylvia','taba','tabares','tabarez','tabarquino','tabary','tabima','taborda','tacan','tadalinka','tafur','tafurt','taguado','taicus','taimal','tairy','takata','talaga','talento','taliana','tamara','tamayo','tami','tandeoy','tandioy','tangarife','tania','tao','tapasco','tape','tapia','tapias','tapie','tapiero','tapieros','taquez','taquinas','taramuel','tarapues','tarazona','tarcila','tarquino','tasama','tascon','tascon','tatiana','tautas','tavera','tax','taxis','teamco','tecnohigiene','tedesco','tejada','telcos','teleche','telesforo','tellez','tello','temporal','temporales','tengono','tenorio','teodocia','teodolfo','teodolinda','teodomira','teodora','teodoro','teodosia','teofila','teofilo','tepud','tequin','teran','teresa','teresita','terma','terranova','terreros','terresa','territorial','tersila','tesillo','teuta','tex','tezna','thailin','thalia','thaliana','thalya','thamara','thanairy','thevenet','thiago','thomas','thommas','tibaduiza','tiberio','ticora','tifanny','tigreros','timana','timaran','timon','timoteo','tinallas','tinoco','tintinago','tique','tirado','tirsa','titimbo','tito','toapanta','tobar','tobias','tobito','tobon','toledo','tolosa','toloza','tomas','tombe','tonusco','tonuzco','topa','toquica','torcoroma','torijano','toro','toronto','torre','torrente','torres','torrez','torrijos','toscano','tosse','tovar','trabajadores','transito','transporte','transportes','tranzit','travi','treghetti','trejo','trejos','triana','tribiño','tri-fit','trineyda','trinida','trinidad','triny','triviño','troche','troches','trochez','trujillo','trullo','truque','tuberquia','tucanes','tulande','tulandy','tulcan','tulia','tulio','tulua','tumbaqui','tumbo','tumiña','tunubala','tupue','tuquerres','turisticas','turizo','turjillo','turriago','tusarma','tuta','tutacha','tutistar','tys','ubaldina','ubaldo','ubeimar','ubelny','ubeny','ubenyde','uberley','uberlinda','ubernel','uberney','uchima','uchinba','uchur','udislay','uintero','ul','ulabarry','ulbrainer','ulchate','ulchur','ulcue','ulda','uldrey','uleivar','ulises','ulloa','ullos','ullune','umaña','umbarila','unas','ungria','unigarro','union','unispan','universidad','uno','upegui','uran','urania','urbano','urbertino','urbina','urcue','urcuqui','urdaneta','urdinola','urfania','uribe','uricoechea','uriel','urieles','urmendez','urmendiz','urquijo','urquina','urrea','urrego','urresta','urreste','urresti','urresty','urriago','urrutia','urueña','usa','useche','usma','usme','ussa','ustariz','usuga','usuriaga','usurriaga','uzuriaga','uzurriaga','v','vaca','vacca','valasco','valbuena','valdeblanquez','valderrama','valderruten','valdes','valdez','valdiri','valdivia','valdivieso','valdubino','valencia','valenciano','valens','valentierra','valentin','valentina','valentino','valenzuela','valeri','valeria','valerie','valero','valery','valeryn','valezco','valicia','valladales','valladares','valle','vallecilla','vallejo','valles','vallesilla','valnery','valois','valor','valquidia','valverde','valvula','vander','vanegas','vanesa','vaness','vanessa','vaneza','vannessa','vaquero','vaquiro','varanzeta','varela','vargas','varon','varon','varona','vasco','vasques','vasquez','vasquez','vasto','vda','vecsit','vega','veimar','veimer','vejarano','vela','velandia','velarde','velasco','velasquez','velasquez','velazco','velazquez','velez','velez','velosa','veloza','venachi','venegas','veneranda','venicia','venites','ventas','vente','ventura','venus','vera','verde','verdugo','verenguez','verganzo','vergara','vergel','vernaza','veronica','vesga','via','viafara','viafara','viagnery','viana','vianey','viany','vicenta','vicente','victor','victor','victoria','victoriano','vicuña','vida','vidal','vidales','vidarte','vidaura','vieda','viedma','viedman','viera','vigoya','vilamar','vilgia','villa','villabon','villabona','villacorte','villada','villadiego','villafañ','villafañe','villafuerte','villalba','villalobos','villamarin','villamil','villamizar','villamuez','villan','villan','villani','villano','villanueva','villaquiran','villaquiran','villareal','villarraga','villarreal','villarruel','villasmil','villavicencio','villegas','villeth','villota','vilma','vilmary','viloria','vinasco','vinculo','vinseth','viñas','violet','violeta','violetta','vique','virgelina','virgen','virgilia','virgilio','virginia','virisimo','viscaya','viscue','visitacion','visscher','vitalina','viteri','viuda','viva','vivana','vivas','vivero','viveros','viviam','viviama','vivian','viviana','viviany','vivienda','viviiana','vladimir','vmanrique','vnastar','voluntarios','volveras','von','vozmedia']\n",
        "c_name  =['ana', 'julia','ariza','dawer','wagner','walberto','waldina','waldir','walter','waltero','walteros','walther','wanessa','warner','wbaldino','wednesday','weimar','weizlen','wenceslao','wendy','wg','wheymar','whilinton','white','wiky','wilber','wilberto','wilches','wilchez','wildemar','wilder','wilderman','wilfer','wilford','wilfredo','wilfrido','wiliams','willan','willberth','willen','william','willian','willians','willington','willinton','wilma','wilman','wilmar','wilmer','wilmert','wilson','wilter','wilton','winy','wisberth','wisnton','wiston','wlabarry','wladimir','wm','wolf','wtk4','x','xavier','xenia','xilena','ximena','xiomahara','xiomara','xiury','xxi','y','ya','yaca','yackeline','yacnury','yacuma','yacumal','yaddy','yader','yaderli','yaderlyn','yadilin','yadir','yadira','yady','yaen','yaffah','yague','yahanna','yailan','yailin','yaily','yaima','yaira','yairmil','yaisa','yaisseidi','yajaira','yakeline','yala','yalanda','yaledit','yalena','yalila','yalileth','yalit','yalmira','yama','yamanaka','yamarlyn','yamid','yamil','yamila','yamile','yamiled','yamileida','yamilet','yamileth','yampuezan','yan','yancy','yande','yandeivis','yandi','yandri','yandun','yandy','yaned','yaneida','yanela','yanes','yaneska','yanet','yaneth','yaney','yanguas','yanguma','yanid','yanier','yanince','yanira','yanire','yaniria','yanisa','yannell','yanneth','yannier','yanten','yanten','yanza','yañez','yaquelin','yaqueline','yaqueno','yara','yarby','yareli','yarely','yaribelly','yarilet','yarine','yaritza','yariz','yaroline','yascuaran','yasiris','yasmid','yasmin','yasminy','yasno','yasnury','yasodhara','yatacue','yate','yavely','yazmin','yazmira','yeberxon','yecenia','yecid','yeferson','yeferzon','yefferson','yehisuni','yei','yeiber','yeibi','yeibig','yeico','yeidi','yeidy','yeiko','yeiler','yeimar','yeime','yeimi','yeimmi','yeimmy','yeimy','yeiner','yeini','yeinson','yeiny','yeisi','yeison','yeisson','yela','yelaine','yelexis','yelitza','yelleany','yelly','yemir','yenci','yency','yendi','yeni','yenifer','yeniffer','yenireth','yenis','yenith','yenni','yennifer','yenniffer','yenny','yennyfer','yennys','yensi','yensy','yeny','yepes','yepez','yeraldi','yeraldin','yeraldine','yeraldini','yerardin','yeris','yerislady','yerladys','yerlany','yerlez','yeron','yerson','yesenia','yeserid','yeshua','yesica','yesid','yesika','yesquen','yessenia','yessica','yessid','yessika','yestin','yesviley','yetzy','yeyenny','yezenia','ygnolia','yheiner','yhirman','yhon','yhonalde','yhordan','yiam','yibi','yiced','yicel','yicela','yicele','yiceth','yidi','yilber','yilena','yiliana','yilma','yilmer','yimara','yimmi','yina','yine','yined','yinehy','yinet','yinetc','yineth','yinna','yinneth','yiomara','yira','yiret','yiria','yirlene','yirlesa','yisel','yisela','yiseli','yisell','yiseth','yisnei','ynes','yoan','yoana','yoani','yoanna','yoany','yobani','yobanny','yobany','yocue','yodin','yoel','yofer','yoger','yohana','yohandri','yohanna','yohn','yoiner','yoisy','yojana','yoladys','yolanda','yolando','yolehidy','yoleine','yolena','yolima','yoline','yolisbeth','yoliveth','yolvy','yoly','yomaira','yomara','yomay','yon','yonatan','yonathan','yonda','yonny','yony','yor','yordy','yorfany','york','yorladis','yorladys','yorleni','yorley','yorly','yorman','yormensy','yoryani','yosando','yoseph','yoshef','yoshua','yosimar','yosselyn','yotengo','yotoco','youblin','yovana','yovani','yovanna','yovanni','yovany','ysis','yubel','yubiza','yubleny','yuceth','yuco','yucuma','yudi','yudy','yuladith','yulady','yulani','yulder','yule','yuleidy','yuleni','yuleny','yuli','yulian','yuliana','yulianna','yuliany','yulied','yulier','yuliet','yuliete','yulieth','yulisa','yulisnedy','yulissa','yulith','yuliza','yullieth','yully','yulmery','yuly','yumarly','yunda','yuraima','yurani','yuranny','yurany','yureidi','yuri','yurian','yuridya','yurledy','yurley','yurly','yury','yusbeli','yusef','yusell','yuseth','yusledi','yusmery','yustes','yusti','yustres','yusty','yuttajeidi','yuttiel','yuviza','yvonne','z','zabala','zacha','zaday','zafiro','zafra','zahira','zaida','zailem','zaitler','zalamanca','zamara','zambran','zambrano','zamir','zamora','zamorano','zamudio','zandra','zapata','zape','zarah','zarama','zarante','zarate','zaray','zareth','zaria','zayda','zazipa','zea','zegarra','zeida','zein','zemanate','zemyaxe','zenaida','zenon','zharick','zharik','zipagauta','zmin','zoe','zoila','zonal','zonia','zoraida','zoray','zoraya','zorayda','zorelly','zorilla','zorrilla','zoyla','zulay','zuleima','zulema','zuleta','zuley','zuleyma','zuleyme','zulima','zully','zulma','zulman','zuluaga','zuly','zulyma','zuñiga','zuñiga','zuri','zurita','zury']\n",
        "d_name=pd.read_csv(FOLDER_STOP_WORDS+'Names_2010Census.csv')\n",
        "d_name=d_name[d_name.name.notna()]\n",
        "d_name['name']=d_name['name'].apply(lambda x: x.lower())\n",
        "d_name=d_name.name.tolist()\n",
        "a_surname=pd.read_csv(FOLDER_STOP_WORDS+'surnames_freq_ge.csv')\n",
        "a_surname=a_surname[a_surname.surnames.notna()]\n",
        "a_surname['surnames']=a_surname['surnames'].apply(lambda x: x.lower())\n",
        "a_surname=a_surname.surnames.tolist()\n",
        "names=a_name+b_name+c_name+d_name+a_surname"
      ],
      "execution_count": 40,
      "outputs": []
    },
    {
      "cell_type": "markdown",
      "metadata": {
        "id": "FY5oSkDl31mv"
      },
      "source": [
        "Definicion de las stop words generales"
      ]
    },
    {
      "cell_type": "code",
      "metadata": {
        "id": "YJEHrcXf30Kv"
      },
      "source": [
        "stop_num=['uno','dos','tres','cuatro','cinco','seis','siete','ocho','diez','once','doce','trece','catorce','quince','dieciseis','diecisiete','dieciocho','diecinueve','veinte','veintiuno','veintidos','ventitres','veinticuatro','veinticinco','veintiseis','veintisiete','veintiocho','veintinueve','treinta','treinta y uno','treinta y dos','treinta y tres','treinta y cuatro','treinta y cinco','treinta y seis','treinta y siete','treinta y ocho','treinta y nueve','cuarenta','cuarenta y uno', 'cuarentay dos', 'cuarentay tres','cuarenta y cuatro','cuarenta y cinco', 'cuarenta y seis', 'cuarenta y siete', 'cuarentay ocho', 'cuarentay nueve', 'cincuenta', 'cincuenta y uno','cincuenta y dos', 'cincuenta y tres', 'cincuenta y cuatro', 'cincuenta y cinco', 'cincuenta y seis', 'cincuenta y siete', 'cincuenta y ocho', 'cincuenta y nueve', 'sesenta', 'sesenta y uno', 'sesenta y dos', 'sesenta y tres', 'sesenta y cuatro', 'sesenta y cinco', 'sesenta y seis', 'sesenta y siete', 'sesenta y ocho', 'sesenta y nueve', 'setenta','setenta y uno', 'setenta y dos', 'setenta y tres', 'setenta y cuatro', 'setenta y cinco', 'setenta y seis', 'setenta y siete', 'setenta y ocho', 'setenta y nueve', 'ochenta', 'ochenta y uno', 'ochenta y dos', 'ochenta y tres', 'ochenta y cuatro', 'ochenta y cinco', 'ochenta y seis', 'ochenta y siete', 'ochenta y ocho', 'ochenta y nueve', 'noventa', 'noventa y uno', 'noventa y dos', 'noventa y tres', 'noventa y cuatro', 'noventa y cinco', 'noventa y seis', 'noventa y siete', 'noventa y siete', 'noventa y ocho', 'noventa y nueve', 'cien', 'doscientos','trescientos','cuatrocientos','quinientos','seiscientos','setecientos','ochocientos', 'novecientos','mil','dosmil', 'tresmil','cuatromil','cincomil','seismil','sietemil','ochomil','nuevemil','diezmil', 'oncemil','docemil','trecemil','catorcemil','quincemil','dieciseismil','diecisietemil','dieciochomil','diecinuevemil','veintemil'  ]\n",
        "sw_basico = ['ahorita','ahora','siguiente','mucho','traves','pues','dijeron','dice','gracias','senora','senor','señora','señor','buena','buen','buenos','buenas','dias','dia','noche','noches','tarde','tardes','a','al','algo','algunas','algunos','ante','antes','como','con','contra','cual','cuando','del','desde','donde','durante','e','el','ella','ellas','ellos','en','entre','era','erais','eramos','eran','eras','eres','es','esa','esas','ese','eso','esos','esta','estaba','estabais','estabamos','estaban','estabas','estad','estada','estadas','estado','estados','estais','estamos','estan','estando','estar','estara','estaran','estaras','estare','estareis','estaremos','estaria','estariais','estariamos','estarian','estarias','estas','este','esteis','estemos','esten','estes','esto','estos','estoy','estuve','estuviera','estuvierais','estuvieramos','estuvieran','estuvieras','estuvieron','estuviese','estuvieseis','estuviesemos','estuviesen','estuvieses','estuvimos','estuviste','estuvisteis','estuvo','fue','fuera','fuerais','fueramos','fueran','fueras','fueron','fuese','fueseis','fuesemos','fuesen','fueses','fui','fuimos','fuiste','fuisteis','ha','habeis','habia','habiais','habiamos','habian','habias','habida','habidas','habido','habidos','habiendo','habra','habran','habras','habre','habreis','habremos','habria','habriais','habriamos','habrian','habrias','han','has','hasta','hay','haya','hayais','hayamos','hayan','hayas','he','hemos','hube','hubiera','hubierais','hubieramos','hubieran','hubieras','hubieron','hubiese','hubieseis','hubiesemos','hubiesen','hubieses','hubimos','hubiste','hubisteis','hubo','la','las','le','les','lo','los','mas','me','mi','mia','mias','mio','mios','mis','mucho','muchos','muy','nada','ni','no','nos','nosotras','nosotros','nuestra','nuestras','nuestro','nuestros','o','os','otra','otras','otro','otros','para','pero','poco','por','porque','que','quien','quienes','se','sea','seais','seamos','sean','seas','sentid','sentida','sentidas','sentido','sentidos','sera','seran','seras','sere','sereis','seremos','seria','seriais','seriamos','serian','serias','si','siente','sin','sintiendo','sobre','sois','somos','son','soy','su','sus','suya','suyas','suyo','suyos','tambien','tanto','te','tendra','tendran','tendras','tendre','tendreis','tendremos','tendria','tendriais','tendriamos','tendrian','tendrias','tened','teneis','tenemos','tenga','tengais','tengamos','tengan','tengas','tengo','tenia','teniais','teniamos','tenian','tenias','tenida','tenidas','tenido','tenidos','teniendo','ti','tiene','tienen','tienes','todo','todos','tu','tus','tuve','tuviera','tuvierais','tuvieramos','tuvieran','tuvieras','tuvieron','tuviese','tuvieseis','tuviesemos','tuviesen','tuvieses','tuvimos','tuviste','tuvisteis','tuvo','tuya','tuyas','tuyo','tuyos','un','una','uno','unos','vosotras','vosotros','vuestra','vuestras','vuestro','vuestros','y','ya','yo','a','aca','ahi','ajena','ajenas','ajeno','ajenos','al','algo','algun','alguna','algunas','alguno','algunos','alla','alli','alli','ambos','ampleamos','ante','antes','aquel','aquella','aquellas','aquello','aquellos','aqui','aqui','arriba','asi','atras','aun','aunque','bajo','bastante','bien','cabe','cada','casi','cierta','ciertas','cierto','ciertos','como','como','con','conmigo','conseguimos','conseguir','consigo','consigue','consiguen','consigues','contigo','contra','cual','cuales','cualquier','cualquiera','cualquieras','cuan','cuan','cuando','cuanta','cuanta','cuantas','cuantas','cuanto','cuanto','cuantos','cuantos','de','dejar','del','demas','demas','demasiada','demasiadas','demasiado','demasiados','dentro','desde','donde','dos','el','el','ella','ellas','ello','ellos','empleais','emplean','emplear','empleas','empleo','en','encima','entonces','entre','era','eramos','eran','eras','eres','es','esa','esas','ese','eso','esos','esta','estaba','estado','estais','estamos','estan','estar','estas','este','esto','estos','estoy','etc','fin','fue','fueron','fui','fuimos','gueno','ha','hace','haceis','hacemos','hacen','hacer','haces','hacia','hago','hasta','incluso','intenta','intentais','intentamos','intentan','intentar','intentas','intento','ir','jamas','junto','juntos','la','largo','las','lo','los','mas','mas','me','menos','mi','mia','mia','mias','mientras','mio','mio','mios','mis','misma','mismas','mismo','mismos','modo','mucha','muchas','muchisima','muchisimas','muchisimo','muchisimos','mucho','muchos','muy','nada','ni','ningun','ninguna','ningunas','ninguno','ningunos','no','nos','nosotras','nosotros','nuestra','nuestras','nuestro','nuestros','nunca','os','otra','otras','otro','otros','para','parecer','pero','poca','pocas','poco','pocos','podeis','podemos','poder','podria','podriais','podriamos','podrian','podrias','por que','por','porque','primero desde','primero','puede','pueden','puedo','pues','que','que','querer','quien','quien','quienes','quienesquiera','quienquiera','quiza','quizas','sabe','sabeis','sabemos','saben','saber','sabes','se','segun','ser','si','si','siempre','siendo','sin','sin','sino','so','sobre','sois','solamente','solo','somos','soy','sr','sra','sres','sta','su','sus','suya','suyas','suyo','suyos','tal','tales','tambien','tambien','tampoco','tan','tanta','tantas','tanto','tantos','te','teneis','tenemos','tener','tengo','ti','tiempo','tiene','tienen','toda','todas','todo','todos','tomar','trabaja','trabajais','trabajamos','trabajan','trabajar','trabajas','trabajo','tras','tu','tu','tus','tuya','tuyo','tuyos','ultimo','un','una','unas','uno','unos','usa','usais','usamos','usan','usar','usas','uso','usted','ustedes','va','vais','valor','vamos','van','varias','varios','vaya','verdad','verdadera','vosotras','vosotros','voy','vuestra','vuestras','vuestro','vuestros','y','ya','yo']\n",
        "\n",
        "# Inclusión de las palabras a eliminar de acuerdo con la línea de trabajo\n",
        "lista_palabras = ['bienvenido']\n",
        "sw_basico = sw_basico + lista_palabras\n",
        "\n",
        "lista_stop_words= names+stopwords.words('spanish')+stop_num+sw_basico"
      ],
      "execution_count": 41,
      "outputs": []
    },
    {
      "cell_type": "markdown",
      "metadata": {
        "id": "bdq3Ka_Y1I_z"
      },
      "source": [
        "Limpieza general para agente y usuario"
      ]
    },
    {
      "cell_type": "code",
      "metadata": {
        "id": "mDyTYrVI1Loo"
      },
      "source": [
        "#Aplicación de las funciones generales de limpieza de texto (puede incluir otra sí así lo desea)\n",
        "\n",
        "df_user['transcripcion']=df_user['transcripcion'].apply(lambda x: elimina_tildes(x))\n",
        "\n",
        "################################clean text\n",
        "df_user['transcripcion']=df_user['transcripcion'].apply(lambda x: clean_text(x))\n",
        "\n",
        "####remove short words\n",
        "df_user['transcripcion']=df_user['transcripcion'].apply(lambda x: clean_text_p(x))\n"
      ],
      "execution_count": 42,
      "outputs": []
    },
    {
      "cell_type": "markdown",
      "metadata": {
        "id": "hsqPpLtql9fg"
      },
      "source": [
        "Dataframe usuario gráficas generales"
      ]
    },
    {
      "cell_type": "markdown",
      "metadata": {
        "id": "SrMp-7xAp7ZO"
      },
      "source": [
        "Cantidad de llamadas analizadas por mes"
      ]
    },
    {
      "cell_type": "code",
      "metadata": {
        "id": "QL_w-tqollFV"
      },
      "source": [
        "# a=pd.DataFrame(df_user['mes_x'].value_counts())\n",
        "# a=a.rename(columns={'mes_x':'mes'})\n",
        "# a.reset_index(inplace=True)\n",
        "# a=a.rename(columns={'index':'Cantidad de llamadas'})\n",
        "# fig = px.bar(a, x='Cantidad de llamadas', y=a['mes'], title='Cantidad de llamadas por mes')\n",
        "# fig.show()"
      ],
      "execution_count": 43,
      "outputs": []
    },
    {
      "cell_type": "markdown",
      "metadata": {
        "id": "U_4bZKmlp958"
      },
      "source": [
        "Cantidad de llamadas analizadas por segmento"
      ]
    },
    {
      "cell_type": "code",
      "metadata": {
        "id": "5th2LLsip6kb",
        "colab": {
          "base_uri": "https://localhost:8080/",
          "height": 542
        },
        "outputId": "15ce809e-be60-43c9-bf55-9f69f3c3aed6"
      },
      "source": [
        "a=pd.DataFrame(df_user['Linea'].value_counts())\n",
        "a.reset_index(inplace=True)\n",
        "a=a.rename(columns={'index':'Lineas'})\n",
        "fig = px.bar(a, x='Lineas', y=a['Linea'], title='Cantidad de llamadas por Campaña')\n",
        "fig.show()"
      ],
      "execution_count": 44,
      "outputs": [
        {
          "output_type": "display_data",
          "data": {
            "text/html": [
              "<html>\n",
              "<head><meta charset=\"utf-8\" /></head>\n",
              "<body>\n",
              "    <div>\n",
              "            <script src=\"https://cdnjs.cloudflare.com/ajax/libs/mathjax/2.7.5/MathJax.js?config=TeX-AMS-MML_SVG\"></script><script type=\"text/javascript\">if (window.MathJax) {MathJax.Hub.Config({SVG: {font: \"STIX-Web\"}});}</script>\n",
              "                <script type=\"text/javascript\">window.PlotlyConfig = {MathJaxConfig: 'local'};</script>\n",
              "        <script src=\"https://cdn.plot.ly/plotly-latest.min.js\"></script>    \n",
              "            <div id=\"3153f57b-fa86-4ee9-90fe-98cfe6a4a567\" class=\"plotly-graph-div\" style=\"height:525px; width:100%;\"></div>\n",
              "            <script type=\"text/javascript\">\n",
              "                \n",
              "                    window.PLOTLYENV=window.PLOTLYENV || {};\n",
              "                    \n",
              "                if (document.getElementById(\"3153f57b-fa86-4ee9-90fe-98cfe6a4a567\")) {\n",
              "                    Plotly.newPlot(\n",
              "                        '3153f57b-fa86-4ee9-90fe-98cfe6a4a567',\n",
              "                        [{\"alignmentgroup\": \"True\", \"hoverlabel\": {\"namelength\": 0}, \"hovertemplate\": \"Lineas=%{x}<br>Linea=%{y}\", \"legendgroup\": \"\", \"marker\": {\"color\": \"#636efa\"}, \"name\": \"\", \"offsetgroup\": \"\", \"orientation\": \"v\", \"showlegend\": false, \"textposition\": \"auto\", \"type\": \"bar\", \"x\": [\"Personal\", \"Salud\", \"Abastecimiento\", \"Quejas y OPC\", \"Atenci\\u00f3n al accionista\", \"Operaciones Financieras\"], \"xaxis\": \"x\", \"y\": [681, 477, 225, 96, 87, 27], \"yaxis\": \"y\"}],\n",
              "                        {\"barmode\": \"relative\", \"legend\": {\"tracegroupgap\": 0}, \"template\": {\"data\": {\"bar\": [{\"error_x\": {\"color\": \"#2a3f5f\"}, \"error_y\": {\"color\": \"#2a3f5f\"}, \"marker\": {\"line\": {\"color\": \"#E5ECF6\", \"width\": 0.5}}, \"type\": \"bar\"}], \"barpolar\": [{\"marker\": {\"line\": {\"color\": \"#E5ECF6\", \"width\": 0.5}}, \"type\": \"barpolar\"}], \"carpet\": [{\"aaxis\": {\"endlinecolor\": \"#2a3f5f\", \"gridcolor\": \"white\", \"linecolor\": \"white\", \"minorgridcolor\": \"white\", \"startlinecolor\": \"#2a3f5f\"}, \"baxis\": {\"endlinecolor\": \"#2a3f5f\", \"gridcolor\": \"white\", \"linecolor\": \"white\", \"minorgridcolor\": \"white\", \"startlinecolor\": \"#2a3f5f\"}, \"type\": \"carpet\"}], \"choropleth\": [{\"colorbar\": {\"outlinewidth\": 0, \"ticks\": \"\"}, \"type\": \"choropleth\"}], \"contour\": [{\"colorbar\": {\"outlinewidth\": 0, \"ticks\": \"\"}, \"colorscale\": [[0.0, \"#0d0887\"], [0.1111111111111111, \"#46039f\"], [0.2222222222222222, \"#7201a8\"], [0.3333333333333333, \"#9c179e\"], [0.4444444444444444, \"#bd3786\"], [0.5555555555555556, \"#d8576b\"], [0.6666666666666666, \"#ed7953\"], [0.7777777777777778, \"#fb9f3a\"], [0.8888888888888888, \"#fdca26\"], [1.0, \"#f0f921\"]], \"type\": \"contour\"}], \"contourcarpet\": [{\"colorbar\": {\"outlinewidth\": 0, \"ticks\": \"\"}, \"type\": \"contourcarpet\"}], \"heatmap\": [{\"colorbar\": {\"outlinewidth\": 0, \"ticks\": \"\"}, \"colorscale\": [[0.0, \"#0d0887\"], [0.1111111111111111, \"#46039f\"], [0.2222222222222222, \"#7201a8\"], [0.3333333333333333, \"#9c179e\"], [0.4444444444444444, \"#bd3786\"], [0.5555555555555556, \"#d8576b\"], [0.6666666666666666, \"#ed7953\"], [0.7777777777777778, \"#fb9f3a\"], [0.8888888888888888, \"#fdca26\"], [1.0, \"#f0f921\"]], \"type\": \"heatmap\"}], \"heatmapgl\": [{\"colorbar\": {\"outlinewidth\": 0, \"ticks\": \"\"}, \"colorscale\": [[0.0, \"#0d0887\"], [0.1111111111111111, \"#46039f\"], [0.2222222222222222, \"#7201a8\"], [0.3333333333333333, \"#9c179e\"], [0.4444444444444444, \"#bd3786\"], [0.5555555555555556, \"#d8576b\"], [0.6666666666666666, \"#ed7953\"], [0.7777777777777778, \"#fb9f3a\"], [0.8888888888888888, \"#fdca26\"], [1.0, \"#f0f921\"]], \"type\": \"heatmapgl\"}], \"histogram\": [{\"marker\": {\"colorbar\": {\"outlinewidth\": 0, \"ticks\": \"\"}}, \"type\": \"histogram\"}], \"histogram2d\": [{\"colorbar\": {\"outlinewidth\": 0, \"ticks\": \"\"}, \"colorscale\": [[0.0, \"#0d0887\"], [0.1111111111111111, \"#46039f\"], [0.2222222222222222, \"#7201a8\"], [0.3333333333333333, \"#9c179e\"], [0.4444444444444444, \"#bd3786\"], [0.5555555555555556, \"#d8576b\"], [0.6666666666666666, \"#ed7953\"], [0.7777777777777778, \"#fb9f3a\"], [0.8888888888888888, \"#fdca26\"], [1.0, \"#f0f921\"]], \"type\": \"histogram2d\"}], \"histogram2dcontour\": [{\"colorbar\": {\"outlinewidth\": 0, \"ticks\": \"\"}, \"colorscale\": [[0.0, \"#0d0887\"], [0.1111111111111111, \"#46039f\"], [0.2222222222222222, \"#7201a8\"], [0.3333333333333333, \"#9c179e\"], [0.4444444444444444, \"#bd3786\"], [0.5555555555555556, \"#d8576b\"], [0.6666666666666666, \"#ed7953\"], [0.7777777777777778, \"#fb9f3a\"], [0.8888888888888888, \"#fdca26\"], [1.0, \"#f0f921\"]], \"type\": \"histogram2dcontour\"}], \"mesh3d\": [{\"colorbar\": {\"outlinewidth\": 0, \"ticks\": \"\"}, \"type\": \"mesh3d\"}], \"parcoords\": [{\"line\": {\"colorbar\": {\"outlinewidth\": 0, \"ticks\": \"\"}}, \"type\": \"parcoords\"}], \"pie\": [{\"automargin\": true, \"type\": \"pie\"}], \"scatter\": [{\"marker\": {\"colorbar\": {\"outlinewidth\": 0, \"ticks\": \"\"}}, \"type\": \"scatter\"}], \"scatter3d\": [{\"line\": {\"colorbar\": {\"outlinewidth\": 0, \"ticks\": \"\"}}, \"marker\": {\"colorbar\": {\"outlinewidth\": 0, \"ticks\": \"\"}}, \"type\": \"scatter3d\"}], \"scattercarpet\": [{\"marker\": {\"colorbar\": {\"outlinewidth\": 0, \"ticks\": \"\"}}, \"type\": \"scattercarpet\"}], \"scattergeo\": [{\"marker\": {\"colorbar\": {\"outlinewidth\": 0, \"ticks\": \"\"}}, \"type\": \"scattergeo\"}], \"scattergl\": [{\"marker\": {\"colorbar\": {\"outlinewidth\": 0, \"ticks\": \"\"}}, \"type\": \"scattergl\"}], \"scattermapbox\": [{\"marker\": {\"colorbar\": {\"outlinewidth\": 0, \"ticks\": \"\"}}, \"type\": \"scattermapbox\"}], \"scatterpolar\": [{\"marker\": {\"colorbar\": {\"outlinewidth\": 0, \"ticks\": \"\"}}, \"type\": \"scatterpolar\"}], \"scatterpolargl\": [{\"marker\": {\"colorbar\": {\"outlinewidth\": 0, \"ticks\": \"\"}}, \"type\": \"scatterpolargl\"}], \"scatterternary\": [{\"marker\": {\"colorbar\": {\"outlinewidth\": 0, \"ticks\": \"\"}}, \"type\": \"scatterternary\"}], \"surface\": [{\"colorbar\": {\"outlinewidth\": 0, \"ticks\": \"\"}, \"colorscale\": [[0.0, \"#0d0887\"], [0.1111111111111111, \"#46039f\"], [0.2222222222222222, \"#7201a8\"], [0.3333333333333333, \"#9c179e\"], [0.4444444444444444, \"#bd3786\"], [0.5555555555555556, \"#d8576b\"], [0.6666666666666666, \"#ed7953\"], [0.7777777777777778, \"#fb9f3a\"], [0.8888888888888888, \"#fdca26\"], [1.0, \"#f0f921\"]], \"type\": \"surface\"}], \"table\": [{\"cells\": {\"fill\": {\"color\": \"#EBF0F8\"}, \"line\": {\"color\": \"white\"}}, \"header\": {\"fill\": {\"color\": \"#C8D4E3\"}, \"line\": {\"color\": \"white\"}}, \"type\": \"table\"}]}, \"layout\": {\"annotationdefaults\": {\"arrowcolor\": \"#2a3f5f\", \"arrowhead\": 0, \"arrowwidth\": 1}, \"coloraxis\": {\"colorbar\": {\"outlinewidth\": 0, \"ticks\": \"\"}}, \"colorscale\": {\"diverging\": [[0, \"#8e0152\"], [0.1, \"#c51b7d\"], [0.2, \"#de77ae\"], [0.3, \"#f1b6da\"], [0.4, \"#fde0ef\"], [0.5, \"#f7f7f7\"], [0.6, \"#e6f5d0\"], [0.7, \"#b8e186\"], [0.8, \"#7fbc41\"], [0.9, \"#4d9221\"], [1, \"#276419\"]], \"sequential\": [[0.0, \"#0d0887\"], [0.1111111111111111, \"#46039f\"], [0.2222222222222222, \"#7201a8\"], [0.3333333333333333, \"#9c179e\"], [0.4444444444444444, \"#bd3786\"], [0.5555555555555556, \"#d8576b\"], [0.6666666666666666, \"#ed7953\"], [0.7777777777777778, \"#fb9f3a\"], [0.8888888888888888, \"#fdca26\"], [1.0, \"#f0f921\"]], \"sequentialminus\": [[0.0, \"#0d0887\"], [0.1111111111111111, \"#46039f\"], [0.2222222222222222, \"#7201a8\"], [0.3333333333333333, \"#9c179e\"], [0.4444444444444444, \"#bd3786\"], [0.5555555555555556, \"#d8576b\"], [0.6666666666666666, \"#ed7953\"], [0.7777777777777778, \"#fb9f3a\"], [0.8888888888888888, \"#fdca26\"], [1.0, \"#f0f921\"]]}, \"colorway\": [\"#636efa\", \"#EF553B\", \"#00cc96\", \"#ab63fa\", \"#FFA15A\", \"#19d3f3\", \"#FF6692\", \"#B6E880\", \"#FF97FF\", \"#FECB52\"], \"font\": {\"color\": \"#2a3f5f\"}, \"geo\": {\"bgcolor\": \"white\", \"lakecolor\": \"white\", \"landcolor\": \"#E5ECF6\", \"showlakes\": true, \"showland\": true, \"subunitcolor\": \"white\"}, \"hoverlabel\": {\"align\": \"left\"}, \"hovermode\": \"closest\", \"mapbox\": {\"style\": \"light\"}, \"paper_bgcolor\": \"white\", \"plot_bgcolor\": \"#E5ECF6\", \"polar\": {\"angularaxis\": {\"gridcolor\": \"white\", \"linecolor\": \"white\", \"ticks\": \"\"}, \"bgcolor\": \"#E5ECF6\", \"radialaxis\": {\"gridcolor\": \"white\", \"linecolor\": \"white\", \"ticks\": \"\"}}, \"scene\": {\"xaxis\": {\"backgroundcolor\": \"#E5ECF6\", \"gridcolor\": \"white\", \"gridwidth\": 2, \"linecolor\": \"white\", \"showbackground\": true, \"ticks\": \"\", \"zerolinecolor\": \"white\"}, \"yaxis\": {\"backgroundcolor\": \"#E5ECF6\", \"gridcolor\": \"white\", \"gridwidth\": 2, \"linecolor\": \"white\", \"showbackground\": true, \"ticks\": \"\", \"zerolinecolor\": \"white\"}, \"zaxis\": {\"backgroundcolor\": \"#E5ECF6\", \"gridcolor\": \"white\", \"gridwidth\": 2, \"linecolor\": \"white\", \"showbackground\": true, \"ticks\": \"\", \"zerolinecolor\": \"white\"}}, \"shapedefaults\": {\"line\": {\"color\": \"#2a3f5f\"}}, \"ternary\": {\"aaxis\": {\"gridcolor\": \"white\", \"linecolor\": \"white\", \"ticks\": \"\"}, \"baxis\": {\"gridcolor\": \"white\", \"linecolor\": \"white\", \"ticks\": \"\"}, \"bgcolor\": \"#E5ECF6\", \"caxis\": {\"gridcolor\": \"white\", \"linecolor\": \"white\", \"ticks\": \"\"}}, \"title\": {\"x\": 0.05}, \"xaxis\": {\"automargin\": true, \"gridcolor\": \"white\", \"linecolor\": \"white\", \"ticks\": \"\", \"title\": {\"standoff\": 15}, \"zerolinecolor\": \"white\", \"zerolinewidth\": 2}, \"yaxis\": {\"automargin\": true, \"gridcolor\": \"white\", \"linecolor\": \"white\", \"ticks\": \"\", \"title\": {\"standoff\": 15}, \"zerolinecolor\": \"white\", \"zerolinewidth\": 2}}}, \"title\": {\"text\": \"Cantidad de llamadas por Campa\\u00f1a\"}, \"xaxis\": {\"anchor\": \"y\", \"domain\": [0.0, 1.0], \"title\": {\"text\": \"Lineas\"}}, \"yaxis\": {\"anchor\": \"x\", \"domain\": [0.0, 1.0], \"title\": {\"text\": \"Linea\"}}},\n",
              "                        {\"responsive\": true}\n",
              "                    ).then(function(){\n",
              "                            \n",
              "var gd = document.getElementById('3153f57b-fa86-4ee9-90fe-98cfe6a4a567');\n",
              "var x = new MutationObserver(function (mutations, observer) {{\n",
              "        var display = window.getComputedStyle(gd).display;\n",
              "        if (!display || display === 'none') {{\n",
              "            console.log([gd, 'removed!']);\n",
              "            Plotly.purge(gd);\n",
              "            observer.disconnect();\n",
              "        }}\n",
              "}});\n",
              "\n",
              "// Listen for the removal of the full notebook cells\n",
              "var notebookContainer = gd.closest('#notebook-container');\n",
              "if (notebookContainer) {{\n",
              "    x.observe(notebookContainer, {childList: true});\n",
              "}}\n",
              "\n",
              "// Listen for the clearing of the current output cell\n",
              "var outputEl = gd.closest('.output');\n",
              "if (outputEl) {{\n",
              "    x.observe(outputEl, {childList: true});\n",
              "}}\n",
              "\n",
              "                        })\n",
              "                };\n",
              "                \n",
              "            </script>\n",
              "        </div>\n",
              "</body>\n",
              "</html>"
            ]
          },
          "metadata": {
            "tags": []
          }
        }
      ]
    },
    {
      "cell_type": "markdown",
      "metadata": {
        "id": "yvgSv6adqboI"
      },
      "source": [
        "**Limpieza general para el usuario**"
      ]
    },
    {
      "cell_type": "markdown",
      "metadata": {
        "id": "B4Pw1wqSsgpQ"
      },
      "source": [
        "Observamos las palabras más frecuentes para eliminar stop-words que pueden ser propias del negocio, como en este caso Ecopetrol."
      ]
    },
    {
      "cell_type": "code",
      "metadata": {
        "id": "-ZQwVL-5YkyX"
      },
      "source": [
        "freq_important = pd.Series(' '.join(df_user['transcripcion']).split()).value_counts()[:900]"
      ],
      "execution_count": 45,
      "outputs": []
    },
    {
      "cell_type": "code",
      "metadata": {
        "id": "Mv7pxMO8Ykyc",
        "colab": {
          "base_uri": "https://localhost:8080/"
        },
        "outputId": "d1114c77-c228-4a42-c4fe-a9545f61e456"
      },
      "source": [
        "freq_important[50:100]"
      ],
      "execution_count": 46,
      "outputs": [
        {
          "output_type": "execute_result",
          "data": {
            "text/plain": [
              "cual           701\n",
              "estan          696\n",
              "muchas         664\n",
              "favor          660\n",
              "usted          644\n",
              "ciento         621\n",
              "ellos          620\n",
              "puede          617\n",
              "dice           614\n",
              "pago           594\n",
              "ahora          586\n",
              "veinte         582\n",
              "tienen         582\n",
              "tiempo         577\n",
              "otra           574\n",
              "tarde          538\n",
              "mira           536\n",
              "parte          536\n",
              "todos          512\n",
              "buenas         511\n",
              "ochenta        509\n",
              "mismo          508\n",
              "aqui           506\n",
              "setenta        499\n",
              "estas          495\n",
              "amable         492\n",
              "otro           486\n",
              "creo           480\n",
              "hace           465\n",
              "trece          463\n",
              "nombre         458\n",
              "buenos         455\n",
              "pasa           453\n",
              "momento        449\n",
              "claro          435\n",
              "orden          427\n",
              "tardes         426\n",
              "correcto       419\n",
              "cuenta         415\n",
              "antes          413\n",
              "senorita       409\n",
              "decir          403\n",
              "servicios      400\n",
              "ecopetrol      397\n",
              "pregunta       388\n",
              "tenia          388\n",
              "solicitud      371\n",
              "factura        368\n",
              "entre          366\n",
              "informacion    361\n",
              "dtype: int64"
            ]
          },
          "metadata": {
            "tags": []
          },
          "execution_count": 46
        }
      ]
    },
    {
      "cell_type": "code",
      "metadata": {
        "id": "NtzkRhRCOM7d"
      },
      "source": [
        "stop_words_user=['personal','personal','pasame','pasa','paso','pasar','entiendo','entenderme','entiendame','entender','entiende','esperame','espereme','esperar','bendecir','publishing','bendiga','senoritas','resulta','quiere','hablas','linea','recien','dieron','cosa','veintitres','igual','igualmente','mejor','puedes','atencion','dijeron','tipo','dijo','digamos','queria','dicen','acuerdo','correcto','decir','nueve','numero','despues','tarde','quiero','nueve','ciento','parte','arroba','algo','estas','punta','esas','sera','quedo','exacto','haya','segun','toca','cerca','dado','casi','toda','directamente','pena','ello','esos','cualquier','ellas','debo','eres','misma','realmente','perfecto','primero','segundo','tercera','primera','dios','quisiera','sino','buena','puntos','unas','todavia','agradezco','seria','veces','tras','alguna','alguien','tanto','vale', 'cierto','digo','hola','cuanto','gran', 'luego','estamos','muchisimas','parece', 'antes','otros', 'otro', 'pasa', 'quiero','parte','mira','ciento','ellos','amable','cual','algo','habla','puedo','ecopetrol','dias','tardes','nombre','senorita','mismo','todos','claro','estoy','listo','porque','tengo','cero','perdon','ella', 'el','todo','listo','nada','ok','okay','pues','pero','tiene','hace','entonces','senor','senora','senoras','senoras','seno','punto','muchas','gracias', 'tambien','puede', 'ahora','buenas','buen','cuenta','ustedes','usted','momento']"
      ],
      "execution_count": 47,
      "outputs": []
    },
    {
      "cell_type": "code",
      "metadata": {
        "id": "1_LrGLy9Ykyk"
      },
      "source": [
        "stop_words_weird= ['aachoury', 'aadaoui', 'aaddam', 'aafia', 'aakel', 'aallali', 'aaly', 'aamery', 'aamrani', 'aamri', 'aaraj', 'aaroussi', 'aasri', 'abadal', 'abbad', 'abbady', 'abbasy', 'abbou', 'abdelkrim', 'abdellah', 'abderhim', 'abderrahim', 'abderrahman', 'abdeslam', 'abdlaoui', 'abdli', 'abellan', 'abetxuko', 'abia', 'abouti', 'abouyi', 'abyad', 'achab', 'achaouchi', 'achiri', 'achouchi', 'achoui', 'achouri', 'acitores', 'adad', 'adak', 'adalid', 'adana', 'addad', 'addou', 'adeva', 'adnani', 'adouti', 'adraoui', 'afan', 'afi', 'agesta', 'aggari', 'aggoubi', 'aghzaoui', 'agote', 'agredos', 'aguera', 'aguillo', 'agullo', 'agustino', 'ahrach', 'aira', 'aisati', 'aissaouy', 'ait', 'aitour', 'aizpurua', 'ajjani', 'ajjouri', 'ajofrin', 'akal', 'akker', 'akrout', 'alaiz', 'alaminos', 'alamy', 'albeniz', 'alberca', 'albertos', 'alboran', 'alcañiz', 'alcorocho', 'aldagalan', 'aleixandre', 'aleson', 'algaba', 'alilou', 'alisal', 'allaly', 'allaoui', 'allid', 'allimes', 'allouch', 'allouti', 'almenta', 'almuzara', 'alorda', 'alouani', 'alzorriz', 'ambrona', 'amerany', 'amezua', 'amilibia', 'ammaoui', 'ammary', 'amoraga', 'amorena', 'amoum', 'amraouy', 'amraqui', 'amrati', 'amriti', 'amry', 'anabi', 'anbari', 'anbi', 'andaloussi', 'andoain', 'angeler', 'angoud', 'angoudi', 'anguera', 'anjou', 'ankoud', 'anleo', 'anssari', 'antari', 'antonaya', 'antoñana', 'anucita', 'anzouki', 'aoud', 'aoudati', 'aoula', 'aoulad', 'aoumrani', 'aouny', 'apellaniz', 'apio', 'apraiz', 'araby', 'aracil', 'arafi', 'araibi', 'aranguiz', 'aranzueque', 'arbiti', 'arbol', 'arboleya', 'archidona', 'ardanza', 'ardieta', 'ardle', 'areal', 'areba', 'arechaga', 'arechavaleta', 'arechuluaga', 'arenaza', 'arenzana', 'arevalillo', 'arfaouy', 'argabi', 'argandoña', 'argente', 'argibay', 'argimiro', 'argoubi', 'argueso', 'arguioui', 'arisco', 'aristegui', 'arizaleta', 'ariño', 'arkoubi', 'armiñan', 'arnabi', 'arnilla', 'arnouk', 'aroui', 'arouy', 'arpe', 'arquer', 'arquimbau', 'arrag', 'arrak', 'arrese', 'arriscado', 'arroiabe', 'arroubi', 'arroudi', 'arroussi', 'artacho', 'artajo', 'artaza', 'artazcoz', 'artiñano', 'aryani', 'asanza', 'ascasua', 'asco', 'asery', 'asiain', 'asli', 'asmi', 'asnabi', 'aspe', 'assari', 'assas', 'assbahi', 'assin', 'assioui', 'assiri', 'astilleros', 'astorza', 'astray', 'asua', 'atalaya', 'atance', 'athmani', 'atmioui', 'atrach', 'atrache', 'attak', 'audikana', 'auria', 'avanzo', 'ayachi', 'ayane', 'ayat', 'ayatte', 'aydouni', 'aymerich', 'ayreflor', 'ayucar', 'ayyachi', 'azaar', 'azagra', 'azaña', 'azcoitia', 'azcutia', 'azelain', 'azero', 'azi', 'aziri', 'azmani', 'azpiazu', 'azpillaga', 'azri', 'azzabi', 'azzaouy', 'azzouti', 'azzouzy', 'badaoui', 'badaouy', 'badnaoui', 'badraoui', 'bagdadi', 'baghar', 'baghati', 'baghazaoui', 'bahaoui', 'bahjaoui', 'bahloul', 'bahtsou', 'bahy', 'baidaoui', 'bailliere', 'bajaoui', 'bakali', 'bakaoui', 'bakhouti', 'bakkach', 'bakkali', 'bakkaoui', 'bakkouri', 'bakrioui', 'balcells', 'balgou', 'balugera', 'bannaoui', 'banyahyati', 'baouti', 'baqqaly', 'baraghraghi', 'bardai', 'bardouni', 'barhmi', 'barja', 'barjiji', 'barkani', 'barnaoui', 'barnola', 'barnuevo', 'baroja', 'baroudy', 'barrajon', 'barrak', 'barrani', 'bassou', 'batallon', 'batioui', 'batllori', 'batoul', 'battioui', 'baumberghen', 'bayad', 'bayed', 'bayonas', 'bayuela', 'baños', 'becerro', 'bechchari', 'bedmar', 'bekkali', 'bekkaoui', 'bekraoui', 'belarbi', 'beldad', 'belenguer', 'belghiti', 'bellacasa', 'benegassi', 'benhiti', 'berghe', 'bergnes', 'bergui', 'berkani', 'bernalt', 'bes', 'bethencourt', 'betioui', 'betolaza', 'beyed', 'bezzi', 'biari', 'biedma', 'bisan', 'bleda', 'boazzati', 'boente', 'bofarull', 'boghdadi', 'bohdidi', 'bojaddaini', 'bonrostro', 'bonsoms', 'bordons', 'borji', 'borregon', 'borreguero', 'borso', 'boti', 'bouabdelli', 'bouabi', 'bouadili', 'bouanani', 'bouazati', 'bouazza', 'bouazzaouy', 'bouchaibi', 'bouchikhi', 'boudakhani', 'boughdadi', 'bouhamdi', 'bouhassani', 'bouhati', 'bouhli', 'bouhssini', 'bouinany', 'boujaddaini', 'boujarfaoui', 'boujdaini', 'bouji', 'boukaddidi', 'boukadidi', 'boukhary', 'boukrioui', 'boukyly', 'bouri', 'bourimi', 'bourmaki', 'bousairi', 'bousaksaki', 'bouslami', 'boussaidi', 'boussettaoui', 'boussikhani', 'boustati', 'boutahiri', 'boutrouki', 'bouzdoudi', 'bouzekraoui', 'bouzrati', 'brak', 'brazales', 'braña', 'bremond', 'bretaño', 'brioles', 'briñas', 'brocal', 'broeck', 'brouzi', 'brugada', 'bruijn', 'bucesta', 'buenaposada', 'buiza', 'burach', 'burguillos', 'buruaga', 'bustelo', 'bustio', 'byad', 'caballos', 'cabarcos', 'cabañas', 'cabezon', 'cachalvite', 'cadiñanos', 'calabres', 'calcerrada', 'calera', 'caleya', 'camacha', 'campins', 'campinun', 'camuñas', 'candi', 'caniego', 'cantalejo', 'canteli', 'canti', 'capalleja', 'caralt', 'carasa', 'carcer', 'carellan', 'carnerero', 'carnicero', 'carpinte', 'carrascosa', 'carreres', 'carriazo', 'cartavio', 'casacuberta', 'casadevante', 'cascado', 'cascon', 'casquet', 'castañon', 'castellarnau', 'castellvi', 'castizo', 'castroverde', 'cañavate', 'cañedo', 'cañero', 'cañete', 'cañizo', 'cdeb', 'cdem', 'ceca', 'cedron', 'celemin', 'cendra', 'cenzano', 'cesero', 'ceso', 'cesto', 'chaib', 'chaibi', 'chairi', 'chakir', 'chaouy', 'charkaouy', 'charki', 'charqaoui', 'charqaouy', 'chicheri', 'chicote', 'chocano', 'ciaño', 'cigoña', 'ciordia', 'ciria', 'ciriano', 'ciriza', 'cita', 'ciurana', 'clairac', 'clercq', 'clotet', 'codes', 'codo', 'cogolludo', 'coig', 'cojo', 'colosia', 'colsa', 'colubi', 'com', 'comalrena', 'comasema', 'comendador', 'cominges', 'comino', 'contador', 'contrasta', 'corbalan', 'corriendo', 'corroto', 'corta', 'cosa', 'cosso', 'cotan', 'cotarelo', 'courtoy', 'coviella', 'covisa', 'crehuet', 'crohon', 'cuarentay', 'cubells', 'cubillana', 'cubo', 'cuerva', 'cuervas', 'cuetara', 'cuns', 'daalen', 'daghmoumi', 'dago', 'dahbi', 'dalmases', 'dardet', 'davalillo', 'dedicacion', 'delas', 'diaye', 'diezma', 'dogherty', 'dolz', 'doncel', 'donesteve', 'dongen', 'donlebun', 'driss', 'duijn', 'dujat', 'durana', 'echague', 'echaguen', 'echanove', 'echarri', 'echavarri', 'echazarreta', 'echebarria', 'echezarreta', 'edrisi', 'eficacia', 'egaña', 'eguilaz', 'eguileor', 'eguinoa', 'eijk', 'eiris', 'elcoro', 'elez', 'elipe', 'embun', 'emparanza', 'enfed', 'engeños', 'entresotos', 'erausquin', 'erentxun', 'ereño', 'eribe', 'erive', 'escariche', 'escauriaza', 'escobero', 'escolar', 'escriva', 'espartero', 'espiauba', 'espirito', 'espona', 'espresati', 'espriella', 'estañ', 'estebanez', 'estecha', 'estil', 'estivariz', 'et', 'etxebarria', 'etxeberria', 'eufrasio', 'eyk', 'eynde', 'ez', 'ezquerecocha', 'ezquerra', 'fabres', 'fachtali', 'faddali', 'fadli', 'fadon', 'faghloumi', 'fahil', 'fahoul', 'fahsi', 'fakousi', 'fakrouni', 'falaki', 'falces', 'fallaki', 'fando', 'faouzi', 'faraa', 'fargani', 'fari', 'faribi', 'farji', 'farma', 'farri', 'farrich', 'farsaoui', 'farssani', 'farssioui', 'fartassi', 'fas', 'fasi', 'fatehy', 'fatimy', 'fayda', 'fayos', 'fazazi', 'fazazy', 'febrer', 'fedg', 'fekri', 'felgueroso', 'fellah', 'ferchem', 'ferrater', 'fertrell', 'fettahi', 'fezazi', 'fezzazi', 'fhoul', 'filia', 'fizazi', 'folla', 'fontcuberta', 'forcallo', 'fornells', 'foual', 'fresca', 'fresno', 'friera', 'fueyo', 'gahs', 'gaitero', 'galai', 'galana', 'galbis', 'galdon', 'galisteo', 'gallaf', 'gango', 'gannay', 'ganso', 'gaoudi', 'garayalde', 'garayo', 'gardoqui', 'garnaoui', 'garouani', 'garrab', 'gattaoui', 'gaztelu', 'gdari', 'gerons', 'gesto', 'getino', 'geus', 'ghachi', 'ghajouan', 'ghalid', 'ghanemy', 'ghannami', 'ghannay', 'ghaouat', 'ghaouti', 'gharabi', 'gharbaouy', 'ghardini', 'gharras', 'gharroubi', 'ghazlani', 'ghazouany', 'ghazy', 'gheryb', 'ghezouani', 'ghorri', 'ghouch', 'ghoudani', 'ghoujdami', 'ghoul', 'ghoulbzouri', 'ghoulimi', 'ghoury', 'ghrari', 'ghrissat', 'giralda', 'giribert', 'gironella', 'girones', 'godos', 'gogeascoa', 'goikoetxea', 'goma', 'gomri', 'gonzalvez', 'gopegui', 'gorch', 'gordoa', 'gorgi', 'gorji', 'gortazar', 'gouad', 'gourch', 'gourche', 'gourfti', 'gouy', 'goyena', 'goyoaga', 'goñi', 'gracas', 'grandes', 'granero', 'grath', 'greef', 'greñu', 'griny', 'gromaz', 'gtibi', 'guadi', 'guayo', 'guebli', 'guechati', 'guedeja', 'guemes', 'guenaoui', 'guenouni', 'gueryny', 'guijo', 'guillamon', 'guindos', 'guinoa', 'guzma', 'hab', 'habsati', 'habz', 'hachemi', 'hachioui', 'hachmi', 'haddari', 'haddi', 'haddou', 'haddouch', 'haddoumi', 'hadrati', 'hadry', 'hafian', 'hafid', 'hafidi', 'hafidy', 'hafydy', 'hahaoui', 'haidadi', 'haidouri', 'haiek', 'hailoufi', 'haimar', 'hairach', 'hairech', 'haitout', 'hajami', 'hajioui', 'hajjy', 'hajui', 'hakaoui', 'hakimy', 'hakioui', 'hakmi', 'hakour', 'halfi', 'halouani', 'hamdaoui', 'hamdaouy', 'hamioui', 'hammadi', 'hammam', 'hammani', 'hammari', 'hammou', 'hammouch', 'hammoudi', 'hammoumy', 'hammouri', 'hammouti', 'hamry', 'hamyani', 'handaoui', 'handaz', 'haniti', 'hankari', 'hannoudi', 'hannouti', 'hantari', 'hantlaoui', 'haou', 'haouass', 'haouhay', 'haoulani', 'haouti', 'haouzy', 'haraoui', 'harche', 'harda', 'hardouz', 'harfi', 'harguindey', 'harib', 'harkaoui', 'harmouchi', 'harouchi', 'harouni', 'harrach', 'harradi', 'harraj', 'harrak', 'harrami', 'harraq', 'harrouyi', 'harsi', 'haskouri', 'hasnaouy', 'hassadi', 'hassany', 'hassouny', 'hataf', 'hatifi', 'hatmi', 'hattach', 'haupold', 'hayadi', 'hayyani', 'hazas', 'hbil', 'heijden', 'hellaoui', 'hemdi', 'henarejos', 'henestrosa', 'henestroza', 'heranz', 'heredero', 'heros', 'herrasti', 'hessaini', 'hiani', 'hibari', 'hidalga', 'higes', 'higueras', 'hilaly', 'hilly', 'hirch', 'hirchi', 'hitani', 'hiz', 'hmoudi', 'hniti', 'hoces', 'hoeven', 'hombre', 'homrani', 'hontoria', 'horenbeke', 'horfi', 'hornero', 'hortega', 'houary', 'houat', 'houchni', 'houcine', 'houdaifi', 'houfi', 'houhai', 'houjjaji', 'houl', 'hounaini', 'housaini', 'housni', 'houti', 'hssain', 'huebra', 'huertos', 'huz', 'ibar', 'ibarreta', 'ibor', 'icaya', 'idrysy', 'igor', 'ilarduya', 'ilurdoz', 'ilzarbe', 'imaña', 'imrany', 'inani', 'infiesta','inglott','ingunza', 'iniesta', 'intyre', 'inza', 'ipiña', 'irala', 'irizar', 'irujo', 'irun', 'isafi', 'isasa', 'isasmendi', 'isati', 'isidra', 'issati', 'isusi', 'iturrate', 'iturri', 'iysaouy', 'izar', 'iñigo', 'iñiguez', 'jaafari', 'jabbouri', 'jabiry', 'jabouri', 'jadaoui', 'jaddaoui', 'jadydy', 'jafoufi', 'jaghaoui', 'jaghnouni', 'jalmar', 'jalon', 'jamai', 'jamghili', 'jantafi', 'jaouhary', 'jaouzi', 'jarabo', 'jareño', 'jarroudi', 'jaureguizar', 'javato', 'jayidi', 'jaziri', 'jebari', 'jeld', 'jerari', 'jillali', 'jocano', 'jonge', 'jongh', 'jordana', 'jouhari', 'jovellar', 'joz', 'juanas', 'juez', 'junguitu', 'jussa', 'kabbachi', 'kachachi', 'kachari', 'kaddaoui', 'kaddour', 'kaderi', 'kahi', 'kahtaoui', 'kaich', 'kaidi', 'kaissoumi', 'kajjoui', 'kajoui', 'kallachi', 'kallali', 'kamboui', 'kamili', 'kammas', 'kammass', 'kammouni', 'kanfaoui', 'kanfoud', 'kanzaoui', 'kaouakibi', 'kaoui', 'kaouini', 'kaoutari', 'kaoutit', 'karbas', 'karboubi', 'karchaoui', 'karchouhi', 'karfi', 'karfouh', 'karouni', 'karraoui', 'karrat', 'karrichi', 'karroumi', 'karta', 'karzazi', 'kasmi', 'kasmy', 'kassah', 'kati', 'kattat', 'kaychouhi', 'kayouri', 'kbir', 'kchakchi', 'keneksi', 'khabat', 'khabbazi', 'khadim', 'khadraoui', 'khalfaouy', 'khalfi', 'khalfioui', 'khallaoui', 'khalloufi', 'khalqi', 'khammar', 'khamraoui', 'khamri', 'khanfouri', 'khanfri', 'khaoudi', 'kharbouchi', 'kharrim', 'khassal', 'khatab', 'khatif', 'khattabi', 'khchin', 'khdim', 'khedar', 'khiari', 'khihal', 'khlifi', 'khmissi', 'khobzi', 'khomci', 'khomri', 'khomssi', 'khoukh', 'khoulfi', 'khoumssi', 'khouya', 'kihal', 'kili', 'klahi', 'klai', 'klaloussi', 'komiry', 'korrichi', 'kotbi', 'kouaa', 'kouazi', 'kouche', 'koudri', 'koumir', 'kourachi', 'kourai', 'kourchi', 'kourtbi', 'koussi', 'krichi', 'laan', 'laarbi', 'lacalle', 'lachhab', 'ladron', 'laguno', 'lahmar', 'lahyani', 'laiglesia', 'lamamie', 'lamarti', 'lamine', 'lamuño', 'lancha', 'lanchares', 'landaburu', 'langarika', 'lanzac', 'lanzagorta', 'lapeña', 'larena', 'larra', 'larraya', 'larraz', 'larrinzar', 'lasarte', 'lasheras', 'latasa', 'laulhe', 'leceta', 'lechon', 'legarra', 'legaz', 'lejarza', 'lemine', 'lerdo', 'lersundi', 'letosa', 'lezana', 'lhaj', 'lhou', 'liaño', 'libano', 'liebana', 'liencres', 'lieshout', 'ligero', 'limia', 'linador', 'liron', 'lizaur', 'liñan', 'llago', 'llamazares', 'llaura', 'llebrera', 'llebrez', 'llobet', 'lloch', 'llosada', 'llosera', 'loaisa', 'loeches', 'loizaga', 'lomeña', 'looy', 'lopidana', 'loresecha', 'loriente', 'lorite', 'lossada', 'louah', 'loukilia', 'lozao', 'loño', 'lucendo', 'luelmo', 'luengos', 'lueta', 'lugarnuevo', 'lul', 'luxan', 'maachy', 'maadioui', 'maazi', 'maazizi', 'mabrouki', 'machati', 'machhouri', 'machmachi', 'machoudi', 'macorra', 'madaghri', 'madany', 'maddahi', 'maddioui', 'madhoun', 'madina', 'madinabeitia', 'madmadi', 'madroño', 'mafdoul', 'maftouhi', 'maghraoui', 'maghroudi', 'mahboub', 'mahdali', 'mahfoudy', 'mahjoubi', 'mahsani', 'majagranzas', 'majati', 'majdoul', 'majrissi', 'makadmi', 'makaoui', 'makioui', 'makkaoui', 'makrini', 'malehy', 'malibran', 'mallaly', 'mallem', 'mallouli', 'mamoune', 'mamouny', 'manaoui', 'mancheño', 'mandojana', 'manglano', 'manichi', 'manjaron', 'manjoya', 'mankouri', 'mannachi', 'mansoury', 'mantero', 'maquieira', 'marabti', 'marañon', 'marcilla', 'marcote', 'margallo', 'mariami', 'mariblanca', 'maribona', 'mariñas', 'marjani', 'markhi', 'maroufy', 'marraki', 'marrouni', 'marsni', 'martioda', 'marzouki', 'masana', 'masbahi', 'masnaoui', 'masoudy', 'massaoud', 'matarredona', 'matauco', 'matres', 'mauriño', 'mazarambroz', 'mazini', 'mazmouzi', 'mazouni', 'mazouzi', 'mbark', 'mchiout', 'medio', 'medlej', 'meftah', 'mehdaoui', 'mehedi', 'mejdki', 'mekharchef', 'mekkaoui', 'mellouki', 'mendarozqueta', 'mendibil', 'mendiguren', 'mendiluce', 'mendiolaza', 'merouani', 'merrouni', 'merzouki', 'mesas', 'mesbahy', 'meslouhi', 'mesonero', 'messaoudi', 'metmary', 'metni', 'mettaoui', 'meulen', 'mezouak', 'mezquia', 'mezraoui', 'mgharbi', 'mhamdi', 'mhassani', 'miftah', 'miguelsanz', 'milara', 'mimoun', 'minayo', 'miquel', 'miquelez', 'mizeb', 'miñon', 'mkaddem', 'mkhitar', 'moatassim', 'moha', 'mojahidi', 'mokaddam', 'mokaddemi', 'mokadmi', 'mokhtary', 'moktatifi', 'moldes', 'monasterioguren', 'monco', 'moneda', 'moneo', 'monja', 'montagut', 'montaut', 'montañes', 'monteserin', 'monteys', 'montiano', 'moqaddam', 'morabti', 'moragas', 'morakib', 'morate', 'moraño', 'morote', 'mortada', 'mortaji', 'mosati', 'mossaoui', 'mossati', 'motos', 'mouadden', 'mouaden', 'mouak', 'mouatassim', 'mouftakir', 'mougha', 'mouhajir', 'mouhib', 'mouini', 'moujahid', 'moujoud', 'moukaddem', 'moukadem', 'moukhloufi', 'moula', 'moulat', 'moumen', 'mourabet', 'mourabiti', 'mousaouy', 'moussaouy', 'moussaqui', 'moutaouakil', 'moutouk', 'mouyssy', 'movellan', 'mozas', 'mozos', 'mrabit', 'msellem', 'msiah', 'mullony', 'munain', 'muniain', 'munio', 'muntadas', 'munte', 'murieta', 'musaui', 'musitu', 'muñana', 'muñiz', 'mzahem', 'nacimiento', 'naciri', 'naharro', 'nahet', 'nalda', 'nanclares', 'naouy', 'nasarre', 'nasiry', 'navamuel', 'navascues', 'navasques', 'nazeh', 'nbsp', 'nieta', 'niñirola', 'noguerol', 'nouali', 'nozal', 'nuño', 'ocariz', 'ocaña', 'ocenda', 'odriozola', 'ogarrio', 'ogbani', 'oikili', 'oirdi', 'oirzadi', 'ojel', 'ojer', 'ojicos', 'ojos', 'olabarria', 'olaguer', 'olalla', 'olañeta', 'olcoz', 'olias', 'olleros', 'olza', 'onsoño', 'onsri', 'onzoño', 'oorschot', 'opazo', 'opo', 'orch', 'orduña', 'orgaz', 'ormaechea', 'ormijana', 'orovio', 'orruño', 'orte', 'orueta', 'oruña', 'osrouti', 'ossorno', 'ostiz', 'otazo', 'oteo', 'othemany', 'other', 'otmany', 'otxoa', 'ouaaliti', 'ouaamari', 'ouaaziki', 'ouaaziky', 'ouaazizi', 'ouad', 'ouadghiri', 'ouadni', 'ouahal', 'ouahbi', 'ouahdani', 'ouahhabi', 'ouahhaby', 'ouahi', 'ouahrani', 'ouaissa', 'ouajdi', 'ouald', 'ouali', 'oualidi', 'oualiti', 'oualkadi', 'ouamari', 'ouansaidi', 'ouardighi', 'ouardy', 'ouarghi', 'ouarit', 'ouaryachi', 'ouasdi', 'ouassdi', 'ouassidi', 'ouastani', 'ouat', 'ouatani', 'ouati', 'oubiña', 'oueld', 'oufairi', 'oufir', 'ouhabi', 'ouizi', 'oujdi', 'oulad', 'ould', 'ouriachi', 'ourzadi', 'outon', 'ovies', 'oña', 'oñate', 'palanco', 'pallete', 'palou', 'pampin', 'panadero', 'parayuelo', 'parias', 'pariza', 'partearroyo', 'pastors', 'pauw', 'pecellin', 'peces', 'peciña', 'pedrera', 'pedreño', 'penalva', 'penche', 'peque', 'perosanz', 'perreau', 'perrote', 'pescuezo', 'pey', 'pezuela', 'peñalver', 'piaya', 'pidal', 'pierola', 'pinninck', 'pipaon', 'piñal', 'piñar', 'piñeiro', 'piñera', 'piñero', 'planell', 'platard', 'pobes', 'pobil', 'polavieja', 'ponga', 'porrero', 'portabella', 'portanet', 'potro', 'pouplana', 'poyo', 'poza', 'pozuelo', 'pra', 'pradas', 'preciados', 'prestamo', 'pueblas', 'puelles', 'pumarino', 'pumariño', 'pumpido', 'purificacao', 'qabiti', 'qabti', 'qaddouri', 'qaddoury', 'qadi', 'qadiri', 'qarfaoui', 'qasemy', 'qasmy', 'qessouar', 'quadra', 'quadras', 'quejo', 'quenin', 'quer', 'quincoces', 'rabehy', 'rabet', 'rachdi', 'rahhali', 'rahmouni', 'rahou', 'raidi', 'ramade', 'ranera', 'rasilla', 'ratby', 'rato', 'rañada', 'rebato', 'reboleño', 'recuero', 'redrojo', 'regatillo', 'regil', 'regueral', 'reija', 'rellan', 'renau', 'rendueles', 'repiso', 'resayre', 'reseco', 'retiro', 'retortillo', 'revenga', 'revillas', 'reyahi', 'rhali', 'rhozlane', 'riancho', 'ribes', 'ridruejo', 'riet', 'rijn', 'rimada', 'rioboo', 'risueño', 'rituerto', 'rivavelarde', 'roales', 'rocafiguera', 'rodeja', 'rodilla', 'rodrigañez', 'roitegui', 'roj', 'romarategui', 'romate', 'romeral', 'rooij', 'rothvoss', 'roves', 'royuela', 'rufete', 'ruiberriz', 'ruste', 'ruy', 'saac', 'sabarte', 'sabbar', 'sacedon', 'saddik', 'safont', 'sagarra', 'sagaseta', 'sagra', 'sahely', 'sahraouy', 'saiydy', 'salamero', 'salmones', 'salort', 'sanctis', 'sanmamed', 'sannouni', 'santaquiteria', 'santisima', 'santivañes', 'santullano', 'sapiña', 'sarralde', 'sarrionandia', 'sauch', 'saz', 'sbai', 'sbih', 'scals', 'schaik', 'sebaiy', 'seddik', 'sedeño', 'seghyr', 'sellam', 'senillosa', 'sentmenat', 'serdio', 'serghin', 'serrana', 'serranillos', 'serranos', 'shaim', 'sidrach', 'sidro', 'sidron', 'sigmaringa', 'silgado', 'simal', 'sivatte', 'siñeriz', 'slaiman', 'smedt', 'solaguren', 'soldado', 'sonseca', 'soraluce', 'soriguer', 'sors', 'sotilla', 'sotoca', 'sousy', 'suelto', 'suso', 'suñer', 'tabernero', 'tabla', 'tahar', 'tahery', 'tajada', 'tajuelo', 'talby', 'taleby', 'tamghart', 'tanago', 'tangil', 'taouil', 'tapetado', 'tapiador', 'tapial', 'tarazaga', 'tarruella', 'taviel', 'tayea', 'teba', 'tebar', 'tejo', 'tembleco', 'temiño', 'tera', 'tereso', 'ternero', 'terradas', 'thorices', 'tiedra', 'tofiño', 'tolra', 'torcuato', 'tord', 'toresano', 'torqui', 'torron', 'toubes', 'touhami', 'traba', 'trapa', 'trapaga', 'travanco', 'travesedo', 'treceño', 'trechuelo', 'tresguerres', 'trespuentes', 'trevijano', 'treviño', 'trincheria', 'triunfo', 'tros', 'tudanca', 'tupac', 'tuñon', 'ubierna', 'ud', 'udaeta', 'ugena', 'uguet', 'ullate', 'ullibarri', 'unamuno', 'unceta', 'urabayen', 'ureña', 'urria', 'urruti', 'urtaran', 'urzaiz', 'ussel', 'ussia', 'vacas', 'vailo', 'valdepeñas', 'valgas', 'valiño', 'valldaura', 'vallejuelo', 'vallinas', 'valmaseda', 'vals', 'vanderwilde', 'vando', 'vao', 'vaquerizo', 'vaso', 'vayas', 'veciana', 'vecillas', 'vegue', 'velaz', 'velden', 'verbo', 'vidaurreta', 'vidriero', 'viergol', 'viguera', 'viguri', 'vilallonga', 'villacastin', 'villacañas', 'villacian', 'villajos', 'villanuev', 'villarejo', 'villarjubin', 'villaseñor', 'villavicenci', 'villodres', 'villoslada', 'vinent', 'vinuesa', 'viota', 'vivancos', 'viña', 'viñals', 'viñaspre', 'vugt', 'wahbi', 'walre', 'wijk', 'woude', 'xaxars', 'xaxas', 'yaacoubi', 'yabouri', 'yachioui', 'yachouti', 'yadini', 'yadri', 'yaghmouri', 'yakhlifi', 'yakouti', 'yamna', 'yandouzi', 'yaouti', 'yarritu', 'yattouti', 'yaziji', 'yazizi', 'yaznasni', 'ydir', 'yebenes', 'yedir', 'yedra', 'yedri', 'yel', 'yelmo', 'yemlahy', 'yerro', 'yesfi', 'yglesia', 'ylla', 'ynestrillas', 'youby', 'younossi', 'yousoufi', 'youssofi', 'youzghi', 'yuso', 'zabalegui', 'zabarte', 'zahraoui', 'zahraouy', 'zahria', 'zaitigui', 'zaporta', 'zarauz', 'zerio', 'ziani', 'zorita', 'zuazola', 'zuazu', 'zubiria', 'zugasti', 'zunzunegui', 'zurdo'] "
      ],
      "execution_count": 48,
      "outputs": []
    },
    {
      "cell_type": "code",
      "metadata": {
        "id": "NGWrp_wPZIPM"
      },
      "source": [
        "lista_stop_words=lista_stop_words+stop_words_user+stop_words_weird"
      ],
      "execution_count": 49,
      "outputs": []
    },
    {
      "cell_type": "markdown",
      "metadata": {
        "id": "EVI9dfLjsreM"
      },
      "source": [
        "Procedemos a la eliminación de estas stop-words propias del negocio que no aportan valor.\n",
        "\n",
        "\n",
        "*   Primero tokenizamos\n",
        "*   Luego quitamos las stop-words\n",
        "\n"
      ]
    },
    {
      "cell_type": "code",
      "metadata": {
        "id": "7KKvFx93q3xE",
        "colab": {
          "base_uri": "https://localhost:8080/"
        },
        "outputId": "cdd0d112-9c4f-4c0d-e9d8-49d8b1e75c7d"
      },
      "source": [
        "%%time\n",
        "df_user['transcripcion']=df_user['transcripcion'].apply(lambda x: word_tokenize(x) )"
      ],
      "execution_count": 50,
      "outputs": [
        {
          "output_type": "stream",
          "text": [
            "CPU times: user 1.39 s, sys: 2.28 ms, total: 1.39 s\n",
            "Wall time: 1.4 s\n"
          ],
          "name": "stdout"
        }
      ]
    },
    {
      "cell_type": "code",
      "metadata": {
        "id": "zJSQtRnJ3rAG",
        "colab": {
          "base_uri": "https://localhost:8080/"
        },
        "outputId": "98c9c42e-80ff-44d5-d022-21de81ae9356"
      },
      "source": [
        "%%time\n",
        "df_user['transcripcion']=df_user['transcripcion'].apply(lambda x: [word for word in x if not word in lista_stop_words] )"
      ],
      "execution_count": 51,
      "outputs": [
        {
          "output_type": "stream",
          "text": [
            "CPU times: user 12min 55s, sys: 170 ms, total: 12min 55s\n",
            "Wall time: 12min 57s\n"
          ],
          "name": "stdout"
        }
      ]
    },
    {
      "cell_type": "code",
      "metadata": {
        "id": "hBb6jHDHKyFz",
        "colab": {
          "base_uri": "https://localhost:8080/",
          "height": 1000
        },
        "outputId": "e25bfc21-971e-46be-8951-d40a4ccd563d"
      },
      "source": [
        "df_user"
      ],
      "execution_count": 52,
      "outputs": [
        {
          "output_type": "execute_result",
          "data": {
            "text/html": [
              "<div>\n",
              "<style scoped>\n",
              "    .dataframe tbody tr th:only-of-type {\n",
              "        vertical-align: middle;\n",
              "    }\n",
              "\n",
              "    .dataframe tbody tr th {\n",
              "        vertical-align: top;\n",
              "    }\n",
              "\n",
              "    .dataframe thead th {\n",
              "        text-align: right;\n",
              "    }\n",
              "</style>\n",
              "<table border=\"1\" class=\"dataframe\">\n",
              "  <thead>\n",
              "    <tr style=\"text-align: right;\">\n",
              "      <th></th>\n",
              "      <th>name_file</th>\n",
              "      <th>transcripcion</th>\n",
              "      <th>speech_ratio</th>\n",
              "      <th>confidance</th>\n",
              "      <th>owner</th>\n",
              "      <th>Mes</th>\n",
              "      <th>GUID_ORIGINAL</th>\n",
              "      <th>CC</th>\n",
              "      <th>DNIS</th>\n",
              "      <th>ANI</th>\n",
              "      <th>Start Date IXN Res</th>\n",
              "      <th>End Date IXN Res</th>\n",
              "      <th>IXN ID</th>\n",
              "      <th>Tenant Name</th>\n",
              "      <th>INTERACTION_TYPE</th>\n",
              "      <th>PLACE_NAME</th>\n",
              "      <th>Last VQ</th>\n",
              "      <th>Agent</th>\n",
              "      <th>Customer Talk Duration</th>\n",
              "      <th>Engage Duration</th>\n",
              "      <th>Linea</th>\n",
              "      <th>Start_Date_hour</th>\n",
              "      <th>len_trans</th>\n",
              "    </tr>\n",
              "  </thead>\n",
              "  <tbody>\n",
              "    <tr>\n",
              "      <th>0</th>\n",
              "      <td>ULBQJ13L2545H7O07M2GVQ24680024AS_2020-09-09_17-33-54_</td>\n",
              "      <td>[actual, piensas, validar, liberacion, atender, precursor]</td>\n",
              "      <td>0.862</td>\n",
              "      <td>0.520000</td>\n",
              "      <td>usuario</td>\n",
              "      <td>Septiembre</td>\n",
              "      <td>ULBQJ13L2545H7O07M2GVQ24680024AS</td>\n",
              "      <td>1.055227e+09</td>\n",
              "      <td>28400.0</td>\n",
              "      <td>033223967169</td>\n",
              "      <td>20200909 12:33:54</td>\n",
              "      <td>20200909 12:34:59</td>\n",
              "      <td>160395807.0</td>\n",
              "      <td>Ecopetrol</td>\n",
              "      <td>Inbound</td>\n",
              "      <td>Ecopetrol_52094</td>\n",
              "      <td>VQ_Ecopetrol_INB_Para_Personal</td>\n",
              "      <td>, C Persn William Guillermo Ferrucho Ferrucho (wilferfe) - 1055227053</td>\n",
              "      <td>61.0</td>\n",
              "      <td>0.0</td>\n",
              "      <td>Personal</td>\n",
              "      <td>2020-09-09_17-33-54</td>\n",
              "      <td>130</td>\n",
              "    </tr>\n",
              "    <tr>\n",
              "      <th>1</th>\n",
              "      <td>ULBQJ13L2545H7O07M2GVQ2468002J8O_2020-09-15_20-05-27_</td>\n",
              "      <td>[util, mencionan, escucho, aparecio, activo, deseando, pudieron, mascota, tunel, resulto, centimos, crecer, eventos, intimo, historia, merece, molesta, companero, aparecer, turismo, activo, repites]</td>\n",
              "      <td>0.845</td>\n",
              "      <td>0.610000</td>\n",
              "      <td>usuario</td>\n",
              "      <td>Septiembre</td>\n",
              "      <td>ULBQJ13L2545H7O07M2GVQ2468002J8O</td>\n",
              "      <td>1.002524e+09</td>\n",
              "      <td>28400.0</td>\n",
              "      <td>033132427584</td>\n",
              "      <td>20200915 15:05:27</td>\n",
              "      <td>20200915 15:12:44</td>\n",
              "      <td>162250727.0</td>\n",
              "      <td>Ecopetrol</td>\n",
              "      <td>Inbound</td>\n",
              "      <td>Ecopetrol_52143</td>\n",
              "      <td>VQ_Ecopetrol_INB_Para_Personal</td>\n",
              "      <td>, C Persn Angelica Valentina Camargo Murcia (angcammu) - 1002523582</td>\n",
              "      <td>194.0</td>\n",
              "      <td>0.0</td>\n",
              "      <td>Personal</td>\n",
              "      <td>2020-09-15_20-05-27</td>\n",
              "      <td>672</td>\n",
              "    </tr>\n",
              "    <tr>\n",
              "      <th>2</th>\n",
              "      <td>ULBQJ13L2545H7O07M2GVQ24680032VR_2020-09-22_17-00-34_</td>\n",
              "      <td>[violines, digame, hermana, venga, hermana, intente, haciendo, dieta, convertida, mirar, estancia, recta, encuentro, seccion, temas, desigual, descompresion, intimidan, certificado, dividendos, comida, hotel, encuentro, aparece, manejar, desigual, presencia, existe, proyectar, valores, cuadrar, dividendos, davivienda, diseno, precipicio, reciban, registro, corredores, mierda]</td>\n",
              "      <td>0.881</td>\n",
              "      <td>0.660000</td>\n",
              "      <td>usuario</td>\n",
              "      <td>Septiembre</td>\n",
              "      <td>ULBQJ13L2545H7O07M2GVQ24680032VR</td>\n",
              "      <td>1.233492e+09</td>\n",
              "      <td>6532363.0</td>\n",
              "      <td>3125861921</td>\n",
              "      <td>20200922 12:00:34</td>\n",
              "      <td>20200922 12:03:34</td>\n",
              "      <td>164335043.0</td>\n",
              "      <td>Ecopetrol</td>\n",
              "      <td>Inbound</td>\n",
              "      <td>Ecopetrol_52026</td>\n",
              "      <td>VQ_Ecopetrol_INB_Aten_Accionista</td>\n",
              "      <td>, C A.Acc Lina Dayana Zabala Lopez (linzablo) - 1233492388</td>\n",
              "      <td>180.0</td>\n",
              "      <td>0.0</td>\n",
              "      <td>Atención al accionista</td>\n",
              "      <td>2020-09-22_17-00-34</td>\n",
              "      <td>1023</td>\n",
              "    </tr>\n",
              "    <tr>\n",
              "      <th>3</th>\n",
              "      <td>ULBQJ13L2545H7O07M2GVQ2468001LK2_2020-09-03_14-19-53_</td>\n",
              "      <td>[llegue, entrada, atendiendo, oficina, primaria, hicieran, enviaron, educacional, introduzca, dijiste, firma, electronica, cunado, explique, autor, cronica, imprimo, loco, comento, tiple, escanee, escaner, envio, oficina, virtual, entendia, firma, electronica, idea, envio, abren, oficina]</td>\n",
              "      <td>0.959</td>\n",
              "      <td>0.606667</td>\n",
              "      <td>usuario</td>\n",
              "      <td>Septiembre</td>\n",
              "      <td>ULBQJ13L2545H7O07M2GVQ2468001LK2</td>\n",
              "      <td>5.305068e+07</td>\n",
              "      <td>28400.0</td>\n",
              "      <td>007756064</td>\n",
              "      <td>20200903 09:19:53</td>\n",
              "      <td>20200903 09:21:28</td>\n",
              "      <td>158426841.0</td>\n",
              "      <td>Ecopetrol</td>\n",
              "      <td>Inbound</td>\n",
              "      <td>Ecopetrol_52135</td>\n",
              "      <td>VQ_Ecopetrol_INB_Serv_Personal</td>\n",
              "      <td>, C Persn Angie Paola Luengas Tunjano (angluetu) - 53050685</td>\n",
              "      <td>95.0</td>\n",
              "      <td>0.0</td>\n",
              "      <td>Personal</td>\n",
              "      <td>2020-09-03_14-19-53</td>\n",
              "      <td>701</td>\n",
              "    </tr>\n",
              "    <tr>\n",
              "      <th>4</th>\n",
              "      <td>RQ21QO2HST63B28OIE5HQTGBLS0000BG_2020-09-29_00-54-58_</td>\n",
              "      <td>[global, habil, recuerdes, vacaciones, haciendo, alegra, crece, hijos, adios, editado, entrevistas, ofrecer, reincidente, repente, cliente, cliente, incidente, esperas, diremos, diente, control, loca, incidente, lleva, creacion, adicion, informan, llamando, afirmando, entrevistas, entrega, entera, cobro, historicas, cumpleanos, perfil, tranquilo, tranquilita, conocidos, nivel, dejame, cuartel, afirmar, opcion, cliente]</td>\n",
              "      <td>0.872</td>\n",
              "      <td>0.590000</td>\n",
              "      <td>usuario</td>\n",
              "      <td>Septiembre</td>\n",
              "      <td>RQ21QO2HST63B28OIE5HQTGBLS0000BG</td>\n",
              "      <td>8.012149e+07</td>\n",
              "      <td>6532364.0</td>\n",
              "      <td>3002931472</td>\n",
              "      <td>20200928 19:54:58</td>\n",
              "      <td>20200928 19:58:48</td>\n",
              "      <td>166374773.0</td>\n",
              "      <td>Ecopetrol</td>\n",
              "      <td>Inbound</td>\n",
              "      <td>Ecopetrol_52108</td>\n",
              "      <td>VQ_Ecopetrol_INB_Para_Salud</td>\n",
              "      <td>, C Salud Nestor Geovanni Avila Rodriguez (nesaviro) - 80121489</td>\n",
              "      <td>230.0</td>\n",
              "      <td>0.0</td>\n",
              "      <td>Salud</td>\n",
              "      <td>2020-09-29_00-54-58</td>\n",
              "      <td>1309</td>\n",
              "    </tr>\n",
              "    <tr>\n",
              "      <th>...</th>\n",
              "      <td>...</td>\n",
              "      <td>...</td>\n",
              "      <td>...</td>\n",
              "      <td>...</td>\n",
              "      <td>...</td>\n",
              "      <td>...</td>\n",
              "      <td>...</td>\n",
              "      <td>...</td>\n",
              "      <td>...</td>\n",
              "      <td>...</td>\n",
              "      <td>...</td>\n",
              "      <td>...</td>\n",
              "      <td>...</td>\n",
              "      <td>...</td>\n",
              "      <td>...</td>\n",
              "      <td>...</td>\n",
              "      <td>...</td>\n",
              "      <td>...</td>\n",
              "      <td>...</td>\n",
              "      <td>...</td>\n",
              "      <td>...</td>\n",
              "      <td>...</td>\n",
              "      <td>...</td>\n",
              "    </tr>\n",
              "    <tr>\n",
              "      <th>1654</th>\n",
              "      <td>RQ21QO2HST63B28OIE5HQTGBLS004KQF_2020-11-30_20-48-47_</td>\n",
              "      <td>[habilito, accidente, fija, medicamentos, ecografia, zapato, aparato, ortopedico, pueso, trasladado, hablan, mandaron, formulario, solicite, formulario, traslado, medicos, llenado, despedirme, informacionante, podia, mintio, formulario, dialogos, pescarte, lleno, esteril, devuelvo, contacto, ampliacion, llevarlo, oficina, oficina, virtual, interesa, corren, dicho, quemando, quitenos, oficinista, oficinas, virtual, dejalo, contraste, demandare, formula, mandaron, compilacion, formulas, momentico]</td>\n",
              "      <td>0.900</td>\n",
              "      <td>0.743333</td>\n",
              "      <td>usuario</td>\n",
              "      <td>Noviembre</td>\n",
              "      <td>RQ21QO2HST63B28OIE5HQTGBLS004KQF</td>\n",
              "      <td>9.320613e+07</td>\n",
              "      <td>28400.0</td>\n",
              "      <td>17975925</td>\n",
              "      <td>20201130 15:48:47</td>\n",
              "      <td>20201130 15:54:13</td>\n",
              "      <td>186809431.0</td>\n",
              "      <td>Ecopetrol</td>\n",
              "      <td>Inbound</td>\n",
              "      <td>Ecopetrol_52064</td>\n",
              "      <td>VQ_Ecopetrol_INB_Serv_Salud</td>\n",
              "      <td>, C Abast Alex Lilian Tovar Ortiz (aletovor) - 93206126</td>\n",
              "      <td>326.0</td>\n",
              "      <td>0.0</td>\n",
              "      <td>Salud</td>\n",
              "      <td>2020-11-30_20-48-47</td>\n",
              "      <td>1627</td>\n",
              "    </tr>\n",
              "    <tr>\n",
              "      <th>1655</th>\n",
              "      <td>RQ21QO2HST63B28OIE5HQTGBLS004KR6_2020-11-30_20-53-52_</td>\n",
              "      <td>[acudian, acudirian, audicion, llamado, podia, puntas, trabajador, placentero, comisaria, lagoven, demanda, tranvia, traslacion, caldo, controlado, oficina, virtual, postor]</td>\n",
              "      <td>0.865</td>\n",
              "      <td>0.538333</td>\n",
              "      <td>usuario</td>\n",
              "      <td>Noviembre</td>\n",
              "      <td>RQ21QO2HST63B28OIE5HQTGBLS004KR6</td>\n",
              "      <td>5.221752e+07</td>\n",
              "      <td>6532364.0</td>\n",
              "      <td>3223283195</td>\n",
              "      <td>20201130 15:53:52</td>\n",
              "      <td>20201130 16:00:39</td>\n",
              "      <td>186812787.0</td>\n",
              "      <td>Ecopetrol</td>\n",
              "      <td>Inbound</td>\n",
              "      <td>Ecopetrol_52134</td>\n",
              "      <td>VQ_Ecopetrol_INB_Serv_Personal</td>\n",
              "      <td>, C Persn Yeimy Patricia Lozada Alfonso (yeilozal) - 52217522</td>\n",
              "      <td>128.0</td>\n",
              "      <td>0.0</td>\n",
              "      <td>Personal</td>\n",
              "      <td>2020-11-30_20-53-52</td>\n",
              "      <td>581</td>\n",
              "    </tr>\n",
              "    <tr>\n",
              "      <th>1656</th>\n",
              "      <td>RQ21QO2HST63B28OIE5HQTGBLS004KRU_2020-11-30_21-00-18_</td>\n",
              "      <td>[miren, respuesta, canciller, pasada, sistema, ride, esperaban, proceso, degeneracion, pequenitas, posible, envia, util, recibos, agua, llega, fallar, minnelli, incorrecto]</td>\n",
              "      <td>0.872</td>\n",
              "      <td>0.615000</td>\n",
              "      <td>usuario</td>\n",
              "      <td>Noviembre</td>\n",
              "      <td>RQ21QO2HST63B28OIE5HQTGBLS004KRU</td>\n",
              "      <td>1.015443e+09</td>\n",
              "      <td>28400.0</td>\n",
              "      <td>3167530120</td>\n",
              "      <td>20201130 16:00:18</td>\n",
              "      <td>20201130 16:05:46</td>\n",
              "      <td>186815645.0</td>\n",
              "      <td>Ecopetrol</td>\n",
              "      <td>Inbound</td>\n",
              "      <td>Ecopetrol_52074</td>\n",
              "      <td>VQ_Ecopetrol_INB_Serv_Personal</td>\n",
              "      <td>, C Persn Andres Felipe Beltran Uribe (andbelur) - 1015443078</td>\n",
              "      <td>141.0</td>\n",
              "      <td>0.0</td>\n",
              "      <td>Personal</td>\n",
              "      <td>2020-11-30_21-00-18</td>\n",
              "      <td>749</td>\n",
              "    </tr>\n",
              "    <tr>\n",
              "      <th>1657</th>\n",
              "      <td>RQ21QO2HST63B28OIE5HQTGBLS004KUG_2020-11-30_21-15-18_</td>\n",
              "      <td>[podia, entrar, intencionadamente, podia, pude, pude, verlo, situar, educacional, anticipo, ayudar, respecto, virtual, inventa, enviarlos, aplicativos, aplicacion, funciona, estremecieron, enviara, recibiera, residencial, perdiste, tramite, vuelve, aparece, aparte, adelante, parados, jovencitos, llamada, dedico, cositas, oceano, cercar, empezo, consigno, primacia, argentinos, pagaderos, envie, documentos, colapso, raro, envie, enviamos, probado, aprobado, recibe, pendiente, contestaron, icono, dicho, llegar, requiere, contrario, trato, narcos, dispara, yardas]</td>\n",
              "      <td>0.921</td>\n",
              "      <td>0.655000</td>\n",
              "      <td>usuario</td>\n",
              "      <td>Noviembre</td>\n",
              "      <td>RQ21QO2HST63B28OIE5HQTGBLS004KUG</td>\n",
              "      <td>1.013600e+09</td>\n",
              "      <td>28400.0</td>\n",
              "      <td>18278793</td>\n",
              "      <td>20201130 16:15:18</td>\n",
              "      <td>20201130 16:23:59</td>\n",
              "      <td>186826631.0</td>\n",
              "      <td>Ecopetrol</td>\n",
              "      <td>Inbound</td>\n",
              "      <td>Ecopetrol_52133</td>\n",
              "      <td>VQ_Ecopetrol_INB_Serv_Personal</td>\n",
              "      <td>, C Persn Diana Milena Guerrero Mellizo (diagueme) - 1013600392</td>\n",
              "      <td>359.0</td>\n",
              "      <td>0.0</td>\n",
              "      <td>Personal</td>\n",
              "      <td>2020-11-30_21-15-18</td>\n",
              "      <td>1912</td>\n",
              "    </tr>\n",
              "    <tr>\n",
              "      <th>1658</th>\n",
              "      <td>RQ21QO2HST63B28OIE5HQTGBLS004L9F_2020-11-30_23-57-23_</td>\n",
              "      <td>[entrevista, solicitar, ascender, hechas, usuario, perdi]</td>\n",
              "      <td>0.861</td>\n",
              "      <td>0.585000</td>\n",
              "      <td>usuario</td>\n",
              "      <td>Noviembre</td>\n",
              "      <td>RQ21QO2HST63B28OIE5HQTGBLS004L9F</td>\n",
              "      <td>1.016047e+09</td>\n",
              "      <td>28200.0</td>\n",
              "      <td>56939877</td>\n",
              "      <td>20201130 18:57:23</td>\n",
              "      <td>20201130 18:58:54</td>\n",
              "      <td>186875023.0</td>\n",
              "      <td>Ecopetrol</td>\n",
              "      <td>Inbound</td>\n",
              "      <td>Ecopetrol_52110</td>\n",
              "      <td>VQ_Ecopetrol_INB_Para_Salud</td>\n",
              "      <td>, C Queja Jinneth Constanza Rincon Pineda (jinrinpi) - 1016046663</td>\n",
              "      <td>91.0</td>\n",
              "      <td>0.0</td>\n",
              "      <td>Salud</td>\n",
              "      <td>2020-11-30_23-57-23</td>\n",
              "      <td>273</td>\n",
              "    </tr>\n",
              "  </tbody>\n",
              "</table>\n",
              "<p>1659 rows × 23 columns</p>\n",
              "</div>"
            ],
            "text/plain": [
              "                                                  name_file  ... len_trans\n",
              "0     ULBQJ13L2545H7O07M2GVQ24680024AS_2020-09-09_17-33-54_  ...  130     \n",
              "1     ULBQJ13L2545H7O07M2GVQ2468002J8O_2020-09-15_20-05-27_  ...  672     \n",
              "2     ULBQJ13L2545H7O07M2GVQ24680032VR_2020-09-22_17-00-34_  ...  1023    \n",
              "3     ULBQJ13L2545H7O07M2GVQ2468001LK2_2020-09-03_14-19-53_  ...  701     \n",
              "4     RQ21QO2HST63B28OIE5HQTGBLS0000BG_2020-09-29_00-54-58_  ...  1309    \n",
              "...                                                     ...  ...   ...    \n",
              "1654  RQ21QO2HST63B28OIE5HQTGBLS004KQF_2020-11-30_20-48-47_  ...  1627    \n",
              "1655  RQ21QO2HST63B28OIE5HQTGBLS004KR6_2020-11-30_20-53-52_  ...  581     \n",
              "1656  RQ21QO2HST63B28OIE5HQTGBLS004KRU_2020-11-30_21-00-18_  ...  749     \n",
              "1657  RQ21QO2HST63B28OIE5HQTGBLS004KUG_2020-11-30_21-15-18_  ...  1912    \n",
              "1658  RQ21QO2HST63B28OIE5HQTGBLS004L9F_2020-11-30_23-57-23_  ...  273     \n",
              "\n",
              "[1659 rows x 23 columns]"
            ]
          },
          "metadata": {
            "tags": []
          },
          "execution_count": 52
        }
      ]
    },
    {
      "cell_type": "markdown",
      "metadata": {
        "id": "2GOqOQRoGkMe"
      },
      "source": [
        "**Hasta la línea anterior termina la limpieza general del texto**"
      ]
    },
    {
      "cell_type": "markdown",
      "metadata": {
        "id": "Gi7VLAHms4Gb"
      },
      "source": [
        "Unimos el resultado de los dos pasos anteriores para poder realizar la nube de palabras"
      ]
    },
    {
      "cell_type": "code",
      "metadata": {
        "id": "p8Ff2kTKBk1v"
      },
      "source": [
        "df_user['transcripcion']=df_user['transcripcion'].apply(lambda x: ' '.join(x) )"
      ],
      "execution_count": 53,
      "outputs": []
    },
    {
      "cell_type": "code",
      "metadata": {
        "id": "OrVfVGhOYky6"
      },
      "source": [
        "df_user.reset_index(inplace=True)"
      ],
      "execution_count": 54,
      "outputs": []
    },
    {
      "cell_type": "code",
      "metadata": {
        "id": "F-slqP5R5uL6",
        "colab": {
          "base_uri": "https://localhost:8080/"
        },
        "outputId": "d25b92d1-e20b-43f2-a65e-41400c1348af"
      },
      "source": [
        "# Ajuste de vocabulario\r\n",
        "\r\n",
        "adjustment = {\"llegando\": \"llega\", \"llame\": \"llamar\", \"apagarlo\": \"pagar\",\r\n",
        "              \"facturas\": \"facturacion\", \"facturar\": \"facturacion\",\r\n",
        "              \"factura\": \"facturacion\", \"fractura\": \"facturacion\",\r\n",
        "              \"mensuales\": \"mensual\",  \"intereses\": \"interes\",\r\n",
        "              \"cobran\": \"cobrandome\", \"cobren\": \"cobrandome\",\r\n",
        "              \"cobrando\": \"cobrandome\", \"cobrar\": \"cobrandome\",\r\n",
        "              \"llegaban\": \"llega\", \"llevando\": \"llega\",\r\n",
        "              \"mensajes\": \"mensaje\", \"enviando_mensajes\": \"mensaje\",\r\n",
        "              \"sigues\": \"sigue\", 'cuotas': 'cuota', 'llamada': 'llamar',\r\n",
        "              'intere': 'interes', 'interess': 'interes',\r\n",
        "              'memento': 'momento', 'llamando': 'llamar',\r\n",
        "              \"enero\": \"meses\",\"febrero\": \"meses\",\"marzo\": \"meses\",\r\n",
        "              \"abril\": \"meses\",\"mayo\": \"meses\",\"junio\": \"meses\",\r\n",
        "              \"julio\": \"meses\", \"agosto\": \"meses\",\"septiembre\": \"meses\",\r\n",
        "              \"octubre\": \"meses\",\"noviembre\": \"meses\", \"diciembre\": \"meses\",\r\n",
        "              \"facturacioncion\":\"facturacion\",\r\n",
        "              'solicitarrrr':'solicitar',\r\n",
        "              'contestarrr':'contestar',\r\n",
        "              }\r\n",
        "\r\n",
        "# diccionario basado en la línea de ecopetrol\r\n",
        "\r\n",
        "diccionario_palabras = {'descovid':'covid','covic':'covid','coronar':'covid'}\r\n",
        "\r\n",
        "adjustment.update(diccionario_palabras)\r\n",
        "print(adjustment)\r\n",
        "df_user['transcripcion'] = df_user['transcripcion'].map(lambda x: adjustment_all(x,adjustment))"
      ],
      "execution_count": 55,
      "outputs": [
        {
          "output_type": "stream",
          "text": [
            "{'llegando': 'llega', 'llame': 'llamar', 'apagarlo': 'pagar', 'facturas': 'facturacion', 'facturar': 'facturacion', 'factura': 'facturacion', 'fractura': 'facturacion', 'mensuales': 'mensual', 'intereses': 'interes', 'cobran': 'cobrandome', 'cobren': 'cobrandome', 'cobrando': 'cobrandome', 'cobrar': 'cobrandome', 'llegaban': 'llega', 'llevando': 'llega', 'mensajes': 'mensaje', 'enviando_mensajes': 'mensaje', 'sigues': 'sigue', 'cuotas': 'cuota', 'llamada': 'llamar', 'intere': 'interes', 'interess': 'interes', 'memento': 'momento', 'llamando': 'llamar', 'enero': 'meses', 'febrero': 'meses', 'marzo': 'meses', 'abril': 'meses', 'mayo': 'meses', 'junio': 'meses', 'julio': 'meses', 'agosto': 'meses', 'septiembre': 'meses', 'octubre': 'meses', 'noviembre': 'meses', 'diciembre': 'meses', 'facturacioncion': 'facturacion', 'solicitarrrr': 'solicitar', 'contestarrr': 'contestar', 'descovid': 'covid', 'covic': 'covid', 'coronar': 'covid'}\n"
          ],
          "name": "stdout"
        }
      ]
    },
    {
      "cell_type": "code",
      "metadata": {
        "id": "WZMVyF7v6NRu",
        "colab": {
          "base_uri": "https://localhost:8080/"
        },
        "outputId": "360da982-2164-421d-8e27-fa350f45e6ea"
      },
      "source": [
        "freq_important_def = pd.Series(' '.join(df_user['transcripcion']).split()).value_counts()\r\n",
        "print(freq_important_def[0:50])"
      ],
      "execution_count": 56,
      "outputs": [
        {
          "output_type": "stream",
          "text": [
            "meses          757\n",
            "llamar         573\n",
            "facturacion    559\n",
            "pregunta       388\n",
            "solicitud      371\n",
            "informacion    361\n",
            "respuesta      344\n",
            "oficina        292\n",
            "necesito       286\n",
            "problema       275\n",
            "medicos        238\n",
            "documentos     237\n",
            "enviar         231\n",
            "aparece        211\n",
            "certificado    210\n",
            "llega          209\n",
            "telefono       208\n",
            "haciendo       203\n",
            "nuevamente     183\n",
            "sistema        174\n",
            "datos          168\n",
            "registro       166\n",
            "pasado         165\n",
            "envio          164\n",
            "entrar         163\n",
            "virtual        163\n",
            "vacaciones     157\n",
            "plataforma     155\n",
            "comun          154\n",
            "proceso        151\n",
            "personas       149\n",
            "anticipo       147\n",
            "producto       144\n",
            "interes        142\n",
            "pagina         139\n",
            "documento      138\n",
            "ejemplo        138\n",
            "control        136\n",
            "semestre       135\n",
            "codigo         133\n",
            "hablar         133\n",
            "credito        132\n",
            "paciente       127\n",
            "dije           126\n",
            "internet       124\n",
            "hizo           123\n",
            "unico          122\n",
            "mandar         121\n",
            "queda          121\n",
            "recibo         121\n",
            "dtype: int64\n"
          ],
          "name": "stdout"
        }
      ]
    },
    {
      "cell_type": "code",
      "metadata": {
        "colab": {
          "base_uri": "https://localhost:8080/",
          "height": 216
        },
        "id": "IgqBGnXUbbIr",
        "outputId": "bd07137a-3121-4a09-f3a9-1af1ba847036"
      },
      "source": [
        "#Para la nube de palabras es necesario tener una cadena larga.\r\n",
        "lista_mensajeuser=[]\r\n",
        "#for i in range(len(df_user)):\r\n",
        "#  lista_mensajeuser+=df_user['transcripcion'][i]#input debe ser un string\r\n",
        "lista_mensajeuser = ','.join(df_user['transcripcion'])\r\n",
        "long_string=''.join(lista_mensajeuser)\r\n",
        "#Creacion lista stop words\r\n",
        "wordcloud = WordCloud(background_color=\"white\",min_font_size=5, max_font_size=150, max_words=600, contour_width=50, contour_color='steelblue', margin=15, stopwords=lista_stop_words+['problema','pregunta'])\r\n",
        "#Crear el word cloud\r\n",
        "wordcloud.generate(long_string)\r\n",
        "#Visualizar el word cloud\r\n",
        "wordcloud.to_image()"
      ],
      "execution_count": 57,
      "outputs": [
        {
          "output_type": "execute_result",
          "data": {
            "image/png": "[encoded data removed]",
            "text/plain": [
              "<PIL.Image.Image image mode=RGB size=400x200 at 0x7FC15A295F10>"
            ]
          },
          "metadata": {
            "tags": []
          },
          "execution_count": 57
        }
      ]
    },
    {
      "cell_type": "code",
      "metadata": {
        "id": "LBI3Gj924G-l",
        "colab": {
          "base_uri": "https://localhost:8080/",
          "height": 542
        },
        "outputId": "3e74c713-b684-4346-e3b9-dc41795cc5c5"
      },
      "source": [
        "segmento = str.upper(\"GENERAL\")\n",
        "# Iniciar el count vectorizer con stop words personalizado en español\n",
        "count_vectorizer = CountVectorizer(stop_words=stopwords.words('spanish')+lista_stop_words)\n",
        "# Ajustar y transformar los términos procesados\n",
        "count_data = count_vectorizer.fit_transform(df_user['transcripcion'])\n",
        "#Visualizar los términos mas comunes\n",
        "plot_10_most_common_words(count_data, count_vectorizer)"
      ],
      "execution_count": 58,
      "outputs": [
        {
          "output_type": "display_data",
          "data": {
            "text/html": [
              "<html>\n",
              "<head><meta charset=\"utf-8\" /></head>\n",
              "<body>\n",
              "    <div>\n",
              "            <script src=\"https://cdnjs.cloudflare.com/ajax/libs/mathjax/2.7.5/MathJax.js?config=TeX-AMS-MML_SVG\"></script><script type=\"text/javascript\">if (window.MathJax) {MathJax.Hub.Config({SVG: {font: \"STIX-Web\"}});}</script>\n",
              "                <script type=\"text/javascript\">window.PlotlyConfig = {MathJaxConfig: 'local'};</script>\n",
              "        <script src=\"https://cdn.plot.ly/plotly-latest.min.js\"></script>    \n",
              "            <div id=\"c4cb6ff0-72ec-4d20-92e7-cc1b3c65bc5e\" class=\"plotly-graph-div\" style=\"height:525px; width:100%;\"></div>\n",
              "            <script type=\"text/javascript\">\n",
              "                \n",
              "                    window.PLOTLYENV=window.PLOTLYENV || {};\n",
              "                    \n",
              "                if (document.getElementById(\"c4cb6ff0-72ec-4d20-92e7-cc1b3c65bc5e\")) {\n",
              "                    Plotly.newPlot(\n",
              "                        'c4cb6ff0-72ec-4d20-92e7-cc1b3c65bc5e',\n",
              "                        [{\"alignmentgroup\": \"True\", \"hoverlabel\": {\"namelength\": 0}, \"hovertemplate\": \"Palabra Clave=%{x}<br>Frecuencia=%{y}\", \"legendgroup\": \"\", \"marker\": {\"color\": \"darkgreen\"}, \"name\": \"\", \"offsetgroup\": \"\", \"orientation\": \"v\", \"showlegend\": false, \"textposition\": \"auto\", \"type\": \"bar\", \"x\": [\"meses\", \"llamar\", \"facturacion\", \"pregunta\", \"solicitud\", \"informacion\", \"respuesta\", \"oficina\", \"necesito\", \"problema\", \"medicos\", \"documentos\", \"enviar\", \"aparece\", \"certificado\", \"llega\", \"telefono\", \"haciendo\", \"nuevamente\", \"sistema\", \"datos\", \"registro\", \"pasado\", \"envio\", \"entrar\", \"virtual\", \"vacaciones\", \"plataforma\", \"comun\", \"proceso\"], \"xaxis\": \"x\", \"y\": [757.0, 573.0, 559.0, 388.0, 371.0, 361.0, 344.0, 292.0, 286.0, 275.0, 238.0, 237.0, 231.0, 211.0, 210.0, 209.0, 208.0, 203.0, 183.0, 174.0, 168.0, 166.0, 165.0, 164.0, 163.0, 163.0, 157.0, 155.0, 154.0, 151.0], \"yaxis\": \"y\"}],\n",
              "                        {\"barmode\": \"relative\", \"legend\": {\"tracegroupgap\": 0}, \"template\": {\"data\": {\"bar\": [{\"error_x\": {\"color\": \"#2a3f5f\"}, \"error_y\": {\"color\": \"#2a3f5f\"}, \"marker\": {\"line\": {\"color\": \"#E5ECF6\", \"width\": 0.5}}, \"type\": \"bar\"}], \"barpolar\": [{\"marker\": {\"line\": {\"color\": \"#E5ECF6\", \"width\": 0.5}}, \"type\": \"barpolar\"}], \"carpet\": [{\"aaxis\": {\"endlinecolor\": \"#2a3f5f\", \"gridcolor\": \"white\", \"linecolor\": \"white\", \"minorgridcolor\": \"white\", \"startlinecolor\": \"#2a3f5f\"}, \"baxis\": {\"endlinecolor\": \"#2a3f5f\", \"gridcolor\": \"white\", \"linecolor\": \"white\", \"minorgridcolor\": \"white\", \"startlinecolor\": \"#2a3f5f\"}, \"type\": \"carpet\"}], \"choropleth\": [{\"colorbar\": {\"outlinewidth\": 0, \"ticks\": \"\"}, \"type\": \"choropleth\"}], \"contour\": [{\"colorbar\": {\"outlinewidth\": 0, \"ticks\": \"\"}, \"colorscale\": [[0.0, \"#0d0887\"], [0.1111111111111111, \"#46039f\"], [0.2222222222222222, \"#7201a8\"], [0.3333333333333333, \"#9c179e\"], [0.4444444444444444, \"#bd3786\"], [0.5555555555555556, \"#d8576b\"], [0.6666666666666666, \"#ed7953\"], [0.7777777777777778, \"#fb9f3a\"], [0.8888888888888888, \"#fdca26\"], [1.0, \"#f0f921\"]], \"type\": \"contour\"}], \"contourcarpet\": [{\"colorbar\": {\"outlinewidth\": 0, \"ticks\": \"\"}, \"type\": \"contourcarpet\"}], \"heatmap\": [{\"colorbar\": {\"outlinewidth\": 0, \"ticks\": \"\"}, \"colorscale\": [[0.0, \"#0d0887\"], [0.1111111111111111, \"#46039f\"], [0.2222222222222222, \"#7201a8\"], [0.3333333333333333, \"#9c179e\"], [0.4444444444444444, \"#bd3786\"], [0.5555555555555556, \"#d8576b\"], [0.6666666666666666, \"#ed7953\"], [0.7777777777777778, \"#fb9f3a\"], [0.8888888888888888, \"#fdca26\"], [1.0, \"#f0f921\"]], \"type\": \"heatmap\"}], \"heatmapgl\": [{\"colorbar\": {\"outlinewidth\": 0, \"ticks\": \"\"}, \"colorscale\": [[0.0, \"#0d0887\"], [0.1111111111111111, \"#46039f\"], [0.2222222222222222, \"#7201a8\"], [0.3333333333333333, \"#9c179e\"], [0.4444444444444444, \"#bd3786\"], [0.5555555555555556, \"#d8576b\"], [0.6666666666666666, \"#ed7953\"], [0.7777777777777778, \"#fb9f3a\"], [0.8888888888888888, \"#fdca26\"], [1.0, \"#f0f921\"]], \"type\": \"heatmapgl\"}], \"histogram\": [{\"marker\": {\"colorbar\": {\"outlinewidth\": 0, \"ticks\": \"\"}}, \"type\": \"histogram\"}], \"histogram2d\": [{\"colorbar\": {\"outlinewidth\": 0, \"ticks\": \"\"}, \"colorscale\": [[0.0, \"#0d0887\"], [0.1111111111111111, \"#46039f\"], [0.2222222222222222, \"#7201a8\"], [0.3333333333333333, \"#9c179e\"], [0.4444444444444444, \"#bd3786\"], [0.5555555555555556, \"#d8576b\"], [0.6666666666666666, \"#ed7953\"], [0.7777777777777778, \"#fb9f3a\"], [0.8888888888888888, \"#fdca26\"], [1.0, \"#f0f921\"]], \"type\": \"histogram2d\"}], \"histogram2dcontour\": [{\"colorbar\": {\"outlinewidth\": 0, \"ticks\": \"\"}, \"colorscale\": [[0.0, \"#0d0887\"], [0.1111111111111111, \"#46039f\"], [0.2222222222222222, \"#7201a8\"], [0.3333333333333333, \"#9c179e\"], [0.4444444444444444, \"#bd3786\"], [0.5555555555555556, \"#d8576b\"], [0.6666666666666666, \"#ed7953\"], [0.7777777777777778, \"#fb9f3a\"], [0.8888888888888888, \"#fdca26\"], [1.0, \"#f0f921\"]], \"type\": \"histogram2dcontour\"}], \"mesh3d\": [{\"colorbar\": {\"outlinewidth\": 0, \"ticks\": \"\"}, \"type\": \"mesh3d\"}], \"parcoords\": [{\"line\": {\"colorbar\": {\"outlinewidth\": 0, \"ticks\": \"\"}}, \"type\": \"parcoords\"}], \"pie\": [{\"automargin\": true, \"type\": \"pie\"}], \"scatter\": [{\"marker\": {\"colorbar\": {\"outlinewidth\": 0, \"ticks\": \"\"}}, \"type\": \"scatter\"}], \"scatter3d\": [{\"line\": {\"colorbar\": {\"outlinewidth\": 0, \"ticks\": \"\"}}, \"marker\": {\"colorbar\": {\"outlinewidth\": 0, \"ticks\": \"\"}}, \"type\": \"scatter3d\"}], \"scattercarpet\": [{\"marker\": {\"colorbar\": {\"outlinewidth\": 0, \"ticks\": \"\"}}, \"type\": \"scattercarpet\"}], \"scattergeo\": [{\"marker\": {\"colorbar\": {\"outlinewidth\": 0, \"ticks\": \"\"}}, \"type\": \"scattergeo\"}], \"scattergl\": [{\"marker\": {\"colorbar\": {\"outlinewidth\": 0, \"ticks\": \"\"}}, \"type\": \"scattergl\"}], \"scattermapbox\": [{\"marker\": {\"colorbar\": {\"outlinewidth\": 0, \"ticks\": \"\"}}, \"type\": \"scattermapbox\"}], \"scatterpolar\": [{\"marker\": {\"colorbar\": {\"outlinewidth\": 0, \"ticks\": \"\"}}, \"type\": \"scatterpolar\"}], \"scatterpolargl\": [{\"marker\": {\"colorbar\": {\"outlinewidth\": 0, \"ticks\": \"\"}}, \"type\": \"scatterpolargl\"}], \"scatterternary\": [{\"marker\": {\"colorbar\": {\"outlinewidth\": 0, \"ticks\": \"\"}}, \"type\": \"scatterternary\"}], \"surface\": [{\"colorbar\": {\"outlinewidth\": 0, \"ticks\": \"\"}, \"colorscale\": [[0.0, \"#0d0887\"], [0.1111111111111111, \"#46039f\"], [0.2222222222222222, \"#7201a8\"], [0.3333333333333333, \"#9c179e\"], [0.4444444444444444, \"#bd3786\"], [0.5555555555555556, \"#d8576b\"], [0.6666666666666666, \"#ed7953\"], [0.7777777777777778, \"#fb9f3a\"], [0.8888888888888888, \"#fdca26\"], [1.0, \"#f0f921\"]], \"type\": \"surface\"}], \"table\": [{\"cells\": {\"fill\": {\"color\": \"#EBF0F8\"}, \"line\": {\"color\": \"white\"}}, \"header\": {\"fill\": {\"color\": \"#C8D4E3\"}, \"line\": {\"color\": \"white\"}}, \"type\": \"table\"}]}, \"layout\": {\"annotationdefaults\": {\"arrowcolor\": \"#2a3f5f\", \"arrowhead\": 0, \"arrowwidth\": 1}, \"coloraxis\": {\"colorbar\": {\"outlinewidth\": 0, \"ticks\": \"\"}}, \"colorscale\": {\"diverging\": [[0, \"#8e0152\"], [0.1, \"#c51b7d\"], [0.2, \"#de77ae\"], [0.3, \"#f1b6da\"], [0.4, \"#fde0ef\"], [0.5, \"#f7f7f7\"], [0.6, \"#e6f5d0\"], [0.7, \"#b8e186\"], [0.8, \"#7fbc41\"], [0.9, \"#4d9221\"], [1, \"#276419\"]], \"sequential\": [[0.0, \"#0d0887\"], [0.1111111111111111, \"#46039f\"], [0.2222222222222222, \"#7201a8\"], [0.3333333333333333, \"#9c179e\"], [0.4444444444444444, \"#bd3786\"], [0.5555555555555556, \"#d8576b\"], [0.6666666666666666, \"#ed7953\"], [0.7777777777777778, \"#fb9f3a\"], [0.8888888888888888, \"#fdca26\"], [1.0, \"#f0f921\"]], \"sequentialminus\": [[0.0, \"#0d0887\"], [0.1111111111111111, \"#46039f\"], [0.2222222222222222, \"#7201a8\"], [0.3333333333333333, \"#9c179e\"], [0.4444444444444444, \"#bd3786\"], [0.5555555555555556, \"#d8576b\"], [0.6666666666666666, \"#ed7953\"], [0.7777777777777778, \"#fb9f3a\"], [0.8888888888888888, \"#fdca26\"], [1.0, \"#f0f921\"]]}, \"colorway\": [\"#636efa\", \"#EF553B\", \"#00cc96\", \"#ab63fa\", \"#FFA15A\", \"#19d3f3\", \"#FF6692\", \"#B6E880\", \"#FF97FF\", \"#FECB52\"], \"font\": {\"color\": \"#2a3f5f\"}, \"geo\": {\"bgcolor\": \"white\", \"lakecolor\": \"white\", \"landcolor\": \"#E5ECF6\", \"showlakes\": true, \"showland\": true, \"subunitcolor\": \"white\"}, \"hoverlabel\": {\"align\": \"left\"}, \"hovermode\": \"closest\", \"mapbox\": {\"style\": \"light\"}, \"paper_bgcolor\": \"white\", \"plot_bgcolor\": \"#E5ECF6\", \"polar\": {\"angularaxis\": {\"gridcolor\": \"white\", \"linecolor\": \"white\", \"ticks\": \"\"}, \"bgcolor\": \"#E5ECF6\", \"radialaxis\": {\"gridcolor\": \"white\", \"linecolor\": \"white\", \"ticks\": \"\"}}, \"scene\": {\"xaxis\": {\"backgroundcolor\": \"#E5ECF6\", \"gridcolor\": \"white\", \"gridwidth\": 2, \"linecolor\": \"white\", \"showbackground\": true, \"ticks\": \"\", \"zerolinecolor\": \"white\"}, \"yaxis\": {\"backgroundcolor\": \"#E5ECF6\", \"gridcolor\": \"white\", \"gridwidth\": 2, \"linecolor\": \"white\", \"showbackground\": true, \"ticks\": \"\", \"zerolinecolor\": \"white\"}, \"zaxis\": {\"backgroundcolor\": \"#E5ECF6\", \"gridcolor\": \"white\", \"gridwidth\": 2, \"linecolor\": \"white\", \"showbackground\": true, \"ticks\": \"\", \"zerolinecolor\": \"white\"}}, \"shapedefaults\": {\"line\": {\"color\": \"#2a3f5f\"}}, \"ternary\": {\"aaxis\": {\"gridcolor\": \"white\", \"linecolor\": \"white\", \"ticks\": \"\"}, \"baxis\": {\"gridcolor\": \"white\", \"linecolor\": \"white\", \"ticks\": \"\"}, \"bgcolor\": \"#E5ECF6\", \"caxis\": {\"gridcolor\": \"white\", \"linecolor\": \"white\", \"ticks\": \"\"}}, \"title\": {\"x\": 0.05}, \"xaxis\": {\"automargin\": true, \"gridcolor\": \"white\", \"linecolor\": \"white\", \"ticks\": \"\", \"title\": {\"standoff\": 15}, \"zerolinecolor\": \"white\", \"zerolinewidth\": 2}, \"yaxis\": {\"automargin\": true, \"gridcolor\": \"white\", \"linecolor\": \"white\", \"ticks\": \"\", \"title\": {\"standoff\": 15}, \"zerolinecolor\": \"white\", \"zerolinewidth\": 2}}}, \"title\": {\"text\": \"T\\u00c9RMINOS M\\u00c1S COMUNES EN: GENERAL\"}, \"xaxis\": {\"anchor\": \"y\", \"domain\": [0.0, 1.0], \"title\": {\"text\": \"Palabra Clave\"}}, \"yaxis\": {\"anchor\": \"x\", \"domain\": [0.0, 1.0], \"title\": {\"text\": \"Frecuencia\"}}},\n",
              "                        {\"responsive\": true}\n",
              "                    ).then(function(){\n",
              "                            \n",
              "var gd = document.getElementById('c4cb6ff0-72ec-4d20-92e7-cc1b3c65bc5e');\n",
              "var x = new MutationObserver(function (mutations, observer) {{\n",
              "        var display = window.getComputedStyle(gd).display;\n",
              "        if (!display || display === 'none') {{\n",
              "            console.log([gd, 'removed!']);\n",
              "            Plotly.purge(gd);\n",
              "            observer.disconnect();\n",
              "        }}\n",
              "}});\n",
              "\n",
              "// Listen for the removal of the full notebook cells\n",
              "var notebookContainer = gd.closest('#notebook-container');\n",
              "if (notebookContainer) {{\n",
              "    x.observe(notebookContainer, {childList: true});\n",
              "}}\n",
              "\n",
              "// Listen for the clearing of the current output cell\n",
              "var outputEl = gd.closest('.output');\n",
              "if (outputEl) {{\n",
              "    x.observe(outputEl, {childList: true});\n",
              "}}\n",
              "\n",
              "                        })\n",
              "                };\n",
              "                \n",
              "            </script>\n",
              "        </div>\n",
              "</body>\n",
              "</html>"
            ]
          },
          "metadata": {
            "tags": []
          }
        }
      ]
    },
    {
      "cell_type": "markdown",
      "metadata": {
        "id": "Vwbsu-oeY6E-"
      },
      "source": [
        "Guardado de la informacion limpia para el **usuario**, este paso es muy importante ya que define los dataframes con los que vamos a trabajar después."
      ]
    },
    {
      "cell_type": "code",
      "metadata": {
        "id": "WnitLHsEYkzH"
      },
      "source": [
        "df_user.to_csv('/content/drive/My Drive/data/ABPS/NPL_Ecopetrol/df_total_limp_user.csv', index=False)"
      ],
      "execution_count": 59,
      "outputs": []
    },
    {
      "cell_type": "markdown",
      "metadata": {
        "id": "BlIbKl5raTNt"
      },
      "source": [
        "#Salud"
      ]
    },
    {
      "cell_type": "code",
      "metadata": {
        "id": "dh5ATTr8Mtj8"
      },
      "source": [
        "df_salud=df_user[df_user['Linea']=='Salud']\n",
        "#df_salud=df_salud.drop_duplicates('name')\n",
        "df_salud['transcripcion']=df_salud['transcripcion'].apply(lambda x: x.strip() if type(x)==str else x)\n",
        "df_salud.reset_index(inplace=True)"
      ],
      "execution_count": 60,
      "outputs": []
    },
    {
      "cell_type": "markdown",
      "metadata": {
        "id": "p_Y_PQZsbXqi"
      },
      "source": [
        "Stop words salud"
      ]
    },
    {
      "cell_type": "code",
      "metadata": {
        "id": "BBSWnlmbbcB2"
      },
      "source": [
        "sw_salud=['salud', 'miren', 'meses',\n",
        "          'solicitarrrr',\n",
        "          'contestarrr',\n",
        "          ]\n",
        "lista_stop_words=lista_stop_words+sw_salud"
      ],
      "execution_count": 61,
      "outputs": []
    },
    {
      "cell_type": "markdown",
      "metadata": {
        "id": "oERNYDiybCms"
      },
      "source": [
        "\n",
        "<b><font color=orange size=5>Patrones</font></b>"
      ]
    },
    {
      "cell_type": "code",
      "metadata": {
        "id": "f5dspGlYags7",
        "colab": {
          "base_uri": "https://localhost:8080/",
          "height": 216
        },
        "outputId": "2a8bcee0-687d-4137-b01f-812c1f17e2b8"
      },
      "source": [
        "lista_mensajeuser=[]\n",
        "# for i in range(len(df_salud)):\n",
        "#   lista_mensajeuser+=df_salud['transcripcion'][i]\n",
        "lista_mensajeuser = ','.join(df_user['transcripcion'])\n",
        "long_string=''.join(lista_mensajeuser)\n",
        "#Creacion lista stop words\n",
        "wordcloud = WordCloud(background_color=\"white\",min_font_size=5, max_font_size=150, max_words=600, contour_width=50, contour_color='steelblue', margin=15, stopwords=lista_stop_words+['informacion','pregunta','necesito','llamada','llamar','telefono'])\n",
        "#Crear el word cloud\n",
        "wordcloud.generate(long_string)\n",
        "#Visualizar el word cloud\n",
        "wordcloud.to_file('salud_patrones.png')\n",
        "wordcloud.to_image()"
      ],
      "execution_count": 62,
      "outputs": [
        {
          "output_type": "execute_result",
          "data": {
            "image/png": "[encoded data removed]",
            "text/plain": [
              "<PIL.Image.Image image mode=RGB size=400x200 at 0x7FC15AEDF390>"
            ]
          },
          "metadata": {
            "tags": []
          },
          "execution_count": 62
        }
      ]
    },
    {
      "cell_type": "markdown",
      "metadata": {
        "id": "74GyDX3Sbi-y"
      },
      "source": [
        "\n",
        "<b><font color=orange size=5>TERMINOS CLAVE N-GRAMAS</font></b>"
      ]
    },
    {
      "cell_type": "code",
      "metadata": {
        "id": "5EIYujUDa1z4",
        "colab": {
          "base_uri": "https://localhost:8080/",
          "height": 542
        },
        "outputId": "1dc4e92b-74ec-4064-e83f-7a229110c885"
      },
      "source": [
        "segmento = str.upper(\"LA CAMPAÑA SALUD (N-gramas)\")\n",
        "# Iniciar el count vectorizer con stop words personalizado en español\n",
        "count_vectorizer = CountVectorizer(stop_words=['entiendo','llamando','volver','podido','excelente','vuelvo']+lista_stop_words,ngram_range=(2, 2))\n",
        "# Ajustar y transformar los términos procesados\n",
        "count_data = count_vectorizer.fit_transform(df_salud['transcripcion'])\n",
        "#Visualizar los términos mas comunes\n",
        "plot_10_most_common_words(count_data, count_vectorizer)"
      ],
      "execution_count": 63,
      "outputs": [
        {
          "output_type": "display_data",
          "data": {
            "text/html": [
              "<html>\n",
              "<head><meta charset=\"utf-8\" /></head>\n",
              "<body>\n",
              "    <div>\n",
              "            <script src=\"https://cdnjs.cloudflare.com/ajax/libs/mathjax/2.7.5/MathJax.js?config=TeX-AMS-MML_SVG\"></script><script type=\"text/javascript\">if (window.MathJax) {MathJax.Hub.Config({SVG: {font: \"STIX-Web\"}});}</script>\n",
              "                <script type=\"text/javascript\">window.PlotlyConfig = {MathJaxConfig: 'local'};</script>\n",
              "        <script src=\"https://cdn.plot.ly/plotly-latest.min.js\"></script>    \n",
              "            <div id=\"d013a87b-603b-463f-8087-a2bc80691369\" class=\"plotly-graph-div\" style=\"height:525px; width:100%;\"></div>\n",
              "            <script type=\"text/javascript\">\n",
              "                \n",
              "                    window.PLOTLYENV=window.PLOTLYENV || {};\n",
              "                    \n",
              "                if (document.getElementById(\"d013a87b-603b-463f-8087-a2bc80691369\")) {\n",
              "                    Plotly.newPlot(\n",
              "                        'd013a87b-603b-463f-8087-a2bc80691369',\n",
              "                        [{\"alignmentgroup\": \"True\", \"hoverlabel\": {\"namelength\": 0}, \"hovertemplate\": \"Palabra Clave=%{x}<br>Frecuencia=%{y}\", \"legendgroup\": \"\", \"marker\": {\"color\": \"darkgreen\"}, \"name\": \"\", \"offsetgroup\": \"\", \"orientation\": \"v\", \"showlegend\": false, \"textposition\": \"auto\", \"type\": \"bar\", \"x\": [\"oficina virtual\", \"solicitar codigo\", \"codigo urgencias\", \"derechos usuario\", \"verificar derechos\", \"codigo inicial\", \"derechos paciente\", \"traslado medicos\", \"ciudad bucaramanga\", \"contestan telefono\", \"favores verificar\", \"nadie contesta\", \"telefono telefono\", \"tratando comunicarme\", \"verificar derecho\", \"verificar paciente\", \"aparece sistema\", \"beneficio educativo\", \"codigo urgencia\", \"colaborar codigo\", \"comite urgencia\", \"control control\", \"debido pandemia\", \"dejame hablar\", \"derecho peticion\", \"doctora atiende\", \"generar codigo\", \"hagamos favores\", \"historias clinicas\", \"llamar contestan\"], \"xaxis\": \"x\", \"y\": [22.0, 11.0, 8.0, 7.0, 7.0, 6.0, 6.0, 6.0, 4.0, 4.0, 4.0, 4.0, 4.0, 4.0, 4.0, 4.0, 3.0, 3.0, 3.0, 3.0, 3.0, 3.0, 3.0, 3.0, 3.0, 3.0, 3.0, 3.0, 3.0, 3.0], \"yaxis\": \"y\"}],\n",
              "                        {\"barmode\": \"relative\", \"legend\": {\"tracegroupgap\": 0}, \"template\": {\"data\": {\"bar\": [{\"error_x\": {\"color\": \"#2a3f5f\"}, \"error_y\": {\"color\": \"#2a3f5f\"}, \"marker\": {\"line\": {\"color\": \"#E5ECF6\", \"width\": 0.5}}, \"type\": \"bar\"}], \"barpolar\": [{\"marker\": {\"line\": {\"color\": \"#E5ECF6\", \"width\": 0.5}}, \"type\": \"barpolar\"}], \"carpet\": [{\"aaxis\": {\"endlinecolor\": \"#2a3f5f\", \"gridcolor\": \"white\", \"linecolor\": \"white\", \"minorgridcolor\": \"white\", \"startlinecolor\": \"#2a3f5f\"}, \"baxis\": {\"endlinecolor\": \"#2a3f5f\", \"gridcolor\": \"white\", \"linecolor\": \"white\", \"minorgridcolor\": \"white\", \"startlinecolor\": \"#2a3f5f\"}, \"type\": \"carpet\"}], \"choropleth\": [{\"colorbar\": {\"outlinewidth\": 0, \"ticks\": \"\"}, \"type\": \"choropleth\"}], \"contour\": [{\"colorbar\": {\"outlinewidth\": 0, \"ticks\": \"\"}, \"colorscale\": [[0.0, \"#0d0887\"], [0.1111111111111111, \"#46039f\"], [0.2222222222222222, \"#7201a8\"], [0.3333333333333333, \"#9c179e\"], [0.4444444444444444, \"#bd3786\"], [0.5555555555555556, \"#d8576b\"], [0.6666666666666666, \"#ed7953\"], [0.7777777777777778, \"#fb9f3a\"], [0.8888888888888888, \"#fdca26\"], [1.0, \"#f0f921\"]], \"type\": \"contour\"}], \"contourcarpet\": [{\"colorbar\": {\"outlinewidth\": 0, \"ticks\": \"\"}, \"type\": \"contourcarpet\"}], \"heatmap\": [{\"colorbar\": {\"outlinewidth\": 0, \"ticks\": \"\"}, \"colorscale\": [[0.0, \"#0d0887\"], [0.1111111111111111, \"#46039f\"], [0.2222222222222222, \"#7201a8\"], [0.3333333333333333, \"#9c179e\"], [0.4444444444444444, \"#bd3786\"], [0.5555555555555556, \"#d8576b\"], [0.6666666666666666, \"#ed7953\"], [0.7777777777777778, \"#fb9f3a\"], [0.8888888888888888, \"#fdca26\"], [1.0, \"#f0f921\"]], \"type\": \"heatmap\"}], \"heatmapgl\": [{\"colorbar\": {\"outlinewidth\": 0, \"ticks\": \"\"}, \"colorscale\": [[0.0, \"#0d0887\"], [0.1111111111111111, \"#46039f\"], [0.2222222222222222, \"#7201a8\"], [0.3333333333333333, \"#9c179e\"], [0.4444444444444444, \"#bd3786\"], [0.5555555555555556, \"#d8576b\"], [0.6666666666666666, \"#ed7953\"], [0.7777777777777778, \"#fb9f3a\"], [0.8888888888888888, \"#fdca26\"], [1.0, \"#f0f921\"]], \"type\": \"heatmapgl\"}], \"histogram\": [{\"marker\": {\"colorbar\": {\"outlinewidth\": 0, \"ticks\": \"\"}}, \"type\": \"histogram\"}], \"histogram2d\": [{\"colorbar\": {\"outlinewidth\": 0, \"ticks\": \"\"}, \"colorscale\": [[0.0, \"#0d0887\"], [0.1111111111111111, \"#46039f\"], [0.2222222222222222, \"#7201a8\"], [0.3333333333333333, \"#9c179e\"], [0.4444444444444444, \"#bd3786\"], [0.5555555555555556, \"#d8576b\"], [0.6666666666666666, \"#ed7953\"], [0.7777777777777778, \"#fb9f3a\"], [0.8888888888888888, \"#fdca26\"], [1.0, \"#f0f921\"]], \"type\": \"histogram2d\"}], \"histogram2dcontour\": [{\"colorbar\": {\"outlinewidth\": 0, \"ticks\": \"\"}, \"colorscale\": [[0.0, \"#0d0887\"], [0.1111111111111111, \"#46039f\"], [0.2222222222222222, \"#7201a8\"], [0.3333333333333333, \"#9c179e\"], [0.4444444444444444, \"#bd3786\"], [0.5555555555555556, \"#d8576b\"], [0.6666666666666666, \"#ed7953\"], [0.7777777777777778, \"#fb9f3a\"], [0.8888888888888888, \"#fdca26\"], [1.0, \"#f0f921\"]], \"type\": \"histogram2dcontour\"}], \"mesh3d\": [{\"colorbar\": {\"outlinewidth\": 0, \"ticks\": \"\"}, \"type\": \"mesh3d\"}], \"parcoords\": [{\"line\": {\"colorbar\": {\"outlinewidth\": 0, \"ticks\": \"\"}}, \"type\": \"parcoords\"}], \"pie\": [{\"automargin\": true, \"type\": \"pie\"}], \"scatter\": [{\"marker\": {\"colorbar\": {\"outlinewidth\": 0, \"ticks\": \"\"}}, \"type\": \"scatter\"}], \"scatter3d\": [{\"line\": {\"colorbar\": {\"outlinewidth\": 0, \"ticks\": \"\"}}, \"marker\": {\"colorbar\": {\"outlinewidth\": 0, \"ticks\": \"\"}}, \"type\": \"scatter3d\"}], \"scattercarpet\": [{\"marker\": {\"colorbar\": {\"outlinewidth\": 0, \"ticks\": \"\"}}, \"type\": \"scattercarpet\"}], \"scattergeo\": [{\"marker\": {\"colorbar\": {\"outlinewidth\": 0, \"ticks\": \"\"}}, \"type\": \"scattergeo\"}], \"scattergl\": [{\"marker\": {\"colorbar\": {\"outlinewidth\": 0, \"ticks\": \"\"}}, \"type\": \"scattergl\"}], \"scattermapbox\": [{\"marker\": {\"colorbar\": {\"outlinewidth\": 0, \"ticks\": \"\"}}, \"type\": \"scattermapbox\"}], \"scatterpolar\": [{\"marker\": {\"colorbar\": {\"outlinewidth\": 0, \"ticks\": \"\"}}, \"type\": \"scatterpolar\"}], \"scatterpolargl\": [{\"marker\": {\"colorbar\": {\"outlinewidth\": 0, \"ticks\": \"\"}}, \"type\": \"scatterpolargl\"}], \"scatterternary\": [{\"marker\": {\"colorbar\": {\"outlinewidth\": 0, \"ticks\": \"\"}}, \"type\": \"scatterternary\"}], \"surface\": [{\"colorbar\": {\"outlinewidth\": 0, \"ticks\": \"\"}, \"colorscale\": [[0.0, \"#0d0887\"], [0.1111111111111111, \"#46039f\"], [0.2222222222222222, \"#7201a8\"], [0.3333333333333333, \"#9c179e\"], [0.4444444444444444, \"#bd3786\"], [0.5555555555555556, \"#d8576b\"], [0.6666666666666666, \"#ed7953\"], [0.7777777777777778, \"#fb9f3a\"], [0.8888888888888888, \"#fdca26\"], [1.0, \"#f0f921\"]], \"type\": \"surface\"}], \"table\": [{\"cells\": {\"fill\": {\"color\": \"#EBF0F8\"}, \"line\": {\"color\": \"white\"}}, \"header\": {\"fill\": {\"color\": \"#C8D4E3\"}, \"line\": {\"color\": \"white\"}}, \"type\": \"table\"}]}, \"layout\": {\"annotationdefaults\": {\"arrowcolor\": \"#2a3f5f\", \"arrowhead\": 0, \"arrowwidth\": 1}, \"coloraxis\": {\"colorbar\": {\"outlinewidth\": 0, \"ticks\": \"\"}}, \"colorscale\": {\"diverging\": [[0, \"#8e0152\"], [0.1, \"#c51b7d\"], [0.2, \"#de77ae\"], [0.3, \"#f1b6da\"], [0.4, \"#fde0ef\"], [0.5, \"#f7f7f7\"], [0.6, \"#e6f5d0\"], [0.7, \"#b8e186\"], [0.8, \"#7fbc41\"], [0.9, \"#4d9221\"], [1, \"#276419\"]], \"sequential\": [[0.0, \"#0d0887\"], [0.1111111111111111, \"#46039f\"], [0.2222222222222222, \"#7201a8\"], [0.3333333333333333, \"#9c179e\"], [0.4444444444444444, \"#bd3786\"], [0.5555555555555556, \"#d8576b\"], [0.6666666666666666, \"#ed7953\"], [0.7777777777777778, \"#fb9f3a\"], [0.8888888888888888, \"#fdca26\"], [1.0, \"#f0f921\"]], \"sequentialminus\": [[0.0, \"#0d0887\"], [0.1111111111111111, \"#46039f\"], [0.2222222222222222, \"#7201a8\"], [0.3333333333333333, \"#9c179e\"], [0.4444444444444444, \"#bd3786\"], [0.5555555555555556, \"#d8576b\"], [0.6666666666666666, \"#ed7953\"], [0.7777777777777778, \"#fb9f3a\"], [0.8888888888888888, \"#fdca26\"], [1.0, \"#f0f921\"]]}, \"colorway\": [\"#636efa\", \"#EF553B\", \"#00cc96\", \"#ab63fa\", \"#FFA15A\", \"#19d3f3\", \"#FF6692\", \"#B6E880\", \"#FF97FF\", \"#FECB52\"], \"font\": {\"color\": \"#2a3f5f\"}, \"geo\": {\"bgcolor\": \"white\", \"lakecolor\": \"white\", \"landcolor\": \"#E5ECF6\", \"showlakes\": true, \"showland\": true, \"subunitcolor\": \"white\"}, \"hoverlabel\": {\"align\": \"left\"}, \"hovermode\": \"closest\", \"mapbox\": {\"style\": \"light\"}, \"paper_bgcolor\": \"white\", \"plot_bgcolor\": \"#E5ECF6\", \"polar\": {\"angularaxis\": {\"gridcolor\": \"white\", \"linecolor\": \"white\", \"ticks\": \"\"}, \"bgcolor\": \"#E5ECF6\", \"radialaxis\": {\"gridcolor\": \"white\", \"linecolor\": \"white\", \"ticks\": \"\"}}, \"scene\": {\"xaxis\": {\"backgroundcolor\": \"#E5ECF6\", \"gridcolor\": \"white\", \"gridwidth\": 2, \"linecolor\": \"white\", \"showbackground\": true, \"ticks\": \"\", \"zerolinecolor\": \"white\"}, \"yaxis\": {\"backgroundcolor\": \"#E5ECF6\", \"gridcolor\": \"white\", \"gridwidth\": 2, \"linecolor\": \"white\", \"showbackground\": true, \"ticks\": \"\", \"zerolinecolor\": \"white\"}, \"zaxis\": {\"backgroundcolor\": \"#E5ECF6\", \"gridcolor\": \"white\", \"gridwidth\": 2, \"linecolor\": \"white\", \"showbackground\": true, \"ticks\": \"\", \"zerolinecolor\": \"white\"}}, \"shapedefaults\": {\"line\": {\"color\": \"#2a3f5f\"}}, \"ternary\": {\"aaxis\": {\"gridcolor\": \"white\", \"linecolor\": \"white\", \"ticks\": \"\"}, \"baxis\": {\"gridcolor\": \"white\", \"linecolor\": \"white\", \"ticks\": \"\"}, \"bgcolor\": \"#E5ECF6\", \"caxis\": {\"gridcolor\": \"white\", \"linecolor\": \"white\", \"ticks\": \"\"}}, \"title\": {\"x\": 0.05}, \"xaxis\": {\"automargin\": true, \"gridcolor\": \"white\", \"linecolor\": \"white\", \"ticks\": \"\", \"title\": {\"standoff\": 15}, \"zerolinecolor\": \"white\", \"zerolinewidth\": 2}, \"yaxis\": {\"automargin\": true, \"gridcolor\": \"white\", \"linecolor\": \"white\", \"ticks\": \"\", \"title\": {\"standoff\": 15}, \"zerolinecolor\": \"white\", \"zerolinewidth\": 2}}}, \"title\": {\"text\": \"T\\u00c9RMINOS M\\u00c1S COMUNES EN: LA CAMPA\\u00d1A SALUD (N-GRAMAS)\"}, \"xaxis\": {\"anchor\": \"y\", \"domain\": [0.0, 1.0], \"title\": {\"text\": \"Palabra Clave\"}}, \"yaxis\": {\"anchor\": \"x\", \"domain\": [0.0, 1.0], \"title\": {\"text\": \"Frecuencia\"}}},\n",
              "                        {\"responsive\": true}\n",
              "                    ).then(function(){\n",
              "                            \n",
              "var gd = document.getElementById('d013a87b-603b-463f-8087-a2bc80691369');\n",
              "var x = new MutationObserver(function (mutations, observer) {{\n",
              "        var display = window.getComputedStyle(gd).display;\n",
              "        if (!display || display === 'none') {{\n",
              "            console.log([gd, 'removed!']);\n",
              "            Plotly.purge(gd);\n",
              "            observer.disconnect();\n",
              "        }}\n",
              "}});\n",
              "\n",
              "// Listen for the removal of the full notebook cells\n",
              "var notebookContainer = gd.closest('#notebook-container');\n",
              "if (notebookContainer) {{\n",
              "    x.observe(notebookContainer, {childList: true});\n",
              "}}\n",
              "\n",
              "// Listen for the clearing of the current output cell\n",
              "var outputEl = gd.closest('.output');\n",
              "if (outputEl) {{\n",
              "    x.observe(outputEl, {childList: true});\n",
              "}}\n",
              "\n",
              "                        })\n",
              "                };\n",
              "                \n",
              "            </script>\n",
              "        </div>\n",
              "</body>\n",
              "</html>"
            ]
          },
          "metadata": {
            "tags": []
          }
        }
      ]
    },
    {
      "cell_type": "markdown",
      "metadata": {
        "id": "rQsJI7OUcCGg"
      },
      "source": [
        "<b><font color=orange size=5> TERMINOS CLAVE</font></b>"
      ]
    },
    {
      "cell_type": "code",
      "metadata": {
        "id": "TKtCNE6AbqsJ",
        "colab": {
          "base_uri": "https://localhost:8080/",
          "height": 542
        },
        "outputId": "a48ee3b0-de27-4372-d973-eff15ff9d564"
      },
      "source": [
        "segmento = str.upper(\"LA CAMPAÑA SALUD\")\n",
        "# Iniciar el count vectorizer con stop words personalizado en español\n",
        "count_vectorizer = CountVectorizer(stop_words=['viene','unico','solicitar','contacto','personas','nuevamente','espera','salir','atendiendo','colaborar','queda','urgencia','autora','contesta','comunicarme','llame','comun','celular','nadie','hablar','contestan','telefono','llamar','aparece','respuesta','necesito','informacion','solicitud','pregunta','entiendo', 'haciendo', 'miren','dije','ahorita', 'llamando','llamada','siguiente']+lista_stop_words)\n",
        "# Ajustar y transformar los términos procesados\n",
        "count_data = count_vectorizer.fit_transform(df_salud['transcripcion'])\n",
        "#Visualizar los términos mas comunes\n",
        "plot_10_most_common_words(count_data, count_vectorizer)"
      ],
      "execution_count": 64,
      "outputs": [
        {
          "output_type": "display_data",
          "data": {
            "text/html": [
              "<html>\n",
              "<head><meta charset=\"utf-8\" /></head>\n",
              "<body>\n",
              "    <div>\n",
              "            <script src=\"https://cdnjs.cloudflare.com/ajax/libs/mathjax/2.7.5/MathJax.js?config=TeX-AMS-MML_SVG\"></script><script type=\"text/javascript\">if (window.MathJax) {MathJax.Hub.Config({SVG: {font: \"STIX-Web\"}});}</script>\n",
              "                <script type=\"text/javascript\">window.PlotlyConfig = {MathJaxConfig: 'local'};</script>\n",
              "        <script src=\"https://cdn.plot.ly/plotly-latest.min.js\"></script>    \n",
              "            <div id=\"2f142a1d-bdeb-4bb3-8890-8ea6307437ad\" class=\"plotly-graph-div\" style=\"height:525px; width:100%;\"></div>\n",
              "            <script type=\"text/javascript\">\n",
              "                \n",
              "                    window.PLOTLYENV=window.PLOTLYENV || {};\n",
              "                    \n",
              "                if (document.getElementById(\"2f142a1d-bdeb-4bb3-8890-8ea6307437ad\")) {\n",
              "                    Plotly.newPlot(\n",
              "                        '2f142a1d-bdeb-4bb3-8890-8ea6307437ad',\n",
              "                        [{\"alignmentgroup\": \"True\", \"hoverlabel\": {\"namelength\": 0}, \"hovertemplate\": \"Palabra Clave=%{x}<br>Frecuencia=%{y}\", \"legendgroup\": \"\", \"marker\": {\"color\": \"darkgreen\"}, \"name\": \"\", \"offsetgroup\": \"\", \"orientation\": \"v\", \"showlegend\": false, \"textposition\": \"auto\", \"type\": \"bar\", \"x\": [\"paciente\", \"medicos\", \"codigo\", \"medicamento\", \"oficina\", \"problema\", \"bucaramanga\", \"ciudad\", \"virtual\", \"medicamentos\", \"verificar\", \"doctora\", \"historia\", \"cedula\", \"traslado\", \"ejemplo\", \"mandaron\", \"comunicar\", \"datos\", \"llega\", \"cuestion\", \"urgencias\", \"consulta\", \"esposa\", \"hablando\", \"termino\", \"control\", \"sistema\", \"cliente\", \"barrancabermeja\"], \"xaxis\": \"x\", \"y\": [82.0, 73.0, 72.0, 50.0, 47.0, 45.0, 39.0, 35.0, 35.0, 34.0, 33.0, 32.0, 31.0, 30.0, 30.0, 29.0, 27.0, 26.0, 26.0, 26.0, 25.0, 25.0, 24.0, 24.0, 24.0, 24.0, 23.0, 23.0, 22.0, 21.0], \"yaxis\": \"y\"}],\n",
              "                        {\"barmode\": \"relative\", \"legend\": {\"tracegroupgap\": 0}, \"template\": {\"data\": {\"bar\": [{\"error_x\": {\"color\": \"#2a3f5f\"}, \"error_y\": {\"color\": \"#2a3f5f\"}, \"marker\": {\"line\": {\"color\": \"#E5ECF6\", \"width\": 0.5}}, \"type\": \"bar\"}], \"barpolar\": [{\"marker\": {\"line\": {\"color\": \"#E5ECF6\", \"width\": 0.5}}, \"type\": \"barpolar\"}], \"carpet\": [{\"aaxis\": {\"endlinecolor\": \"#2a3f5f\", \"gridcolor\": \"white\", \"linecolor\": \"white\", \"minorgridcolor\": \"white\", \"startlinecolor\": \"#2a3f5f\"}, \"baxis\": {\"endlinecolor\": \"#2a3f5f\", \"gridcolor\": \"white\", \"linecolor\": \"white\", \"minorgridcolor\": \"white\", \"startlinecolor\": \"#2a3f5f\"}, \"type\": \"carpet\"}], \"choropleth\": [{\"colorbar\": {\"outlinewidth\": 0, \"ticks\": \"\"}, \"type\": \"choropleth\"}], \"contour\": [{\"colorbar\": {\"outlinewidth\": 0, \"ticks\": \"\"}, \"colorscale\": [[0.0, \"#0d0887\"], [0.1111111111111111, \"#46039f\"], [0.2222222222222222, \"#7201a8\"], [0.3333333333333333, \"#9c179e\"], [0.4444444444444444, \"#bd3786\"], [0.5555555555555556, \"#d8576b\"], [0.6666666666666666, \"#ed7953\"], [0.7777777777777778, \"#fb9f3a\"], [0.8888888888888888, \"#fdca26\"], [1.0, \"#f0f921\"]], \"type\": \"contour\"}], \"contourcarpet\": [{\"colorbar\": {\"outlinewidth\": 0, \"ticks\": \"\"}, \"type\": \"contourcarpet\"}], \"heatmap\": [{\"colorbar\": {\"outlinewidth\": 0, \"ticks\": \"\"}, \"colorscale\": [[0.0, \"#0d0887\"], [0.1111111111111111, \"#46039f\"], [0.2222222222222222, \"#7201a8\"], [0.3333333333333333, \"#9c179e\"], [0.4444444444444444, \"#bd3786\"], [0.5555555555555556, \"#d8576b\"], [0.6666666666666666, \"#ed7953\"], [0.7777777777777778, \"#fb9f3a\"], [0.8888888888888888, \"#fdca26\"], [1.0, \"#f0f921\"]], \"type\": \"heatmap\"}], \"heatmapgl\": [{\"colorbar\": {\"outlinewidth\": 0, \"ticks\": \"\"}, \"colorscale\": [[0.0, \"#0d0887\"], [0.1111111111111111, \"#46039f\"], [0.2222222222222222, \"#7201a8\"], [0.3333333333333333, \"#9c179e\"], [0.4444444444444444, \"#bd3786\"], [0.5555555555555556, \"#d8576b\"], [0.6666666666666666, \"#ed7953\"], [0.7777777777777778, \"#fb9f3a\"], [0.8888888888888888, \"#fdca26\"], [1.0, \"#f0f921\"]], \"type\": \"heatmapgl\"}], \"histogram\": [{\"marker\": {\"colorbar\": {\"outlinewidth\": 0, \"ticks\": \"\"}}, \"type\": \"histogram\"}], \"histogram2d\": [{\"colorbar\": {\"outlinewidth\": 0, \"ticks\": \"\"}, \"colorscale\": [[0.0, \"#0d0887\"], [0.1111111111111111, \"#46039f\"], [0.2222222222222222, \"#7201a8\"], [0.3333333333333333, \"#9c179e\"], [0.4444444444444444, \"#bd3786\"], [0.5555555555555556, \"#d8576b\"], [0.6666666666666666, \"#ed7953\"], [0.7777777777777778, \"#fb9f3a\"], [0.8888888888888888, \"#fdca26\"], [1.0, \"#f0f921\"]], \"type\": \"histogram2d\"}], \"histogram2dcontour\": [{\"colorbar\": {\"outlinewidth\": 0, \"ticks\": \"\"}, \"colorscale\": [[0.0, \"#0d0887\"], [0.1111111111111111, \"#46039f\"], [0.2222222222222222, \"#7201a8\"], [0.3333333333333333, \"#9c179e\"], [0.4444444444444444, \"#bd3786\"], [0.5555555555555556, \"#d8576b\"], [0.6666666666666666, \"#ed7953\"], [0.7777777777777778, \"#fb9f3a\"], [0.8888888888888888, \"#fdca26\"], [1.0, \"#f0f921\"]], \"type\": \"histogram2dcontour\"}], \"mesh3d\": [{\"colorbar\": {\"outlinewidth\": 0, \"ticks\": \"\"}, \"type\": \"mesh3d\"}], \"parcoords\": [{\"line\": {\"colorbar\": {\"outlinewidth\": 0, \"ticks\": \"\"}}, \"type\": \"parcoords\"}], \"pie\": [{\"automargin\": true, \"type\": \"pie\"}], \"scatter\": [{\"marker\": {\"colorbar\": {\"outlinewidth\": 0, \"ticks\": \"\"}}, \"type\": \"scatter\"}], \"scatter3d\": [{\"line\": {\"colorbar\": {\"outlinewidth\": 0, \"ticks\": \"\"}}, \"marker\": {\"colorbar\": {\"outlinewidth\": 0, \"ticks\": \"\"}}, \"type\": \"scatter3d\"}], \"scattercarpet\": [{\"marker\": {\"colorbar\": {\"outlinewidth\": 0, \"ticks\": \"\"}}, \"type\": \"scattercarpet\"}], \"scattergeo\": [{\"marker\": {\"colorbar\": {\"outlinewidth\": 0, \"ticks\": \"\"}}, \"type\": \"scattergeo\"}], \"scattergl\": [{\"marker\": {\"colorbar\": {\"outlinewidth\": 0, \"ticks\": \"\"}}, \"type\": \"scattergl\"}], \"scattermapbox\": [{\"marker\": {\"colorbar\": {\"outlinewidth\": 0, \"ticks\": \"\"}}, \"type\": \"scattermapbox\"}], \"scatterpolar\": [{\"marker\": {\"colorbar\": {\"outlinewidth\": 0, \"ticks\": \"\"}}, \"type\": \"scatterpolar\"}], \"scatterpolargl\": [{\"marker\": {\"colorbar\": {\"outlinewidth\": 0, \"ticks\": \"\"}}, \"type\": \"scatterpolargl\"}], \"scatterternary\": [{\"marker\": {\"colorbar\": {\"outlinewidth\": 0, \"ticks\": \"\"}}, \"type\": \"scatterternary\"}], \"surface\": [{\"colorbar\": {\"outlinewidth\": 0, \"ticks\": \"\"}, \"colorscale\": [[0.0, \"#0d0887\"], [0.1111111111111111, \"#46039f\"], [0.2222222222222222, \"#7201a8\"], [0.3333333333333333, \"#9c179e\"], [0.4444444444444444, \"#bd3786\"], [0.5555555555555556, \"#d8576b\"], [0.6666666666666666, \"#ed7953\"], [0.7777777777777778, \"#fb9f3a\"], [0.8888888888888888, \"#fdca26\"], [1.0, \"#f0f921\"]], \"type\": \"surface\"}], \"table\": [{\"cells\": {\"fill\": {\"color\": \"#EBF0F8\"}, \"line\": {\"color\": \"white\"}}, \"header\": {\"fill\": {\"color\": \"#C8D4E3\"}, \"line\": {\"color\": \"white\"}}, \"type\": \"table\"}]}, \"layout\": {\"annotationdefaults\": {\"arrowcolor\": \"#2a3f5f\", \"arrowhead\": 0, \"arrowwidth\": 1}, \"coloraxis\": {\"colorbar\": {\"outlinewidth\": 0, \"ticks\": \"\"}}, \"colorscale\": {\"diverging\": [[0, \"#8e0152\"], [0.1, \"#c51b7d\"], [0.2, \"#de77ae\"], [0.3, \"#f1b6da\"], [0.4, \"#fde0ef\"], [0.5, \"#f7f7f7\"], [0.6, \"#e6f5d0\"], [0.7, \"#b8e186\"], [0.8, \"#7fbc41\"], [0.9, \"#4d9221\"], [1, \"#276419\"]], \"sequential\": [[0.0, \"#0d0887\"], [0.1111111111111111, \"#46039f\"], [0.2222222222222222, \"#7201a8\"], [0.3333333333333333, \"#9c179e\"], [0.4444444444444444, \"#bd3786\"], [0.5555555555555556, \"#d8576b\"], [0.6666666666666666, \"#ed7953\"], [0.7777777777777778, \"#fb9f3a\"], [0.8888888888888888, \"#fdca26\"], [1.0, \"#f0f921\"]], \"sequentialminus\": [[0.0, \"#0d0887\"], [0.1111111111111111, \"#46039f\"], [0.2222222222222222, \"#7201a8\"], [0.3333333333333333, \"#9c179e\"], [0.4444444444444444, \"#bd3786\"], [0.5555555555555556, \"#d8576b\"], [0.6666666666666666, \"#ed7953\"], [0.7777777777777778, \"#fb9f3a\"], [0.8888888888888888, \"#fdca26\"], [1.0, \"#f0f921\"]]}, \"colorway\": [\"#636efa\", \"#EF553B\", \"#00cc96\", \"#ab63fa\", \"#FFA15A\", \"#19d3f3\", \"#FF6692\", \"#B6E880\", \"#FF97FF\", \"#FECB52\"], \"font\": {\"color\": \"#2a3f5f\"}, \"geo\": {\"bgcolor\": \"white\", \"lakecolor\": \"white\", \"landcolor\": \"#E5ECF6\", \"showlakes\": true, \"showland\": true, \"subunitcolor\": \"white\"}, \"hoverlabel\": {\"align\": \"left\"}, \"hovermode\": \"closest\", \"mapbox\": {\"style\": \"light\"}, \"paper_bgcolor\": \"white\", \"plot_bgcolor\": \"#E5ECF6\", \"polar\": {\"angularaxis\": {\"gridcolor\": \"white\", \"linecolor\": \"white\", \"ticks\": \"\"}, \"bgcolor\": \"#E5ECF6\", \"radialaxis\": {\"gridcolor\": \"white\", \"linecolor\": \"white\", \"ticks\": \"\"}}, \"scene\": {\"xaxis\": {\"backgroundcolor\": \"#E5ECF6\", \"gridcolor\": \"white\", \"gridwidth\": 2, \"linecolor\": \"white\", \"showbackground\": true, \"ticks\": \"\", \"zerolinecolor\": \"white\"}, \"yaxis\": {\"backgroundcolor\": \"#E5ECF6\", \"gridcolor\": \"white\", \"gridwidth\": 2, \"linecolor\": \"white\", \"showbackground\": true, \"ticks\": \"\", \"zerolinecolor\": \"white\"}, \"zaxis\": {\"backgroundcolor\": \"#E5ECF6\", \"gridcolor\": \"white\", \"gridwidth\": 2, \"linecolor\": \"white\", \"showbackground\": true, \"ticks\": \"\", \"zerolinecolor\": \"white\"}}, \"shapedefaults\": {\"line\": {\"color\": \"#2a3f5f\"}}, \"ternary\": {\"aaxis\": {\"gridcolor\": \"white\", \"linecolor\": \"white\", \"ticks\": \"\"}, \"baxis\": {\"gridcolor\": \"white\", \"linecolor\": \"white\", \"ticks\": \"\"}, \"bgcolor\": \"#E5ECF6\", \"caxis\": {\"gridcolor\": \"white\", \"linecolor\": \"white\", \"ticks\": \"\"}}, \"title\": {\"x\": 0.05}, \"xaxis\": {\"automargin\": true, \"gridcolor\": \"white\", \"linecolor\": \"white\", \"ticks\": \"\", \"title\": {\"standoff\": 15}, \"zerolinecolor\": \"white\", \"zerolinewidth\": 2}, \"yaxis\": {\"automargin\": true, \"gridcolor\": \"white\", \"linecolor\": \"white\", \"ticks\": \"\", \"title\": {\"standoff\": 15}, \"zerolinecolor\": \"white\", \"zerolinewidth\": 2}}}, \"title\": {\"text\": \"T\\u00c9RMINOS M\\u00c1S COMUNES EN: LA CAMPA\\u00d1A SALUD\"}, \"xaxis\": {\"anchor\": \"y\", \"domain\": [0.0, 1.0], \"title\": {\"text\": \"Palabra Clave\"}}, \"yaxis\": {\"anchor\": \"x\", \"domain\": [0.0, 1.0], \"title\": {\"text\": \"Frecuencia\"}}},\n",
              "                        {\"responsive\": true}\n",
              "                    ).then(function(){\n",
              "                            \n",
              "var gd = document.getElementById('2f142a1d-bdeb-4bb3-8890-8ea6307437ad');\n",
              "var x = new MutationObserver(function (mutations, observer) {{\n",
              "        var display = window.getComputedStyle(gd).display;\n",
              "        if (!display || display === 'none') {{\n",
              "            console.log([gd, 'removed!']);\n",
              "            Plotly.purge(gd);\n",
              "            observer.disconnect();\n",
              "        }}\n",
              "}});\n",
              "\n",
              "// Listen for the removal of the full notebook cells\n",
              "var notebookContainer = gd.closest('#notebook-container');\n",
              "if (notebookContainer) {{\n",
              "    x.observe(notebookContainer, {childList: true});\n",
              "}}\n",
              "\n",
              "// Listen for the clearing of the current output cell\n",
              "var outputEl = gd.closest('.output');\n",
              "if (outputEl) {{\n",
              "    x.observe(outputEl, {childList: true});\n",
              "}}\n",
              "\n",
              "                        })\n",
              "                };\n",
              "                \n",
              "            </script>\n",
              "        </div>\n",
              "</body>\n",
              "</html>"
            ]
          },
          "metadata": {
            "tags": []
          }
        }
      ]
    },
    {
      "cell_type": "markdown",
      "metadata": {
        "id": "kz2ah1vlefw8"
      },
      "source": [
        "<b><font color=orange size=5> MODELADO DE TOPICOS</font></b>"
      ]
    },
    {
      "cell_type": "code",
      "metadata": {
        "id": "NNqz5liFcJdd"
      },
      "source": [
        "dw = list(sent_to_words(df_salud[['transcripcion']]['transcripcion']))"
      ],
      "execution_count": 65,
      "outputs": []
    },
    {
      "cell_type": "code",
      "metadata": {
        "id": "p74tT7gBec55",
        "colab": {
          "base_uri": "https://localhost:8080/"
        },
        "cellView": "form",
        "outputId": "4e2ff150-d036-493c-82ee-03ddab688af7"
      },
      "source": [
        "#@title Creación del Corpus\n",
        "%%time\n",
        "\n",
        "nlp = spacy.load('es_core_news_md')\n",
        "\n",
        "#Oraciones a lista de palabras, remocion de puntuacion y caracteres innecesarios\n",
        "def sent_to_words(sentences):\n",
        "    for sentence in sentences:\n",
        "        yield(gensim.utils.simple_preprocess(str(sentence), deacc=True))  # deacc=True remueve puctuacion\n",
        "\n",
        "def remove_stopwords(texts):\n",
        "    return [[word for word in simple_preprocess(str(doc)) if word not in swseg] for doc in texts]\n",
        "\n",
        "def make_bigrams(texts):\n",
        "    return [bigram_mod[doc] for doc in texts]\n",
        "\n",
        "def make_trigrams(texts):\n",
        "    return [trigram_mod[bigram_mod[doc]] for doc in texts]\n",
        "\n",
        "def lemmatization(texts, allowed_postags=['NOUN', 'ADJ', 'VERB', 'ADV']):\n",
        "    texts_out = []\n",
        "    for sent in texts:\n",
        "        doc = nlp(\" \".join(sent)) \n",
        "        texts_out.append([token.lemma_ for token in doc if token.pos_ in allowed_postags])\n",
        "    return texts_out\n",
        "\n",
        "#CREACION DEL CORPUS Y FACTORIZACION DE TERMINOS\n",
        "#Analizando los mensajes del usuario en general\n",
        "data=df_salud['transcripcion'].tolist()\n",
        "\n",
        "data_words = list(sent_to_words(data))# Se crea una lista de listas\n",
        "\n",
        "#BRIGRAMAS\n",
        "# Build the bigram and trigram models\n",
        "bigram = gensim.models.Phrases(data_words, min_count=5, threshold=100) # Umbral superior de pocas frases.\n",
        "trigram = gensim.models.Phrases(bigram[data_words], threshold=100)  \n",
        "\n",
        "bigram_mod = gensim.models.phrases.Phraser(gensim.models.Phrases(dw, min_count=5, threshold=100))\n",
        "trigram_mod = gensim.models.phrases.Phraser(gensim.models.Phrases(bigram[dw], threshold=100))\n",
        "\n",
        "def remove_stopwords(texts):\n",
        "    return [[word for word in simple_preprocess(str(doc)) if word not in lista_stop_words] for doc in texts]\n",
        "\n",
        "def make_bigrams(texts):\n",
        "    return [bigram_mod[doc] for doc in texts]\n",
        "\n",
        "def make_trigrams(texts):\n",
        "    return [trigram_mod[bigram_mod[doc]] for doc in texts]\n",
        "\n",
        "def lemmatization(texts, allowed_postags=['NOUN', 'ADJ', 'VERB', 'ADV']):\n",
        "    texts_out = []\n",
        "    for sent in texts:\n",
        "        doc = nlp(\" \".join(sent)) \n",
        "        texts_out.append([token.lemma_ for token in doc if token.pos_ in allowed_postags])\n",
        "    return texts_out\n",
        "\n",
        "#Definicion de segmento a analizar\n",
        "dw = list(sent_to_words(df_salud[['transcripcion']]['transcripcion']))\n",
        "data_words_bigrams = make_bigrams(remove_stopwords(dw))\n",
        "data_lemmatized = lemmatization(data_words_bigrams, allowed_postags=['NOUN', 'ADJ', 'VERB', 'ADV'])\n",
        "id2word = corpora.Dictionary(data_lemmatized)\n",
        "texts = data_lemmatized\n",
        "corpus = [id2word.doc2bow(text) for text in texts]"
      ],
      "execution_count": 66,
      "outputs": [
        {
          "output_type": "stream",
          "text": [
            "CPU times: user 1min 22s, sys: 1.55 s, total: 1min 24s\n",
            "Wall time: 1min 25s\n"
          ],
          "name": "stdout"
        }
      ]
    },
    {
      "cell_type": "code",
      "metadata": {
        "id": "NF024djze0go",
        "colab": {
          "base_uri": "https://localhost:8080/"
        },
        "cellView": "form",
        "outputId": "05baedce-3058-43fc-d2eb-f453be193493"
      },
      "source": [
        "#@title Optimización del Modelo\n",
        "# #Definicion del segmento persistente\n",
        "segmento = \"Campana_Salud\"\n",
        "\n",
        "#Funcion de soporte\n",
        "def compute_coherence_values(corpus, dictionary, k, a, b):\n",
        "    \n",
        "    lda_model = gensim.models.LdaMulticore(corpus=corpus,\n",
        "                                           id2word=id2word,\n",
        "                                           num_topics=10, \n",
        "                                           random_state=100,\n",
        "                                           chunksize=100,\n",
        "                                           passes=10,\n",
        "                                           alpha=a,\n",
        "                                           eta=b,\n",
        "                                           per_word_topics=True)\n",
        "    \n",
        "    coherence_model_lda = CoherenceModel(model=lda_model, texts=data_lemmatized, dictionary=id2word, coherence='c_v')\n",
        "    \n",
        "    return coherence_model_lda.get_coherence()\n",
        "\n",
        "grid = {}\n",
        "grid['Validation_Set'] = {}\n",
        "\n",
        "#Rango de topicos\n",
        "min_topics = 2\n",
        "# max_topics = 11\n",
        "max_topics = 5\n",
        "step_size = 1\n",
        "topics_range = range(min_topics, max_topics, step_size)\n",
        "\n",
        "#Parametro Alpha\n",
        "alpha = list(np.arange(0.01, 1, 0.3))\n",
        "alpha.append('symmetric')\n",
        "alpha.append('asymmetric')\n",
        "\n",
        "#Parametro Beta\n",
        "beta = list(np.arange(0.01, 1, 0.3))\n",
        "beta.append('symmetric')\n",
        "\n",
        "#Conjuntos de validacion\n",
        "num_of_docs = len(corpus)\n",
        "corpus_sets = [corpus]\n",
        "\n",
        "corpus_title = ['100% Corpus']\n",
        "\n",
        "model_results = {'Validation_Set': [],\n",
        "                 'Topics': [],\n",
        "                 'Alpha': [],\n",
        "                 'Beta': [],\n",
        "                 'Coherence': []\n",
        "                }\n",
        "\n",
        "#Intensivo en tiempo (Promedio de tiempo: 2 Horas)\n",
        "\n",
        "if 1 == 1:\n",
        "    pbar = tqdm.tqdm(total=540)\n",
        "    \n",
        "    for i in range(len(corpus_sets)):\n",
        "        for k in topics_range:\n",
        "            for a in alpha:\n",
        "                for b in beta:\n",
        "                    cv = compute_coherence_values(corpus=corpus_sets[i], dictionary=id2word, \n",
        "                                                  k=k, a=a, b=b)\n",
        "\n",
        "                    model_results['Validation_Set'].append(corpus_title[i])\n",
        "                    model_results['Topics'].append(k)\n",
        "                    model_results['Alpha'].append(a)\n",
        "                    model_results['Beta'].append(b)\n",
        "                    model_results['Coherence'].append(cv)\n",
        "                    \n",
        "                    pbar.update(1)\n",
        "    pd.DataFrame(model_results).to_csv(segmento+'.csv', index=False)\n",
        "    pbar.close()\n",
        "\n",
        "#Persistencia de hiperparámetros\n",
        "model_results_tabc = pd.DataFrame(model_results)\n",
        "model_results_tabc.to_csv(segmento + '_model.csv')\n",
        "print(\"**\", len(model_results_tabc), segmento, \"\\n\")\n",
        "model_results_tabc.head()\n",
        "\n",
        "#Mejor Modelo\n",
        "model_results_tabc = pd.read_csv(segmento + '_model.csv')\n",
        "best_model = model_results_tabc[model_results_tabc.Coherence == model_results_tabc.Coherence.max()][:1]\n",
        "#display(best_model.head())\n",
        "\n",
        "#Hiperparámetros del mejor modelo\n",
        "Topics = int(best_model.Topics.item())\n",
        "Alpha = float(best_model.Alpha.item())\n",
        "Beta = float(best_model.Beta.item())\n",
        "\n",
        "print(\"HIPERPARÁMETROS DEL MODELO OPTIMIZADO:\")\n",
        "print('\\nNumero de Tópicos:', Topics)\n",
        "print('Parámetro Alfa:', Alpha)\n",
        "print('Parámetro Beta:', Beta)\n"
      ],
      "execution_count": 67,
      "outputs": [
        {
          "output_type": "stream",
          "text": [
            " 17%|█▋        | 90/540 [06:05<30:29,  4.07s/it]\n"
          ],
          "name": "stderr"
        },
        {
          "output_type": "stream",
          "text": [
            "** 90 Campana_Salud \n",
            "\n",
            "HIPERPARÁMETROS DEL MODELO OPTIMIZADO:\n",
            "\n",
            "Numero de Tópicos: 2\n",
            "Parámetro Alfa: 0.9099999999999999\n",
            "Parámetro Beta: 0.9099999999999999\n"
          ],
          "name": "stdout"
        }
      ]
    },
    {
      "cell_type": "code",
      "metadata": {
        "id": "k0sIYoErfHJy",
        "colab": {
          "base_uri": "https://localhost:8080/",
          "height": 406
        },
        "outputId": "510ffa25-45a4-4f34-eb37-6c58d4cfb9f6"
      },
      "source": [
        "model_results_tabc.sort_values(by='Coherence', ascending=False)"
      ],
      "execution_count": 68,
      "outputs": [
        {
          "output_type": "execute_result",
          "data": {
            "text/html": [
              "<div>\n",
              "<style scoped>\n",
              "    .dataframe tbody tr th:only-of-type {\n",
              "        vertical-align: middle;\n",
              "    }\n",
              "\n",
              "    .dataframe tbody tr th {\n",
              "        vertical-align: top;\n",
              "    }\n",
              "\n",
              "    .dataframe thead th {\n",
              "        text-align: right;\n",
              "    }\n",
              "</style>\n",
              "<table border=\"1\" class=\"dataframe\">\n",
              "  <thead>\n",
              "    <tr style=\"text-align: right;\">\n",
              "      <th></th>\n",
              "      <th>Unnamed: 0</th>\n",
              "      <th>Validation_Set</th>\n",
              "      <th>Topics</th>\n",
              "      <th>Alpha</th>\n",
              "      <th>Beta</th>\n",
              "      <th>Coherence</th>\n",
              "    </tr>\n",
              "  </thead>\n",
              "  <tbody>\n",
              "    <tr>\n",
              "      <th>78</th>\n",
              "      <td>78</td>\n",
              "      <td>100% Corpus</td>\n",
              "      <td>4</td>\n",
              "      <td>0.9099999999999999</td>\n",
              "      <td>0.9099999999999999</td>\n",
              "      <td>0.567121</td>\n",
              "    </tr>\n",
              "    <tr>\n",
              "      <th>48</th>\n",
              "      <td>48</td>\n",
              "      <td>100% Corpus</td>\n",
              "      <td>3</td>\n",
              "      <td>0.9099999999999999</td>\n",
              "      <td>0.9099999999999999</td>\n",
              "      <td>0.567121</td>\n",
              "    </tr>\n",
              "    <tr>\n",
              "      <th>18</th>\n",
              "      <td>18</td>\n",
              "      <td>100% Corpus</td>\n",
              "      <td>2</td>\n",
              "      <td>0.9099999999999999</td>\n",
              "      <td>0.9099999999999999</td>\n",
              "      <td>0.567121</td>\n",
              "    </tr>\n",
              "    <tr>\n",
              "      <th>17</th>\n",
              "      <td>17</td>\n",
              "      <td>100% Corpus</td>\n",
              "      <td>2</td>\n",
              "      <td>0.9099999999999999</td>\n",
              "      <td>0.61</td>\n",
              "      <td>0.525534</td>\n",
              "    </tr>\n",
              "    <tr>\n",
              "      <th>47</th>\n",
              "      <td>47</td>\n",
              "      <td>100% Corpus</td>\n",
              "      <td>3</td>\n",
              "      <td>0.9099999999999999</td>\n",
              "      <td>0.61</td>\n",
              "      <td>0.525534</td>\n",
              "    </tr>\n",
              "    <tr>\n",
              "      <th>...</th>\n",
              "      <td>...</td>\n",
              "      <td>...</td>\n",
              "      <td>...</td>\n",
              "      <td>...</td>\n",
              "      <td>...</td>\n",
              "      <td>...</td>\n",
              "    </tr>\n",
              "    <tr>\n",
              "      <th>30</th>\n",
              "      <td>30</td>\n",
              "      <td>100% Corpus</td>\n",
              "      <td>3</td>\n",
              "      <td>0.01</td>\n",
              "      <td>0.01</td>\n",
              "      <td>0.328500</td>\n",
              "    </tr>\n",
              "    <tr>\n",
              "      <th>29</th>\n",
              "      <td>29</td>\n",
              "      <td>100% Corpus</td>\n",
              "      <td>2</td>\n",
              "      <td>asymmetric</td>\n",
              "      <td>symmetric</td>\n",
              "      <td>0.326486</td>\n",
              "    </tr>\n",
              "    <tr>\n",
              "      <th>34</th>\n",
              "      <td>34</td>\n",
              "      <td>100% Corpus</td>\n",
              "      <td>3</td>\n",
              "      <td>0.01</td>\n",
              "      <td>symmetric</td>\n",
              "      <td>0.326238</td>\n",
              "    </tr>\n",
              "    <tr>\n",
              "      <th>59</th>\n",
              "      <td>59</td>\n",
              "      <td>100% Corpus</td>\n",
              "      <td>3</td>\n",
              "      <td>asymmetric</td>\n",
              "      <td>symmetric</td>\n",
              "      <td>0.324454</td>\n",
              "    </tr>\n",
              "    <tr>\n",
              "      <th>89</th>\n",
              "      <td>89</td>\n",
              "      <td>100% Corpus</td>\n",
              "      <td>4</td>\n",
              "      <td>asymmetric</td>\n",
              "      <td>symmetric</td>\n",
              "      <td>0.324454</td>\n",
              "    </tr>\n",
              "  </tbody>\n",
              "</table>\n",
              "<p>90 rows × 6 columns</p>\n",
              "</div>"
            ],
            "text/plain": [
              "    Unnamed: 0 Validation_Set  ...                Beta Coherence\n",
              "78  78          100% Corpus    ...  0.9099999999999999  0.567121\n",
              "48  48          100% Corpus    ...  0.9099999999999999  0.567121\n",
              "18  18          100% Corpus    ...  0.9099999999999999  0.567121\n",
              "17  17          100% Corpus    ...  0.61                0.525534\n",
              "47  47          100% Corpus    ...  0.61                0.525534\n",
              "..  ..                  ...    ...   ...                     ...\n",
              "30  30          100% Corpus    ...  0.01                0.328500\n",
              "29  29          100% Corpus    ...  symmetric           0.326486\n",
              "34  34          100% Corpus    ...  symmetric           0.326238\n",
              "59  59          100% Corpus    ...  symmetric           0.324454\n",
              "89  89          100% Corpus    ...  symmetric           0.324454\n",
              "\n",
              "[90 rows x 6 columns]"
            ]
          },
          "metadata": {
            "tags": []
          },
          "execution_count": 68
        }
      ]
    },
    {
      "cell_type": "code",
      "metadata": {
        "id": "IEl5aNZHjrJP",
        "colab": {
          "base_uri": "https://localhost:8080/",
          "height": 1000
        },
        "cellView": "form",
        "outputId": "ed7ab4b7-4269-46c7-ef22-b8b1c90c756a"
      },
      "source": [
        "#@title Modelo LDA Optimizado \n",
        "%%time\n",
        "#Visualización del modelo\n",
        "pyLDAvis.enable_notebook()\n",
        "\n",
        "lda_model = gensim.models.ldamodel.LdaModel(corpus=corpus,\n",
        "                                           id2word=id2word,\n",
        "                                           num_topics=3, \n",
        "                                           random_state=100,\n",
        "                                           update_every=1,\n",
        "                                           chunksize=100,\n",
        "                                           passes=10,\n",
        "                                           alpha=0.9099999999999999 \t,\n",
        "                                           eta=0.9099999999999999 \t,                                        \n",
        "                                           per_word_topics=True)\n",
        "\n",
        "#Visualizacion de los tópicos generados en el modelo LDA\n",
        "pprint(lda_model.print_topics())\n",
        "doc_lda = lda_model[corpus]\n",
        "\n",
        "#Prerrequisitos minimos para la representacion grafica del modelado de topicos\n",
        "d = id2word\n",
        "c = corpus\n",
        "lda = lda_model\n",
        "\n",
        "#Parametros de visualizacion\n",
        "data = pyLDAvis.gensim.prepare(lda, c, d)\n",
        "\n",
        "#Persistencia de resultados de modelado de tópicos\n",
        "pyLDAvis.save_html(data, 'vis_' + segmento + '.html')\n",
        "print('\\n\\n')\n",
        "#Visualizacion\n",
        "display(data)"
      ],
      "execution_count": 69,
      "outputs": [
        {
          "output_type": "stream",
          "text": [
            "[(0,\n",
            "  '0.015*\"paciente\" + 0.007*\"verificar\" + 0.006*\"derecho\" + 0.006*\"cedula\" + '\n",
            "  '0.005*\"validar\" + 0.004*\"cliente\" + 0.004*\"recordar\" + 0.003*\"urgencia\" + '\n",
            "  '0.003*\"confirmar\" + 0.002*\"documentar\"'),\n",
            " (1,\n",
            "  '0.006*\"medio\" + 0.003*\"trasladar\" + 0.002*\"costar\" + 0.002*\"deber\" + '\n",
            "  '0.002*\"operacion\" + 0.002*\"regalar\" + 0.001*\"documento\" + 0.001*\"contener\" '\n",
            "  '+ 0.001*\"probable\" + 0.001*\"codigo\"'),\n",
            " (2,\n",
            "  '0.016*\"llamar\" + 0.009*\"medicamento\" + 0.009*\"necesitar\" + 0.009*\"hablar\" + '\n",
            "  '0.007*\"mandar\" + 0.006*\"medicos\" + 0.006*\"preguntar\" + 0.006*\"contestar\" + '\n",
            "  '0.006*\"comunicar\" + 0.006*\"hacer\"')]\n",
            "\n",
            "\n",
            "\n"
          ],
          "name": "stdout"
        },
        {
          "output_type": "display_data",
          "data": {
            "text/html": [
              "\n",
              "<link rel=\"stylesheet\" type=\"text/css\" href=\"https://cdn.rawgit.com/bmabey/pyLDAvis/files/ldavis.v1.0.0.css\">\n",
              "\n",
              "\n",
              "<div id=\"ldavis_el641404684172432165532057888\"></div>\n",
              "<script type=\"text/javascript\">\n",
              "\n",
              "var ldavis_el641404684172432165532057888_data = {\"mdsDat\": {\"x\": [0.09290236831596785, -0.049730112289654425, -0.04317225602631343], \"y\": [-0.0011862645585944587, -0.024614828032089957, 0.0258010925906844], \"topics\": [1, 2, 3], \"cluster\": [1, 1, 1], \"Freq\": [74.92326823578395, 15.094719938591844, 9.9820118256242]}, \"tinfo\": {\"Term\": [\"paciente\", \"llamar\", \"verificar\", \"derecho\", \"medio\", \"cedula\", \"cliente\", \"recordar\", \"validar\", \"trasladar\", \"medicamento\", \"necesitar\", \"urgencia\", \"documentar\", \"confirmar\", \"partir\", \"retirar\", \"usuario\", \"registrar\", \"mandar\", \"deber\", \"entrevistar\", \"regalar\", \"ciencia\", \"cerdo\", \"urgente\", \"contener\", \"probable\", \"beneficio\", \"costar\", \"llamar\", \"medicamento\", \"necesitar\", \"mandar\", \"contestar\", \"medicos\", \"decir\", \"atender\", \"querer\", \"aparecer\", \"problema\", \"consultar\", \"esperar\", \"llegar\", \"venir\", \"poner\", \"respuesta\", \"preguntar\", \"enviar\", \"formular\", \"doctorar\", \"nuevamente\", \"quedar\", \"hablar\", \"comunicar\", \"pasar\", \"entrar\", \"cambiar\", \"solicitud\", \"ejemplo\", \"comentar\", \"hacer\", \"llevar\", \"solicitar\", \"terminar\", \"pedir\", \"tratar\", \"paciente\", \"cedula\", \"validar\", \"usuario\", \"cerdo\", \"favor\", \"ciudadania\", \"verificar\", \"magnetica\", \"cooperativo\", \"continuar\", \"tapar\", \"urgente\", \"triple\", \"derecho\", \"resonancia\", \"liderar\", \"estrenar\", \"ascender\", \"codigos\", \"entrevistar\", \"convenir\", \"conflicto\", \"admitir\", \"habitacion\", \"interno\", \"amargo\", \"silenciar\", \"dictar\", \"hallar\", \"apellidar\", \"retirar\", \"paciente\", \"inteligencia\", \"recordar\", \"cliente\", \"documentar\", \"panal\", \"ciencia\", \"registrar\", \"urgencia\", \"partir\", \"confirmar\", \"mantener\", \"tratar\", \"activo\", \"colaborar\", \"senores\", \"perdonar\", \"ayudar\", \"medio\", \"codigo\", \"documento\", \"costar\", \"celulas\", \"inspirar\", \"liberar\", \"inca\", \"operacion\", \"cultura\", \"detrimento\", \"leve\", \"recorrer\", \"cardiovascular\", \"identidad\", \"pedire\", \"refuerzo\", \"pervertir\", \"video\", \"cazador\", \"quejarte\", \"productor\", \"contrario\", \"comunidad\", \"pedirle\", \"equipo\", \"disidencia\", \"dental\", \"definitivo\", \"oeste\", \"lecho\", \"precedentemente\", \"evidentemente\", \"posterior\", \"permanecera\", \"excitante\", \"intenso\", \"conversacion\", \"tondero\", \"defensivo\", \"carrete\", \"ateismo\", \"tocarla\", \"temporada\", \"terminos\", \"estadisticas\", \"estante\", \"sisal\", \"parade\", \"regi\\u00f3n\", \"recontar\", \"temblar\", \"corregir\", \"contener\", \"deber\", \"repente\", \"probable\", \"regalar\", \"solo\", \"trasladar\", \"moda\", \"amigo\", \"humo\", \"restante\", \"lanzar\", \"inicial\", \"beneficio\", \"vencer\", \"pediatra\", \"parar\", \"sacar\", \"iniciar\", \"generar\"], \"Freq\": [49.0, 129.0, 15.0, 14.0, 8.0, 10.0, 20.0, 15.0, 9.0, 18.0, 74.0, 73.0, 16.0, 9.0, 24.0, 12.0, 6.0, 4.0, 9.0, 53.0, 5.0, 5.0, 5.0, 6.0, 4.0, 4.0, 4.0, 4.0, 7.0, 3.0, 128.3900653075329, 73.94753264563381, 72.7818322406553, 53.07102803761787, 45.677807325993165, 49.25261545049541, 38.98695584946, 35.4031712371285, 40.117062917125466, 31.4127614022792, 41.723243896936346, 31.95183447942202, 37.62708493204209, 42.68353085011714, 31.653589554816232, 31.274221296171376, 22.852831733353554, 48.99607844425717, 23.326389847085792, 21.84958640578919, 21.752432300056697, 22.821451241903997, 26.354702172647766, 70.76533049420787, 44.43465307992736, 24.08277989854783, 30.89280802091699, 21.659264022875252, 19.845174261627566, 23.99067785841576, 32.61948495209267, 44.066877590597656, 36.72232790212016, 35.135856490942686, 24.669351696322845, 25.0506812356833, 25.561896311314534, 24.067039411286693, 9.069213148341431, 7.779119628467892, 3.7712075495349873, 2.9681064041492924, 2.7059355712034434, 2.61120213665891, 10.813158301687661, 1.9813194293386072, 2.425433588395116, 1.9471252386002882, 1.7960826669937842, 2.886458427206961, 2.2317478593560036, 9.151256262653234, 2.5672856546765765, 1.7908780255323287, 1.5943927819708925, 1.4537235035458673, 1.3079171581478568, 3.032866007478112, 1.2950739752373255, 1.4353824190151814, 1.4353824190151814, 1.4295535804757655, 1.7363235758117352, 1.6240959403395863, 1.3308239725062965, 1.5712739655418304, 1.993319946193892, 1.3441651072299212, 3.4915076505995106, 24.65888569548662, 1.7296105518018274, 6.836677263605324, 7.03897260104918, 3.79850164458658, 2.000181052994067, 2.509647333987033, 3.25866227118389, 4.243488179979674, 3.4159734309829313, 4.23501297076559, 2.6277195535104743, 2.9494811506185497, 2.609758423177093, 2.214082144816876, 2.0866927060870997, 2.0428483910342, 2.0334248896226983, 6.7750126568983156, 1.3378062460187987, 1.564028977832146, 1.8025125292177053, 1.1503132110191827, 1.135928638800874, 1.1208743277424988, 1.05526372113045, 1.677097206756339, 0.8062474945440997, 0.8062474945440997, 0.8062474945440997, 1.0128872139012537, 0.8035780218825685, 1.0824195672136587, 0.7904608464383225, 0.7904608464383225, 0.7861251458500517, 0.7861251458500517, 0.7861251458500517, 0.7070618126110694, 1.0998823597938725, 1.0081466702532647, 0.9418671924990729, 0.8947556577015439, 0.813700337943985, 0.813700337943985, 0.813700337943985, 0.813700337943985, 0.813700337943985, 0.813700337943985, 0.813700337943985, 0.813700337943985, 0.813700337943985, 0.813700337943985, 0.813700337943985, 0.813700337943985, 0.813700337943985, 0.813700337943985, 0.813700337943985, 0.813700337943985, 0.813700337943985, 0.813700337943985, 0.813700337943985, 0.813700337943985, 0.813700337943985, 0.813700337943985, 0.813700337943985, 0.813700337943985, 0.813700337943985, 0.813700337943985, 0.813700337943985, 0.813700337943985, 1.5629895996766845, 1.7612096122335241, 1.1283572306775898, 1.4735355218258206, 1.622735436024053, 1.1549651875005553, 3.265425940978195, 0.9526889970436461, 1.276190892516908, 1.006151584813533, 0.8711962955542393, 1.2543882467940757, 1.0584454454589394, 1.2959538283353735, 0.9444456808354867, 1.1168053203088464, 1.1208142086720876, 1.2149881913560467, 1.0052924399124592, 1.0150458603995582], \"Total\": [49.0, 129.0, 15.0, 14.0, 8.0, 10.0, 20.0, 15.0, 9.0, 18.0, 74.0, 73.0, 16.0, 9.0, 24.0, 12.0, 6.0, 4.0, 9.0, 53.0, 5.0, 5.0, 5.0, 6.0, 4.0, 4.0, 4.0, 4.0, 7.0, 3.0, 129.12804505688058, 74.57518277564486, 73.61447836943805, 53.72860815458012, 46.337410130240194, 49.983964746376294, 39.683765710662556, 36.07581488836797, 40.90900443005349, 32.10558049073293, 42.664112497974195, 32.713850213375316, 38.529365424173896, 43.74785893362657, 32.44301959067991, 32.114466379223394, 23.470654815910645, 50.33696977170094, 23.99852195414068, 22.48520580497263, 22.452154847219887, 23.570498771148383, 27.220414679681593, 73.10459471997441, 45.925902985002345, 24.89941088879719, 31.943356481766635, 22.41320629101839, 20.55011741982684, 24.872423406610952, 33.90273027411483, 46.32507077072619, 38.89962634493792, 37.22647659296459, 25.684665453623396, 26.171840789764442, 28.986643071054715, 49.12644696885423, 10.352714729009932, 9.212950512649979, 4.738219622086319, 4.089729853859388, 3.7528029947094, 3.623812148679109, 15.481046043631618, 2.872999919789273, 3.5541655487872674, 2.8595570860997075, 2.750916871120619, 4.519903107763346, 3.54519368110301, 14.541915503386468, 4.084250714189553, 2.8866318665680937, 2.6314244331713947, 2.4186618412692917, 2.202839369960481, 5.108438007231335, 2.200857193991446, 2.4441388049999757, 2.4441388049999757, 2.45438851123233, 3.0003189575718805, 2.811921862061104, 2.3225184581710114, 2.745569982455411, 3.487677368986756, 2.354399885243867, 6.332030226596315, 49.12644696885423, 3.0682395982323825, 15.17227179452375, 20.239966995087713, 9.164477924699153, 3.9792857255945955, 6.276558112138948, 9.992993352973825, 16.597167397974488, 12.148103038447248, 24.09924580998506, 12.55333816370747, 28.986643071054715, 19.255928920216565, 16.320811847920396, 7.235125966931869, 9.219136277849707, 12.649278390850625, 8.482405967800243, 2.358185944697623, 2.773187042203692, 3.206245378337477, 2.1388115390448563, 2.202158515934043, 2.2079714792135214, 2.153141437689495, 3.456780111122134, 1.8255133065271476, 1.8255133065271476, 1.8255133065271476, 2.29768973002042, 1.8459146591611206, 2.4982599380184176, 1.8591755888183024, 1.8591755888183024, 1.8715411911109605, 1.8715411911109605, 1.8715411911109605, 1.6993803289250429, 2.6685787809838093, 2.4702619757665922, 2.3284478849675114, 2.243328041825662, 2.041758378484881, 2.041758378484881, 2.041758378484881, 2.041758378484881, 2.041758378484881, 2.041758378484881, 2.041758378484881, 2.041758378484881, 2.041758378484881, 2.041758378484881, 2.041758378484881, 2.041758378484881, 2.041758378484881, 2.041758378484881, 2.041758378484881, 2.041758378484881, 2.041758378484881, 2.041758378484881, 2.041758378484881, 2.041758378484881, 2.041758378484881, 2.041758378484881, 2.041758378484881, 2.041758378484881, 2.041758378484881, 2.041758378484881, 2.041758378484881, 2.041758378484881, 4.646662807685226, 5.675867355199915, 3.1482836110463173, 4.497546808285515, 5.3990846504878816, 3.4375773242437018, 18.638129790079812, 2.5890474837749773, 4.522932464523151, 3.0427487795113235, 2.273452542038324, 5.3773269859864055, 4.163688217304195, 7.827864597885763, 2.9717024307932394, 5.817956866571076, 6.0305317619720515, 11.590116118803408, 5.534986906298865, 9.047490419622934], \"Category\": [\"Default\", \"Default\", \"Default\", \"Default\", \"Default\", \"Default\", \"Default\", \"Default\", \"Default\", \"Default\", \"Default\", \"Default\", \"Default\", \"Default\", \"Default\", \"Default\", \"Default\", \"Default\", \"Default\", \"Default\", \"Default\", \"Default\", \"Default\", \"Default\", \"Default\", \"Default\", \"Default\", \"Default\", \"Default\", \"Default\", \"Topic1\", \"Topic1\", \"Topic1\", \"Topic1\", \"Topic1\", \"Topic1\", \"Topic1\", \"Topic1\", \"Topic1\", \"Topic1\", \"Topic1\", \"Topic1\", \"Topic1\", \"Topic1\", \"Topic1\", \"Topic1\", \"Topic1\", \"Topic1\", \"Topic1\", \"Topic1\", \"Topic1\", \"Topic1\", \"Topic1\", \"Topic1\", \"Topic1\", \"Topic1\", \"Topic1\", \"Topic1\", \"Topic1\", \"Topic1\", \"Topic1\", \"Topic1\", \"Topic1\", \"Topic1\", \"Topic1\", \"Topic1\", \"Topic1\", \"Topic1\", \"Topic2\", \"Topic2\", \"Topic2\", \"Topic2\", \"Topic2\", \"Topic2\", \"Topic2\", \"Topic2\", \"Topic2\", \"Topic2\", \"Topic2\", \"Topic2\", \"Topic2\", \"Topic2\", \"Topic2\", \"Topic2\", \"Topic2\", \"Topic2\", \"Topic2\", \"Topic2\", \"Topic2\", \"Topic2\", \"Topic2\", \"Topic2\", \"Topic2\", \"Topic2\", \"Topic2\", \"Topic2\", \"Topic2\", \"Topic2\", \"Topic2\", \"Topic2\", \"Topic2\", \"Topic2\", \"Topic2\", \"Topic2\", \"Topic2\", \"Topic2\", \"Topic2\", \"Topic2\", \"Topic2\", \"Topic2\", \"Topic2\", \"Topic2\", \"Topic2\", \"Topic2\", \"Topic2\", \"Topic2\", \"Topic2\", \"Topic3\", \"Topic3\", \"Topic3\", \"Topic3\", \"Topic3\", \"Topic3\", \"Topic3\", \"Topic3\", \"Topic3\", \"Topic3\", \"Topic3\", \"Topic3\", \"Topic3\", \"Topic3\", \"Topic3\", \"Topic3\", \"Topic3\", \"Topic3\", \"Topic3\", \"Topic3\", \"Topic3\", \"Topic3\", \"Topic3\", \"Topic3\", \"Topic3\", \"Topic3\", \"Topic3\", \"Topic3\", \"Topic3\", \"Topic3\", \"Topic3\", \"Topic3\", \"Topic3\", \"Topic3\", \"Topic3\", \"Topic3\", \"Topic3\", \"Topic3\", \"Topic3\", \"Topic3\", \"Topic3\", \"Topic3\", \"Topic3\", \"Topic3\", \"Topic3\", \"Topic3\", \"Topic3\", \"Topic3\", \"Topic3\", \"Topic3\", \"Topic3\", \"Topic3\", \"Topic3\", \"Topic3\", \"Topic3\", \"Topic3\", \"Topic3\", \"Topic3\", \"Topic3\", \"Topic3\", \"Topic3\", \"Topic3\", \"Topic3\", \"Topic3\", \"Topic3\", \"Topic3\", \"Topic3\", \"Topic3\", \"Topic3\", \"Topic3\", \"Topic3\", \"Topic3\", \"Topic3\"], \"logprob\": [30.0, 29.0, 28.0, 27.0, 26.0, 25.0, 24.0, 23.0, 22.0, 21.0, 20.0, 19.0, 18.0, 17.0, 16.0, 15.0, 14.0, 13.0, 12.0, 11.0, 10.0, 9.0, 8.0, 7.0, 6.0, 5.0, 4.0, 3.0, 2.0, 1.0, -4.131100177764893, -4.682799816131592, -4.698699951171875, -5.014599800109863, -5.164599895477295, -5.089200019836426, -5.322999954223633, -5.419400215148926, -5.294400215148926, -5.539000034332275, -5.255099773406982, -5.521999835968018, -5.358500003814697, -5.232399940490723, -5.531400203704834, -5.543399810791016, -5.857100009918213, -5.0945000648498535, -5.836599826812744, -5.9019999504089355, -5.906499862670898, -5.858500003814697, -5.714600086212158, -4.726799964904785, -5.192200183868408, -5.804699897766113, -5.555699825286865, -5.910799980163574, -5.998199939727783, -5.808499813079834, -5.501299858093262, -5.200500011444092, -5.382800102233887, -5.427000045776367, -5.780600070953369, -5.7652997970581055, -5.745100021362305, -5.8053998947143555, -5.179200172424316, -5.332600116729736, -6.056700229644775, -6.296199798583984, -6.388599872589111, -6.424300193786621, -5.003300189971924, -6.700300216674805, -6.4980998039245605, -6.717700004577637, -6.798500061035156, -6.324100017547607, -6.581299781799316, -5.170199871063232, -6.441199779510498, -6.801400184631348, -6.917600154876709, -7.010000228881836, -7.115600109100342, -6.274600028991699, -7.125500202178955, -7.02269983291626, -7.02269983291626, -7.026700019836426, -6.832300186157227, -6.899099826812744, -7.098299980163574, -6.932199954986572, -6.694300174713135, -7.0883002281188965, -6.133800029754639, -4.178899765014648, -6.83620023727417, -5.4618000984191895, -5.432600021362305, -6.049499988555908, -6.690800189971924, -6.463900089263916, -6.2027997970581055, -5.938700199127197, -6.155600070953369, -5.940700054168701, -6.418000221252441, -6.302499771118164, -6.424799919128418, -6.589200019836426, -6.648499965667725, -6.6697001457214355, -6.6743998527526855, -5.057300090789795, -6.679500102996826, -6.5233001708984375, -6.38129997253418, -6.83050012588501, -6.843100070953369, -6.856400012969971, -6.9166998863220215, -6.453499794006348, -7.1859002113342285, -7.1859002113342285, -7.1859002113342285, -6.957699775695801, -7.189199924468994, -6.891300201416016, -7.205699920654297, -7.205699920654297, -7.21120023727417, -7.21120023727417, -7.21120023727417, -7.317200183868408, -6.87529993057251, -6.962399959564209, -7.030399799346924, -7.081699848175049, -7.176700115203857, -7.176700115203857, -7.176700115203857, -7.176700115203857, -7.176700115203857, -7.176700115203857, -7.176700115203857, -7.176700115203857, -7.176700115203857, -7.176700115203857, -7.176700115203857, -7.176700115203857, -7.176700115203857, -7.176700115203857, -7.176700115203857, -7.176700115203857, -7.176700115203857, -7.176700115203857, -7.176700115203857, -7.176700115203857, -7.176700115203857, -7.176700115203857, -7.176700115203857, -7.176700115203857, -7.176700115203857, -7.176700115203857, -7.176700115203857, -7.176700115203857, -6.523900032043457, -6.4045000076293945, -6.849800109863281, -6.582900047302246, -6.486400127410889, -6.826499938964844, -5.787099838256836, -7.019000053405762, -6.726600170135498, -6.964399814605713, -7.108399868011475, -6.743899822235107, -6.913700103759766, -6.711299896240234, -7.027699947357178, -6.860099792480469, -6.856500148773193, -6.7758002281188965, -6.965199947357178, -6.955599784851074], \"loglift\": [30.0, 29.0, 28.0, 27.0, 26.0, 25.0, 24.0, 23.0, 22.0, 21.0, 20.0, 19.0, 18.0, 17.0, 16.0, 15.0, 14.0, 13.0, 12.0, 11.0, 10.0, 9.0, 8.0, 7.0, 6.0, 5.0, 4.0, 3.0, 2.0, 1.0, 0.283, 0.2803, 0.2773, 0.2764, 0.2744, 0.274, 0.271, 0.2699, 0.2692, 0.2669, 0.2664, 0.2651, 0.265, 0.2641, 0.2641, 0.2622, 0.262, 0.2617, 0.2603, 0.26, 0.257, 0.2564, 0.2564, 0.2562, 0.2557, 0.2554, 0.2553, 0.2545, 0.2538, 0.2526, 0.2501, 0.2387, 0.2311, 0.2309, 0.2484, 0.2449, 0.163, -0.4248, 1.7585, 1.7217, 1.6626, 1.5703, 1.5638, 1.5631, 1.532, 1.5192, 1.5087, 1.5065, 1.4645, 1.4424, 1.428, 1.4277, 1.4265, 1.4134, 1.3898, 1.3817, 1.3695, 1.3694, 1.3605, 1.3586, 1.3586, 1.3503, 1.3439, 1.3419, 1.334, 1.3327, 1.3314, 1.3303, 1.2955, 1.2016, 1.3176, 1.0937, 0.8346, 1.0101, 1.203, 0.9741, 0.7703, 0.527, 0.6221, 0.152, 0.327, -0.3944, -0.1077, -0.1068, 0.6475, 0.3839, 0.0629, 2.0796, 1.7375, 1.7317, 1.7285, 1.6842, 1.6424, 1.6264, 1.5912, 1.5811, 1.4872, 1.4872, 1.4872, 1.4853, 1.4727, 1.468, 1.4491, 1.4491, 1.437, 1.437, 1.437, 1.4275, 1.418, 1.4082, 1.3993, 1.3852, 1.3844, 1.3844, 1.3844, 1.3844, 1.3844, 1.3844, 1.3844, 1.3844, 1.3844, 1.3844, 1.3844, 1.3844, 1.3844, 1.3844, 1.3844, 1.3844, 1.3844, 1.3844, 1.3844, 1.3844, 1.3844, 1.3844, 1.3844, 1.3844, 1.3844, 1.3844, 1.3844, 1.3844, 1.2148, 1.1342, 1.2783, 1.1885, 1.1023, 1.2137, 0.5626, 1.3046, 1.0391, 1.1978, 1.3452, 0.8488, 0.9348, 0.5059, 1.1581, 0.6539, 0.6216, 0.049, 0.5986, 0.1168]}, \"token.table\": {\"Topic\": [1, 2, 3, 1, 2, 1, 2, 1, 3, 1, 1, 2, 1, 2, 1, 3, 1, 1, 2, 1, 3, 1, 1, 3, 1, 3, 1, 3, 1, 2, 1, 3, 1, 2, 1, 2, 3, 1, 2, 1, 2, 1, 3, 1, 2, 1, 2, 3, 1, 2, 1, 2, 1, 2, 3, 1, 2, 1, 2, 1, 1, 3, 1, 1, 2, 1, 2, 3, 1, 2, 1, 3, 1, 2, 1, 3, 1, 3, 1, 3, 1, 2, 3, 1, 1, 3, 1, 3, 1, 3, 1, 2, 1, 3, 1, 2, 1, 3, 1, 1, 2, 1, 3, 1, 2, 1, 2, 1, 2, 1, 1, 3, 1, 2, 1, 3, 1, 3, 1, 2, 1, 3, 1, 3, 1, 2, 1, 1, 2, 3, 1, 2, 1, 2, 1, 2, 3, 1, 2, 1, 3, 1, 2, 3, 1, 3, 1, 2, 3, 1, 3, 1, 3, 1, 2, 1, 3, 1, 2, 1, 3, 1, 3, 1, 3, 1, 3, 1, 2, 1, 1, 2, 1, 2, 1, 2, 1, 1, 2, 1, 1, 1, 2, 3, 1, 3, 1, 2, 1, 1, 3, 1, 3, 1, 2, 1, 2, 1, 3, 1, 3, 1, 2, 1, 1, 3, 1, 2, 1, 3, 1, 3, 1, 2, 1, 3, 1, 3, 1, 1, 3, 1, 3, 1, 2, 1, 3, 1, 2, 1, 2, 3, 1, 2, 1, 3, 1, 1, 3, 1, 2, 1, 3, 1, 3, 1, 3, 1, 2, 1, 3, 1, 2, 3, 1, 2, 1, 1, 3, 1, 2, 1, 3, 1, 2, 3, 1, 2, 1, 3, 1, 2, 1, 1, 3, 1, 2, 1, 3, 1, 3, 1, 2, 1, 3, 1, 3, 1, 3, 1, 3, 1, 2, 1, 2, 1, 2, 3, 1, 2, 1, 2, 1, 2, 1, 3, 1, 1, 2, 1, 3], \"Freq\": [0.8309129134352898, 0.15579617126911682, 0.051932057089705615, 0.4091420658901612, 0.4091420658901612, 0.3556286586381217, 0.7112573172762434, 0.6632864902430702, 0.22109549674769005, 0.9655642267221409, 0.4247366839709223, 0.4247366839709223, 0.41345176201862477, 0.41345176201862477, 0.4897739176866098, 0.4897739176866098, 0.970179055090039, 0.7905589307950658, 0.15811178615901314, 0.7664925631979566, 0.12774876053299275, 0.9815641597345234, 0.5417368538881705, 0.5417368538881705, 0.4897739176866098, 0.4897739176866098, 0.534318990546178, 0.534318990546178, 0.09659302184748152, 0.8693371966273336, 0.4675493757839818, 0.4675493757839818, 0.24451492781517636, 0.7335447834455291, 0.4779689674501634, 0.4779689674501634, 0.15932298915005447, 0.2759524939405325, 0.8278574818215976, 0.6422935374921871, 0.34585036634194694, 0.424054770680191, 0.424054770680191, 0.4539595640230182, 0.4539595640230182, 0.7965290036510325, 0.12254292363862039, 0.061271461819310195, 0.9733729328931341, 0.029496149481610123, 0.958064994701764, 0.021774204425040092, 0.4294706385554139, 0.4294706385554139, 0.4294706385554139, 0.8299014897683389, 0.16598029795366778, 0.4091420658901612, 0.4091420658901612, 0.9781789606322935, 0.6456246394806674, 0.4304164263204449, 0.9927184076690554, 0.34970450663880603, 0.6994090132776121, 0.4048153636375639, 0.4048153636375639, 0.4048153636375639, 0.4543684173285287, 0.4543684173285287, 0.4897739176866098, 0.4897739176866098, 0.2813599947085229, 0.5627199894170458, 0.4897739176866098, 0.4897739176866098, 0.31189128778363384, 0.6237825755672677, 0.5477911316365027, 0.5477911316365027, 0.5285535782036144, 0.17618452606787144, 0.3523690521357429, 0.982769636439043, 0.4897739176866098, 0.4897739176866098, 0.4897739176866098, 0.4897739176866098, 0.4897739176866098, 0.4897739176866098, 0.34383365787234965, 0.6189005841702293, 0.5477911316365027, 0.5477911316365027, 0.3642230962569319, 0.7284461925138638, 0.4897739176866098, 0.4897739176866098, 0.9798614052728273, 0.5455848157508806, 0.4364678526007045, 0.3605959442264513, 0.7211918884529026, 0.9649240690242082, 0.04020516954267534, 0.9704678347654196, 0.031305414024690954, 0.39150910653488724, 0.5872636598023309, 0.9583923561605677, 0.4897739176866098, 0.4897739176866098, 0.9862607281914442, 0.025954229689248532, 0.4897739176866098, 0.4897739176866098, 0.4897739176866098, 0.4897739176866098, 0.3800223131601766, 0.7600446263203532, 0.4897739176866098, 0.4897739176866098, 0.4897739176866098, 0.4897739176866098, 0.2664674914749783, 0.7994024744249348, 0.9784211090091368, 0.6631673228397912, 0.2210557742799304, 0.1105278871399652, 0.4074334586490985, 0.4074334586490985, 0.9712111840844475, 0.027358061523505565, 0.9498096660826808, 0.04317316664012185, 0.021586583320060925, 0.28672376891630924, 0.5734475378326185, 0.6573004033284691, 0.32865020166423453, 0.40027860383222774, 0.40027860383222774, 0.40027860383222774, 0.46443767348283704, 0.46443767348283704, 0.4803433628118563, 0.24017168140592815, 0.24017168140592815, 0.722675602980734, 0.1806689007451835, 0.4540999173149219, 0.4540999173149219, 0.32591978819910333, 0.6518395763982067, 0.4897739176866098, 0.4897739176866098, 0.33329789737064724, 0.6665957947412945, 0.7438640072333724, 0.1859660018083431, 0.4897739176866098, 0.4897739176866098, 0.5477911316365027, 0.5477911316365027, 0.45290440090113826, 0.45290440090113826, 0.34642449963281824, 0.6928489992656365, 0.9912641358708429, 0.9829052449227011, 0.02285826150983026, 0.9511659487910448, 0.051414375610326746, 0.3480682310890379, 0.6961364621780758, 0.9864391023775662, 0.7966008618257939, 0.23898025854773816, 0.9922872093069451, 0.980314391798069, 0.117891079936054, 0.117891079936054, 0.825237559552378, 0.3862424332758639, 0.3862424332758639, 0.991652751156447, 0.013584284262417083, 0.975796067079976, 0.4897739176866098, 0.4897739176866098, 0.2892865521826269, 0.5785731043652538, 0.48853522859521686, 0.5088908631200175, 0.5026027628868381, 0.5026027628868381, 0.4897739176866098, 0.4897739176866098, 0.6632914240206166, 0.16582285600515415, 0.6585390307178813, 0.2469521365192055, 0.9638782261630996, 0.6875265822239546, 0.17188164555598864, 0.9552251292074673, 0.03820900516829869, 0.5378728109460619, 0.5378728109460619, 0.44576628177222866, 0.44576628177222866, 0.7592902186312726, 0.21694006246607786, 0.4897739176866098, 0.4897739176866098, 0.534318990546178, 0.534318990546178, 0.9652970606435359, 0.4897739176866098, 0.4897739176866098, 0.4897739176866098, 0.4897739176866098, 0.973439605566949, 0.01986611439932549, 0.6670303007126709, 0.2223434335708903, 0.9844339314920537, 0.023438903130763182, 0.37473130159242884, 0.37473130159242884, 0.37473130159242884, 0.9551654633464288, 0.03673713320563188, 0.5884497913616302, 0.5884497913616302, 0.9777798447379057, 0.4897739176866098, 0.4897739176866098, 0.5272776620629419, 0.4613679543050742, 0.4352197718144968, 0.4352197718144968, 0.5378728109460619, 0.5378728109460619, 0.5556497432817448, 0.37043316218782985, 0.6004206935867173, 0.3002103467933587, 0.4897739176866098, 0.4897739176866098, 0.3176333912520844, 0.3176333912520844, 0.3176333912520844, 0.2448429516155284, 0.7345288548465853, 0.9799470948040363, 0.4398596326551966, 0.4398596326551966, 0.4737816928603962, 0.4737816928603962, 0.8628041252991713, 0.08628041252991712, 0.6910729713418248, 0.27642918853672993, 0.13821459426836497, 0.4305670839694864, 0.4305670839694864, 0.4897739176866098, 0.4897739176866098, 0.9401910468909279, 0.053725202679481596, 0.9732304488296459, 0.581805094505043, 0.2909025472525215, 0.36351516488851154, 0.7270303297770231, 0.4897739176866098, 0.4897739176866098, 0.4897739176866098, 0.4897739176866098, 0.9733434155543261, 0.038933736622173046, 0.4897739176866098, 0.4897739176866098, 0.4897739176866098, 0.4897739176866098, 0.4897739176866098, 0.4897739176866098, 0.8048017783406458, 0.16096035566812916, 0.8969648515789296, 0.10349594441295341, 0.2820720361006826, 0.5641440722013652, 0.723014940577419, 0.241004980192473, 0.06025124504811825, 0.22124368070687372, 0.6637310421206212, 0.21104973592585033, 0.8441989437034013, 0.10854286025165717, 0.8683428820132574, 0.6730148951912854, 0.3365074475956427, 0.986344686891994, 0.2583804730459713, 0.7105463008764211, 0.534318990546178, 0.534318990546178], \"Term\": [\"activo\", \"activo\", \"activo\", \"admitir\", \"admitir\", \"amargo\", \"amargo\", \"amigo\", \"amigo\", \"aparecer\", \"apellidar\", \"apellidar\", \"ascender\", \"ascender\", \"ateismo\", \"ateismo\", \"atender\", \"ayudar\", \"ayudar\", \"beneficio\", \"beneficio\", \"cambiar\", \"cardiovascular\", \"cardiovascular\", \"carrete\", \"carrete\", \"cazador\", \"cazador\", \"cedula\", \"cedula\", \"celulas\", \"celulas\", \"cerdo\", \"cerdo\", \"ciencia\", \"ciencia\", \"ciencia\", \"ciudadania\", \"ciudadania\", \"cliente\", \"cliente\", \"codigo\", \"codigo\", \"codigos\", \"codigos\", \"colaborar\", \"colaborar\", \"colaborar\", \"comentar\", \"comentar\", \"comunicar\", \"comunicar\", \"comunidad\", \"comunidad\", \"comunidad\", \"confirmar\", \"confirmar\", \"conflicto\", \"conflicto\", \"consultar\", \"contener\", \"contener\", \"contestar\", \"continuar\", \"continuar\", \"contrario\", \"contrario\", \"contrario\", \"convenir\", \"convenir\", \"conversacion\", \"conversacion\", \"cooperativo\", \"cooperativo\", \"corregir\", \"corregir\", \"costar\", \"costar\", \"cultura\", \"cultura\", \"deber\", \"deber\", \"deber\", \"decir\", \"defensivo\", \"defensivo\", \"definitivo\", \"definitivo\", \"dental\", \"dental\", \"derecho\", \"derecho\", \"detrimento\", \"detrimento\", \"dictar\", \"dictar\", \"disidencia\", \"disidencia\", \"doctorar\", \"documentar\", \"documentar\", \"documento\", \"documento\", \"ejemplo\", \"ejemplo\", \"entrar\", \"entrar\", \"entrevistar\", \"entrevistar\", \"enviar\", \"equipo\", \"equipo\", \"esperar\", \"esperar\", \"estadisticas\", \"estadisticas\", \"estante\", \"estante\", \"estrenar\", \"estrenar\", \"evidentemente\", \"evidentemente\", \"excitante\", \"excitante\", \"favor\", \"favor\", \"formular\", \"generar\", \"generar\", \"generar\", \"habitacion\", \"habitacion\", \"hablar\", \"hablar\", \"hacer\", \"hacer\", \"hacer\", \"hallar\", \"hallar\", \"humo\", \"humo\", \"identidad\", \"identidad\", \"identidad\", \"inca\", \"inca\", \"inicial\", \"inicial\", \"inicial\", \"iniciar\", \"iniciar\", \"inspirar\", \"inspirar\", \"inteligencia\", \"inteligencia\", \"intenso\", \"intenso\", \"interno\", \"interno\", \"lanzar\", \"lanzar\", \"lecho\", \"lecho\", \"leve\", \"leve\", \"liberar\", \"liberar\", \"liderar\", \"liderar\", \"llamar\", \"llegar\", \"llegar\", \"llevar\", \"llevar\", \"magnetica\", \"magnetica\", \"mandar\", \"mantener\", \"mantener\", \"medicamento\", \"medicos\", \"medio\", \"medio\", \"medio\", \"moda\", \"moda\", \"necesitar\", \"necesitar\", \"nuevamente\", \"oeste\", \"oeste\", \"operacion\", \"operacion\", \"paciente\", \"paciente\", \"panal\", \"panal\", \"parade\", \"parade\", \"parar\", \"parar\", \"partir\", \"partir\", \"pasar\", \"pediatra\", \"pediatra\", \"pedir\", \"pedir\", \"pedire\", \"pedire\", \"pedirle\", \"pedirle\", \"perdonar\", \"perdonar\", \"permanecera\", \"permanecera\", \"pervertir\", \"pervertir\", \"poner\", \"posterior\", \"posterior\", \"precedentemente\", \"precedentemente\", \"preguntar\", \"preguntar\", \"probable\", \"probable\", \"problema\", \"problema\", \"productor\", \"productor\", \"productor\", \"quedar\", \"quedar\", \"quejarte\", \"quejarte\", \"querer\", \"recontar\", \"recontar\", \"recordar\", \"recordar\", \"recorrer\", \"recorrer\", \"refuerzo\", \"refuerzo\", \"regalar\", \"regalar\", \"registrar\", \"registrar\", \"regi\\u00f3n\", \"regi\\u00f3n\", \"repente\", \"repente\", \"repente\", \"resonancia\", \"resonancia\", \"respuesta\", \"restante\", \"restante\", \"retirar\", \"retirar\", \"sacar\", \"sacar\", \"senores\", \"senores\", \"senores\", \"silenciar\", \"silenciar\", \"sisal\", \"sisal\", \"solicitar\", \"solicitar\", \"solicitud\", \"solo\", \"solo\", \"tapar\", \"tapar\", \"temblar\", \"temblar\", \"temporada\", \"temporada\", \"terminar\", \"terminar\", \"terminos\", \"terminos\", \"tocarla\", \"tocarla\", \"tondero\", \"tondero\", \"trasladar\", \"trasladar\", \"tratar\", \"tratar\", \"triple\", \"triple\", \"urgencia\", \"urgencia\", \"urgencia\", \"urgente\", \"urgente\", \"usuario\", \"usuario\", \"validar\", \"validar\", \"vencer\", \"vencer\", \"venir\", \"verificar\", \"verificar\", \"video\", \"video\"]}, \"R\": 30, \"lambda.step\": 0.01, \"plot.opts\": {\"xlab\": \"PC1\", \"ylab\": \"PC2\"}, \"topic.order\": [3, 1, 2]};\n",
              "\n",
              "function LDAvis_load_lib(url, callback){\n",
              "  var s = document.createElement('script');\n",
              "  s.src = url;\n",
              "  s.async = true;\n",
              "  s.onreadystatechange = s.onload = callback;\n",
              "  s.onerror = function(){console.warn(\"failed to load library \" + url);};\n",
              "  document.getElementsByTagName(\"head\")[0].appendChild(s);\n",
              "}\n",
              "\n",
              "if(typeof(LDAvis) !== \"undefined\"){\n",
              "   // already loaded: just create the visualization\n",
              "   !function(LDAvis){\n",
              "       new LDAvis(\"#\" + \"ldavis_el641404684172432165532057888\", ldavis_el641404684172432165532057888_data);\n",
              "   }(LDAvis);\n",
              "}else if(typeof define === \"function\" && define.amd){\n",
              "   // require.js is available: use it to load d3/LDAvis\n",
              "   require.config({paths: {d3: \"https://cdnjs.cloudflare.com/ajax/libs/d3/3.5.5/d3.min\"}});\n",
              "   require([\"d3\"], function(d3){\n",
              "      window.d3 = d3;\n",
              "      LDAvis_load_lib(\"https://cdn.rawgit.com/bmabey/pyLDAvis/files/ldavis.v1.0.0.js\", function(){\n",
              "        new LDAvis(\"#\" + \"ldavis_el641404684172432165532057888\", ldavis_el641404684172432165532057888_data);\n",
              "      });\n",
              "    });\n",
              "}else{\n",
              "    // require.js not available: dynamically load d3 & LDAvis\n",
              "    LDAvis_load_lib(\"https://cdnjs.cloudflare.com/ajax/libs/d3/3.5.5/d3.min.js\", function(){\n",
              "         LDAvis_load_lib(\"https://cdn.rawgit.com/bmabey/pyLDAvis/files/ldavis.v1.0.0.js\", function(){\n",
              "                 new LDAvis(\"#\" + \"ldavis_el641404684172432165532057888\", ldavis_el641404684172432165532057888_data);\n",
              "            })\n",
              "         });\n",
              "}\n",
              "</script>"
            ],
            "text/plain": [
              "PreparedData(topic_coordinates=              x         y  topics  cluster       Freq\n",
              "topic                                                \n",
              "2      0.092902 -0.001186  1       1        74.923268\n",
              "0     -0.049730 -0.024615  2       1        15.094720\n",
              "1     -0.043172  0.025801  3       1        9.982012 , topic_info=           Term        Freq       Total Category  logprob  loglift\n",
              "36    paciente   49.000000   49.000000   Default  30.0000  30.0000\n",
              "54    llamar     129.000000  129.000000  Default  29.0000  29.0000\n",
              "190   verificar  15.000000   15.000000   Default  28.0000  28.0000\n",
              "34    derecho    14.000000   14.000000   Default  27.0000  27.0000\n",
              "44    medio      8.000000    8.000000    Default  26.0000  26.0000\n",
              "...     ...           ...         ...        ...      ...      ...\n",
              "546   pediatra   1.116805    5.817957    Topic3  -6.8601   0.6539 \n",
              "800   parar      1.120814    6.030532    Topic3  -6.8565   0.6216 \n",
              "550   sacar      1.214988    11.590116   Topic3  -6.7758   0.0490 \n",
              "1010  iniciar    1.005292    5.534987    Topic3  -6.9652   0.5986 \n",
              "165   generar    1.015046    9.047490    Topic3  -6.9556   0.1168 \n",
              "\n",
              "[190 rows x 6 columns], token_table=      Topic      Freq       Term\n",
              "term                            \n",
              "373   1      0.830913  activo   \n",
              "373   2      0.155796  activo   \n",
              "373   3      0.051932  activo   \n",
              "2613  1      0.409142  admitir  \n",
              "2613  2      0.409142  admitir  \n",
              "...  ..           ...      ...  \n",
              "175   1      0.986345  venir    \n",
              "190   1      0.258380  verificar\n",
              "190   2      0.710546  verificar\n",
              "3111  1      0.534319  video    \n",
              "3111  3      0.534319  video    \n",
              "\n",
              "[311 rows x 3 columns], R=30, lambda_step=0.01, plot_opts={'xlab': 'PC1', 'ylab': 'PC2'}, topic_order=[3, 1, 2])"
            ]
          },
          "metadata": {
            "tags": []
          }
        },
        {
          "output_type": "stream",
          "text": [
            "CPU times: user 2.16 s, sys: 111 ms, total: 2.28 s\n",
            "Wall time: 5.17 s\n"
          ],
          "name": "stdout"
        }
      ]
    },
    {
      "cell_type": "code",
      "metadata": {
        "id": "f3rS9YYkkOql",
        "colab": {
          "base_uri": "https://localhost:8080/",
          "height": 514
        },
        "cellView": "form",
        "outputId": "5263626e-25d9-4bfc-ecea-a1b3ec8656d5"
      },
      "source": [
        "#@title Dominancia de Temas\n",
        "def format_topics_sentences(ldamodel=None, corpus=corpus, texts=data):\n",
        "    # Init output\n",
        "    sent_topics_df = pd.DataFrame()\n",
        "\n",
        "    # Get main topic in each document\n",
        "    for i, row_list in enumerate(ldamodel[corpus]):\n",
        "        row = row_list[0] if ldamodel.per_word_topics else row_list            \n",
        "        # print(row)\n",
        "        row = sorted(row, key=lambda x: (x[1]), reverse=True)\n",
        "        # Get the Dominant topic, Perc Contribution and Keywords for each document\n",
        "        for j, (topic_num, prop_topic) in enumerate(row):\n",
        "            if j == 0:  # => dominant topic\n",
        "                wp = ldamodel.show_topic(topic_num)\n",
        "                topic_keywords = \", \".join([word for word, prop in wp])\n",
        "                sent_topics_df = sent_topics_df.append(pd.Series([int(topic_num), round(prop_topic,4), topic_keywords]), ignore_index=True)\n",
        "            else:\n",
        "                break\n",
        "    sent_topics_df.columns = ['Dominant_Topic', 'Perc_Contribution', 'Topic_Keywords']\n",
        "\n",
        "    # Add original text to the end of the output\n",
        "    contents = pd.Series(texts)\n",
        "    sent_topics_df = pd.concat([sent_topics_df, contents], axis=1)\n",
        "    return(sent_topics_df)\n",
        "\n",
        "df_topic_sents_keywords = format_topics_sentences(ldamodel=lda_model, corpus=corpus, texts=texts)\n",
        "\n",
        "# Format\n",
        "df_dominant_topic = df_topic_sents_keywords.reset_index()\n",
        "df_dominant_topic.columns = ['Document_No', 'Dominant_Topic', 'Topic_Perc_Contrib', 'Keywords', 'Text']\n",
        "df_dominant_topic.head(10)"
      ],
      "execution_count": 70,
      "outputs": [
        {
          "output_type": "execute_result",
          "data": {
            "text/html": [
              "<div>\n",
              "<style scoped>\n",
              "    .dataframe tbody tr th:only-of-type {\n",
              "        vertical-align: middle;\n",
              "    }\n",
              "\n",
              "    .dataframe tbody tr th {\n",
              "        vertical-align: top;\n",
              "    }\n",
              "\n",
              "    .dataframe thead th {\n",
              "        text-align: right;\n",
              "    }\n",
              "</style>\n",
              "<table border=\"1\" class=\"dataframe\">\n",
              "  <thead>\n",
              "    <tr style=\"text-align: right;\">\n",
              "      <th></th>\n",
              "      <th>Document_No</th>\n",
              "      <th>Dominant_Topic</th>\n",
              "      <th>Topic_Perc_Contrib</th>\n",
              "      <th>Keywords</th>\n",
              "      <th>Text</th>\n",
              "    </tr>\n",
              "  </thead>\n",
              "  <tbody>\n",
              "    <tr>\n",
              "      <th>0</th>\n",
              "      <td>0</td>\n",
              "      <td>0.0</td>\n",
              "      <td>0.6608</td>\n",
              "      <td>paciente, verificar, derecho, cedula, validar, cliente, recordar, urgencia, confirmar, documentar</td>\n",
              "      <td>[recordar, vacación, hacer, alegrar, crecer, hijo, adios, editar, entrevistar, ofrecer, reincidente, repente, cliente, cliente, incidente, esperar, decir, dentar, control, loco, incidente, llevar, informar, afirmar, entrevistar, entregar, entero, cobrar, historicas, perfil, tranquilo, tranquilita, conocido, nivel, dejame, cuartel, afirmar, opcion, cliente]</td>\n",
              "    </tr>\n",
              "    <tr>\n",
              "      <th>1</th>\n",
              "      <td>1</td>\n",
              "      <td>0.0</td>\n",
              "      <td>0.5524</td>\n",
              "      <td>paciente, verificar, derecho, cedula, validar, cliente, recordar, urgencia, confirmar, documentar</td>\n",
              "      <td>[personar, validar, derecho, paciente, sentir, entero, paciente, revistar, periodismo, entrar, entrar]</td>\n",
              "    </tr>\n",
              "    <tr>\n",
              "      <th>2</th>\n",
              "      <td>2</td>\n",
              "      <td>1.0</td>\n",
              "      <td>0.5438</td>\n",
              "      <td>medio, trasladar, costar, deber, operacion, regalar, documento, contener, probable, codigo</td>\n",
              "      <td>[noción, paciente, pertenecia, medio, eje, entrar, unir, nivelar, apoyar]</td>\n",
              "    </tr>\n",
              "    <tr>\n",
              "      <th>3</th>\n",
              "      <td>3</td>\n",
              "      <td>2.0</td>\n",
              "      <td>0.5663</td>\n",
              "      <td>llamar, medicamento, necesitar, hablar, mandar, medicos, preguntar, contestar, comunicar, hacer</td>\n",
              "      <td>[rabillo, necesitar, colaborar, provisional, comerlo, llegar, licenciar, solicitar, solicitud, trasladar, humo, llamar, inversion, profesional]</td>\n",
              "    </tr>\n",
              "    <tr>\n",
              "      <th>4</th>\n",
              "      <td>4</td>\n",
              "      <td>1.0</td>\n",
              "      <td>0.4736</td>\n",
              "      <td>medio, trasladar, costar, deber, operacion, regalar, documento, contener, probable, codigo</td>\n",
              "      <td>[contener, argos, asno, solicitar, inicial, urgencia, sientate, detener]</td>\n",
              "    </tr>\n",
              "    <tr>\n",
              "      <th>5</th>\n",
              "      <td>5</td>\n",
              "      <td>2.0</td>\n",
              "      <td>0.6809</td>\n",
              "      <td>llamar, medicamento, necesitar, hablar, mandar, medicos, preguntar, contestar, comunicar, hacer</td>\n",
              "      <td>[ayudar, utilizar, incluir, quedo]</td>\n",
              "    </tr>\n",
              "    <tr>\n",
              "      <th>6</th>\n",
              "      <td>6</td>\n",
              "      <td>0.0</td>\n",
              "      <td>0.8044</td>\n",
              "      <td>paciente, verificar, derecho, cedula, validar, cliente, recordar, urgencia, confirmar, documentar</td>\n",
              "      <td>[componer, letra, aspecto, hablar, titulos, tecnico, urgencia, provocar, partir, partir, preferentemente, ultimar, diseno, reportar, predicar, consciente]</td>\n",
              "    </tr>\n",
              "    <tr>\n",
              "      <th>7</th>\n",
              "      <td>7</td>\n",
              "      <td>2.0</td>\n",
              "      <td>0.5760</td>\n",
              "      <td>llamar, medicamento, necesitar, hablar, mandar, medicos, preguntar, contestar, comunicar, hacer</td>\n",
              "      <td>[diana, reclamar, medicamento, componer, penco, lento, entregar, tenes, llamar, completar, desavenencia, aguar, senores]</td>\n",
              "    </tr>\n",
              "    <tr>\n",
              "      <th>8</th>\n",
              "      <td>8</td>\n",
              "      <td>0.0</td>\n",
              "      <td>0.6602</td>\n",
              "      <td>paciente, verificar, derecho, cedula, validar, cliente, recordar, urgencia, confirmar, documentar</td>\n",
              "      <td>[escena, acostar, paciente, proponer, llegar, proyectar, escenario, resto, 3, encontro, paciente, exito, grabar, medir]</td>\n",
              "    </tr>\n",
              "    <tr>\n",
              "      <th>9</th>\n",
              "      <td>9</td>\n",
              "      <td>2.0</td>\n",
              "      <td>0.5771</td>\n",
              "      <td>llamar, medicamento, necesitar, hablar, mandar, medicos, preguntar, contestar, comunicar, hacer</td>\n",
              "      <td>[estacional, judia, imprimir, aparecer, unir, tremendo, ratificar, documento, aguar, especie, acercar]</td>\n",
              "    </tr>\n",
              "  </tbody>\n",
              "</table>\n",
              "</div>"
            ],
            "text/plain": [
              "   Document_No  ...                                                                                                                                                                                                                                                                                                                                                                    Text\n",
              "0  0            ...  [recordar, vacación, hacer, alegrar, crecer, hijo, adios, editar, entrevistar, ofrecer, reincidente, repente, cliente, cliente, incidente, esperar, decir, dentar, control, loco, incidente, llevar, informar, afirmar, entrevistar, entregar, entero, cobrar, historicas, perfil, tranquilo, tranquilita, conocido, nivel, dejame, cuartel, afirmar, opcion, cliente]\n",
              "1  1            ...  [personar, validar, derecho, paciente, sentir, entero, paciente, revistar, periodismo, entrar, entrar]                                                                                                                                                                                                                                                                \n",
              "2  2            ...  [noción, paciente, pertenecia, medio, eje, entrar, unir, nivelar, apoyar]                                                                                                                                                                                                                                                                                             \n",
              "3  3            ...  [rabillo, necesitar, colaborar, provisional, comerlo, llegar, licenciar, solicitar, solicitud, trasladar, humo, llamar, inversion, profesional]                                                                                                                                                                                                                       \n",
              "4  4            ...  [contener, argos, asno, solicitar, inicial, urgencia, sientate, detener]                                                                                                                                                                                                                                                                                              \n",
              "5  5            ...  [ayudar, utilizar, incluir, quedo]                                                                                                                                                                                                                                                                                                                                    \n",
              "6  6            ...  [componer, letra, aspecto, hablar, titulos, tecnico, urgencia, provocar, partir, partir, preferentemente, ultimar, diseno, reportar, predicar, consciente]                                                                                                                                                                                                            \n",
              "7  7            ...  [diana, reclamar, medicamento, componer, penco, lento, entregar, tenes, llamar, completar, desavenencia, aguar, senores]                                                                                                                                                                                                                                              \n",
              "8  8            ...  [escena, acostar, paciente, proponer, llegar, proyectar, escenario, resto, 3, encontro, paciente, exito, grabar, medir]                                                                                                                                                                                                                                               \n",
              "9  9            ...  [estacional, judia, imprimir, aparecer, unir, tremendo, ratificar, documento, aguar, especie, acercar]                                                                                                                                                                                                                                                                \n",
              "\n",
              "[10 rows x 5 columns]"
            ]
          },
          "metadata": {
            "tags": []
          },
          "execution_count": 70
        }
      ]
    },
    {
      "cell_type": "code",
      "metadata": {
        "id": "7MuPZ5hqkfc6",
        "colab": {
          "base_uri": "https://localhost:8080/",
          "height": 137
        },
        "cellView": "form",
        "outputId": "334660fa-9488-48b7-b643-b92639f2178d"
      },
      "source": [
        "#@title Oracion mas Representativa por cada Tema\n",
        "pd.options.display.max_colwidth = 100\n",
        "\n",
        "sent_topics_sorteddf_mallet = pd.DataFrame()\n",
        "sent_topics_outdf_grpd = df_topic_sents_keywords.groupby('Dominant_Topic')\n",
        "\n",
        "for i, grp in sent_topics_outdf_grpd:\n",
        "    sent_topics_sorteddf_mallet = pd.concat([sent_topics_sorteddf_mallet, \n",
        "                                             grp.sort_values(['Perc_Contribution'], ascending=False).head(1)], \n",
        "                                            axis=0)\n",
        "    \n",
        "# Reset Index    \n",
        "sent_topics_sorteddf_mallet.reset_index(drop=True, inplace=True)\n",
        "\n",
        "# Format\n",
        "sent_topics_sorteddf_mallet.columns = ['Topic_Num', \"Topic_Perc_Contrib\", \"Keywords\", \"Representative Text\"]\n",
        "\n",
        "# Show\n",
        "sent_topics_sorteddf_mallet.head(10)"
      ],
      "execution_count": 71,
      "outputs": [
        {
          "output_type": "execute_result",
          "data": {
            "text/html": [
              "<div>\n",
              "<style scoped>\n",
              "    .dataframe tbody tr th:only-of-type {\n",
              "        vertical-align: middle;\n",
              "    }\n",
              "\n",
              "    .dataframe tbody tr th {\n",
              "        vertical-align: top;\n",
              "    }\n",
              "\n",
              "    .dataframe thead th {\n",
              "        text-align: right;\n",
              "    }\n",
              "</style>\n",
              "<table border=\"1\" class=\"dataframe\">\n",
              "  <thead>\n",
              "    <tr style=\"text-align: right;\">\n",
              "      <th></th>\n",
              "      <th>Topic_Num</th>\n",
              "      <th>Topic_Perc_Contrib</th>\n",
              "      <th>Keywords</th>\n",
              "      <th>Representative Text</th>\n",
              "    </tr>\n",
              "  </thead>\n",
              "  <tbody>\n",
              "    <tr>\n",
              "      <th>0</th>\n",
              "      <td>0.0</td>\n",
              "      <td>0.8548</td>\n",
              "      <td>paciente, verificar, derecho, cedula, validar, cliente, recordar, urgencia, confirmar, documentar</td>\n",
              "      <td>[hablar, recordar, validar, derecho, paciente, ciudadania, repetir, perdonar, vigente, pedirlo, ...</td>\n",
              "    </tr>\n",
              "    <tr>\n",
              "      <th>1</th>\n",
              "      <td>1.0</td>\n",
              "      <td>0.8268</td>\n",
              "      <td>medio, trasladar, costar, deber, operacion, regalar, documento, contener, probable, codigo</td>\n",
              "      <td>[color, contener, aplicar, tacticas, influenza, pasajero, posibilidad, caer, accionar, parar, in...</td>\n",
              "    </tr>\n",
              "    <tr>\n",
              "      <th>2</th>\n",
              "      <td>2.0</td>\n",
              "      <td>0.9961</td>\n",
              "      <td>llamar, medicamento, necesitar, hablar, mandar, medicos, preguntar, contestar, comunicar, hacer</td>\n",
              "      <td>[hablar, jinete, medieval, entrante, elegi, domiciliario, envio, formular, quedar, formular, efe...</td>\n",
              "    </tr>\n",
              "  </tbody>\n",
              "</table>\n",
              "</div>"
            ],
            "text/plain": [
              "   Topic_Num  ...                                                                                  Representative Text\n",
              "0        0.0  ...  [hablar, recordar, validar, derecho, paciente, ciudadania, repetir, perdonar, vigente, pedirlo, ...\n",
              "1        1.0  ...  [color, contener, aplicar, tacticas, influenza, pasajero, posibilidad, caer, accionar, parar, in...\n",
              "2        2.0  ...  [hablar, jinete, medieval, entrante, elegi, domiciliario, envio, formular, quedar, formular, efe...\n",
              "\n",
              "[3 rows x 4 columns]"
            ]
          },
          "metadata": {
            "tags": []
          },
          "execution_count": 71
        }
      ]
    },
    {
      "cell_type": "code",
      "metadata": {
        "id": "Og8f5NmAkmVL",
        "colab": {
          "base_uri": "https://localhost:8080/",
          "height": 297
        },
        "cellView": "form",
        "outputId": "107bf7ba-1d9e-4203-9505-5f188d0c92fe"
      },
      "source": [
        "#@title Nubes de Palabras de los Términos clave N Principales en cada Tema\n",
        "# 1. Wordcloud of Top N words in each topic\n",
        "from matplotlib import pyplot as plt\n",
        "from wordcloud import WordCloud, STOPWORDS\n",
        "import matplotlib.colors as mcolors\n",
        "\n",
        "cols = [color for name, color in mcolors.TABLEAU_COLORS.items()]  # more colors: 'mcolors.XKCD_COLORS'\n",
        "\n",
        "cloud = WordCloud(stopwords=lista_stop_words,\n",
        "                  background_color='white',\n",
        "                  width=2500,\n",
        "                  height=1800,\n",
        "                  max_words=20,\n",
        "                  colormap='tab10',\n",
        "                  color_func=lambda *args, **kwargs: cols[i],\n",
        "                  prefer_horizontal=1.0)\n",
        "\n",
        "topics = lda_model.show_topics(formatted=False)\n",
        "\n",
        "fig, axes = plt.subplots(1, 3, figsize=(15,15), sharex=True, sharey=True)\n",
        "\n",
        "for i, ax in enumerate(axes.flatten()):\n",
        "    fig.add_subplot(ax)\n",
        "    topic_words = dict(topics[i][1])\n",
        "    cloud.generate_from_frequencies(topic_words, max_font_size=300)\n",
        "    plt.gca().imshow(cloud)\n",
        "    plt.gca().set_title('Topic ' + str(i), fontdict=dict(size=15))\n",
        "    plt.gca().axis('off')\n",
        "\n",
        "\n",
        "plt.subplots_adjust(wspace=0, hspace=0)\n",
        "plt.axis('off')\n",
        "plt.savefig(segmento+\"_topics_results.png\",bbox_inches = 'tight')\n",
        "plt.margins(x=0, y=0)\n",
        "plt.tight_layout()\n",
        "plt.show()"
      ],
      "execution_count": 72,
      "outputs": [
        {
          "output_type": "display_data",
          "data": {
            "image/png": "[encoded data removed]",
            "text/plain": [
              "<Figure size 1080x1080 with 3 Axes>"
            ]
          },
          "metadata": {
            "tags": [],
            "needs_background": "light"
          }
        }
      ]
    },
    {
      "cell_type": "markdown",
      "metadata": {
        "id": "wzDrlHpTZLIO"
      },
      "source": [
        "<b><font color=orange size=5> SEMANTICA DE LAS PALBRAS </font></b>"
      ]
    },
    {
      "cell_type": "code",
      "metadata": {
        "id": "-PnBVsvbbyLJ"
      },
      "source": [
        "df_personal=df_salud"
      ],
      "execution_count": 73,
      "outputs": []
    },
    {
      "cell_type": "code",
      "metadata": {
        "id": "ugsQELCXUJzb"
      },
      "source": [
        "#EMBEDING 3D\n",
        "sw_w2v=['certificadoes','certificadoes','mamita','diste','auto','autor','autora','pasando','adonde','tratan','ejemplo','ejemplos','inta','llevarla','comunes','quedando','hacerme','comunicarme','viendo','trenes','crimen','colabora','colaborar','dieran','aplicar','presentar','conocimiento','preso','carcel','pasan','previsto','diferentes','pedido','pedia','febrero','enero','marzo','abril','mayo','junio','julio','pequeno','pequenas','pequena','preocupes','medias','inmediatamente','solicitarr','solicitarndo','solicitarn','senores','explica','hermanas','miente','hablo','extension','herencia','this','acto','comunas','cuerda','adelante','mitad','vuelta','invierno','debia','parecio','mision','mananas','texto','maldito','envia','aldeas','propio','companero','empresas','vieron','decirle','manejar','telefonica','mantenido','exito','podian','quieren','conocen','parezca','hicieron','deberia','debemos','tratar','llamamos','caen','humor','llegue','actor','diseno','vienen','repito','curso','decia','anterior','talud','decide','curso','leyenda','dicto','ayudas','dejamos','aparecia','puedas','deje','hacerte','ayuden','darle','especificado','utah','rebelde','verlo','horno','podido','perdedor','necesitando','perfecto','perfectamente','callate','entiendo','detente','nuevamente','comentando','tanque','imaginate','momento','momentos','recorre','dependen','canciones','hicimos','atico','partir','claramente','motivos','pastizal','detalles','sirve','imbecil','bajas','montar','posterior','oyes','oye', 'llevan','parecen','necesitan','trae','aparece','posee','iguales','trajes','ahoritica','llevar','revisando','acido','culta','ultimos','provoco','amiga','amigo','amigas','amigos','tonto','preguntarte','afecto','pesar','tranquilo','mandan','bendicion','bendecir','dios','caer','entraron','personalmente','acepta','tomado','meramente','sustituta','volvera','alta','ahorita','eseh','haciendo','haria','yendo','hayan','comedy','yoga','izzy','ayudo','medios','torneo','lados','deben','debia','debio','disculpame','climas','segundito','maldita','importe','menciono','quieras','pescar','entendido','caldo','entro','puto','puta','mierda','putos','putas','siguientes','listas','vuelvo','miren','hotel','poner','permite','contacto','conjunto','viene','abajo','existe','cliente','exactamente','quinientas','piden','amables','actual','perdona','llamaba','llevo','respecto','puesto','trato','hotmail','gustaria','escucho','celula','llamaba','vieja','podido','llamen','nuevamente','contestarrrrrrn','contestarrrrrrr','contestarrrrrr','contestarrrrdo','contestarrrrr','diciendo','actualmente','contestarrr', 'contestarrrdo','contestarrrn','contestarrrron', 'contestarrrr','dicho','volvio','sitio','hablado','cuentos','clientes','vieja','entran','venga','triple','aparecen','importa','pregunta','mirar','presente','color','estaciones','preguntar','llegado','contiene','cinta','lleva','contestarr','hagame','siguiente','cancion','maldicion','gmail','dije','pude','entrar','pistas','comento','quedan','quieres','ingrese','existen','esperan','cuerdo','simplemente','esperen','pese','altamente','indicar','cumplir','intentando','puntas','maneras','ambiente','tele','menciona','conozco','repente','hacerlo','tranquila','recuerde','acepto','normalmente','intentado','ninas','paren','ademas','pregunto','companero','consta','pidiendo','realizo','llame','visto','seguimiento','actuacion','llamando','cuestion','especies','cuestion','idea','disculpe','regalar','indica','inca','indica','siento','momentico','acerca','quisieron','quieren','hombres','debido','comuna','senores','hablo','this','acto','comunas','cuerda','adelante','mitad','vuelta','invierno','debia','parecio','mision','mananas','texto','maldito','aldeas','vieron','decirle','manejar','mantenido','exito','podian','quieren','conocen','parezca','hicieron','deberia','debemos','tratar','llamamos','caen','humor','llegue','actor','diseno','vienen','decia','anterior','talud','decide','curso','leyenda','dicto','ayudas','dejamos','aparecia','puedas','deje','hacerte','ayuden','darle','utah','rebelde','verlo','horno','podido','perdedor','necesitando','perfecto','perfectamente','callate','entiendo','detente','nuevamente','comentando','tanque','imaginate','momento','momentos','recorre','dependen','canciones','hicimos','atico','partir','claramente','pastizal','sirve','imbecil','bajas','montar','posterior','oyes','oye', 'llevan','parecen','necesitan','trae','aparece','posee','iguales','trajes','ahoritica','llevar','revisando','acido','culta','ultimos','vieja','podido','llamen','nuevamente','contestarrrrrrn','contestarrrrrrr','contestarrrrrr','contestarrrrdo','contestarrrrr','diciendo','actualmente','contestarrr', 'contestarrrdo','contestarrrn','contestarrrron', 'contestarrrr','dicho','volvio','sitio','hablado','leyenda','dicto','ayudas','dejamos','aparecia','puedas','deje','hacerte','ayuden','darle','especificado','utah','rebelde','verlo','horno','podido','perdedor','necesitando','perfecto','perfectamente','callate','entiendo','detente','nuevamente','comentando','tanque','imaginate','momento','momentos','recorre','dependen','canciones','hicimos','atico','partir','claramente','motivos','pastizal','detalles','sirve','imbecil','bajas','montar','posterior','oyes','oye', 'llevan','parecen','necesitan','trae','aparece','posee','iguales','trajes','ahoritica','llevar','revisando','acido','culta','ultimos','aire','loco','corredores','llega','yahoo','ultima','pensar','encontre','quede','espera','pueda','indiqueme','indicar','digame','podia','adios','chao','partitura','pasada','necesito','necesitar','dices','anteriormente','empezar','entendi','temas','necesita','contienen','pasturas','queda','esperando','perfecta','altas','acepta','actos','pistas','comento','quedan','quieres','ingrese','existen','esperan','cuerdo','simplemente','esperen','pese','altamente','indicar','cumplir','intentando','puntas','maneras','ambiente','tele','menciona','conozco','repente','hacerlo','tranquila','recuerde','acepto','normalmente','intentado','ninas','paren','ademas','pregunto','companero','consta','pidiendo','realizo','llame','visto','seguimiento','actuacion','llamando','cuestion','especies','cuestion','idea','disculpe','regalar','indica','inca','indica','siento','momentico','acerca','quisieron','quieren','hombres','debido','comuna','senores','hablo','this','acto','comunas','cuerda','adelante','mitad','vuelta','invierno','debia','parecio','mision','mananas','texto','maldito','aldeas','vieron','decirle','manejar','mantenido','exito','podian','quieren','conocen','parezca','hicieron','deberia','debemos','tratar','llamamos','caen','humor','llegue','actor','diseno','vienen','repito','curso','decia','anterior','talud','decide','curso','leyenda','dicto','ayudas','dejamos','aparecia','puedas','deje','hacerte','ayuden','darle','utah','rebelde','verlo','horno','podido','perdedor','necesitando','perfecto','perfectamente','callate','entiendo','detente','nuevamente','comentando','tanque','imaginate','momento','momentos','recorre','dependen','canciones','hicimos','atico','partir','claramente','pastizal','sirve','imbecil','bajas','montar','posterior','oyes','oye', 'llevan','parecen','necesitan','trae','aparece','posee','iguales','trajes','ahoritica','llevar','revisando','acido','culta','ultimos','llamen','nuevamente','contestarrrrrrn','contestarrrrrrr','contestarrrrrr','hablar','contestarrrrdo','contestarrrrr','diciendo','actualmente','contestarrr', 'contestarrrdo','contestarrrn','contestarrrron', 'contestarrrr','dicho','volvio','sitio','hablado','mamita','diste','auto','autor','autora','pasando','adonde','tratan','ejemplo','ejemplos','inta','llevarla','comunes','quedando','hacerme','comunicarme','viendo','trenes','crimen','colabora','colaborar','dieran','aplicar','presentar','conocimiento','preso','carcel','pasan','previsto','diferentes','pedido','pedia','febrero','enero','marzo','abril','mayo','junio','julio','pequeno','pequenas','pequena','preocupes','medias','inmediatamente','solicitarr','solicitarndo','solicitarn','senores','explica','hermanas','miente','hablo','extension','herencia','this','acto','comunas','cuerda','adelante','mitad','vuelta','invierno','debia','parecio','mision','mananas','texto','maldito','envia','aldeas','propio','companero','empresas','vieron','decirle','manejar','telefonica','mantenido','exito','podian','quieren','conocen','parezca','hicieron','deberia','debemos','tratar','llamamos','caen','humor','llegue','actor','diseno','vienen','repito','curso','decia','anterior','talud','decide','curso','leyenda','dicto','ayudas','dejamos','aparecia','puedas','deje','hacerte','ayuden','darle','especificado','utah','rebelde','verlo','horno','podido','perdedor','necesitando','perfecto','perfectamente','callate','entiendo','detente','nuevamente','comentando','tanque','imaginate','momento','momentos','recorre','dependen','canciones','hicimos','atico','partir','claramente','motivos','pastizal','detalles','sirve','imbecil','bajas','montar','posterior','oyes','oye', 'llevan','parecen','necesitan','trae','aparece','posee','iguales','trajes','ahoritica','llevar','revisando','acido','culta','ultimos','provoco','amiga','amigo','amigas','amigos','tonto','preguntarte','afecto','pesar','tranquilo','mandan','bendicion','bendecir','dios','caer','entraron','personalmente','acepta','tomado','meramente','sustituta','volvera','alta','ahorita','eseh','haciendo','haria','yendo','hayan','comedy','yoga','izzy','ayudo','medios','torneo','lados','deben','debia','debio','disculpame','climas','segundito','maldita','importe','menciono','quieras','pescar','entendido','caldo','entro','puto','puta','mierda','putos','putas','siguientes','listas','vuelvo','miren','hotel','poner','permite','contacto','conjunto','viene','abajo','existe','cliente','exactamente','quinientas','piden','amables','actual','perdona','llamaba','llevo','respecto','puesto','trato','hotmail','gustaria','escucho','celula','llamaba','vieja','podido','llamen','nuevamente','contestarrrrrrn','contestarrrrrrr','contestarrrrrr','contestarrrrdo','contestarrrrr','diciendo','actualmente','contestarrr', 'contestarrrdo','contestarrrn','contestarrrron', 'contestarrrr','dicho','volvio','sitio','hablado','cuentos','clientes','vieja','entran','venga','triple','aparecen','importa','pregunta','mirar','presente','color','estaciones','preguntar','llegado','contiene','cinta','lleva','contestarr','hagame','siguiente','cancion','maldicion','gmail','dije','pude','entrar','pistas','comento','quedan','quieres','ingrese','existen','esperan','cuerdo','simplemente','esperen','pese','altamente','indicar','cumplir','intentando','puntas','maneras','ambiente','tele','menciona','conozco','repente','hacerlo','tranquila','recuerde','acepto','normalmente','intentado','ninas','paren','ademas','pregunto','companero','consta','pidiendo','realizo','llame','visto','seguimiento','actuacion','llamando','cuestion','especies','cuestion','idea','disculpe','regalar','indica','inca','indica','siento','momentico','acerca','quisieron','quieren','hombres','debido','comuna','senores','hablo','this','acto','comunas','cuerda','adelante','mitad','vuelta','invierno','debia','parecio','mision','mananas','texto','maldito','aldeas','vieron','decirle','manejar','mantenido','exito','podian','quieren','conocen','parezca','hicieron','deberia','debemos','tratar','llamamos','caen','humor','llegue','actor','diseno','vienen','decia','anterior','talud','decide','curso','leyenda','dicto','ayudas','dejamos','aparecia','puedas','deje','hacerte','ayuden','darle','utah','rebelde','verlo','horno','podido','perdedor','necesitando','perfecto','perfectamente','callate','entiendo','detente','nuevamente','comentando','tanque','imaginate','momento','momentos','recorre','dependen','canciones','hicimos','atico','partir','claramente','pastizal','sirve','imbecil','bajas','montar','posterior','oyes','oye', 'llevan','parecen','necesitan','trae','aparece','posee','iguales','trajes','ahoritica','llevar','revisando','acido','culta','ultimos','vieja','podido','llamen','nuevamente','contestarrrrrrn','contestarrrrrrr','contestarrrrrr','contestarrrrdo','contestarrrrr','diciendo','actualmente','contestarrr', 'contestarrrdo','contestarrrn','contestarrrron', 'contestarrrr','dicho','volvio','sitio','hablado','leyenda','dicto','ayudas','dejamos','aparecia','puedas','deje','hacerte','ayuden','darle','especificado','utah','rebelde','verlo','horno','podido','perdedor','necesitando','perfecto','perfectamente','callate','entiendo','detente','nuevamente','comentando','tanque','imaginate','momento','momentos','recorre','dependen','canciones','hicimos','atico','partir','claramente','motivos','pastizal','detalles','sirve','imbecil','bajas','montar','posterior','oyes','oye', 'llevan','parecen','necesitan','trae','aparece','posee','iguales','trajes','ahoritica','llevar','revisando','acido','culta','ultimos','siguientes','listas','vistas','vuelvo','cambiado','miren','hotel','salir','poner','permite','contacto','conjunto','nadie','viene','abajo','existe','cliente','exactamente','quinientas','piden','dientes','amables','actual','perdona','llamaba','llevo','respecto','puesto','trato','hotmail','gustaria','escucho','celula','llamaba,''vieja','podido','llamen','nuevamente','contestarrrrrrn','contestarrrrrrr','contestarrrrrr','contestarrrrdo','contestarrrrr','diciendo','actualmente','contestarrr', 'contestarrrdo','contestarrrn','contestarrrron', 'contestarrrr','dicho','volvio','sitio','hablado','cuentos','clientes','vieja','entran','venga','triple','aparecen','importa','pregunta','mirar','presente','color','estaciones','preguntar','llegado','contiene','cinta','lleva','contestarr','hagame','siguiente','cancion','maldicion','gmail','dije','pude','entrar','pistas','comento','quedan','quieres','ingrese','existen','esperan','cuerdo','simplemente','esperen','pese','altamente','indicar','cumplir','intentando','puntas','maneras','ambiente','tele','menciona','conozco','repente','hacerlo','tranquila','recuerde','acepto','normalmente','intentado','ninas','paren','ademas','pregunto','companero','consta','pidiendo','realizo','llame','visto','seguimiento','actuacion','llamando','cuestion','especies','cuestion','idea','disculpe','regalar','indica','inca','indica','siento','momentico','acerca','quisieron','quieren','hombres','debido','comuna','senores','hablo','this','acto','comunas','cuerda','adelante','mitad','vuelta','invierno','debia','parecio','mision','mananas','texto','maldito','aldeas','vieron','decirle','manejar','mantenido','exito','podian','quieren','conocen','parezca','hicieron','deberia','debemos','tratar','llamamos','caen','humor','llegue','actor','diseno','vienen','repito','curso','decia','anterior','talud','decide','curso','leyenda','dicto','ayudas','dejamos','aparecia','puedas','deje','hacerte','ayuden','darle','utah','rebelde','verlo','horno','podido','perdedor','necesitando','perfecto','perfectamente','callate','entiendo','detente','nuevamente','comentando','tanque','imaginate','momento','momentos','recorre','dependen','canciones','hicimos','atico','partir','claramente','pastizal','sirve','imbecil','bajas','montar','posterior','oyes','oye', 'llevan','parecen','necesitan','trae','aparece','posee','iguales','trajes','ahoritica','llevar','revisando','acido','culta','ultimos','anteriormente','empezar','entendi','temas','necesita','contienen','pasturas','queda','esperando','perfecta','altas','acepta','actos','pistas','comento','quedan','quieres','ingrese','existen','esperan','cuerdo','simplemente','esperen','pese','altamente','indicar','cumplir','intentando','puntas','maneras','ambiente','tele','menciona','conozco','repente','hacerlo','tranquila','recuerde','acepto','normalmente','intentado','ninas','paren','ademas','pregunto','companero','consta','pidiendo','realizo','llame','visto','seguimiento','actuacion','llamando','cuestion','especies','cuestion','idea','disculpe','regalar','indica','inca','indica','siento','momentico','acerca','quisieron','quieren','hombres','debido','comuna','senores','hablo','this','acto','comunas','cuerda','adelante','mitad','vuelta','invierno','debia','parecio','mision','mananas','texto','maldito','aldeas','vieron','decirle','manejar','mantenido','exito','podian','quieren','conocen','parezca','hicieron','deberia','debemos','tratar','llamamos','caen','humor','llegue','actor','diseno','vienen','repito','curso','decia','anterior','talud','decide','curso','leyenda','dicto','ayudas','dejamos','aparecia','puedas','deje','hacerte','ayuden','darle','utah','rebelde','verlo','horno','podido','perdedor','necesitando','perfecto','perfectamente','callate','entiendo','detente','nuevamente','comentando','tanque','imaginate','momento','momentos','recorre','dependen','canciones','hicimos','atico','partir','claramente','pastizal','sirve','imbecil','bajas','montar','posterior','oyes','oye', 'llevan','parecen','necesitan','trae','aparece','posee','iguales','trajes','ahoritica','llevar','revisando','acido','culta','ultimos','llamen','nuevamente','contestarrrrrrn','contestarrrrrrr','contestarrrrrr','hablar','contestarrrrdo','contestarrrrr','diciendo','actualmente','contestarrr', 'contestarrrdo','contestarrrn','contestarrrron', 'contestarrrr','dicho','volvio','sitio','hablado','mamita','diste','auto','autor','autora','pasando','adonde','tratan','ejemplo','ejemplos','inta','llevarla','comunes','quedando','hacerme','comunicarme','viendo','trenes','crimen','colabora','colaborar','dieran','aplicar','presentar','conocimiento','preso','carcel','pasan','previsto','diferentes','pedido','pedia','febrero','enero','marzo','abril','mayo','junio','julio','pequeno','pequenas','pequena','preocupes','medias','inmediatamente','solicitarr','solicitarndo','solicitarn','senores','explica','hermanas','miente','hablo','extension','herencia','this','acto','comunas','cuerda','adelante','mitad','vuelta','invierno','debia','parecio','mision','mananas','texto','maldito','envia','aldeas','propio','companero','empresas','vieron','decirle','manejar','telefonica','mantenido','exito','podian','quieren','conocen','parezca','hicieron','deberia','debemos','tratar','llamamos','caen','humor','llegue','actor','diseno','vienen','repito','curso','decia','anterior','talud','decide','curso','leyenda','dicto','ayudas','dejamos','aparecia','puedas','deje','hacerte','ayuden','darle','especificado','utah','rebelde','verlo','horno','podido','perdedor','necesitando','perfecto','perfectamente','callate','entiendo','detente','nuevamente','comentando','tanque','imaginate','momento','momentos','recorre','dependen','canciones','hicimos','atico','partir','claramente','motivos','pastizal','detalles','sirve','imbecil','bajas','montar','posterior','oyes','oye', 'llevan','parecen','necesitan','trae','aparece','posee','iguales','trajes','ahoritica','llevar','revisando','acido','culta','ultimos','provoco','amiga','amigo','amigas','amigos','tonto','preguntarte','afecto','pesar','tranquilo','mandan','bendicion','bendecir','dios','caer','entraron','personalmente','acepta','tomado','meramente','sustituta','volvera','alta','ahorita','eseh','haciendo','haria','yendo','hayan','comedy','yoga','izzy','ayudo','medios','torneo','lados','deben','debia','debio','disculpame','climas','segundito','maldita','importe','menciono','quieras','pescar','entendido','caldo','entro','puto','puta','mierda','putos','putas','siguientes','listas','vuelvo','miren','hotel','poner','permite','contacto','conjunto','viene','abajo','existe','cliente','exactamente','quinientas','piden','amables','actual','perdona','llamaba','llevo','respecto','puesto','trato','hotmail','gustaria','escucho','celula','llamaba','vieja','podido','llamen','nuevamente','contestarrrrrrn','contestarrrrrrr','contestarrrrrr','contestarrrrdo','contestarrrrr','diciendo','actualmente','contestarrr', 'contestarrrdo','contestarrrn','contestarrrron', 'contestarrrr','dicho','volvio','sitio','hablado','cuentos','clientes','vieja','entran','venga','triple','aparecen','importa','pregunta','mirar','presente','color','estaciones','preguntar','llegado','contiene','cinta','lleva','contestarr','hagame','siguiente','cancion','maldicion','gmail','dije','pude','entrar','pistas','comento','quedan','quieres','ingrese','existen','esperan','cuerdo','simplemente','esperen','pese','altamente','indicar','cumplir','intentando','puntas','maneras','ambiente','tele','menciona','conozco','repente','hacerlo','tranquila','recuerde','acepto','normalmente','intentado','ninas','paren','ademas','pregunto','companero','consta','pidiendo','realizo','llame','visto','seguimiento','actuacion','llamando','cuestion','especies','cuestion','idea','disculpe','regalar','indica','inca','indica','siento','momentico','acerca','quisieron','quieren','hombres','debido','comuna','senores','hablo','this','acto','comunas','cuerda','adelante','mitad','vuelta','invierno','debia','parecio','mision','mananas','texto','maldito','aldeas','vieron','decirle','manejar','mantenido','exito','podian','quieren','conocen','parezca','hicieron','deberia','debemos','tratar','llamamos','caen','humor','llegue','actor','diseno','vienen','decia','anterior','talud','decide','curso','leyenda','dicto','ayudas','dejamos','aparecia','puedas','deje','hacerte','ayuden','darle','utah','rebelde','verlo','horno','podido','perdedor','necesitando','perfecto','perfectamente','callate','entiendo','detente','nuevamente','comentando','tanque','imaginate','momento','momentos','recorre','dependen','canciones','hicimos','atico','partir','claramente','pastizal','sirve','imbecil','bajas','montar','posterior','oyes','oye', 'llevan','parecen','necesitan','trae','aparece','posee','iguales','trajes','ahoritica','llevar','revisando','acido','culta','ultimos','vieja','podido','llamen','nuevamente','contestarrrrrrn','contestarrrrrrr','contestarrrrrr','contestarrrrdo','contestarrrrr','diciendo','actualmente','contestarrr', 'contestarrrdo','contestarrrn','contestarrrron', 'contestarrrr','dicho','volvio','sitio','hablado','leyenda','dicto','ayudas','dejamos','aparecia','puedas','deje','hacerte','ayuden','darle','especificado','utah','rebelde','verlo','horno','podido','perdedor','necesitando','perfecto','perfectamente','callate','entiendo','detente','nuevamente','comentando','tanque','imaginate','momento','momentos','recorre','dependen','canciones','hicimos','atico','partir','claramente','motivos','pastizal','detalles','sirve','imbecil','bajas','montar','posterior','oyes','oye', 'llevan','parecen','necesitan','trae','aparece','posee','iguales','trajes','ahoritica','llevar','revisando','acido','culta','ultimos']\n",
        "df_personal['transcripcion1']=df_personal['transcripcion'].apply(lambda x: word_tokenize(x) )\n",
        "df_personal['transcripcion1']=df_personal['transcripcion1'].apply(lambda x: [word for word in x if not word in sw_w2v] )\n",
        "df_personal['transcripcion1']=df_personal['transcripcion1'].apply(lambda x: ' '.join(x) )"
      ],
      "execution_count": 74,
      "outputs": []
    },
    {
      "cell_type": "code",
      "metadata": {
        "id": "hjszJEYuZ2MV"
      },
      "source": [
        "lista=[(r'llamadas','llamar'),(r'llamarte','llamar'),(r'llames','llamar'),(r'llaman','llamar'),(r'llamado','llamar'),(r'llames','llamar'),(r'llamarlo','llamar'),(r'llamarla','llamar'),(r'llamarle','llamar'),(r'llamarte','llamar'),(r'llamaron','llamar'),(r'llamada','llamar'),(r'llamenme','llamar'),(r'llamo','llamar'),(r'llamaba','llamar'),(r'llame','llamar'),(r'llamando','llamar'),(r'medicos','medico'),(r'doctora','medico'),(r'doctor','medico'),(r'doctores','medico'),(r'urgencias','urgencia'),(r'medicamentos','medicamento'),(r'educativos','educativo'),(r'beneficiaria','beneficiario'),(r'solicita','solicitar'),(r'beneficios','beneficio'),(r'legalizaron','legalizar'), (r'legalizacion','legalizar'),(r'personajes','personaje'), (r'certificadoes','certificado'), (r'certificacion','certificado'), (r'disponibles','disponible'),(r'certificados','certificado'), (r'documentos','documento'), (r'disfrute','disfrutar'), (r'pagara','pagar'), (r'pagare','pagar'),(r'tratando','tratar'),(r'reportes','reporte'),(r'desprendibles','desprendible'),(r'compramos','comprar'),(r'apartamentos','apartamento'),(r'solicitud','solicitar'),(r'contestan','contestar'),(r'contesto','contestar'),(r'contesta','contestar'),(r'registrado','registrada'),(r'recibiendo','recibir'),(r'recibio','recibir'),(r'facturas','factura'),(r'urgencias','urgencia'),(r'colaborarr','colaborar'),(r'urgenciass','urgencia'),(r'verificacion','verificar'),(r'coloabora','colaborar'), (r'medicamentos','medicamento'),(r'certificadoes','certificado'), (r'certificacion','certificado'), (r'disponibles','disponible'),(r'certificados','certificado'), (r'documentos','documento'), (r'disfrute','disfrutar'), (r'pagara','pagar'), (r'pagare','pagar'),(r'tratando','tratar'),(r'reportes','reporte'),(r'desprendibles','desprendible'),(r'dividendos','dividendo'),(r'comisionistas','comisionista'),(r'lineas','linea'),(r'creditos','credito'),(r'accionistas','accionista'),(r'compras','comprar'),(r'compre','comprar'),(r'compro','comprar'),(r'compran','comprar'),(r'facturan','facturan'),(r'facturacion','facturar'),(r'facturas','factura'),(r'llamadas','llamar'),(r'llamarte','llamar'),(r'llames','llamar'),(r'llaman','llamar'),(r'llamado','llamar'),(r'llames','llamar'),(r'llamarlo','llamar'),(r'llamarla','llamar'),(r'llamarle','llamar'),(r'llamarte','llamar'),(r'llamaron','llamar'),(r'llamada','llamar'),(r'llamenme','llamar'),(r'llamo','llamar'),(r'llamaba','llamar'),(r'llame','llamar'),(r'llamando','llamar'),(r'medicos','medico'),(r'doctora','medico'),(r'doctor','medico'),(r'doctores','medico'),(r'urgencias','urgencia'),(r'medicamentos','medicamento'),(r'educativos','educativo'),(r'beneficiaria','beneficiario'),(r'solicita','solicitar'),(r'beneficios','beneficio'),(r'legalizaron','legalizar'), (r'legalizacion','legalizar'),(r'personajes','personaje'), (r'certificadoes','certificado'), (r'certificacion','certificado'), (r'disponibles','disponible'),(r'certificados','certificado'), (r'documentos','documento'), (r'disfrute','disfrutar'), (r'pagara','pagar'), (r'pagare','pagar'),(r'tratando','tratar'),(r'reportes','reporte'),(r'desprendibles','desprendible'),(r'solicitud','solicitar'),(r'contestan','contestar'),(r'contesto','contestar'),(r'contesta','contestar'),(r'registrado','registrada'),(r'recibiendo','recibir'),(r'recibio','recibir'),(r'facturas','factura'),(r'urgencias','urgencia'),(r'colaborarr','colaborar'),(r'urgenciass','urgencia'),(r'verificacion','verificar'),(r'coloabora','colaborar'), (r'medicamentos','medicamento'),(r'certificadoes','certificado'), (r'certificacion','certificado'), (r'disponibles','disponible'),(r'certificados','certificado'), (r'documentos','documento'), (r'disfrute','disfrutar'), (r'pagara','pagar'), (r'pagare','pagar'),(r'tratando','tratar'),(r'reportes','reporte'),(r'desprendibles','desprendible'),(r'compras','comprar'),(r'compre','comprar'),(r'compro','comprar'),(r'compran','comprar'),(r'facturan','facturan'),(r'facturacion','facturar'),(r'facturas','factura'),(r'llamadas','llamar'),(r'llamarte','llamar'),(r'llames','llamar'),(r'llaman','llamar'),(r'llamado','llamar'),(r'llames','llamar'),(r'llamarlo','llamar'),(r'llamarla','llamar'),(r'llamarle','llamar'),(r'llamarte','llamar'),(r'llamaron','llamar'),(r'llamada','llamar'),(r'llamenme','llamar'),(r'llamo','llamar'),(r'llamaba','llamar'),(r'llame','llamar'),(r'llamando','llamar'),(r'medicos','medico'),(r'doctora','medico'),(r'doctor','medico'),(r'doctores','medico'),(r'urgencias','urgencia'),(r'medicamentos','medicamento'),(r'educativos','educativo'),(r'beneficiaria','beneficiario'),(r'solicita','solicitar'),(r'beneficios','beneficio'),(r'legalizaron','legalizar'), (r'legalizacion','legalizar'),(r'personajes','personaje'), (r'certificadoes','certificado'), (r'certificacion','certificado'), (r'disponibles','disponible'),(r'certificados','certificado'), (r'documentos','documento'), (r'disfrute','disfrutar'), (r'pagara','pagar'), (r'pagare','pagar'),(r'tratando','tratar'),(r'reportes','reporte'),(r'desprendibles','desprendible'),(r'urgencias','urgencia'),(r'colaborarr','colaborar'),(r'urgenciass','urgencia'),(r'verificacion','verificar'),(r'coloabora','colaborar'), (r'medicamentos','medicamento'),(r'certificadoes','certificado'), (r'certificacion','certificado'), (r'disponibles','disponible'),(r'certificados','certificado'), (r'documentos','documento'), (r'disfrute','disfrutar'), (r'pagara','pagar'), (r'pagare','pagar'),(r'tratando','tratar'),(r'reportes','reporte'),(r'desprendibles','desprendible')]\n",
        "df_personal['transcripcion']=df_personal['transcripcion'].apply(lambda x: s_correction(x, lista))"
      ],
      "execution_count": 75,
      "outputs": []
    },
    {
      "cell_type": "code",
      "metadata": {
        "id": "zAuuayG6aGwE",
        "colab": {
          "base_uri": "https://localhost:8080/"
        },
        "outputId": "34a525b7-c2b2-467b-e5a0-cd932a294317"
      },
      "source": [
        "%%time\n",
        "sw_w2v=['parar','piezas','permite','pasando','ahorita','personas','locos','contestarr','irse','contestarrrrrrr','contestarrrrrr','contestarrrrr','contestarrrrrrrr','senores','explica','hermanas','miente','hablo','extension','herencia','this','acto','comunas','cuerda','adelante','mitad','vuelta','invierno','debia','parecio','mision','mananas','texto','maldito','envia','aldeas','propio','companero','empresas','vieron','decirle','manejar','telefonica','mantenido','exito','podian','quieren','conocen','parezca','hicieron','deberia','debemos','tratar','llamamos','caen','humor','llegue','actor','diseno','vienen','repito','curso','decia','anterior','talud','decide','curso','leyenda','dicto','ayudas','dejamos','aparecia','puedas','deje','hacerte','ayuden','darle','especificado','utah','rebelde','verlo','horno','podido','perdedor','necesitando','perfecto','perfectamente','callate','entiendo','detente','nuevamente','comentando','tanque','imaginate','momento','momentos','recorre','dependen','canciones','hicimos','atico','partir','claramente','motivos','pastizal','detalles','sirve','imbecil','bajas','montar','posterior','oyes','oye', 'llevan','parecen','necesitan','trae','aparece','posee','iguales','trajes','ahoritica','llevar','revisando','acido','culta','ultimos']\n",
        "df_personal['transcripcion1']=df_personal['transcripcion'].apply(lambda x: word_tokenize(x) )\n",
        "df_personal['transcripcion1']=df_personal['transcripcion1'].apply(lambda x: [word for word in x if not word in sw_w2v] )\n",
        "df_personal['transcripcion1']=df_personal['transcripcion1'].apply(lambda x: ' '.join(x) )\n",
        "\n"
      ],
      "execution_count": 76,
      "outputs": [
        {
          "output_type": "stream",
          "text": [
            "CPU times: user 137 ms, sys: 0 ns, total: 137 ms\n",
            "Wall time: 139 ms\n"
          ],
          "name": "stdout"
        }
      ]
    },
    {
      "cell_type": "code",
      "metadata": {
        "id": "y7L8mjfwZKrx",
        "cellView": "form"
      },
      "source": [
        "#@title Red Semántica\n",
        "\n",
        "#CREACION DEL CORPUS Y FACTORIZACION DE TERMINOS\n",
        "#Analizando los mensajes del usuario en general\n",
        "data=df_personal['transcripcion1'].tolist()\n",
        "\n",
        "#Oraciones a lista de palabras, remocion de puntuacion y caracteres innecesarios\n",
        "def sent_to_words(sentences):\n",
        "    for sentence in sentences:\n",
        "        yield(gensim.utils.simple_preprocess(str(sentence), deacc=True))  # deacc=True remueve puctuacion\n",
        "\n",
        "data_words = list(sent_to_words(data))# Se crea una lista de listas\n",
        "\n",
        "#BRIGRAMAS\n",
        "# Build the bigram and trigram models\n",
        "bigram = gensim.models.Phrases(data_words, min_count=5, threshold=100) # Umbral superior de pocas frases.\n",
        "trigram = gensim.models.Phrases(bigram[data_words], threshold=100)  \n",
        "\n",
        "# Faster way to get a sentence clubbed as a trigram/bigram\n",
        "bigram_mod = gensim.models.phrases.Phraser(bigram)\n",
        "trigram_mod = gensim.models.phrases.Phraser(trigram)\n",
        "\n",
        "# See trigram example\n",
        "#print(trigram_mod[bigram_mod[data_words[0]]])\n",
        "# Funciones para bigrams, trigrams lemmatization\n",
        "def make_bigrams(texts):\n",
        "    return [bigram_mod[doc] for doc in texts]\n",
        "\n",
        "def make_trigrams(texts):\n",
        "    return [trigram_mod[bigram_mod[doc]] for doc in texts]\n",
        "\n",
        "#Aplicacion de las respectivas funciones\n",
        "#Formacion de bigramas\n",
        "data_words_bigrams = make_bigrams(data_words)\n",
        "\n",
        "#Creacion del diccionario\n",
        "id2word = corpora.Dictionary(data_words_bigrams)\n",
        "\n",
        "# Creacion del Corpus\n",
        "texts = data_words_bigrams\n",
        "\n",
        "#Frecuencia termino documento\n",
        "corpus = [id2word.doc2bow(text) for text in texts]\n",
        "\n",
        "#VEMOS CUANTOS TERMINOS ESTAN EN NUESTRO DICCIONARIO Y CUALES SON LOS MÁS FRECUENTE\n",
        "word_freq = defaultdict(int)\n",
        "for sent in data_words_bigrams:\n",
        "    for i in sent:\n",
        "        word_freq[i] += 10\n",
        "len(word_freq)\n",
        "\n",
        "sorted(word_freq, key=word_freq.get, reverse=True)[50:100]\n",
        "\n",
        "cores = multiprocessing.cpu_count()\n",
        "\n",
        "##Entrenamiento del Modelo\n",
        "w2v_model = Word2Vec(min_count=7, #SE CONSTRUYE EL VOCABULARIO A PARTIR DE LA FRECUENCIA DE APARICION QUE SE DEFINA AQUI\n",
        "                     window=1,#SE AJUSTA EL NUMERO DE PALABRAS ATRAS Y ADELANTE DE LA PALABRA OBJETIVO PARA VECORIZARLA\n",
        "                     size=30, #EL TAMANO DEL VECTOR DE CADA PALABRA\n",
        "                     sample=1e-4, #-5 en principio #ESTE ES EL PARAMETRO QUE HAY QUE AJUSTAR, ES EL MAS SENSIBLE DEL MODELO\n",
        "                     alpha=0.003, \n",
        "                     min_alpha=0.007, \n",
        "                     negative=10,\n",
        "                     workers=cores-1)\n",
        "\n",
        "#Construccion de vocabulario\n",
        "w2v_model.build_vocab(data_words_bigrams, progress_per=10000)\n",
        "\n",
        "#Entrenamiento del modelo\n",
        "a=w2v_model.train(data_words_bigrams, total_examples=w2v_model.corpus_count, epochs=200, report_delay=1)\n",
        "\n",
        "#Terminos similares\n",
        "# w2v_model.wv.most_similar(positive=[\"contrasena\"], topn=10)\n",
        "\n",
        "##FUNCION PARA REDUCIR LA DIMENSION DEL ESPACIO DE PALABRAS Y PODER VISUALIZARLAS\n",
        "def tsnescatterplot(model, word, list_names):\n",
        "    \"\"\" Plot in seaborn the results from the t-SNE dimensionality reduction algorithm of the vectors of a query word,\n",
        "    its list of most similar words, and a list of words.\n",
        "    \"\"\"\n",
        "    arrays = np.empty((0, 30), dtype='f')\n",
        "    word_labels = [word]\n",
        "    color_list  = ['darkgreen']\n",
        "\n",
        "    # adds the vector of the query word\n",
        "    arrays = np.append(arrays, model.wv.__getitem__([word]), axis=0)\n",
        "    \n",
        "    # gets list of most similar words\n",
        "    close_words = model.wv.most_similar([word])\n",
        "    \n",
        "    # adds the vector for each of the closest words to the array\n",
        "    for wrd_score in close_words:\n",
        "        wrd_vector = model.wv.__getitem__([wrd_score[0]])\n",
        "        word_labels.append(wrd_score[0])\n",
        "        color_list.append('yellowgreen')\n",
        "        arrays = np.append(arrays, wrd_vector, axis=0)\n",
        "    \n",
        "    # adds the vector for each of the words from list_names to the array\n",
        "    for wrd in list_names:\n",
        "        wrd_vector = model.wv.__getitem__([wrd])\n",
        "        word_labels.append(wrd)\n",
        "        color_list.append('gold')\n",
        "        arrays = np.append(arrays, wrd_vector, axis=0)\n",
        "        \n",
        "    # Reduces the dimensionality from 300 to 50 dimensions with PCA\n",
        "    reduc = PCA(n_components=10).fit_transform(arrays)\n",
        "    \n",
        "    # Finds t-SNE coordinates for 2 dimensions\n",
        "    np.set_printoptions(suppress=True)\n",
        "    \n",
        "    Y = TSNE(n_components=2, random_state=0, perplexity=15).fit_transform(reduc)\n",
        "    freq=[]\n",
        "    for i in word_labels:\n",
        "       freq.append(word_freq[i])\n",
        "\n",
        "    # Sets everything up to plot\n",
        "    df = pd.DataFrame({'x': [x for x in Y[:, 0]],\n",
        "                       'y': [y for y in Y[:, 1]],\n",
        "                       'words': word_labels,\n",
        "                       'color': color_list,'freq':freq})\n",
        "    \n",
        "    fig, _ = plt.subplots()\n",
        "    fig.set_size_inches(9, 9)\n",
        "    \n",
        "    # Basic plot\n",
        "    p1 = sns.regplot(data=df,\n",
        "                     x=\"x\",\n",
        "                     y=\"y\",\n",
        "                     fit_reg=False,\n",
        "                     marker=\"o\",\n",
        "                     scatter_kws={'s': df['freq'],\n",
        "                                  'facecolors': df['color']\n",
        "                                 }\n",
        "                    )\n",
        "    \n",
        "    # Adds annotations one by one with a loop\n",
        "    for line in range(0, df.shape[0]):\n",
        "         p1.text(df[\"x\"][line],\n",
        "                 df['y'][line],\n",
        "                 '  ('+ df[\"words\"][line].title()+','+str(df['freq'][line])+')',\n",
        "                 horizontalalignment='left',\n",
        "                 verticalalignment='top', size='small',\n",
        "                 #color=df['color'][line],\n",
        "                 color='black',\n",
        "                 weight='normal'\n",
        "                ).set_size(11)\n",
        "    \n",
        "    plt.axis(emit=True)\n",
        "    plt.xlim(Y[:, 0].min()-10, Y[:, 0].max()+10)\n",
        "    plt.ylim(Y[:, 1].min()-10, Y[:, 1].max()+30)\n",
        "    plt.title('Visualización semántica para {}'.format(word.title()))\n"
      ],
      "execution_count": 77,
      "outputs": []
    },
    {
      "cell_type": "code",
      "metadata": {
        "cellView": "code",
        "id": "38XSkZwVcQUc",
        "colab": {
          "base_uri": "https://localhost:8080/",
          "height": 593
        },
        "outputId": "f4e59a12-c663-44ad-c33f-5c1448aa97c7"
      },
      "source": [
        "#@title\n",
        "tsnescatterplot(w2v_model, \"paciente\", [t[0] for t in w2v_model.wv.most_similar(positive=[\"paciente\"], topn=20)][10:])\n",
        "plt.savefig(\"similaridad_calidad_salud_paciente.png\",bbox_inches = 'tight')"
      ],
      "execution_count": 78,
      "outputs": [
        {
          "output_type": "display_data",
          "data": {
            "image/png": "[encoded data removed]",
            "text/plain": [
              "<Figure size 648x648 with 1 Axes>"
            ]
          },
          "metadata": {
            "tags": [],
            "needs_background": "light"
          }
        }
      ]
    },
    {
      "cell_type": "code",
      "metadata": {
        "id": "FxFT0seLUceM"
      },
      "source": [
        " #Save model\n",
        "word_vectors = w2v_model.wv\n",
        "word_vectors.save_word2vec_format('/content/drive/My Drive/data/ABPS/NPL_Ecopetrol/word_to_vec_ecopetrol/salud/w2vec')\n",
        "from gensim.scripts.word2vec2tensor import word2vec2tensor \n",
        "word2vec2tensor('/content/drive/My Drive/data/ABPS/NPL_Ecopetrol/word_to_vec_ecopetrol/salud/w2vec', '_tensor_salud_00')"
      ],
      "execution_count": 79,
      "outputs": []
    },
    {
      "cell_type": "markdown",
      "metadata": {
        "id": "6x_vZ3bEgYXG"
      },
      "source": [
        "<b><font color=orange size=5> DETECCION DE LA TIPOLOGIA DE LAS PALABRAS EMPLEADAS POR LOS AGENTES </font></b>"
      ]
    },
    {
      "cell_type": "code",
      "metadata": {
        "colab": {
          "base_uri": "https://localhost:8080/"
        },
        "id": "e8FA5XKyvjj0",
        "outputId": "bbcb48a9-df5c-4ce8-cbd7-2f45575a3f98"
      },
      "source": [
        "segmento='Salud'\r\n",
        "#df=pd.read_parquet('/content/drive/My Drive/NPL_Ecopetrol/emotion_analysis/translate_ecopetrol_agent.parquet')\r\n",
        "df=df_agent_copy\r\n",
        "\r\n",
        "df=df[df['Linea']=='Salud']\r\n",
        "df['Len'] = [len(x) for x in df[\"transcripcion\"]]\r\n",
        "len(df[df['Len']>5000])"
      ],
      "execution_count": 80,
      "outputs": [
        {
          "output_type": "execute_result",
          "data": {
            "text/plain": [
              "13"
            ]
          },
          "metadata": {
            "tags": []
          },
          "execution_count": 80
        }
      ]
    },
    {
      "cell_type": "code",
      "metadata": {
        "colab": {
          "base_uri": "https://localhost:8080/"
        },
        "id": "nJgYB_5avvrL",
        "outputId": "1a8a7efe-8d57-43d0-a513-c4027b5c1eb3"
      },
      "source": [
        "%%time\r\n",
        "#df[\"c_english\"][:215] = df[\"transcripcion\"][:215].apply(lambda x: translator.translate((x[:5000])).text)\r\n",
        "df[\"c_english\"] = df[\"transcripcion\"].apply(lambda x: translator.translate((x[:5000])).text)\r\n",
        "# c_english_1 = [translator.translate(x[:5000]).text for x in list(df[\"transcripcion\"][:215])]\r\n",
        "# c_english_2 = [translator.translate(x[:5000]).text for x in list(df[\"transcripcion\"][215:])]\r\n",
        "# c_english = c_english_1 + c_english_2\r\n",
        "# print(c_english)\r\n",
        "#df=df.sample(n=300, random_state=0)"
      ],
      "execution_count": 81,
      "outputs": [
        {
          "output_type": "stream",
          "text": [
            "CPU times: user 3.05 s, sys: 300 ms, total: 3.35 s\n",
            "Wall time: 3min 15s\n"
          ],
          "name": "stdout"
        }
      ]
    },
    {
      "cell_type": "code",
      "metadata": {
        "colab": {
          "base_uri": "https://localhost:8080/",
          "height": 406
        },
        "id": "SDmhqf117doG",
        "outputId": "a1ae2285-81c7-4592-e3aa-6d443b7ba4b2"
      },
      "source": [
        "df[['transcripcion','c_english']]"
      ],
      "execution_count": 82,
      "outputs": [
        {
          "output_type": "execute_result",
          "data": {
            "text/html": [
              "<div>\n",
              "<style scoped>\n",
              "    .dataframe tbody tr th:only-of-type {\n",
              "        vertical-align: middle;\n",
              "    }\n",
              "\n",
              "    .dataframe tbody tr th {\n",
              "        vertical-align: top;\n",
              "    }\n",
              "\n",
              "    .dataframe thead th {\n",
              "        text-align: right;\n",
              "    }\n",
              "</style>\n",
              "<table border=\"1\" class=\"dataframe\">\n",
              "  <thead>\n",
              "    <tr style=\"text-align: right;\">\n",
              "      <th></th>\n",
              "      <th>transcripcion</th>\n",
              "      <th>c_english</th>\n",
              "    </tr>\n",
              "  </thead>\n",
              "  <tbody>\n",
              "    <tr>\n",
              "      <th>3</th>\n",
              "      <td>viernes diez de línea de petrona de vanidades la consciente del problema o la del médico doming...</td>\n",
              "      <td>Friday's ten paster line of vanities The aware of the problem or the doctor Sunday because rathe...</td>\n",
              "    </tr>\n",
              "    <tr>\n",
              "      <th>7</th>\n",
              "      <td>bienvenido a la niña está bien te compro otro de tatiana cantos con quién tengo el gusto que se...</td>\n",
              "      <td>Welcome to the girl is well I buy you another of Tatiana songs with who I have the taste that La...</td>\n",
              "    </tr>\n",
              "    <tr>\n",
              "      <th>20</th>\n",
              "      <td>muy buen día la tienen rehén cortesano de ecopetrol en qué le puedo colaborar sí señora claro q...</td>\n",
              "      <td>Very good day they have a courteous hostage of Ecopetrol in which I can collaborate Yes, bad lad...</td>\n",
              "    </tr>\n",
              "    <tr>\n",
              "      <th>23</th>\n",
              "      <td>bienvenida a la diligencia desde competidora de estaciones cardo con quién tengo el gusto y chr...</td>\n",
              "      <td>Welcome to the diligence from Competitora of Station Thrown Who I have the taste and Christian h...</td>\n",
              "    </tr>\n",
              "    <tr>\n",
              "      <th>25</th>\n",
              "      <td>buenas noches bienvenido a la línea de salud telescope problema de creer con quién tengo el gus...</td>\n",
              "      <td>good evening welcome to the health line telescope problem of believing with who I have the taste...</td>\n",
              "    </tr>\n",
              "    <tr>\n",
              "      <th>...</th>\n",
              "      <td>...</td>\n",
              "      <td>...</td>\n",
              "    </tr>\n",
              "    <tr>\n",
              "      <th>3364</th>\n",
              "      <td>muy buenos días bienvenido a la línea de comprobar le hable alineación habla con quién tengo el...</td>\n",
              "      <td>Good morning Welcome to the check line Speak Alignment Talk to who I have the pleasure of speaki...</td>\n",
              "    </tr>\n",
              "    <tr>\n",
              "      <th>3370</th>\n",
              "      <td>menos de medio dólar en ensayos de competencia o la cera lo que concentran el gusto en qué le p...</td>\n",
              "      <td>Less than half a dollar in competition essays or wax, which concentrate the taste in what I can ...</td>\n",
              "    </tr>\n",
              "    <tr>\n",
              "      <th>3373</th>\n",
              "      <td>buenas tardes bienvenido a la línea del compacto de fernando rodríguez con quién tengo el gusto...</td>\n",
              "      <td>good afternoon welcome to the compact line of Fernando Rodríguez with whom I have the pleasure o...</td>\n",
              "    </tr>\n",
              "    <tr>\n",
              "      <th>3385</th>\n",
              "      <td>buenas tardes le habla pablo escobar con quién tengo el gusto de hablar de los dos señora corre...</td>\n",
              "      <td>good afternoon, Pablo Escobar speaks with whom I have the pleasure of talking about the two righ...</td>\n",
              "    </tr>\n",
              "    <tr>\n",
              "      <th>3394</th>\n",
              "      <td>muy buen día de enero en condición de ecopetrol en qué le puedo colaborar  buen día señora angé...</td>\n",
              "      <td>Very good day of January in the condition of Ecopetrol in which I can collaborate good day Angel...</td>\n",
              "    </tr>\n",
              "  </tbody>\n",
              "</table>\n",
              "<p>493 rows × 2 columns</p>\n",
              "</div>"
            ],
            "text/plain": [
              "                                                                                            transcripcion                                                                                            c_english\n",
              "3      viernes diez de línea de petrona de vanidades la consciente del problema o la del médico doming...  Friday's ten paster line of vanities The aware of the problem or the doctor Sunday because rathe...\n",
              "7      bienvenido a la niña está bien te compro otro de tatiana cantos con quién tengo el gusto que se...  Welcome to the girl is well I buy you another of Tatiana songs with who I have the taste that La...\n",
              "20     muy buen día la tienen rehén cortesano de ecopetrol en qué le puedo colaborar sí señora claro q...  Very good day they have a courteous hostage of Ecopetrol in which I can collaborate Yes, bad lad...\n",
              "23     bienvenida a la diligencia desde competidora de estaciones cardo con quién tengo el gusto y chr...  Welcome to the diligence from Competitora of Station Thrown Who I have the taste and Christian h...\n",
              "25     buenas noches bienvenido a la línea de salud telescope problema de creer con quién tengo el gus...  good evening welcome to the health line telescope problem of believing with who I have the taste...\n",
              "...                                                                                                   ...                                                                                                  ...\n",
              "3364   muy buenos días bienvenido a la línea de comprobar le hable alineación habla con quién tengo el...  Good morning Welcome to the check line Speak Alignment Talk to who I have the pleasure of speaki...\n",
              "3370   menos de medio dólar en ensayos de competencia o la cera lo que concentran el gusto en qué le p...  Less than half a dollar in competition essays or wax, which concentrate the taste in what I can ...\n",
              "3373   buenas tardes bienvenido a la línea del compacto de fernando rodríguez con quién tengo el gusto...  good afternoon welcome to the compact line of Fernando Rodríguez with whom I have the pleasure o...\n",
              "3385   buenas tardes le habla pablo escobar con quién tengo el gusto de hablar de los dos señora corre...  good afternoon, Pablo Escobar speaks with whom I have the pleasure of talking about the two righ...\n",
              "3394   muy buen día de enero en condición de ecopetrol en qué le puedo colaborar  buen día señora angé...  Very good day of January in the condition of Ecopetrol in which I can collaborate good day Angel...\n",
              "\n",
              "[493 rows x 2 columns]"
            ]
          },
          "metadata": {
            "tags": []
          },
          "execution_count": 82
        }
      ]
    },
    {
      "cell_type": "code",
      "metadata": {
        "id": "dBkO5fhfgP_Y",
        "colab": {
          "base_uri": "https://localhost:8080/",
          "height": 542
        },
        "outputId": "f1672ac0-626f-4244-b013-32b01730d0b0"
      },
      "source": [
        "\n",
        "# Diccionario donde se guardarán los léxicos.\n",
        "vocab={}\n",
        "# Iteramos para cada una de las emociones de EmoLex.\n",
        "for lexicon in os.listdir(\"EmoLex/\"):\n",
        "    # Se abre cada .txt, se extraen todas las palabras y se eliminan saltos de línea.\n",
        "    with open(\"EmoLex/\"+lexicon,\"r\") as f:\n",
        "        vocab[lexicon.split(\".\")[0]]=[i[:-1] for i in f.readlines()]\n",
        "\n",
        "\n",
        "def emotion_count(text,vocab):\n",
        "    # Separamos las palábras por espacios.\n",
        "    words=text.split(\" \")\n",
        "    # Creamos un diccionario donde se guardarán los conteos por cada emoción.\n",
        "    counts={i:0 for i in list(vocab.keys())}\n",
        "    # Creamos un diccionario donde se guardarán las palabras coincidentes con cada léxico.\n",
        "    words_per_emo={i:[] for i in list(vocab.keys())}\n",
        "    # Iteramos para cada una de las palábras dentro del texto.\n",
        "    for word in words:\n",
        "        # Iteramos para cada una de las emociones del léxico.\n",
        "        for emo in vocab:\n",
        "            # Evalúamos si la palabra está dentro del léxico de cada emoción\n",
        "            if word in vocab[emo]:\n",
        "                # Si la palabra está en el léxico de la emoción, sumamos 1 al conteo acumulado.\n",
        "                counts[emo]+=1\n",
        "                # También agregamos la palabra coincidente.\n",
        "                words_per_emo[emo].append(word)\n",
        "    return counts, words_per_emo\n",
        "\n",
        "df['counts,detected_words']=df['c_english'].apply(lambda x: emotion_count(x,vocab)[0])   \n",
        "\n",
        "dd = defaultdict(list)\n",
        "list_emotions=df['counts,detected_words'].tolist()\n",
        "for d in (list_emotions): \n",
        "     for key, value in d.items():\n",
        "         dd[key].append(value)\n",
        "\n",
        "\n",
        "\n",
        "\n",
        "for name, value in dd.items():\n",
        "  dd[name]=sum(value)\n",
        "\n",
        "dd0={}\n",
        "for name, value in dd.items():\n",
        "   if name=='anger':\n",
        "    name='enojo'\n",
        "    dd0[name]=value\n",
        "  \n",
        "   if name=='fear':\n",
        "    name='ansiedad'\n",
        "    dd0[name]=value\n",
        "  \n",
        "   if name=='trust':\n",
        "    name='confianza'\n",
        "    dd0[name]=value\n",
        "  \n",
        "   if name=='negative':\n",
        "    name='negativa'\n",
        "    dd0[name]=value\n",
        "  \n",
        "   if name=='anticipation':\n",
        "    name='anticipación'\n",
        "    dd0[name]=value\n",
        "  \n",
        "   if name=='disgust':\n",
        "    name='disgusto'\n",
        "    dd0[name]=value\n",
        "  \n",
        "   if name=='positive':\n",
        "    name='positiva'\n",
        "    dd0[name]=value\n",
        "  \n",
        "   if name=='joy':\n",
        "    name='disfrute'\n",
        "    dd0[name]=value\n",
        "  \n",
        "   if name=='surprise':\n",
        "    name='sorpresa'\n",
        "    dd0[name]=value\n",
        "  \n",
        "   if name=='sadness':\n",
        "    name='aflicción'\n",
        "    dd0[name]=value\n",
        "df_p=pd.DataFrame(dd0, index=range(0,11))\n",
        "df_p=df_p.T\n",
        "df_p=df_p.rename(columns={0:'Frecuencia'})\n",
        "df_p=df_p[['Frecuencia']]\n",
        "df_p=df_p.sort_values(by='Frecuencia', ascending=False)\n",
        "\n",
        "fig=px.bar( x=df_p.index,color_discrete_sequence=[\"darkgreen\",\"gold\",\"yellowgreen\"], y=df_p.Frecuencia, title='Ámbito de las expresiones utilizadas por los agentes en las conversaciones:'+' '+segmento,  labels=dict(x=\"Tipología de las palabras empleadas\", y=\"Frecuencia\", color=\"Place\"))\n",
        "fig.write_html(segmento+\"_palabras_agente_.html\")\n",
        "fig.show()"
      ],
      "execution_count": 83,
      "outputs": [
        {
          "output_type": "display_data",
          "data": {
            "text/html": [
              "<html>\n",
              "<head><meta charset=\"utf-8\" /></head>\n",
              "<body>\n",
              "    <div>\n",
              "            <script src=\"https://cdnjs.cloudflare.com/ajax/libs/mathjax/2.7.5/MathJax.js?config=TeX-AMS-MML_SVG\"></script><script type=\"text/javascript\">if (window.MathJax) {MathJax.Hub.Config({SVG: {font: \"STIX-Web\"}});}</script>\n",
              "                <script type=\"text/javascript\">window.PlotlyConfig = {MathJaxConfig: 'local'};</script>\n",
              "        <script src=\"https://cdn.plot.ly/plotly-latest.min.js\"></script>    \n",
              "            <div id=\"9a95f9f4-8c7b-43b3-959a-505439bdd66e\" class=\"plotly-graph-div\" style=\"height:525px; width:100%;\"></div>\n",
              "            <script type=\"text/javascript\">\n",
              "                \n",
              "                    window.PLOTLYENV=window.PLOTLYENV || {};\n",
              "                    \n",
              "                if (document.getElementById(\"9a95f9f4-8c7b-43b3-959a-505439bdd66e\")) {\n",
              "                    Plotly.newPlot(\n",
              "                        '9a95f9f4-8c7b-43b3-959a-505439bdd66e',\n",
              "                        [{\"alignmentgroup\": \"True\", \"hoverlabel\": {\"namelength\": 0}, \"hovertemplate\": \"Tipolog\\u00eda de las palabras empleadas=%{x}<br>Frecuencia=%{y}\", \"legendgroup\": \"\", \"marker\": {\"color\": \"darkgreen\"}, \"name\": \"\", \"offsetgroup\": \"\", \"orientation\": \"v\", \"showlegend\": false, \"textposition\": \"auto\", \"type\": \"bar\", \"x\": [\"positiva\", \"confianza\", \"anticipaci\\u00f3n\", \"negativa\", \"disfrute\", \"ansiedad\", \"sorpresa\", \"aflicci\\u00f3n\", \"enojo\", \"disgusto\"], \"xaxis\": \"x\", \"y\": [4848, 3544, 2429, 1492, 1470, 1178, 895, 823, 465, 243], \"yaxis\": \"y\"}],\n",
              "                        {\"barmode\": \"relative\", \"legend\": {\"tracegroupgap\": 0}, \"template\": {\"data\": {\"bar\": [{\"error_x\": {\"color\": \"#2a3f5f\"}, \"error_y\": {\"color\": \"#2a3f5f\"}, \"marker\": {\"line\": {\"color\": \"#E5ECF6\", \"width\": 0.5}}, \"type\": \"bar\"}], \"barpolar\": [{\"marker\": {\"line\": {\"color\": \"#E5ECF6\", \"width\": 0.5}}, \"type\": \"barpolar\"}], \"carpet\": [{\"aaxis\": {\"endlinecolor\": \"#2a3f5f\", \"gridcolor\": \"white\", \"linecolor\": \"white\", \"minorgridcolor\": \"white\", \"startlinecolor\": \"#2a3f5f\"}, \"baxis\": {\"endlinecolor\": \"#2a3f5f\", \"gridcolor\": \"white\", \"linecolor\": \"white\", \"minorgridcolor\": \"white\", \"startlinecolor\": \"#2a3f5f\"}, \"type\": \"carpet\"}], \"choropleth\": [{\"colorbar\": {\"outlinewidth\": 0, \"ticks\": \"\"}, \"type\": \"choropleth\"}], \"contour\": [{\"colorbar\": {\"outlinewidth\": 0, \"ticks\": \"\"}, \"colorscale\": [[0.0, \"#0d0887\"], [0.1111111111111111, \"#46039f\"], [0.2222222222222222, \"#7201a8\"], [0.3333333333333333, \"#9c179e\"], [0.4444444444444444, \"#bd3786\"], [0.5555555555555556, \"#d8576b\"], [0.6666666666666666, \"#ed7953\"], [0.7777777777777778, \"#fb9f3a\"], [0.8888888888888888, \"#fdca26\"], [1.0, \"#f0f921\"]], \"type\": \"contour\"}], \"contourcarpet\": [{\"colorbar\": {\"outlinewidth\": 0, \"ticks\": \"\"}, \"type\": \"contourcarpet\"}], \"heatmap\": [{\"colorbar\": {\"outlinewidth\": 0, \"ticks\": \"\"}, \"colorscale\": [[0.0, \"#0d0887\"], [0.1111111111111111, \"#46039f\"], [0.2222222222222222, \"#7201a8\"], [0.3333333333333333, \"#9c179e\"], [0.4444444444444444, \"#bd3786\"], [0.5555555555555556, \"#d8576b\"], [0.6666666666666666, \"#ed7953\"], [0.7777777777777778, \"#fb9f3a\"], [0.8888888888888888, \"#fdca26\"], [1.0, \"#f0f921\"]], \"type\": \"heatmap\"}], \"heatmapgl\": [{\"colorbar\": {\"outlinewidth\": 0, \"ticks\": \"\"}, \"colorscale\": [[0.0, \"#0d0887\"], [0.1111111111111111, \"#46039f\"], [0.2222222222222222, \"#7201a8\"], [0.3333333333333333, \"#9c179e\"], [0.4444444444444444, \"#bd3786\"], [0.5555555555555556, \"#d8576b\"], [0.6666666666666666, \"#ed7953\"], [0.7777777777777778, \"#fb9f3a\"], [0.8888888888888888, \"#fdca26\"], [1.0, \"#f0f921\"]], \"type\": \"heatmapgl\"}], \"histogram\": [{\"marker\": {\"colorbar\": {\"outlinewidth\": 0, \"ticks\": \"\"}}, \"type\": \"histogram\"}], \"histogram2d\": [{\"colorbar\": {\"outlinewidth\": 0, \"ticks\": \"\"}, \"colorscale\": [[0.0, \"#0d0887\"], [0.1111111111111111, \"#46039f\"], [0.2222222222222222, \"#7201a8\"], [0.3333333333333333, \"#9c179e\"], [0.4444444444444444, \"#bd3786\"], [0.5555555555555556, \"#d8576b\"], [0.6666666666666666, \"#ed7953\"], [0.7777777777777778, \"#fb9f3a\"], [0.8888888888888888, \"#fdca26\"], [1.0, \"#f0f921\"]], \"type\": \"histogram2d\"}], \"histogram2dcontour\": [{\"colorbar\": {\"outlinewidth\": 0, \"ticks\": \"\"}, \"colorscale\": [[0.0, \"#0d0887\"], [0.1111111111111111, \"#46039f\"], [0.2222222222222222, \"#7201a8\"], [0.3333333333333333, \"#9c179e\"], [0.4444444444444444, \"#bd3786\"], [0.5555555555555556, \"#d8576b\"], [0.6666666666666666, \"#ed7953\"], [0.7777777777777778, \"#fb9f3a\"], [0.8888888888888888, \"#fdca26\"], [1.0, \"#f0f921\"]], \"type\": \"histogram2dcontour\"}], \"mesh3d\": [{\"colorbar\": {\"outlinewidth\": 0, \"ticks\": \"\"}, \"type\": \"mesh3d\"}], \"parcoords\": [{\"line\": {\"colorbar\": {\"outlinewidth\": 0, \"ticks\": \"\"}}, \"type\": \"parcoords\"}], \"pie\": [{\"automargin\": true, \"type\": \"pie\"}], \"scatter\": [{\"marker\": {\"colorbar\": {\"outlinewidth\": 0, \"ticks\": \"\"}}, \"type\": \"scatter\"}], \"scatter3d\": [{\"line\": {\"colorbar\": {\"outlinewidth\": 0, \"ticks\": \"\"}}, \"marker\": {\"colorbar\": {\"outlinewidth\": 0, \"ticks\": \"\"}}, \"type\": \"scatter3d\"}], \"scattercarpet\": [{\"marker\": {\"colorbar\": {\"outlinewidth\": 0, \"ticks\": \"\"}}, \"type\": \"scattercarpet\"}], \"scattergeo\": [{\"marker\": {\"colorbar\": {\"outlinewidth\": 0, \"ticks\": \"\"}}, \"type\": \"scattergeo\"}], \"scattergl\": [{\"marker\": {\"colorbar\": {\"outlinewidth\": 0, \"ticks\": \"\"}}, \"type\": \"scattergl\"}], \"scattermapbox\": [{\"marker\": {\"colorbar\": {\"outlinewidth\": 0, \"ticks\": \"\"}}, \"type\": \"scattermapbox\"}], \"scatterpolar\": [{\"marker\": {\"colorbar\": {\"outlinewidth\": 0, \"ticks\": \"\"}}, \"type\": \"scatterpolar\"}], \"scatterpolargl\": [{\"marker\": {\"colorbar\": {\"outlinewidth\": 0, \"ticks\": \"\"}}, \"type\": \"scatterpolargl\"}], \"scatterternary\": [{\"marker\": {\"colorbar\": {\"outlinewidth\": 0, \"ticks\": \"\"}}, \"type\": \"scatterternary\"}], \"surface\": [{\"colorbar\": {\"outlinewidth\": 0, \"ticks\": \"\"}, \"colorscale\": [[0.0, \"#0d0887\"], [0.1111111111111111, \"#46039f\"], [0.2222222222222222, \"#7201a8\"], [0.3333333333333333, \"#9c179e\"], [0.4444444444444444, \"#bd3786\"], [0.5555555555555556, \"#d8576b\"], [0.6666666666666666, \"#ed7953\"], [0.7777777777777778, \"#fb9f3a\"], [0.8888888888888888, \"#fdca26\"], [1.0, \"#f0f921\"]], \"type\": \"surface\"}], \"table\": [{\"cells\": {\"fill\": {\"color\": \"#EBF0F8\"}, \"line\": {\"color\": \"white\"}}, \"header\": {\"fill\": {\"color\": \"#C8D4E3\"}, \"line\": {\"color\": \"white\"}}, \"type\": \"table\"}]}, \"layout\": {\"annotationdefaults\": {\"arrowcolor\": \"#2a3f5f\", \"arrowhead\": 0, \"arrowwidth\": 1}, \"coloraxis\": {\"colorbar\": {\"outlinewidth\": 0, \"ticks\": \"\"}}, \"colorscale\": {\"diverging\": [[0, \"#8e0152\"], [0.1, \"#c51b7d\"], [0.2, \"#de77ae\"], [0.3, \"#f1b6da\"], [0.4, \"#fde0ef\"], [0.5, \"#f7f7f7\"], [0.6, \"#e6f5d0\"], [0.7, \"#b8e186\"], [0.8, \"#7fbc41\"], [0.9, \"#4d9221\"], [1, \"#276419\"]], \"sequential\": [[0.0, \"#0d0887\"], [0.1111111111111111, \"#46039f\"], [0.2222222222222222, \"#7201a8\"], [0.3333333333333333, \"#9c179e\"], [0.4444444444444444, \"#bd3786\"], [0.5555555555555556, \"#d8576b\"], [0.6666666666666666, \"#ed7953\"], [0.7777777777777778, \"#fb9f3a\"], [0.8888888888888888, \"#fdca26\"], [1.0, \"#f0f921\"]], \"sequentialminus\": [[0.0, \"#0d0887\"], [0.1111111111111111, \"#46039f\"], [0.2222222222222222, \"#7201a8\"], [0.3333333333333333, \"#9c179e\"], [0.4444444444444444, \"#bd3786\"], [0.5555555555555556, \"#d8576b\"], [0.6666666666666666, \"#ed7953\"], [0.7777777777777778, \"#fb9f3a\"], [0.8888888888888888, \"#fdca26\"], [1.0, \"#f0f921\"]]}, \"colorway\": [\"#636efa\", \"#EF553B\", \"#00cc96\", \"#ab63fa\", \"#FFA15A\", \"#19d3f3\", \"#FF6692\", \"#B6E880\", \"#FF97FF\", \"#FECB52\"], \"font\": {\"color\": \"#2a3f5f\"}, \"geo\": {\"bgcolor\": \"white\", \"lakecolor\": \"white\", \"landcolor\": \"#E5ECF6\", \"showlakes\": true, \"showland\": true, \"subunitcolor\": \"white\"}, \"hoverlabel\": {\"align\": \"left\"}, \"hovermode\": \"closest\", \"mapbox\": {\"style\": \"light\"}, \"paper_bgcolor\": \"white\", \"plot_bgcolor\": \"#E5ECF6\", \"polar\": {\"angularaxis\": {\"gridcolor\": \"white\", \"linecolor\": \"white\", \"ticks\": \"\"}, \"bgcolor\": \"#E5ECF6\", \"radialaxis\": {\"gridcolor\": \"white\", \"linecolor\": \"white\", \"ticks\": \"\"}}, \"scene\": {\"xaxis\": {\"backgroundcolor\": \"#E5ECF6\", \"gridcolor\": \"white\", \"gridwidth\": 2, \"linecolor\": \"white\", \"showbackground\": true, \"ticks\": \"\", \"zerolinecolor\": \"white\"}, \"yaxis\": {\"backgroundcolor\": \"#E5ECF6\", \"gridcolor\": \"white\", \"gridwidth\": 2, \"linecolor\": \"white\", \"showbackground\": true, \"ticks\": \"\", \"zerolinecolor\": \"white\"}, \"zaxis\": {\"backgroundcolor\": \"#E5ECF6\", \"gridcolor\": \"white\", \"gridwidth\": 2, \"linecolor\": \"white\", \"showbackground\": true, \"ticks\": \"\", \"zerolinecolor\": \"white\"}}, \"shapedefaults\": {\"line\": {\"color\": \"#2a3f5f\"}}, \"ternary\": {\"aaxis\": {\"gridcolor\": \"white\", \"linecolor\": \"white\", \"ticks\": \"\"}, \"baxis\": {\"gridcolor\": \"white\", \"linecolor\": \"white\", \"ticks\": \"\"}, \"bgcolor\": \"#E5ECF6\", \"caxis\": {\"gridcolor\": \"white\", \"linecolor\": \"white\", \"ticks\": \"\"}}, \"title\": {\"x\": 0.05}, \"xaxis\": {\"automargin\": true, \"gridcolor\": \"white\", \"linecolor\": \"white\", \"ticks\": \"\", \"title\": {\"standoff\": 15}, \"zerolinecolor\": \"white\", \"zerolinewidth\": 2}, \"yaxis\": {\"automargin\": true, \"gridcolor\": \"white\", \"linecolor\": \"white\", \"ticks\": \"\", \"title\": {\"standoff\": 15}, \"zerolinecolor\": \"white\", \"zerolinewidth\": 2}}}, \"title\": {\"text\": \"\\u00c1mbito de las expresiones utilizadas por los agentes en las conversaciones: Salud\"}, \"xaxis\": {\"anchor\": \"y\", \"domain\": [0.0, 1.0], \"title\": {\"text\": \"Tipolog\\u00eda de las palabras empleadas\"}}, \"yaxis\": {\"anchor\": \"x\", \"domain\": [0.0, 1.0], \"title\": {\"text\": \"Frecuencia\"}}},\n",
              "                        {\"responsive\": true}\n",
              "                    ).then(function(){\n",
              "                            \n",
              "var gd = document.getElementById('9a95f9f4-8c7b-43b3-959a-505439bdd66e');\n",
              "var x = new MutationObserver(function (mutations, observer) {{\n",
              "        var display = window.getComputedStyle(gd).display;\n",
              "        if (!display || display === 'none') {{\n",
              "            console.log([gd, 'removed!']);\n",
              "            Plotly.purge(gd);\n",
              "            observer.disconnect();\n",
              "        }}\n",
              "}});\n",
              "\n",
              "// Listen for the removal of the full notebook cells\n",
              "var notebookContainer = gd.closest('#notebook-container');\n",
              "if (notebookContainer) {{\n",
              "    x.observe(notebookContainer, {childList: true});\n",
              "}}\n",
              "\n",
              "// Listen for the clearing of the current output cell\n",
              "var outputEl = gd.closest('.output');\n",
              "if (outputEl) {{\n",
              "    x.observe(outputEl, {childList: true});\n",
              "}}\n",
              "\n",
              "                        })\n",
              "                };\n",
              "                \n",
              "            </script>\n",
              "        </div>\n",
              "</body>\n",
              "</html>"
            ]
          },
          "metadata": {
            "tags": []
          }
        }
      ]
    },
    {
      "cell_type": "code",
      "metadata": {
        "id": "fWZs4F-4Y4PX"
      },
      "source": [
        "df_salud_a=pd.DataFrame()\n",
        "df_salud_a['cantidad_palabras']=list(dd0.values())\n",
        "df_salud_a['tipo_palabra']=list(dd0.keys())"
      ],
      "execution_count": 84,
      "outputs": []
    },
    {
      "cell_type": "markdown",
      "metadata": {
        "id": "NgDb7I5FgmKa"
      },
      "source": [
        "<b><font color=orange size=5> DETECCION DE EMOCIONES</font></b>"
      ]
    },
    {
      "cell_type": "markdown",
      "metadata": {
        "id": "3xLByvSMwRkn"
      },
      "source": [
        "Para la detección de emociones en el texto, debemos cargar el texto traducido al inglés. Se realia la aclaración de que el texto traducido debe ser el texto puro, con las stop-words y demás debido a que es necesario tener las frases completas para la clasificación."
      ]
    },
    {
      "cell_type": "code",
      "metadata": {
        "id": "HgSmVK5IxEQM",
        "colab": {
          "base_uri": "https://localhost:8080/"
        },
        "outputId": "be74e5ba-0836-41b1-c7c9-995e3b61a0f6"
      },
      "source": [
        "#df=pd.read_parquet('/content/drive/My Drive/NPL_Ecopetrol/emotion_analysis/translate_ecopetrol.parquet')\n",
        "#df=df.drop_duplicates('name')\n",
        "#df=df_user_copy\n",
        "\n",
        "df_personal0=df_user_copy[df_user_copy['Linea']=='Salud']\n",
        "\n",
        "#df_personal0=df_personal0.sample(n=300, random_state=0)\n",
        "df_personal0['Len'] = [len(x) for x in df_personal0[\"transcripcion\"]]\n",
        "len(df_personal0[df_personal0['Len']>5000])"
      ],
      "execution_count": 85,
      "outputs": [
        {
          "output_type": "execute_result",
          "data": {
            "text/plain": [
              "9"
            ]
          },
          "metadata": {
            "tags": []
          },
          "execution_count": 85
        }
      ]
    },
    {
      "cell_type": "code",
      "metadata": {
        "colab": {
          "base_uri": "https://localhost:8080/",
          "height": 458
        },
        "id": "AhYcePKr8TZk",
        "outputId": "5251fb85-06fe-413d-9f9f-11959099cf60"
      },
      "source": [
        "%%time\r\n",
        "df_personal0[\"c_english\"] = df_personal0[\"transcripcion\"].apply(lambda x: translator.translate((x[:5000])).text)"
      ],
      "execution_count": 95,
      "outputs": [
        {
          "output_type": "error",
          "ename": "AttributeError",
          "evalue": "ignored",
          "traceback": [
            "\u001b[0;31m---------------------------------------------------------------------------\u001b[0m",
            "\u001b[0;31mAttributeError\u001b[0m                            Traceback (most recent call last)",
            "\u001b[0;32m<ipython-input-95-ed9b8782471f>\u001b[0m in \u001b[0;36m<module>\u001b[0;34m()\u001b[0m\n\u001b[0;32m----> 1\u001b[0;31m \u001b[0mget_ipython\u001b[0m\u001b[0;34m(\u001b[0m\u001b[0;34m)\u001b[0m\u001b[0;34m.\u001b[0m\u001b[0mrun_cell_magic\u001b[0m\u001b[0;34m(\u001b[0m\u001b[0;34m'time'\u001b[0m\u001b[0;34m,\u001b[0m \u001b[0;34m''\u001b[0m\u001b[0;34m,\u001b[0m \u001b[0;34m'df_personal0[\"c_english\"] = df_personal0[\"transcripcion\"].apply(lambda x: translator.translate((x[:5000])).text)'\u001b[0m\u001b[0;34m)\u001b[0m\u001b[0;34m\u001b[0m\u001b[0;34m\u001b[0m\u001b[0m\n\u001b[0m",
            "\u001b[0;32m/usr/local/lib/python3.7/dist-packages/IPython/core/interactiveshell.py\u001b[0m in \u001b[0;36mrun_cell_magic\u001b[0;34m(self, magic_name, line, cell)\u001b[0m\n\u001b[1;32m   2115\u001b[0m             \u001b[0mmagic_arg_s\u001b[0m \u001b[0;34m=\u001b[0m \u001b[0mself\u001b[0m\u001b[0;34m.\u001b[0m\u001b[0mvar_expand\u001b[0m\u001b[0;34m(\u001b[0m\u001b[0mline\u001b[0m\u001b[0;34m,\u001b[0m \u001b[0mstack_depth\u001b[0m\u001b[0;34m)\u001b[0m\u001b[0;34m\u001b[0m\u001b[0;34m\u001b[0m\u001b[0m\n\u001b[1;32m   2116\u001b[0m             \u001b[0;32mwith\u001b[0m \u001b[0mself\u001b[0m\u001b[0;34m.\u001b[0m\u001b[0mbuiltin_trap\u001b[0m\u001b[0;34m:\u001b[0m\u001b[0;34m\u001b[0m\u001b[0;34m\u001b[0m\u001b[0m\n\u001b[0;32m-> 2117\u001b[0;31m                 \u001b[0mresult\u001b[0m \u001b[0;34m=\u001b[0m \u001b[0mfn\u001b[0m\u001b[0;34m(\u001b[0m\u001b[0mmagic_arg_s\u001b[0m\u001b[0;34m,\u001b[0m \u001b[0mcell\u001b[0m\u001b[0;34m)\u001b[0m\u001b[0;34m\u001b[0m\u001b[0;34m\u001b[0m\u001b[0m\n\u001b[0m\u001b[1;32m   2118\u001b[0m             \u001b[0;32mreturn\u001b[0m \u001b[0mresult\u001b[0m\u001b[0;34m\u001b[0m\u001b[0;34m\u001b[0m\u001b[0m\n\u001b[1;32m   2119\u001b[0m \u001b[0;34m\u001b[0m\u001b[0m\n",
            "\u001b[0;32m<decorator-gen-53>\u001b[0m in \u001b[0;36mtime\u001b[0;34m(self, line, cell, local_ns)\u001b[0m\n",
            "\u001b[0;32m/usr/local/lib/python3.7/dist-packages/IPython/core/magic.py\u001b[0m in \u001b[0;36m<lambda>\u001b[0;34m(f, *a, **k)\u001b[0m\n\u001b[1;32m    186\u001b[0m     \u001b[0;31m# but it's overkill for just that one bit of state.\u001b[0m\u001b[0;34m\u001b[0m\u001b[0;34m\u001b[0m\u001b[0;34m\u001b[0m\u001b[0m\n\u001b[1;32m    187\u001b[0m     \u001b[0;32mdef\u001b[0m \u001b[0mmagic_deco\u001b[0m\u001b[0;34m(\u001b[0m\u001b[0marg\u001b[0m\u001b[0;34m)\u001b[0m\u001b[0;34m:\u001b[0m\u001b[0;34m\u001b[0m\u001b[0;34m\u001b[0m\u001b[0m\n\u001b[0;32m--> 188\u001b[0;31m         \u001b[0mcall\u001b[0m \u001b[0;34m=\u001b[0m \u001b[0;32mlambda\u001b[0m \u001b[0mf\u001b[0m\u001b[0;34m,\u001b[0m \u001b[0;34m*\u001b[0m\u001b[0ma\u001b[0m\u001b[0;34m,\u001b[0m \u001b[0;34m**\u001b[0m\u001b[0mk\u001b[0m\u001b[0;34m:\u001b[0m \u001b[0mf\u001b[0m\u001b[0;34m(\u001b[0m\u001b[0;34m*\u001b[0m\u001b[0ma\u001b[0m\u001b[0;34m,\u001b[0m \u001b[0;34m**\u001b[0m\u001b[0mk\u001b[0m\u001b[0;34m)\u001b[0m\u001b[0;34m\u001b[0m\u001b[0;34m\u001b[0m\u001b[0m\n\u001b[0m\u001b[1;32m    189\u001b[0m \u001b[0;34m\u001b[0m\u001b[0m\n\u001b[1;32m    190\u001b[0m         \u001b[0;32mif\u001b[0m \u001b[0mcallable\u001b[0m\u001b[0;34m(\u001b[0m\u001b[0marg\u001b[0m\u001b[0;34m)\u001b[0m\u001b[0;34m:\u001b[0m\u001b[0;34m\u001b[0m\u001b[0;34m\u001b[0m\u001b[0m\n",
            "\u001b[0;32m/usr/local/lib/python3.7/dist-packages/IPython/core/magics/execution.py\u001b[0m in \u001b[0;36mtime\u001b[0;34m(self, line, cell, local_ns)\u001b[0m\n\u001b[1;32m   1191\u001b[0m         \u001b[0;32melse\u001b[0m\u001b[0;34m:\u001b[0m\u001b[0;34m\u001b[0m\u001b[0;34m\u001b[0m\u001b[0m\n\u001b[1;32m   1192\u001b[0m             \u001b[0mst\u001b[0m \u001b[0;34m=\u001b[0m \u001b[0mclock2\u001b[0m\u001b[0;34m(\u001b[0m\u001b[0;34m)\u001b[0m\u001b[0;34m\u001b[0m\u001b[0;34m\u001b[0m\u001b[0m\n\u001b[0;32m-> 1193\u001b[0;31m             \u001b[0mexec\u001b[0m\u001b[0;34m(\u001b[0m\u001b[0mcode\u001b[0m\u001b[0;34m,\u001b[0m \u001b[0mglob\u001b[0m\u001b[0;34m,\u001b[0m \u001b[0mlocal_ns\u001b[0m\u001b[0;34m)\u001b[0m\u001b[0;34m\u001b[0m\u001b[0;34m\u001b[0m\u001b[0m\n\u001b[0m\u001b[1;32m   1194\u001b[0m             \u001b[0mend\u001b[0m \u001b[0;34m=\u001b[0m \u001b[0mclock2\u001b[0m\u001b[0;34m(\u001b[0m\u001b[0;34m)\u001b[0m\u001b[0;34m\u001b[0m\u001b[0;34m\u001b[0m\u001b[0m\n\u001b[1;32m   1195\u001b[0m             \u001b[0mout\u001b[0m \u001b[0;34m=\u001b[0m \u001b[0;32mNone\u001b[0m\u001b[0;34m\u001b[0m\u001b[0;34m\u001b[0m\u001b[0m\n",
            "\u001b[0;32m<timed exec>\u001b[0m in \u001b[0;36m<module>\u001b[0;34m()\u001b[0m\n",
            "\u001b[0;32m/usr/local/lib/python3.7/dist-packages/pandas/core/series.py\u001b[0m in \u001b[0;36mapply\u001b[0;34m(self, func, convert_dtype, args, **kwds)\u001b[0m\n\u001b[1;32m   4211\u001b[0m             \u001b[0;32melse\u001b[0m\u001b[0;34m:\u001b[0m\u001b[0;34m\u001b[0m\u001b[0;34m\u001b[0m\u001b[0m\n\u001b[1;32m   4212\u001b[0m                 \u001b[0mvalues\u001b[0m \u001b[0;34m=\u001b[0m \u001b[0mself\u001b[0m\u001b[0;34m.\u001b[0m\u001b[0mastype\u001b[0m\u001b[0;34m(\u001b[0m\u001b[0mobject\u001b[0m\u001b[0;34m)\u001b[0m\u001b[0;34m.\u001b[0m\u001b[0m_values\u001b[0m\u001b[0;34m\u001b[0m\u001b[0;34m\u001b[0m\u001b[0m\n\u001b[0;32m-> 4213\u001b[0;31m                 \u001b[0mmapped\u001b[0m \u001b[0;34m=\u001b[0m \u001b[0mlib\u001b[0m\u001b[0;34m.\u001b[0m\u001b[0mmap_infer\u001b[0m\u001b[0;34m(\u001b[0m\u001b[0mvalues\u001b[0m\u001b[0;34m,\u001b[0m \u001b[0mf\u001b[0m\u001b[0;34m,\u001b[0m \u001b[0mconvert\u001b[0m\u001b[0;34m=\u001b[0m\u001b[0mconvert_dtype\u001b[0m\u001b[0;34m)\u001b[0m\u001b[0;34m\u001b[0m\u001b[0;34m\u001b[0m\u001b[0m\n\u001b[0m\u001b[1;32m   4214\u001b[0m \u001b[0;34m\u001b[0m\u001b[0m\n\u001b[1;32m   4215\u001b[0m         \u001b[0;32mif\u001b[0m \u001b[0mlen\u001b[0m\u001b[0;34m(\u001b[0m\u001b[0mmapped\u001b[0m\u001b[0;34m)\u001b[0m \u001b[0;32mand\u001b[0m \u001b[0misinstance\u001b[0m\u001b[0;34m(\u001b[0m\u001b[0mmapped\u001b[0m\u001b[0;34m[\u001b[0m\u001b[0;36m0\u001b[0m\u001b[0;34m]\u001b[0m\u001b[0;34m,\u001b[0m \u001b[0mSeries\u001b[0m\u001b[0;34m)\u001b[0m\u001b[0;34m:\u001b[0m\u001b[0;34m\u001b[0m\u001b[0;34m\u001b[0m\u001b[0m\n",
            "\u001b[0;32mpandas/_libs/lib.pyx\u001b[0m in \u001b[0;36mpandas._libs.lib.map_infer\u001b[0;34m()\u001b[0m\n",
            "\u001b[0;32m<timed exec>\u001b[0m in \u001b[0;36m<lambda>\u001b[0;34m(x)\u001b[0m\n",
            "\u001b[0;32m/usr/local/lib/python3.7/dist-packages/googletrans/client.py\u001b[0m in \u001b[0;36mtranslate\u001b[0;34m(self, text, dest, src)\u001b[0m\n\u001b[1;32m    192\u001b[0m \u001b[0;34m\u001b[0m\u001b[0m\n\u001b[1;32m    193\u001b[0m         \u001b[0morigin\u001b[0m \u001b[0;34m=\u001b[0m \u001b[0mtext\u001b[0m\u001b[0;34m\u001b[0m\u001b[0;34m\u001b[0m\u001b[0m\n\u001b[0;32m--> 194\u001b[0;31m         \u001b[0mdata\u001b[0m\u001b[0;34m,\u001b[0m \u001b[0mresponse\u001b[0m \u001b[0;34m=\u001b[0m \u001b[0mself\u001b[0m\u001b[0;34m.\u001b[0m\u001b[0m_translate\u001b[0m\u001b[0;34m(\u001b[0m\u001b[0mtext\u001b[0m\u001b[0;34m,\u001b[0m \u001b[0mdest\u001b[0m\u001b[0;34m,\u001b[0m \u001b[0msrc\u001b[0m\u001b[0;34m)\u001b[0m\u001b[0;34m\u001b[0m\u001b[0;34m\u001b[0m\u001b[0m\n\u001b[0m\u001b[1;32m    195\u001b[0m \u001b[0;34m\u001b[0m\u001b[0m\n\u001b[1;32m    196\u001b[0m         \u001b[0mtoken_found\u001b[0m \u001b[0;34m=\u001b[0m \u001b[0;32mFalse\u001b[0m\u001b[0;34m\u001b[0m\u001b[0;34m\u001b[0m\u001b[0m\n",
            "\u001b[0;32m/usr/local/lib/python3.7/dist-packages/googletrans/client.py\u001b[0m in \u001b[0;36m_translate\u001b[0;34m(self, text, dest, src)\u001b[0m\n\u001b[1;32m    120\u001b[0m         \u001b[0mr\u001b[0m \u001b[0;34m=\u001b[0m \u001b[0mself\u001b[0m\u001b[0;34m.\u001b[0m\u001b[0mclient\u001b[0m\u001b[0;34m.\u001b[0m\u001b[0mpost\u001b[0m\u001b[0;34m(\u001b[0m\u001b[0murl\u001b[0m\u001b[0;34m,\u001b[0m \u001b[0mparams\u001b[0m\u001b[0;34m=\u001b[0m\u001b[0mparams\u001b[0m\u001b[0;34m,\u001b[0m \u001b[0mdata\u001b[0m\u001b[0;34m=\u001b[0m\u001b[0mdata\u001b[0m\u001b[0;34m)\u001b[0m\u001b[0;34m\u001b[0m\u001b[0;34m\u001b[0m\u001b[0m\n\u001b[1;32m    121\u001b[0m \u001b[0;34m\u001b[0m\u001b[0m\n\u001b[0;32m--> 122\u001b[0;31m         \u001b[0;32mif\u001b[0m \u001b[0mr\u001b[0m\u001b[0;34m.\u001b[0m\u001b[0mstatus_code\u001b[0m \u001b[0;34m!=\u001b[0m \u001b[0;36m200\u001b[0m \u001b[0;32mand\u001b[0m \u001b[0mself\u001b[0m\u001b[0;34m.\u001b[0m\u001b[0mraise_Exception\u001b[0m\u001b[0;34m:\u001b[0m\u001b[0;34m\u001b[0m\u001b[0;34m\u001b[0m\u001b[0m\n\u001b[0m\u001b[1;32m    123\u001b[0m             raise Exception('Unexpected status code \"{}\" from {}'.format(\n\u001b[1;32m    124\u001b[0m                 r.status_code, self.service_urls))\n",
            "\u001b[0;31mAttributeError\u001b[0m: 'Translator' object has no attribute 'raise_Exception'"
          ]
        }
      ]
    },
    {
      "cell_type": "code",
      "metadata": {
        "colab": {
          "base_uri": "https://localhost:8080/",
          "height": 316
        },
        "id": "0EJtdcZFvC5Q",
        "outputId": "674af31d-a68f-434b-b3b2-6474044a51b7"
      },
      "source": [
        "df_personal0[[\"transcripcion\",'c_english']]"
      ],
      "execution_count": 92,
      "outputs": [
        {
          "output_type": "error",
          "ename": "KeyError",
          "evalue": "ignored",
          "traceback": [
            "\u001b[0;31m---------------------------------------------------------------------------\u001b[0m",
            "\u001b[0;31mKeyError\u001b[0m                                  Traceback (most recent call last)",
            "\u001b[0;32m<ipython-input-92-5ded85d352b9>\u001b[0m in \u001b[0;36m<module>\u001b[0;34m()\u001b[0m\n\u001b[0;32m----> 1\u001b[0;31m \u001b[0mdf_personal0\u001b[0m\u001b[0;34m[\u001b[0m\u001b[0;34m[\u001b[0m\u001b[0;34m\"transcripcion\"\u001b[0m\u001b[0;34m,\u001b[0m\u001b[0;34m'c_english'\u001b[0m\u001b[0;34m]\u001b[0m\u001b[0;34m]\u001b[0m\u001b[0;34m\u001b[0m\u001b[0;34m\u001b[0m\u001b[0m\n\u001b[0m",
            "\u001b[0;32m/usr/local/lib/python3.7/dist-packages/pandas/core/frame.py\u001b[0m in \u001b[0;36m__getitem__\u001b[0;34m(self, key)\u001b[0m\n\u001b[1;32m   2910\u001b[0m             \u001b[0;32mif\u001b[0m \u001b[0mis_iterator\u001b[0m\u001b[0;34m(\u001b[0m\u001b[0mkey\u001b[0m\u001b[0;34m)\u001b[0m\u001b[0;34m:\u001b[0m\u001b[0;34m\u001b[0m\u001b[0;34m\u001b[0m\u001b[0m\n\u001b[1;32m   2911\u001b[0m                 \u001b[0mkey\u001b[0m \u001b[0;34m=\u001b[0m \u001b[0mlist\u001b[0m\u001b[0;34m(\u001b[0m\u001b[0mkey\u001b[0m\u001b[0;34m)\u001b[0m\u001b[0;34m\u001b[0m\u001b[0;34m\u001b[0m\u001b[0m\n\u001b[0;32m-> 2912\u001b[0;31m             \u001b[0mindexer\u001b[0m \u001b[0;34m=\u001b[0m \u001b[0mself\u001b[0m\u001b[0;34m.\u001b[0m\u001b[0mloc\u001b[0m\u001b[0;34m.\u001b[0m\u001b[0m_get_listlike_indexer\u001b[0m\u001b[0;34m(\u001b[0m\u001b[0mkey\u001b[0m\u001b[0;34m,\u001b[0m \u001b[0maxis\u001b[0m\u001b[0;34m=\u001b[0m\u001b[0;36m1\u001b[0m\u001b[0;34m,\u001b[0m \u001b[0mraise_missing\u001b[0m\u001b[0;34m=\u001b[0m\u001b[0;32mTrue\u001b[0m\u001b[0;34m)\u001b[0m\u001b[0;34m[\u001b[0m\u001b[0;36m1\u001b[0m\u001b[0;34m]\u001b[0m\u001b[0;34m\u001b[0m\u001b[0;34m\u001b[0m\u001b[0m\n\u001b[0m\u001b[1;32m   2913\u001b[0m \u001b[0;34m\u001b[0m\u001b[0m\n\u001b[1;32m   2914\u001b[0m         \u001b[0;31m# take() does not accept boolean indexers\u001b[0m\u001b[0;34m\u001b[0m\u001b[0;34m\u001b[0m\u001b[0;34m\u001b[0m\u001b[0m\n",
            "\u001b[0;32m/usr/local/lib/python3.7/dist-packages/pandas/core/indexing.py\u001b[0m in \u001b[0;36m_get_listlike_indexer\u001b[0;34m(self, key, axis, raise_missing)\u001b[0m\n\u001b[1;32m   1252\u001b[0m             \u001b[0mkeyarr\u001b[0m\u001b[0;34m,\u001b[0m \u001b[0mindexer\u001b[0m\u001b[0;34m,\u001b[0m \u001b[0mnew_indexer\u001b[0m \u001b[0;34m=\u001b[0m \u001b[0max\u001b[0m\u001b[0;34m.\u001b[0m\u001b[0m_reindex_non_unique\u001b[0m\u001b[0;34m(\u001b[0m\u001b[0mkeyarr\u001b[0m\u001b[0;34m)\u001b[0m\u001b[0;34m\u001b[0m\u001b[0;34m\u001b[0m\u001b[0m\n\u001b[1;32m   1253\u001b[0m \u001b[0;34m\u001b[0m\u001b[0m\n\u001b[0;32m-> 1254\u001b[0;31m         \u001b[0mself\u001b[0m\u001b[0;34m.\u001b[0m\u001b[0m_validate_read_indexer\u001b[0m\u001b[0;34m(\u001b[0m\u001b[0mkeyarr\u001b[0m\u001b[0;34m,\u001b[0m \u001b[0mindexer\u001b[0m\u001b[0;34m,\u001b[0m \u001b[0maxis\u001b[0m\u001b[0;34m,\u001b[0m \u001b[0mraise_missing\u001b[0m\u001b[0;34m=\u001b[0m\u001b[0mraise_missing\u001b[0m\u001b[0;34m)\u001b[0m\u001b[0;34m\u001b[0m\u001b[0;34m\u001b[0m\u001b[0m\n\u001b[0m\u001b[1;32m   1255\u001b[0m         \u001b[0;32mreturn\u001b[0m \u001b[0mkeyarr\u001b[0m\u001b[0;34m,\u001b[0m \u001b[0mindexer\u001b[0m\u001b[0;34m\u001b[0m\u001b[0;34m\u001b[0m\u001b[0m\n\u001b[1;32m   1256\u001b[0m \u001b[0;34m\u001b[0m\u001b[0m\n",
            "\u001b[0;32m/usr/local/lib/python3.7/dist-packages/pandas/core/indexing.py\u001b[0m in \u001b[0;36m_validate_read_indexer\u001b[0;34m(self, key, indexer, axis, raise_missing)\u001b[0m\n\u001b[1;32m   1302\u001b[0m             \u001b[0;32mif\u001b[0m \u001b[0mraise_missing\u001b[0m\u001b[0;34m:\u001b[0m\u001b[0;34m\u001b[0m\u001b[0;34m\u001b[0m\u001b[0m\n\u001b[1;32m   1303\u001b[0m                 \u001b[0mnot_found\u001b[0m \u001b[0;34m=\u001b[0m \u001b[0mlist\u001b[0m\u001b[0;34m(\u001b[0m\u001b[0mset\u001b[0m\u001b[0;34m(\u001b[0m\u001b[0mkey\u001b[0m\u001b[0;34m)\u001b[0m \u001b[0;34m-\u001b[0m \u001b[0mset\u001b[0m\u001b[0;34m(\u001b[0m\u001b[0max\u001b[0m\u001b[0;34m)\u001b[0m\u001b[0;34m)\u001b[0m\u001b[0;34m\u001b[0m\u001b[0;34m\u001b[0m\u001b[0m\n\u001b[0;32m-> 1304\u001b[0;31m                 \u001b[0;32mraise\u001b[0m \u001b[0mKeyError\u001b[0m\u001b[0;34m(\u001b[0m\u001b[0;34mf\"{not_found} not in index\"\u001b[0m\u001b[0;34m)\u001b[0m\u001b[0;34m\u001b[0m\u001b[0;34m\u001b[0m\u001b[0m\n\u001b[0m\u001b[1;32m   1305\u001b[0m \u001b[0;34m\u001b[0m\u001b[0m\n\u001b[1;32m   1306\u001b[0m             \u001b[0;31m# we skip the warning on Categorical\u001b[0m\u001b[0;34m\u001b[0m\u001b[0;34m\u001b[0m\u001b[0;34m\u001b[0m\u001b[0m\n",
            "\u001b[0;31mKeyError\u001b[0m: \"['c_english'] not in index\""
          ]
        }
      ]
    },
    {
      "cell_type": "markdown",
      "metadata": {
        "id": "NRBasvULwU1T"
      },
      "source": [
        "Cargamos el modelo previamente entrenado para la obtención de las emociones"
      ]
    },
    {
      "cell_type": "code",
      "metadata": {
        "id": "yDXAcPVCwF3C"
      },
      "source": [
        "#Cargar el modelo\r\n",
        "import keras\r\n",
        "model = keras.models.load_model('/content/drive/My Drive/data/ABPS/NPL_Ecopetrol/emotion_analysis/my_model_emotion.h5')\r\n",
        "#token = tf.keras.preprocessing.text.Tokenizer(num_words = None)"
      ],
      "execution_count": 96,
      "outputs": []
    },
    {
      "cell_type": "markdown",
      "metadata": {
        "id": "9l4HGhGawJh9"
      },
      "source": [
        "Calculamos los sentimientos para cada conversación, el resultado es un diccionario con los porcentajes asignados de cada emoción para el texto en particular."
      ]
    },
    {
      "cell_type": "code",
      "metadata": {
        "id": "Bl4XyxTl7CyN"
      },
      "source": [
        "df_personal0['c_english']"
      ],
      "execution_count": null,
      "outputs": []
    },
    {
      "cell_type": "code",
      "metadata": {
        "id": "-H6um8Jlgt1N"
      },
      "source": [
        "max_len = 1000 \n",
        "dic_sentiment={}\n",
        "for index, row in df_personal0.iterrows():\n",
        "  new_dic={}\n",
        "  result =get_sentiment(model,row['c_english'])\n",
        "  result=result.set_index('sentiment')\n",
        "  a=result.T.to_dict()\n",
        "  for sentiment, value in a.items():\n",
        "    new_dic[sentiment]=a[sentiment]['percentage']\n",
        "  dic_sentiment[index]=new_dic"
      ],
      "execution_count": null,
      "outputs": []
    },
    {
      "cell_type": "code",
      "metadata": {
        "id": "5ojJgSowwaL6"
      },
      "source": [
        "dic_sentiment"
      ],
      "execution_count": null,
      "outputs": []
    },
    {
      "cell_type": "markdown",
      "metadata": {
        "id": "6KQpNQkawdPS"
      },
      "source": [
        "Realizamos la creación de una lista que va almacenando los resultados por sentimiento de cada una de las conversaciones, esto lo hacemos para hacer una ponderación después y obtener resultados globales de las emociones de los usuarios."
      ]
    },
    {
      "cell_type": "code",
      "metadata": {
        "id": "ZkziRODBgttK"
      },
      "source": [
        "anger=[]\n",
        "boredom=[]\n",
        "empty=[]\n",
        "fun=[]\n",
        "happiness=[]\n",
        "relief=[]\n",
        "neutral=[]\n",
        "worry=[]\n",
        "love=[]\n",
        "sadness=[]\n",
        "surprise=[]\n",
        "hate=[]\n",
        "enthusiasm=[]\n",
        "fear=[]\n",
        "joy=[]\n",
        "for name, value in dic_sentiment.items():\n",
        "  for n, v in value.items():\n",
        "    if n=='anger':\n",
        "      anger.append(v)\n",
        "    if n=='boredom':\n",
        "      boredom.append(v)\n",
        "    if n=='empty':\n",
        "      empty.append(v)\n",
        "    if n=='fun':\n",
        "      fun.append(v)\n",
        "    if n=='happiness':\n",
        "      happiness.append(v)\n",
        "    if n=='relief':\n",
        "      relief.append(v)\n",
        "    if n=='neutral':\n",
        "      neutral.append(v)\n",
        "    if n=='worry':\n",
        "      worry.append(v)\n",
        "    if n=='love':\n",
        "      love.append(v)\n",
        "    if n=='sadness':\n",
        "      sadness.append(v)\n",
        "    if n=='surprise':\n",
        "      surprise.append(v)\n",
        "    if n=='hate':\n",
        "      hate.append(v)\n",
        "    if n=='enthusiasm':\n",
        "      enthusiasm.append(v)\n",
        "    if n=='joy':\n",
        "      joy.append(v)\n",
        "    if n=='fear':\n",
        "      fear.append(v)\n"
      ],
      "execution_count": null,
      "outputs": []
    },
    {
      "cell_type": "code",
      "metadata": {
        "id": "jw9MAU5zhEvg"
      },
      "source": [
        "df=df_personal0\n",
        "sentiment=['enojo','desinterés','vacio','diversión','felicidad','alivio','neutral','preocupación','amor','incertidumbre','sorpresa','odio','entusiasmo', 'miedo', 'disfrute']\n",
        "percentage=[sum(anger)/len(df),sum(boredom)/len(df),sum(empty)/len(df), sum(fun)/len(df), sum(happiness)/len(df), sum(relief)/len(df), sum(neutral)/len(df), sum(worry)/len(df), sum(love)/len(df),sum(sadness)/len(df), sum(surprise)/len(df), sum(hate)/len(df), sum(enthusiasm)/len(df), sum(fear)/len(df), sum(joy)/len(df)]\n",
        "results=pd.DataFrame(sentiment)\n",
        "results=results.rename(columns={0:'sentiment'})\n",
        "results['percentage']=percentage"
      ],
      "execution_count": null,
      "outputs": []
    },
    {
      "cell_type": "code",
      "metadata": {
        "id": "U048H2Jej9RI"
      },
      "source": [
        "plot_result(results,'Campaña: Salud')"
      ],
      "execution_count": null,
      "outputs": []
    },
    {
      "cell_type": "markdown",
      "metadata": {
        "id": "Wz7jk34zwiJq"
      },
      "source": [
        "Para poder hacer la gráfica de sentimientos en versión polar debemos estandarizar todos los valores y esto lo hacemos con la función de MinMaxScaler()"
      ]
    },
    {
      "cell_type": "code",
      "metadata": {
        "id": "aZiHP0QyuWpn"
      },
      "source": [
        "#Dataframe de sentimientos\n",
        "result=results\n",
        "result=result.rename(columns={'sentiment':'sentimiento','percentage':'porcentaje'})\n",
        "#result=pd.DataFrame()\n",
        "#result['sentimiento']=['tristeza','disfrute','amor','enojo','preocupación','alivio','miedo','sorpresa','felicidad','neutral','vacio','diversión','odio','desinterés', 'entusiasmo']\n",
        "#result['porcentaje']=[28.88, 26.84,9.22, 8.71, 5.32, 3.96, 3.60,2.46,3.58, 1.99,1.69,1.07,.76,0.67,0.57]\n",
        "#Para dibujar los sentimientos de forma polar\n",
        "result=result.set_index('sentimiento')\n",
        "df_scaled = pd.DataFrame(MinMaxScaler().fit_transform(result), columns=result.columns)\n",
        "result.reset_index(inplace=True)\n",
        "result=result['sentimiento']\n",
        "df_scaled=df_scaled.merge(result, how='inner', on=result.index)\n",
        "df_scaled_salud=df_scaled\n",
        "fig=px.line_polar(df_scaled, \n",
        "              r=\"porcentaje\", \n",
        "              theta=\"sentimiento\", \n",
        "              title='Distribución de las emociones de los usuarios en las conversaciones de: Salud',\n",
        "              #color=\"darkgreen\", \n",
        "              line_close=True,\n",
        "              line_shape='spline',\n",
        "              range_r=[0, 1],\n",
        "              color_discrete_sequence=[\"darkgreen\",\"gold\"])\n",
        "              #color_discrete_sequence=px.colors.qualitative.G10)\n",
        "fig.write_html(\"salud_polar_usuario_.html\")"
      ],
      "execution_count": null,
      "outputs": []
    },
    {
      "cell_type": "markdown",
      "metadata": {
        "id": "EAR5_fV6xA6B"
      },
      "source": [
        "<b><font color=orange size=5> Analisis de sentimientos</font></b>"
      ]
    },
    {
      "cell_type": "code",
      "metadata": {
        "id": "fmgXm35stEIh"
      },
      "source": [
        "df_personal0=df_salud"
      ],
      "execution_count": 97,
      "outputs": []
    },
    {
      "cell_type": "code",
      "metadata": {
        "id": "Ma1_XOd7xB1m",
        "colab": {
          "base_uri": "https://localhost:8080/",
          "height": 577
        },
        "outputId": "683aa8f7-dd4d-40b4-9a1b-404830820025"
      },
      "source": [
        "%%time\n",
        "#Seleccion de los datos\n",
        "segmento='Experiencia general del cliente en la campaña: Salud'\n",
        "df_personal=df_personal0\n",
        "df_personal=df_personal.rename(columns={'client':'transcripcion'})\n",
        "\n",
        "# Normalizacion de valores perdidos\n",
        "df_personal['transcripcion'] = df_personal['transcripcion'].apply(lambda x: '' if ((len(str(x)) == 3) & ((str(x) == 'NAN') | (str(x) == 'nan'))) | ((len(str(x)) == 4) & ((str(x) == 'NONE') | (str(x) == 'none') | (str(x) == 'None'))) else x)\n",
        "\n",
        "# Aplicacion analisis de polaridad\n",
        "#df_personal['polaridad_cliente'] = df_personal['transcripcion'].apply(lambda x: sentiment.sentiment(x))\n",
        "df_personal['polaridad_cliente'] = df_personal['transcripcion'].apply(polaridad)\n",
        "\n",
        "# Persistencia\n",
        "# dfgral.to_parquet(rt1 + 'operativo_sentiment.parquet')\n",
        "\n",
        "#Asignacion del sentimiento\n",
        "df_personal['sentimiento_cliente'] = df_personal['polaridad_cliente'].apply(lambda x:'Negativos' if x<=0.001 else('Positivos' if x>=0.08 else 'Neutrales'))\n",
        "df=df_personal\n",
        "names = 'Negativos', 'Positivos', 'Neutrales'\n",
        "\n",
        "b = len(df[df.sentimiento_cliente=='Positivos'])\n",
        "a = len(df[df.sentimiento_cliente=='Negativos'])\n",
        "c = len(df[df.sentimiento_cliente=='Neutrales'])\n",
        "\n",
        "sizes=[a, b, c]\n",
        "\n",
        "df0=pd.DataFrame()\n",
        "df0['experiencia']=[ 'Negativos', 'Positivos', 'Neutrales']\n",
        "df0['cantidad']=sizes\n",
        "\n",
        "fig = px.pie(df0, values='cantidad', names='experiencia',hole=0.5,title=segmento,color_discrete_sequence=[\"darkgreen\",\"gold\",\"yellowgreen\"])\n",
        "fig.show()\n",
        "fig.write_html(segmento+\"_polaridad.html\")"
      ],
      "execution_count": 98,
      "outputs": [
        {
          "output_type": "display_data",
          "data": {
            "text/html": [
              "<html>\n",
              "<head><meta charset=\"utf-8\" /></head>\n",
              "<body>\n",
              "    <div>\n",
              "            <script src=\"https://cdnjs.cloudflare.com/ajax/libs/mathjax/2.7.5/MathJax.js?config=TeX-AMS-MML_SVG\"></script><script type=\"text/javascript\">if (window.MathJax) {MathJax.Hub.Config({SVG: {font: \"STIX-Web\"}});}</script>\n",
              "                <script type=\"text/javascript\">window.PlotlyConfig = {MathJaxConfig: 'local'};</script>\n",
              "        <script src=\"https://cdn.plot.ly/plotly-latest.min.js\"></script>    \n",
              "            <div id=\"429fdbf3-0f00-4ea0-ba3b-e480746d7b74\" class=\"plotly-graph-div\" style=\"height:525px; width:100%;\"></div>\n",
              "            <script type=\"text/javascript\">\n",
              "                \n",
              "                    window.PLOTLYENV=window.PLOTLYENV || {};\n",
              "                    \n",
              "                if (document.getElementById(\"429fdbf3-0f00-4ea0-ba3b-e480746d7b74\")) {\n",
              "                    Plotly.newPlot(\n",
              "                        '429fdbf3-0f00-4ea0-ba3b-e480746d7b74',\n",
              "                        [{\"domain\": {\"x\": [0.0, 1.0], \"y\": [0.0, 1.0]}, \"hole\": 0.5, \"hoverlabel\": {\"namelength\": 0}, \"hovertemplate\": \"experiencia=%{label}<br>cantidad=%{value}\", \"labels\": [\"Negativos\", \"Positivos\", \"Neutrales\"], \"legendgroup\": \"\", \"name\": \"\", \"showlegend\": true, \"type\": \"pie\", \"values\": [30, 223, 224]}],\n",
              "                        {\"legend\": {\"tracegroupgap\": 0}, \"piecolorway\": [\"darkgreen\", \"gold\", \"yellowgreen\"], \"template\": {\"data\": {\"bar\": [{\"error_x\": {\"color\": \"#2a3f5f\"}, \"error_y\": {\"color\": \"#2a3f5f\"}, \"marker\": {\"line\": {\"color\": \"#E5ECF6\", \"width\": 0.5}}, \"type\": \"bar\"}], \"barpolar\": [{\"marker\": {\"line\": {\"color\": \"#E5ECF6\", \"width\": 0.5}}, \"type\": \"barpolar\"}], \"carpet\": [{\"aaxis\": {\"endlinecolor\": \"#2a3f5f\", \"gridcolor\": \"white\", \"linecolor\": \"white\", \"minorgridcolor\": \"white\", \"startlinecolor\": \"#2a3f5f\"}, \"baxis\": {\"endlinecolor\": \"#2a3f5f\", \"gridcolor\": \"white\", \"linecolor\": \"white\", \"minorgridcolor\": \"white\", \"startlinecolor\": \"#2a3f5f\"}, \"type\": \"carpet\"}], \"choropleth\": [{\"colorbar\": {\"outlinewidth\": 0, \"ticks\": \"\"}, \"type\": \"choropleth\"}], \"contour\": [{\"colorbar\": {\"outlinewidth\": 0, \"ticks\": \"\"}, \"colorscale\": [[0.0, \"#0d0887\"], [0.1111111111111111, \"#46039f\"], [0.2222222222222222, \"#7201a8\"], [0.3333333333333333, \"#9c179e\"], [0.4444444444444444, \"#bd3786\"], [0.5555555555555556, \"#d8576b\"], [0.6666666666666666, \"#ed7953\"], [0.7777777777777778, \"#fb9f3a\"], [0.8888888888888888, \"#fdca26\"], [1.0, \"#f0f921\"]], \"type\": \"contour\"}], \"contourcarpet\": [{\"colorbar\": {\"outlinewidth\": 0, \"ticks\": \"\"}, \"type\": \"contourcarpet\"}], \"heatmap\": [{\"colorbar\": {\"outlinewidth\": 0, \"ticks\": \"\"}, \"colorscale\": [[0.0, \"#0d0887\"], [0.1111111111111111, \"#46039f\"], [0.2222222222222222, \"#7201a8\"], [0.3333333333333333, \"#9c179e\"], [0.4444444444444444, \"#bd3786\"], [0.5555555555555556, \"#d8576b\"], [0.6666666666666666, \"#ed7953\"], [0.7777777777777778, \"#fb9f3a\"], [0.8888888888888888, \"#fdca26\"], [1.0, \"#f0f921\"]], \"type\": \"heatmap\"}], \"heatmapgl\": [{\"colorbar\": {\"outlinewidth\": 0, \"ticks\": \"\"}, \"colorscale\": [[0.0, \"#0d0887\"], [0.1111111111111111, \"#46039f\"], [0.2222222222222222, \"#7201a8\"], [0.3333333333333333, \"#9c179e\"], [0.4444444444444444, \"#bd3786\"], [0.5555555555555556, \"#d8576b\"], [0.6666666666666666, \"#ed7953\"], [0.7777777777777778, \"#fb9f3a\"], [0.8888888888888888, \"#fdca26\"], [1.0, \"#f0f921\"]], \"type\": \"heatmapgl\"}], \"histogram\": [{\"marker\": {\"colorbar\": {\"outlinewidth\": 0, \"ticks\": \"\"}}, \"type\": \"histogram\"}], \"histogram2d\": [{\"colorbar\": {\"outlinewidth\": 0, \"ticks\": \"\"}, \"colorscale\": [[0.0, \"#0d0887\"], [0.1111111111111111, \"#46039f\"], [0.2222222222222222, \"#7201a8\"], [0.3333333333333333, \"#9c179e\"], [0.4444444444444444, \"#bd3786\"], [0.5555555555555556, \"#d8576b\"], [0.6666666666666666, \"#ed7953\"], [0.7777777777777778, \"#fb9f3a\"], [0.8888888888888888, \"#fdca26\"], [1.0, \"#f0f921\"]], \"type\": \"histogram2d\"}], \"histogram2dcontour\": [{\"colorbar\": {\"outlinewidth\": 0, \"ticks\": \"\"}, \"colorscale\": [[0.0, \"#0d0887\"], [0.1111111111111111, \"#46039f\"], [0.2222222222222222, \"#7201a8\"], [0.3333333333333333, \"#9c179e\"], [0.4444444444444444, \"#bd3786\"], [0.5555555555555556, \"#d8576b\"], [0.6666666666666666, \"#ed7953\"], [0.7777777777777778, \"#fb9f3a\"], [0.8888888888888888, \"#fdca26\"], [1.0, \"#f0f921\"]], \"type\": \"histogram2dcontour\"}], \"mesh3d\": [{\"colorbar\": {\"outlinewidth\": 0, \"ticks\": \"\"}, \"type\": \"mesh3d\"}], \"parcoords\": [{\"line\": {\"colorbar\": {\"outlinewidth\": 0, \"ticks\": \"\"}}, \"type\": \"parcoords\"}], \"pie\": [{\"automargin\": true, \"type\": \"pie\"}], \"scatter\": [{\"marker\": {\"colorbar\": {\"outlinewidth\": 0, \"ticks\": \"\"}}, \"type\": \"scatter\"}], \"scatter3d\": [{\"line\": {\"colorbar\": {\"outlinewidth\": 0, \"ticks\": \"\"}}, \"marker\": {\"colorbar\": {\"outlinewidth\": 0, \"ticks\": \"\"}}, \"type\": \"scatter3d\"}], \"scattercarpet\": [{\"marker\": {\"colorbar\": {\"outlinewidth\": 0, \"ticks\": \"\"}}, \"type\": \"scattercarpet\"}], \"scattergeo\": [{\"marker\": {\"colorbar\": {\"outlinewidth\": 0, \"ticks\": \"\"}}, \"type\": \"scattergeo\"}], \"scattergl\": [{\"marker\": {\"colorbar\": {\"outlinewidth\": 0, \"ticks\": \"\"}}, \"type\": \"scattergl\"}], \"scattermapbox\": [{\"marker\": {\"colorbar\": {\"outlinewidth\": 0, \"ticks\": \"\"}}, \"type\": \"scattermapbox\"}], \"scatterpolar\": [{\"marker\": {\"colorbar\": {\"outlinewidth\": 0, \"ticks\": \"\"}}, \"type\": \"scatterpolar\"}], \"scatterpolargl\": [{\"marker\": {\"colorbar\": {\"outlinewidth\": 0, \"ticks\": \"\"}}, \"type\": \"scatterpolargl\"}], \"scatterternary\": [{\"marker\": {\"colorbar\": {\"outlinewidth\": 0, \"ticks\": \"\"}}, \"type\": \"scatterternary\"}], \"surface\": [{\"colorbar\": {\"outlinewidth\": 0, \"ticks\": \"\"}, \"colorscale\": [[0.0, \"#0d0887\"], [0.1111111111111111, \"#46039f\"], [0.2222222222222222, \"#7201a8\"], [0.3333333333333333, \"#9c179e\"], [0.4444444444444444, \"#bd3786\"], [0.5555555555555556, \"#d8576b\"], [0.6666666666666666, \"#ed7953\"], [0.7777777777777778, \"#fb9f3a\"], [0.8888888888888888, \"#fdca26\"], [1.0, \"#f0f921\"]], \"type\": \"surface\"}], \"table\": [{\"cells\": {\"fill\": {\"color\": \"#EBF0F8\"}, \"line\": {\"color\": \"white\"}}, \"header\": {\"fill\": {\"color\": \"#C8D4E3\"}, \"line\": {\"color\": \"white\"}}, \"type\": \"table\"}]}, \"layout\": {\"annotationdefaults\": {\"arrowcolor\": \"#2a3f5f\", \"arrowhead\": 0, \"arrowwidth\": 1}, \"coloraxis\": {\"colorbar\": {\"outlinewidth\": 0, \"ticks\": \"\"}}, \"colorscale\": {\"diverging\": [[0, \"#8e0152\"], [0.1, \"#c51b7d\"], [0.2, \"#de77ae\"], [0.3, \"#f1b6da\"], [0.4, \"#fde0ef\"], [0.5, \"#f7f7f7\"], [0.6, \"#e6f5d0\"], [0.7, \"#b8e186\"], [0.8, \"#7fbc41\"], [0.9, \"#4d9221\"], [1, \"#276419\"]], \"sequential\": [[0.0, \"#0d0887\"], [0.1111111111111111, \"#46039f\"], [0.2222222222222222, \"#7201a8\"], [0.3333333333333333, \"#9c179e\"], [0.4444444444444444, \"#bd3786\"], [0.5555555555555556, \"#d8576b\"], [0.6666666666666666, \"#ed7953\"], [0.7777777777777778, \"#fb9f3a\"], [0.8888888888888888, \"#fdca26\"], [1.0, \"#f0f921\"]], \"sequentialminus\": [[0.0, \"#0d0887\"], [0.1111111111111111, \"#46039f\"], [0.2222222222222222, \"#7201a8\"], [0.3333333333333333, \"#9c179e\"], [0.4444444444444444, \"#bd3786\"], [0.5555555555555556, \"#d8576b\"], [0.6666666666666666, \"#ed7953\"], [0.7777777777777778, \"#fb9f3a\"], [0.8888888888888888, \"#fdca26\"], [1.0, \"#f0f921\"]]}, \"colorway\": [\"#636efa\", \"#EF553B\", \"#00cc96\", \"#ab63fa\", \"#FFA15A\", \"#19d3f3\", \"#FF6692\", \"#B6E880\", \"#FF97FF\", \"#FECB52\"], \"font\": {\"color\": \"#2a3f5f\"}, \"geo\": {\"bgcolor\": \"white\", \"lakecolor\": \"white\", \"landcolor\": \"#E5ECF6\", \"showlakes\": true, \"showland\": true, \"subunitcolor\": \"white\"}, \"hoverlabel\": {\"align\": \"left\"}, \"hovermode\": \"closest\", \"mapbox\": {\"style\": \"light\"}, \"paper_bgcolor\": \"white\", \"plot_bgcolor\": \"#E5ECF6\", \"polar\": {\"angularaxis\": {\"gridcolor\": \"white\", \"linecolor\": \"white\", \"ticks\": \"\"}, \"bgcolor\": \"#E5ECF6\", \"radialaxis\": {\"gridcolor\": \"white\", \"linecolor\": \"white\", \"ticks\": \"\"}}, \"scene\": {\"xaxis\": {\"backgroundcolor\": \"#E5ECF6\", \"gridcolor\": \"white\", \"gridwidth\": 2, \"linecolor\": \"white\", \"showbackground\": true, \"ticks\": \"\", \"zerolinecolor\": \"white\"}, \"yaxis\": {\"backgroundcolor\": \"#E5ECF6\", \"gridcolor\": \"white\", \"gridwidth\": 2, \"linecolor\": \"white\", \"showbackground\": true, \"ticks\": \"\", \"zerolinecolor\": \"white\"}, \"zaxis\": {\"backgroundcolor\": \"#E5ECF6\", \"gridcolor\": \"white\", \"gridwidth\": 2, \"linecolor\": \"white\", \"showbackground\": true, \"ticks\": \"\", \"zerolinecolor\": \"white\"}}, \"shapedefaults\": {\"line\": {\"color\": \"#2a3f5f\"}}, \"ternary\": {\"aaxis\": {\"gridcolor\": \"white\", \"linecolor\": \"white\", \"ticks\": \"\"}, \"baxis\": {\"gridcolor\": \"white\", \"linecolor\": \"white\", \"ticks\": \"\"}, \"bgcolor\": \"#E5ECF6\", \"caxis\": {\"gridcolor\": \"white\", \"linecolor\": \"white\", \"ticks\": \"\"}}, \"title\": {\"x\": 0.05}, \"xaxis\": {\"automargin\": true, \"gridcolor\": \"white\", \"linecolor\": \"white\", \"ticks\": \"\", \"title\": {\"standoff\": 15}, \"zerolinecolor\": \"white\", \"zerolinewidth\": 2}, \"yaxis\": {\"automargin\": true, \"gridcolor\": \"white\", \"linecolor\": \"white\", \"ticks\": \"\", \"title\": {\"standoff\": 15}, \"zerolinecolor\": \"white\", \"zerolinewidth\": 2}}}, \"title\": {\"text\": \"Experiencia general del cliente en la campa\\u00f1a: Salud\"}},\n",
              "                        {\"responsive\": true}\n",
              "                    ).then(function(){\n",
              "                            \n",
              "var gd = document.getElementById('429fdbf3-0f00-4ea0-ba3b-e480746d7b74');\n",
              "var x = new MutationObserver(function (mutations, observer) {{\n",
              "        var display = window.getComputedStyle(gd).display;\n",
              "        if (!display || display === 'none') {{\n",
              "            console.log([gd, 'removed!']);\n",
              "            Plotly.purge(gd);\n",
              "            observer.disconnect();\n",
              "        }}\n",
              "}});\n",
              "\n",
              "// Listen for the removal of the full notebook cells\n",
              "var notebookContainer = gd.closest('#notebook-container');\n",
              "if (notebookContainer) {{\n",
              "    x.observe(notebookContainer, {childList: true});\n",
              "}}\n",
              "\n",
              "// Listen for the clearing of the current output cell\n",
              "var outputEl = gd.closest('.output');\n",
              "if (outputEl) {{\n",
              "    x.observe(outputEl, {childList: true});\n",
              "}}\n",
              "\n",
              "                        })\n",
              "                };\n",
              "                \n",
              "            </script>\n",
              "        </div>\n",
              "</body>\n",
              "</html>"
            ]
          },
          "metadata": {
            "tags": []
          }
        },
        {
          "output_type": "stream",
          "text": [
            "CPU times: user 33.8 s, sys: 332 ms, total: 34.2 s\n",
            "Wall time: 34.9 s\n"
          ],
          "name": "stdout"
        }
      ]
    },
    {
      "cell_type": "markdown",
      "metadata": {
        "id": "LNw_LftDM67D"
      },
      "source": [
        "# Colocaciones"
      ]
    },
    {
      "cell_type": "code",
      "metadata": {
        "id": "cEJj4BbgM-xg"
      },
      "source": [
        "import nltk \r\n",
        "from nltk.collocations import *\r\n",
        "bigram_measures = nltk.collocations.BigramAssocMeasures()"
      ],
      "execution_count": 99,
      "outputs": []
    },
    {
      "cell_type": "markdown",
      "metadata": {
        "id": "_M2oExoGC_Zt"
      },
      "source": [
        "**Usuarios**"
      ]
    },
    {
      "cell_type": "code",
      "metadata": {
        "colab": {
          "base_uri": "https://localhost:8080/"
        },
        "id": "qcomkdowNe_3",
        "outputId": "88cee4fd-2d06-49bb-89a5-fc6c6e15518e"
      },
      "source": [
        "lista_mensajeuser = [w for w in df_salud['transcripcion']]\r\n",
        "long_string  = ' '.join(lista_mensajeuser)\r\n",
        "text = long_string.split(sep = \" \")\r\n",
        "text = [w  for w in text if w not in lista_stop_words]\r\n",
        "finder = BigramCollocationFinder.from_words(text)\r\n",
        "finder.apply_freq_filter(5)\r\n",
        "finder.nbest(bigram_measures.pmi, 100)"
      ],
      "execution_count": 100,
      "outputs": [
        {
          "output_type": "execute_result",
          "data": {
            "text/plain": [
              "[('derechos', 'usuario'),\n",
              " ('oficina', 'virtual'),\n",
              " ('tratar', 'comunicarme'),\n",
              " ('verificar', 'derechos'),\n",
              " ('codigo', 'inicial'),\n",
              " ('derechos', 'paciente'),\n",
              " ('codigo', 'urgencia'),\n",
              " ('llamar', 'llamar')]"
            ]
          },
          "metadata": {
            "tags": []
          },
          "execution_count": 100
        }
      ]
    },
    {
      "cell_type": "markdown",
      "metadata": {
        "id": "SMUnaylaD0t9"
      },
      "source": [
        "**Agentes**"
      ]
    },
    {
      "cell_type": "code",
      "metadata": {
        "colab": {
          "base_uri": "https://localhost:8080/"
        },
        "id": "839lHOrKDIpU",
        "outputId": "1666db94-b29d-48df-d8eb-77a9cfcf117a"
      },
      "source": [
        "df_salud_agent=df_agent[df_agent['Linea']=='Salud']\r\n",
        "lista_mensajeuser = [w for w in df_salud_agent['transcripcion']]\r\n",
        "long_string  = ' '.join(lista_mensajeuser)\r\n",
        "text = long_string.split(sep = \" \")\r\n",
        "text = [w  for w in text if w not in lista_stop_words]\r\n",
        "finder = BigramCollocationFinder.from_words(text)\r\n",
        "finder.apply_freq_filter(10)\r\n",
        "finder.nbest(bigram_measures.pmi, 100)"
      ],
      "execution_count": 101,
      "outputs": [
        {
          "output_type": "execute_result",
          "data": {
            "text/plain": [
              "[('participación', 'ciudadana'),\n",
              " ('próxima', 'oportunidad'),\n",
              " ('historia', 'clínica'),\n",
              " ('opciones', 'menú'),\n",
              " ('recursos', 'humanos'),\n",
              " ('recuerde', 'habló'),\n",
              " ('cédula', 'ciudadanía'),\n",
              " ('humanos', 'compañía'),\n",
              " ('invitó', 'calificar'),\n",
              " ('oficina', 'virtual'),\n",
              " ('ningún', 'inconveniente'),\n",
              " ('registro', 'llamadas'),\n",
              " ('haberse', 'comunicado'),\n",
              " ('úno', 'úno'),\n",
              " ('teléfono', 'celular'),\n",
              " ('lunes', 'mañana'),\n",
              " ('queda', 'registrada'),\n",
              " ('condesa', 'colaborar'),\n",
              " ('regreso', 'nuevamente'),\n",
              " ('activa', 'vigentes'),\n",
              " ('días', 'hábiles'),\n",
              " ('documento', 'identidad'),\n",
              " ('calificar', 'encuesta'),\n",
              " ('minutos', 'regreso'),\n",
              " ('vigentes', 'indefinida'),\n",
              " ('comunicada', 'encuesta'),\n",
              " ('atención', 'urgencias'),\n",
              " ('activos', 'indefinida'),\n",
              " ('ciudad', 'barranquilla'),\n",
              " ('queda', 'registrado'),\n",
              " ('área', 'correspondiente'),\n",
              " ('días', 'bienvenidos'),\n",
              " ('área', 'recursos'),\n",
              " ('atención', 'urgencia'),\n",
              " ('área', 'encargada'),\n",
              " ('actualización', 'datos'),\n",
              " ('quién', 'hablar'),\n",
              " ('confirmación', 'vigentes'),\n",
              " ('barranquilla', 'código'),\n",
              " ('hablantes', 'quién'),\n",
              " ('registro', 'llamada'),\n",
              " ('ciudad', 'bucaramanga'),\n",
              " ('datos', 'contacto'),\n",
              " ('puedan', 'colaborar'),\n",
              " ('código', 'atención'),\n",
              " ('médicos', 'disponibles'),\n",
              " ('permítame', 'minutos'),\n",
              " ('rodríguez', 'quién'),\n",
              " ('ciudad', 'bogotá'),\n",
              " ('realizar', 'solicitud'),\n",
              " ('indefinida', 'ciudad'),\n",
              " ('indefinida', 'código'),\n",
              " ('permanezca', 'línea'),\n",
              " ('excelente', 'día'),\n",
              " ('llamada', 'queda'),\n",
              " ('hablar', 'colaborar'),\n",
              " ('llamar', 'línea'),\n",
              " ('número', 'telefónico'),\n",
              " ('sistema', 'registra'),\n",
              " ('sistemas', 'información'),\n",
              " ('comunicado', 'área'),\n",
              " ('quién', 'ayudar'),\n",
              " ('espera', 'confirma'),\n",
              " ('registra', 'vigentes'),\n",
              " ('espera', 'confirmó'),\n",
              " ('espera', 'confirmo'),\n",
              " ('número', 'documento'),\n",
              " ('código', 'llamada'),\n",
              " ('línea', 'control'),\n",
              " ('completo', 'paciente'),\n",
              " ('comunicado', 'línea'),\n",
              " ('indíqueme', 'número'),\n",
              " ('documento', 'paciente'),\n",
              " ('número', 'confirmación'),\n",
              " ('registrado', 'número'),\n",
              " ('confirmo', 'código'),\n",
              " ('quién', 'indíqueme'),\n",
              " ('', 'bienvenida'),\n",
              " ('comentó', 'paciente'),\n",
              " ('encuesta', ''),\n",
              " ('ayudar', 'día'),\n",
              " ('médicos', 'ciudad'),\n",
              " ('registrada', 'número'),\n",
              " ('día', 'mañana'),\n",
              " ('colaborar', 'día'),\n",
              " ('minutos', 'línea'),\n",
              " ('encuestas', ''),\n",
              " ('línea', 'rodríguez'),\n",
              " ('espera', 'línea'),\n",
              " ('', 'días'),\n",
              " ('indica', 'documento'),\n",
              " ('indica', 'número'),\n",
              " ('permítame', 'confirmo'),\n",
              " ('número', 'veintidós'),\n",
              " ('indefinida', 'médicos'),\n",
              " ('médicos', 'indefinida'),\n",
              " ('médicos', 'paciente'),\n",
              " ('confirmo', 'médicos'),\n",
              " ('paciente', 'confirma'),\n",
              " ('confirma', 'permítame')]"
            ]
          },
          "metadata": {
            "tags": []
          },
          "execution_count": 101
        }
      ]
    }
  ]
}