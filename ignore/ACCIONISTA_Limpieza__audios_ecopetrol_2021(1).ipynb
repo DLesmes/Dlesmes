{
  "nbformat": 4,
  "nbformat_minor": 0,
  "metadata": {
    "colab": {
      "name": "ACCIONISTA_Limpieza__audios_ecopetrol_2021.ipynb",
      "provenance": [],
      "collapsed_sections": []
    },
    "kernelspec": {
      "display_name": "Python 3",
      "language": "python",
      "name": "python3"
    },
    "language_info": {
      "codemirror_mode": {
        "name": "ipython",
        "version": 3
      },
      "file_extension": ".py",
      "mimetype": "text/x-python",
      "name": "python",
      "nbconvert_exporter": "python",
      "pygments_lexer": "ipython3",
      "version": "3.8.3"
    }
  },
  "cells": [
    {
      "cell_type": "code",
      "metadata": {
        "id": "1g6nGNwVJJVe",
        "colab": {
          "base_uri": "https://localhost:8080/"
        },
        "outputId": "47b193b4-d3f2-4cce-97ad-e7d3f4fd2f0c"
      },
      "source": [
        "from google.colab import drive\n",
        "drive.mount('/content/drive')"
      ],
      "execution_count": 1,
      "outputs": [
        {
          "output_type": "stream",
          "text": [
            "Mounted at /content/drive\n"
          ],
          "name": "stdout"
        }
      ]
    },
    {
      "cell_type": "markdown",
      "metadata": {
        "id": "WQ7XO6sbaRPM"
      },
      "source": [
        "**Instalación de las librerías necesarias para el proceso**"
      ]
    },
    {
      "cell_type": "code",
      "metadata": {
        "id": "71Aj2Sh4gvlw",
        "colab": {
          "base_uri": "https://localhost:8080/"
        },
        "outputId": "078c9327-4dc3-46bc-a4ee-40b43395b914"
      },
      "source": [
        "# @title Intalación de paquetes adicionales necesarios\n",
        "!pip install pyLDAvis==2.1.2\n",
        "!pip install gensim\n",
        "# muy costoso computacionalmente, tarda bastante, te recomiendo usar AWS\n",
        "!pip install pyspellchecker\n",
        "# NEUTRAL, POSIITIVA, NEGATIVA\n",
        "!pip install spanish-sentiment-analysis\n",
        "!pip install sentiment-analysis-spanish\n",
        "!pip install keras tensorflow\n",
        "# Necesaria para el proceso de traducción VERSION FREE 15000 CARACTARES\n",
        "#!pip install googletrans\n",
        "#!pip install googletrans==3.1.0a0\n",
        "!pip install googletrans==4.0.0-rc1\n",
        "\n",
        "# Para eliminar posibles emojis\n",
        "!pip install emoji\n",
        "# Para procesar texto de manera rápida con tensorflow\n",
        "!pip install tweet-preprocessor"
      ],
      "execution_count": 2,
      "outputs": [
        {
          "output_type": "stream",
          "text": [
            "Collecting pyLDAvis==2.1.2\n",
            "\u001b[?25l  Downloading https://files.pythonhosted.org/packages/a5/3a/af82e070a8a96e13217c8f362f9a73e82d61ac8fff3a2561946a97f96266/pyLDAvis-2.1.2.tar.gz (1.6MB)\n",
            "\u001b[K     |████████████████████████████████| 1.6MB 5.2MB/s \n",
            "\u001b[?25hRequirement already satisfied: wheel>=0.23.0 in /usr/local/lib/python3.7/dist-packages (from pyLDAvis==2.1.2) (0.36.2)\n",
            "Requirement already satisfied: numpy>=1.9.2 in /usr/local/lib/python3.7/dist-packages (from pyLDAvis==2.1.2) (1.19.5)\n",
            "Requirement already satisfied: scipy>=0.18.0 in /usr/local/lib/python3.7/dist-packages (from pyLDAvis==2.1.2) (1.4.1)\n",
            "Requirement already satisfied: pandas>=0.17.0 in /usr/local/lib/python3.7/dist-packages (from pyLDAvis==2.1.2) (1.1.5)\n",
            "Requirement already satisfied: joblib>=0.8.4 in /usr/local/lib/python3.7/dist-packages (from pyLDAvis==2.1.2) (1.0.1)\n",
            "Requirement already satisfied: jinja2>=2.7.2 in /usr/local/lib/python3.7/dist-packages (from pyLDAvis==2.1.2) (2.11.3)\n",
            "Requirement already satisfied: numexpr in /usr/local/lib/python3.7/dist-packages (from pyLDAvis==2.1.2) (2.7.2)\n",
            "Requirement already satisfied: pytest in /usr/local/lib/python3.7/dist-packages (from pyLDAvis==2.1.2) (3.6.4)\n",
            "Requirement already satisfied: future in /usr/local/lib/python3.7/dist-packages (from pyLDAvis==2.1.2) (0.16.0)\n",
            "Collecting funcy\n",
            "  Downloading https://files.pythonhosted.org/packages/66/89/479de0afbbfb98d1c4b887936808764627300208bb771fcd823403645a36/funcy-1.15-py2.py3-none-any.whl\n",
            "Requirement already satisfied: python-dateutil>=2.7.3 in /usr/local/lib/python3.7/dist-packages (from pandas>=0.17.0->pyLDAvis==2.1.2) (2.8.1)\n",
            "Requirement already satisfied: pytz>=2017.2 in /usr/local/lib/python3.7/dist-packages (from pandas>=0.17.0->pyLDAvis==2.1.2) (2018.9)\n",
            "Requirement already satisfied: MarkupSafe>=0.23 in /usr/local/lib/python3.7/dist-packages (from jinja2>=2.7.2->pyLDAvis==2.1.2) (1.1.1)\n",
            "Requirement already satisfied: setuptools in /usr/local/lib/python3.7/dist-packages (from pytest->pyLDAvis==2.1.2) (54.0.0)\n",
            "Requirement already satisfied: six>=1.10.0 in /usr/local/lib/python3.7/dist-packages (from pytest->pyLDAvis==2.1.2) (1.15.0)\n",
            "Requirement already satisfied: atomicwrites>=1.0 in /usr/local/lib/python3.7/dist-packages (from pytest->pyLDAvis==2.1.2) (1.4.0)\n",
            "Requirement already satisfied: attrs>=17.4.0 in /usr/local/lib/python3.7/dist-packages (from pytest->pyLDAvis==2.1.2) (20.3.0)\n",
            "Requirement already satisfied: pluggy<0.8,>=0.5 in /usr/local/lib/python3.7/dist-packages (from pytest->pyLDAvis==2.1.2) (0.7.1)\n",
            "Requirement already satisfied: more-itertools>=4.0.0 in /usr/local/lib/python3.7/dist-packages (from pytest->pyLDAvis==2.1.2) (8.7.0)\n",
            "Requirement already satisfied: py>=1.5.0 in /usr/local/lib/python3.7/dist-packages (from pytest->pyLDAvis==2.1.2) (1.10.0)\n",
            "Building wheels for collected packages: pyLDAvis\n",
            "  Building wheel for pyLDAvis (setup.py) ... \u001b[?25l\u001b[?25hdone\n",
            "  Created wheel for pyLDAvis: filename=pyLDAvis-2.1.2-py2.py3-none-any.whl size=97712 sha256=86baa6728e8a2aa61db2c0acbc2be3109e1b25fb1c6193cf5e4846a80eeed1a4\n",
            "  Stored in directory: /root/.cache/pip/wheels/98/71/24/513a99e58bb6b8465bae4d2d5e9dba8f0bef8179e3051ac414\n",
            "Successfully built pyLDAvis\n",
            "Installing collected packages: funcy, pyLDAvis\n",
            "Successfully installed funcy-1.15 pyLDAvis-2.1.2\n",
            "Requirement already satisfied: gensim in /usr/local/lib/python3.7/dist-packages (3.6.0)\n",
            "Requirement already satisfied: numpy>=1.11.3 in /usr/local/lib/python3.7/dist-packages (from gensim) (1.19.5)\n",
            "Requirement already satisfied: six>=1.5.0 in /usr/local/lib/python3.7/dist-packages (from gensim) (1.15.0)\n",
            "Requirement already satisfied: smart-open>=1.2.1 in /usr/local/lib/python3.7/dist-packages (from gensim) (4.2.0)\n",
            "Requirement already satisfied: scipy>=0.18.1 in /usr/local/lib/python3.7/dist-packages (from gensim) (1.4.1)\n",
            "Collecting pyspellchecker\n",
            "\u001b[?25l  Downloading https://files.pythonhosted.org/packages/0d/ff/ce7907f2be4d0660513451f56456721edb27e04fbb6a319a52efdd80a4d2/pyspellchecker-0.6.0-py3-none-any.whl (2.5MB)\n",
            "\u001b[K     |████████████████████████████████| 2.5MB 5.4MB/s \n",
            "\u001b[?25hInstalling collected packages: pyspellchecker\n",
            "Successfully installed pyspellchecker-0.6.0\n",
            "Collecting spanish-sentiment-analysis\n",
            "\u001b[?25l  Downloading https://files.pythonhosted.org/packages/9f/7b/f9864d17910f3b6c9ed7b3a7cda279a76dcf9bc92a9282536d90dc789650/spanish_sentiment_analysis-1.0.0-py3-none-any.whl (15.8MB)\n",
            "\u001b[K     |████████████████████████████████| 15.8MB 1.1MB/s \n",
            "\u001b[?25hRequirement already satisfied: numpy in /usr/local/lib/python3.7/dist-packages (from spanish-sentiment-analysis) (1.19.5)\n",
            "Requirement already satisfied: scipy in /usr/local/lib/python3.7/dist-packages (from spanish-sentiment-analysis) (1.4.1)\n",
            "Requirement already satisfied: nltk in /usr/local/lib/python3.7/dist-packages (from spanish-sentiment-analysis) (3.2.5)\n",
            "Requirement already satisfied: sklearn in /usr/local/lib/python3.7/dist-packages (from spanish-sentiment-analysis) (0.0)\n",
            "Collecting marisa-trie\n",
            "\u001b[?25l  Downloading https://files.pythonhosted.org/packages/20/95/d23071d0992dabcb61c948fb118a90683193befc88c23e745b050a29e7db/marisa-trie-0.7.5.tar.gz (270kB)\n",
            "\u001b[K     |████████████████████████████████| 276kB 38.0MB/s \n",
            "\u001b[?25hRequirement already satisfied: six in /usr/local/lib/python3.7/dist-packages (from nltk->spanish-sentiment-analysis) (1.15.0)\n",
            "Requirement already satisfied: scikit-learn in /usr/local/lib/python3.7/dist-packages (from sklearn->spanish-sentiment-analysis) (0.22.2.post1)\n",
            "Requirement already satisfied: joblib>=0.11 in /usr/local/lib/python3.7/dist-packages (from scikit-learn->sklearn->spanish-sentiment-analysis) (1.0.1)\n",
            "Building wheels for collected packages: marisa-trie\n",
            "  Building wheel for marisa-trie (setup.py) ... \u001b[?25l\u001b[?25hdone\n",
            "  Created wheel for marisa-trie: filename=marisa_trie-0.7.5-cp37-cp37m-linux_x86_64.whl size=861690 sha256=499c550cc7888b21e5aee0f3461c3901b68fc3ea4cff98e8d53f4aa2103e142a\n",
            "  Stored in directory: /root/.cache/pip/wheels/45/24/79/022624fc914f0e559fe8a1141aaff1f9df810905a13fc75d57\n",
            "Successfully built marisa-trie\n",
            "Installing collected packages: marisa-trie, spanish-sentiment-analysis\n",
            "Successfully installed marisa-trie-0.7.5 spanish-sentiment-analysis-1.0.0\n",
            "Collecting sentiment-analysis-spanish\n",
            "\u001b[?25l  Downloading https://files.pythonhosted.org/packages/cb/3c/104f7abeff16e347cf7b795ed9b5c841e1c5df9c1bfbd2d00d7684942a80/sentiment_analysis_spanish-0.0.25-py3-none-any.whl (30.0MB)\n",
            "\u001b[K     |████████████████████████████████| 30.0MB 148kB/s \n",
            "\u001b[?25hInstalling collected packages: sentiment-analysis-spanish\n",
            "Successfully installed sentiment-analysis-spanish-0.0.25\n",
            "Requirement already satisfied: keras in /usr/local/lib/python3.7/dist-packages (2.4.3)\n",
            "Requirement already satisfied: tensorflow in /usr/local/lib/python3.7/dist-packages (2.4.1)\n",
            "Requirement already satisfied: pyyaml in /usr/local/lib/python3.7/dist-packages (from keras) (3.13)\n",
            "Requirement already satisfied: h5py in /usr/local/lib/python3.7/dist-packages (from keras) (2.10.0)\n",
            "Requirement already satisfied: scipy>=0.14 in /usr/local/lib/python3.7/dist-packages (from keras) (1.4.1)\n",
            "Requirement already satisfied: numpy>=1.9.1 in /usr/local/lib/python3.7/dist-packages (from keras) (1.19.5)\n",
            "Requirement already satisfied: astunparse~=1.6.3 in /usr/local/lib/python3.7/dist-packages (from tensorflow) (1.6.3)\n",
            "Requirement already satisfied: opt-einsum~=3.3.0 in /usr/local/lib/python3.7/dist-packages (from tensorflow) (3.3.0)\n",
            "Requirement already satisfied: tensorflow-estimator<2.5.0,>=2.4.0 in /usr/local/lib/python3.7/dist-packages (from tensorflow) (2.4.0)\n",
            "Requirement already satisfied: wrapt~=1.12.1 in /usr/local/lib/python3.7/dist-packages (from tensorflow) (1.12.1)\n",
            "Requirement already satisfied: flatbuffers~=1.12.0 in /usr/local/lib/python3.7/dist-packages (from tensorflow) (1.12)\n",
            "Requirement already satisfied: grpcio~=1.32.0 in /usr/local/lib/python3.7/dist-packages (from tensorflow) (1.32.0)\n",
            "Requirement already satisfied: google-pasta~=0.2 in /usr/local/lib/python3.7/dist-packages (from tensorflow) (0.2.0)\n",
            "Requirement already satisfied: typing-extensions~=3.7.4 in /usr/local/lib/python3.7/dist-packages (from tensorflow) (3.7.4.3)\n",
            "Requirement already satisfied: tensorboard~=2.4 in /usr/local/lib/python3.7/dist-packages (from tensorflow) (2.4.1)\n",
            "Requirement already satisfied: absl-py~=0.10 in /usr/local/lib/python3.7/dist-packages (from tensorflow) (0.10.0)\n",
            "Requirement already satisfied: wheel~=0.35 in /usr/local/lib/python3.7/dist-packages (from tensorflow) (0.36.2)\n",
            "Requirement already satisfied: gast==0.3.3 in /usr/local/lib/python3.7/dist-packages (from tensorflow) (0.3.3)\n",
            "Requirement already satisfied: six~=1.15.0 in /usr/local/lib/python3.7/dist-packages (from tensorflow) (1.15.0)\n",
            "Requirement already satisfied: keras-preprocessing~=1.1.2 in /usr/local/lib/python3.7/dist-packages (from tensorflow) (1.1.2)\n",
            "Requirement already satisfied: termcolor~=1.1.0 in /usr/local/lib/python3.7/dist-packages (from tensorflow) (1.1.0)\n",
            "Requirement already satisfied: protobuf>=3.9.2 in /usr/local/lib/python3.7/dist-packages (from tensorflow) (3.12.4)\n",
            "Requirement already satisfied: setuptools>=41.0.0 in /usr/local/lib/python3.7/dist-packages (from tensorboard~=2.4->tensorflow) (54.0.0)\n",
            "Requirement already satisfied: markdown>=2.6.8 in /usr/local/lib/python3.7/dist-packages (from tensorboard~=2.4->tensorflow) (3.3.4)\n",
            "Requirement already satisfied: requests<3,>=2.21.0 in /usr/local/lib/python3.7/dist-packages (from tensorboard~=2.4->tensorflow) (2.23.0)\n",
            "Requirement already satisfied: tensorboard-plugin-wit>=1.6.0 in /usr/local/lib/python3.7/dist-packages (from tensorboard~=2.4->tensorflow) (1.8.0)\n",
            "Requirement already satisfied: google-auth<2,>=1.6.3 in /usr/local/lib/python3.7/dist-packages (from tensorboard~=2.4->tensorflow) (1.27.0)\n",
            "Requirement already satisfied: werkzeug>=0.11.15 in /usr/local/lib/python3.7/dist-packages (from tensorboard~=2.4->tensorflow) (1.0.1)\n",
            "Requirement already satisfied: google-auth-oauthlib<0.5,>=0.4.1 in /usr/local/lib/python3.7/dist-packages (from tensorboard~=2.4->tensorflow) (0.4.2)\n",
            "Requirement already satisfied: importlib-metadata; python_version < \"3.8\" in /usr/local/lib/python3.7/dist-packages (from markdown>=2.6.8->tensorboard~=2.4->tensorflow) (3.7.0)\n",
            "Requirement already satisfied: chardet<4,>=3.0.2 in /usr/local/lib/python3.7/dist-packages (from requests<3,>=2.21.0->tensorboard~=2.4->tensorflow) (3.0.4)\n",
            "Requirement already satisfied: idna<3,>=2.5 in /usr/local/lib/python3.7/dist-packages (from requests<3,>=2.21.0->tensorboard~=2.4->tensorflow) (2.10)\n",
            "Requirement already satisfied: certifi>=2017.4.17 in /usr/local/lib/python3.7/dist-packages (from requests<3,>=2.21.0->tensorboard~=2.4->tensorflow) (2020.12.5)\n",
            "Requirement already satisfied: urllib3!=1.25.0,!=1.25.1,<1.26,>=1.21.1 in /usr/local/lib/python3.7/dist-packages (from requests<3,>=2.21.0->tensorboard~=2.4->tensorflow) (1.24.3)\n",
            "Requirement already satisfied: pyasn1-modules>=0.2.1 in /usr/local/lib/python3.7/dist-packages (from google-auth<2,>=1.6.3->tensorboard~=2.4->tensorflow) (0.2.8)\n",
            "Requirement already satisfied: rsa<5,>=3.1.4; python_version >= \"3.6\" in /usr/local/lib/python3.7/dist-packages (from google-auth<2,>=1.6.3->tensorboard~=2.4->tensorflow) (4.7.2)\n",
            "Requirement already satisfied: cachetools<5.0,>=2.0.0 in /usr/local/lib/python3.7/dist-packages (from google-auth<2,>=1.6.3->tensorboard~=2.4->tensorflow) (4.2.1)\n",
            "Requirement already satisfied: requests-oauthlib>=0.7.0 in /usr/local/lib/python3.7/dist-packages (from google-auth-oauthlib<0.5,>=0.4.1->tensorboard~=2.4->tensorflow) (1.3.0)\n",
            "Requirement already satisfied: zipp>=0.5 in /usr/local/lib/python3.7/dist-packages (from importlib-metadata; python_version < \"3.8\"->markdown>=2.6.8->tensorboard~=2.4->tensorflow) (3.4.0)\n",
            "Requirement already satisfied: pyasn1<0.5.0,>=0.4.6 in /usr/local/lib/python3.7/dist-packages (from pyasn1-modules>=0.2.1->google-auth<2,>=1.6.3->tensorboard~=2.4->tensorflow) (0.4.8)\n",
            "Requirement already satisfied: oauthlib>=3.0.0 in /usr/local/lib/python3.7/dist-packages (from requests-oauthlib>=0.7.0->google-auth-oauthlib<0.5,>=0.4.1->tensorboard~=2.4->tensorflow) (3.1.0)\n",
            "Collecting googletrans==4.0.0-rc1\n",
            "  Downloading https://files.pythonhosted.org/packages/fa/0d/a5fe8fb53dbf401f8a34cef9439c4c5b8f5037e20123b3e731397808d839/googletrans-4.0.0rc1.tar.gz\n",
            "Collecting httpx==0.13.3\n",
            "\u001b[?25l  Downloading https://files.pythonhosted.org/packages/54/b4/698b284c6aed4d7c2b4fe3ba5df1fcf6093612423797e76fbb24890dd22f/httpx-0.13.3-py3-none-any.whl (55kB)\n",
            "\u001b[K     |████████████████████████████████| 61kB 3.0MB/s \n",
            "\u001b[?25hCollecting rfc3986<2,>=1.3\n",
            "  Downloading https://files.pythonhosted.org/packages/78/be/7b8b99fd74ff5684225f50dd0e865393d2265656ef3b4ba9eaaaffe622b8/rfc3986-1.4.0-py2.py3-none-any.whl\n",
            "Collecting hstspreload\n",
            "\u001b[?25l  Downloading https://files.pythonhosted.org/packages/dd/50/606213e12fb49c5eb667df0936223dcaf461f94e215ea60244b2b1e9b039/hstspreload-2020.12.22-py3-none-any.whl (994kB)\n",
            "\u001b[K     |████████████████████████████████| 1.0MB 7.0MB/s \n",
            "\u001b[?25hRequirement already satisfied: certifi in /usr/local/lib/python3.7/dist-packages (from httpx==0.13.3->googletrans==4.0.0-rc1) (2020.12.5)\n",
            "Requirement already satisfied: chardet==3.* in /usr/local/lib/python3.7/dist-packages (from httpx==0.13.3->googletrans==4.0.0-rc1) (3.0.4)\n",
            "Collecting sniffio\n",
            "  Downloading https://files.pythonhosted.org/packages/52/b0/7b2e028b63d092804b6794595871f936aafa5e9322dcaaad50ebf67445b3/sniffio-1.2.0-py3-none-any.whl\n",
            "Collecting httpcore==0.9.*\n",
            "\u001b[?25l  Downloading https://files.pythonhosted.org/packages/dd/d5/e4ff9318693ac6101a2095e580908b591838c6f33df8d3ee8dd953ba96a8/httpcore-0.9.1-py3-none-any.whl (42kB)\n",
            "\u001b[K     |████████████████████████████████| 51kB 4.2MB/s \n",
            "\u001b[?25hRequirement already satisfied: idna==2.* in /usr/local/lib/python3.7/dist-packages (from httpx==0.13.3->googletrans==4.0.0-rc1) (2.10)\n",
            "Collecting h11<0.10,>=0.8\n",
            "\u001b[?25l  Downloading https://files.pythonhosted.org/packages/5a/fd/3dad730b0f95e78aeeb742f96fa7bbecbdd56a58e405d3da440d5bfb90c6/h11-0.9.0-py2.py3-none-any.whl (53kB)\n",
            "\u001b[K     |████████████████████████████████| 61kB 5.2MB/s \n",
            "\u001b[?25hCollecting h2==3.*\n",
            "\u001b[?25l  Downloading https://files.pythonhosted.org/packages/25/de/da019bcc539eeab02f6d45836f23858ac467f584bfec7a526ef200242afe/h2-3.2.0-py2.py3-none-any.whl (65kB)\n",
            "\u001b[K     |████████████████████████████████| 71kB 5.1MB/s \n",
            "\u001b[?25hCollecting hpack<4,>=3.0\n",
            "  Downloading https://files.pythonhosted.org/packages/8a/cc/e53517f4a1e13f74776ca93271caef378dadec14d71c61c949d759d3db69/hpack-3.0.0-py2.py3-none-any.whl\n",
            "Collecting hyperframe<6,>=5.2.0\n",
            "  Downloading https://files.pythonhosted.org/packages/19/0c/bf88182bcb5dce3094e2f3e4fe20db28a9928cb7bd5b08024030e4b140db/hyperframe-5.2.0-py2.py3-none-any.whl\n",
            "Building wheels for collected packages: googletrans\n",
            "  Building wheel for googletrans (setup.py) ... \u001b[?25l\u001b[?25hdone\n",
            "  Created wheel for googletrans: filename=googletrans-4.0.0rc1-cp37-none-any.whl size=17417 sha256=47b8c7196b222700282ce30887e5e3a1cf4ad009585f5502b697fb956c7c1401\n",
            "  Stored in directory: /root/.cache/pip/wheels/09/32/56/fd8940f1b3c1d77c9f91b55597c52a4d4833b000a980bb0740\n",
            "Successfully built googletrans\n",
            "Installing collected packages: rfc3986, hstspreload, sniffio, h11, hpack, hyperframe, h2, httpcore, httpx, googletrans\n",
            "Successfully installed googletrans-4.0.0rc1 h11-0.9.0 h2-3.2.0 hpack-3.0.0 hstspreload-2020.12.22 httpcore-0.9.1 httpx-0.13.3 hyperframe-5.2.0 rfc3986-1.4.0 sniffio-1.2.0\n",
            "Collecting emoji\n",
            "\u001b[?25l  Downloading https://files.pythonhosted.org/packages/24/fa/b3368f41b95a286f8d300e323449ab4e86b85334c2e0b477e94422b8ed0f/emoji-1.2.0-py3-none-any.whl (131kB)\n",
            "\u001b[K     |████████████████████████████████| 133kB 4.3MB/s \n",
            "\u001b[?25hInstalling collected packages: emoji\n",
            "Successfully installed emoji-1.2.0\n",
            "Collecting tweet-preprocessor\n",
            "  Downloading https://files.pythonhosted.org/packages/17/9d/71bd016a9edcef8860c607e531f30bd09b13103c7951ae73dd2bf174163c/tweet_preprocessor-0.6.0-py3-none-any.whl\n",
            "Installing collected packages: tweet-preprocessor\n",
            "Successfully installed tweet-preprocessor-0.6.0\n"
          ],
          "name": "stdout"
        }
      ]
    },
    {
      "cell_type": "markdown",
      "metadata": {
        "id": "C6E26RvkaYjT"
      },
      "source": [
        "**Instalación del diccionario que contiene las palabras clasificadas según los sentimientos, esta parte es para evaluar el vocabulario empleado a los agentes**"
      ]
    },
    {
      "cell_type": "code",
      "metadata": {
        "id": "mdmnKOWRy8WU",
        "colab": {
          "base_uri": "https://localhost:8080/"
        },
        "outputId": "62ecd164-c24a-4e53-bf68-465f7adf8fc2"
      },
      "source": [
        "####################EMOLEX\n",
        "# Eliminamos la carpeta EmoLex en caso de que exista\n",
        "!rm -rf EmoLex/\n",
        "# Descargamos un .zip con el léxico\n",
        "!wget -O emolex.zip https://raw.githubusercontent.com/larajuse/share/master/EmoLex.zip\n",
        "# Descomprimimos el .zip\n",
        "!unzip emolex.zip"
      ],
      "execution_count": 3,
      "outputs": [
        {
          "output_type": "stream",
          "text": [
            "--2021-03-05 21:15:25--  https://raw.githubusercontent.com/larajuse/share/master/EmoLex.zip\n",
            "Resolving raw.githubusercontent.com (raw.githubusercontent.com)... 185.199.108.133, 185.199.109.133, 185.199.110.133, ...\n",
            "Connecting to raw.githubusercontent.com (raw.githubusercontent.com)|185.199.108.133|:443... connected.\n",
            "HTTP request sent, awaiting response... 200 OK\n",
            "Length: 52446 (51K) [application/zip]\n",
            "Saving to: ‘emolex.zip’\n",
            "\n",
            "\remolex.zip            0%[                    ]       0  --.-KB/s               \remolex.zip          100%[===================>]  51.22K  --.-KB/s    in 0.01s   \n",
            "\n",
            "2021-03-05 21:15:26 (4.20 MB/s) - ‘emolex.zip’ saved [52446/52446]\n",
            "\n",
            "Archive:  emolex.zip\n",
            "   creating: EmoLex/\n",
            "  inflating: EmoLex/joy.txt          \n",
            "  inflating: EmoLex/positive.txt     \n",
            "  inflating: EmoLex/anticipation.txt  \n",
            "  inflating: EmoLex/trust.txt        \n",
            "  inflating: EmoLex/fear.txt         \n",
            "  inflating: EmoLex/sadness.txt      \n",
            "  inflating: EmoLex/surprise.txt     \n",
            "  inflating: EmoLex/anger.txt        \n",
            "  inflating: EmoLex/disgust.txt      \n",
            "  inflating: EmoLex/negative.txt     \n"
          ],
          "name": "stdout"
        }
      ]
    },
    {
      "cell_type": "code",
      "metadata": {
        "id": "QaS3um0xgSrc",
        "colab": {
          "base_uri": "https://localhost:8080/"
        },
        "cellView": "form",
        "outputId": "e64d9a4c-a7e4-4d86-94ab-98bdf10e3bd7"
      },
      "source": [
        "#@title Librerías para NLP\n",
        "%matplotlib inline\n",
        "import matplotlib.pyplot as plt\n",
        "import pandas as pd\n",
        "import numpy as np\n",
        "from scipy import stats\n",
        "import re #expresiones regulares\n",
        "import itertools\n",
        "from collections import Counter \n",
        "import seaborn as sns\n",
        "import matplotlib as mpl\n",
        "plt.style.use('ggplot')\n",
        "sns.set_context(\"talk\")\n",
        "import datetime\n",
        "import dateutil\n",
        "\n",
        "#Librerias de visualizacion dinámica\n",
        "import plotly.express as px\n",
        "from PIL import Image\n",
        "from wordcloud import WordCloud\n",
        "from pprint import pprint #Manipulacion de datos\n",
        "\n",
        "#LDA MODEL FOR OBSERVACIONES\n",
        "#quitar mas profundamente stop_words\n",
        "import nltk\n",
        "nltk.download('punkt')\n",
        "from nltk.tokenize import word_tokenize\n",
        "import unicodedata\n",
        "import tqdm\n",
        "import spacy.cli\n",
        "from spacy.lang.es.stop_words import STOP_WORDS \n",
        "#descargamos los modelos\n",
        "from nltk.corpus import stopwords\n",
        "nltk.download('stopwords')\n",
        "\n",
        "nltk.download('punkt')\n",
        "from nltk.tokenize import word_tokenize\n",
        "import preprocessor as p\n",
        "nltk.download('stopwords')\n",
        "spacy.cli.download(\"es_core_news_md\")"
      ],
      "execution_count": 4,
      "outputs": [
        {
          "output_type": "stream",
          "text": [
            "[nltk_data] Downloading package punkt to /root/nltk_data...\n",
            "[nltk_data]   Unzipping tokenizers/punkt.zip.\n",
            "[nltk_data] Downloading package stopwords to /root/nltk_data...\n",
            "[nltk_data]   Unzipping corpora/stopwords.zip.\n",
            "[nltk_data] Downloading package punkt to /root/nltk_data...\n",
            "[nltk_data]   Package punkt is already up-to-date!\n",
            "[nltk_data] Downloading package stopwords to /root/nltk_data...\n",
            "[nltk_data]   Package stopwords is already up-to-date!\n",
            "\u001b[38;5;2m✔ Download and installation successful\u001b[0m\n",
            "You can now load the model via spacy.load('es_core_news_md')\n"
          ],
          "name": "stdout"
        }
      ]
    },
    {
      "cell_type": "code",
      "metadata": {
        "id": "IvQefPT72C5c",
        "cellView": "code"
      },
      "source": [
        "#@title Librerías de emociones\n",
        "####LIBRERIAS EMOCIONES\n",
        "from collections import defaultdict\n",
        "\n",
        "import googletrans\n",
        "from googletrans import Translator\n",
        "translator = Translator()\n",
        "import emoji\n",
        "import os\n",
        "from sklearn.preprocessing import MinMaxScaler\n",
        "\n",
        "#############LSTM\n",
        "import sklearn \n",
        "from sklearn.preprocessing import LabelEncoder, OneHotEncoder\n",
        "from keras.models import load_model\n",
        "from sklearn.model_selection import train_test_split\n",
        "\n",
        "import tensorflow as tf\n",
        "from keras.preprocessing import text, sequence\n",
        "from keras import Sequential\n",
        "from keras.layers import Embedding, SpatialDropout1D, LSTM, Dense"
      ],
      "execution_count": 5,
      "outputs": []
    },
    {
      "cell_type": "markdown",
      "metadata": {
        "id": "D9sVC_kVbrdv"
      },
      "source": [
        "**Las siguientes librerias son necesarias para estudiar las relaciones semánticas**"
      ]
    },
    {
      "cell_type": "code",
      "metadata": {
        "id": "GjTpVBw0cIsM",
        "cellView": "form"
      },
      "source": [
        "#@title Librerías necesarias para realizar el modelo de Word2Vec\n",
        "#word2vec modelo de EMBEDDING\n",
        "#word2vec\n",
        "from gensim.models import word2vec\n",
        "import multiprocessing\n",
        "from gensim.models import Word2Vec\n",
        "from collections import defaultdict \n",
        "import seaborn as sns\n",
        "sns.set_style(\"darkgrid\")\n",
        "from sklearn.decomposition import PCA\n",
        "from sklearn.manifold import TSNE\n",
        "from scipy import stats\n",
        "from pylab import rcParams\n",
        "from google.colab import widgets"
      ],
      "execution_count": 6,
      "outputs": []
    },
    {
      "cell_type": "markdown",
      "metadata": {
        "id": "DG9QnE6PcCt0"
      },
      "source": [
        "**Librerias necesarias para evaluar la experiencia general del cliente, no es necesario traducir el texto para este paso**"
      ]
    },
    {
      "cell_type": "code",
      "metadata": {
        "id": "vzxoyxTiEBLS",
        "colab": {
          "base_uri": "https://localhost:8080/"
        },
        "cellView": "form",
        "outputId": "6f3dcb62-5d5e-4589-b9ae-c31d4daac3b8"
      },
      "source": [
        "#@title Librerias necesarias para evaluar la experiencia general del cliente\n",
        "#clasificacion de sentimientos, en español\n",
        "\n",
        "from wordcloud import WordCloud, STOPWORDS, ImageColorGenerator\n",
        "from spellchecker import SpellChecker\n",
        "spell = SpellChecker(language='es')\n",
        "from classifier import *\n",
        "clf = SentimentClassifier()\n",
        "from pylab import rcParams\n",
        "from google.colab import widgets"
      ],
      "execution_count": 7,
      "outputs": [
        {
          "output_type": "stream",
          "text": [
            "/usr/local/lib/python3.7/dist-packages/sklearn/externals/joblib/__init__.py:15: FutureWarning:\n",
            "\n",
            "sklearn.externals.joblib is deprecated in 0.21 and will be removed in 0.23. Please import this functionality directly from joblib, which can be installed with: pip install joblib. If this warning is raised when loading pickled models, you may need to re-serialize those models with scikit-learn 0.21+.\n",
            "\n"
          ],
          "name": "stderr"
        }
      ]
    },
    {
      "cell_type": "code",
      "metadata": {
        "id": "bjnx_ue4glPr",
        "colab": {
          "base_uri": "https://localhost:8080/"
        },
        "cellView": "form",
        "outputId": "86c017cd-7cc0-453a-f18f-7a584bcd35b4"
      },
      "source": [
        "#@title Librerías para aplicar el modelo de LDA\n",
        "## APLLY LDA MODEL TO OBSERVACIONES\n",
        "#Gensim para modelado de temas, indexación de documentos y recuperación de similitudes con grandes corpus\n",
        "import gensim\n",
        "import gensim.corpora as corpora\n",
        "from gensim.utils import simple_preprocess\n",
        "from gensim.models import CoherenceModel\n",
        "#Spacy para la lemmatization\n",
        "import spacy\n",
        "# Herramientas de graficado\n",
        "import pyLDAvis\n",
        "import pyLDAvis.gensim\n",
        "import matplotlib.pyplot as plt\n",
        "%matplotlib inline\n",
        "# Habilitado de logging para gensim (opcional)\n",
        "import logging\n",
        "logging.basicConfig(format='%(asctime)s : %(levelname)s : %(message)s', level=logging.ERROR)\n",
        "import warnings\n",
        "warnings.filterwarnings(\"ignore\",category=DeprecationWarning)\n",
        "from sklearn.feature_extraction.text import CountVectorizer\n"
      ],
      "execution_count": 8,
      "outputs": [
        {
          "output_type": "stream",
          "text": [
            "/usr/local/lib/python3.7/dist-packages/past/types/oldstr.py:5: DeprecationWarning:\n",
            "\n",
            "Using or importing the ABCs from 'collections' instead of from 'collections.abc' is deprecated since Python 3.3,and in 3.9 it will stop working\n",
            "\n"
          ],
          "name": "stderr"
        }
      ]
    },
    {
      "cell_type": "markdown",
      "metadata": {
        "id": "Wokv5rvmi_u7"
      },
      "source": [
        "Funciones globales para la limpieza de texto"
      ]
    },
    {
      "cell_type": "code",
      "metadata": {
        "id": "VRRK89RSgokp"
      },
      "source": [
        "def elimina_tildes(cadena):\n",
        "  #Función para eliminar acentos en el texto\n",
        "              s = ''.join((c for c in unicodedata.normalize('NFD',cadena) if unicodedata.category(c) != 'Mn'))\n",
        "              return s\n",
        "\n",
        "        \n",
        "def clean_text(text):\n",
        "\n",
        "          ''' remove text in square brackets, remove punctuation and remove words containing numbers.'''\n",
        "          text=re.sub('0','O',text)\n",
        "          text = re.sub('\\w*\\d\\w*', '', text)\n",
        "          text = re.sub('[‘’“”?¿#&¡!\\/$%()\\|/*+=-@]', '', text)\n",
        "          text= re.sub('[!\"#$%&\\'()*+-/<=>?@[\\\\]^_{|}]', '', text)\n",
        "          text=re.sub('[~Œƒ„‰Š‹•™›Ÿ¢£¤¦§¨©ª«¬®°²³´µ¶·¹º»¼½¾¿ÀÁÂÃÄÅÆÇÈÉÊËÌÍÎÏÐÒÓÔÕÖ×ØÙÚÛÜÝÞß÷]','', text, flags=re.UNICODE)\n",
        "          text=re.sub(':','', text, flags=re.UNICODE)\n",
        "          return text\n",
        "\n",
        "def replace(word):\n",
        "  #arregla palabras como holaaa----hola, rrapido-----rapido- raaaaaaaaaaaaaaaaaapido---rapido\n",
        "     if wordnet.synsets(word):\n",
        "       return word \n",
        "     repl_word = re.compile(r'(\\w*)(\\w)\\2(\\w*)').sub(r'\\1\\2\\3', word) \n",
        "     if repl_word != word:            \n",
        "       return replace(repl_word)        \n",
        "     else:            \n",
        "       return repl_word \n",
        "\n",
        "\n",
        "def s_correction( text, patterns): \n",
        "\n",
        "  #Función auxiliar que corrige errores ortográficos, como rezpeto---respeto, se debe pasar una lista con estas correciones\n",
        "\n",
        "          patterns1 = [(re.compile(regex), repl) for (regex, repl) in   patterns]      \n",
        "          s = text       \n",
        "          for (pattern, repl) in patterns1:        \n",
        "                 (s, count) = re.subn(pattern, repl, s)    \n",
        "          return s\n",
        "    \n",
        "def remove_stop(x, lista):\n",
        "  #Función que optimiza la remoción de stop-words\n",
        "  pattern = re.compile(r'\\b(' + r'|'.join(lista_stop_words) + r')\\b\\s*')\n",
        "  text = pattern.sub(' ',x)\n",
        "  return text\n",
        "\n",
        "def clean_text_p(text):\n",
        "  #Quita palabras cortas \n",
        "        ''' remove text in square brackets, remove punctuation and remove words containing numbers.'''\n",
        "        text =  re.sub(r'\\b\\w{1,3}\\b', '', text) \n",
        "        return text\n",
        "\n",
        "def sent_to_words(sentences):\n",
        "    for sentence in sentences:\n",
        "        yield(gensim.utils.simple_preprocess(str(sentence), deacc=True))"
      ],
      "execution_count": 9,
      "outputs": []
    },
    {
      "cell_type": "code",
      "metadata": {
        "id": "0jh-BMD5g6ko"
      },
      "source": [
        "FOLDER_EMOTION_ANALISIS = \"/content/drive/MyDrive/data/ABPS/NPL_Ecopetrol/emotion_analysis/\"\r\n",
        "FOLDER_DATASET_TRANSCRIPT = \"/content/drive/MyDrive/data/ABPS/NPL_Ecopetrol/\"\r\n",
        "FOLDER_STOP_WORDS = \"/content/drive/MyDrive/data/ABPS/NPL_Ecopetrol/stop_word/\"\r\n",
        "FOLDER_RAW = \"/content/drive/MyDrive/data/ABPS/NPL_Ecopetrol/\""
      ],
      "execution_count": 10,
      "outputs": []
    },
    {
      "cell_type": "markdown",
      "metadata": {
        "id": "MAbdV4M3mgaD"
      },
      "source": [
        "# **Lectura del Dataframe**"
      ]
    },
    {
      "cell_type": "code",
      "metadata": {
        "id": "BBxO0iX2lDgD",
        "colab": {
          "base_uri": "https://localhost:8080/",
          "height": 54
        },
        "outputId": "c894b14c-7236-4a32-de32-742bf8e714f5"
      },
      "source": [
        "'''\n",
        "df_user=pd.read_csv('/content/drive/My Drive/NPL_Ecopetrol/df_total/df_total_limp_user.csv')\n",
        "df_user=df_user[df_user.transcripcion.notna()]\n",
        "df_user.shape\n",
        "'''"
      ],
      "execution_count": 11,
      "outputs": [
        {
          "output_type": "execute_result",
          "data": {
            "application/vnd.google.colaboratory.intrinsic+json": {
              "type": "string"
            },
            "text/plain": [
              "\"\\ndf_user=pd.read_csv('/content/drive/My Drive/NPL_Ecopetrol/df_total/df_total_limp_user.csv')\\ndf_user=df_user[df_user.transcripcion.notna()]\\ndf_user.shape\\n\""
            ]
          },
          "metadata": {
            "tags": []
          },
          "execution_count": 11
        }
      ]
    },
    {
      "cell_type": "code",
      "metadata": {
        "colab": {
          "base_uri": "https://localhost:8080/",
          "height": 54
        },
        "id": "5I0Z0Pyllx4p",
        "outputId": "55b5de9d-ff2b-4ede-da46-aeee92bd5a37"
      },
      "source": [
        "'''\r\n",
        "df_agent=df[df.owner=='agente']\r\n",
        "df_user=df[df.owner=='usuario']\r\n",
        "\r\n",
        "print('dimensionalidad agente:', df_agent.shape)\r\n",
        "print('dimensionalidad usuario:', df_user.shape)\r\n",
        "'''"
      ],
      "execution_count": 12,
      "outputs": [
        {
          "output_type": "execute_result",
          "data": {
            "application/vnd.google.colaboratory.intrinsic+json": {
              "type": "string"
            },
            "text/plain": [
              "\"\\ndf_agent=df[df.owner=='agente']\\ndf_user=df[df.owner=='usuario']\\n\\nprint('dimensionalidad agente:', df_agent.shape)\\nprint('dimensionalidad usuario:', df_user.shape)\\n\""
            ]
          },
          "metadata": {
            "tags": []
          },
          "execution_count": 12
        }
      ]
    },
    {
      "cell_type": "code",
      "metadata": {
        "colab": {
          "base_uri": "https://localhost:8080/",
          "height": 36
        },
        "id": "iOyXRs2slyWQ",
        "outputId": "91bdc1ee-7c16-4986-dce7-3720eaebe980"
      },
      "source": [
        "os.listdir()\r\n",
        "\r\n",
        "os.chdir('/content/drive/MyDrive/data/ABPS/NPL_Ecopetrol/Data/database/Meses')\r\n",
        "%pwd"
      ],
      "execution_count": 13,
      "outputs": [
        {
          "output_type": "execute_result",
          "data": {
            "application/vnd.google.colaboratory.intrinsic+json": {
              "type": "string"
            },
            "text/plain": [
              "'/content/drive/MyDrive/data/ABPS/NPL_Ecopetrol/Data/database/Meses'"
            ]
          },
          "metadata": {
            "tags": []
          },
          "execution_count": 13
        }
      ]
    },
    {
      "cell_type": "code",
      "metadata": {
        "colab": {
          "base_uri": "https://localhost:8080/"
        },
        "id": "rZG1sCNCl1BE",
        "outputId": "2e48738d-0a8b-40dc-b8af-ea8a6b6afd14"
      },
      "source": [
        "import sqlite3\r\n",
        "\r\n",
        "lista = os.listdir()\r\n",
        "\r\n",
        "lista = pd.Series(lista)\r\n",
        "lista = lista[lista.str.contains('.db')]\r\n",
        "print(lista)\r\n",
        "\r\n",
        "for i in lista:\r\n",
        "  conn = sqlite3.connect(i)\r\n",
        "  def tables_in_sqlite_db(conn):\r\n",
        "      cursor = conn.execute(\"SELECT name FROM sqlite_master WHERE type='table';\")\r\n",
        "      tables = [\r\n",
        "          v[0] for v in cursor.fetchall()\r\n",
        "          if v[0] != \"sqlite_sequence\"\r\n",
        "      ]\r\n",
        "      cursor.close()\r\n",
        "      return tables\r\n",
        "  name =tables_in_sqlite_db(conn)\r\n",
        "  print(i,name)"
      ],
      "execution_count": 14,
      "outputs": [
        {
          "output_type": "stream",
          "text": [
            "1     speech_ecopetrol_Septiembre.db\n",
            "2        speech_ecopetrol_Octubre.db\n",
            "32     speech_ecopetrol_Noviembre.db\n",
            "dtype: object\n",
            "speech_ecopetrol_Septiembre.db ['speech_to_text']\n",
            "speech_ecopetrol_Octubre.db ['speech_to_text']\n",
            "speech_ecopetrol_Noviembre.db ['speech_to_text', 'speech_to_text_fitted']\n"
          ],
          "name": "stdout"
        }
      ]
    },
    {
      "cell_type": "code",
      "metadata": {
        "colab": {
          "base_uri": "https://localhost:8080/"
        },
        "id": "F4zo_MjCl71c",
        "outputId": "594776f8-3a6d-4af2-e7b0-78a668c553fc"
      },
      "source": [
        "import sqlite3\r\n",
        "import pandas as pd\r\n",
        "# Create your connection.\r\n",
        "\r\n",
        "\r\n",
        "#Septiembre\r\n",
        "cnx_sep = sqlite3.connect(FOLDER_RAW+'Data/database/Meses/speech_ecopetrol_Septiembre.db')\r\n",
        "\r\n",
        "df_sep = pd.read_sql_query(\"SELECT * FROM speech_to_text\", cnx_sep)\r\n",
        "df_sep['Mes']=df_sep['name_file'].apply(lambda x: \"Septiembre\")\r\n",
        "\r\n",
        "#Octubre\r\n",
        "cnx_oct = sqlite3.connect(FOLDER_RAW+'Data/database/Meses/speech_ecopetrol_Octubre.db')\r\n",
        "\r\n",
        "df_oct = pd.read_sql_query(\"SELECT * FROM speech_to_text\", cnx_oct)\r\n",
        "df_oct['Mes']=df_oct['name_file'].apply(lambda x: \"Octubre\")\r\n",
        "\r\n",
        "#Noviembre\r\n",
        "cnx_nov = sqlite3.connect(FOLDER_RAW+'Data/database/Meses/speech_ecopetrol_Noviembre.db')\r\n",
        "\r\n",
        "df_nov = pd.read_sql_query(\"SELECT * FROM speech_to_text_fitted\", cnx_nov)\r\n",
        "df_nov['Mes']=df_nov['name_file'].apply(lambda x: \"Noviembre\")\r\n",
        "\r\n",
        "# #Diciembre\r\n",
        "# cnx_dic = sqlite3.connect(FOLDER_RAW+'Data/database/Diciembre/speech_ecopetrol_diciembre.db')\r\n",
        "\r\n",
        "# df_dic = pd.read_sql_query(\"SELECT * FROM speech_to_text\", cnx_dic)\r\n",
        "# df_dic['Mes']=df_dic['name_file'].apply(lambda x: \"Diciembre\")\r\n",
        "\r\n",
        "pd.set_option('display.max_colwidth', -1) # show all characters \r\n",
        "\r\n",
        "print(\"Septiembre\")\r\n",
        "print(df_sep[0:3])\r\n",
        "print(len(df_sep))\r\n",
        "\r\n",
        "print(\"Octubre\")\r\n",
        "print(df_oct[0:3])\r\n",
        "print(len(df_oct))\r\n",
        "\r\n",
        "print(\"Noviembre\")\r\n",
        "print(df_nov.columns)\r\n",
        "print(len(df_nov))\r\n",
        "\r\n",
        "# print(\"Diciembre\")\r\n",
        "# print(df_dic[0:3])\r\n",
        "# print(len(df_dic))"
      ],
      "execution_count": 15,
      "outputs": [
        {
          "output_type": "stream",
          "text": [
            "Septiembre\n",
            "                                                                                                                               name_file  ...         Mes\n",
            "0  ULBQJ13L2545H7O07M2GVQ24680024AS_2020-09-09_17-33-54_2020-09-09_12-33-54_033223967169_28400_1055227053-063A01F5-1070457D-00000001.wav  ...  Septiembre\n",
            "1  ULBQJ13L2545H7O07M2GVQ2468001LK2_2020-09-03_14-19-53_2020-09-03_09-19-53_007756064_28400_53050685-063A01F5-106EF739-00000001.wav       ...  Septiembre\n",
            "2  ULBQJ13L2545H7O07M2GVQ24680032VR_2020-09-22_17-00-34_2020-09-22_12-00-34_3125861921_6532363_1233492388-063A01F6-1072DF39-00000001.wav  ...  Septiembre\n",
            "\n",
            "[3 rows x 7 columns]\n",
            "1183\n",
            "Octubre\n",
            "                                                                                                                               name_file  ...      Mes\n",
            "0  RQ21QO2HST63B28OIE5HQTGBLS00079C_2020-10-01_12-10-03_2020-10-01_07-10-03_033188208886_28200_1032400956-063A01F7-1074E7C3-00000001.wav  ...  Octubre\n",
            "1  RQ21QO2HST63B28OIE5HQTGBLS000ORH_2020-10-08_13-29-42_2020-10-08_08-29-43_43797_28400_1022981472-064C01F7-10747595-00000001.wav         ...  Octubre\n",
            "2  RQ21QO2HST63B28OIE5HQTGBLS0020HJ_2020-10-26_20-52-15_2020-10-26_15-52-15_76431997_6532364_1030622036-058101F9-108BB211-00000001.wav    ...  Octubre\n",
            "\n",
            "[3 rows x 7 columns]\n",
            "1097\n",
            "Noviembre\n",
            "Index(['name_file', 'transcripcion', 'speech_ratio', 'confidance', 'owner',\n",
            "       'raw', 'Mes'],\n",
            "      dtype='object')\n",
            "1115\n"
          ],
          "name": "stdout"
        }
      ]
    },
    {
      "cell_type": "code",
      "metadata": {
        "colab": {
          "base_uri": "https://localhost:8080/"
        },
        "id": "QL8aq5Ysl-Op",
        "outputId": "cfe6a3ca-cb1c-47dd-cd53-73cb06c73345"
      },
      "source": [
        "print(len(df_sep)+len(df_oct))#+len(df_nov))\r\n",
        "df_sep = df_sep.append(df_oct,ignore_index=True).reset_index(drop=True).copy()\r\n",
        "df_sep = df_sep.append(df_nov,ignore_index=True).reset_index(drop=True).copy()\r\n",
        "# df_sep = df_sep.append(df_dic,ignore_index=True).reset_index(drop=True).copy()\r\n",
        "# ojo, cambiar abajo a df_sep\r\n",
        "df_user = df_sep\r\n",
        "print(len(df_user))"
      ],
      "execution_count": 16,
      "outputs": [
        {
          "output_type": "stream",
          "text": [
            "2280\n",
            "3395\n"
          ],
          "name": "stdout"
        }
      ]
    },
    {
      "cell_type": "code",
      "metadata": {
        "colab": {
          "base_uri": "https://localhost:8080/"
        },
        "id": "zgVao0zZxIRP",
        "outputId": "673b2ef9-005d-462c-b06d-f04b43568d6f"
      },
      "source": [
        "pd.set_option('display.max_colwidth',-1) # mostrar todos los caracteres del dataset\r\n",
        "\r\n",
        "df_user['name_file'][0:1]"
      ],
      "execution_count": 17,
      "outputs": [
        {
          "output_type": "execute_result",
          "data": {
            "text/plain": [
              "0    ULBQJ13L2545H7O07M2GVQ24680024AS_2020-09-09_17-33-54_2020-09-09_12-33-54_033223967169_28400_1055227053-063A01F5-1070457D-00000001.wav\n",
              "Name: name_file, dtype: object"
            ]
          },
          "metadata": {
            "tags": []
          },
          "execution_count": 17
        }
      ]
    },
    {
      "cell_type": "code",
      "metadata": {
        "colab": {
          "base_uri": "https://localhost:8080/"
        },
        "id": "9fD9pCGqx7O6",
        "outputId": "4668dd5e-edf1-4980-ed50-4213e714cfc3"
      },
      "source": [
        "df_user[\"name_file\"] = df_user[\"name_file\"].str.extract(r'^([\\w]+-?[\\w]+-?[\\w]+_[\\w]+-[\\w]+-[\\w]+_)')\r\n",
        "#df_user[\"name_file\"]  = df_user[\"name_file\"].map(lambda x: x.rstrip('2020'))\r\n",
        "\r\n",
        "df_user['name_file'][0:1]"
      ],
      "execution_count": 18,
      "outputs": [
        {
          "output_type": "execute_result",
          "data": {
            "text/plain": [
              "0    ULBQJ13L2545H7O07M2GVQ24680024AS_2020-09-09_17-33-54_\n",
              "Name: name_file, dtype: object"
            ]
          },
          "metadata": {
            "tags": []
          },
          "execution_count": 18
        }
      ]
    },
    {
      "cell_type": "code",
      "metadata": {
        "colab": {
          "base_uri": "https://localhost:8080/"
        },
        "id": "6w_ZwrkQtW7t",
        "outputId": "055f4b07-d2c4-4780-8474-f44a7fa6b385"
      },
      "source": [
        "df_original_sep= pd.read_excel(FOLDER_RAW+'Data/database/Septiembre/dataset_sep.xlsx')\r\n",
        "df_original_oct = pd.read_excel(FOLDER_RAW+'Data/database/Octubre/dataset_oct.xlsx')\r\n",
        "df_original_nov = pd.read_excel(FOLDER_RAW+'Data/database/Noviembre/dataset_nov.xlsx')\r\n",
        "\r\n",
        "df_original = pd.concat([df_original_sep, df_original_oct,])# df_original_nov])\r\n",
        "\r\n",
        "df_original['GUID'] = df_original['GUID'] + '_'\r\n",
        "df_original = df_original.rename(columns={'GUID':'name_file'})\r\n",
        "\r\n",
        "df_original['name_file'][0:1]"
      ],
      "execution_count": 19,
      "outputs": [
        {
          "output_type": "execute_result",
          "data": {
            "text/plain": [
              "0    ULBQJ13L2545H7O07M2GVQ2468001F94_2020-09-01_06-33-56_\n",
              "Name: name_file, dtype: object"
            ]
          },
          "metadata": {
            "tags": []
          },
          "execution_count": 19
        }
      ]
    },
    {
      "cell_type": "code",
      "metadata": {
        "colab": {
          "base_uri": "https://localhost:8080/"
        },
        "id": "HDNwAHS4BFkI",
        "outputId": "6d2a8473-2c34-4f54-b62a-84ed698cc180"
      },
      "source": [
        "len(df_original['name_file'])"
      ],
      "execution_count": 20,
      "outputs": [
        {
          "output_type": "execute_result",
          "data": {
            "text/plain": [
              "49466"
            ]
          },
          "metadata": {
            "tags": []
          },
          "execution_count": 20
        }
      ]
    },
    {
      "cell_type": "code",
      "metadata": {
        "id": "OIVe_xyZux4V"
      },
      "source": [
        "df_user = df_user.merge(df_original, how='left', on='name_file')\r\n",
        "df_user = df_user.drop(['raw'], axis=1)\r\n",
        "df_user = df_user.drop(df_user[df_user[\"Linea\"]==\"Conmutador\"].index)\r\n",
        "df_user = df_user.drop(df_user[df_user[\"Linea\"]==\"Incidentes y fallas\"].index)"
      ],
      "execution_count": 21,
      "outputs": []
    },
    {
      "cell_type": "code",
      "metadata": {
        "colab": {
          "base_uri": "https://localhost:8080/",
          "height": 1000
        },
        "id": "qJ0BupQM_gH1",
        "outputId": "55919d44-58e7-4526-a2e5-b1a8d80da490"
      },
      "source": [
        "df_user[0:2]"
      ],
      "execution_count": 22,
      "outputs": [
        {
          "output_type": "execute_result",
          "data": {
            "text/html": [
              "<div>\n",
              "<style scoped>\n",
              "    .dataframe tbody tr th:only-of-type {\n",
              "        vertical-align: middle;\n",
              "    }\n",
              "\n",
              "    .dataframe tbody tr th {\n",
              "        vertical-align: top;\n",
              "    }\n",
              "\n",
              "    .dataframe thead th {\n",
              "        text-align: right;\n",
              "    }\n",
              "</style>\n",
              "<table border=\"1\" class=\"dataframe\">\n",
              "  <thead>\n",
              "    <tr style=\"text-align: right;\">\n",
              "      <th></th>\n",
              "      <th>name_file</th>\n",
              "      <th>transcripcion</th>\n",
              "      <th>speech_ratio</th>\n",
              "      <th>confidance</th>\n",
              "      <th>owner</th>\n",
              "      <th>Mes</th>\n",
              "      <th>GUID_ORIGINAL</th>\n",
              "      <th>CC</th>\n",
              "      <th>DNIS</th>\n",
              "      <th>ANI</th>\n",
              "      <th>Start Date IXN Res</th>\n",
              "      <th>End Date IXN Res</th>\n",
              "      <th>IXN ID</th>\n",
              "      <th>Tenant Name</th>\n",
              "      <th>INTERACTION_TYPE</th>\n",
              "      <th>PLACE_NAME</th>\n",
              "      <th>Last VQ</th>\n",
              "      <th>Agent</th>\n",
              "      <th>Customer Talk Duration</th>\n",
              "      <th>Engage Duration</th>\n",
              "      <th>Linea</th>\n",
              "      <th>Start_Date_hour</th>\n",
              "    </tr>\n",
              "  </thead>\n",
              "  <tbody>\n",
              "    <tr>\n",
              "      <th>0</th>\n",
              "      <td>ULBQJ13L2545H7O07M2GVQ24680024AS_2020-09-09_17-33-54_</td>\n",
              "      <td>muy bien un par de intrusión la línea de personal con el ala en  no era de tu logran  en recuerdo de un proveedor o que relacionó incluso tienen con estos estilos para poderle direcciona un día más de acuerdo permítame por favor  el fruto de por favor ya validen directamente dependientes o arias y el treinta del proceso ya que en un momento se encuentra comunicada con la línea trescientos personas consultar por favor</td>\n",
              "      <td>0.754</td>\n",
              "      <td>0.5775</td>\n",
              "      <td>agente</td>\n",
              "      <td>Septiembre</td>\n",
              "      <td>ULBQJ13L2545H7O07M2GVQ24680024AS</td>\n",
              "      <td>1.055227e+09</td>\n",
              "      <td>28400.0</td>\n",
              "      <td>033223967169</td>\n",
              "      <td>20200909 12:33:54</td>\n",
              "      <td>20200909 12:34:59</td>\n",
              "      <td>160395807.0</td>\n",
              "      <td>Ecopetrol</td>\n",
              "      <td>Inbound</td>\n",
              "      <td>Ecopetrol_52094</td>\n",
              "      <td>VQ_Ecopetrol_INB_Para_Personal</td>\n",
              "      <td>, C Persn William Guillermo Ferrucho Ferrucho (wilferfe) - 1055227053</td>\n",
              "      <td>61.0</td>\n",
              "      <td>0.0</td>\n",
              "      <td>Personal</td>\n",
              "      <td>2020-09-09_17-33-54</td>\n",
              "    </tr>\n",
              "    <tr>\n",
              "      <th>1</th>\n",
              "      <td>ULBQJ13L2545H7O07M2GVQ2468001LK2_2020-09-03_14-19-53_</td>\n",
              "      <td>general línea servicios compartidos del personal le hablan que no vengas con quién tengo el gusto de hablar inglés con colores no no señora no todavía no está la oficina de directo no señora no señor los envía oficina virtual de personal arroba ecopetrol punto com punto cero que señores no escanea escaneando documentos los firmas proxeneta usted imprime los documentos los firma los kane los envía en señora del personal de ecopetrol punto com punto cero en enseñanzas buenas no señor todas nos han indicado como tal proceso no frank cuando lleguen a realizar aperturas buenas perderán comunicación e servicios compartidos del personal de llamada que relacionada con el número trece veinticinco treinta y úno cuarenta y ocho qué pasa teniente</td>\n",
              "      <td>0.924</td>\n",
              "      <td>0.7100</td>\n",
              "      <td>agente</td>\n",
              "      <td>Septiembre</td>\n",
              "      <td>ULBQJ13L2545H7O07M2GVQ2468001LK2</td>\n",
              "      <td>5.305068e+07</td>\n",
              "      <td>28400.0</td>\n",
              "      <td>007756064</td>\n",
              "      <td>20200903 09:19:53</td>\n",
              "      <td>20200903 09:21:28</td>\n",
              "      <td>158426841.0</td>\n",
              "      <td>Ecopetrol</td>\n",
              "      <td>Inbound</td>\n",
              "      <td>Ecopetrol_52135</td>\n",
              "      <td>VQ_Ecopetrol_INB_Serv_Personal</td>\n",
              "      <td>, C Persn Angie Paola Luengas Tunjano (angluetu) - 53050685</td>\n",
              "      <td>95.0</td>\n",
              "      <td>0.0</td>\n",
              "      <td>Personal</td>\n",
              "      <td>2020-09-03_14-19-53</td>\n",
              "    </tr>\n",
              "  </tbody>\n",
              "</table>\n",
              "</div>"
            ],
            "text/plain": [
              "                                               name_file  ...      Start_Date_hour\n",
              "0  ULBQJ13L2545H7O07M2GVQ24680024AS_2020-09-09_17-33-54_  ...  2020-09-09_17-33-54\n",
              "1  ULBQJ13L2545H7O07M2GVQ2468001LK2_2020-09-03_14-19-53_  ...  2020-09-03_14-19-53\n",
              "\n",
              "[2 rows x 22 columns]"
            ]
          },
          "metadata": {
            "tags": []
          },
          "execution_count": 22
        }
      ]
    },
    {
      "cell_type": "code",
      "metadata": {
        "id": "GK5xyhukCpgE",
        "colab": {
          "base_uri": "https://localhost:8080/"
        },
        "outputId": "836fa184-c4a0-44a4-c16b-2b98b0ca13fa"
      },
      "source": [
        "for i in range(len(df_user)):\r\n",
        "  if df_user.iloc[i, 0] == 'RQ21QO2HST63B28OIE5HQTGBLS002O2F_2020-11-05_15-43-07_':\r\n",
        "    print(df_user.iloc[i, 0])\r\n",
        "    print(i)"
      ],
      "execution_count": 23,
      "outputs": [
        {
          "output_type": "stream",
          "text": [
            "RQ21QO2HST63B28OIE5HQTGBLS002O2F_2020-11-05_15-43-07_\n",
            "2433\n",
            "RQ21QO2HST63B28OIE5HQTGBLS002O2F_2020-11-05_15-43-07_\n",
            "2434\n"
          ],
          "name": "stdout"
        }
      ]
    },
    {
      "cell_type": "code",
      "metadata": {
        "colab": {
          "base_uri": "https://localhost:8080/"
        },
        "id": "kdkDe21sDN5F",
        "outputId": "0c231c49-b7fd-404d-8621-24748b6f8c1a"
      },
      "source": [
        "print(df_user.iloc[169])\r\n",
        "print(80*\"-\")\r\n",
        "print(df_user.iloc[170])"
      ],
      "execution_count": 24,
      "outputs": [
        {
          "output_type": "stream",
          "text": [
            "name_file                 RQ21QO2HST63B28OIE5HQTGBLS0004K1_2020-09-30_15-06-37_                                                                                                                                                                                                                                                                                                                                                                                       \n",
            "transcripcion              un muy buen día latinas en condesa de ecopetrol en qué le puedo colaborar señor rivera en qué le puedo colaborar con mucho gusto si señor para filial del perdón permítame por favor detrás del área de servicios compartidos de agentes con los que se encargan de realizar este trámite permanezca en la línea por favor inmediato ante lo cual el congo de esta última de la recta real es él compartió personas tengo imbécil con esto \n",
            "speech_ratio              0.903                                                                                                                                                                                                                                                                                                                                                                                                                                       \n",
            "confidance                0.69                                                                                                                                                                                                                                                                                                                                                                                                                                        \n",
            "owner                     agente                                                                                                                                                                                                                                                                                                                                                                                                                                      \n",
            "Mes                       Septiembre                                                                                                                                                                                                                                                                                                                                                                                                                                  \n",
            "GUID_ORIGINAL             RQ21QO2HST63B28OIE5HQTGBLS0004K1                                                                                                                                                                                                                                                                                                                                                                                                            \n",
            "CC                        1.01605e+09                                                                                                                                                                                                                                                                                                                                                                                                                                 \n",
            "DNIS                      6.53236e+06                                                                                                                                                                                                                                                                                                                                                                                                                                 \n",
            "ANI                       3112471537                                                                                                                                                                                                                                                                                                                                                                                                                                  \n",
            "Start Date IXN Res        20200930 10:06:37                                                                                                                                                                                                                                                                                                                                                                                                                           \n",
            "End Date IXN Res          20200930 10:07:29                                                                                                                                                                                                                                                                                                                                                                                                                           \n",
            "IXN ID                    1.66958e+08                                                                                                                                                                                                                                                                                                                                                                                                                                 \n",
            "Tenant Name               Ecopetrol                                                                                                                                                                                                                                                                                                                                                                                                                                   \n",
            "INTERACTION_TYPE          Inbound                                                                                                                                                                                                                                                                                                                                                                                                                                     \n",
            "PLACE_NAME                Ecopetrol_52110                                                                                                                                                                                                                                                                                                                                                                                                                             \n",
            "Last VQ                   VQ_Ecopetrol_INB_Para_Salud                                                                                                                                                                                                                                                                                                                                                                                                                 \n",
            "Agent                     , C Queja Jinneth Constanza Rincon Pineda (jinrinpi) - 1016046663                                                                                                                                                                                                                                                                                                                                                                           \n",
            "Customer Talk Duration    52                                                                                                                                                                                                                                                                                                                                                                                                                                          \n",
            "Engage Duration           0                                                                                                                                                                                                                                                                                                                                                                                                                                           \n",
            "Linea                     Salud                                                                                                                                                                                                                                                                                                                                                                                                                                       \n",
            "Start_Date_hour           2020-09-30_15-06-37                                                                                                                                                                                                                                                                                                                                                                                                                         \n",
            "Name: 171, dtype: object\n",
            "--------------------------------------------------------------------------------\n",
            "name_file                 ULBQJ13L2545H7O07M2GVQ2468001P0M_2020-09-04_15-59-01_                                                                                                                                                                                                                                                                                                                                                                                                                                                                                                                                                                                                                                                                                                                                                                                                                                                                                                                                                                                                                                                                                                                                                                                                                                                                                                                                                                                                                                                                                                                                                                                                                                                                                                                                                                                                                                                                                                                                                                                                                                                                                                                                                                                                                                                                                                                                                                                                                                                                                                                                                                                                                                                                                                                                                                                                                                                                                                                                                                                                                                                                                                                                                                                                                                                                                                                                                                                                                                                                                                                                                                                                                                                                                                                                                                                                                                                                                                                                                                                                                                                                                                                                                                                                                                                                                                                                                                                                                                                                               \n",
            "transcripcion              terminé de alinear personalidad le hace el banco con quién tengo el gusto de hablar muy buenos días en qué le puedo colaborar de los ochenta y cinco cero siete si señor y señora de la buena le comenta entonces en este caso el hijo si lo permiten los órdenes típico los a de los derechos de cada mes o más entonces necesito un formato tres el crédito para diligenciarlo y enviarle entonces a los puedes subir por la plataforma no sé si ustedes están realizando los procesos de integración por más o nos está haciendo directamente a west permite sí señor le escucho bueno no si así que deja la opción de audio completo de todas formas pero hay una opción en vez de escoger el semestre por lo general es la última que hice derechos de gas dentro de cinco días desde el sistema en que estado se encuentra su ermita dos días para el cable de todas formas sé sí con con el año en que a veces no de actos más zonas de entonces en el tipo de solicitud y no sé si este rebelde y parís y de pronto poligonal cuál revisa reconocimiento legalización sí señor  bueno entonces permítame señor le podría enviar un correo con la información para realizarlo desde allí le confirmó al correo electrónico correo no en este caso para derechos de grado se les enseña a otro formato el formato que usted esté de diligencias permítame le le indico es el tres veinte cuatro no éste no éste no es necesario estos cambios del instante no lo dejen irse al hermano de adjunta el recibo de pago de los derechos de grado y no lo envían de vuelta el correo oficina virtual de personas a recuperar pronto como punto cero de señal sí sí señor no habría inconveniente con tal que no no serías como sobrepuesta la firma de emma y por hacernos dos preguntas nos proporciona tres minutos y puede estar al pendiente de su correo electrónico que me indique si los residentes del coste por usted señor no dos días y no sé si usted pálido correas llegó la información y le llegó el correo con la información al correo con buena activo de la reina punto monroe qué haces que me indique si si el efecto orden clases dominicales de pico si sabés lo que es una de las once y cinco de la mañana a su correcto ross por activos y salió del concorde que ofrece información y rena mon ron el ron es de plantas tocancipá los contactos que pronto actualizadas over en correos no deseados por el controvertido realizar instrucción presidencial del que pende del sistema que no parece el título de en el concierto trece delegados buenos intérpretes de el cristo están navegando momento por qué se fue de una acción en la parte superior de  enviar recibir y que es opcional y una opción de actualizar carpeta a bueno perfecto sí señora entonces que el indicador de formato para esta solicitud al mismo tiempo deben enterrarlo con certificación de león hacia los derechos de grado y recibe que usted lo cancelo y no nos dejes con este que es el tres veinte cuatro conos buenas y que corre del publicista éste es sí y no lo enviara correo oficina virtual del personal arrobe completos junto con puntos ciegos señor oficial de personal de compuestos punto completo creo que en este e p consta de diez entre ciento cuarenta y ocho básicamente están de pie la matrícula ordinarios y los cortos y además del formato que yo le envié el formato tres veinticuatro cuando usted lo elige a él le dice el concepto entonces estás contacto de derechos derivados mina y coloca el concilio el valor en sí reconocimiento reconocimiento de derechos de grabado sí señora intente pues ya entró el correo del cuerpo el correco consulta es kathy nombre estuvo tu registro de solicitud entonces los derechos de grado del que ya hizo de sillas contra la documentación enseña todo el el proceso si señor y si tienen la certificación del acta de juntar este formato ciento cuarenta y ocho si lo desea ya que si no mando termas sí señor si desea puedo contarlo no hay problema bueno yo no no hay les coloca en estanques derechos de sí señor sí señor electos el nombre ti señor krishna el titular en las tardes si señor si señor en orden con sí señor y si la tienes no hay problema bueno perfecto sí no hay problema recuerde estoy llama yo la dejo registra con número trece veintiséis treinta y seis tres que es el mismo cree allí entró el correo bueno y si no lo hacen los traseros por calificó la tensión entre jóvenes  tarde está bien \n",
            "speech_ratio              0.913                                                                                                                                                                                                                                                                                                                                                                                                                                                                                                                                                                                                                                                                                                                                                                                                                                                                                                                                                                                                                                                                                                                                                                                                                                                                                                                                                                                                                                                                                                                                                                                                                                                                                                                                                                                                                                                                                                                                                                                                                                                                                                                                                                                                                                                                                                                                                                                                                                                                                                                                                                                                                                                                                                                                                                                                                                                                                                                                                                                                                                                                                                                                                                                                                                                                                                                                                                                                                                                                                                                                                                                                                                                                                                                                                                                                                                                                                                                                                                                                                                                                                                                                                                                                                                                                                                                                                                                                                                                                                                                               \n",
            "confidance                0.615                                                                                                                                                                                                                                                                                                                                                                                                                                                                                                                                                                                                                                                                                                                                                                                                                                                                                                                                                                                                                                                                                                                                                                                                                                                                                                                                                                                                                                                                                                                                                                                                                                                                                                                                                                                                                                                                                                                                                                                                                                                                                                                                                                                                                                                                                                                                                                                                                                                                                                                                                                                                                                                                                                                                                                                                                                                                                                                                                                                                                                                                                                                                                                                                                                                                                                                                                                                                                                                                                                                                                                                                                                                                                                                                                                                                                                                                                                                                                                                                                                                                                                                                                                                                                                                                                                                                                                                                                                                                                                                               \n",
            "owner                     agente                                                                                                                                                                                                                                                                                                                                                                                                                                                                                                                                                                                                                                                                                                                                                                                                                                                                                                                                                                                                                                                                                                                                                                                                                                                                                                                                                                                                                                                                                                                                                                                                                                                                                                                                                                                                                                                                                                                                                                                                                                                                                                                                                                                                                                                                                                                                                                                                                                                                                                                                                                                                                                                                                                                                                                                                                                                                                                                                                                                                                                                                                                                                                                                                                                                                                                                                                                                                                                                                                                                                                                                                                                                                                                                                                                                                                                                                                                                                                                                                                                                                                                                                                                                                                                                                                                                                                                                                                                                                                                                              \n",
            "Mes                       Septiembre                                                                                                                                                                                                                                                                                                                                                                                                                                                                                                                                                                                                                                                                                                                                                                                                                                                                                                                                                                                                                                                                                                                                                                                                                                                                                                                                                                                                                                                                                                                                                                                                                                                                                                                                                                                                                                                                                                                                                                                                                                                                                                                                                                                                                                                                                                                                                                                                                                                                                                                                                                                                                                                                                                                                                                                                                                                                                                                                                                                                                                                                                                                                                                                                                                                                                                                                                                                                                                                                                                                                                                                                                                                                                                                                                                                                                                                                                                                                                                                                                                                                                                                                                                                                                                                                                                                                                                                                                                                                                                                          \n",
            "GUID_ORIGINAL             ULBQJ13L2545H7O07M2GVQ2468001P0M                                                                                                                                                                                                                                                                                                                                                                                                                                                                                                                                                                                                                                                                                                                                                                                                                                                                                                                                                                                                                                                                                                                                                                                                                                                                                                                                                                                                                                                                                                                                                                                                                                                                                                                                                                                                                                                                                                                                                                                                                                                                                                                                                                                                                                                                                                                                                                                                                                                                                                                                                                                                                                                                                                                                                                                                                                                                                                                                                                                                                                                                                                                                                                                                                                                                                                                                                                                                                                                                                                                                                                                                                                                                                                                                                                                                                                                                                                                                                                                                                                                                                                                                                                                                                                                                                                                                                                                                                                                                                                    \n",
            "CC                        8.02486e+07                                                                                                                                                                                                                                                                                                                                                                                                                                                                                                                                                                                                                                                                                                                                                                                                                                                                                                                                                                                                                                                                                                                                                                                                                                                                                                                                                                                                                                                                                                                                                                                                                                                                                                                                                                                                                                                                                                                                                                                                                                                                                                                                                                                                                                                                                                                                                                                                                                                                                                                                                                                                                                                                                                                                                                                                                                                                                                                                                                                                                                                                                                                                                                                                                                                                                                                                                                                                                                                                                                                                                                                                                                                                                                                                                                                                                                                                                                                                                                                                                                                                                                                                                                                                                                                                                                                                                                                                                                                                                                                         \n",
            "DNIS                      28400                                                                                                                                                                                                                                                                                                                                                                                                                                                                                                                                                                                                                                                                                                                                                                                                                                                                                                                                                                                                                                                                                                                                                                                                                                                                                                                                                                                                                                                                                                                                                                                                                                                                                                                                                                                                                                                                                                                                                                                                                                                                                                                                                                                                                                                                                                                                                                                                                                                                                                                                                                                                                                                                                                                                                                                                                                                                                                                                                                                                                                                                                                                                                                                                                                                                                                                                                                                                                                                                                                                                                                                                                                                                                                                                                                                                                                                                                                                                                                                                                                                                                                                                                                                                                                                                                                                                                                                                                                                                                                                               \n",
            "ANI                       033112632252                                                                                                                                                                                                                                                                                                                                                                                                                                                                                                                                                                                                                                                                                                                                                                                                                                                                                                                                                                                                                                                                                                                                                                                                                                                                                                                                                                                                                                                                                                                                                                                                                                                                                                                                                                                                                                                                                                                                                                                                                                                                                                                                                                                                                                                                                                                                                                                                                                                                                                                                                                                                                                                                                                                                                                                                                                                                                                                                                                                                                                                                                                                                                                                                                                                                                                                                                                                                                                                                                                                                                                                                                                                                                                                                                                                                                                                                                                                                                                                                                                                                                                                                                                                                                                                                                                                                                                                                                                                                                                                        \n",
            "Start Date IXN Res        20200904 10:59:01                                                                                                                                                                                                                                                                                                                                                                                                                                                                                                                                                                                                                                                                                                                                                                                                                                                                                                                                                                                                                                                                                                                                                                                                                                                                                                                                                                                                                                                                                                                                                                                                                                                                                                                                                                                                                                                                                                                                                                                                                                                                                                                                                                                                                                                                                                                                                                                                                                                                                                                                                                                                                                                                                                                                                                                                                                                                                                                                                                                                                                                                                                                                                                                                                                                                                                                                                                                                                                                                                                                                                                                                                                                                                                                                                                                                                                                                                                                                                                                                                                                                                                                                                                                                                                                                                                                                                                                                                                                                                                                   \n",
            "End Date IXN Res          20200904 11:14:25                                                                                                                                                                                                                                                                                                                                                                                                                                                                                                                                                                                                                                                                                                                                                                                                                                                                                                                                                                                                                                                                                                                                                                                                                                                                                                                                                                                                                                                                                                                                                                                                                                                                                                                                                                                                                                                                                                                                                                                                                                                                                                                                                                                                                                                                                                                                                                                                                                                                                                                                                                                                                                                                                                                                                                                                                                                                                                                                                                                                                                                                                                                                                                                                                                                                                                                                                                                                                                                                                                                                                                                                                                                                                                                                                                                                                                                                                                                                                                                                                                                                                                                                                                                                                                                                                                                                                                                                                                                                                                                   \n",
            "IXN ID                    1.58883e+08                                                                                                                                                                                                                                                                                                                                                                                                                                                                                                                                                                                                                                                                                                                                                                                                                                                                                                                                                                                                                                                                                                                                                                                                                                                                                                                                                                                                                                                                                                                                                                                                                                                                                                                                                                                                                                                                                                                                                                                                                                                                                                                                                                                                                                                                                                                                                                                                                                                                                                                                                                                                                                                                                                                                                                                                                                                                                                                                                                                                                                                                                                                                                                                                                                                                                                                                                                                                                                                                                                                                                                                                                                                                                                                                                                                                                                                                                                                                                                                                                                                                                                                                                                                                                                                                                                                                                                                                                                                                                                                         \n",
            "Tenant Name               Ecopetrol                                                                                                                                                                                                                                                                                                                                                                                                                                                                                                                                                                                                                                                                                                                                                                                                                                                                                                                                                                                                                                                                                                                                                                                                                                                                                                                                                                                                                                                                                                                                                                                                                                                                                                                                                                                                                                                                                                                                                                                                                                                                                                                                                                                                                                                                                                                                                                                                                                                                                                                                                                                                                                                                                                                                                                                                                                                                                                                                                                                                                                                                                                                                                                                                                                                                                                                                                                                                                                                                                                                                                                                                                                                                                                                                                                                                                                                                                                                                                                                                                                                                                                                                                                                                                                                                                                                                                                                                                                                                                                                           \n",
            "INTERACTION_TYPE          Inbound                                                                                                                                                                                                                                                                                                                                                                                                                                                                                                                                                                                                                                                                                                                                                                                                                                                                                                                                                                                                                                                                                                                                                                                                                                                                                                                                                                                                                                                                                                                                                                                                                                                                                                                                                                                                                                                                                                                                                                                                                                                                                                                                                                                                                                                                                                                                                                                                                                                                                                                                                                                                                                                                                                                                                                                                                                                                                                                                                                                                                                                                                                                                                                                                                                                                                                                                                                                                                                                                                                                                                                                                                                                                                                                                                                                                                                                                                                                                                                                                                                                                                                                                                                                                                                                                                                                                                                                                                                                                                                                             \n",
            "PLACE_NAME                Ecopetrol_52053                                                                                                                                                                                                                                                                                                                                                                                                                                                                                                                                                                                                                                                                                                                                                                                                                                                                                                                                                                                                                                                                                                                                                                                                                                                                                                                                                                                                                                                                                                                                                                                                                                                                                                                                                                                                                                                                                                                                                                                                                                                                                                                                                                                                                                                                                                                                                                                                                                                                                                                                                                                                                                                                                                                                                                                                                                                                                                                                                                                                                                                                                                                                                                                                                                                                                                                                                                                                                                                                                                                                                                                                                                                                                                                                                                                                                                                                                                                                                                                                                                                                                                                                                                                                                                                                                                                                                                                                                                                                                                                     \n",
            "Last VQ                   VQ_Ecopetrol_INB_Para_Personal                                                                                                                                                                                                                                                                                                                                                                                                                                                                                                                                                                                                                                                                                                                                                                                                                                                                                                                                                                                                                                                                                                                                                                                                                                                                                                                                                                                                                                                                                                                                                                                                                                                                                                                                                                                                                                                                                                                                                                                                                                                                                                                                                                                                                                                                                                                                                                                                                                                                                                                                                                                                                                                                                                                                                                                                                                                                                                                                                                                                                                                                                                                                                                                                                                                                                                                                                                                                                                                                                                                                                                                                                                                                                                                                                                                                                                                                                                                                                                                                                                                                                                                                                                                                                                                                                                                                                                                                                                                                                                      \n",
            "Agent                     , C Persn Edwar Mauricio Cruz (edwmaucr) - 80248594                                                                                                                                                                                                                                                                                                                                                                                                                                                                                                                                                                                                                                                                                                                                                                                                                                                                                                                                                                                                                                                                                                                                                                                                                                                                                                                                                                                                                                                                                                                                                                                                                                                                                                                                                                                                                                                                                                                                                                                                                                                                                                                                                                                                                                                                                                                                                                                                                                                                                                                                                                                                                                                                                                                                                                                                                                                                                                                                                                                                                                                                                                                                                                                                                                                                                                                                                                                                                                                                                                                                                                                                                                                                                                                                                                                                                                                                                                                                                                                                                                                                                                                                                                                                                                                                                                                                                                                                                                                                                 \n",
            "Customer Talk Duration    760                                                                                                                                                                                                                                                                                                                                                                                                                                                                                                                                                                                                                                                                                                                                                                                                                                                                                                                                                                                                                                                                                                                                                                                                                                                                                                                                                                                                                                                                                                                                                                                                                                                                                                                                                                                                                                                                                                                                                                                                                                                                                                                                                                                                                                                                                                                                                                                                                                                                                                                                                                                                                                                                                                                                                                                                                                                                                                                                                                                                                                                                                                                                                                                                                                                                                                                                                                                                                                                                                                                                                                                                                                                                                                                                                                                                                                                                                                                                                                                                                                                                                                                                                                                                                                                                                                                                                                                                                                                                                                                                 \n",
            "Engage Duration           0                                                                                                                                                                                                                                                                                                                                                                                                                                                                                                                                                                                                                                                                                                                                                                                                                                                                                                                                                                                                                                                                                                                                                                                                                                                                                                                                                                                                                                                                                                                                                                                                                                                                                                                                                                                                                                                                                                                                                                                                                                                                                                                                                                                                                                                                                                                                                                                                                                                                                                                                                                                                                                                                                                                                                                                                                                                                                                                                                                                                                                                                                                                                                                                                                                                                                                                                                                                                                                                                                                                                                                                                                                                                                                                                                                                                                                                                                                                                                                                                                                                                                                                                                                                                                                                                                                                                                                                                                                                                                                                                   \n",
            "Linea                     Personal                                                                                                                                                                                                                                                                                                                                                                                                                                                                                                                                                                                                                                                                                                                                                                                                                                                                                                                                                                                                                                                                                                                                                                                                                                                                                                                                                                                                                                                                                                                                                                                                                                                                                                                                                                                                                                                                                                                                                                                                                                                                                                                                                                                                                                                                                                                                                                                                                                                                                                                                                                                                                                                                                                                                                                                                                                                                                                                                                                                                                                                                                                                                                                                                                                                                                                                                                                                                                                                                                                                                                                                                                                                                                                                                                                                                                                                                                                                                                                                                                                                                                                                                                                                                                                                                                                                                                                                                                                                                                                                            \n",
            "Start_Date_hour           2020-09-04_15-59-01                                                                                                                                                                                                                                                                                                                                                                                                                                                                                                                                                                                                                                                                                                                                                                                                                                                                                                                                                                                                                                                                                                                                                                                                                                                                                                                                                                                                                                                                                                                                                                                                                                                                                                                                                                                                                                                                                                                                                                                                                                                                                                                                                                                                                                                                                                                                                                                                                                                                                                                                                                                                                                                                                                                                                                                                                                                                                                                                                                                                                                                                                                                                                                                                                                                                                                                                                                                                                                                                                                                                                                                                                                                                                                                                                                                                                                                                                                                                                                                                                                                                                                                                                                                                                                                                                                                                                                                                                                                                                                                 \n",
            "Name: 173, dtype: object\n"
          ],
          "name": "stdout"
        }
      ]
    },
    {
      "cell_type": "code",
      "metadata": {
        "colab": {
          "base_uri": "https://localhost:8080/"
        },
        "id": "jMWUIUB1CDZH",
        "outputId": "64a81da1-c0b7-4e73-88ca-c64cf8180a82"
      },
      "source": [
        "df_user.shape"
      ],
      "execution_count": 25,
      "outputs": [
        {
          "output_type": "execute_result",
          "data": {
            "text/plain": [
              "(3379, 22)"
            ]
          },
          "metadata": {
            "tags": []
          },
          "execution_count": 25
        }
      ]
    },
    {
      "cell_type": "markdown",
      "metadata": {
        "id": "MYIR3sVG2j3W"
      },
      "source": [
        "Creacion de variables para detectar atipicos\n"
      ]
    },
    {
      "cell_type": "code",
      "metadata": {
        "id": "InqLz04z2rHq"
      },
      "source": [
        "# df_agent['len_trans']=df_agent['transcripcion'].apply(lambda x: len(x))\n",
        "# df_user['len_trans']=df_user['transcripcion'].apply(lambda x: len(x))"
      ],
      "execution_count": 26,
      "outputs": []
    },
    {
      "cell_type": "markdown",
      "metadata": {
        "id": "8eGK4nY24eGY"
      },
      "source": [
        "Funcion global para la frecuencia de las palabras y polaridad de sentimientos"
      ]
    },
    {
      "cell_type": "code",
      "metadata": {
        "id": "U5Gkvq-r4iXc"
      },
      "source": [
        "def plot_10_most_common_words(count_data, count_vectorizer):\n",
        "   #Grafico de frecuencias\n",
        "    words = count_vectorizer.get_feature_names()\n",
        "    total_counts = np.zeros(len(words))\n",
        "    for t in count_data:\n",
        "        total_counts+=t.toarray()[0]\n",
        "    \n",
        "    count_dict = (zip(words, total_counts))\n",
        "    count_dict = sorted(count_dict, key=lambda x:x[1], reverse=True)[0:30]\n",
        "    words = [w[0] for w in count_dict]\n",
        "    counts = [w[1] for w in count_dict]\n",
        "    x_pos = np.arange(len(words)) \n",
        "    \n",
        "    fig = px.bar( x=words, y=counts, color_discrete_sequence=[\"darkgreen\",\"gold\",\"yellowgreen\"], title='TÉRMINOS MÁS COMUNES EN:'+' '+segmento,  labels=dict(x=\"Palabra Clave\", y=\"Frecuencia\", color=\"Place\")) #COLORES DE ECOPETROL, PUEDES VARIAR LOS COLORES\n",
        "    fig.write_html(segmento+\"_.html\")\n",
        "    fig.show()\n",
        "\n",
        "#Puntuadora de sentimientos\n",
        "def polaridad(x): return np.nan if str(x) == '' else clf.predict(x)\n",
        "\n",
        "#Ajustador de vocabulario\n",
        "def adjustment_all(text, dic):\n",
        "    for i, j in dic.items():\n",
        "        text = text.replace(i, j)\n",
        "    return text\n",
        "\n",
        "def get_sentiment(model,text):\n",
        "    text = clean_text(text)\n",
        "    #tokenize\n",
        "    twt = token.texts_to_sequences([text])\n",
        "    twt = sequence.pad_sequences(twt, maxlen=max_len, dtype='int32')\n",
        "    sentiment = model.predict(twt,batch_size=1,verbose = 2)\n",
        "    sent = np.round(np.dot(sentiment,100).tolist(),0)[0]\n",
        "    result = pd.DataFrame([sent_to_id.keys(),sent]).T\n",
        "    result.columns = [\"sentiment\",\"percentage\"]\n",
        "    result=result[result.percentage !=0]\n",
        "    return result\n",
        "\n",
        "\n",
        "def plot_result(df, segment):\n",
        "    #colors=['#D50000','#000000','#008EF8','#F5B27B','#EDECEC','#D84A09','#019BBD','#FFD000','#7800A0','#098F45','#807C7C','#85DDE9','#F55E10']\n",
        "    #fig = go.Figure(data=[go.Pie(labels=df.sentiment,values=df.percentage, hole=.3,textinfo='percent',hoverinfo='percent+label',marker=dict(colors=colors, line=dict(color='#000000', width=2)))])\n",
        "    #fig.show()\n",
        "    colors={'amor':'rgb(213,0,0)','vacio':'rgb(0,0,0)',\n",
        "                    'incertidumbre':'rgb(0,142,248)','entusiasmo':'rgb(245,178,123)',\n",
        "                    'neutral':'rgb(237,236,236)','preocupación':'rgb(216,74,9)',\n",
        "                    'sorpresa':'rgb(1,155,189)','diversión':'rgb(255,208,0)',\n",
        "                    'odio':'rgb(120,0,160)','felicidad':'rgb(9,143,69)',\n",
        "                    'desinterés':'rgb(128,124,124)','alivio':'rgb(133,221,233)',\n",
        "                    'enojo':'rgb(245,94,16)',\n",
        "                    'disfrute': 'rgb(141,235,59)',\n",
        "                    'miedo': 'rgb(235,59,217)'\n",
        "            }\n",
        "    col_2={}\n",
        "    for i in df.sentiment.to_list():\n",
        "        col_2[i]=colors[i]\n",
        "    fig = px.pie(df,values='percentage', names='sentiment',color='sentiment',color_discrete_map=col_2,hole=0.3,title=segment,)\n",
        "    fig.show()\n",
        "    fig.write_html(segment+\"_emotion.html\")"
      ],
      "execution_count": 27,
      "outputs": []
    },
    {
      "cell_type": "markdown",
      "metadata": {
        "id": "3x6c1cCEctzR"
      },
      "source": [
        "**PARA DETECTAR LAS EMOCIONES SIEMPRE SE DEBE CORRER LAS SIGUIENTES LINEAS:**"
      ]
    },
    {
      "cell_type": "markdown",
      "metadata": {
        "id": "9gt3i36V0tKy"
      },
      "source": [
        "#LSTM FOR EMOTION EXTRACTION"
      ]
    },
    {
      "cell_type": "markdown",
      "metadata": {
        "id": "whT5HCnhnQMb"
      },
      "source": [
        "En esta sección se explicará como se elaboró el modelo para la extracción de emociones de las conversaciones de los usuarios. Todos los dataset empleados están en inglés. El modelo puede elaborarse o modificarse si se logra encontrar un dataset con la clasificación de las emociones en español. También podemos mejorar el modelo corriendo con emmbedings entrenados, como word2vec u otros. El modelo ya se encuentra guardado y puede ser empleado en cualquier momento, sin embargo, si se quiere modificar el modelo, algún parámetros se iene que volver a correr y guardarlo en formato que tensor flow pueda reconocer después."
      ]
    },
    {
      "cell_type": "markdown",
      "metadata": {
        "id": "fsKPrjLunLiC"
      },
      "source": [
        "**Carga de los datos para el train**"
      ]
    },
    {
      "cell_type": "code",
      "metadata": {
        "id": "1hs1EAwO0vyK"
      },
      "source": [
        "data = pd.read_csv(\"/content/drive/MyDrive/data/ABPS/NPL_Ecopetrol/emotion_analysis/text_emotion.csv\")\n",
        "data0=pd.read_csv(\"/content/drive/My Drive/data/ABPS/NPL_Ecopetrol/emotion_analysis/train.txt\", sep=';',names=[\"content\",\"sentiment\"])\n"
      ],
      "execution_count": 28,
      "outputs": []
    },
    {
      "cell_type": "code",
      "metadata": {
        "id": "wuQe1mRU00Rt"
      },
      "source": [
        "#Unión de los dataframes\n",
        "data=data[['content','sentiment']]\n",
        "data0=data0[['content','sentiment']]\n",
        "data=pd.concat([data, data0],axis=0)\n",
        "data.reset_index(inplace=True)"
      ],
      "execution_count": 29,
      "outputs": []
    },
    {
      "cell_type": "code",
      "metadata": {
        "id": "Mj8s5YZd068i",
        "colab": {
          "base_uri": "https://localhost:8080/"
        },
        "outputId": "51c7d38a-97f4-4a06-e97d-90fdeac9fd94"
      },
      "source": [
        "#Corregir errores de tipografía,\n",
        "misspell_data = pd.read_csv(\"/content/drive/My Drive/data/ABPS/NPL_Ecopetrol/emotion_analysis/spell.txt\",sep=\":\",names=[\"correction\",\"misspell\"])\n",
        "misspell_data.misspell = misspell_data.misspell.str.strip()\n",
        "misspell_data.misspell = misspell_data.misspell.str.split(\" \")\n",
        "misspell_data = misspell_data.explode(\"misspell\").reset_index(drop=True)\n",
        "misspell_data.drop_duplicates(\"misspell\",inplace=True)\n",
        "miss_corr = dict(zip(misspell_data.misspell, misspell_data.correction))\n",
        "\n",
        "#Sample of the dict\n",
        "{v:miss_corr[v] for v in [list(miss_corr.keys())[k] for k in range(20)]}"
      ],
      "execution_count": 30,
      "outputs": [
        {
          "output_type": "execute_result",
          "data": {
            "text/plain": [
              "{'Steffen': 'Stephen',\n",
              " 'abilitey': 'ability',\n",
              " 'abouy': 'about',\n",
              " 'absorbtion': 'absorption',\n",
              " 'accidently': 'accidentally',\n",
              " 'accomodate': 'accommodate',\n",
              " 'acommadate': 'accommodate',\n",
              " 'acord': 'accord',\n",
              " 'adultry': 'adultery',\n",
              " 'aggresive': 'aggressive',\n",
              " 'alchohol': 'alcohol',\n",
              " 'alchoholic': 'alcoholic',\n",
              " 'allieve': 'alive',\n",
              " 'alright': 'all_right',\n",
              " 'aquantance': 'acquaintance',\n",
              " 'equire': 'acquire',\n",
              " 'nevade': 'Nevada',\n",
              " 'presbyterian': 'Presbyterian',\n",
              " 'rsx': 'RSX',\n",
              " 'susan': 'Susan'}"
            ]
          },
          "metadata": {
            "tags": []
          },
          "execution_count": 30
        }
      ]
    },
    {
      "cell_type": "code",
      "metadata": {
        "id": "Vrl4eSt40__u"
      },
      "source": [
        "def misspelled_correction(val):\n",
        "  #Función que corrige los errores de tipografía\n",
        "    for x in val.split(): \n",
        "        if x in miss_corr.keys(): \n",
        "            val = val.replace(x, miss_corr[x]) \n",
        "    return val"
      ],
      "execution_count": 31,
      "outputs": []
    },
    {
      "cell_type": "code",
      "metadata": {
        "id": "7OdtWA891Feg"
      },
      "source": [
        "data[\"clean_content\"] = data.content.apply(lambda x : misspelled_correction(x))"
      ],
      "execution_count": 32,
      "outputs": []
    },
    {
      "cell_type": "code",
      "metadata": {
        "id": "WAwqhilC1GBE"
      },
      "source": [
        "#Contractions, Dataset que contiene las contracciones típicas del inglés lo cargamos para eliminar este\n",
        "#tipo de escritura en el texto en inglés\n",
        "contractions = pd.read_csv(\"/content/drive/My Drive/data/ABPS/NPL_Ecopetrol/emotion_analysis/datasets_contractions.csv\")\n",
        "cont_dic = dict(zip(contractions.Contraction, contractions.Meaning))"
      ],
      "execution_count": 33,
      "outputs": []
    },
    {
      "cell_type": "code",
      "metadata": {
        "id": "6f5f-6Xu1Ike"
      },
      "source": [
        "def cont_to_meaning(val): \n",
        "  #Función que retira las contracciones en el texto (Inglés)\n",
        "    for x in val.split(): \n",
        "        if x in cont_dic.keys(): \n",
        "            val = val.replace(x, cont_dic[x]) \n",
        "    return val"
      ],
      "execution_count": 34,
      "outputs": []
    },
    {
      "cell_type": "code",
      "metadata": {
        "id": "ZOyE253L1MTe"
      },
      "source": [
        "data.clean_content = data.clean_content.apply(lambda x : cont_to_meaning(x))\n",
        "data[\"clean_content\"]=data.content.apply(lambda x : p.clean(x))"
      ],
      "execution_count": 35,
      "outputs": []
    },
    {
      "cell_type": "code",
      "metadata": {
        "id": "-RCropYb1OVr"
      },
      "source": [
        "#Puntuaction \n",
        "def punctuation(val): \n",
        "  #Función que remueve otro titpo de puntuaciones y simbolos\n",
        "    punctuations = '''()-[]{};:'\"\\,<>./@#$%^&_~'''\n",
        "  \n",
        "    for x in val.lower(): \n",
        "        if x in punctuations: \n",
        "            val = val.replace(x, \" \") \n",
        "    return val"
      ],
      "execution_count": 36,
      "outputs": []
    },
    {
      "cell_type": "markdown",
      "metadata": {
        "id": "RS_RYz3Ql7Pj"
      },
      "source": [
        "#Limpieza de los audios"
      ]
    },
    {
      "cell_type": "markdown",
      "metadata": {
        "id": "RO-hOcvbrz5W"
      },
      "source": [
        "En esta sección se realiza una limpieza general de los audios, eliminar stop words generales como nombres apellidos, números, preposiociones y demás."
      ]
    },
    {
      "cell_type": "code",
      "metadata": {
        "id": "EmSvDThhrQwW"
      },
      "source": [
        "STOP_WORDS1=[]\n",
        "for i in STOP_WORDS:\n",
        "  a=elimina_tildes(i)\n",
        "  STOP_WORDS1.append(i)"
      ],
      "execution_count": 37,
      "outputs": []
    },
    {
      "cell_type": "markdown",
      "metadata": {
        "id": "phtxceVKretd"
      },
      "source": [
        "Definicion Stop words_globales"
      ]
    },
    {
      "cell_type": "markdown",
      "metadata": {
        "id": "jpwUrwEk0an_"
      },
      "source": [
        "Nombres"
      ]
    },
    {
      "cell_type": "code",
      "metadata": {
        "id": "btfCjCGkrisZ"
      },
      "source": [
        "a_name = ['aarn','aaron','abad','abadia','abadiano','abalo','abaunza','abbigail','abdias','abdubal','abdul','abdulio','abel','abelanid','abelardo','abella','abello','abigail','abimel','abogados','abonce','abondano','abraham','abrahan','abreo','absalon','ac','acalo','accion','acciones','acebedo','acebo','acened','acenet','aceneth','acero','acevedo','acevedoq','achicanoy','achinte','achipiz','achly','acosta','acuña','ada','adaine','adalberto','adalena','adalgisa','adalgiza','adalia','adaluz','adames','adan','adarbe','adarve','adda','adecco','adecio','adel','adela','adelaida','adelayda','adelcia','adelfa','adelina','adelinda','adelmo','adelsaina','ademir','adey','adiel','adiela','adila','adisson','admiautos','administracion','administraciones','administradora','adnelice','adolfo','adonis','adoracion','adrada','adrian','adrian','adriana','adriana','adriano','aduanas','afanador','agatha','agaton','agencia','agnelio','agrace','agraces','agrada','agreda','agredo','agregado','agricolas','agricolas','agron','agropecuaria','aguacia','aguado','agualimpia','aguas','aguayo','agudelo','agueda','aguelo','aguiar','aguilar','aguilera','aguillon','aguinaga','aguiño','aguirre','agustin','agustina','agusto','ahedo','ahumada','aiba','aicardo','aicedo','aida','aidaly','aide','aidee','aidy','aily','ailyn','aimer','aimy','ainosas','airlyng','aissa','aitana','aiza','aizmeth','ala','alaba','aladino','alaguna','alaia','alain','alan','alana','alarcon','alarcon','alava','alba','alban','albaran','albaro','albarracin','albear','albeir','albeiro','albert','alberta','alberto','albery','albey','albino','albornoz','alcalde','alcaldia','alcaldia','alcaraz','alcazar','alcibiades','alcides','alcira','alda','aldana','aldarriaga','aldemar','alderete','alderis','aldery','aldineber','alean','alechor','alegria','alegria','alegrias','aleiber','aleicy','aleida','alejandra','alejandrina','alejandro','alejjandro','alejnadro','aleman','alemesa','alencia','ales','alessandra','alex','alexa','alexander','alexandra','alexandre','alexei','alexi','alexis','alexy','aleyda','aleyi','alezander','alfa','alfaro','alferez','alfonso','alfredo','ali','alia','alianza','alicia','alicio','alicua','alida','alimentarias','alimentos','alina','alinton','aliria','alirio','alis','alisa','alisamar','alison','alisson','alix','aliz','aljadi','aljure','allison','allisson','alliver','alma','almanza','almario','almeida','almendra','almendres','almendrez','alnoimer','alomia','alondra','alonso','alos','alpaca','alpala','alquedan','alquive','alsate','altamar','altamirano','altura','alulema','aluminio','alva','alvarado','alvaran','alvarez','alvarez','alvaro','alvear','alvedia','alveiro','alvenis','alves','alviar','alvis','alviz','alyn','alysson','alzamora','alzate','alzle','ama','amada','amadeo','amado','amador','amaia','amalci','amalf','amalfi','amalfy','amalia','amall','amancio','amanda','amarfi','amariles','amaris','amaury','amaya','amazo','ambuila','ambuz','amelia','amelie','amer','america','americo','amezquita','amibia','amilcar','amilvia','amin','amina','aminta','amira','amor','amorocho','amortegui','amortiteca','amparo','ampudia','amu','amy','ana','ana|','anabeiba','anabeiva','anabel','anabela','anabolena','anacona','anahi','anahia','anaibe','anali','analida','analy','anatalia','anavela','anaya','anayaeli','anayibe','anayiber','anchico','ancizar','and','ander','anderson','andersson','andica','andrade','andre','andrea','andreina','andres','andres','andrew','andrey','andry','anduquia','andy','anely','anganoy','angarita','angel','angel','angela','angeles','angeli','angeli','angelica','angelica','angelik','angelina','angeline','angelino','angello','angelly','angelo','angely','angge','anggy','angi','angie','angiee','angisay','angola','angrino','angucho','angulo','angy','anibal','anidisney','anirley','anita','anjie','anllely','anlly','anna','anni','annie','annirley','anny','anonio','anrrango','ante','antero','anthonella','anthony','antia','antidio','antimo','antolinez','antonella','antoni','antonia','antonieta','antonio','antony','antuan','anturi','anuar','anyel','anyela','anyeli','anyella','anyelli','anyelo','anyely','anyi','anyuri','anzola','añasco','apache','aparicio','apellidos','apolinar','apolinaria','apolindar','aponte','aponza','apostol','apraez','aptos','aqueli','aquilina','ara','araceli','aracelly','aracely','aragon','aragon','aramburo','araminta','arana','aranda','arandia','arando','aranelly','arango','aranguren','arantxa','aranza','aranzazu','araque','arara','ararat','arasmith','araujo','arbeiro','arbelaez','arbey','arboleda','arcadio','arce','arcelia','arcelio','arcenio','arces','arcesio','arcila','arcini','arciniega','arciniegas','arcira','arcley','arcon','arcos','ardila','aredondo','areiza','arelis','arellano','arena','arenales','arenas','arevalo','argelia','argemiro','argenis','argenys','argenzola','argermiro','argidia','argote','argoti','argotte','argoty','arguello','ariadna','ariana','ariane','arias','aricapa','aricia','ariel','ariela','aris','arismendi','arismendy','arist','aristides','aristizabal','aristizabal','aristobulo','ariza','arizabalate','arizabaleta','arizala','arizmendi','ariztizabal','arlency','arleny','arles','arlesa','arlex','arley','arlony','arly','armando','armenia','armero','armida','arnedo','arnobia','arnobio','arnoby','arnoldo','arnolfo','arnolia','arnoris','arnory','arnubia','arnulfo','aroca','arocemena','arosa','arosemena','arpesod','arquimedes','arrechea','arredondo','arrerondo','arriaga','arrias','arriero','arrieta','arris','arrollo','arroyabe','arroyave','arroyo','arrubia','arrubla','arsayus','arsecio','arsenio','arsesio','arteaga','artemio','artemo','artiaga','artunduaga','arturo','arvey','ary','arzayus','arzayuz','asbeidy','ascanio','ascencio','asceneth','ascension','ascuntar','asdrubal','asencion','aseneth','aseo','asesorias','ashley','ashli','ashlly','ashly','asis','aslan','asly','asmed','asmucol','asnoraldo','asociacion','asociados','asprilla','astaiza','astañeda','astella','asteria','asterio','astolfo','astrid','astros','astudillo','atanasio','ategue','atehortua','athala','atias','atuesta','audberto','audini','audivert','audrey','audry','augusto','aulestia','aulia','aulin','aura','auraelina','aurelena','aurelia','aureliano','aurelina','aurelinas','aurelio','auristella','aurita','aurora','ausecha','ausique','austin','autocorp','autonoma','aux','auxilio','avalo','avalos','avella','avendaño','avieser','avila','avila','aviles','avirama','avril','axel','aya','ayala','ayazo','aychell','ayda','ayde','aydee','aydivy','ayerbe','ayerve','ayili','aylin','aymer','ayner','ayora','ayovi','ayuda','aza','azael','azcarate','azucena','azyade','b.','babativa','baca','bacca','badillo','bados','baena','bahamon','bahamon','bahos','baicue','bairon','balanta','balantalina','balbin','balbina','balcazar','balcazar','baldemar','baldomero','baldrich','balladalez','ballen','ballestas','ballesteros','balmes','balmory','baltan','baltazar','balvin','bambague','banderas','banessa','banguera','banguero','banol','banoy','banquet','bañol','baos','baquero','barahona','barandica','barbara','barbetti','barbosa','barcenas','barco','barlaham','barney','baron','barona','barragan','barrantes','barreiro','barreneche','barrera','barrero','barreto','barrientos','barriga','barrios','barroso','barrrera','bartola','bartolo','bartolome','basante','basilia','basilio','bastidas','basto','bastos','batero','batioja','bautista','bayardo','bayer','bayona','bayron','bazan','bazantes','bbva','beatris','beatriz','beca','becca','beccy','becerra','becoche','bedolla','bedon','bedoya','beiba','beimer','bejarano','beky','bela','belalcazar','belarmina','belavenko','belen','belinda','belisa','belisario','belizabet','bella','bellaizan','bellalid','bello','belly','belquiz','beltran','beltran','benachi','benalcazar','benardo','benavides','benavidez','benedicto','benemerito','benhur','benicia','benicio','benigno','benilda','benilde','benites','benitez','benito','benjamin','benjamin','benjumea','benvides','benzon','berardo','berenice','berfalia','bermeo','bermudez','bermudez','bermuidez','bernabe','bernal','bernales','bernarda','bernardo','bernate','bernelio','berney','beron','beronica','berrio','berta','bertha','berthalia','bertil','bertilda','bertilde','bertulfo','besrnal','bessy','betancour','betancourt','betancourth','betancur','betancurluis','betancurt','betancurth','betes','bethy','betsabe','betsabeth','betsy','betty','betulia','beyanil','beylin','bibian','bibiana','biggitti','billy','biojo','birmany','biscue','biscunda','bislealdo','bismar','biteli','biuza','biviam','bivian','biviana','blackburn','bladimir','blainer','blanca','blanco','blandon','blandon','bleik','bleisi','blexon','bobadilla','bocanegra','bogota','bohorquez','bojaca','bojorge','bolaños','bolañoz','bolena','bolivar','bolivia','bolney','bomberos','bone','bonifacia','bonilla','booder','borda','boris','borja','bornachera','borrais','borras','borrero','botache','botello','botero','botina','bouzas','bpo','brady','brahant','brahiam','brahian','brahyam','bram','bran','brand','brandon','brasilia','bravo','brayam','brayan','braynny','bredy','breiner','brenda','brenyer','breychell','breydy','breyner','brian','briceida','bricella','briceño','briches','bridge','bridgee','brigette','briggitte','brigid','brigida','brigitte','brilli','brillit','brillith','brilly','brillyth','brindarly','briñez','brito','britsy','brittany','britto','briyid','briyith','briyitt','broquis','bruce','brunilda','bryan','bryllitte','btancourth','bubu','bucanero','bucheli','buchelli','buelvas','buenaventura','buendia','bueno','buesaquillo','buga','buila','builes','buitrago','buitron','bula','burbano','burgos','burgues','buritica','buritica','busscar','bustamante','bustillos','bustos','byron','c','cabal','caballero','cabanillas','cabanzo','cabezas','cabral','cabrales','cabrera','cacais','caceres','caceres','cadavid','cadena','caez','cafe','cagua','caguasango','cagueñas','caicedo','caipe','cairasco','caisa','caja','cajares','cajas','cajiado','cajiao','cajica','cajigas','calambas','calapsu','caldas','calderon','calderon','caldon','caleb','caleño','calero','calibio','calima','caliredes','calle','callejas','calles','calonge','calonje','caludia','calvache','calvaran','calvo','calzada','camacho','camargo','camayo','cambindo','camelo','camila','camilo','camla','campaña','campas','campaz','campeon','campiño','campo','campoelias','campos','campuzano','canabal','canache','canal','canaz','canchala','canchon','cancimance','cancimanci','candamil','candel','candela','candelo','candida','cando','canencio','canga','canizales','canizalez','cano','cansimanse','cantero','cantillo','cantor','canvindo','caña','cañar','cañarte','cañas','cañaveral','cañizalez','cañola','cañon','capera','capote','capurro','carabali','carabalica','caraballo','caracas','carbonell','carbonero','cardenas','cardenas','cardeño','cardiel','cardona','cardoso','cardoza','cardozo','cardula','caren','cargues','caridb','carillo','carime','carina','carla','carlina','carlo','carlomar','carlos','carlosama','carlota','carmelina','carmelita','carmelo','carmen','carmensa','carmenza','carmeza','carminia','carmiña','carmona','carnes','caro','carol','carola','carolan','carolay','carolina','caroll','carranza','carrascal','carrasquilla','carreño','carrera','carrero','carretero','carriillo','carrillo','cartagena','carton','carvajal','carvjal','casa','casadiego','casallan','casallas','casamachin','casanova','casañas','casaran','casas','casierra','casilimas','caso','casseta','cassetta','casso','castaneda','castano','castañeda','castaño','casteblanco','castelblanco','castellano','castellanos','casteñeda','castiblanco','castilla','castillo','castilo','castiño','castrillo','castrillon','castro','castsñeda','catacoli','catacoly','catalina','catalino','catamuscay','cataño','caterin','cathalina','catherin','catherine','cathy','catuche','cauca','caucayo','caviche','caviedes','caycedo','cc','cdem&cdeb','ceballos','cebastian','cecilia','cecilio','cedano','cedeño','cediel','ceferino','ceforo','celada','celades','celen','celene','celeni','celeny','celeste','celestino','celi','celia','celimo','celina','celis','celiz','celmira','celorio','celsa','celso','celvia','cely','cenaida','cenaira','cenayda','cened','ceneida','cenelia','cenelli','cenelly','cenen','ceneyda','cenide','cenider','cenobia','cenon','centeno','centro','cepeda','cerezo','ceron','ceron','cerpa','cerquera','cerrato','cersain','certuche','cervantes','cervera','cesar','cespedes','cess','cexprom','cha','chachanoy','chachinoy','chacon','chacua','chacue','chaguendo','chagueza','chaia','chaire','chala','chalacan','chalarca','chalare','chalarga','chambo','chambueta','chamizas','chamizo','chamorro','champutiz','chanchi','chantre','chañag','chapal','chaparro','chapid','chapurri','chara','charelin','charfuelan','chariana','charlotte','charon','charria','charrupi','charry','chasqui','chate','chaura','chausa','chaux','chavarria','chavarriaga','chavarro','chaverra','chaves','chavez','chayrla','chazatar','chazy','chec','checa','chelsea','chen','chenche','chepe','cheverry','chia','chiappe','chica','chicaiza','chicangana','chicue','chila','chilama','chilehuit','chilito','chilo','chima','chimachana','chimunja','chincha','chinchila','chinchilla','chinguad','chipichape','chiquito','chirley','chirpofer','chistian','chitan','chitiva','chito','choco','choconta','chocue','choi','cholo','chore','christiam','christian','christophe','christopher','christother','chrystian','chucrala','chud','chujfi','churi','cia','cidre','cielo','cifuentes','cilene','cileny','cilia','cindrid','cindy','cinia','cinthia','cinthya','cintya','cirley','ciro','cisley','cisneros','cisto','civiles','clair','claire','clara','clarena','clarencio','claret','claribel','claritza','clarivel','clariza','claros','claudia','claudina','claudineth','claudio','claver','clavijo','clayde','cleiser','cleiver','clelia','clemencia','clemente','clementina','cleofe','cleofelina','cleotilde','climaco','clinica','clinica','cliniserra','co','cobo','cobos','cock','cocoma','cocuñame','cocuy','codognotto','cogollo','cohecha','colina','coll','collantes','collazos','collo','colmenares','colo','colombia','colombiana','colombo','colonia','colorado','colpensiones','colviseg','combariza','comercio','cometa','comfamiliar','compañia','compuser','con','concai','concejo','concepcion','concepcion','concha','conda','conde','coneo','confecciones','congo','conindex','conny','conrado','consolacion','constain','constantino','constanza','construcciones','constructora','consuelo','consuleo','consultores','conto','contratando','contreras','cook','coolaborar','coomulsap','coopetativa','copete','coqueco','coques','coquis','coral','corbeta','corcino','cordero','cordoba','cordoba','cordobes','cordovez','corina','corleone','cornejo','cornelia','cornelio','cornelito','corodoba','coromoto','corona','coronado','coronel','corporacion','corral','corrales','correa','correal','correales','corredor','cortazar','cortes','cortez','cortinas','corzo','cosecha','cosme','cossio','costa','cotazo','cote','cotrina','covaleda','coy','cresencia','crespo','crhistian','criollo','crisdayan','crisostomo','crispin','cristal','cristancho','cristhiam','cristhian','cristhofer','cristi','cristiam','cristian','cristina','cristo','cristobal','cristofer','cristopher','cros','cruz','cruzana','crystal','crystian','cuaccialpu','cuacialpu','cuadrado','cuadros','cuaero','cuaical','cuaican','cuaicuan','cuaran','cuartas','cuasapud','cuasmayan','cuaspa','cuaspud','cuastumal','cuatin','cuaycan','cubides','cubillos','cucaita','cucalon','cuchillo','cuchimba','cuci','cucuma','cucuñame','cuellar','cuenca','cuenu','cuero','cueros','cuerpo','cuervo','cuesta','cuestas','cuetia','cueto','cueva','cuevas','cujar','cuji','cultid','cumbal','cumbe','cunda','cundumi','cupajita','cupitra','cusi','cuspian','cuspoca','custodia','custodio','cuta','cutiva','cynthia','da','dabeiba','dabeyba','dacareth','dadi','dagoberto','dagua','dahian','dahiana','dahiann','daian','daiana','daich','daifeny','daihana','dailin','dainer','daira','dairo','dairon','dais','daissy','daisy','daiyi','daizury','daladier','dalfeni','dalia','daliana','dalila','dalilly','daliri','dallana','dallys','damari','damaris','damelines','damian','damiro','damizuri','dana','dandiney','daneida','danelia','danelly','daneris','danery','daneyi','dani','dania','danicela','daniel','daniela','daniella','danilo','danilsa','danir','danis','danissa','danitza','danllely','danna','danniela','danny','danober','danora','danover','dante','dany','danyerlin','danyi','dar','daraviña','darbey','darcy','dari','daria','dariana','dario','dario','daris','darley','darli','darlid','darlin','darlina','darling','darlinton','darly','darlyn','darnelly','darwin','dary','daryery','dasly','dasy','datasae','dativa','dauqui','davalos','david','daviddavid','davila','davinson','davismach','day','dayan','dayana','dayanery','dayanna','dayhana','dayhann','dayra','dayron','daysuri','daysury','dayzury','daz','daza','dazza','deantonio','deaza','debie','debora','deborah','decio','deiba','deiber','deibi','deiby','deibys','deicy','deifa','deifan','deifeny','deimi','deiny','deiro','deisi','deison','deisy','deiva','deivi','deivid','deivis','deivy','del','dela','delayda','delbasto','delcida','delfa','delfamira','delfina','delgadillo','delgado','delgiza','delia','delina','delio','delkin','delliponti','delly','delma','delmy','delsy','delver','dely','deni','denice','denis','denise','denisse','dennis','denny','dennys','densy','denudetid','deny','denys','denyse','denzel','deossa','departamental','derazo','derek','derian','derli','derlin','derling','derlis','derlly','derly','dery','desideria','deverson','devia','devian','dey','deyaneri','deyanira','deybi','deyby','deyci','deyi','deylan','deymer','deysi','deysy','dharren','dhayana','diago','dian','diana','dianely','dianeth','dianey','dianid','diannet','dianny','diany','dias','diaz','diaz','diby','dickson','dictto','dicue','didier','didimo','diego','diela','diesel','dievely','diez','digitex','digna','dignery','dignier','dignora','dik','dila','dilan','dileny','dilfa','dilia','dillan','dilma','dilson','dilvia','dimar','dimarchy','dimas','dimate','dina','dinas','dinelli','diney','dinori','diocele','diogenes','diogne','diomedes','diomelina','diomira','dione','dioney','dionisia','dionisio','dionne','diony','dios','diosa','dioselina','diossa','diozahara','dique','direccion','directv','diriam','dirsa','disnery','disney','disneyda','dissan','dissu','distribuidora','distrital','diuza','diva','diver','divia','divian','divier','diyi','dizu','docier','dogman','dolcey','doli','dolly','dolmi','dolores','doly','domico','domiguez','dominga','domingo','dominguez','dominguez','dominic','donaciano','donatello','donatila','doney','donna','donneys','donny','donoso','dora','doracela','dorado','doralba','doralia','doralice','doralis','dorance','dorani','dorey','doreysi','doria','dorian','doriela','dorila','doris','dorlam','dorley','dorman','dorronsoro','dory','doryhan','dorys','dositeo','dosman','douglas','drews','driana','droguerias','drombo','duarte','dubal','duban','dubelly','duber','duberley','dubernal','duberney','dubian','dubys','dudli','dueñas','dufay','dulce','dulcey','dulfady','dulfary','dulfay','dulnelly','duque','duran','durango','durfay','durfey','durlandy','durley','dussan','duval','duvan','duver','duverney','dwight','dydier','dylan','dyro','dyssetth','dyvi','e','eastman','ebelia','eberney','ebet','eblin','ecco','ecdiver','echabarria','echavarria','echavrria','echegoyen','echeverri','echeverry','echevery','eda','eddie','eddier','eddna','eddy','edelmar','edelmira','edelvin','eder','ederson','edgar','edgardo','edi','ediber','edic','edid','edie','edier','edificaciones','edil','edilbe','edilberto','edilia','edilma','edilmer','edilsa','edilso','edilson','edima','edinarco','edinson','edinsonn','edinsson','edison','edisory','edit','edith','editha','editjh','edixon','edna','ednna','edoin','edson','edsson','edu','eduar','eduard','eduardo','educativa','eduerd','eduin','edulfa','edulfaris','edusmildo','edwar','edward','edwardo','edwars','edwarth','edwin','edy','efectivas','eficacia.','efigenia','efigenio','efrain','efrain','efred','efredy','efren','ega','egberto','egidio','egile','egna','egricelda','ehernan','ehivar','eida','eiden','eider','eiderman','eidi','eilin','eilyn','eiman','eimy','einar','eine','einer','eisenhooer','eiser','eivar','eiver','eiverth','el','eladio','elan','elba','elbar','elber','elbia','elcie','elcira','elcy','elda','elder','elean','eleana','eleany','eleazar','electricos','electrogenos','eledxader','elejalde','elena','elenith','eleonardo','eleonora','eleuterio','eli','elia','elian','eliana','elias','elibardo','eliberto','eliced','eliceo','elicer','elida','elider','elidier','eliecer','elina','elio','eliobel','elisa','elisabet','elisabeth','eliseo','eliud','eliver','eliza','elizabet','elizabeth','eljure','elkin','ella','elmar','elmer','elodia','eloina','eloisa','eloise','eloy','elpidia','elquin','elsa','elsi','elsidie','elsin','elsis','elson','elsy','eltidio','elva','elver','elvia','elvin','elvio','elvira','elvis','ely','elza','ema','emaida','emanuel','emaris','ember','emberto','embus','emelda','emely','emerita','emerson','emid','emidio','emigdio','emilce','emilda','emili','emilia','emiliana','emiliano','emilio','emilli','emilse','emilsen','emilssen','emily','emir','emira','emiro','emlia','emma','emmanuel','emmily','emperatriz','emplear','empresa','en','enais','enaliced','encarnacion','enciso','encizo','ened','enedis','eneida','enelia','eneriet','enerieth','eneyda','engracia','enid','enides','enidia','enidt','enilda','enio','enit','enith','enna','enny','enoc','enoe','enoris','enrioue','enrique','enriqueta','enriquez','enriquez','enrquez','enrrique','ensueño','enuar','enyell','epaminondas','epm','erasmo','eraso','erazmo','erazo','ercelly','ercilia','ercy','erdilia','eric','erica','erick','erik','erika','erlendy','ermeliza','ermila','erminda','erminia','erminso','erminsul','ermira','erned','ernedys','ernestina','ernesto','erney','ernilso','ervin','ery','esau','escalante','escallon','escamilla','escandon','escarpetta','escarraga','escarragas','escarria','escilda','esclava','escobar','escobedo','escolastica','escovar','escudero','escuela','esdrube','ese','esguerra','esilia','esimirey','esleida','eslendi','eslin','esly','esme','esmeralda','esmerlin','esmilda','esmira','esnayder','esneda','esnedy','esneider','esnelda','esnelia','esnery','esneth','esney','esneyder','esnna','españa','esparza','especialista','espejo','espeña','esperanza','espin','espinal','espinel','espinosa','espinoza','espitia','esquivel','essica','est','estacio','estafany','estanislao','esteba','estebali','esteban','estefam','estefani','estefania','estefanny','estefany','esteffany','estefhany','estefi','estela','estelia','estella','estephania','ester','esterling','estevan','esteven','esthefania','esther','estiben','estiven','estrada','estrella','estrellita','estrid','estupiñan','etayo','etelberto','etelvina','ethan','etm','etna','etsahin','eucaris','euclides','eudalia','eudocia','eufemia','eufemiano','eufracio','eufrasino','eugenia','eugenio','eugenioa','eugradis','eulalia','euli','eulises','eulofia','eulogio','eumir','eunice','eunise','euripides','euscategui','euse','eusebia','eusebio','eusse','eustacia','eustorgio','euvid','eva','evadista','evan','evangelina','evangelista','evarbo','evelia','evelier','evelin','evelina','evelio','evelly','evelsi','evelyn','evencio','evening','ever','everney','evert','eveyiseth','evolet','exdubar','exel','exela','expain','exposito','eybar','eyber','eyder','eydi','eydryan','eyiseth','eyleen','eylin','eylyn','eyzlen','ezequiel','ezray','fabara','faber','fabert','fabian','fabian','fabiano','fabio','fabioa','fabiola','fabricio','facundo','faency','fager','fahissury','faissury','faisully','faisuri','faisury','faizury','fajardo','falla','falon','fals','falya','fandino','fandiño','fanery','fanni','fannor','fanny','fanor','fanory','farfan','farid','faride','farley','farnery','farnesio','farney','fary','fatima','faustina','faustino','fausto','faver','favian','favid','favio','fayneri','faysiury','faysuli','fayzuly','fda','feder','federico','federman','felicia','felicidad','felicitas','felipa','felipe','felisa','felix','feneida','feniber','fenifer','feniver','fenner','ferannda','ferdinando','fergie','feria','ferla','ferley','fermin','fernada','fernadez','fernado','fernan','fernana','fernanada','fernanda','fernandez','fernandez','fernando','fernely','ferney','ferraro','ferreira','ferrer','ferrerosa','ferrin','ferro','fiallo','fichica','fidel','fideligna','fidelina','fidencio','fides','fieber','fierro','fiesco','figueroa','figureroa','filena','filiberto','filigrana','filippo','filomena','fiquitiva','fiscalia','fisely','fitzgeral','fitzgerald','flaquer','flavio','flechas','flecher','flerida','flor','flora','floralba','florancy','florangela','florencia','florencio','florentina','florentino','flores','floresmilo','florez','florez','flori','florian','floriano','floridana','florido','florines','floripes','flover','flower','flowers','floyd','fluvia','folleco','fonnegra','fonseca','fontal','fontalvo','fontecha','forero','fori','forigua','formit','fortich','fory','fracturas','francedys','francelia','francelina','franceline','franceny','francery','frances','francesco','franci','francia','francined','francis','francisca','francisco','franciso','franco','francois','francy','frank','franklin','frankly','franky','franquelina','franquis','franz','fraysury','frecia','freddy','fredericson','fredi','fredy','fredys','freidel','freider','freides','freire','freitas','fremat','fresanelia','fresneda','freyre','frimer','frimet','frncisco','froy','fruit','fuelantala','fuelpas','fuelpaz','fueltala','fuenmayor','fuentes','fuertes','fuerzas','fujiy','fuller','fulvia','fundacion','fundacion','fuquene','furio','g','gabalan','gabi','gabina','gabino','gabriel','gabriela','gabriella','gabrill','gael','gaez','gaitan','galan','galarraga','galarza','galeano','galia','galicia','galindez','galindo','gallady','gallardo','gallego','galliadi','gallo','gallon','gallon','galo','galvan','galves','galvez','galvis','galviz','gamba','gamboa','ganan','gañan','garaviña','garavito','garay','garcera','garces','garces','garci','garcia','garcia','gardel','garibello','garnica','garrido','gary','garzon','garzon','gasca','gaspar','gaviria','gazo','gean','gebara','gefrey','geiber','geiler','geiman','geiner','geinova','geinson','geison','gelsomina','gelsys','gelvez','gema','gembuel','genaro','gency','general','genesis','genesis','geni','genid','genis','genith','genivora','genny','genova','genoveva','gente','gentil','geny','geobana','geohana','geomar','george','georgina','geovani','geovanni','geovanny','geovany','geradina','geraldin','geraldine','gerardina','gerardine','gerardo','gercy','gerhemy','gerji','gerley','german','germania','geromito','geronimo','gerrado','gersain','gersey','gerson','gersson','gertrudis','gerviz','gesni','gestion','getial','geurrero','gezenia','gheraldine','gian','gianella','gianfranco','gianina','giannino','gianny','giany','gibel','gicela','gicell','giesenow','gil','gilbardo','gilbert','gilberto','gildardo','gilde','gildo','gilma','gilmer','gilon','gina','ginet','gineth','ginette','ginna','ginneth','gino','giobanna','giomar','giovana','giovann','giovanna','giovanni','giovannie','giovanny','gipsy','giral','girald','giraldo','girlado','giron','gironza','gisel','gisela','gisell','gisella','giselle','giselth','giset','gissel','gissell','gissella','gisselle','gissette','giuliano','giuseppe','gizet','gladid','gladis','gladiz','gladuys','gladys','gleidys','gleydin','gloria','glubis','godoy','goez','golu','gomez','gomez','gongola','gongolino','gongora','gonzaga','gonzales','gonzales','gonzalez','gonzalez','gonzalias','gonzaliaz','gonzalo','gordillo','gordon','gorlato','gourmet','govinda','goyeneche','goyes','gracia','graciela','graciliana','graciliano','gracilis','grajales','gran','granada','granado','granados','granda','grande','grandez','granja','granobles','granosle','grece','grecia','gregori','gregoria','gregorio','greicy','greisy','gretty','grey','greyns','gricela','gricelda','gricelly','grijalba','grijalda','grincelly','grisales','grisalez','griselda','grobien','groelfi','grueso','gruesso','grupo','guaca','guacaneme','guacas','guacha','guacheta','guadalupe','guadir','guahuña','guaido','guainas','gualdron','gualmatan','gualtero','gualteros','guamanga','guamiolamag','guampe','guancha','guañarita','guapacha','guapache','guapacho','guapi','guaqueta','guaquez','guar','guaran','guardia','guarin','guarni','guarnizo','guasaquillo','guasca','guaspud','guastar','guata','guatame','guayabo','guayal','guayara','guaza','gudiela','guegia','gueiby','guendica','guengue','guepud','guerao','guerra','guerrero','guerron','guetio','guette','guevara','guezaquillo','gugu','guido','guillen','guillermina','guillermo','guilllermo','guilombo','guinand','guince','guinchin','guiomar','guiovani','guiral','guisel','guiseppe','guitierrez','gullermo','gumenrsindo','gumersindo','gurrute','gustavo','gustin','gustinez','gutiererez','gutierrez','gutierrez','gutierrez','guzman','guzman','habib','habid','hadassa','haddad','hader','hadith','hael','haider','haidy','hailen','haimer','hamel','hamer','hames','hamilthon','hamilton','hanae','handersson','haner','hanna','hannah','hanndri','hanner','hanrryr','hans','hansel','hansen','hanz','haouchar','harbey','harby','harinera','harlington','harol','harold','harrison','harry','harryson','hartunduaga','harvey','harvi','harvy','hary','hatta','haussman','hayda','haydee','haymer','hazkary','heber','hebert','heberth','heberto','heblyn','hector','hector','heda','heder','hedil','heduin','heibel','heiber','heider','heidi','heidy','heilen','heiling','heindember','heisson','heladio','helbert','helda','helder','helen','helena','heli','heliberto','helica','helida','heliodoro','heliut','hellen','helly','helmer','helver','hemel','hemilson','henan','henao','hendes','henio','henor','henri','henriquez','henry','heraldo','herbey','hercelia','hercilia','heredia','heriberto','herica','herleny','herlex','herley','herlinda','herly','herman','hermann','hermelina','hermelinda','hermelizelda','hermen','hermencia','hermenson','hermes','hermila','herminda','herminia','herminio','herminson','herminsul','herminzul','hermogenes','hermosa','hermoso','hermoza','hernadez','hernado','hernan','hernan','hernandez','hernandez','hernando','hernesley','hernesto','herney','heroina','herran','herreño','herrer','herrera','herreros','herrique','hersain','herson','hervin','herweanis','herzon','hesair','hesilda','hever','hevers','heyder','heydy','heynier','heyson','hibor','hidalgo','hidrobo','higinio','higuera','higuita','hija','hijo','hilario','hilarion','hilary','hilaryn','hilda','hildaura','hilde','hildebrando','hilder','hillary','hilman','hilton','hincapie','hincapie','hinestrosa','hinestroza','hinojosa','hipasio','hipolito','hirosi','hislena','hissami','hobana','hoffman','hoffmann','holanda','holguin','holguin','holman','holmer','holmes','holver','home','homero','homes','honorio','hoover','hooverth','horacio','hordubay','horley','hormaza','horta','hortencia','hortensia','hortua','hospital','hoya','hoyola','hoyos','hoz','hrrl','huaza','hubeny','huber','huberley','hubert','huerfano','huerta','huertas','hugo','huila','humbarila','humberto','hungria','hunter','hurmendiz','hurtado','huseim','hutter','huver','huverney','i','ia','ian','ibagon','ibague','iban','ibañez','ibarbo','ibarguen','ibarra','ibarvo','ibata','iber','ibeth','ibett','ibis','ibon','ico','icopo','ida','idacio','idalba','idale','idali','idalia','idalid','idaly','idarraga','idarraga','idelbert','idelga','idelse','ideneo','ider','iderlan','idrobo','ifalia','igar','iglesias','ignacio','igua','iguaran','iguita','ijaji','ilbia','ilda','ildelides','ilder','ildira','ilduara','ileana','iles','ilia','iliana','ililian','illegas','illera','illya','ilma','ilner','ilsa','ilse','ilva','imat','imbachi','imbago','imbajoa','imelda','impormaderas','impuestos','inagan','incapie','incauca','incaucaservicios','inchima','indira','industriale','inelda','ines','inestrosa','infanta','infante','ingenio','ingenios','ingrib','ingrid','ingridt','ingris','ingrit','ingritd','ingry','inides','inirida','inmaculada','inocencia','insa','insandara','institucio','institucion','instituto','insuasti','insuasty','integrado','integral','integrales','interfisica','internacional','inversiones','inyaely','ipia','ipiales','ipila','ipujan','iragorri','iralda','irene','iriarte','irina','iris','irlan','irlanda','irlena','irleny','irley','irma','irurita','isaac','isaacs','isabel','isabela','isabelina','isabell','isabella','isabeth','isadora','isaias','isajar','isamara','isamel','isanoa','isanora','isaura','isaza','isaziga','isco','isdar','ises','ishibashi','isidora','isidoro','isidro',]\n",
        "b_name = ['eva','isis','islena','isleny','ismael','ismenia','isneire','isnelda','isnely','isolina','israel','isrrael','italia','italo','ithan','itsahiana','ituyan','itzel','ivan','ivan','ivana','ivaniel','ivanna','iver','iverson','ives','iveth','ivette','ivon','ivone','ivonn','ivonne','ixchel','iza','izan','izquierdo','jabela','jacinta','jacinto','jackelina','jackeline','jackelinne','jacob','jacobo','jacome','jacqueline','jader','jadiel','jady','jael','jagua','jahaira','jahiana','jahir','jahumer','jaiber','jaidar','jaide','jaider','jaidi','jaidiver','jaidivy','jaime','jaimer','jaimes','jainer','jair','jairo','jaiseep','jaiver','jajoy','jak','jakeline','jalid','jalie','jalil','jalile','jalin','jalitza','jaller','jama','jamauca','jamel','jamer','james','jamiledh','jamileth','jamilton','jamioy','jamir','jan','jana','janer','janet','janeth','janey','jani','jania','janice','janier','janine','janira','janner','jannet','janneth','jannier','janniher','janny','jansasoy','jansenio','jaquelin','jaquelina','jaqueline','jara','jaramillo','jaramilo','jarbin','jarby','jared','jarinzon','jarky','jarlin','jarly','jarme','jarminson','jarminton','jaro','jarrinson','jarvi','jasbleidy','jasel','jasmin','jasned','jason','jativa','jauime','javela','javer','javiano','javier','jaycol','jayder','jayko','jazmin','jean','jeanet','jeanneth','jeannette','jefer','jeferson','jefferson','jeffeson','jeffrey','jeffry','jehison','jeibi','jeicob','jeider','jeidy','jeimmy','jeimy','jeinny','jeins','jeison','jeisson','jeiver','jelianna','jembuel','jency','jeneth','jenffer','jenidia','jenifer','jeniffer','jeninnfer','jenith','jenkryfer','jenneffer','jennifer','jenniffer','jennilled','jenny','jennye','jennyfer','jensin','jeny','jenyfer','jenyffer','jeovana','jeraldin','jerdey','jeremias','jeremie','jeremih','jeremy','jerez','jeris','jermain','jerny','jeronimo','jeronimo','jerson','jesabeth','jesica','jesid','jessi','jessica','jessika','jesucita','jesus','jesus','jeykob','jeymy','jeyns','jeynsson','jeyson','jhair','jharolyn','jharrison','jheison','jhenyfer','jheraldin','jherien','jherlin','jhessenia','jhoan','jhoana','jhoanna','jhoel','jhoetmy','jhohana','jhohanna','jhohanny','jhojainer','jhojan','jhojana','jhojanes','jholfady','jhon','jhonalex','jhonatan','jhonathan','jhonattan','jhond','jhonier','jhonn','jhonnatan','jhonnathan','jhonnier','jhonny','jhonson','jhony','jhorfan','jhorjan','jhorlan','jhorman','jhoselin','jhosselyn','jhosua','jhosue','jhovana','jhovang','jhulian','jhuliana','jhurany','jicel','jihan','jill','jimena','jimenes','jimenez','jimenez','jimeno','jimmi','jimmy','jimy','jineth','jirado','jireh','jirlesa','jisell','jiseth','joahana','joan','joana','joanna','joany','joao','joaqui','joaquin','joaquin','joaquina','joe','joel','johan','johana','johann','johanna','johanny','johany','john','johnatan','johnathan','johnier','johnn','johnnatan','johnnier','johnny','johny','johon','johs','johvana','joimer','joiner','jojana','jojoa','jonatan','jonathan','jonattan','jonh','jonnatan','jonnathan','jonny','jony','jordan','jordany','jordy','jorge','jorladys','jorman','joronda','jos','josa','jose','jose','josefa','josefina','joselin','joselyn','josemaria','joseph','joseth','joshep','joshua','joshue','josias','joslany','josse','josselin','josselyn','josser','jossie','josue','josue','jova','jovana','jovanna','jovanni','jovanny','jovany','jovel','jualian','juan','juana','juanillo','juanita','juber','judit','judith','judy','juith','juleidy','julen','julia','julialba','julian','julian','juliana','julianna','julicue','julie','julier','juliet','julieta','julieth','juliett','julio','julissa','jully','julvia','july','junier','junior','junnior','jurado','jurany','juri','juridica','juspian','jusseth','justin','justina','justiniano','justinico','justino','justo','justyn','juvenal','juverney','jynei','kacterine','kahory','kahterine','kaled','kalindi','kamila','kamily','karem','karen','karent','karime','karin','karina','karla','karlo','karlos','karol','karolayn','karolina','karoll','kassandra','katalina','kateherine','katerin','katerine','kathalina','katherin','katherine','katheryn','katheryne','katiza','katlin','katterine','kattering','kattie','katty','katy','keila','keiner','kelen','keler','kelin','kelis','kelly','kely','kemberle','kenay','kendall','kener','keneth','kenia','kennedy','kennet','kenneth','kenny','keren','kerly','ketherine','ketsender','kety','kevin','kevinn','kevyn','kewin','keyla','keyner','kiliang','kimberly','kirlyn','kiyomi','klinger','koba','korina','koure','krafft','kristian','krysthol','l','la','labao','labio','laborales','labrada','labrador','laddy','ladecol','ladino','ladis','lady','ladys','lagarejo','lago','lagos','laguna','laia','laidys','laila','laines','lais','lajas','lalinde','lam','lame','lamilla','lamos','lamprea','lamus','lanchero','lancheros','landaeta','landazabal','landazary','landazuri','landazury','landinez','landino','landy','lañas','lara','larbin','lareo','largacha','largo','larrahondo','larrañaga','larrarte','larrea','larrosa','larry','las','lasa','laserna','lasprilla','lasso','latorre','laudino','laura','laureano','lauren','laurens','laurentina','laurido','laurnt','lauzier','lavao','laverde','lavrea','lay','layden','laydi','lazaro','lazo','leady','leah','leal','leandra','leandro','leannny','leany','lebaza','ledesma','ledezma','ledis','ledys','lee','leeam','legal','legarda','legria','legro','leguizamo','leguizamos','leiba','leibia','leiby','leida','leide','leider','leidi','leido','leidy','leidy','leila','leina','leiner','leirin','leisi','leison','leiton','leiva','leiver','leivy','lejandra','lelia','lema','lemos','lemus','lena','lengi','lenid','lenin','lenis','lenix','leny','leocadia','leofrande','leomina','leon','leon','leonarda','leonardo','leoncio','leondenis','leonel','leonela','leones','leonidas','leonila','leonilde','leonisa','leoniza','leonor','leonora','leontina','leopoldina','leopoldo','lerma','lernes','lesbia','lesby','lesdy','leslie','lesly','lesmes','lessdy','lesvi','lesvia','leticia','letrado','leudo','levi','levis','levy','lewinson','lewis','leyda','leydi','leydy','leyes','leyla','leyrin','leyton','leyva','lezama','lezcano','lia','liam','lian','liana','libad','libaniel','libardo','liber','libia','liboria','liborio','librada','libreros','liced','licenia','liceth','liciardy','licinia','lid','lida','lider','liderman','lidermina','lidia','lidier','lidis','lievano','lifuyed','ligia','liham','lila','lili','lilia','liliam','lilian','liliana','lilianaandreacalero','lilibeth','lilino','lilley','lilly','liloy','lily','lima','limbania','lina','linares','lince','linda','lindanyi','lindelia','lindo','lindsay','lineth','liney','linggren','linian','lino','linsay','linthon','linton','linz','liria','lis','lisa','lisandro','lisbe','lisbeth','lisbey','liscano','lisdaris','liseht','liselmo','liset','liseth','lisette','lisimaco','lisney','lisset','lisseth','lissette','liver','livia','liviam','lix','liz','liza','lizanyuri','lizarazo','lizbeth','lizcano','lizeth','lizette','llague','llamosa','llano','llanos','llanten','llarida','llirly','lloreda','llovany','loaiza','lobaton','lobello','loboa','lobon','local','lodt','lody','logan','logistica','lola','lombana','lombo','londono','londoño','londoñoo','londooo','longa','longana','lopeda','lopera','lopez','lopez','lora','lore','lorean','loren','lorena','lorensa','lorenza','lorenzo','lores','lorieth','lorin','lorna','lorza','los','losada','loteria','lotero','lourdes','lourido','lovera','loza','lozada','lozads','lozano','ltada','ltda','ltda.','luan','lubby','lubdibia','lubelly','lubian','lubin','lubo','lucano','lucas','luccy','lucedy','luceida','luceli','lucelia','lucelida','lucelli','lucelly','lucely','lucena','lucenid','luceny','lucero','luci','lucia','lucia','luciana','luciano','lucidia','luciela','lucila','lucinda','lucio','luciola','luciria','luciveli','lucrecia','lucresia','lucumi','lucy','ludeina','luder','ludibia','ludivia','ludy','luengas','lugil','lugo','luider','luis','luisa','luiyith','lujanith','luke','luligo','luly','luna','lupe','lus','lusaida','lusby','luseyne','luvier','luz','luzaida','luzbian','luzby','luzcelly','luzdary','luzmedia','luzmila','lyam','lyda','lyons','lysbeth','mabeisi','mabel','mabeli','maber','maca','macca','machado','macias','macuace','macuase','madahy','madan','madelaine','madeleine','madeleyne','madeleys','madelyn','mader','madrid','madrigal','madriñan','madroñero','maestre','mafier','mafla','magali','magalli','magally','magaly','magaña','magda','magdalena','magdalida','maglioni','magnalila','magnely','magnol','magnolia','magnory','magnus','magola','magon','magy','mahecha','maibel','maicol','maigual','maikol','maile','mailen','maillely','maily','mainaguez','mainguez','maira','mairena','mairongo','maithe','majin','malagon','malambo','malcon','maldonado','malena','males','malfis','malfitano','mallama','mallarino','mallely','mallorquin','malori','malory','malpud','mambague','mambuscay','mamian','mancera','manchabajoy','manchola','mancilla','manco','manfredy','manizales','manjarres','manquillo','manrique','manrrique','manso','mantilla','manuel','manuela','manufacturas','manyi','manyoma','manzano','manzo','manzour','mañosca','mañozca','mañunga','mañuzca','mao','mapura','maquilon','mar','marahevel','marcela','marceliano','marcelino','marcelo','marcia','marcial','marciana','marciano','marco','marcos','marcucci','mardoris','mardory','marduk','mare','mareina','marelbi','marely','marelyn','marenco','margalida','margareth','margarita','margid','margie','margori','margorie','margory','margot','margoth','margy','marha','mari','maria','maria','mariaca','mariah','mariajose','marialit','mariam','marian','mariana','marianela','marianella','mariangel','marianita','marianna','mariano','mariantonia','mariany','mariapaz','maribed','maribel','maricel','maricela','maricelly','maricely','marie','mariela','mariella','marielly','marielvy','marieth','mariette','marihtza','marilene','marilu','mariluz','marilyn','marin','marin','marina','marinc','marincano','marinela','marinella','marinez','marinilse','marino','mariño','mario','marion','maris','marisel','marisela','marisell','marisella','marisinelly','marisol','marisolani','maritza','maritzabell','mariu','marjely','marjy','mark','marlen','marlene','marleni','marlenis','marleny','marles','marley','marleyi','marlin','marlit','marlly','marlody','marlon','marly','marlyn','marlyng','marmol','marmolejo','marny','marñolejo','marolanda','marquez','marquez','marquinez','marriaga','marroquin','marta','martha','martin','martin','martina','martines','martinez','martinez','martiniano','martino','martir','martnez','martos','maruja','marulanda','marvin','marwin','mary','marya','marybel','maryeri','maryi','maryluz','maryoli','maryori','maryory','marysol','marystella','maryuri','maryury','mashacuri','masivo','masmela','massiel','masso','mata','matabanchoy','matallan','matallana','matavanchoy','mateo','materano','materon','matess','mateus','matew','mathias','mathius','matias','matilde','matiz','matoma','matta','matthew','maturana','mauna','maura','maureen','mauren','mauricio','maurico','maurieth','mauro','maury','mauselen','mavel','maver','maveryng','maximiliano','maximo','maximus','maxwell','maya','mayarlih','mayckol','maycol','mayela','mayeli','mayely','mayeni','mayer','mayerli','mayerlin','mayerling','mayerlis','mayerly','mayerlyn','mayers','mayileth','mayli','mayolin','mayor','mayorca','mayorga','mayorin','mayorquin','mayra','mayrin','mayuli','mayuri','mazabuel','mazo','mazorra','mazuera','mc','mclea','mecias','medardo','medellin','medicina','medina','meek','megan','meibe','meiby','meili','meivy','mejia','mejia','mejias','melan','melania','melanie','melanny','melany','melba','melchor','melecio','melendes','melendez','melenge','melenje','melfi','melia','melida','melindres','melisa','melissa','meliton','meliza','mellizo','melo','melqui','melquisedec','melva','melvy','mely','mena','menandro','mendes','mendez','mendez','mendieta','mendinueta','mendivelso','mendoza','meneces','menecez','menelly','menese','meneses','mensa','menza','meñaca','mera','meraly','mercado','mercedes','mercenario','merchan','merchancano','merchant','merci','mercy','merida','merino','merizalde','merle','merlin','merlly','merly','merlyn','mery','mesa','mesias','messa','mesti','mestil','mestizo','mestra','mesu','metal','metales','metaute','metromovil','meyer','meza','mezu','mia','micedith','michael','michaell','michel','micheli','michell','michelle','michelly','micolta','middleton','mieles','mier','migdalia','migdonia','miguel','mikol','mila','miladis','milady','miladys','milagro','milagros','milan','milanes','milbia','milciades','milde','mildred','mildreth','mildrey','mile','miled','miledy','mileidy','mileisy','milena','milenis','mileny','miler','milet','mileth','milexy','mileydy','milgen','milindres','militares','millan','millar','millenium','miller','millerlandy','milley','miloy','milton','milvia','mimalchi','mimi','mina','minda','minota','minu','minyeli','mira','miralba','mirama','miramag','miranda','mirbean','mireizon','mirelda','mirelia','mirella','mirelly','mireya','mirialba','miriam','mirian','mirillo','mirley','mirna','mirquez','mirta','mirtha','miryam','miryan','miryeny','misael','misaela','misaelina','misas','mischele','mishell','miyerlay','modesta','mogollon','mogollon','mogrovejo','mohamet','moises','moises','mojarrango','mojica','molano','moledo','molina','molineros','mompotes','mona','monar','moncada','moncaleano','moncayo','mondragon','mondragon','monedero','monica','monica','monique','monje','monroy','monrroy','monsalve','monserrat','monserrath','montacargas','montalvo','montana','montaña','montañez','montaño','montealegre','montegranario','montehermoso','montenegro','montero','monterrey','montes','montezuma','montiel','montilla','montillo','montoya','montserrat','moquera','mora','morales','moralez','moran','morant','morante','morantes','morcillo','morea','moreira','morelia','moreno','morera','moriano','morillo','moriones','morostoque','mosca','moscoso','moscote','mosorongo','mosquera','mossos','mostacilla','mota','motato','motoa','motor','motta','movil','moya','moyano','mr','mucua','muebles','muelas','mueses','mujer','mulato','mulcue','muller','multiactiva','multiservicios','munares','munebar','munera','munevar','municipal','municipio','munoz','muñeton','muño','muñoz','mur','murcia','murgas','murgueitio','muriel','murillas','murillo','muskus','mustafa','mutis','mutual','mykel','myllan','myriam','myrian','myryam','nabollan','nabor','naboyan','nacianceno','nacion','nacional','nacionales','nacivar','nader','nadia','nagles','nahia','nahiara','nahir','nahomi','nahum','naiala','naiara','naidu','naikira','nain','nampia','nanci','nancy','napoleon','naranjo','narcilo','narcisa','narciso','nardy','naren','nariño','narly','narradondo','narvaez','narvaez','narvez','nasamuez','nasly','nastacuaz','natacha','natali','natalia','natalie','natally','nataly','nates','nathalia','nathalie','nathaly','nathasha','natib','natividad','naufa','nauffal','nava','naval','navarrete','navarreto','navarro','navas','naveros','navia','nayady','nayancy','nayarith','nayda','naydu','nayeli','nayely','nayerli','nayibe','nayiby','nayive','nayla','naymar','nazareth','nazari','nazario','nazarit','nazly','nazlyn','nebrijo','neby','nedier','nedy','nefer','neftali','negret','negro','neicet','neicy','neida','neifer','neiger','neila','neiman','neira','neire','neisa','neison','neithan','neiva','neiver','neiza','nel','nela','nelci','nelcy','nelffi','nelfi','neli','nelia','nelida','nella','nelli','nelly','nellyreth','nelsi','nelson','nelsy','nelver','nely','nelys','nemecio','nemesio','nemu','nena','nereyda','nerieth','nerihe','nerly','neronimo','nery','nesly','nesmy','nestor','nestor','netty','neubedy','neuver','ney','neyci','neyired','neyler','neymar','neyra','neytan','nhora','nia','nibia','nickincyn','nicol','nicolas','nicolas','nicolasa','nicolay','nicold','nicole','nicoll','nicolle','nidia','nidya','niebles','nieto','nieva','nieves','nikol','nikolai','nikolas','nikole','nikoll','nilen','nille','nillereth','nilo','nilsa','nilsen','nilson','nilton','nilvi','ninco','ninfa','nini','niny','niño','nipaz','nipcela','nirama','nircy','niria','nirza','nivia','nixon','niyereth','niyiret','niyireth','niyirey','no','noe','noe','noebia','noel','noelba','noelia','noelva','noelvia','noemi','noemy','nogardo','noguera','nogues','nohelia','nohellys','nohely','nohemi','nohemy','nohira','nohora','nohra','noira','nolberto','nolmar','nombre','nomelin','nomina','nomina.com','nonietzko','nora','noralba','noraldo','norayda','norbelly','norberto','norbey','norby','norela','norelia','norely','norena','noreña','norfa','norfalia','norfi','norha','norhelia','nori','noriega','norles','norley','norma','norman','norvey','nory','noscue','novoa','noy','nubia','nubiola','numael','nunez','nunila','nuñez','nupan','nupia','nur','nurelba','nury','nuvia','nuvidia','nydia','ñañez','ñuscue','ñustes','oamira','oarles','obando','obdulia','obdulio','obed','obeida','oberi','obersen','obertulio','obonaga','obras','obregon','ocampo','ocando','occidente','ochoa','ociel','ocoro','octalivar','octavila','octavio','ocupar','oderay','odila','odilfo','odilia','odilma','odin','odriguez','oelty','ofelia','ofelmira','offir','ofir','oidor','oime','ojeda','olano','olariz','olarte','olave','olaya','olegario','oleida','olga','olguin','oliday','olimpia','olimpica','olinda','olinde','oliria','oliva','olivar','olivares','oliver','oliverio','oliveros','olivia','olivio','olivo','olma','olman','olmedo','olmer','olmes','olmos','olver','omaira','omar','ome','omen','omery','omes','omez','oneida','oney','oneyda','onid','onofre','oquendo','oralia','orbegozo','orcue','ordenoñez','ordonez','ordoñes','ordoñez','ordoñez','orduz','oreidy','orejarena','orejuela','orellana','orfa','orfalina','orfanery','orfany','orfelina','orfely','orfilia','orfindey','organizacion','oriana','orielly','origua','oriol','orjuela','orlady','orlain','orlando','orlania','orlay','orley','orlinda','orlivia','ormeño','orobio','orosco','orozco','orporacion','orrego','orsileny','ortega','ortegon','ortiz','ortunduaga','osa','osbaldo','oscar','ose','osidis','osiel','osiris','osleyda','osma','osman','osmer','osoario','osorio','osorno','ospima','ospina','ospitia','ossa','ossiris','osso','osvaldo','oswaldo','otalbaro','otalivar','otalora','otalvaro','otalvora','otavo','otaya','otero','otilia','otoniel','otto','ovalle','ovalles','oved','oveimar','overimar','oveth','ovidio','oviedo','ovirley','oweimar','owens','oyola','pabla','pablo','pabon','pabon','pacateque','pacheco','pachene','pachichana','pacho','pachon','pacue','padilla','padro','padua','paez','paez','paguatian','pahola','paja','pajarito','pajaro','pajoy','palacio','palaciodos','palacios','paladines','paladinez','palau','palechor','palecia','palencia','palma','palmezano','palmina','palmira','paloma','palomeque','palomino','palomo','palta','pamela','pamo','pamplona','panameño','panesso','paniagua','pantoja','paola','papamija','papel','papeles','papsy','paque','paracios','paramo','pardey','pardo','paredes','pareja','paris','parra','parrado','parraga','parrales','partner','paruma','pascagaza','pascual','pascuala','pascuas','pascuaza','pascumal','pasos','pasquel','pastor','pastora','pastrana','pasuy','patarroyo','paternina','patichoy','paticia','patino','patiño','patrcia','patrica','patricia','patrocinia','patrocinio','paubla','paucar','paul','paula','paulina','pauline','paulo','pava','pavel','pavi','pavon','paya','payan','payares','paz','pazmiño','pazos','pazu','peada','pealez','pechene','pechucue','pecillo','pedraza','pedrero','pedreros','pedro','pedroza','pedrozo','pelaez','pelaez','penagos','pencua','penilla','peña','peñafiel','peñalosa','peñaloza','peñaranda','peñarete','peñuela','pepicano','perafan','peralta','perdomo','perdonmo','perea','pereañez','pereira','perenguez','peres','perez','perez','perez','perico','perilla','perla','perlaza','pernia','perrea','persides','personeria','pescador','pesellin','pestana','peter','petrel','petsain','petter','petuma','phanor','pherson','piamba','pianda','pichica','pichimata','pico','picon','piedad','piedra','piedrahita','pierre','pieruchini','pilar','pilar','pilcue','pillimue','pimienta','pinch','pinchao','pineda','pinilla','pinillo','pinillos','pino','pinos','pinto','pinzon','pinzon','piña','piñerete','piñerez','piñeros','piño','pipicano','piquitero','piracoca','piraneque','piraquive','piscal','pita','pito','piza','pizarro','pizo','plata','playonero','plaza','plazas','plinio','plutarco','polanco','polania','policarpa','policarpo','polindara','pollos','polo','poloche','polonia','pomares','pombo','pomeo','pompilio','ponbo','ponton','pool','popayan','popo','porfirio','porras','portela','portilla','portillo','portocarrero','posada','poscue','posse','posso','possu','poter','potes','potosi','poveda','pracedes','prada','pradilla','prado','preciado','presentacion','presiga','prestadora','pretel','pretelt','prez','pricelis','prieto','primero','primitivo','primo','primoris','priscila','proaños','productora','proing','providencia','proyeccion','proyectos','ptrocinia','puablo','pubenza','publica','puchana','puente','puentes','puerta','puertas','puerto','puetate','puetes','pulecio','pulgar','pulgarin','pulgarin','pulido','pulpa','puni','pupiales','purificacion','pusil','q','q.v','quebrada','quebradas','quejada','quelal','quenguan','quenoran','quesada','quetama','quevedo','quezada','quiceno','quick','quiguanas','quiguanaz','quijano','quilcue','quilindo','quimbaya','quimbayo','quina','quinayas','quinceno','quinche','quinonez','quintana','quintero','quinteroval','quintin','quinto','quiñones','quiñonez','quique','quirama','quiroga','quiros','quiroz','quisoboni','quistanchala','quistial','quitiaquez','quitombo','quitumbo','quiza','quizamano','r','raba','racines','rada','rafael','rafaela','raga','raigosa','raigoza','ralphfi','ramirez','ramirez','ramirezx','ramiro','ramo','ramon','ramos','rangel','raphael','raquejo','raquel','rasha','raudino','raul','raul','rave','raymond','rayo','rcn','realpe','reaños','rebeca','rebellon','rebeyon','rebolleda','rebolledo','recalde','recio','redemer','redes','redondo','refiere','regina','regional','reina','reinaldo','reinario','reinel','reinelio','reinell','reinelly','reinerio','reinier','reinilfa','reinosa','reinoso','remedios','remeo','remicio','remigio','remolina','renata','rendon','rendon','rene','rened','renfijo','rengifo','renteria','renteria','renza','resguzman','restrepo','resurreccion','retavisca','retrepo','revellon','revelo','rey','reyes','reynaldo','reynel','reza','reznik','riaño','riaños','riasco','riascos','riascos&nbsp;','riazcos','ribon','ricardina','ricardo','ricaurte','ricaute','ricci','riccio','richard','richer','rico','rigoberto','rincon','rincon','rincones','rio','rioja','riomalo','riorrecio','rios','rios','riovo','ripe','ripoll','risaralda','risso','rita','rivas','rivasq','rivera','rivero','riveros','rivillas','rizo','roa','roballegas','robayo','robeiro','robelto','rober','robert','roberteau','roberth','roberto','robertulio','robin','robins','robinson','robledo','robles','rocha','roche','rocio','rock','rodallega','rodallegas','rodas','rodolfo','rodrigez','rodrigo','rodriguez','rodriguez','rogelia','rogelio','rogelis','roger','rogerio','roin','rojas','rojo','rolando','roldan','roldanillo','roman','roman','romaña','romel','romelia','romeo','romero','romiliana','rommy','romo','romulo','romy','ronal','ronald','roncancio','rondon','roney','ronny','roosevelt','roostvelh','roque','rosa','rosabel','rosada','rosalba','rosalbina','rosales','rosalia','rosalinda','rosaline','rosana','rosangela','rosario','rosas','rosaura','rose','roselia','roseline','roselver','rosely','rosember','rosemberg','rosen','rosendo','rosero','rosillo','rosina','rosinda','rosio','rosiver','rosmary','rosmery','rosmira','roso','rossemary','rossi','rotavisky','rotavista','roure','rovinson','rovira','roxana','royero','rozo','rta','rua','ruales','ruano','rubby','rubelia','ruben','ruber','rubert','rubi','rubia','rubialba','rubiano','rubidia','rubiel','rubiela','rubier','rubilia','rubio','rubria','rubriche','ruby','ruco','rudas','rudy','rueda','rufina','rufino','ruge','rugeles','ruiz','ruiz','rumaña','rumualdo','ruperto','ruque','rusbel','rusby','rusca','russi','rutber','ruth','ruverth','rvera','rym','sas','s','s.a','s.a.','s.a.s','s.a.s.','sa','saa','saavedra','sabarain','sabas','sabath','sabi','sabina','sabogal','sabrina','sacramento','sadi','sady','saenz','sahiary','said','saida','saide','saiduta','saira','saitemp','salamanca','salamando','salas','salazar','salcedo','saldaña','saldariaga','saldarriaga','salem','salgado','salguero','salima','salinas','salma','salom','salome','salome','salomon','salud','salustino','salvador','sam','samanta','samantha','samara','samboni','sambony','sambrano','sameco','samir','samira','sammer','sammy','sampayo','sampedro','samuel','samuell','samy','san','sana','sanabria','sanches','sanchez','sanchez','sanclemente','sanders','sandoval','sandra','sandro','sangiovanni','sanin','sanjuan','sanmiguel','sanna','sanson','sant','santa','santacoloma','santacruz','santafe','santamaria','santamaria','santana','santander','santanilla','santiagho','santiago','santibañez','santigo','santillana','santofimio','santos','sanz','sapuyes','sara','sarabia','sarah','sarai','sarasa','sarasti','sarasty','sarat','saray','sarita','sarmiento','sarrea','sarria','sarzosa','sas','sastoque','sastre','satisabal','sativa','satizabal','saturia','saucea','saucedo','saul','saulo','savine','sayledt','sayuri','scarpeta','scarpetta','sebastian','sebastian','secretaria','sedano','sedas','sediel','sedoc','seferina','segovia','segrera','segunda','segundo','segura','seguridad','seguro','seira','seiza','selemin','selene','seleny','selorio','semanate','senayda','sendoya','senel','señor','sepulveda','sergina','sergio','serna','serra','serrano','serrato','services','servicio','servicios','serviconstrucciones','serviespeciales','servio','severino','severo','sevilla','sevillano','seydel','shadday','shadid','shaiel','shaik','shailler','shaira','shalom','shara','sharay','sharick','sharit','sharom','sharon','sharyk','sharyth','sheccid','sheila','shek','shelly','sherley','shermie','shery','sheyla','shirledy','shirley','shti','siarah','sibaja','sicard','sicaroni','sicua','sidney','sierra','siesly','sigifredo','siglo','sigrid','silena','silfredo','silva','silvana','silvia','silvio','simanca','simbaqueba','simon','sinar','sindi','sindia','sindicato','sindy','sinisterra','sintrainagro','sinza','sion','sir','sirlene','sirley','sissa','sivoney','sixta','sixto','siyey','slanne','sleither','slith','smart','smc','smit','smith','snayder','sneider','sniper','soacha','sobeida','sociedad','socorro','soffi','sofi','sofia','sofia','sofonias','sofya','sogamoso','sohir','soide','sol','solandria','solandy','solange','solangel','solangy','solanilla','solanlly','solano','solanyi','solar','solarte','soledad','soledis','soleibe','soleine','soleiny','solemy','soler','solery','soley','solfemira','solhangelly','soliman','solis','solita','solla','solomoflex','solorsano','solorzano','soluciones','sonia','sonnia','sons','sophia','sophie','sor','soraida','sorane','sorangel','sorany','soraya','sorayda','sorenydht','sorey','sorfiria','sori','soriano','sorin','sorlanda','sorley','sorleyda','sorvay','sory','sosa','soscue','sossa','soteldo','sotelo','sotero','soto','sotomayor','sperez','spitia','sprintis','steban','stefani','stefania','stefanie','stefannia','stefannia','stefanny','stefannya','stefano','stefany','stefanya','steffany','stefhani','stefhania','stefhany','stehiner','stela','stella','stephania','stephanie','stephanny','stephany','stephanya','sterling','stevan','steve','steveen','steven','stevens','stevenson','steward','stf','sthefani','sthefania','sthefannia','sthefany','sthella','sthepanie','sthepany','sther','sthevan','sthevens','stiveen','stiven','sttid','studio','styles','styven','styward','suarez','suarez','suaza','sucrala','sucre','sucroal','suescun','sugey','sujely','sujey','sulay','suldery','suleima','suley','suleydi','suleydy','sulgey','sully','sulma','suluaga','suly','sumitep','superior','supermercado','supermercados','supertiendas','supremo','surata','suray','surly','surtifamiliar','susan','susana','susy','suzarte','suzuki','sylvana','sylvia','taba','tabares','tabarez','tabarquino','tabary','tabima','taborda','tacan','tadalinka','tafur','tafurt','taguado','taicus','taimal','tairy','takata','talaga','talento','taliana','tamara','tamayo','tami','tandeoy','tandioy','tangarife','tania','tao','tapasco','tape','tapia','tapias','tapie','tapiero','tapieros','taquez','taquinas','taramuel','tarapues','tarazona','tarcila','tarquino','tasama','tascon','tascon','tatiana','tautas','tavera','tax','taxis','teamco','tecnohigiene','tedesco','tejada','telcos','teleche','telesforo','tellez','tello','temporal','temporales','tengono','tenorio','teodocia','teodolfo','teodolinda','teodomira','teodora','teodoro','teodosia','teofila','teofilo','tepud','tequin','teran','teresa','teresita','terma','terranova','terreros','terresa','territorial','tersila','tesillo','teuta','tex','tezna','thailin','thalia','thaliana','thalya','thamara','thanairy','thevenet','thiago','thomas','thommas','tibaduiza','tiberio','ticora','tifanny','tigreros','timana','timaran','timon','timoteo','tinallas','tinoco','tintinago','tique','tirado','tirsa','titimbo','tito','toapanta','tobar','tobias','tobito','tobon','toledo','tolosa','toloza','tomas','tombe','tonusco','tonuzco','topa','toquica','torcoroma','torijano','toro','toronto','torre','torrente','torres','torrez','torrijos','toscano','tosse','tovar','trabajadores','transito','transporte','transportes','tranzit','travi','treghetti','trejo','trejos','triana','tribiño','tri-fit','trineyda','trinida','trinidad','triny','triviño','troche','troches','trochez','trujillo','trullo','truque','tuberquia','tucanes','tulande','tulandy','tulcan','tulia','tulio','tulua','tumbaqui','tumbo','tumiña','tunubala','tupue','tuquerres','turisticas','turizo','turjillo','turriago','tusarma','tuta','tutacha','tutistar','tys','ubaldina','ubaldo','ubeimar','ubelny','ubeny','ubenyde','uberley','uberlinda','ubernel','uberney','uchima','uchinba','uchur','udislay','uintero','ul','ulabarry','ulbrainer','ulchate','ulchur','ulcue','ulda','uldrey','uleivar','ulises','ulloa','ullos','ullune','umaña','umbarila','unas','ungria','unigarro','union','unispan','universidad','uno','upegui','uran','urania','urbano','urbertino','urbina','urcue','urcuqui','urdaneta','urdinola','urfania','uribe','uricoechea','uriel','urieles','urmendez','urmendiz','urquijo','urquina','urrea','urrego','urresta','urreste','urresti','urresty','urriago','urrutia','urueña','usa','useche','usma','usme','ussa','ustariz','usuga','usuriaga','usurriaga','uzuriaga','uzurriaga','v','vaca','vacca','valasco','valbuena','valdeblanquez','valderrama','valderruten','valdes','valdez','valdiri','valdivia','valdivieso','valdubino','valencia','valenciano','valens','valentierra','valentin','valentina','valentino','valenzuela','valeri','valeria','valerie','valero','valery','valeryn','valezco','valicia','valladales','valladares','valle','vallecilla','vallejo','valles','vallesilla','valnery','valois','valor','valquidia','valverde','valvula','vander','vanegas','vanesa','vaness','vanessa','vaneza','vannessa','vaquero','vaquiro','varanzeta','varela','vargas','varon','varon','varona','vasco','vasques','vasquez','vasquez','vasto','vda','vecsit','vega','veimar','veimer','vejarano','vela','velandia','velarde','velasco','velasquez','velasquez','velazco','velazquez','velez','velez','velosa','veloza','venachi','venegas','veneranda','venicia','venites','ventas','vente','ventura','venus','vera','verde','verdugo','verenguez','verganzo','vergara','vergel','vernaza','veronica','vesga','via','viafara','viafara','viagnery','viana','vianey','viany','vicenta','vicente','victor','victor','victoria','victoriano','vicuña','vida','vidal','vidales','vidarte','vidaura','vieda','viedma','viedman','viera','vigoya','vilamar','vilgia','villa','villabon','villabona','villacorte','villada','villadiego','villafañ','villafañe','villafuerte','villalba','villalobos','villamarin','villamil','villamizar','villamuez','villan','villan','villani','villano','villanueva','villaquiran','villaquiran','villareal','villarraga','villarreal','villarruel','villasmil','villavicencio','villegas','villeth','villota','vilma','vilmary','viloria','vinasco','vinculo','vinseth','viñas','violet','violeta','violetta','vique','virgelina','virgen','virgilia','virgilio','virginia','virisimo','viscaya','viscue','visitacion','visscher','vitalina','viteri','viuda','viva','vivana','vivas','vivero','viveros','viviam','viviama','vivian','viviana','viviany','vivienda','viviiana','vladimir','vmanrique','vnastar','voluntarios','volveras','von','vozmedia']\n",
        "c_name  =['ana', 'julia','ariza','dawer','wagner','walberto','waldina','waldir','walter','waltero','walteros','walther','wanessa','warner','wbaldino','wednesday','weimar','weizlen','wenceslao','wendy','wg','wheymar','whilinton','white','wiky','wilber','wilberto','wilches','wilchez','wildemar','wilder','wilderman','wilfer','wilford','wilfredo','wilfrido','wiliams','willan','willberth','willen','william','willian','willians','willington','willinton','wilma','wilman','wilmar','wilmer','wilmert','wilson','wilter','wilton','winy','wisberth','wisnton','wiston','wlabarry','wladimir','wm','wolf','wtk4','x','xavier','xenia','xilena','ximena','xiomahara','xiomara','xiury','xxi','y','ya','yaca','yackeline','yacnury','yacuma','yacumal','yaddy','yader','yaderli','yaderlyn','yadilin','yadir','yadira','yady','yaen','yaffah','yague','yahanna','yailan','yailin','yaily','yaima','yaira','yairmil','yaisa','yaisseidi','yajaira','yakeline','yala','yalanda','yaledit','yalena','yalila','yalileth','yalit','yalmira','yama','yamanaka','yamarlyn','yamid','yamil','yamila','yamile','yamiled','yamileida','yamilet','yamileth','yampuezan','yan','yancy','yande','yandeivis','yandi','yandri','yandun','yandy','yaned','yaneida','yanela','yanes','yaneska','yanet','yaneth','yaney','yanguas','yanguma','yanid','yanier','yanince','yanira','yanire','yaniria','yanisa','yannell','yanneth','yannier','yanten','yanten','yanza','yañez','yaquelin','yaqueline','yaqueno','yara','yarby','yareli','yarely','yaribelly','yarilet','yarine','yaritza','yariz','yaroline','yascuaran','yasiris','yasmid','yasmin','yasminy','yasno','yasnury','yasodhara','yatacue','yate','yavely','yazmin','yazmira','yeberxon','yecenia','yecid','yeferson','yeferzon','yefferson','yehisuni','yei','yeiber','yeibi','yeibig','yeico','yeidi','yeidy','yeiko','yeiler','yeimar','yeime','yeimi','yeimmi','yeimmy','yeimy','yeiner','yeini','yeinson','yeiny','yeisi','yeison','yeisson','yela','yelaine','yelexis','yelitza','yelleany','yelly','yemir','yenci','yency','yendi','yeni','yenifer','yeniffer','yenireth','yenis','yenith','yenni','yennifer','yenniffer','yenny','yennyfer','yennys','yensi','yensy','yeny','yepes','yepez','yeraldi','yeraldin','yeraldine','yeraldini','yerardin','yeris','yerislady','yerladys','yerlany','yerlez','yeron','yerson','yesenia','yeserid','yeshua','yesica','yesid','yesika','yesquen','yessenia','yessica','yessid','yessika','yestin','yesviley','yetzy','yeyenny','yezenia','ygnolia','yheiner','yhirman','yhon','yhonalde','yhordan','yiam','yibi','yiced','yicel','yicela','yicele','yiceth','yidi','yilber','yilena','yiliana','yilma','yilmer','yimara','yimmi','yina','yine','yined','yinehy','yinet','yinetc','yineth','yinna','yinneth','yiomara','yira','yiret','yiria','yirlene','yirlesa','yisel','yisela','yiseli','yisell','yiseth','yisnei','ynes','yoan','yoana','yoani','yoanna','yoany','yobani','yobanny','yobany','yocue','yodin','yoel','yofer','yoger','yohana','yohandri','yohanna','yohn','yoiner','yoisy','yojana','yoladys','yolanda','yolando','yolehidy','yoleine','yolena','yolima','yoline','yolisbeth','yoliveth','yolvy','yoly','yomaira','yomara','yomay','yon','yonatan','yonathan','yonda','yonny','yony','yor','yordy','yorfany','york','yorladis','yorladys','yorleni','yorley','yorly','yorman','yormensy','yoryani','yosando','yoseph','yoshef','yoshua','yosimar','yosselyn','yotengo','yotoco','youblin','yovana','yovani','yovanna','yovanni','yovany','ysis','yubel','yubiza','yubleny','yuceth','yuco','yucuma','yudi','yudy','yuladith','yulady','yulani','yulder','yule','yuleidy','yuleni','yuleny','yuli','yulian','yuliana','yulianna','yuliany','yulied','yulier','yuliet','yuliete','yulieth','yulisa','yulisnedy','yulissa','yulith','yuliza','yullieth','yully','yulmery','yuly','yumarly','yunda','yuraima','yurani','yuranny','yurany','yureidi','yuri','yurian','yuridya','yurledy','yurley','yurly','yury','yusbeli','yusef','yusell','yuseth','yusledi','yusmery','yustes','yusti','yustres','yusty','yuttajeidi','yuttiel','yuviza','yvonne','z','zabala','zacha','zaday','zafiro','zafra','zahira','zaida','zailem','zaitler','zalamanca','zamara','zambran','zambrano','zamir','zamora','zamorano','zamudio','zandra','zapata','zape','zarah','zarama','zarante','zarate','zaray','zareth','zaria','zayda','zazipa','zea','zegarra','zeida','zein','zemanate','zemyaxe','zenaida','zenon','zharick','zharik','zipagauta','zmin','zoe','zoila','zonal','zonia','zoraida','zoray','zoraya','zorayda','zorelly','zorilla','zorrilla','zoyla','zulay','zuleima','zulema','zuleta','zuley','zuleyma','zuleyme','zulima','zully','zulma','zulman','zuluaga','zuly','zulyma','zuñiga','zuñiga','zuri','zurita','zury']\n",
        "d_name=pd.read_csv(FOLDER_STOP_WORDS+'Names_2010Census.csv')\n",
        "d_name=d_name[d_name.name.notna()]\n",
        "d_name['name']=d_name['name'].apply(lambda x: x.lower())\n",
        "d_name=d_name.name.tolist()\n",
        "a_surname=pd.read_csv(FOLDER_STOP_WORDS+'surnames_freq_ge.csv')\n",
        "a_surname=a_surname[a_surname.surnames.notna()]\n",
        "a_surname['surnames']=a_surname['surnames'].apply(lambda x: x.lower())\n",
        "a_surname=a_surname.surnames.tolist()\n",
        "names=a_name+b_name+c_name+d_name+a_surname"
      ],
      "execution_count": 38,
      "outputs": []
    },
    {
      "cell_type": "markdown",
      "metadata": {
        "id": "FY5oSkDl31mv"
      },
      "source": [
        "Definicion de las stop words generales"
      ]
    },
    {
      "cell_type": "code",
      "metadata": {
        "id": "YJEHrcXf30Kv"
      },
      "source": [
        "stop_num=['uno','dos','tres','cuatro','cinco','seis','siete','ocho','diez','once','doce','trece','catorce','quince','dieciseis','diecisiete','dieciocho','diecinueve','veinte','veintiuno','veintidos','ventitres','veinticuatro','veinticinco','veintiseis','veintisiete','veintiocho','veintinueve','treinta','treinta y uno','treinta y dos','treinta y tres','treinta y cuatro','treinta y cinco','treinta y seis','treinta y siete','treinta y ocho','treinta y nueve','cuarenta','cuarenta y uno', 'cuarentay dos', 'cuarentay tres','cuarenta y cuatro','cuarenta y cinco', 'cuarenta y seis', 'cuarenta y siete', 'cuarentay ocho', 'cuarentay nueve', 'cincuenta', 'cincuenta y uno','cincuenta y dos', 'cincuenta y tres', 'cincuenta y cuatro', 'cincuenta y cinco', 'cincuenta y seis', 'cincuenta y siete', 'cincuenta y ocho', 'cincuenta y nueve', 'sesenta', 'sesenta y uno', 'sesenta y dos', 'sesenta y tres', 'sesenta y cuatro', 'sesenta y cinco', 'sesenta y seis', 'sesenta y siete', 'sesenta y ocho', 'sesenta y nueve', 'setenta','setenta y uno', 'setenta y dos', 'setenta y tres', 'setenta y cuatro', 'setenta y cinco', 'setenta y seis', 'setenta y siete', 'setenta y ocho', 'setenta y nueve', 'ochenta', 'ochenta y uno', 'ochenta y dos', 'ochenta y tres', 'ochenta y cuatro', 'ochenta y cinco', 'ochenta y seis', 'ochenta y siete', 'ochenta y ocho', 'ochenta y nueve', 'noventa', 'noventa y uno', 'noventa y dos', 'noventa y tres', 'noventa y cuatro', 'noventa y cinco', 'noventa y seis', 'noventa y siete', 'noventa y siete', 'noventa y ocho', 'noventa y nueve', 'cien', 'doscientos','trescientos','cuatrocientos','quinientos','seiscientos','setecientos','ochocientos', 'novecientos','mil','dosmil', 'tresmil','cuatromil','cincomil','seismil','sietemil','ochomil','nuevemil','diezmil', 'oncemil','docemil','trecemil','catorcemil','quincemil','dieciseismil','diecisietemil','dieciochomil','diecinuevemil','veintemil'  ]\n",
        "sw_basico = ['ahorita','ahora','siguiente','mucho','traves','pues','dijeron','dice','gracias','senora','senor','señora','señor','buena','buen','buenos','buenas','dias','dia','noche','noches','tarde','tardes','a','al','algo','algunas','algunos','ante','antes','como','con','contra','cual','cuando','del','desde','donde','durante','e','el','ella','ellas','ellos','en','entre','era','erais','eramos','eran','eras','eres','es','esa','esas','ese','eso','esos','esta','estaba','estabais','estabamos','estaban','estabas','estad','estada','estadas','estado','estados','estais','estamos','estan','estando','estar','estara','estaran','estaras','estare','estareis','estaremos','estaria','estariais','estariamos','estarian','estarias','estas','este','esteis','estemos','esten','estes','esto','estos','estoy','estuve','estuviera','estuvierais','estuvieramos','estuvieran','estuvieras','estuvieron','estuviese','estuvieseis','estuviesemos','estuviesen','estuvieses','estuvimos','estuviste','estuvisteis','estuvo','fue','fuera','fuerais','fueramos','fueran','fueras','fueron','fuese','fueseis','fuesemos','fuesen','fueses','fui','fuimos','fuiste','fuisteis','ha','habeis','habia','habiais','habiamos','habian','habias','habida','habidas','habido','habidos','habiendo','habra','habran','habras','habre','habreis','habremos','habria','habriais','habriamos','habrian','habrias','han','has','hasta','hay','haya','hayais','hayamos','hayan','hayas','he','hemos','hube','hubiera','hubierais','hubieramos','hubieran','hubieras','hubieron','hubiese','hubieseis','hubiesemos','hubiesen','hubieses','hubimos','hubiste','hubisteis','hubo','la','las','le','les','lo','los','mas','me','mi','mia','mias','mio','mios','mis','mucho','muchos','muy','nada','ni','no','nos','nosotras','nosotros','nuestra','nuestras','nuestro','nuestros','o','os','otra','otras','otro','otros','para','pero','poco','por','porque','que','quien','quienes','se','sea','seais','seamos','sean','seas','sentid','sentida','sentidas','sentido','sentidos','sera','seran','seras','sere','sereis','seremos','seria','seriais','seriamos','serian','serias','si','siente','sin','sintiendo','sobre','sois','somos','son','soy','su','sus','suya','suyas','suyo','suyos','tambien','tanto','te','tendra','tendran','tendras','tendre','tendreis','tendremos','tendria','tendriais','tendriamos','tendrian','tendrias','tened','teneis','tenemos','tenga','tengais','tengamos','tengan','tengas','tengo','tenia','teniais','teniamos','tenian','tenias','tenida','tenidas','tenido','tenidos','teniendo','ti','tiene','tienen','tienes','todo','todos','tu','tus','tuve','tuviera','tuvierais','tuvieramos','tuvieran','tuvieras','tuvieron','tuviese','tuvieseis','tuviesemos','tuviesen','tuvieses','tuvimos','tuviste','tuvisteis','tuvo','tuya','tuyas','tuyo','tuyos','un','una','uno','unos','vosotras','vosotros','vuestra','vuestras','vuestro','vuestros','y','ya','yo','a','aca','ahi','ajena','ajenas','ajeno','ajenos','al','algo','algun','alguna','algunas','alguno','algunos','alla','alli','alli','ambos','ampleamos','ante','antes','aquel','aquella','aquellas','aquello','aquellos','aqui','aqui','arriba','asi','atras','aun','aunque','bajo','bastante','bien','cabe','cada','casi','cierta','ciertas','cierto','ciertos','como','como','con','conmigo','conseguimos','conseguir','consigo','consigue','consiguen','consigues','contigo','contra','cual','cuales','cualquier','cualquiera','cualquieras','cuan','cuan','cuando','cuanta','cuanta','cuantas','cuantas','cuanto','cuanto','cuantos','cuantos','de','dejar','del','demas','demas','demasiada','demasiadas','demasiado','demasiados','dentro','desde','donde','dos','el','el','ella','ellas','ello','ellos','empleais','emplean','emplear','empleas','empleo','en','encima','entonces','entre','era','eramos','eran','eras','eres','es','esa','esas','ese','eso','esos','esta','estaba','estado','estais','estamos','estan','estar','estas','este','esto','estos','estoy','etc','fin','fue','fueron','fui','fuimos','gueno','ha','hace','haceis','hacemos','hacen','hacer','haces','hacia','hago','hasta','incluso','intenta','intentais','intentamos','intentan','intentar','intentas','intento','ir','jamas','junto','juntos','la','largo','las','lo','los','mas','mas','me','menos','mi','mia','mia','mias','mientras','mio','mio','mios','mis','misma','mismas','mismo','mismos','modo','mucha','muchas','muchisima','muchisimas','muchisimo','muchisimos','mucho','muchos','muy','nada','ni','ningun','ninguna','ningunas','ninguno','ningunos','no','nos','nosotras','nosotros','nuestra','nuestras','nuestro','nuestros','nunca','os','otra','otras','otro','otros','para','parecer','pero','poca','pocas','poco','pocos','podeis','podemos','poder','podria','podriais','podriamos','podrian','podrias','por que','por','porque','primero desde','primero','puede','pueden','puedo','pues','que','que','querer','quien','quien','quienes','quienesquiera','quienquiera','quiza','quizas','sabe','sabeis','sabemos','saben','saber','sabes','se','segun','ser','si','si','siempre','siendo','sin','sin','sino','so','sobre','sois','solamente','solo','somos','soy','sr','sra','sres','sta','su','sus','suya','suyas','suyo','suyos','tal','tales','tambien','tambien','tampoco','tan','tanta','tantas','tanto','tantos','te','teneis','tenemos','tener','tengo','ti','tiempo','tiene','tienen','toda','todas','todo','todos','tomar','trabaja','trabajais','trabajamos','trabajan','trabajar','trabajas','trabajo','tras','tu','tu','tus','tuya','tuyo','tuyos','ultimo','un','una','unas','uno','unos','usa','usais','usamos','usan','usar','usas','uso','usted','ustedes','va','vais','valor','vamos','van','varias','varios','vaya','verdad','verdadera','vosotras','vosotros','voy','vuestra','vuestras','vuestro','vuestros','y','ya','yo']\n",
        "\n",
        "# Inclusión de las palabras a eliminar de acuerdo con la línea de trabajo\n",
        "lista_palabras = ['bienvenido']\n",
        "sw_basico = sw_basico + lista_palabras\n",
        "\n",
        "lista_stop_words= names+stopwords.words('spanish')+stop_num+sw_basico"
      ],
      "execution_count": 39,
      "outputs": []
    },
    {
      "cell_type": "markdown",
      "metadata": {
        "id": "bdq3Ka_Y1I_z"
      },
      "source": [
        "Limpieza general para agente y usuario"
      ]
    },
    {
      "cell_type": "code",
      "metadata": {
        "id": "mDyTYrVI1Loo"
      },
      "source": [
        "#Aplicación de las funciones generales de limpieza de texto (puede incluir otra sí así lo desea)\n",
        "\n",
        "df_user['transcripcion']=df_user['transcripcion'].apply(lambda x: elimina_tildes(x))\n",
        "\n",
        "################################clean text\n",
        "df_user['transcripcion']=df_user['transcripcion'].apply(lambda x: clean_text(x))\n",
        "\n",
        "####remove short words\n",
        "df_user['transcripcion']=df_user['transcripcion'].apply(lambda x: clean_text_p(x))\n"
      ],
      "execution_count": 40,
      "outputs": []
    },
    {
      "cell_type": "markdown",
      "metadata": {
        "id": "hsqPpLtql9fg"
      },
      "source": [
        "Dataframe usuario gráficas generales"
      ]
    },
    {
      "cell_type": "markdown",
      "metadata": {
        "id": "SrMp-7xAp7ZO"
      },
      "source": [
        "Cantidad de llamadas analizadas por mes"
      ]
    },
    {
      "cell_type": "code",
      "metadata": {
        "id": "QL_w-tqollFV"
      },
      "source": [
        "# a=pd.DataFrame(df_user['mes_x'].value_counts())\n",
        "# a=a.rename(columns={'mes_x':'mes'})\n",
        "# a.reset_index(inplace=True)\n",
        "# a=a.rename(columns={'index':'Cantidad de llamadas'})\n",
        "# fig = px.bar(a, x='Cantidad de llamadas', y=a['mes'], title='Cantidad de llamadas por mes')\n",
        "# fig.show()"
      ],
      "execution_count": 41,
      "outputs": []
    },
    {
      "cell_type": "markdown",
      "metadata": {
        "id": "U_4bZKmlp958"
      },
      "source": [
        "Cantidad de llamadas analizadas por segmento"
      ]
    },
    {
      "cell_type": "code",
      "metadata": {
        "id": "5th2LLsip6kb",
        "colab": {
          "base_uri": "https://localhost:8080/",
          "height": 542
        },
        "outputId": "59ac7ce0-0d2a-43fc-fc64-23925f2840a0"
      },
      "source": [
        "a=pd.DataFrame(df_user['Linea'].value_counts())\n",
        "a.reset_index(inplace=True)\n",
        "a=a.rename(columns={'index':'Lineas'})\n",
        "fig = px.bar(a, x='Lineas', y=a['Linea'], title='Cantidad de llamadas por Campaña')\n",
        "fig.show()"
      ],
      "execution_count": 42,
      "outputs": [
        {
          "output_type": "display_data",
          "data": {
            "text/html": [
              "<html>\n",
              "<head><meta charset=\"utf-8\" /></head>\n",
              "<body>\n",
              "    <div>\n",
              "            <script src=\"https://cdnjs.cloudflare.com/ajax/libs/mathjax/2.7.5/MathJax.js?config=TeX-AMS-MML_SVG\"></script><script type=\"text/javascript\">if (window.MathJax) {MathJax.Hub.Config({SVG: {font: \"STIX-Web\"}});}</script>\n",
              "                <script type=\"text/javascript\">window.PlotlyConfig = {MathJaxConfig: 'local'};</script>\n",
              "        <script src=\"https://cdn.plot.ly/plotly-latest.min.js\"></script>    \n",
              "            <div id=\"110bb2a2-464b-481c-8d15-d00290a73228\" class=\"plotly-graph-div\" style=\"height:525px; width:100%;\"></div>\n",
              "            <script type=\"text/javascript\">\n",
              "                \n",
              "                    window.PLOTLYENV=window.PLOTLYENV || {};\n",
              "                    \n",
              "                if (document.getElementById(\"110bb2a2-464b-481c-8d15-d00290a73228\")) {\n",
              "                    Plotly.newPlot(\n",
              "                        '110bb2a2-464b-481c-8d15-d00290a73228',\n",
              "                        [{\"alignmentgroup\": \"True\", \"hoverlabel\": {\"namelength\": 0}, \"hovertemplate\": \"Lineas=%{x}<br>Linea=%{y}\", \"legendgroup\": \"\", \"marker\": {\"color\": \"#636efa\"}, \"name\": \"\", \"offsetgroup\": \"\", \"orientation\": \"v\", \"showlegend\": false, \"textposition\": \"auto\", \"type\": \"bar\", \"x\": [\"Personal\", \"Salud\", \"Abastecimiento\", \"Atenci\\u00f3n al accionista\", \"Quejas y OPC\", \"Operaciones Financieras\"], \"xaxis\": \"x\", \"y\": [938, 609, 316, 144, 136, 37], \"yaxis\": \"y\"}],\n",
              "                        {\"barmode\": \"relative\", \"legend\": {\"tracegroupgap\": 0}, \"template\": {\"data\": {\"bar\": [{\"error_x\": {\"color\": \"#2a3f5f\"}, \"error_y\": {\"color\": \"#2a3f5f\"}, \"marker\": {\"line\": {\"color\": \"#E5ECF6\", \"width\": 0.5}}, \"type\": \"bar\"}], \"barpolar\": [{\"marker\": {\"line\": {\"color\": \"#E5ECF6\", \"width\": 0.5}}, \"type\": \"barpolar\"}], \"carpet\": [{\"aaxis\": {\"endlinecolor\": \"#2a3f5f\", \"gridcolor\": \"white\", \"linecolor\": \"white\", \"minorgridcolor\": \"white\", \"startlinecolor\": \"#2a3f5f\"}, \"baxis\": {\"endlinecolor\": \"#2a3f5f\", \"gridcolor\": \"white\", \"linecolor\": \"white\", \"minorgridcolor\": \"white\", \"startlinecolor\": \"#2a3f5f\"}, \"type\": \"carpet\"}], \"choropleth\": [{\"colorbar\": {\"outlinewidth\": 0, \"ticks\": \"\"}, \"type\": \"choropleth\"}], \"contour\": [{\"colorbar\": {\"outlinewidth\": 0, \"ticks\": \"\"}, \"colorscale\": [[0.0, \"#0d0887\"], [0.1111111111111111, \"#46039f\"], [0.2222222222222222, \"#7201a8\"], [0.3333333333333333, \"#9c179e\"], [0.4444444444444444, \"#bd3786\"], [0.5555555555555556, \"#d8576b\"], [0.6666666666666666, \"#ed7953\"], [0.7777777777777778, \"#fb9f3a\"], [0.8888888888888888, \"#fdca26\"], [1.0, \"#f0f921\"]], \"type\": \"contour\"}], \"contourcarpet\": [{\"colorbar\": {\"outlinewidth\": 0, \"ticks\": \"\"}, \"type\": \"contourcarpet\"}], \"heatmap\": [{\"colorbar\": {\"outlinewidth\": 0, \"ticks\": \"\"}, \"colorscale\": [[0.0, \"#0d0887\"], [0.1111111111111111, \"#46039f\"], [0.2222222222222222, \"#7201a8\"], [0.3333333333333333, \"#9c179e\"], [0.4444444444444444, \"#bd3786\"], [0.5555555555555556, \"#d8576b\"], [0.6666666666666666, \"#ed7953\"], [0.7777777777777778, \"#fb9f3a\"], [0.8888888888888888, \"#fdca26\"], [1.0, \"#f0f921\"]], \"type\": \"heatmap\"}], \"heatmapgl\": [{\"colorbar\": {\"outlinewidth\": 0, \"ticks\": \"\"}, \"colorscale\": [[0.0, \"#0d0887\"], [0.1111111111111111, \"#46039f\"], [0.2222222222222222, \"#7201a8\"], [0.3333333333333333, \"#9c179e\"], [0.4444444444444444, \"#bd3786\"], [0.5555555555555556, \"#d8576b\"], [0.6666666666666666, \"#ed7953\"], [0.7777777777777778, \"#fb9f3a\"], [0.8888888888888888, \"#fdca26\"], [1.0, \"#f0f921\"]], \"type\": \"heatmapgl\"}], \"histogram\": [{\"marker\": {\"colorbar\": {\"outlinewidth\": 0, \"ticks\": \"\"}}, \"type\": \"histogram\"}], \"histogram2d\": [{\"colorbar\": {\"outlinewidth\": 0, \"ticks\": \"\"}, \"colorscale\": [[0.0, \"#0d0887\"], [0.1111111111111111, \"#46039f\"], [0.2222222222222222, \"#7201a8\"], [0.3333333333333333, \"#9c179e\"], [0.4444444444444444, \"#bd3786\"], [0.5555555555555556, \"#d8576b\"], [0.6666666666666666, \"#ed7953\"], [0.7777777777777778, \"#fb9f3a\"], [0.8888888888888888, \"#fdca26\"], [1.0, \"#f0f921\"]], \"type\": \"histogram2d\"}], \"histogram2dcontour\": [{\"colorbar\": {\"outlinewidth\": 0, \"ticks\": \"\"}, \"colorscale\": [[0.0, \"#0d0887\"], [0.1111111111111111, \"#46039f\"], [0.2222222222222222, \"#7201a8\"], [0.3333333333333333, \"#9c179e\"], [0.4444444444444444, \"#bd3786\"], [0.5555555555555556, \"#d8576b\"], [0.6666666666666666, \"#ed7953\"], [0.7777777777777778, \"#fb9f3a\"], [0.8888888888888888, \"#fdca26\"], [1.0, \"#f0f921\"]], \"type\": \"histogram2dcontour\"}], \"mesh3d\": [{\"colorbar\": {\"outlinewidth\": 0, \"ticks\": \"\"}, \"type\": \"mesh3d\"}], \"parcoords\": [{\"line\": {\"colorbar\": {\"outlinewidth\": 0, \"ticks\": \"\"}}, \"type\": \"parcoords\"}], \"pie\": [{\"automargin\": true, \"type\": \"pie\"}], \"scatter\": [{\"marker\": {\"colorbar\": {\"outlinewidth\": 0, \"ticks\": \"\"}}, \"type\": \"scatter\"}], \"scatter3d\": [{\"line\": {\"colorbar\": {\"outlinewidth\": 0, \"ticks\": \"\"}}, \"marker\": {\"colorbar\": {\"outlinewidth\": 0, \"ticks\": \"\"}}, \"type\": \"scatter3d\"}], \"scattercarpet\": [{\"marker\": {\"colorbar\": {\"outlinewidth\": 0, \"ticks\": \"\"}}, \"type\": \"scattercarpet\"}], \"scattergeo\": [{\"marker\": {\"colorbar\": {\"outlinewidth\": 0, \"ticks\": \"\"}}, \"type\": \"scattergeo\"}], \"scattergl\": [{\"marker\": {\"colorbar\": {\"outlinewidth\": 0, \"ticks\": \"\"}}, \"type\": \"scattergl\"}], \"scattermapbox\": [{\"marker\": {\"colorbar\": {\"outlinewidth\": 0, \"ticks\": \"\"}}, \"type\": \"scattermapbox\"}], \"scatterpolar\": [{\"marker\": {\"colorbar\": {\"outlinewidth\": 0, \"ticks\": \"\"}}, \"type\": \"scatterpolar\"}], \"scatterpolargl\": [{\"marker\": {\"colorbar\": {\"outlinewidth\": 0, \"ticks\": \"\"}}, \"type\": \"scatterpolargl\"}], \"scatterternary\": [{\"marker\": {\"colorbar\": {\"outlinewidth\": 0, \"ticks\": \"\"}}, \"type\": \"scatterternary\"}], \"surface\": [{\"colorbar\": {\"outlinewidth\": 0, \"ticks\": \"\"}, \"colorscale\": [[0.0, \"#0d0887\"], [0.1111111111111111, \"#46039f\"], [0.2222222222222222, \"#7201a8\"], [0.3333333333333333, \"#9c179e\"], [0.4444444444444444, \"#bd3786\"], [0.5555555555555556, \"#d8576b\"], [0.6666666666666666, \"#ed7953\"], [0.7777777777777778, \"#fb9f3a\"], [0.8888888888888888, \"#fdca26\"], [1.0, \"#f0f921\"]], \"type\": \"surface\"}], \"table\": [{\"cells\": {\"fill\": {\"color\": \"#EBF0F8\"}, \"line\": {\"color\": \"white\"}}, \"header\": {\"fill\": {\"color\": \"#C8D4E3\"}, \"line\": {\"color\": \"white\"}}, \"type\": \"table\"}]}, \"layout\": {\"annotationdefaults\": {\"arrowcolor\": \"#2a3f5f\", \"arrowhead\": 0, \"arrowwidth\": 1}, \"coloraxis\": {\"colorbar\": {\"outlinewidth\": 0, \"ticks\": \"\"}}, \"colorscale\": {\"diverging\": [[0, \"#8e0152\"], [0.1, \"#c51b7d\"], [0.2, \"#de77ae\"], [0.3, \"#f1b6da\"], [0.4, \"#fde0ef\"], [0.5, \"#f7f7f7\"], [0.6, \"#e6f5d0\"], [0.7, \"#b8e186\"], [0.8, \"#7fbc41\"], [0.9, \"#4d9221\"], [1, \"#276419\"]], \"sequential\": [[0.0, \"#0d0887\"], [0.1111111111111111, \"#46039f\"], [0.2222222222222222, \"#7201a8\"], [0.3333333333333333, \"#9c179e\"], [0.4444444444444444, \"#bd3786\"], [0.5555555555555556, \"#d8576b\"], [0.6666666666666666, \"#ed7953\"], [0.7777777777777778, \"#fb9f3a\"], [0.8888888888888888, \"#fdca26\"], [1.0, \"#f0f921\"]], \"sequentialminus\": [[0.0, \"#0d0887\"], [0.1111111111111111, \"#46039f\"], [0.2222222222222222, \"#7201a8\"], [0.3333333333333333, \"#9c179e\"], [0.4444444444444444, \"#bd3786\"], [0.5555555555555556, \"#d8576b\"], [0.6666666666666666, \"#ed7953\"], [0.7777777777777778, \"#fb9f3a\"], [0.8888888888888888, \"#fdca26\"], [1.0, \"#f0f921\"]]}, \"colorway\": [\"#636efa\", \"#EF553B\", \"#00cc96\", \"#ab63fa\", \"#FFA15A\", \"#19d3f3\", \"#FF6692\", \"#B6E880\", \"#FF97FF\", \"#FECB52\"], \"font\": {\"color\": \"#2a3f5f\"}, \"geo\": {\"bgcolor\": \"white\", \"lakecolor\": \"white\", \"landcolor\": \"#E5ECF6\", \"showlakes\": true, \"showland\": true, \"subunitcolor\": \"white\"}, \"hoverlabel\": {\"align\": \"left\"}, \"hovermode\": \"closest\", \"mapbox\": {\"style\": \"light\"}, \"paper_bgcolor\": \"white\", \"plot_bgcolor\": \"#E5ECF6\", \"polar\": {\"angularaxis\": {\"gridcolor\": \"white\", \"linecolor\": \"white\", \"ticks\": \"\"}, \"bgcolor\": \"#E5ECF6\", \"radialaxis\": {\"gridcolor\": \"white\", \"linecolor\": \"white\", \"ticks\": \"\"}}, \"scene\": {\"xaxis\": {\"backgroundcolor\": \"#E5ECF6\", \"gridcolor\": \"white\", \"gridwidth\": 2, \"linecolor\": \"white\", \"showbackground\": true, \"ticks\": \"\", \"zerolinecolor\": \"white\"}, \"yaxis\": {\"backgroundcolor\": \"#E5ECF6\", \"gridcolor\": \"white\", \"gridwidth\": 2, \"linecolor\": \"white\", \"showbackground\": true, \"ticks\": \"\", \"zerolinecolor\": \"white\"}, \"zaxis\": {\"backgroundcolor\": \"#E5ECF6\", \"gridcolor\": \"white\", \"gridwidth\": 2, \"linecolor\": \"white\", \"showbackground\": true, \"ticks\": \"\", \"zerolinecolor\": \"white\"}}, \"shapedefaults\": {\"line\": {\"color\": \"#2a3f5f\"}}, \"ternary\": {\"aaxis\": {\"gridcolor\": \"white\", \"linecolor\": \"white\", \"ticks\": \"\"}, \"baxis\": {\"gridcolor\": \"white\", \"linecolor\": \"white\", \"ticks\": \"\"}, \"bgcolor\": \"#E5ECF6\", \"caxis\": {\"gridcolor\": \"white\", \"linecolor\": \"white\", \"ticks\": \"\"}}, \"title\": {\"x\": 0.05}, \"xaxis\": {\"automargin\": true, \"gridcolor\": \"white\", \"linecolor\": \"white\", \"ticks\": \"\", \"title\": {\"standoff\": 15}, \"zerolinecolor\": \"white\", \"zerolinewidth\": 2}, \"yaxis\": {\"automargin\": true, \"gridcolor\": \"white\", \"linecolor\": \"white\", \"ticks\": \"\", \"title\": {\"standoff\": 15}, \"zerolinecolor\": \"white\", \"zerolinewidth\": 2}}}, \"title\": {\"text\": \"Cantidad de llamadas por Campa\\u00f1a\"}, \"xaxis\": {\"anchor\": \"y\", \"domain\": [0.0, 1.0], \"title\": {\"text\": \"Lineas\"}}, \"yaxis\": {\"anchor\": \"x\", \"domain\": [0.0, 1.0], \"title\": {\"text\": \"Linea\"}}},\n",
              "                        {\"responsive\": true}\n",
              "                    ).then(function(){\n",
              "                            \n",
              "var gd = document.getElementById('110bb2a2-464b-481c-8d15-d00290a73228');\n",
              "var x = new MutationObserver(function (mutations, observer) {{\n",
              "        var display = window.getComputedStyle(gd).display;\n",
              "        if (!display || display === 'none') {{\n",
              "            console.log([gd, 'removed!']);\n",
              "            Plotly.purge(gd);\n",
              "            observer.disconnect();\n",
              "        }}\n",
              "}});\n",
              "\n",
              "// Listen for the removal of the full notebook cells\n",
              "var notebookContainer = gd.closest('#notebook-container');\n",
              "if (notebookContainer) {{\n",
              "    x.observe(notebookContainer, {childList: true});\n",
              "}}\n",
              "\n",
              "// Listen for the clearing of the current output cell\n",
              "var outputEl = gd.closest('.output');\n",
              "if (outputEl) {{\n",
              "    x.observe(outputEl, {childList: true});\n",
              "}}\n",
              "\n",
              "                        })\n",
              "                };\n",
              "                \n",
              "            </script>\n",
              "        </div>\n",
              "</body>\n",
              "</html>"
            ]
          },
          "metadata": {
            "tags": []
          }
        }
      ]
    },
    {
      "cell_type": "markdown",
      "metadata": {
        "id": "yvgSv6adqboI"
      },
      "source": [
        "**Limpieza general para el usuario**"
      ]
    },
    {
      "cell_type": "markdown",
      "metadata": {
        "id": "B4Pw1wqSsgpQ"
      },
      "source": [
        "Observamos las palabras más frecuentes para eliminar stop-words que pueden ser propias del negocio, como en este caso Ecopetrol."
      ]
    },
    {
      "cell_type": "code",
      "metadata": {
        "id": "-ZQwVL-5YkyX"
      },
      "source": [
        "freq_important = pd.Series(' '.join(df_user['transcripcion']).split()).value_counts()[:900]"
      ],
      "execution_count": 43,
      "outputs": []
    },
    {
      "cell_type": "code",
      "metadata": {
        "id": "Mv7pxMO8Ykyc",
        "colab": {
          "base_uri": "https://localhost:8080/"
        },
        "outputId": "3015cc12-bf75-401a-e99b-6cf00b63e16b"
      },
      "source": [
        "freq_important[50:100]"
      ],
      "execution_count": 44,
      "outputs": [
        {
          "output_type": "execute_result",
          "data": {
            "text/plain": [
              "desde           1735\n",
              "momento         1729\n",
              "tambien         1707\n",
              "hacer           1635\n",
              "tienen          1612\n",
              "servicios       1573\n",
              "trece           1567\n",
              "noventa         1565\n",
              "acuerdo         1560\n",
              "estoy           1550\n",
              "correcto        1525\n",
              "donde           1522\n",
              "perfecto        1511\n",
              "ecopetrol       1452\n",
              "pago            1449\n",
              "ellos           1447\n",
              "nombre          1430\n",
              "ella            1408\n",
              "algo            1394\n",
              "ciento          1351\n",
              "perdon          1269\n",
              "amable          1239\n",
              "tenga           1198\n",
              "estos           1184\n",
              "directamente    1183\n",
              "buenas          1176\n",
              "puedo           1168\n",
              "cuenta          1147\n",
              "tiempo          1133\n",
              "dice            1125\n",
              "parte           1124\n",
              "veinte          1116\n",
              "tarde           1101\n",
              "todos           1086\n",
              "nada            1071\n",
              "ochenta         1065\n",
              "estas           1061\n",
              "muchas          1053\n",
              "hablar          1047\n",
              "claro           1034\n",
              "respuesta       1026\n",
              "setenta         1025\n",
              "buenos          1021\n",
              "tardes          1019\n",
              "nosotros        1017\n",
              "otra            966 \n",
              "okay            953 \n",
              "mismo           946 \n",
              "pronto          936 \n",
              "electronico     932 \n",
              "dtype: int64"
            ]
          },
          "metadata": {
            "tags": []
          },
          "execution_count": 44
        }
      ]
    },
    {
      "cell_type": "code",
      "metadata": {
        "id": "NtzkRhRCOM7d"
      },
      "source": [
        "stop_words_user=['personal','personal','pasame','pasa','paso','pasar','entiendo','entenderme','entiendame','entender','entiende','esperame','espereme','esperar','bendecir','publishing','bendiga','senoritas','resulta','quiere','hablas','linea','recien','dieron','cosa','veintitres','igual','igualmente','mejor','puedes','atencion','dijeron','tipo','dijo','digamos','queria','dicen','acuerdo','correcto','decir','nueve','numero','despues','tarde','quiero','nueve','ciento','parte','arroba','algo','estas','punta','esas','sera','quedo','exacto','haya','segun','toca','cerca','dado','casi','toda','directamente','pena','ello','esos','cualquier','ellas','debo','eres','misma','realmente','perfecto','primero','segundo','tercera','primera','dios','quisiera','sino','buena','puntos','unas','todavia','agradezco','seria','veces','tras','alguna','alguien','tanto','vale', 'cierto','digo','hola','cuanto','gran', 'luego','estamos','muchisimas','parece', 'antes','otros', 'otro', 'pasa', 'quiero','parte','mira','ciento','ellos','amable','cual','algo','habla','puedo','ecopetrol','dias','tardes','nombre','senorita','mismo','todos','claro','estoy','listo','porque','tengo','cero','perdon','ella', 'el','todo','listo','nada','ok','okay','pues','pero','tiene','hace','entonces','senor','senora','senoras','senoras','seno','punto','muchas','gracias', 'tambien','puede', 'ahora','buenas','buen','cuenta','ustedes','usted','momento']"
      ],
      "execution_count": 45,
      "outputs": []
    },
    {
      "cell_type": "code",
      "metadata": {
        "id": "1_LrGLy9Ykyk"
      },
      "source": [
        "stop_words_weird= ['aachoury', 'aadaoui', 'aaddam', 'aafia', 'aakel', 'aallali', 'aaly', 'aamery', 'aamrani', 'aamri', 'aaraj', 'aaroussi', 'aasri', 'abadal', 'abbad', 'abbady', 'abbasy', 'abbou', 'abdelkrim', 'abdellah', 'abderhim', 'abderrahim', 'abderrahman', 'abdeslam', 'abdlaoui', 'abdli', 'abellan', 'abetxuko', 'abia', 'abouti', 'abouyi', 'abyad', 'achab', 'achaouchi', 'achiri', 'achouchi', 'achoui', 'achouri', 'acitores', 'adad', 'adak', 'adalid', 'adana', 'addad', 'addou', 'adeva', 'adnani', 'adouti', 'adraoui', 'afan', 'afi', 'agesta', 'aggari', 'aggoubi', 'aghzaoui', 'agote', 'agredos', 'aguera', 'aguillo', 'agullo', 'agustino', 'ahrach', 'aira', 'aisati', 'aissaouy', 'ait', 'aitour', 'aizpurua', 'ajjani', 'ajjouri', 'ajofrin', 'akal', 'akker', 'akrout', 'alaiz', 'alaminos', 'alamy', 'albeniz', 'alberca', 'albertos', 'alboran', 'alcañiz', 'alcorocho', 'aldagalan', 'aleixandre', 'aleson', 'algaba', 'alilou', 'alisal', 'allaly', 'allaoui', 'allid', 'allimes', 'allouch', 'allouti', 'almenta', 'almuzara', 'alorda', 'alouani', 'alzorriz', 'ambrona', 'amerany', 'amezua', 'amilibia', 'ammaoui', 'ammary', 'amoraga', 'amorena', 'amoum', 'amraouy', 'amraqui', 'amrati', 'amriti', 'amry', 'anabi', 'anbari', 'anbi', 'andaloussi', 'andoain', 'angeler', 'angoud', 'angoudi', 'anguera', 'anjou', 'ankoud', 'anleo', 'anssari', 'antari', 'antonaya', 'antoñana', 'anucita', 'anzouki', 'aoud', 'aoudati', 'aoula', 'aoulad', 'aoumrani', 'aouny', 'apellaniz', 'apio', 'apraiz', 'araby', 'aracil', 'arafi', 'araibi', 'aranguiz', 'aranzueque', 'arbiti', 'arbol', 'arboleya', 'archidona', 'ardanza', 'ardieta', 'ardle', 'areal', 'areba', 'arechaga', 'arechavaleta', 'arechuluaga', 'arenaza', 'arenzana', 'arevalillo', 'arfaouy', 'argabi', 'argandoña', 'argente', 'argibay', 'argimiro', 'argoubi', 'argueso', 'arguioui', 'arisco', 'aristegui', 'arizaleta', 'ariño', 'arkoubi', 'armiñan', 'arnabi', 'arnilla', 'arnouk', 'aroui', 'arouy', 'arpe', 'arquer', 'arquimbau', 'arrag', 'arrak', 'arrese', 'arriscado', 'arroiabe', 'arroubi', 'arroudi', 'arroussi', 'artacho', 'artajo', 'artaza', 'artazcoz', 'artiñano', 'aryani', 'asanza', 'ascasua', 'asco', 'asery', 'asiain', 'asli', 'asmi', 'asnabi', 'aspe', 'assari', 'assas', 'assbahi', 'assin', 'assioui', 'assiri', 'astilleros', 'astorza', 'astray', 'asua', 'atalaya', 'atance', 'athmani', 'atmioui', 'atrach', 'atrache', 'attak', 'audikana', 'auria', 'avanzo', 'ayachi', 'ayane', 'ayat', 'ayatte', 'aydouni', 'aymerich', 'ayreflor', 'ayucar', 'ayyachi', 'azaar', 'azagra', 'azaña', 'azcoitia', 'azcutia', 'azelain', 'azero', 'azi', 'aziri', 'azmani', 'azpiazu', 'azpillaga', 'azri', 'azzabi', 'azzaouy', 'azzouti', 'azzouzy', 'badaoui', 'badaouy', 'badnaoui', 'badraoui', 'bagdadi', 'baghar', 'baghati', 'baghazaoui', 'bahaoui', 'bahjaoui', 'bahloul', 'bahtsou', 'bahy', 'baidaoui', 'bailliere', 'bajaoui', 'bakali', 'bakaoui', 'bakhouti', 'bakkach', 'bakkali', 'bakkaoui', 'bakkouri', 'bakrioui', 'balcells', 'balgou', 'balugera', 'bannaoui', 'banyahyati', 'baouti', 'baqqaly', 'baraghraghi', 'bardai', 'bardouni', 'barhmi', 'barja', 'barjiji', 'barkani', 'barnaoui', 'barnola', 'barnuevo', 'baroja', 'baroudy', 'barrajon', 'barrak', 'barrani', 'bassou', 'batallon', 'batioui', 'batllori', 'batoul', 'battioui', 'baumberghen', 'bayad', 'bayed', 'bayonas', 'bayuela', 'baños', 'becerro', 'bechchari', 'bedmar', 'bekkali', 'bekkaoui', 'bekraoui', 'belarbi', 'beldad', 'belenguer', 'belghiti', 'bellacasa', 'benegassi', 'benhiti', 'berghe', 'bergnes', 'bergui', 'berkani', 'bernalt', 'bes', 'bethencourt', 'betioui', 'betolaza', 'beyed', 'bezzi', 'biari', 'biedma', 'bisan', 'bleda', 'boazzati', 'boente', 'bofarull', 'boghdadi', 'bohdidi', 'bojaddaini', 'bonrostro', 'bonsoms', 'bordons', 'borji', 'borregon', 'borreguero', 'borso', 'boti', 'bouabdelli', 'bouabi', 'bouadili', 'bouanani', 'bouazati', 'bouazza', 'bouazzaouy', 'bouchaibi', 'bouchikhi', 'boudakhani', 'boughdadi', 'bouhamdi', 'bouhassani', 'bouhati', 'bouhli', 'bouhssini', 'bouinany', 'boujaddaini', 'boujarfaoui', 'boujdaini', 'bouji', 'boukaddidi', 'boukadidi', 'boukhary', 'boukrioui', 'boukyly', 'bouri', 'bourimi', 'bourmaki', 'bousairi', 'bousaksaki', 'bouslami', 'boussaidi', 'boussettaoui', 'boussikhani', 'boustati', 'boutahiri', 'boutrouki', 'bouzdoudi', 'bouzekraoui', 'bouzrati', 'brak', 'brazales', 'braña', 'bremond', 'bretaño', 'brioles', 'briñas', 'brocal', 'broeck', 'brouzi', 'brugada', 'bruijn', 'bucesta', 'buenaposada', 'buiza', 'burach', 'burguillos', 'buruaga', 'bustelo', 'bustio', 'byad', 'caballos', 'cabarcos', 'cabañas', 'cabezon', 'cachalvite', 'cadiñanos', 'calabres', 'calcerrada', 'calera', 'caleya', 'camacha', 'campins', 'campinun', 'camuñas', 'candi', 'caniego', 'cantalejo', 'canteli', 'canti', 'capalleja', 'caralt', 'carasa', 'carcer', 'carellan', 'carnerero', 'carnicero', 'carpinte', 'carrascosa', 'carreres', 'carriazo', 'cartavio', 'casacuberta', 'casadevante', 'cascado', 'cascon', 'casquet', 'castañon', 'castellarnau', 'castellvi', 'castizo', 'castroverde', 'cañavate', 'cañedo', 'cañero', 'cañete', 'cañizo', 'cdeb', 'cdem', 'ceca', 'cedron', 'celemin', 'cendra', 'cenzano', 'cesero', 'ceso', 'cesto', 'chaib', 'chaibi', 'chairi', 'chakir', 'chaouy', 'charkaouy', 'charki', 'charqaoui', 'charqaouy', 'chicheri', 'chicote', 'chocano', 'ciaño', 'cigoña', 'ciordia', 'ciria', 'ciriano', 'ciriza', 'cita', 'ciurana', 'clairac', 'clercq', 'clotet', 'codes', 'codo', 'cogolludo', 'coig', 'cojo', 'colosia', 'colsa', 'colubi', 'com', 'comalrena', 'comasema', 'comendador', 'cominges', 'comino', 'contador', 'contrasta', 'corbalan', 'corriendo', 'corroto', 'corta', 'cosa', 'cosso', 'cotan', 'cotarelo', 'courtoy', 'coviella', 'covisa', 'crehuet', 'crohon', 'cuarentay', 'cubells', 'cubillana', 'cubo', 'cuerva', 'cuervas', 'cuetara', 'cuns', 'daalen', 'daghmoumi', 'dago', 'dahbi', 'dalmases', 'dardet', 'davalillo', 'dedicacion', 'delas', 'diaye', 'diezma', 'dogherty', 'dolz', 'doncel', 'donesteve', 'dongen', 'donlebun', 'driss', 'duijn', 'dujat', 'durana', 'echague', 'echaguen', 'echanove', 'echarri', 'echavarri', 'echazarreta', 'echebarria', 'echezarreta', 'edrisi', 'eficacia', 'egaña', 'eguilaz', 'eguileor', 'eguinoa', 'eijk', 'eiris', 'elcoro', 'elez', 'elipe', 'embun', 'emparanza', 'enfed', 'engeños', 'entresotos', 'erausquin', 'erentxun', 'ereño', 'eribe', 'erive', 'escariche', 'escauriaza', 'escobero', 'escolar', 'escriva', 'espartero', 'espiauba', 'espirito', 'espona', 'espresati', 'espriella', 'estañ', 'estebanez', 'estecha', 'estil', 'estivariz', 'et', 'etxebarria', 'etxeberria', 'eufrasio', 'eyk', 'eynde', 'ez', 'ezquerecocha', 'ezquerra', 'fabres', 'fachtali', 'faddali', 'fadli', 'fadon', 'faghloumi', 'fahil', 'fahoul', 'fahsi', 'fakousi', 'fakrouni', 'falaki', 'falces', 'fallaki', 'fando', 'faouzi', 'faraa', 'fargani', 'fari', 'faribi', 'farji', 'farma', 'farri', 'farrich', 'farsaoui', 'farssani', 'farssioui', 'fartassi', 'fas', 'fasi', 'fatehy', 'fatimy', 'fayda', 'fayos', 'fazazi', 'fazazy', 'febrer', 'fedg', 'fekri', 'felgueroso', 'fellah', 'ferchem', 'ferrater', 'fertrell', 'fettahi', 'fezazi', 'fezzazi', 'fhoul', 'filia', 'fizazi', 'folla', 'fontcuberta', 'forcallo', 'fornells', 'foual', 'fresca', 'fresno', 'friera', 'fueyo', 'gahs', 'gaitero', 'galai', 'galana', 'galbis', 'galdon', 'galisteo', 'gallaf', 'gango', 'gannay', 'ganso', 'gaoudi', 'garayalde', 'garayo', 'gardoqui', 'garnaoui', 'garouani', 'garrab', 'gattaoui', 'gaztelu', 'gdari', 'gerons', 'gesto', 'getino', 'geus', 'ghachi', 'ghajouan', 'ghalid', 'ghanemy', 'ghannami', 'ghannay', 'ghaouat', 'ghaouti', 'gharabi', 'gharbaouy', 'ghardini', 'gharras', 'gharroubi', 'ghazlani', 'ghazouany', 'ghazy', 'gheryb', 'ghezouani', 'ghorri', 'ghouch', 'ghoudani', 'ghoujdami', 'ghoul', 'ghoulbzouri', 'ghoulimi', 'ghoury', 'ghrari', 'ghrissat', 'giralda', 'giribert', 'gironella', 'girones', 'godos', 'gogeascoa', 'goikoetxea', 'goma', 'gomri', 'gonzalvez', 'gopegui', 'gorch', 'gordoa', 'gorgi', 'gorji', 'gortazar', 'gouad', 'gourch', 'gourche', 'gourfti', 'gouy', 'goyena', 'goyoaga', 'goñi', 'gracas', 'grandes', 'granero', 'grath', 'greef', 'greñu', 'griny', 'gromaz', 'gtibi', 'guadi', 'guayo', 'guebli', 'guechati', 'guedeja', 'guemes', 'guenaoui', 'guenouni', 'gueryny', 'guijo', 'guillamon', 'guindos', 'guinoa', 'guzma', 'hab', 'habsati', 'habz', 'hachemi', 'hachioui', 'hachmi', 'haddari', 'haddi', 'haddou', 'haddouch', 'haddoumi', 'hadrati', 'hadry', 'hafian', 'hafid', 'hafidi', 'hafidy', 'hafydy', 'hahaoui', 'haidadi', 'haidouri', 'haiek', 'hailoufi', 'haimar', 'hairach', 'hairech', 'haitout', 'hajami', 'hajioui', 'hajjy', 'hajui', 'hakaoui', 'hakimy', 'hakioui', 'hakmi', 'hakour', 'halfi', 'halouani', 'hamdaoui', 'hamdaouy', 'hamioui', 'hammadi', 'hammam', 'hammani', 'hammari', 'hammou', 'hammouch', 'hammoudi', 'hammoumy', 'hammouri', 'hammouti', 'hamry', 'hamyani', 'handaoui', 'handaz', 'haniti', 'hankari', 'hannoudi', 'hannouti', 'hantari', 'hantlaoui', 'haou', 'haouass', 'haouhay', 'haoulani', 'haouti', 'haouzy', 'haraoui', 'harche', 'harda', 'hardouz', 'harfi', 'harguindey', 'harib', 'harkaoui', 'harmouchi', 'harouchi', 'harouni', 'harrach', 'harradi', 'harraj', 'harrak', 'harrami', 'harraq', 'harrouyi', 'harsi', 'haskouri', 'hasnaouy', 'hassadi', 'hassany', 'hassouny', 'hataf', 'hatifi', 'hatmi', 'hattach', 'haupold', 'hayadi', 'hayyani', 'hazas', 'hbil', 'heijden', 'hellaoui', 'hemdi', 'henarejos', 'henestrosa', 'henestroza', 'heranz', 'heredero', 'heros', 'herrasti', 'hessaini', 'hiani', 'hibari', 'hidalga', 'higes', 'higueras', 'hilaly', 'hilly', 'hirch', 'hirchi', 'hitani', 'hiz', 'hmoudi', 'hniti', 'hoces', 'hoeven', 'hombre', 'homrani', 'hontoria', 'horenbeke', 'horfi', 'hornero', 'hortega', 'houary', 'houat', 'houchni', 'houcine', 'houdaifi', 'houfi', 'houhai', 'houjjaji', 'houl', 'hounaini', 'housaini', 'housni', 'houti', 'hssain', 'huebra', 'huertos', 'huz', 'ibar', 'ibarreta', 'ibor', 'icaya', 'idrysy', 'igor', 'ilarduya', 'ilurdoz', 'ilzarbe', 'imaña', 'imrany', 'inani', 'infiesta','inglott','ingunza', 'iniesta', 'intyre', 'inza', 'ipiña', 'irala', 'irizar', 'irujo', 'irun', 'isafi', 'isasa', 'isasmendi', 'isati', 'isidra', 'issati', 'isusi', 'iturrate', 'iturri', 'iysaouy', 'izar', 'iñigo', 'iñiguez', 'jaafari', 'jabbouri', 'jabiry', 'jabouri', 'jadaoui', 'jaddaoui', 'jadydy', 'jafoufi', 'jaghaoui', 'jaghnouni', 'jalmar', 'jalon', 'jamai', 'jamghili', 'jantafi', 'jaouhary', 'jaouzi', 'jarabo', 'jareño', 'jarroudi', 'jaureguizar', 'javato', 'jayidi', 'jaziri', 'jebari', 'jeld', 'jerari', 'jillali', 'jocano', 'jonge', 'jongh', 'jordana', 'jouhari', 'jovellar', 'joz', 'juanas', 'juez', 'junguitu', 'jussa', 'kabbachi', 'kachachi', 'kachari', 'kaddaoui', 'kaddour', 'kaderi', 'kahi', 'kahtaoui', 'kaich', 'kaidi', 'kaissoumi', 'kajjoui', 'kajoui', 'kallachi', 'kallali', 'kamboui', 'kamili', 'kammas', 'kammass', 'kammouni', 'kanfaoui', 'kanfoud', 'kanzaoui', 'kaouakibi', 'kaoui', 'kaouini', 'kaoutari', 'kaoutit', 'karbas', 'karboubi', 'karchaoui', 'karchouhi', 'karfi', 'karfouh', 'karouni', 'karraoui', 'karrat', 'karrichi', 'karroumi', 'karta', 'karzazi', 'kasmi', 'kasmy', 'kassah', 'kati', 'kattat', 'kaychouhi', 'kayouri', 'kbir', 'kchakchi', 'keneksi', 'khabat', 'khabbazi', 'khadim', 'khadraoui', 'khalfaouy', 'khalfi', 'khalfioui', 'khallaoui', 'khalloufi', 'khalqi', 'khammar', 'khamraoui', 'khamri', 'khanfouri', 'khanfri', 'khaoudi', 'kharbouchi', 'kharrim', 'khassal', 'khatab', 'khatif', 'khattabi', 'khchin', 'khdim', 'khedar', 'khiari', 'khihal', 'khlifi', 'khmissi', 'khobzi', 'khomci', 'khomri', 'khomssi', 'khoukh', 'khoulfi', 'khoumssi', 'khouya', 'kihal', 'kili', 'klahi', 'klai', 'klaloussi', 'komiry', 'korrichi', 'kotbi', 'kouaa', 'kouazi', 'kouche', 'koudri', 'koumir', 'kourachi', 'kourai', 'kourchi', 'kourtbi', 'koussi', 'krichi', 'laan', 'laarbi', 'lacalle', 'lachhab', 'ladron', 'laguno', 'lahmar', 'lahyani', 'laiglesia', 'lamamie', 'lamarti', 'lamine', 'lamuño', 'lancha', 'lanchares', 'landaburu', 'langarika', 'lanzac', 'lanzagorta', 'lapeña', 'larena', 'larra', 'larraya', 'larraz', 'larrinzar', 'lasarte', 'lasheras', 'latasa', 'laulhe', 'leceta', 'lechon', 'legarra', 'legaz', 'lejarza', 'lemine', 'lerdo', 'lersundi', 'letosa', 'lezana', 'lhaj', 'lhou', 'liaño', 'libano', 'liebana', 'liencres', 'lieshout', 'ligero', 'limia', 'linador', 'liron', 'lizaur', 'liñan', 'llago', 'llamazares', 'llaura', 'llebrera', 'llebrez', 'llobet', 'lloch', 'llosada', 'llosera', 'loaisa', 'loeches', 'loizaga', 'lomeña', 'looy', 'lopidana', 'loresecha', 'loriente', 'lorite', 'lossada', 'louah', 'loukilia', 'lozao', 'loño', 'lucendo', 'luelmo', 'luengos', 'lueta', 'lugarnuevo', 'lul', 'luxan', 'maachy', 'maadioui', 'maazi', 'maazizi', 'mabrouki', 'machati', 'machhouri', 'machmachi', 'machoudi', 'macorra', 'madaghri', 'madany', 'maddahi', 'maddioui', 'madhoun', 'madina', 'madinabeitia', 'madmadi', 'madroño', 'mafdoul', 'maftouhi', 'maghraoui', 'maghroudi', 'mahboub', 'mahdali', 'mahfoudy', 'mahjoubi', 'mahsani', 'majagranzas', 'majati', 'majdoul', 'majrissi', 'makadmi', 'makaoui', 'makioui', 'makkaoui', 'makrini', 'malehy', 'malibran', 'mallaly', 'mallem', 'mallouli', 'mamoune', 'mamouny', 'manaoui', 'mancheño', 'mandojana', 'manglano', 'manichi', 'manjaron', 'manjoya', 'mankouri', 'mannachi', 'mansoury', 'mantero', 'maquieira', 'marabti', 'marañon', 'marcilla', 'marcote', 'margallo', 'mariami', 'mariblanca', 'maribona', 'mariñas', 'marjani', 'markhi', 'maroufy', 'marraki', 'marrouni', 'marsni', 'martioda', 'marzouki', 'masana', 'masbahi', 'masnaoui', 'masoudy', 'massaoud', 'matarredona', 'matauco', 'matres', 'mauriño', 'mazarambroz', 'mazini', 'mazmouzi', 'mazouni', 'mazouzi', 'mbark', 'mchiout', 'medio', 'medlej', 'meftah', 'mehdaoui', 'mehedi', 'mejdki', 'mekharchef', 'mekkaoui', 'mellouki', 'mendarozqueta', 'mendibil', 'mendiguren', 'mendiluce', 'mendiolaza', 'merouani', 'merrouni', 'merzouki', 'mesas', 'mesbahy', 'meslouhi', 'mesonero', 'messaoudi', 'metmary', 'metni', 'mettaoui', 'meulen', 'mezouak', 'mezquia', 'mezraoui', 'mgharbi', 'mhamdi', 'mhassani', 'miftah', 'miguelsanz', 'milara', 'mimoun', 'minayo', 'miquel', 'miquelez', 'mizeb', 'miñon', 'mkaddem', 'mkhitar', 'moatassim', 'moha', 'mojahidi', 'mokaddam', 'mokaddemi', 'mokadmi', 'mokhtary', 'moktatifi', 'moldes', 'monasterioguren', 'monco', 'moneda', 'moneo', 'monja', 'montagut', 'montaut', 'montañes', 'monteserin', 'monteys', 'montiano', 'moqaddam', 'morabti', 'moragas', 'morakib', 'morate', 'moraño', 'morote', 'mortada', 'mortaji', 'mosati', 'mossaoui', 'mossati', 'motos', 'mouadden', 'mouaden', 'mouak', 'mouatassim', 'mouftakir', 'mougha', 'mouhajir', 'mouhib', 'mouini', 'moujahid', 'moujoud', 'moukaddem', 'moukadem', 'moukhloufi', 'moula', 'moulat', 'moumen', 'mourabet', 'mourabiti', 'mousaouy', 'moussaouy', 'moussaqui', 'moutaouakil', 'moutouk', 'mouyssy', 'movellan', 'mozas', 'mozos', 'mrabit', 'msellem', 'msiah', 'mullony', 'munain', 'muniain', 'munio', 'muntadas', 'munte', 'murieta', 'musaui', 'musitu', 'muñana', 'muñiz', 'mzahem', 'nacimiento', 'naciri', 'naharro', 'nahet', 'nalda', 'nanclares', 'naouy', 'nasarre', 'nasiry', 'navamuel', 'navascues', 'navasques', 'nazeh', 'nbsp', 'nieta', 'niñirola', 'noguerol', 'nouali', 'nozal', 'nuño', 'ocariz', 'ocaña', 'ocenda', 'odriozola', 'ogarrio', 'ogbani', 'oikili', 'oirdi', 'oirzadi', 'ojel', 'ojer', 'ojicos', 'ojos', 'olabarria', 'olaguer', 'olalla', 'olañeta', 'olcoz', 'olias', 'olleros', 'olza', 'onsoño', 'onsri', 'onzoño', 'oorschot', 'opazo', 'opo', 'orch', 'orduña', 'orgaz', 'ormaechea', 'ormijana', 'orovio', 'orruño', 'orte', 'orueta', 'oruña', 'osrouti', 'ossorno', 'ostiz', 'otazo', 'oteo', 'othemany', 'other', 'otmany', 'otxoa', 'ouaaliti', 'ouaamari', 'ouaaziki', 'ouaaziky', 'ouaazizi', 'ouad', 'ouadghiri', 'ouadni', 'ouahal', 'ouahbi', 'ouahdani', 'ouahhabi', 'ouahhaby', 'ouahi', 'ouahrani', 'ouaissa', 'ouajdi', 'ouald', 'ouali', 'oualidi', 'oualiti', 'oualkadi', 'ouamari', 'ouansaidi', 'ouardighi', 'ouardy', 'ouarghi', 'ouarit', 'ouaryachi', 'ouasdi', 'ouassdi', 'ouassidi', 'ouastani', 'ouat', 'ouatani', 'ouati', 'oubiña', 'oueld', 'oufairi', 'oufir', 'ouhabi', 'ouizi', 'oujdi', 'oulad', 'ould', 'ouriachi', 'ourzadi', 'outon', 'ovies', 'oña', 'oñate', 'palanco', 'pallete', 'palou', 'pampin', 'panadero', 'parayuelo', 'parias', 'pariza', 'partearroyo', 'pastors', 'pauw', 'pecellin', 'peces', 'peciña', 'pedrera', 'pedreño', 'penalva', 'penche', 'peque', 'perosanz', 'perreau', 'perrote', 'pescuezo', 'pey', 'pezuela', 'peñalver', 'piaya', 'pidal', 'pierola', 'pinninck', 'pipaon', 'piñal', 'piñar', 'piñeiro', 'piñera', 'piñero', 'planell', 'platard', 'pobes', 'pobil', 'polavieja', 'ponga', 'porrero', 'portabella', 'portanet', 'potro', 'pouplana', 'poyo', 'poza', 'pozuelo', 'pra', 'pradas', 'preciados', 'prestamo', 'pueblas', 'puelles', 'pumarino', 'pumariño', 'pumpido', 'purificacao', 'qabiti', 'qabti', 'qaddouri', 'qaddoury', 'qadi', 'qadiri', 'qarfaoui', 'qasemy', 'qasmy', 'qessouar', 'quadra', 'quadras', 'quejo', 'quenin', 'quer', 'quincoces', 'rabehy', 'rabet', 'rachdi', 'rahhali', 'rahmouni', 'rahou', 'raidi', 'ramade', 'ranera', 'rasilla', 'ratby', 'rato', 'rañada', 'rebato', 'reboleño', 'recuero', 'redrojo', 'regatillo', 'regil', 'regueral', 'reija', 'rellan', 'renau', 'rendueles', 'repiso', 'resayre', 'reseco', 'retiro', 'retortillo', 'revenga', 'revillas', 'reyahi', 'rhali', 'rhozlane', 'riancho', 'ribes', 'ridruejo', 'riet', 'rijn', 'rimada', 'rioboo', 'risueño', 'rituerto', 'rivavelarde', 'roales', 'rocafiguera', 'rodeja', 'rodilla', 'rodrigañez', 'roitegui', 'roj', 'romarategui', 'romate', 'romeral', 'rooij', 'rothvoss', 'roves', 'royuela', 'rufete', 'ruiberriz', 'ruste', 'ruy', 'saac', 'sabarte', 'sabbar', 'sacedon', 'saddik', 'safont', 'sagarra', 'sagaseta', 'sagra', 'sahely', 'sahraouy', 'saiydy', 'salamero', 'salmones', 'salort', 'sanctis', 'sanmamed', 'sannouni', 'santaquiteria', 'santisima', 'santivañes', 'santullano', 'sapiña', 'sarralde', 'sarrionandia', 'sauch', 'saz', 'sbai', 'sbih', 'scals', 'schaik', 'sebaiy', 'seddik', 'sedeño', 'seghyr', 'sellam', 'senillosa', 'sentmenat', 'serdio', 'serghin', 'serrana', 'serranillos', 'serranos', 'shaim', 'sidrach', 'sidro', 'sidron', 'sigmaringa', 'silgado', 'simal', 'sivatte', 'siñeriz', 'slaiman', 'smedt', 'solaguren', 'soldado', 'sonseca', 'soraluce', 'soriguer', 'sors', 'sotilla', 'sotoca', 'sousy', 'suelto', 'suso', 'suñer', 'tabernero', 'tabla', 'tahar', 'tahery', 'tajada', 'tajuelo', 'talby', 'taleby', 'tamghart', 'tanago', 'tangil', 'taouil', 'tapetado', 'tapiador', 'tapial', 'tarazaga', 'tarruella', 'taviel', 'tayea', 'teba', 'tebar', 'tejo', 'tembleco', 'temiño', 'tera', 'tereso', 'ternero', 'terradas', 'thorices', 'tiedra', 'tofiño', 'tolra', 'torcuato', 'tord', 'toresano', 'torqui', 'torron', 'toubes', 'touhami', 'traba', 'trapa', 'trapaga', 'travanco', 'travesedo', 'treceño', 'trechuelo', 'tresguerres', 'trespuentes', 'trevijano', 'treviño', 'trincheria', 'triunfo', 'tros', 'tudanca', 'tupac', 'tuñon', 'ubierna', 'ud', 'udaeta', 'ugena', 'uguet', 'ullate', 'ullibarri', 'unamuno', 'unceta', 'urabayen', 'ureña', 'urria', 'urruti', 'urtaran', 'urzaiz', 'ussel', 'ussia', 'vacas', 'vailo', 'valdepeñas', 'valgas', 'valiño', 'valldaura', 'vallejuelo', 'vallinas', 'valmaseda', 'vals', 'vanderwilde', 'vando', 'vao', 'vaquerizo', 'vaso', 'vayas', 'veciana', 'vecillas', 'vegue', 'velaz', 'velden', 'verbo', 'vidaurreta', 'vidriero', 'viergol', 'viguera', 'viguri', 'vilallonga', 'villacastin', 'villacañas', 'villacian', 'villajos', 'villanuev', 'villarejo', 'villarjubin', 'villaseñor', 'villavicenci', 'villodres', 'villoslada', 'vinent', 'vinuesa', 'viota', 'vivancos', 'viña', 'viñals', 'viñaspre', 'vugt', 'wahbi', 'walre', 'wijk', 'woude', 'xaxars', 'xaxas', 'yaacoubi', 'yabouri', 'yachioui', 'yachouti', 'yadini', 'yadri', 'yaghmouri', 'yakhlifi', 'yakouti', 'yamna', 'yandouzi', 'yaouti', 'yarritu', 'yattouti', 'yaziji', 'yazizi', 'yaznasni', 'ydir', 'yebenes', 'yedir', 'yedra', 'yedri', 'yel', 'yelmo', 'yemlahy', 'yerro', 'yesfi', 'yglesia', 'ylla', 'ynestrillas', 'youby', 'younossi', 'yousoufi', 'youssofi', 'youzghi', 'yuso', 'zabalegui', 'zabarte', 'zahraoui', 'zahraouy', 'zahria', 'zaitigui', 'zaporta', 'zarauz', 'zerio', 'ziani', 'zorita', 'zuazola', 'zuazu', 'zubiria', 'zugasti', 'zunzunegui', 'zurdo'] "
      ],
      "execution_count": 46,
      "outputs": []
    },
    {
      "cell_type": "code",
      "metadata": {
        "id": "NGWrp_wPZIPM"
      },
      "source": [
        "lista_stop_words=lista_stop_words+stop_words_user+stop_words_weird"
      ],
      "execution_count": 47,
      "outputs": []
    },
    {
      "cell_type": "markdown",
      "metadata": {
        "id": "EVI9dfLjsreM"
      },
      "source": [
        "Procedemos a la eliminación de estas stop-words propias del negocio que no aportan valor.\n",
        "\n",
        "\n",
        "*   Primero tokenizamos\n",
        "*   Luego quitamos las stop-words\n",
        "\n"
      ]
    },
    {
      "cell_type": "code",
      "metadata": {
        "id": "7KKvFx93q3xE",
        "colab": {
          "base_uri": "https://localhost:8080/"
        },
        "outputId": "42d5cc6c-e2e3-4fc6-b6ac-647d805fc7ba"
      },
      "source": [
        "%%time\n",
        "df_user['transcripcion']=df_user['transcripcion'].apply(lambda x: word_tokenize(x) )"
      ],
      "execution_count": 48,
      "outputs": [
        {
          "output_type": "stream",
          "text": [
            "CPU times: user 3.23 s, sys: 0 ns, total: 3.23 s\n",
            "Wall time: 3.24 s\n"
          ],
          "name": "stdout"
        }
      ]
    },
    {
      "cell_type": "code",
      "metadata": {
        "id": "zJSQtRnJ3rAG",
        "colab": {
          "base_uri": "https://localhost:8080/"
        },
        "outputId": "6e5fbcf8-9b16-44e9-d640-f96a9c598521"
      },
      "source": [
        "%%time\n",
        "df_user['transcripcion']=df_user['transcripcion'].apply(lambda x: [word for word in x if not word in lista_stop_words] )"
      ],
      "execution_count": 49,
      "outputs": [
        {
          "output_type": "stream",
          "text": [
            "CPU times: user 31min 39s, sys: 681 ms, total: 31min 40s\n",
            "Wall time: 31min 44s\n"
          ],
          "name": "stdout"
        }
      ]
    },
    {
      "cell_type": "code",
      "metadata": {
        "id": "hBb6jHDHKyFz",
        "colab": {
          "base_uri": "https://localhost:8080/",
          "height": 1000
        },
        "outputId": "106ee943-4adf-45b6-8027-151c951c190a"
      },
      "source": [
        "df_user"
      ],
      "execution_count": 50,
      "outputs": [
        {
          "output_type": "execute_result",
          "data": {
            "text/html": [
              "<div>\n",
              "<style scoped>\n",
              "    .dataframe tbody tr th:only-of-type {\n",
              "        vertical-align: middle;\n",
              "    }\n",
              "\n",
              "    .dataframe tbody tr th {\n",
              "        vertical-align: top;\n",
              "    }\n",
              "\n",
              "    .dataframe thead th {\n",
              "        text-align: right;\n",
              "    }\n",
              "</style>\n",
              "<table border=\"1\" class=\"dataframe\">\n",
              "  <thead>\n",
              "    <tr style=\"text-align: right;\">\n",
              "      <th></th>\n",
              "      <th>name_file</th>\n",
              "      <th>transcripcion</th>\n",
              "      <th>speech_ratio</th>\n",
              "      <th>confidance</th>\n",
              "      <th>owner</th>\n",
              "      <th>Mes</th>\n",
              "      <th>GUID_ORIGINAL</th>\n",
              "      <th>CC</th>\n",
              "      <th>DNIS</th>\n",
              "      <th>ANI</th>\n",
              "      <th>Start Date IXN Res</th>\n",
              "      <th>End Date IXN Res</th>\n",
              "      <th>IXN ID</th>\n",
              "      <th>Tenant Name</th>\n",
              "      <th>INTERACTION_TYPE</th>\n",
              "      <th>PLACE_NAME</th>\n",
              "      <th>Last VQ</th>\n",
              "      <th>Agent</th>\n",
              "      <th>Customer Talk Duration</th>\n",
              "      <th>Engage Duration</th>\n",
              "      <th>Linea</th>\n",
              "      <th>Start_Date_hour</th>\n",
              "    </tr>\n",
              "  </thead>\n",
              "  <tbody>\n",
              "    <tr>\n",
              "      <th>0</th>\n",
              "      <td>ULBQJ13L2545H7O07M2GVQ24680024AS_2020-09-09_17-33-54_</td>\n",
              "      <td>[intrusion, logran, proveedor, relaciono, estilos, poderle, direcciona, permitame, validen, dependientes, proceso, encuentra, comunicada, personas, consultar]</td>\n",
              "      <td>0.754</td>\n",
              "      <td>0.5775</td>\n",
              "      <td>agente</td>\n",
              "      <td>Septiembre</td>\n",
              "      <td>ULBQJ13L2545H7O07M2GVQ24680024AS</td>\n",
              "      <td>1.055227e+09</td>\n",
              "      <td>28400.0</td>\n",
              "      <td>033223967169</td>\n",
              "      <td>20200909 12:33:54</td>\n",
              "      <td>20200909 12:34:59</td>\n",
              "      <td>160395807.0</td>\n",
              "      <td>Ecopetrol</td>\n",
              "      <td>Inbound</td>\n",
              "      <td>Ecopetrol_52094</td>\n",
              "      <td>VQ_Ecopetrol_INB_Para_Personal</td>\n",
              "      <td>, C Persn William Guillermo Ferrucho Ferrucho (wilferfe) - 1055227053</td>\n",
              "      <td>61.0</td>\n",
              "      <td>0.0</td>\n",
              "      <td>Personal</td>\n",
              "      <td>2020-09-09_17-33-54</td>\n",
              "    </tr>\n",
              "    <tr>\n",
              "      <th>1</th>\n",
              "      <td>ULBQJ13L2545H7O07M2GVQ2468001LK2_2020-09-03_14-19-53_</td>\n",
              "      <td>[compartidos, hablan, vengas, hablar, oficina, envia, oficina, virtual, senores, escanea, escaneando, documentos, firmas, proxeneta, imprime, documentos, firma, envia, ensenanzas, indicado, proceso, lleguen, realizar, aperturas, perderan, comunicacion, compartidos, llamada, relacionada]</td>\n",
              "      <td>0.924</td>\n",
              "      <td>0.7100</td>\n",
              "      <td>agente</td>\n",
              "      <td>Septiembre</td>\n",
              "      <td>ULBQJ13L2545H7O07M2GVQ2468001LK2</td>\n",
              "      <td>5.305068e+07</td>\n",
              "      <td>28400.0</td>\n",
              "      <td>007756064</td>\n",
              "      <td>20200903 09:19:53</td>\n",
              "      <td>20200903 09:21:28</td>\n",
              "      <td>158426841.0</td>\n",
              "      <td>Ecopetrol</td>\n",
              "      <td>Inbound</td>\n",
              "      <td>Ecopetrol_52135</td>\n",
              "      <td>VQ_Ecopetrol_INB_Serv_Personal</td>\n",
              "      <td>, C Persn Angie Paola Luengas Tunjano (angluetu) - 53050685</td>\n",
              "      <td>95.0</td>\n",
              "      <td>0.0</td>\n",
              "      <td>Personal</td>\n",
              "      <td>2020-09-03_14-19-53</td>\n",
              "    </tr>\n",
              "    <tr>\n",
              "      <th>2</th>\n",
              "      <td>ULBQJ13L2545H7O07M2GVQ24680032VR_2020-09-22_17-00-34_</td>\n",
              "      <td>[tensional, accionista, hablar, encuentra, disculpeme, disculpeme, contienen, datos, solicitud, informar, perfecta, preocupes, confirmar, comento, accionista, completo, accionistas, colaborar, depositante, administrador, portafolio, davivienda, permite, realista, informacion, respectivos, numeros, contacto, presente, informacion, entidad, confirman, fijo, noveno, entidad, contacto, informando, proceso, dificil, disculpe, crimen, comunicarse, electronico, permitame, reitero, enhorabuena, atenciones, lunes, electronico, cliente, corredores, corredores, contacto, accionista, continuacion, confirmo, registro, llamadas, excelente, invito, calificar, brindado]</td>\n",
              "      <td>0.918</td>\n",
              "      <td>0.8500</td>\n",
              "      <td>agente</td>\n",
              "      <td>Septiembre</td>\n",
              "      <td>ULBQJ13L2545H7O07M2GVQ24680032VR</td>\n",
              "      <td>1.233492e+09</td>\n",
              "      <td>6532363.0</td>\n",
              "      <td>3125861921</td>\n",
              "      <td>20200922 12:00:34</td>\n",
              "      <td>20200922 12:03:34</td>\n",
              "      <td>164335043.0</td>\n",
              "      <td>Ecopetrol</td>\n",
              "      <td>Inbound</td>\n",
              "      <td>Ecopetrol_52026</td>\n",
              "      <td>VQ_Ecopetrol_INB_Aten_Accionista</td>\n",
              "      <td>, C A.Acc Lina Dayana Zabala Lopez (linzablo) - 1233492388</td>\n",
              "      <td>180.0</td>\n",
              "      <td>0.0</td>\n",
              "      <td>Atención al accionista</td>\n",
              "      <td>2020-09-22_17-00-34</td>\n",
              "    </tr>\n",
              "    <tr>\n",
              "      <th>3</th>\n",
              "      <td>RQ21QO2HST63B28OIE5HQTGBLS0000BG_2020-09-29_00-54-58_</td>\n",
              "      <td>[petrona, vanidades, consciente, problema, debido, entran, vacaciones, descansa, descansamos, poquito, comun, marchamos, jefe, preguntas, incidentes, jefe, calentador, imaginate, imaginate, formulario, incidentes, notificado, incidentes, escogen, cambiaron, cambiaron, estupido, formador, aldeanos, decide, incidente, capacita, novedades, inicio, internamente, entrenadora, defienden, capacita, juegan, exigente, cambiaron, formulario, llenar, adecuada, reporte, salir, vacaciones, benditos, siento, gotica, importante, funcione, visita, entra, asidero, incidentes, nomas, tracia, reincidentes, escucho, entendido, dejo]</td>\n",
              "      <td>0.909</td>\n",
              "      <td>0.6700</td>\n",
              "      <td>agente</td>\n",
              "      <td>Septiembre</td>\n",
              "      <td>RQ21QO2HST63B28OIE5HQTGBLS0000BG</td>\n",
              "      <td>8.012149e+07</td>\n",
              "      <td>6532364.0</td>\n",
              "      <td>3002931472</td>\n",
              "      <td>20200928 19:54:58</td>\n",
              "      <td>20200928 19:58:48</td>\n",
              "      <td>166374773.0</td>\n",
              "      <td>Ecopetrol</td>\n",
              "      <td>Inbound</td>\n",
              "      <td>Ecopetrol_52108</td>\n",
              "      <td>VQ_Ecopetrol_INB_Para_Salud</td>\n",
              "      <td>, C Salud Nestor Geovanni Avila Rodriguez (nesaviro) - 80121489</td>\n",
              "      <td>230.0</td>\n",
              "      <td>0.0</td>\n",
              "      <td>Salud</td>\n",
              "      <td>2020-09-29_00-54-58</td>\n",
              "    </tr>\n",
              "    <tr>\n",
              "      <th>4</th>\n",
              "      <td>ULBQJ13L2545H7O07M2GVQ2468001LLA_2020-09-03_14-27-35_</td>\n",
              "      <td>[colaborar, talud, quejas, eminencia, permitame, esperarme, confirma, etica, tomaran, requerimiento, participacion, ciudadana, insolito, etica, etica, comunicarse, intelecto, tomaran, remitir, prefecto, filiales, enviarlo, participacion, ciudadana, etica, informacional, inicialmente, desea, remitirse, respuestas, respuesta, desea, comunicarse, genetica, confirmen, comento, procedera, viniste, informacion, manejamos, exterior, confirmar, enviar, discipulos, alejada, participacion, ciudadana, maneje, informacion, manejan, remitirse, confirmen, realizar, efectivamente, llega, informacion, participacion, quake, comunicar, conos, culto, venecianos, excelente]</td>\n",
              "      <td>0.964</td>\n",
              "      <td>0.7200</td>\n",
              "      <td>agente</td>\n",
              "      <td>Septiembre</td>\n",
              "      <td>ULBQJ13L2545H7O07M2GVQ2468001LLA</td>\n",
              "      <td>1.016047e+09</td>\n",
              "      <td>6532364.0</td>\n",
              "      <td>3178156923</td>\n",
              "      <td>20200903 09:27:35</td>\n",
              "      <td>20200903 09:30:02</td>\n",
              "      <td>158433087.0</td>\n",
              "      <td>Ecopetrol</td>\n",
              "      <td>Inbound</td>\n",
              "      <td>Ecopetrol_52110</td>\n",
              "      <td>VQ_Ecopetrol_INB_FQS_Funcionarios</td>\n",
              "      <td>, C Queja Jinneth Constanza Rincon Pineda (jinrinpi) - 1016046663</td>\n",
              "      <td>147.0</td>\n",
              "      <td>0.0</td>\n",
              "      <td>Quejas y OPC</td>\n",
              "      <td>2020-09-03_14-27-35</td>\n",
              "    </tr>\n",
              "    <tr>\n",
              "      <th>...</th>\n",
              "      <td>...</td>\n",
              "      <td>...</td>\n",
              "      <td>...</td>\n",
              "      <td>...</td>\n",
              "      <td>...</td>\n",
              "      <td>...</td>\n",
              "      <td>...</td>\n",
              "      <td>...</td>\n",
              "      <td>...</td>\n",
              "      <td>...</td>\n",
              "      <td>...</td>\n",
              "      <td>...</td>\n",
              "      <td>...</td>\n",
              "      <td>...</td>\n",
              "      <td>...</td>\n",
              "      <td>...</td>\n",
              "      <td>...</td>\n",
              "      <td>...</td>\n",
              "      <td>...</td>\n",
              "      <td>...</td>\n",
              "      <td>...</td>\n",
              "      <td>...</td>\n",
              "    </tr>\n",
              "    <tr>\n",
              "      <th>3390</th>\n",
              "      <td>RQ21QO2HST63B28OIE5HQTGBLS004KRU_2020-11-30_21-00-18_</td>\n",
              "      <td>[literal, compuestos, colaborar, diseno, perdedor, olvidando, casos, carga, efectivamente, recibos, extra, fecha, respuesta, diciembre, protocolo, distante, pendientes, trabaje, secuestro, comunidad, validez, producto, programa, semanas]</td>\n",
              "      <td>0.860</td>\n",
              "      <td>0.6600</td>\n",
              "      <td>agente</td>\n",
              "      <td>Noviembre</td>\n",
              "      <td>NaN</td>\n",
              "      <td>NaN</td>\n",
              "      <td>NaN</td>\n",
              "      <td>NaN</td>\n",
              "      <td>NaN</td>\n",
              "      <td>NaN</td>\n",
              "      <td>NaN</td>\n",
              "      <td>NaN</td>\n",
              "      <td>NaN</td>\n",
              "      <td>NaN</td>\n",
              "      <td>NaN</td>\n",
              "      <td>NaN</td>\n",
              "      <td>NaN</td>\n",
              "      <td>NaN</td>\n",
              "      <td>NaN</td>\n",
              "      <td>NaN</td>\n",
              "    </tr>\n",
              "    <tr>\n",
              "      <th>3391</th>\n",
              "      <td>RQ21QO2HST63B28OIE5HQTGBLS004KUG_2020-11-30_21-15-18_</td>\n",
              "      <td>[colaborar, solicitud, anticipo, hizo, solicitud, aplicacion, anticipo, benefician, encuentra, escolaridad, exito, anticipo, permitame, amablemente, minutos, termino, antisemita, contacto, contacto, consumo, lineas, confirmo, sistema, registra, anticipo, ricos, propicio, primaria, instinto, entrevistado, probablemente, agotan, aliciente, parecia, incluyen, podia, enviarle, informacion, entro, tercer, probable, llegue, mitad, diciembre, infierno, unicamente, encuentra, probada, calentar, denominada, beneficio, castigo, contestan, sujetos, fechas, aprobacion, intencion, asegurarle, ocaciones, haciendo, pagos, extras, dependiendo, cuestan, fechas, acuerden, asegurar, paguen, criterio, solicitudes, asignadas, profesionales, distintos, clientes, deben, realizar, reedicion, solicitudes, mide, profesional, respondiendo, aprendiz, licitud, personas, anticipos, independiente, asignan, profesionales, diferente, probable, llegar, notificacion, electronico, solicitudes, fecha, maxima, sujetos, variacion, promocional, recibe, ...]</td>\n",
              "      <td>0.946</td>\n",
              "      <td>0.7600</td>\n",
              "      <td>agente</td>\n",
              "      <td>Noviembre</td>\n",
              "      <td>NaN</td>\n",
              "      <td>NaN</td>\n",
              "      <td>NaN</td>\n",
              "      <td>NaN</td>\n",
              "      <td>NaN</td>\n",
              "      <td>NaN</td>\n",
              "      <td>NaN</td>\n",
              "      <td>NaN</td>\n",
              "      <td>NaN</td>\n",
              "      <td>NaN</td>\n",
              "      <td>NaN</td>\n",
              "      <td>NaN</td>\n",
              "      <td>NaN</td>\n",
              "      <td>NaN</td>\n",
              "      <td>NaN</td>\n",
              "      <td>NaN</td>\n",
              "    </tr>\n",
              "    <tr>\n",
              "      <th>3392</th>\n",
              "      <td>RQ21QO2HST63B28OIE5HQTGBLS004KUG_2020-11-30_21-15-18_</td>\n",
              "      <td>[podia, entrar, intencionadamente, podia, pude, pude, verlo, situar, educacional, anticipo, ayudar, respecto, virtual, inventa, enviarlos, aplicativos, aplicacion, funciona, estremecieron, enviara, recibiera, residencial, perdiste, tramite, vuelve, aparece, aparte, adelante, parados, jovencitos, llamada, dedico, cositas, oceano, cercar, empezo, consigno, primacia, argentinos, pagaderos, envie, documentos, colapso, raro, envie, enviamos, probado, aprobado, recibe, pendiente, contestaron, icono, dicho, llegar, requiere, contrario, trato, narcos, dispara, yardas]</td>\n",
              "      <td>0.921</td>\n",
              "      <td>0.6550</td>\n",
              "      <td>usuario</td>\n",
              "      <td>Noviembre</td>\n",
              "      <td>NaN</td>\n",
              "      <td>NaN</td>\n",
              "      <td>NaN</td>\n",
              "      <td>NaN</td>\n",
              "      <td>NaN</td>\n",
              "      <td>NaN</td>\n",
              "      <td>NaN</td>\n",
              "      <td>NaN</td>\n",
              "      <td>NaN</td>\n",
              "      <td>NaN</td>\n",
              "      <td>NaN</td>\n",
              "      <td>NaN</td>\n",
              "      <td>NaN</td>\n",
              "      <td>NaN</td>\n",
              "      <td>NaN</td>\n",
              "      <td>NaN</td>\n",
              "    </tr>\n",
              "    <tr>\n",
              "      <th>3393</th>\n",
              "      <td>RQ21QO2HST63B28OIE5HQTGBLS004L9F_2020-11-30_23-57-23_</td>\n",
              "      <td>[entrevista, solicitar, ascender, hechas, usuario, perdi]</td>\n",
              "      <td>0.861</td>\n",
              "      <td>0.5850</td>\n",
              "      <td>usuario</td>\n",
              "      <td>Noviembre</td>\n",
              "      <td>NaN</td>\n",
              "      <td>NaN</td>\n",
              "      <td>NaN</td>\n",
              "      <td>NaN</td>\n",
              "      <td>NaN</td>\n",
              "      <td>NaN</td>\n",
              "      <td>NaN</td>\n",
              "      <td>NaN</td>\n",
              "      <td>NaN</td>\n",
              "      <td>NaN</td>\n",
              "      <td>NaN</td>\n",
              "      <td>NaN</td>\n",
              "      <td>NaN</td>\n",
              "      <td>NaN</td>\n",
              "      <td>NaN</td>\n",
              "      <td>NaN</td>\n",
              "    </tr>\n",
              "    <tr>\n",
              "      <th>3394</th>\n",
              "      <td>RQ21QO2HST63B28OIE5HQTGBLS004L9F_2020-11-30_23-57-23_</td>\n",
              "      <td>[enero, condicion, colaborar, colaborar, confirme, documento, paciente, completo, paciente, nintendo, entidad, acto, minutos, solicitados, mencionar, permitame]</td>\n",
              "      <td>0.804</td>\n",
              "      <td>0.7625</td>\n",
              "      <td>agente</td>\n",
              "      <td>Noviembre</td>\n",
              "      <td>NaN</td>\n",
              "      <td>NaN</td>\n",
              "      <td>NaN</td>\n",
              "      <td>NaN</td>\n",
              "      <td>NaN</td>\n",
              "      <td>NaN</td>\n",
              "      <td>NaN</td>\n",
              "      <td>NaN</td>\n",
              "      <td>NaN</td>\n",
              "      <td>NaN</td>\n",
              "      <td>NaN</td>\n",
              "      <td>NaN</td>\n",
              "      <td>NaN</td>\n",
              "      <td>NaN</td>\n",
              "      <td>NaN</td>\n",
              "      <td>NaN</td>\n",
              "    </tr>\n",
              "  </tbody>\n",
              "</table>\n",
              "<p>3379 rows × 22 columns</p>\n",
              "</div>"
            ],
            "text/plain": [
              "                                                  name_file  ...      Start_Date_hour\n",
              "0     ULBQJ13L2545H7O07M2GVQ24680024AS_2020-09-09_17-33-54_  ...  2020-09-09_17-33-54\n",
              "1     ULBQJ13L2545H7O07M2GVQ2468001LK2_2020-09-03_14-19-53_  ...  2020-09-03_14-19-53\n",
              "2     ULBQJ13L2545H7O07M2GVQ24680032VR_2020-09-22_17-00-34_  ...  2020-09-22_17-00-34\n",
              "3     RQ21QO2HST63B28OIE5HQTGBLS0000BG_2020-09-29_00-54-58_  ...  2020-09-29_00-54-58\n",
              "4     ULBQJ13L2545H7O07M2GVQ2468001LLA_2020-09-03_14-27-35_  ...  2020-09-03_14-27-35\n",
              "...                                                     ...  ...                  ...\n",
              "3390  RQ21QO2HST63B28OIE5HQTGBLS004KRU_2020-11-30_21-00-18_  ...  NaN                \n",
              "3391  RQ21QO2HST63B28OIE5HQTGBLS004KUG_2020-11-30_21-15-18_  ...  NaN                \n",
              "3392  RQ21QO2HST63B28OIE5HQTGBLS004KUG_2020-11-30_21-15-18_  ...  NaN                \n",
              "3393  RQ21QO2HST63B28OIE5HQTGBLS004L9F_2020-11-30_23-57-23_  ...  NaN                \n",
              "3394  RQ21QO2HST63B28OIE5HQTGBLS004L9F_2020-11-30_23-57-23_  ...  NaN                \n",
              "\n",
              "[3379 rows x 22 columns]"
            ]
          },
          "metadata": {
            "tags": []
          },
          "execution_count": 50
        }
      ]
    },
    {
      "cell_type": "markdown",
      "metadata": {
        "id": "2GOqOQRoGkMe"
      },
      "source": [
        "**Hasta la línea anterior termina la limpieza general del texto**"
      ]
    },
    {
      "cell_type": "markdown",
      "metadata": {
        "id": "Gi7VLAHms4Gb"
      },
      "source": [
        "Unimos el resultado de los dos pasos anteriores para poder realizar la nube de palabras"
      ]
    },
    {
      "cell_type": "code",
      "metadata": {
        "id": "p8Ff2kTKBk1v"
      },
      "source": [
        "df_user['transcripcion']=df_user['transcripcion'].apply(lambda x: ' '.join(x) )"
      ],
      "execution_count": 51,
      "outputs": []
    },
    {
      "cell_type": "code",
      "metadata": {
        "id": "OrVfVGhOYky6"
      },
      "source": [
        "df_user.reset_index(inplace=True)"
      ],
      "execution_count": 52,
      "outputs": []
    },
    {
      "cell_type": "code",
      "metadata": {
        "id": "F-slqP5R5uL6",
        "colab": {
          "base_uri": "https://localhost:8080/"
        },
        "outputId": "152e23ca-7dd4-432f-e257-3c4124c479e9"
      },
      "source": [
        "# Ajuste de vocabulario\r\n",
        "\r\n",
        "adjustment = {\"llegando\": \"llega\", \"llame\": \"llamar\", \"apagarlo\": \"pagar\",\r\n",
        "              \"facturas\": \"facturacion\", \"facturar\": \"facturacion\",\r\n",
        "              \"factura\": \"facturacion\", \"fractura\": \"facturacion\",\r\n",
        "              \"mensuales\": \"mensual\",  \"intereses\": \"interes\",\r\n",
        "              \"cobran\": \"cobrandome\", \"cobren\": \"cobrandome\",\r\n",
        "              \"cobrando\": \"cobrandome\", \"cobrar\": \"cobrandome\",\r\n",
        "              \"llegaban\": \"llega\", \"llevando\": \"llega\",\r\n",
        "              \"mensajes\": \"mensaje\", \"enviando_mensajes\": \"mensaje\",\r\n",
        "              \"sigues\": \"sigue\", 'cuotas': 'cuota', 'llamada': 'llamar',\r\n",
        "              'intere': 'interes', 'interess': 'interes',\r\n",
        "              'memento': 'momento', 'llamando': 'llamar',\r\n",
        "              \"enero\": \"meses\",\"febrero\": \"meses\",\"marzo\": \"meses\",\r\n",
        "              \"abril\": \"meses\",\"mayo\": \"meses\",\"junio\": \"meses\",\r\n",
        "              \"julio\": \"meses\", \"agosto\": \"meses\",\"septiembre\": \"meses\",\r\n",
        "              \"octubre\": \"meses\",\"noviembre\": \"meses\", \"diciembre\": \"meses\",\r\n",
        "              \"facturacioncion\":\"facturacion\"}\r\n",
        "\r\n",
        "# diccionario basado en la línea de ecopetrol\r\n",
        "\r\n",
        "diccionario_palabras = {'descovid':'covid','covic':'covid','coronar':'covid'}\r\n",
        "\r\n",
        "adjustment.update(diccionario_palabras)\r\n",
        "print(adjustment)\r\n",
        "df_user['transcripcion'] = df_user['transcripcion'].map(lambda x: adjustment_all(x,adjustment))"
      ],
      "execution_count": 53,
      "outputs": [
        {
          "output_type": "stream",
          "text": [
            "{'llegando': 'llega', 'llame': 'llamar', 'apagarlo': 'pagar', 'facturas': 'facturacion', 'facturar': 'facturacion', 'factura': 'facturacion', 'fractura': 'facturacion', 'mensuales': 'mensual', 'intereses': 'interes', 'cobran': 'cobrandome', 'cobren': 'cobrandome', 'cobrando': 'cobrandome', 'cobrar': 'cobrandome', 'llegaban': 'llega', 'llevando': 'llega', 'mensajes': 'mensaje', 'enviando_mensajes': 'mensaje', 'sigues': 'sigue', 'cuotas': 'cuota', 'llamada': 'llamar', 'intere': 'interes', 'interess': 'interes', 'memento': 'momento', 'llamando': 'llamar', 'enero': 'meses', 'febrero': 'meses', 'marzo': 'meses', 'abril': 'meses', 'mayo': 'meses', 'junio': 'meses', 'julio': 'meses', 'agosto': 'meses', 'septiembre': 'meses', 'octubre': 'meses', 'noviembre': 'meses', 'diciembre': 'meses', 'facturacioncion': 'facturacion', 'descovid': 'covid', 'covic': 'covid', 'coronar': 'covid'}\n"
          ],
          "name": "stdout"
        }
      ]
    },
    {
      "cell_type": "code",
      "metadata": {
        "id": "WZMVyF7v6NRu",
        "colab": {
          "base_uri": "https://localhost:8080/"
        },
        "outputId": "9aa4df6e-9847-4ef2-e5c9-a181d9c69813"
      },
      "source": [
        "freq_important_def = pd.Series(' '.join(df_user['transcripcion']).split()).value_counts()\r\n",
        "print(freq_important_def[0:50])"
      ],
      "execution_count": 54,
      "outputs": [
        {
          "output_type": "stream",
          "text": [
            "informacion      2235\n",
            "permitame        1903\n",
            "solicitud        1838\n",
            "meses            1697\n",
            "facturacion      1383\n",
            "llamar           1251\n",
            "hablar           1047\n",
            "respuesta        1026\n",
            "electronico      932 \n",
            "confirmo         898 \n",
            "registro         853 \n",
            "sistema          818 \n",
            "oficina          810 \n",
            "proceso          807 \n",
            "documento        779 \n",
            "colaborar        749 \n",
            "documentos       736 \n",
            "minutos          728 \n",
            "enviar           725 \n",
            "medicos          707 \n",
            "espera           700 \n",
            "datos            694 \n",
            "nuevamente       691 \n",
            "encuesta         626 \n",
            "pregunta         540 \n",
            "indica           537 \n",
            "personas         532 \n",
            "paciente         531 \n",
            "certificado      518 \n",
            "virtual          509 \n",
            "envio            493 \n",
            "telefono         492 \n",
            "cedula           467 \n",
            "ciudad           466 \n",
            "aparece          465 \n",
            "confirma         450 \n",
            "efectivamente    435 \n",
            "problema         433 \n",
            "plataforma       432 \n",
            "encuentra        422 \n",
            "opcion           421 \n",
            "fecha            417 \n",
            "realizar         412 \n",
            "completo         394 \n",
            "verificar        394 \n",
            "indico           386 \n",
            "tramite          382 \n",
            "contacto         376 \n",
            "recuerde         376 \n",
            "haciendo         372 \n",
            "dtype: int64\n"
          ],
          "name": "stdout"
        }
      ]
    },
    {
      "cell_type": "code",
      "metadata": {
        "id": "IgqBGnXUbbIr",
        "colab": {
          "base_uri": "https://localhost:8080/",
          "height": 217
        },
        "outputId": "9072f942-68a5-4a5e-8013-add15c10340c"
      },
      "source": [
        "#Para la nube de palabras es necesario tener una cadena larga.\r\n",
        "lista_mensajeuser=[]\r\n",
        "#for i in range(len(df_user)):\r\n",
        "#  lista_mensajeuser+=df_user['transcripcion'][i]#input debe ser un string\r\n",
        "lista_mensajeuser = ','.join(df_user['transcripcion'])\r\n",
        "long_string=''.join(lista_mensajeuser)\r\n",
        "#Creacion lista stop words\r\n",
        "wordcloud = WordCloud(background_color=\"white\",min_font_size=5, max_font_size=150, max_words=600, contour_width=50, contour_color='steelblue', margin=15, stopwords=lista_stop_words+['problema','pregunta'])\r\n",
        "#Crear el word cloud\r\n",
        "wordcloud.generate(long_string)\r\n",
        "#Visualizar el word cloud\r\n",
        "wordcloud.to_image()"
      ],
      "execution_count": 55,
      "outputs": [
        {
          "output_type": "execute_result",
          "data": {
            "image/png": "[encoded data removed]",
            "text/plain": [
              "<PIL.Image.Image image mode=RGB size=400x200 at 0x7FED89F32D10>"
            ]
          },
          "metadata": {
            "tags": []
          },
          "execution_count": 55
        }
      ]
    },
    {
      "cell_type": "code",
      "metadata": {
        "id": "LBI3Gj924G-l",
        "colab": {
          "base_uri": "https://localhost:8080/",
          "height": 542
        },
        "outputId": "578c337f-60f0-40f9-c121-8356f1303af6"
      },
      "source": [
        "segmento = str.upper(\"GENERAL\")\n",
        "# Iniciar el count vectorizer con stop words personalizado en español\n",
        "count_vectorizer = CountVectorizer(stop_words=stopwords.words('spanish')+lista_stop_words)\n",
        "# Ajustar y transformar los términos procesados\n",
        "count_data = count_vectorizer.fit_transform(df_user['transcripcion'])\n",
        "#Visualizar los términos mas comunes\n",
        "plot_10_most_common_words(count_data, count_vectorizer)"
      ],
      "execution_count": 56,
      "outputs": [
        {
          "output_type": "display_data",
          "data": {
            "text/html": [
              "<html>\n",
              "<head><meta charset=\"utf-8\" /></head>\n",
              "<body>\n",
              "    <div>\n",
              "            <script src=\"https://cdnjs.cloudflare.com/ajax/libs/mathjax/2.7.5/MathJax.js?config=TeX-AMS-MML_SVG\"></script><script type=\"text/javascript\">if (window.MathJax) {MathJax.Hub.Config({SVG: {font: \"STIX-Web\"}});}</script>\n",
              "                <script type=\"text/javascript\">window.PlotlyConfig = {MathJaxConfig: 'local'};</script>\n",
              "        <script src=\"https://cdn.plot.ly/plotly-latest.min.js\"></script>    \n",
              "            <div id=\"a11af5f4-c10b-4319-b8bc-8d8efaf48b5f\" class=\"plotly-graph-div\" style=\"height:525px; width:100%;\"></div>\n",
              "            <script type=\"text/javascript\">\n",
              "                \n",
              "                    window.PLOTLYENV=window.PLOTLYENV || {};\n",
              "                    \n",
              "                if (document.getElementById(\"a11af5f4-c10b-4319-b8bc-8d8efaf48b5f\")) {\n",
              "                    Plotly.newPlot(\n",
              "                        'a11af5f4-c10b-4319-b8bc-8d8efaf48b5f',\n",
              "                        [{\"alignmentgroup\": \"True\", \"hoverlabel\": {\"namelength\": 0}, \"hovertemplate\": \"Palabra Clave=%{x}<br>Frecuencia=%{y}\", \"legendgroup\": \"\", \"marker\": {\"color\": \"darkgreen\"}, \"name\": \"\", \"offsetgroup\": \"\", \"orientation\": \"v\", \"showlegend\": false, \"textposition\": \"auto\", \"type\": \"bar\", \"x\": [\"informacion\", \"permitame\", \"solicitud\", \"meses\", \"facturacion\", \"llamar\", \"hablar\", \"respuesta\", \"electronico\", \"confirmo\", \"registro\", \"sistema\", \"oficina\", \"proceso\", \"documento\", \"colaborar\", \"documentos\", \"minutos\", \"enviar\", \"medicos\", \"espera\", \"datos\", \"nuevamente\", \"encuesta\", \"pregunta\", \"indica\", \"personas\", \"paciente\", \"certificado\", \"virtual\"], \"xaxis\": \"x\", \"y\": [2235.0, 1903.0, 1838.0, 1697.0, 1383.0, 1251.0, 1047.0, 1026.0, 932.0, 898.0, 853.0, 818.0, 810.0, 807.0, 779.0, 749.0, 736.0, 728.0, 725.0, 707.0, 700.0, 694.0, 691.0, 626.0, 540.0, 537.0, 532.0, 531.0, 518.0, 509.0], \"yaxis\": \"y\"}],\n",
              "                        {\"barmode\": \"relative\", \"legend\": {\"tracegroupgap\": 0}, \"template\": {\"data\": {\"bar\": [{\"error_x\": {\"color\": \"#2a3f5f\"}, \"error_y\": {\"color\": \"#2a3f5f\"}, \"marker\": {\"line\": {\"color\": \"#E5ECF6\", \"width\": 0.5}}, \"type\": \"bar\"}], \"barpolar\": [{\"marker\": {\"line\": {\"color\": \"#E5ECF6\", \"width\": 0.5}}, \"type\": \"barpolar\"}], \"carpet\": [{\"aaxis\": {\"endlinecolor\": \"#2a3f5f\", \"gridcolor\": \"white\", \"linecolor\": \"white\", \"minorgridcolor\": \"white\", \"startlinecolor\": \"#2a3f5f\"}, \"baxis\": {\"endlinecolor\": \"#2a3f5f\", \"gridcolor\": \"white\", \"linecolor\": \"white\", \"minorgridcolor\": \"white\", \"startlinecolor\": \"#2a3f5f\"}, \"type\": \"carpet\"}], \"choropleth\": [{\"colorbar\": {\"outlinewidth\": 0, \"ticks\": \"\"}, \"type\": \"choropleth\"}], \"contour\": [{\"colorbar\": {\"outlinewidth\": 0, \"ticks\": \"\"}, \"colorscale\": [[0.0, \"#0d0887\"], [0.1111111111111111, \"#46039f\"], [0.2222222222222222, \"#7201a8\"], [0.3333333333333333, \"#9c179e\"], [0.4444444444444444, \"#bd3786\"], [0.5555555555555556, \"#d8576b\"], [0.6666666666666666, \"#ed7953\"], [0.7777777777777778, \"#fb9f3a\"], [0.8888888888888888, \"#fdca26\"], [1.0, \"#f0f921\"]], \"type\": \"contour\"}], \"contourcarpet\": [{\"colorbar\": {\"outlinewidth\": 0, \"ticks\": \"\"}, \"type\": \"contourcarpet\"}], \"heatmap\": [{\"colorbar\": {\"outlinewidth\": 0, \"ticks\": \"\"}, \"colorscale\": [[0.0, \"#0d0887\"], [0.1111111111111111, \"#46039f\"], [0.2222222222222222, \"#7201a8\"], [0.3333333333333333, \"#9c179e\"], [0.4444444444444444, \"#bd3786\"], [0.5555555555555556, \"#d8576b\"], [0.6666666666666666, \"#ed7953\"], [0.7777777777777778, \"#fb9f3a\"], [0.8888888888888888, \"#fdca26\"], [1.0, \"#f0f921\"]], \"type\": \"heatmap\"}], \"heatmapgl\": [{\"colorbar\": {\"outlinewidth\": 0, \"ticks\": \"\"}, \"colorscale\": [[0.0, \"#0d0887\"], [0.1111111111111111, \"#46039f\"], [0.2222222222222222, \"#7201a8\"], [0.3333333333333333, \"#9c179e\"], [0.4444444444444444, \"#bd3786\"], [0.5555555555555556, \"#d8576b\"], [0.6666666666666666, \"#ed7953\"], [0.7777777777777778, \"#fb9f3a\"], [0.8888888888888888, \"#fdca26\"], [1.0, \"#f0f921\"]], \"type\": \"heatmapgl\"}], \"histogram\": [{\"marker\": {\"colorbar\": {\"outlinewidth\": 0, \"ticks\": \"\"}}, \"type\": \"histogram\"}], \"histogram2d\": [{\"colorbar\": {\"outlinewidth\": 0, \"ticks\": \"\"}, \"colorscale\": [[0.0, \"#0d0887\"], [0.1111111111111111, \"#46039f\"], [0.2222222222222222, \"#7201a8\"], [0.3333333333333333, \"#9c179e\"], [0.4444444444444444, \"#bd3786\"], [0.5555555555555556, \"#d8576b\"], [0.6666666666666666, \"#ed7953\"], [0.7777777777777778, \"#fb9f3a\"], [0.8888888888888888, \"#fdca26\"], [1.0, \"#f0f921\"]], \"type\": \"histogram2d\"}], \"histogram2dcontour\": [{\"colorbar\": {\"outlinewidth\": 0, \"ticks\": \"\"}, \"colorscale\": [[0.0, \"#0d0887\"], [0.1111111111111111, \"#46039f\"], [0.2222222222222222, \"#7201a8\"], [0.3333333333333333, \"#9c179e\"], [0.4444444444444444, \"#bd3786\"], [0.5555555555555556, \"#d8576b\"], [0.6666666666666666, \"#ed7953\"], [0.7777777777777778, \"#fb9f3a\"], [0.8888888888888888, \"#fdca26\"], [1.0, \"#f0f921\"]], \"type\": \"histogram2dcontour\"}], \"mesh3d\": [{\"colorbar\": {\"outlinewidth\": 0, \"ticks\": \"\"}, \"type\": \"mesh3d\"}], \"parcoords\": [{\"line\": {\"colorbar\": {\"outlinewidth\": 0, \"ticks\": \"\"}}, \"type\": \"parcoords\"}], \"pie\": [{\"automargin\": true, \"type\": \"pie\"}], \"scatter\": [{\"marker\": {\"colorbar\": {\"outlinewidth\": 0, \"ticks\": \"\"}}, \"type\": \"scatter\"}], \"scatter3d\": [{\"line\": {\"colorbar\": {\"outlinewidth\": 0, \"ticks\": \"\"}}, \"marker\": {\"colorbar\": {\"outlinewidth\": 0, \"ticks\": \"\"}}, \"type\": \"scatter3d\"}], \"scattercarpet\": [{\"marker\": {\"colorbar\": {\"outlinewidth\": 0, \"ticks\": \"\"}}, \"type\": \"scattercarpet\"}], \"scattergeo\": [{\"marker\": {\"colorbar\": {\"outlinewidth\": 0, \"ticks\": \"\"}}, \"type\": \"scattergeo\"}], \"scattergl\": [{\"marker\": {\"colorbar\": {\"outlinewidth\": 0, \"ticks\": \"\"}}, \"type\": \"scattergl\"}], \"scattermapbox\": [{\"marker\": {\"colorbar\": {\"outlinewidth\": 0, \"ticks\": \"\"}}, \"type\": \"scattermapbox\"}], \"scatterpolar\": [{\"marker\": {\"colorbar\": {\"outlinewidth\": 0, \"ticks\": \"\"}}, \"type\": \"scatterpolar\"}], \"scatterpolargl\": [{\"marker\": {\"colorbar\": {\"outlinewidth\": 0, \"ticks\": \"\"}}, \"type\": \"scatterpolargl\"}], \"scatterternary\": [{\"marker\": {\"colorbar\": {\"outlinewidth\": 0, \"ticks\": \"\"}}, \"type\": \"scatterternary\"}], \"surface\": [{\"colorbar\": {\"outlinewidth\": 0, \"ticks\": \"\"}, \"colorscale\": [[0.0, \"#0d0887\"], [0.1111111111111111, \"#46039f\"], [0.2222222222222222, \"#7201a8\"], [0.3333333333333333, \"#9c179e\"], [0.4444444444444444, \"#bd3786\"], [0.5555555555555556, \"#d8576b\"], [0.6666666666666666, \"#ed7953\"], [0.7777777777777778, \"#fb9f3a\"], [0.8888888888888888, \"#fdca26\"], [1.0, \"#f0f921\"]], \"type\": \"surface\"}], \"table\": [{\"cells\": {\"fill\": {\"color\": \"#EBF0F8\"}, \"line\": {\"color\": \"white\"}}, \"header\": {\"fill\": {\"color\": \"#C8D4E3\"}, \"line\": {\"color\": \"white\"}}, \"type\": \"table\"}]}, \"layout\": {\"annotationdefaults\": {\"arrowcolor\": \"#2a3f5f\", \"arrowhead\": 0, \"arrowwidth\": 1}, \"coloraxis\": {\"colorbar\": {\"outlinewidth\": 0, \"ticks\": \"\"}}, \"colorscale\": {\"diverging\": [[0, \"#8e0152\"], [0.1, \"#c51b7d\"], [0.2, \"#de77ae\"], [0.3, \"#f1b6da\"], [0.4, \"#fde0ef\"], [0.5, \"#f7f7f7\"], [0.6, \"#e6f5d0\"], [0.7, \"#b8e186\"], [0.8, \"#7fbc41\"], [0.9, \"#4d9221\"], [1, \"#276419\"]], \"sequential\": [[0.0, \"#0d0887\"], [0.1111111111111111, \"#46039f\"], [0.2222222222222222, \"#7201a8\"], [0.3333333333333333, \"#9c179e\"], [0.4444444444444444, \"#bd3786\"], [0.5555555555555556, \"#d8576b\"], [0.6666666666666666, \"#ed7953\"], [0.7777777777777778, \"#fb9f3a\"], [0.8888888888888888, \"#fdca26\"], [1.0, \"#f0f921\"]], \"sequentialminus\": [[0.0, \"#0d0887\"], [0.1111111111111111, \"#46039f\"], [0.2222222222222222, \"#7201a8\"], [0.3333333333333333, \"#9c179e\"], [0.4444444444444444, \"#bd3786\"], [0.5555555555555556, \"#d8576b\"], [0.6666666666666666, \"#ed7953\"], [0.7777777777777778, \"#fb9f3a\"], [0.8888888888888888, \"#fdca26\"], [1.0, \"#f0f921\"]]}, \"colorway\": [\"#636efa\", \"#EF553B\", \"#00cc96\", \"#ab63fa\", \"#FFA15A\", \"#19d3f3\", \"#FF6692\", \"#B6E880\", \"#FF97FF\", \"#FECB52\"], \"font\": {\"color\": \"#2a3f5f\"}, \"geo\": {\"bgcolor\": \"white\", \"lakecolor\": \"white\", \"landcolor\": \"#E5ECF6\", \"showlakes\": true, \"showland\": true, \"subunitcolor\": \"white\"}, \"hoverlabel\": {\"align\": \"left\"}, \"hovermode\": \"closest\", \"mapbox\": {\"style\": \"light\"}, \"paper_bgcolor\": \"white\", \"plot_bgcolor\": \"#E5ECF6\", \"polar\": {\"angularaxis\": {\"gridcolor\": \"white\", \"linecolor\": \"white\", \"ticks\": \"\"}, \"bgcolor\": \"#E5ECF6\", \"radialaxis\": {\"gridcolor\": \"white\", \"linecolor\": \"white\", \"ticks\": \"\"}}, \"scene\": {\"xaxis\": {\"backgroundcolor\": \"#E5ECF6\", \"gridcolor\": \"white\", \"gridwidth\": 2, \"linecolor\": \"white\", \"showbackground\": true, \"ticks\": \"\", \"zerolinecolor\": \"white\"}, \"yaxis\": {\"backgroundcolor\": \"#E5ECF6\", \"gridcolor\": \"white\", \"gridwidth\": 2, \"linecolor\": \"white\", \"showbackground\": true, \"ticks\": \"\", \"zerolinecolor\": \"white\"}, \"zaxis\": {\"backgroundcolor\": \"#E5ECF6\", \"gridcolor\": \"white\", \"gridwidth\": 2, \"linecolor\": \"white\", \"showbackground\": true, \"ticks\": \"\", \"zerolinecolor\": \"white\"}}, \"shapedefaults\": {\"line\": {\"color\": \"#2a3f5f\"}}, \"ternary\": {\"aaxis\": {\"gridcolor\": \"white\", \"linecolor\": \"white\", \"ticks\": \"\"}, \"baxis\": {\"gridcolor\": \"white\", \"linecolor\": \"white\", \"ticks\": \"\"}, \"bgcolor\": \"#E5ECF6\", \"caxis\": {\"gridcolor\": \"white\", \"linecolor\": \"white\", \"ticks\": \"\"}}, \"title\": {\"x\": 0.05}, \"xaxis\": {\"automargin\": true, \"gridcolor\": \"white\", \"linecolor\": \"white\", \"ticks\": \"\", \"title\": {\"standoff\": 15}, \"zerolinecolor\": \"white\", \"zerolinewidth\": 2}, \"yaxis\": {\"automargin\": true, \"gridcolor\": \"white\", \"linecolor\": \"white\", \"ticks\": \"\", \"title\": {\"standoff\": 15}, \"zerolinecolor\": \"white\", \"zerolinewidth\": 2}}}, \"title\": {\"text\": \"T\\u00c9RMINOS M\\u00c1S COMUNES EN: GENERAL\"}, \"xaxis\": {\"anchor\": \"y\", \"domain\": [0.0, 1.0], \"title\": {\"text\": \"Palabra Clave\"}}, \"yaxis\": {\"anchor\": \"x\", \"domain\": [0.0, 1.0], \"title\": {\"text\": \"Frecuencia\"}}},\n",
              "                        {\"responsive\": true}\n",
              "                    ).then(function(){\n",
              "                            \n",
              "var gd = document.getElementById('a11af5f4-c10b-4319-b8bc-8d8efaf48b5f');\n",
              "var x = new MutationObserver(function (mutations, observer) {{\n",
              "        var display = window.getComputedStyle(gd).display;\n",
              "        if (!display || display === 'none') {{\n",
              "            console.log([gd, 'removed!']);\n",
              "            Plotly.purge(gd);\n",
              "            observer.disconnect();\n",
              "        }}\n",
              "}});\n",
              "\n",
              "// Listen for the removal of the full notebook cells\n",
              "var notebookContainer = gd.closest('#notebook-container');\n",
              "if (notebookContainer) {{\n",
              "    x.observe(notebookContainer, {childList: true});\n",
              "}}\n",
              "\n",
              "// Listen for the clearing of the current output cell\n",
              "var outputEl = gd.closest('.output');\n",
              "if (outputEl) {{\n",
              "    x.observe(outputEl, {childList: true});\n",
              "}}\n",
              "\n",
              "                        })\n",
              "                };\n",
              "                \n",
              "            </script>\n",
              "        </div>\n",
              "</body>\n",
              "</html>"
            ]
          },
          "metadata": {
            "tags": []
          }
        }
      ]
    },
    {
      "cell_type": "markdown",
      "metadata": {
        "id": "Vwbsu-oeY6E-"
      },
      "source": [
        "Guardado de la informacion limpia para el **usuario**, este paso es muy importante ya que define los dataframes con los que vamos a trabajar después."
      ]
    },
    {
      "cell_type": "code",
      "metadata": {
        "id": "WnitLHsEYkzH"
      },
      "source": [
        "df_user.to_csv('/content/drive/My Drive/data/ABPS/NPL_Ecopetrol/df_total_limp_user.csv', index=False)"
      ],
      "execution_count": 57,
      "outputs": []
    },
    {
      "cell_type": "markdown",
      "metadata": {
        "id": "ZDSXF3P0Jd4e"
      },
      "source": [
        "# Division del daframe Agente y usuario"
      ]
    },
    {
      "cell_type": "code",
      "metadata": {
        "id": "CHi4R1miJhNE",
        "colab": {
          "base_uri": "https://localhost:8080/"
        },
        "outputId": "ed6333f9-ae83-47d6-d86d-9b2a4bfe016c"
      },
      "source": [
        "df_agent=df_user[df_user.owner=='agente']\r\n",
        "df_user=df_user[df_user.owner=='usuario']\r\n",
        "df_user= df_user.reset_index(drop=True)\r\n",
        "print('dimensionalidad agente:', df_agent.shape)\r\n",
        "print('dimensionalidad usuario:', df_user.shape)\r\n",
        "df_user_copy = df_user.copy()\r\n",
        "df_agent_copy = df_agent.copy()"
      ],
      "execution_count": 58,
      "outputs": [
        {
          "output_type": "stream",
          "text": [
            "dimensionalidad agente: (1717, 23)\n",
            "dimensionalidad usuario: (1662, 23)\n"
          ],
          "name": "stdout"
        }
      ]
    },
    {
      "cell_type": "markdown",
      "metadata": {
        "id": "dXmqt9DSV9YZ"
      },
      "source": [
        "#Atencion al accionista"
      ]
    },
    {
      "cell_type": "code",
      "metadata": {
        "id": "zl0TMsGNBJ_l"
      },
      "source": [
        "df_accionista=df_user[df_user['Linea']=='Atención al accionista']\n",
        "#df_accionista=df_accionista.drop_duplicates('name')\n",
        "df_accionista.reset_index(inplace=True)\n",
        "df_accionista['transcripcion']=df_accionista['transcripcion'].apply(lambda x: x.strip() if type(x)==str else x)"
      ],
      "execution_count": 59,
      "outputs": []
    },
    {
      "cell_type": "markdown",
      "metadata": {
        "id": "lHIttVzd5TAw"
      },
      "source": [
        "**Stop words accionista**"
      ]
    },
    {
      "cell_type": "code",
      "metadata": {
        "id": "J4z_cIoH5V0g"
      },
      "source": [
        "sw_accionista=['accionista', 'miren', 'meses']\r\n",
        "lista_stop_words=lista_stop_words+sw_accionista"
      ],
      "execution_count": 60,
      "outputs": []
    },
    {
      "cell_type": "markdown",
      "metadata": {
        "id": "kiwyEeboWdsp"
      },
      "source": [
        "\n",
        "<b><font color=orange size=5>Patrones</font></b>"
      ]
    },
    {
      "cell_type": "code",
      "metadata": {
        "id": "xc2LrR4WWNKW",
        "colab": {
          "base_uri": "https://localhost:8080/",
          "height": 217
        },
        "outputId": "fd40f0ab-a6d4-47e8-bfb0-addd7d439317"
      },
      "source": [
        "lista_mensajeuser=[]\n",
        "# for i in range(len(df_accionista)):\n",
        "#   lista_mensajeuser+=df_accionista['transcripcion'][i]\n",
        "lista_mensajeuser = ','.join(df_user['transcripcion'])\n",
        "long_string=''.join(lista_mensajeuser)\n",
        "#Creacion lista stop words\n",
        "wordcloud = WordCloud(background_color=\"white\",min_font_size=5, max_font_size=150, max_words=600, contour_width=50, contour_color='steelblue', margin=15, stopwords=lista_stop_words+['telefono','medicamento','necesito'])\n",
        "#Crear el word cloud\n",
        "wordcloud.generate(long_string)\n",
        "#Visualizar el word cloud\n",
        "wordcloud.to_file('accionista_patrones.png')\n",
        "wordcloud.to_image()"
      ],
      "execution_count": 61,
      "outputs": [
        {
          "output_type": "execute_result",
          "data": {
            "image/png": "[encoded data removed]",
            "text/plain": [
              "<PIL.Image.Image image mode=RGB size=400x200 at 0x7FED8A584DD0>"
            ]
          },
          "metadata": {
            "tags": []
          },
          "execution_count": 61
        }
      ]
    },
    {
      "cell_type": "markdown",
      "metadata": {
        "id": "sSQopsHFWp3P"
      },
      "source": [
        "\n",
        "<b><font color=orange size=5>Terminos clave (N-GRAMAS)</font></b>"
      ]
    },
    {
      "cell_type": "code",
      "metadata": {
        "id": "EP4Op0h2WXJ8",
        "colab": {
          "base_uri": "https://localhost:8080/",
          "height": 542
        },
        "outputId": "bbdf6b82-290e-4820-a3d4-5bee74dc31df"
      },
      "source": [
        "segmento = str.upper(\"LA CAMPAÑA ATENCION AL ACCIONISTA (N-gramas)\")\n",
        "# Iniciar el count vectorizer con stop words personalizado en español\n",
        "count_vectorizer = CountVectorizer(stop_words=['accionista','telefono','entiendo','momentico','breve','maneras','celular']+lista_stop_words,ngram_range=(2, 2))\n",
        "# Ajustar y transformar los términos procesados\n",
        "count_data = count_vectorizer.fit_transform(df_accionista['transcripcion'])\n",
        "#Visualizar los términos mas comunes\n",
        "plot_10_most_common_words(count_data, count_vectorizer)"
      ],
      "execution_count": 62,
      "outputs": [
        {
          "output_type": "display_data",
          "data": {
            "text/html": [
              "<html>\n",
              "<head><meta charset=\"utf-8\" /></head>\n",
              "<body>\n",
              "    <div>\n",
              "            <script src=\"https://cdnjs.cloudflare.com/ajax/libs/mathjax/2.7.5/MathJax.js?config=TeX-AMS-MML_SVG\"></script><script type=\"text/javascript\">if (window.MathJax) {MathJax.Hub.Config({SVG: {font: \"STIX-Web\"}});}</script>\n",
              "                <script type=\"text/javascript\">window.PlotlyConfig = {MathJaxConfig: 'local'};</script>\n",
              "        <script src=\"https://cdn.plot.ly/plotly-latest.min.js\"></script>    \n",
              "            <div id=\"6d1db775-e7e1-403c-9993-d91c0e41ded0\" class=\"plotly-graph-div\" style=\"height:525px; width:100%;\"></div>\n",
              "            <script type=\"text/javascript\">\n",
              "                \n",
              "                    window.PLOTLYENV=window.PLOTLYENV || {};\n",
              "                    \n",
              "                if (document.getElementById(\"6d1db775-e7e1-403c-9993-d91c0e41ded0\")) {\n",
              "                    Plotly.newPlot(\n",
              "                        '6d1db775-e7e1-403c-9993-d91c0e41ded0',\n",
              "                        [{\"alignmentgroup\": \"True\", \"hoverlabel\": {\"namelength\": 0}, \"hovertemplate\": \"Palabra Clave=%{x}<br>Frecuencia=%{y}\", \"legendgroup\": \"\", \"marker\": {\"color\": \"darkgreen\"}, \"name\": \"\", \"offsetgroup\": \"\", \"orientation\": \"v\", \"showlegend\": false, \"textposition\": \"auto\", \"type\": \"bar\", \"x\": [\"certificado declaracion\", \"valores bancolombia\", \"comisionista bolsa\", \"bajar certificado\", \"tratando descargar\", \"bancolombia comisionista\", \"bolsa valores\", \"cantidad importante\", \"certificado tributario\", \"computador danado\", \"declaracion perdio\", \"descargar certificado\", \"encuentra encuentra\", \"generar certificado\", \"gmail bancolombia\", \"interior apartamento\", \"listas listas\", \"llamar llamar\", \"necesito certificado\", \"radicado llamar\", \"unica pagaron\", \"abajo incrementar\", \"abierto mamas\", \"abismo increible\", \"abonaron puntual\", \"abono unico\", \"aborta hables\", \"abrir cumplidos\", \"abriran tecnico\", \"acaba restantes\"], \"xaxis\": \"x\", \"y\": [7.0, 7.0, 4.0, 3.0, 3.0, 2.0, 2.0, 2.0, 2.0, 2.0, 2.0, 2.0, 2.0, 2.0, 2.0, 2.0, 2.0, 2.0, 2.0, 2.0, 2.0, 1.0, 1.0, 1.0, 1.0, 1.0, 1.0, 1.0, 1.0, 1.0], \"yaxis\": \"y\"}],\n",
              "                        {\"barmode\": \"relative\", \"legend\": {\"tracegroupgap\": 0}, \"template\": {\"data\": {\"bar\": [{\"error_x\": {\"color\": \"#2a3f5f\"}, \"error_y\": {\"color\": \"#2a3f5f\"}, \"marker\": {\"line\": {\"color\": \"#E5ECF6\", \"width\": 0.5}}, \"type\": \"bar\"}], \"barpolar\": [{\"marker\": {\"line\": {\"color\": \"#E5ECF6\", \"width\": 0.5}}, \"type\": \"barpolar\"}], \"carpet\": [{\"aaxis\": {\"endlinecolor\": \"#2a3f5f\", \"gridcolor\": \"white\", \"linecolor\": \"white\", \"minorgridcolor\": \"white\", \"startlinecolor\": \"#2a3f5f\"}, \"baxis\": {\"endlinecolor\": \"#2a3f5f\", \"gridcolor\": \"white\", \"linecolor\": \"white\", \"minorgridcolor\": \"white\", \"startlinecolor\": \"#2a3f5f\"}, \"type\": \"carpet\"}], \"choropleth\": [{\"colorbar\": {\"outlinewidth\": 0, \"ticks\": \"\"}, \"type\": \"choropleth\"}], \"contour\": [{\"colorbar\": {\"outlinewidth\": 0, \"ticks\": \"\"}, \"colorscale\": [[0.0, \"#0d0887\"], [0.1111111111111111, \"#46039f\"], [0.2222222222222222, \"#7201a8\"], [0.3333333333333333, \"#9c179e\"], [0.4444444444444444, \"#bd3786\"], [0.5555555555555556, \"#d8576b\"], [0.6666666666666666, \"#ed7953\"], [0.7777777777777778, \"#fb9f3a\"], [0.8888888888888888, \"#fdca26\"], [1.0, \"#f0f921\"]], \"type\": \"contour\"}], \"contourcarpet\": [{\"colorbar\": {\"outlinewidth\": 0, \"ticks\": \"\"}, \"type\": \"contourcarpet\"}], \"heatmap\": [{\"colorbar\": {\"outlinewidth\": 0, \"ticks\": \"\"}, \"colorscale\": [[0.0, \"#0d0887\"], [0.1111111111111111, \"#46039f\"], [0.2222222222222222, \"#7201a8\"], [0.3333333333333333, \"#9c179e\"], [0.4444444444444444, \"#bd3786\"], [0.5555555555555556, \"#d8576b\"], [0.6666666666666666, \"#ed7953\"], [0.7777777777777778, \"#fb9f3a\"], [0.8888888888888888, \"#fdca26\"], [1.0, \"#f0f921\"]], \"type\": \"heatmap\"}], \"heatmapgl\": [{\"colorbar\": {\"outlinewidth\": 0, \"ticks\": \"\"}, \"colorscale\": [[0.0, \"#0d0887\"], [0.1111111111111111, \"#46039f\"], [0.2222222222222222, \"#7201a8\"], [0.3333333333333333, \"#9c179e\"], [0.4444444444444444, \"#bd3786\"], [0.5555555555555556, \"#d8576b\"], [0.6666666666666666, \"#ed7953\"], [0.7777777777777778, \"#fb9f3a\"], [0.8888888888888888, \"#fdca26\"], [1.0, \"#f0f921\"]], \"type\": \"heatmapgl\"}], \"histogram\": [{\"marker\": {\"colorbar\": {\"outlinewidth\": 0, \"ticks\": \"\"}}, \"type\": \"histogram\"}], \"histogram2d\": [{\"colorbar\": {\"outlinewidth\": 0, \"ticks\": \"\"}, \"colorscale\": [[0.0, \"#0d0887\"], [0.1111111111111111, \"#46039f\"], [0.2222222222222222, \"#7201a8\"], [0.3333333333333333, \"#9c179e\"], [0.4444444444444444, \"#bd3786\"], [0.5555555555555556, \"#d8576b\"], [0.6666666666666666, \"#ed7953\"], [0.7777777777777778, \"#fb9f3a\"], [0.8888888888888888, \"#fdca26\"], [1.0, \"#f0f921\"]], \"type\": \"histogram2d\"}], \"histogram2dcontour\": [{\"colorbar\": {\"outlinewidth\": 0, \"ticks\": \"\"}, \"colorscale\": [[0.0, \"#0d0887\"], [0.1111111111111111, \"#46039f\"], [0.2222222222222222, \"#7201a8\"], [0.3333333333333333, \"#9c179e\"], [0.4444444444444444, \"#bd3786\"], [0.5555555555555556, \"#d8576b\"], [0.6666666666666666, \"#ed7953\"], [0.7777777777777778, \"#fb9f3a\"], [0.8888888888888888, \"#fdca26\"], [1.0, \"#f0f921\"]], \"type\": \"histogram2dcontour\"}], \"mesh3d\": [{\"colorbar\": {\"outlinewidth\": 0, \"ticks\": \"\"}, \"type\": \"mesh3d\"}], \"parcoords\": [{\"line\": {\"colorbar\": {\"outlinewidth\": 0, \"ticks\": \"\"}}, \"type\": \"parcoords\"}], \"pie\": [{\"automargin\": true, \"type\": \"pie\"}], \"scatter\": [{\"marker\": {\"colorbar\": {\"outlinewidth\": 0, \"ticks\": \"\"}}, \"type\": \"scatter\"}], \"scatter3d\": [{\"line\": {\"colorbar\": {\"outlinewidth\": 0, \"ticks\": \"\"}}, \"marker\": {\"colorbar\": {\"outlinewidth\": 0, \"ticks\": \"\"}}, \"type\": \"scatter3d\"}], \"scattercarpet\": [{\"marker\": {\"colorbar\": {\"outlinewidth\": 0, \"ticks\": \"\"}}, \"type\": \"scattercarpet\"}], \"scattergeo\": [{\"marker\": {\"colorbar\": {\"outlinewidth\": 0, \"ticks\": \"\"}}, \"type\": \"scattergeo\"}], \"scattergl\": [{\"marker\": {\"colorbar\": {\"outlinewidth\": 0, \"ticks\": \"\"}}, \"type\": \"scattergl\"}], \"scattermapbox\": [{\"marker\": {\"colorbar\": {\"outlinewidth\": 0, \"ticks\": \"\"}}, \"type\": \"scattermapbox\"}], \"scatterpolar\": [{\"marker\": {\"colorbar\": {\"outlinewidth\": 0, \"ticks\": \"\"}}, \"type\": \"scatterpolar\"}], \"scatterpolargl\": [{\"marker\": {\"colorbar\": {\"outlinewidth\": 0, \"ticks\": \"\"}}, \"type\": \"scatterpolargl\"}], \"scatterternary\": [{\"marker\": {\"colorbar\": {\"outlinewidth\": 0, \"ticks\": \"\"}}, \"type\": \"scatterternary\"}], \"surface\": [{\"colorbar\": {\"outlinewidth\": 0, \"ticks\": \"\"}, \"colorscale\": [[0.0, \"#0d0887\"], [0.1111111111111111, \"#46039f\"], [0.2222222222222222, \"#7201a8\"], [0.3333333333333333, \"#9c179e\"], [0.4444444444444444, \"#bd3786\"], [0.5555555555555556, \"#d8576b\"], [0.6666666666666666, \"#ed7953\"], [0.7777777777777778, \"#fb9f3a\"], [0.8888888888888888, \"#fdca26\"], [1.0, \"#f0f921\"]], \"type\": \"surface\"}], \"table\": [{\"cells\": {\"fill\": {\"color\": \"#EBF0F8\"}, \"line\": {\"color\": \"white\"}}, \"header\": {\"fill\": {\"color\": \"#C8D4E3\"}, \"line\": {\"color\": \"white\"}}, \"type\": \"table\"}]}, \"layout\": {\"annotationdefaults\": {\"arrowcolor\": \"#2a3f5f\", \"arrowhead\": 0, \"arrowwidth\": 1}, \"coloraxis\": {\"colorbar\": {\"outlinewidth\": 0, \"ticks\": \"\"}}, \"colorscale\": {\"diverging\": [[0, \"#8e0152\"], [0.1, \"#c51b7d\"], [0.2, \"#de77ae\"], [0.3, \"#f1b6da\"], [0.4, \"#fde0ef\"], [0.5, \"#f7f7f7\"], [0.6, \"#e6f5d0\"], [0.7, \"#b8e186\"], [0.8, \"#7fbc41\"], [0.9, \"#4d9221\"], [1, \"#276419\"]], \"sequential\": [[0.0, \"#0d0887\"], [0.1111111111111111, \"#46039f\"], [0.2222222222222222, \"#7201a8\"], [0.3333333333333333, \"#9c179e\"], [0.4444444444444444, \"#bd3786\"], [0.5555555555555556, \"#d8576b\"], [0.6666666666666666, \"#ed7953\"], [0.7777777777777778, \"#fb9f3a\"], [0.8888888888888888, \"#fdca26\"], [1.0, \"#f0f921\"]], \"sequentialminus\": [[0.0, \"#0d0887\"], [0.1111111111111111, \"#46039f\"], [0.2222222222222222, \"#7201a8\"], [0.3333333333333333, \"#9c179e\"], [0.4444444444444444, \"#bd3786\"], [0.5555555555555556, \"#d8576b\"], [0.6666666666666666, \"#ed7953\"], [0.7777777777777778, \"#fb9f3a\"], [0.8888888888888888, \"#fdca26\"], [1.0, \"#f0f921\"]]}, \"colorway\": [\"#636efa\", \"#EF553B\", \"#00cc96\", \"#ab63fa\", \"#FFA15A\", \"#19d3f3\", \"#FF6692\", \"#B6E880\", \"#FF97FF\", \"#FECB52\"], \"font\": {\"color\": \"#2a3f5f\"}, \"geo\": {\"bgcolor\": \"white\", \"lakecolor\": \"white\", \"landcolor\": \"#E5ECF6\", \"showlakes\": true, \"showland\": true, \"subunitcolor\": \"white\"}, \"hoverlabel\": {\"align\": \"left\"}, \"hovermode\": \"closest\", \"mapbox\": {\"style\": \"light\"}, \"paper_bgcolor\": \"white\", \"plot_bgcolor\": \"#E5ECF6\", \"polar\": {\"angularaxis\": {\"gridcolor\": \"white\", \"linecolor\": \"white\", \"ticks\": \"\"}, \"bgcolor\": \"#E5ECF6\", \"radialaxis\": {\"gridcolor\": \"white\", \"linecolor\": \"white\", \"ticks\": \"\"}}, \"scene\": {\"xaxis\": {\"backgroundcolor\": \"#E5ECF6\", \"gridcolor\": \"white\", \"gridwidth\": 2, \"linecolor\": \"white\", \"showbackground\": true, \"ticks\": \"\", \"zerolinecolor\": \"white\"}, \"yaxis\": {\"backgroundcolor\": \"#E5ECF6\", \"gridcolor\": \"white\", \"gridwidth\": 2, \"linecolor\": \"white\", \"showbackground\": true, \"ticks\": \"\", \"zerolinecolor\": \"white\"}, \"zaxis\": {\"backgroundcolor\": \"#E5ECF6\", \"gridcolor\": \"white\", \"gridwidth\": 2, \"linecolor\": \"white\", \"showbackground\": true, \"ticks\": \"\", \"zerolinecolor\": \"white\"}}, \"shapedefaults\": {\"line\": {\"color\": \"#2a3f5f\"}}, \"ternary\": {\"aaxis\": {\"gridcolor\": \"white\", \"linecolor\": \"white\", \"ticks\": \"\"}, \"baxis\": {\"gridcolor\": \"white\", \"linecolor\": \"white\", \"ticks\": \"\"}, \"bgcolor\": \"#E5ECF6\", \"caxis\": {\"gridcolor\": \"white\", \"linecolor\": \"white\", \"ticks\": \"\"}}, \"title\": {\"x\": 0.05}, \"xaxis\": {\"automargin\": true, \"gridcolor\": \"white\", \"linecolor\": \"white\", \"ticks\": \"\", \"title\": {\"standoff\": 15}, \"zerolinecolor\": \"white\", \"zerolinewidth\": 2}, \"yaxis\": {\"automargin\": true, \"gridcolor\": \"white\", \"linecolor\": \"white\", \"ticks\": \"\", \"title\": {\"standoff\": 15}, \"zerolinecolor\": \"white\", \"zerolinewidth\": 2}}}, \"title\": {\"text\": \"T\\u00c9RMINOS M\\u00c1S COMUNES EN: LA CAMPA\\u00d1A ATENCION AL ACCIONISTA (N-GRAMAS)\"}, \"xaxis\": {\"anchor\": \"y\", \"domain\": [0.0, 1.0], \"title\": {\"text\": \"Palabra Clave\"}}, \"yaxis\": {\"anchor\": \"x\", \"domain\": [0.0, 1.0], \"title\": {\"text\": \"Frecuencia\"}}},\n",
              "                        {\"responsive\": true}\n",
              "                    ).then(function(){\n",
              "                            \n",
              "var gd = document.getElementById('6d1db775-e7e1-403c-9993-d91c0e41ded0');\n",
              "var x = new MutationObserver(function (mutations, observer) {{\n",
              "        var display = window.getComputedStyle(gd).display;\n",
              "        if (!display || display === 'none') {{\n",
              "            console.log([gd, 'removed!']);\n",
              "            Plotly.purge(gd);\n",
              "            observer.disconnect();\n",
              "        }}\n",
              "}});\n",
              "\n",
              "// Listen for the removal of the full notebook cells\n",
              "var notebookContainer = gd.closest('#notebook-container');\n",
              "if (notebookContainer) {{\n",
              "    x.observe(notebookContainer, {childList: true});\n",
              "}}\n",
              "\n",
              "// Listen for the clearing of the current output cell\n",
              "var outputEl = gd.closest('.output');\n",
              "if (outputEl) {{\n",
              "    x.observe(outputEl, {childList: true});\n",
              "}}\n",
              "\n",
              "                        })\n",
              "                };\n",
              "                \n",
              "            </script>\n",
              "        </div>\n",
              "</body>\n",
              "</html>"
            ]
          },
          "metadata": {
            "tags": []
          }
        }
      ]
    },
    {
      "cell_type": "markdown",
      "metadata": {
        "id": "LNkS35K6XiGA"
      },
      "source": [
        "\n",
        "<b><font color=orange size=5>Terminos clave</font></b>"
      ]
    },
    {
      "cell_type": "code",
      "metadata": {
        "id": "nwNxcHRvW1oN",
        "colab": {
          "base_uri": "https://localhost:8080/",
          "height": 542
        },
        "outputId": "e70ce2c5-48f2-41df-ea27-f3e5ef2d31c3"
      },
      "source": [
        "segmento = str.upper(\"LA CAMPAÑA ATENCION AL ACCIONISTA\")\n",
        "# Iniciar el count vectorizer con stop words personalizado en español\n",
        "count_vectorizer = CountVectorizer(stop_words=['unico','llamando','llamada','enero','actual','puesto','llame','hablar','digame','momentico','llamar','gmail','hotmail','yahoo','telefono','informacion','entiendo', 'haciendo','pasado','entrar', 'necesito']+lista_stop_words)\n",
        "# Ajustar y transformar los términos procesados\n",
        "count_data = count_vectorizer.fit_transform(df_accionista['transcripcion'])\n",
        "#Visualizar los términos mas comunes\n",
        "plot_10_most_common_words(count_data, count_vectorizer)"
      ],
      "execution_count": 63,
      "outputs": [
        {
          "output_type": "display_data",
          "data": {
            "text/html": [
              "<html>\n",
              "<head><meta charset=\"utf-8\" /></head>\n",
              "<body>\n",
              "    <div>\n",
              "            <script src=\"https://cdnjs.cloudflare.com/ajax/libs/mathjax/2.7.5/MathJax.js?config=TeX-AMS-MML_SVG\"></script><script type=\"text/javascript\">if (window.MathJax) {MathJax.Hub.Config({SVG: {font: \"STIX-Web\"}});}</script>\n",
              "                <script type=\"text/javascript\">window.PlotlyConfig = {MathJaxConfig: 'local'};</script>\n",
              "        <script src=\"https://cdn.plot.ly/plotly-latest.min.js\"></script>    \n",
              "            <div id=\"0111e58c-188f-482c-a555-7ac103425263\" class=\"plotly-graph-div\" style=\"height:525px; width:100%;\"></div>\n",
              "            <script type=\"text/javascript\">\n",
              "                \n",
              "                    window.PLOTLYENV=window.PLOTLYENV || {};\n",
              "                    \n",
              "                if (document.getElementById(\"0111e58c-188f-482c-a555-7ac103425263\")) {\n",
              "                    Plotly.newPlot(\n",
              "                        '0111e58c-188f-482c-a555-7ac103425263',\n",
              "                        [{\"alignmentgroup\": \"True\", \"hoverlabel\": {\"namelength\": 0}, \"hovertemplate\": \"Palabra Clave=%{x}<br>Frecuencia=%{y}\", \"legendgroup\": \"\", \"marker\": {\"color\": \"darkgreen\"}, \"name\": \"\", \"offsetgroup\": \"\", \"orientation\": \"v\", \"showlegend\": false, \"textposition\": \"auto\", \"type\": \"bar\", \"x\": [\"certificado\", \"bancolombia\", \"declaracion\", \"dividendos\", \"apartamento\", \"celular\", \"control\", \"compre\", \"datos\", \"pregunta\", \"valores\", \"davivienda\", \"idea\", \"internet\", \"producto\", \"electronico\", \"esposa\", \"pagaron\", \"pagina\", \"bolsa\", \"cliente\", \"diseno\", \"encuentro\", \"hizo\", \"hotel\", \"interior\", \"numeros\", \"paquete\", \"perdi\", \"respecto\"], \"xaxis\": \"x\", \"y\": [28.0, 21.0, 21.0, 19.0, 18.0, 13.0, 12.0, 11.0, 11.0, 11.0, 11.0, 9.0, 9.0, 9.0, 9.0, 8.0, 8.0, 8.0, 8.0, 7.0, 7.0, 7.0, 7.0, 7.0, 7.0, 7.0, 7.0, 7.0, 7.0, 7.0], \"yaxis\": \"y\"}],\n",
              "                        {\"barmode\": \"relative\", \"legend\": {\"tracegroupgap\": 0}, \"template\": {\"data\": {\"bar\": [{\"error_x\": {\"color\": \"#2a3f5f\"}, \"error_y\": {\"color\": \"#2a3f5f\"}, \"marker\": {\"line\": {\"color\": \"#E5ECF6\", \"width\": 0.5}}, \"type\": \"bar\"}], \"barpolar\": [{\"marker\": {\"line\": {\"color\": \"#E5ECF6\", \"width\": 0.5}}, \"type\": \"barpolar\"}], \"carpet\": [{\"aaxis\": {\"endlinecolor\": \"#2a3f5f\", \"gridcolor\": \"white\", \"linecolor\": \"white\", \"minorgridcolor\": \"white\", \"startlinecolor\": \"#2a3f5f\"}, \"baxis\": {\"endlinecolor\": \"#2a3f5f\", \"gridcolor\": \"white\", \"linecolor\": \"white\", \"minorgridcolor\": \"white\", \"startlinecolor\": \"#2a3f5f\"}, \"type\": \"carpet\"}], \"choropleth\": [{\"colorbar\": {\"outlinewidth\": 0, \"ticks\": \"\"}, \"type\": \"choropleth\"}], \"contour\": [{\"colorbar\": {\"outlinewidth\": 0, \"ticks\": \"\"}, \"colorscale\": [[0.0, \"#0d0887\"], [0.1111111111111111, \"#46039f\"], [0.2222222222222222, \"#7201a8\"], [0.3333333333333333, \"#9c179e\"], [0.4444444444444444, \"#bd3786\"], [0.5555555555555556, \"#d8576b\"], [0.6666666666666666, \"#ed7953\"], [0.7777777777777778, \"#fb9f3a\"], [0.8888888888888888, \"#fdca26\"], [1.0, \"#f0f921\"]], \"type\": \"contour\"}], \"contourcarpet\": [{\"colorbar\": {\"outlinewidth\": 0, \"ticks\": \"\"}, \"type\": \"contourcarpet\"}], \"heatmap\": [{\"colorbar\": {\"outlinewidth\": 0, \"ticks\": \"\"}, \"colorscale\": [[0.0, \"#0d0887\"], [0.1111111111111111, \"#46039f\"], [0.2222222222222222, \"#7201a8\"], [0.3333333333333333, \"#9c179e\"], [0.4444444444444444, \"#bd3786\"], [0.5555555555555556, \"#d8576b\"], [0.6666666666666666, \"#ed7953\"], [0.7777777777777778, \"#fb9f3a\"], [0.8888888888888888, \"#fdca26\"], [1.0, \"#f0f921\"]], \"type\": \"heatmap\"}], \"heatmapgl\": [{\"colorbar\": {\"outlinewidth\": 0, \"ticks\": \"\"}, \"colorscale\": [[0.0, \"#0d0887\"], [0.1111111111111111, \"#46039f\"], [0.2222222222222222, \"#7201a8\"], [0.3333333333333333, \"#9c179e\"], [0.4444444444444444, \"#bd3786\"], [0.5555555555555556, \"#d8576b\"], [0.6666666666666666, \"#ed7953\"], [0.7777777777777778, \"#fb9f3a\"], [0.8888888888888888, \"#fdca26\"], [1.0, \"#f0f921\"]], \"type\": \"heatmapgl\"}], \"histogram\": [{\"marker\": {\"colorbar\": {\"outlinewidth\": 0, \"ticks\": \"\"}}, \"type\": \"histogram\"}], \"histogram2d\": [{\"colorbar\": {\"outlinewidth\": 0, \"ticks\": \"\"}, \"colorscale\": [[0.0, \"#0d0887\"], [0.1111111111111111, \"#46039f\"], [0.2222222222222222, \"#7201a8\"], [0.3333333333333333, \"#9c179e\"], [0.4444444444444444, \"#bd3786\"], [0.5555555555555556, \"#d8576b\"], [0.6666666666666666, \"#ed7953\"], [0.7777777777777778, \"#fb9f3a\"], [0.8888888888888888, \"#fdca26\"], [1.0, \"#f0f921\"]], \"type\": \"histogram2d\"}], \"histogram2dcontour\": [{\"colorbar\": {\"outlinewidth\": 0, \"ticks\": \"\"}, \"colorscale\": [[0.0, \"#0d0887\"], [0.1111111111111111, \"#46039f\"], [0.2222222222222222, \"#7201a8\"], [0.3333333333333333, \"#9c179e\"], [0.4444444444444444, \"#bd3786\"], [0.5555555555555556, \"#d8576b\"], [0.6666666666666666, \"#ed7953\"], [0.7777777777777778, \"#fb9f3a\"], [0.8888888888888888, \"#fdca26\"], [1.0, \"#f0f921\"]], \"type\": \"histogram2dcontour\"}], \"mesh3d\": [{\"colorbar\": {\"outlinewidth\": 0, \"ticks\": \"\"}, \"type\": \"mesh3d\"}], \"parcoords\": [{\"line\": {\"colorbar\": {\"outlinewidth\": 0, \"ticks\": \"\"}}, \"type\": \"parcoords\"}], \"pie\": [{\"automargin\": true, \"type\": \"pie\"}], \"scatter\": [{\"marker\": {\"colorbar\": {\"outlinewidth\": 0, \"ticks\": \"\"}}, \"type\": \"scatter\"}], \"scatter3d\": [{\"line\": {\"colorbar\": {\"outlinewidth\": 0, \"ticks\": \"\"}}, \"marker\": {\"colorbar\": {\"outlinewidth\": 0, \"ticks\": \"\"}}, \"type\": \"scatter3d\"}], \"scattercarpet\": [{\"marker\": {\"colorbar\": {\"outlinewidth\": 0, \"ticks\": \"\"}}, \"type\": \"scattercarpet\"}], \"scattergeo\": [{\"marker\": {\"colorbar\": {\"outlinewidth\": 0, \"ticks\": \"\"}}, \"type\": \"scattergeo\"}], \"scattergl\": [{\"marker\": {\"colorbar\": {\"outlinewidth\": 0, \"ticks\": \"\"}}, \"type\": \"scattergl\"}], \"scattermapbox\": [{\"marker\": {\"colorbar\": {\"outlinewidth\": 0, \"ticks\": \"\"}}, \"type\": \"scattermapbox\"}], \"scatterpolar\": [{\"marker\": {\"colorbar\": {\"outlinewidth\": 0, \"ticks\": \"\"}}, \"type\": \"scatterpolar\"}], \"scatterpolargl\": [{\"marker\": {\"colorbar\": {\"outlinewidth\": 0, \"ticks\": \"\"}}, \"type\": \"scatterpolargl\"}], \"scatterternary\": [{\"marker\": {\"colorbar\": {\"outlinewidth\": 0, \"ticks\": \"\"}}, \"type\": \"scatterternary\"}], \"surface\": [{\"colorbar\": {\"outlinewidth\": 0, \"ticks\": \"\"}, \"colorscale\": [[0.0, \"#0d0887\"], [0.1111111111111111, \"#46039f\"], [0.2222222222222222, \"#7201a8\"], [0.3333333333333333, \"#9c179e\"], [0.4444444444444444, \"#bd3786\"], [0.5555555555555556, \"#d8576b\"], [0.6666666666666666, \"#ed7953\"], [0.7777777777777778, \"#fb9f3a\"], [0.8888888888888888, \"#fdca26\"], [1.0, \"#f0f921\"]], \"type\": \"surface\"}], \"table\": [{\"cells\": {\"fill\": {\"color\": \"#EBF0F8\"}, \"line\": {\"color\": \"white\"}}, \"header\": {\"fill\": {\"color\": \"#C8D4E3\"}, \"line\": {\"color\": \"white\"}}, \"type\": \"table\"}]}, \"layout\": {\"annotationdefaults\": {\"arrowcolor\": \"#2a3f5f\", \"arrowhead\": 0, \"arrowwidth\": 1}, \"coloraxis\": {\"colorbar\": {\"outlinewidth\": 0, \"ticks\": \"\"}}, \"colorscale\": {\"diverging\": [[0, \"#8e0152\"], [0.1, \"#c51b7d\"], [0.2, \"#de77ae\"], [0.3, \"#f1b6da\"], [0.4, \"#fde0ef\"], [0.5, \"#f7f7f7\"], [0.6, \"#e6f5d0\"], [0.7, \"#b8e186\"], [0.8, \"#7fbc41\"], [0.9, \"#4d9221\"], [1, \"#276419\"]], \"sequential\": [[0.0, \"#0d0887\"], [0.1111111111111111, \"#46039f\"], [0.2222222222222222, \"#7201a8\"], [0.3333333333333333, \"#9c179e\"], [0.4444444444444444, \"#bd3786\"], [0.5555555555555556, \"#d8576b\"], [0.6666666666666666, \"#ed7953\"], [0.7777777777777778, \"#fb9f3a\"], [0.8888888888888888, \"#fdca26\"], [1.0, \"#f0f921\"]], \"sequentialminus\": [[0.0, \"#0d0887\"], [0.1111111111111111, \"#46039f\"], [0.2222222222222222, \"#7201a8\"], [0.3333333333333333, \"#9c179e\"], [0.4444444444444444, \"#bd3786\"], [0.5555555555555556, \"#d8576b\"], [0.6666666666666666, \"#ed7953\"], [0.7777777777777778, \"#fb9f3a\"], [0.8888888888888888, \"#fdca26\"], [1.0, \"#f0f921\"]]}, \"colorway\": [\"#636efa\", \"#EF553B\", \"#00cc96\", \"#ab63fa\", \"#FFA15A\", \"#19d3f3\", \"#FF6692\", \"#B6E880\", \"#FF97FF\", \"#FECB52\"], \"font\": {\"color\": \"#2a3f5f\"}, \"geo\": {\"bgcolor\": \"white\", \"lakecolor\": \"white\", \"landcolor\": \"#E5ECF6\", \"showlakes\": true, \"showland\": true, \"subunitcolor\": \"white\"}, \"hoverlabel\": {\"align\": \"left\"}, \"hovermode\": \"closest\", \"mapbox\": {\"style\": \"light\"}, \"paper_bgcolor\": \"white\", \"plot_bgcolor\": \"#E5ECF6\", \"polar\": {\"angularaxis\": {\"gridcolor\": \"white\", \"linecolor\": \"white\", \"ticks\": \"\"}, \"bgcolor\": \"#E5ECF6\", \"radialaxis\": {\"gridcolor\": \"white\", \"linecolor\": \"white\", \"ticks\": \"\"}}, \"scene\": {\"xaxis\": {\"backgroundcolor\": \"#E5ECF6\", \"gridcolor\": \"white\", \"gridwidth\": 2, \"linecolor\": \"white\", \"showbackground\": true, \"ticks\": \"\", \"zerolinecolor\": \"white\"}, \"yaxis\": {\"backgroundcolor\": \"#E5ECF6\", \"gridcolor\": \"white\", \"gridwidth\": 2, \"linecolor\": \"white\", \"showbackground\": true, \"ticks\": \"\", \"zerolinecolor\": \"white\"}, \"zaxis\": {\"backgroundcolor\": \"#E5ECF6\", \"gridcolor\": \"white\", \"gridwidth\": 2, \"linecolor\": \"white\", \"showbackground\": true, \"ticks\": \"\", \"zerolinecolor\": \"white\"}}, \"shapedefaults\": {\"line\": {\"color\": \"#2a3f5f\"}}, \"ternary\": {\"aaxis\": {\"gridcolor\": \"white\", \"linecolor\": \"white\", \"ticks\": \"\"}, \"baxis\": {\"gridcolor\": \"white\", \"linecolor\": \"white\", \"ticks\": \"\"}, \"bgcolor\": \"#E5ECF6\", \"caxis\": {\"gridcolor\": \"white\", \"linecolor\": \"white\", \"ticks\": \"\"}}, \"title\": {\"x\": 0.05}, \"xaxis\": {\"automargin\": true, \"gridcolor\": \"white\", \"linecolor\": \"white\", \"ticks\": \"\", \"title\": {\"standoff\": 15}, \"zerolinecolor\": \"white\", \"zerolinewidth\": 2}, \"yaxis\": {\"automargin\": true, \"gridcolor\": \"white\", \"linecolor\": \"white\", \"ticks\": \"\", \"title\": {\"standoff\": 15}, \"zerolinecolor\": \"white\", \"zerolinewidth\": 2}}}, \"title\": {\"text\": \"T\\u00c9RMINOS M\\u00c1S COMUNES EN: LA CAMPA\\u00d1A ATENCION AL ACCIONISTA\"}, \"xaxis\": {\"anchor\": \"y\", \"domain\": [0.0, 1.0], \"title\": {\"text\": \"Palabra Clave\"}}, \"yaxis\": {\"anchor\": \"x\", \"domain\": [0.0, 1.0], \"title\": {\"text\": \"Frecuencia\"}}},\n",
              "                        {\"responsive\": true}\n",
              "                    ).then(function(){\n",
              "                            \n",
              "var gd = document.getElementById('0111e58c-188f-482c-a555-7ac103425263');\n",
              "var x = new MutationObserver(function (mutations, observer) {{\n",
              "        var display = window.getComputedStyle(gd).display;\n",
              "        if (!display || display === 'none') {{\n",
              "            console.log([gd, 'removed!']);\n",
              "            Plotly.purge(gd);\n",
              "            observer.disconnect();\n",
              "        }}\n",
              "}});\n",
              "\n",
              "// Listen for the removal of the full notebook cells\n",
              "var notebookContainer = gd.closest('#notebook-container');\n",
              "if (notebookContainer) {{\n",
              "    x.observe(notebookContainer, {childList: true});\n",
              "}}\n",
              "\n",
              "// Listen for the clearing of the current output cell\n",
              "var outputEl = gd.closest('.output');\n",
              "if (outputEl) {{\n",
              "    x.observe(outputEl, {childList: true});\n",
              "}}\n",
              "\n",
              "                        })\n",
              "                };\n",
              "                \n",
              "            </script>\n",
              "        </div>\n",
              "</body>\n",
              "</html>"
            ]
          },
          "metadata": {
            "tags": []
          }
        }
      ]
    },
    {
      "cell_type": "markdown",
      "metadata": {
        "id": "Lv8u3UStXxqp"
      },
      "source": [
        "\n",
        "<b><font color=orange size=5>Modelado de topicos</font></b>"
      ]
    },
    {
      "cell_type": "code",
      "metadata": {
        "id": "_tKWQJkFXfXD"
      },
      "source": [
        "segmento = \"Campaña_Aaccionista\""
      ],
      "execution_count": 64,
      "outputs": []
    },
    {
      "cell_type": "code",
      "metadata": {
        "id": "uTJZ6D2eX8ze"
      },
      "source": [
        "dw = list(sent_to_words(df_accionista[['transcripcion']]['transcripcion']))"
      ],
      "execution_count": 65,
      "outputs": []
    },
    {
      "cell_type": "code",
      "metadata": {
        "id": "Nwv_XzqmYFMh",
        "cellView": "form",
        "colab": {
          "base_uri": "https://localhost:8080/"
        },
        "outputId": "770dcde9-fb7b-42ed-d452-9f3257ab7dc5"
      },
      "source": [
        "#@title Creación del Corpus\n",
        "%%time\n",
        "\n",
        "nlp = spacy.load('es_core_news_md')\n",
        "\n",
        "#Oraciones a lista de palabras, remocion de puntuacion y caracteres innecesarios\n",
        "def sent_to_words(sentences):\n",
        "    for sentence in sentences:\n",
        "        yield(gensim.utils.simple_preprocess(str(sentence), deacc=True))  # deacc=True remueve puctuacion\n",
        "\n",
        "def remove_stopwords(texts):\n",
        "    return [[word for word in simple_preprocess(str(doc)) if word not in swseg] for doc in texts]\n",
        "\n",
        "def make_bigrams(texts):\n",
        "    return [bigram_mod[doc] for doc in texts]\n",
        "\n",
        "def make_trigrams(texts):\n",
        "    return [trigram_mod[bigram_mod[doc]] for doc in texts]\n",
        "\n",
        "def lemmatization(texts, allowed_postags=['NOUN', 'ADJ', 'VERB', 'ADV']):\n",
        "    texts_out = []\n",
        "    for sent in texts:\n",
        "        doc = nlp(\" \".join(sent)) \n",
        "        texts_out.append([token.lemma_ for token in doc if token.pos_ in allowed_postags])\n",
        "    return texts_out\n",
        "\n",
        "#CREACION DEL CORPUS Y FACTORIZACION DE TERMINOS\n",
        "#Analizando los mensajes del usuario en general\n",
        "data=df_accionista['transcripcion'].tolist()\n",
        "\n",
        "data_words = list(sent_to_words(data))# Se crea una lista de listas\n",
        "\n",
        "#BRIGRAMAS\n",
        "# Build the bigram and trigram models\n",
        "bigram = gensim.models.Phrases(data_words, min_count=5, threshold=100) # Umbral superior de pocas frases.\n",
        "trigram = gensim.models.Phrases(bigram[data_words], threshold=100)  \n",
        "\n",
        "bigram_mod = gensim.models.phrases.Phraser(gensim.models.Phrases(dw, min_count=5, threshold=100))\n",
        "trigram_mod = gensim.models.phrases.Phraser(gensim.models.Phrases(bigram[dw], threshold=100))\n",
        "\n",
        "def remove_stopwords(texts):\n",
        "    return [[word for word in simple_preprocess(str(doc)) if word not in lista_stop_words] for doc in texts]\n",
        "\n",
        "def make_bigrams(texts):\n",
        "    return [bigram_mod[doc] for doc in texts]\n",
        "\n",
        "def make_trigrams(texts):\n",
        "    return [trigram_mod[bigram_mod[doc]] for doc in texts]\n",
        "\n",
        "def lemmatization(texts, allowed_postags=['NOUN', 'ADJ', 'VERB', 'ADV']):\n",
        "    texts_out = []\n",
        "    for sent in texts:\n",
        "        doc = nlp(\" \".join(sent)) \n",
        "        texts_out.append([token.lemma_ for token in doc if token.pos_ in allowed_postags])\n",
        "    return texts_out\n",
        "\n",
        "#Definicion de segmento a analizar\n",
        "dw = list(sent_to_words(df_accionista[['transcripcion']]['transcripcion']))\n",
        "data_words_bigrams = make_bigrams(remove_stopwords(dw))\n",
        "data_lemmatized = lemmatization(data_words_bigrams, allowed_postags=['NOUN', 'ADJ', 'VERB', 'ADV'])\n",
        "id2word = corpora.Dictionary(data_lemmatized)\n",
        "texts = data_lemmatized\n",
        "corpus = [id2word.doc2bow(text) for text in texts]"
      ],
      "execution_count": 66,
      "outputs": [
        {
          "output_type": "stream",
          "text": [
            "CPU times: user 31.2 s, sys: 531 ms, total: 31.8 s\n",
            "Wall time: 31.8 s\n"
          ],
          "name": "stdout"
        }
      ]
    },
    {
      "cell_type": "code",
      "metadata": {
        "id": "hMKwEghJYNRz",
        "cellView": "form",
        "colab": {
          "base_uri": "https://localhost:8080/"
        },
        "outputId": "95047381-0683-4c96-cc1f-09b5f7b3e925"
      },
      "source": [
        "#@title Optimización del Modelo\n",
        "#Definicion del segmento persistente\n",
        "\n",
        "\n",
        "#Funcion de soporte\n",
        "def compute_coherence_values(corpus, dictionary, k, a, b):\n",
        "    \n",
        "    lda_model = gensim.models.LdaMulticore(corpus=corpus,\n",
        "                                           id2word=id2word,\n",
        "                                           num_topics=10, \n",
        "                                           random_state=100,\n",
        "                                           chunksize=100,\n",
        "                                           passes=10,\n",
        "                                           alpha=a,\n",
        "                                           eta=b,\n",
        "                                           per_word_topics=True)\n",
        "    \n",
        "    coherence_model_lda = CoherenceModel(model=lda_model, texts=data_lemmatized, dictionary=id2word, coherence='c_v')\n",
        "    \n",
        "    return coherence_model_lda.get_coherence()\n",
        "\n",
        "grid = {}\n",
        "grid['Validation_Set'] = {}\n",
        "\n",
        "#Rango de topicos\n",
        "min_topics = 2\n",
        "# max_topics = 11\n",
        "max_topics = 5\n",
        "step_size = 1\n",
        "topics_range = range(min_topics, max_topics, step_size)\n",
        "\n",
        "#Parametro Alpha\n",
        "alpha = list(np.arange(0.01, 1, 0.3))\n",
        "alpha.append('symmetric')\n",
        "alpha.append('asymmetric')\n",
        "\n",
        "#Parametro Beta\n",
        "beta = list(np.arange(0.01, 1, 0.3))\n",
        "beta.append('symmetric')\n",
        "\n",
        "#Conjuntos de validacion\n",
        "num_of_docs = len(corpus)\n",
        "corpus_sets = [corpus]\n",
        "\n",
        "corpus_title = ['100% Corpus']\n",
        "\n",
        "model_results = {'Validation_Set': [],\n",
        "                 'Topics': [],\n",
        "                 'Alpha': [],\n",
        "                 'Beta': [],\n",
        "                 'Coherence': []\n",
        "                }\n",
        "\n",
        "#Intensivo en tiempo (Promedio de tiempo: 2 Horas)\n",
        "\n",
        "if 1 == 1:\n",
        "    pbar = tqdm.tqdm(total=540)\n",
        "    \n",
        "    for i in range(len(corpus_sets)):\n",
        "        for k in topics_range:\n",
        "            for a in alpha:\n",
        "                for b in beta:\n",
        "                    cv = compute_coherence_values(corpus=corpus_sets[i], dictionary=id2word, \n",
        "                                                  k=k, a=a, b=b)\n",
        "\n",
        "                    model_results['Validation_Set'].append(corpus_title[i])\n",
        "                    model_results['Topics'].append(k)\n",
        "                    model_results['Alpha'].append(a)\n",
        "                    model_results['Beta'].append(b)\n",
        "                    model_results['Coherence'].append(cv)\n",
        "                    \n",
        "                    pbar.update(1)\n",
        "    pd.DataFrame(model_results).to_csv(segmento+'.csv', index=False)\n",
        "    pbar.close()\n",
        "\n",
        "#Persistencia de hiperparámetros\n",
        "model_results_tabc = pd.DataFrame(model_results)\n",
        "model_results_tabc.to_csv(segmento + '_model.csv')\n",
        "print(\"**\", len(model_results_tabc), segmento, \"\\n\")\n",
        "model_results_tabc.head()\n",
        "\n",
        "#Mejor Modelo\n",
        "model_results_tabc = pd.read_csv(segmento + '_model.csv')\n",
        "best_model = model_results_tabc[model_results_tabc.Coherence == model_results_tabc.Coherence.max()][:1]\n",
        "#display(best_model.head())\n",
        "\n",
        "#Hiperparámetros del mejor modelo\n",
        "Topics = int(best_model.Topics.item())\n",
        "Alpha = float(best_model.Alpha.item())\n",
        "Beta = float(best_model.Beta.item())\n",
        "\n",
        "print(\"HIPERPARÁMETROS DEL MODELO OPTIMIZADO:\")\n",
        "print('\\nNumero de Tópicos:', Topics)\n",
        "print('Parámetro Alfa:', Alpha)\n",
        "print('Parámetro Beta:', Beta)\n"
      ],
      "execution_count": 67,
      "outputs": [
        {
          "output_type": "stream",
          "text": [
            " 17%|█▋        | 90/540 [02:05<10:25,  1.39s/it]\n"
          ],
          "name": "stderr"
        },
        {
          "output_type": "stream",
          "text": [
            "** 90 Campaña_Aaccionista \n",
            "\n",
            "HIPERPARÁMETROS DEL MODELO OPTIMIZADO:\n",
            "\n",
            "Numero de Tópicos: 2\n",
            "Parámetro Alfa: 0.9099999999999999\n",
            "Parámetro Beta: 0.9099999999999999\n"
          ],
          "name": "stdout"
        }
      ]
    },
    {
      "cell_type": "code",
      "metadata": {
        "id": "Ks31-0NYYS8T",
        "colab": {
          "base_uri": "https://localhost:8080/",
          "height": 424
        },
        "outputId": "75ec7170-1449-45ec-b606-dd90e07b063b"
      },
      "source": [
        "model_results_tabc.sort_values(by='Coherence', ascending=False)"
      ],
      "execution_count": 68,
      "outputs": [
        {
          "output_type": "execute_result",
          "data": {
            "text/html": [
              "<div>\n",
              "<style scoped>\n",
              "    .dataframe tbody tr th:only-of-type {\n",
              "        vertical-align: middle;\n",
              "    }\n",
              "\n",
              "    .dataframe tbody tr th {\n",
              "        vertical-align: top;\n",
              "    }\n",
              "\n",
              "    .dataframe thead th {\n",
              "        text-align: right;\n",
              "    }\n",
              "</style>\n",
              "<table border=\"1\" class=\"dataframe\">\n",
              "  <thead>\n",
              "    <tr style=\"text-align: right;\">\n",
              "      <th></th>\n",
              "      <th>Unnamed: 0</th>\n",
              "      <th>Validation_Set</th>\n",
              "      <th>Topics</th>\n",
              "      <th>Alpha</th>\n",
              "      <th>Beta</th>\n",
              "      <th>Coherence</th>\n",
              "    </tr>\n",
              "  </thead>\n",
              "  <tbody>\n",
              "    <tr>\n",
              "      <th>48</th>\n",
              "      <td>48</td>\n",
              "      <td>100% Corpus</td>\n",
              "      <td>3</td>\n",
              "      <td>0.9099999999999999</td>\n",
              "      <td>0.9099999999999999</td>\n",
              "      <td>0.622858</td>\n",
              "    </tr>\n",
              "    <tr>\n",
              "      <th>78</th>\n",
              "      <td>78</td>\n",
              "      <td>100% Corpus</td>\n",
              "      <td>4</td>\n",
              "      <td>0.9099999999999999</td>\n",
              "      <td>0.9099999999999999</td>\n",
              "      <td>0.622858</td>\n",
              "    </tr>\n",
              "    <tr>\n",
              "      <th>18</th>\n",
              "      <td>18</td>\n",
              "      <td>100% Corpus</td>\n",
              "      <td>2</td>\n",
              "      <td>0.9099999999999999</td>\n",
              "      <td>0.9099999999999999</td>\n",
              "      <td>0.622858</td>\n",
              "    </tr>\n",
              "    <tr>\n",
              "      <th>17</th>\n",
              "      <td>17</td>\n",
              "      <td>100% Corpus</td>\n",
              "      <td>2</td>\n",
              "      <td>0.9099999999999999</td>\n",
              "      <td>0.61</td>\n",
              "      <td>0.516257</td>\n",
              "    </tr>\n",
              "    <tr>\n",
              "      <th>47</th>\n",
              "      <td>47</td>\n",
              "      <td>100% Corpus</td>\n",
              "      <td>3</td>\n",
              "      <td>0.9099999999999999</td>\n",
              "      <td>0.61</td>\n",
              "      <td>0.516257</td>\n",
              "    </tr>\n",
              "    <tr>\n",
              "      <th>...</th>\n",
              "      <td>...</td>\n",
              "      <td>...</td>\n",
              "      <td>...</td>\n",
              "      <td>...</td>\n",
              "      <td>...</td>\n",
              "      <td>...</td>\n",
              "    </tr>\n",
              "    <tr>\n",
              "      <th>2</th>\n",
              "      <td>2</td>\n",
              "      <td>100% Corpus</td>\n",
              "      <td>2</td>\n",
              "      <td>0.01</td>\n",
              "      <td>0.61</td>\n",
              "      <td>0.401819</td>\n",
              "    </tr>\n",
              "    <tr>\n",
              "      <th>62</th>\n",
              "      <td>62</td>\n",
              "      <td>100% Corpus</td>\n",
              "      <td>4</td>\n",
              "      <td>0.01</td>\n",
              "      <td>0.61</td>\n",
              "      <td>0.401819</td>\n",
              "    </tr>\n",
              "    <tr>\n",
              "      <th>83</th>\n",
              "      <td>83</td>\n",
              "      <td>100% Corpus</td>\n",
              "      <td>4</td>\n",
              "      <td>symmetric</td>\n",
              "      <td>0.9099999999999999</td>\n",
              "      <td>0.398198</td>\n",
              "    </tr>\n",
              "    <tr>\n",
              "      <th>23</th>\n",
              "      <td>23</td>\n",
              "      <td>100% Corpus</td>\n",
              "      <td>2</td>\n",
              "      <td>symmetric</td>\n",
              "      <td>0.9099999999999999</td>\n",
              "      <td>0.398198</td>\n",
              "    </tr>\n",
              "    <tr>\n",
              "      <th>53</th>\n",
              "      <td>53</td>\n",
              "      <td>100% Corpus</td>\n",
              "      <td>3</td>\n",
              "      <td>symmetric</td>\n",
              "      <td>0.9099999999999999</td>\n",
              "      <td>0.398198</td>\n",
              "    </tr>\n",
              "  </tbody>\n",
              "</table>\n",
              "<p>90 rows × 6 columns</p>\n",
              "</div>"
            ],
            "text/plain": [
              "    Unnamed: 0 Validation_Set  ...                Beta Coherence\n",
              "48  48          100% Corpus    ...  0.9099999999999999  0.622858\n",
              "78  78          100% Corpus    ...  0.9099999999999999  0.622858\n",
              "18  18          100% Corpus    ...  0.9099999999999999  0.622858\n",
              "17  17          100% Corpus    ...  0.61                0.516257\n",
              "47  47          100% Corpus    ...  0.61                0.516257\n",
              "..  ..                  ...    ...   ...                     ...\n",
              "2   2           100% Corpus    ...  0.61                0.401819\n",
              "62  62          100% Corpus    ...  0.61                0.401819\n",
              "83  83          100% Corpus    ...  0.9099999999999999  0.398198\n",
              "23  23          100% Corpus    ...  0.9099999999999999  0.398198\n",
              "53  53          100% Corpus    ...  0.9099999999999999  0.398198\n",
              "\n",
              "[90 rows x 6 columns]"
            ]
          },
          "metadata": {
            "tags": []
          },
          "execution_count": 68
        }
      ]
    },
    {
      "cell_type": "code",
      "metadata": {
        "id": "_CL_yXxPZvqx",
        "cellView": "form",
        "colab": {
          "base_uri": "https://localhost:8080/",
          "height": 1000
        },
        "outputId": "d4b9d474-379c-4d43-a156-cdbe35884069"
      },
      "source": [
        "#@title Modelo LDA Optimizado \n",
        "%%time\n",
        "#Visualización del modelo\n",
        "pyLDAvis.enable_notebook()\n",
        "\n",
        "lda_model = gensim.models.ldamodel.LdaModel(corpus=corpus,\n",
        "                                           id2word=id2word,\n",
        "                                           num_topics=2, \n",
        "                                           random_state=100,\n",
        "                                           update_every=1,\n",
        "                                           chunksize=100,\n",
        "                                           passes=10,\n",
        "                                           alpha=0.61,\n",
        "                                           eta=0.9099999999999999,                                        \n",
        "                                           per_word_topics=True)\n",
        "\n",
        "#Visualizacion de los tópicos generados en el modelo LDA\n",
        "pprint(lda_model.print_topics())\n",
        "doc_lda = lda_model[corpus]\n",
        "\n",
        "#Prerrequisitos minimos para la representacion grafica del modelado de topicos\n",
        "d = id2word\n",
        "c = corpus\n",
        "lda = lda_model\n",
        "\n",
        "#Parametros de visualizacion\n",
        "data = pyLDAvis.gensim.prepare(lda, c, d)\n",
        "\n",
        "#Persistencia de resultados de modelado de tópicos\n",
        "pyLDAvis.save_html(data, 'vis_' + segmento + '.html')\n",
        "print('\\n\\n')\n",
        "#Visualizacion\n",
        "display(data)"
      ],
      "execution_count": 69,
      "outputs": [
        {
          "output_type": "stream",
          "text": [
            "[(0,\n",
            "  '0.010*\"llamar\" + 0.006*\"encontrar\" + 0.006*\"hacer\" + 0.004*\"pagar\" + '\n",
            "  '0.004*\"producto\" + 0.004*\"recibir\" + 0.004*\"dividendo\" + 0.004*\"esposo\" + '\n",
            "  '0.004*\"venir\" + 0.004*\"decir\"'),\n",
            " (1,\n",
            "  '0.013*\"certificar\" + 0.011*\"comprar\" + 0.007*\"declaracion\" + '\n",
            "  '0.006*\"necesitar\" + 0.006*\"entrar\" + 0.005*\"pedir\" + 0.005*\"llegar\" + '\n",
            "  '0.005*\"cliente\" + 0.004*\"hacer\" + 0.004*\"paquete\"')]\n",
            "\n",
            "\n",
            "\n"
          ],
          "name": "stdout"
        },
        {
          "output_type": "display_data",
          "data": {
            "text/html": [
              "\n",
              "<link rel=\"stylesheet\" type=\"text/css\" href=\"https://cdn.rawgit.com/bmabey/pyLDAvis/files/ldavis.v1.0.0.css\">\n",
              "\n",
              "\n",
              "<div id=\"ldavis_el581406581715205925425027069\"></div>\n",
              "<script type=\"text/javascript\">\n",
              "\n",
              "var ldavis_el581406581715205925425027069_data = {\"mdsDat\": {\"x\": [0.03691011667251586, -0.03691011667251586], \"y\": [0.0, 0.0], \"topics\": [1, 2], \"cluster\": [1, 1], \"Freq\": [52.56598106695809, 47.43401893304192]}, \"tinfo\": {\"Term\": [\"llamar\", \"certificar\", \"mandar\", \"indicar\", \"comprar\", \"citar\", \"consignar\", \"agrario\", \"esposo\", \"necesitar\", \"formulario\", \"pagar\", \"recibir\", \"paquete\", \"pedir\", \"radicar\", \"pandemia\", \"comer\", \"acto\", \"aceptar\", \"descargar\", \"notario\", \"producto\", \"encontrar\", \"declaracion\", \"accionista\", \"comisionista\", \"interior\", \"consultar\", \"tratar\", \"formulario\", \"acto\", \"aceptar\", \"descargar\", \"accionista\", \"comisionista\", \"interior\", \"consultar\", \"tratar\", \"paquete\", \"medio\", \"canci\\u00f3n\", \"fijar\", \"crecer\", \"tributario\", \"crimen\", \"creer\", \"aumentar\", \"minimo\", \"ciudad\", \"evitar\", \"documento\", \"parar\", \"certificar\", \"pedir\", \"necesitar\", \"apellidar\", \"cuartar\", \"bolsa\", \"solicitud\", \"comprar\", \"bajar\", \"declaracion\", \"cliente\", \"cambiar\", \"llegar\", \"entrar\", \"escuchar\", \"comentar\", \"control\", \"cargar\", \"pasar\", \"quedar\", \"vestir\", \"completar\", \"presentar\", \"interesar\", \"preguntar\", \"perder\", \"poner\", \"hacer\", \"decir\", \"dividendo\", \"venir\", \"valorar\", \"apartamento\", \"encontrar\", \"mandar\", \"indicar\", \"citar\", \"consignar\", \"agrario\", \"radicar\", \"pandemia\", \"comer\", \"notario\", \"llamar\", \"esposo\", \"buscar\", \"importante\", \"antiguar\", \"rendimiento\", \"cantidad\", \"destacar\", \"importar\", \"retirar\", \"traspasar\", \"internar\", \"pagar\", \"entender\", \"desaparecer\", \"contener\", \"capital\", \"escribir\", \"unicamente\", \"pantalla\", \"danado\", \"recibir\", \"ejemplo\", \"ayudar\", \"vivir\", \"existir\", \"producto\", \"unica\", \"encontrar\", \"ideo\", \"hacer\", \"dato\", \"dividendo\", \"hablar\", \"venir\", \"esperar\", \"decir\", \"poner\", \"permitir\", \"preguntar\", \"entrar\", \"apartamento\", \"comprar\", \"certificar\", \"declaracion\", \"manejar\"], \"Freq\": [12.0, 18.0, 4.0, 4.0, 15.0, 3.0, 3.0, 4.0, 4.0, 9.0, 4.0, 5.0, 5.0, 5.0, 6.0, 2.0, 2.0, 2.0, 3.0, 3.0, 3.0, 2.0, 6.0, 9.0, 10.0, 3.0, 3.0, 3.0, 3.0, 3.0, 3.588250629587813, 3.072489690727906, 3.0709912784964266, 3.070547761065404, 2.555019990151197, 2.553350570607461, 2.54975154861545, 2.5495983764216494, 2.5475772378507098, 4.649252908991202, 2.0348258440897187, 2.0337567861069585, 2.03333962793189, 2.0331947175944327, 2.0328062792057016, 2.031886983761743, 2.031500643622242, 2.0313487828342103, 2.030849792939166, 2.03078815686803, 2.0302680533401074, 2.0280056161077007, 2.0103300957335133, 14.884429248244595, 5.317491258875556, 7.2202355924419015, 1.515914252870168, 1.5157115095383047, 1.5156707248188939, 1.5156480374990928, 12.201233245090215, 3.890567427792103, 7.40392000198518, 5.124381513790453, 4.64468082391871, 5.197818138596392, 6.217856822841915, 3.601469075175436, 3.5942316890183488, 3.5890487511387303, 2.6159235100243095, 3.146038309586503, 3.0974328907324398, 3.090794817011714, 3.077619385533309, 2.575172887163304, 2.5657323393145623, 4.268099117024882, 3.591794572537532, 4.153625982900331, 4.776934522019532, 4.0937458840892225, 3.717180176345774, 3.5361534617336305, 3.040825798439209, 3.176160513253349, 3.171829989123478, 3.950452279267189, 3.9498447347548793, 3.4495333672549564, 3.44898025797359, 3.734659663412331, 2.4525608695022276, 2.45012737800415, 2.447156634444154, 2.4305238312920014, 10.300338536035381, 4.030751818505753, 1.9537658781964489, 1.9535125176976458, 1.9532641273721028, 1.952908641646552, 1.9527629682350496, 1.9522731694940194, 1.9521761327779903, 1.949898728387769, 1.933826134764497, 1.454613152753406, 4.500646672353955, 1.4543841697710689, 1.4543626323536087, 1.4543345863759272, 1.454280979507194, 1.454261335489071, 1.4541453647796703, 1.453877448773463, 1.4538303504649512, 4.457826972994368, 2.1673870016865076, 2.5088163672331825, 2.1612663516542376, 2.50362750634971, 4.479401311741577, 2.4864685748567457, 5.875065724544384, 3.667958991563045, 5.836792076993304, 3.9574356093724496, 4.351194509124489, 3.493751105350116, 4.024415557623966, 3.025518182770102, 3.990021485314716, 3.93258923989572, 2.4817701044015963, 3.3223887616660126, 3.4539561114316326, 2.868473724873563, 3.7200376503562365, 3.648550701657541, 2.8167815562200684, 2.484362404769078], \"Total\": [12.0, 18.0, 4.0, 4.0, 15.0, 3.0, 3.0, 4.0, 4.0, 9.0, 4.0, 5.0, 5.0, 5.0, 6.0, 2.0, 2.0, 2.0, 3.0, 3.0, 3.0, 2.0, 6.0, 9.0, 10.0, 3.0, 3.0, 3.0, 3.0, 3.0, 4.059853329638128, 3.5383646506927753, 3.5383033877269257, 3.5382851455376465, 3.0168058584038344, 3.0167375742589444, 3.0165903080116605, 3.016584229278865, 3.0165015470324312, 5.604442935208728, 2.495135630052856, 2.4950918182268005, 2.495074788583529, 2.4950689839286233, 2.495053131028207, 2.495015420066246, 2.4949997720157224, 2.4949935254704636, 2.4949730626735205, 2.4949707432534938, 2.4949493137759946, 2.494856800937061, 2.4941344232153813, 18.532979949902135, 6.632571294177016, 9.21238114855231, 1.9735180161681356, 1.9735096716963416, 1.973507908753895, 1.9735070842795652, 15.921270895446451, 5.073024069847644, 10.22070155820525, 7.125083814855298, 6.605068511284482, 7.6284915484360285, 9.671812934273547, 5.061206476559934, 5.060910884060149, 5.060699184477689, 3.5197017090276983, 4.5421836458209475, 4.540196677084097, 4.539925631984389, 4.53938710269453, 3.5180357594900964, 3.517650038958921, 7.590487878690894, 6.061623717344445, 8.086215222796051, 10.613726599012836, 8.083767369403938, 8.068374685470262, 7.5605690193575965, 5.038289203262934, 6.044634238126912, 9.046895713667862, 4.433322833593089, 4.433348698067131, 3.932937827654497, 3.932961704126277, 4.442519056798698, 2.9319615097340597, 2.932065588398692, 2.932192122983548, 2.9329005956602483, 12.51042707296145, 4.951633670022766, 2.43148657485325, 2.4314973314762915, 2.431507976575239, 2.4315230941199633, 2.4315292487113487, 2.431550340872715, 2.4315542496157425, 2.431651178155154, 2.4323363831490337, 1.9310267384952577, 5.975073423461605, 1.9310364313628499, 1.931037351769181, 1.9310386157104331, 1.9310408419423084, 1.9310416886393236, 1.9310467278972427, 1.9310581413197987, 1.9310600240167535, 5.976898435253023, 2.944115131304781, 3.4512973340441815, 2.944376175165428, 3.451518546519491, 6.497711573859649, 3.4522494191033424, 9.046895713667862, 5.488828066482106, 10.613726599012836, 6.519957102802579, 8.068374685470262, 6.017985845077741, 7.5605690193575965, 4.994475393605295, 8.083767369403938, 8.086215222796051, 3.974183179050649, 7.590487878690894, 9.671812934273547, 6.044634238126912, 15.921270895446451, 18.532979949902135, 10.22070155820525, 4.4958052282974545], \"Category\": [\"Default\", \"Default\", \"Default\", \"Default\", \"Default\", \"Default\", \"Default\", \"Default\", \"Default\", \"Default\", \"Default\", \"Default\", \"Default\", \"Default\", \"Default\", \"Default\", \"Default\", \"Default\", \"Default\", \"Default\", \"Default\", \"Default\", \"Default\", \"Default\", \"Default\", \"Default\", \"Default\", \"Default\", \"Default\", \"Default\", \"Topic1\", \"Topic1\", \"Topic1\", \"Topic1\", \"Topic1\", \"Topic1\", \"Topic1\", \"Topic1\", \"Topic1\", \"Topic1\", \"Topic1\", \"Topic1\", \"Topic1\", \"Topic1\", \"Topic1\", \"Topic1\", \"Topic1\", \"Topic1\", \"Topic1\", \"Topic1\", \"Topic1\", \"Topic1\", \"Topic1\", \"Topic1\", \"Topic1\", \"Topic1\", \"Topic1\", \"Topic1\", \"Topic1\", \"Topic1\", \"Topic1\", \"Topic1\", \"Topic1\", \"Topic1\", \"Topic1\", \"Topic1\", \"Topic1\", \"Topic1\", \"Topic1\", \"Topic1\", \"Topic1\", \"Topic1\", \"Topic1\", \"Topic1\", \"Topic1\", \"Topic1\", \"Topic1\", \"Topic1\", \"Topic1\", \"Topic1\", \"Topic1\", \"Topic1\", \"Topic1\", \"Topic1\", \"Topic1\", \"Topic1\", \"Topic1\", \"Topic2\", \"Topic2\", \"Topic2\", \"Topic2\", \"Topic2\", \"Topic2\", \"Topic2\", \"Topic2\", \"Topic2\", \"Topic2\", \"Topic2\", \"Topic2\", \"Topic2\", \"Topic2\", \"Topic2\", \"Topic2\", \"Topic2\", \"Topic2\", \"Topic2\", \"Topic2\", \"Topic2\", \"Topic2\", \"Topic2\", \"Topic2\", \"Topic2\", \"Topic2\", \"Topic2\", \"Topic2\", \"Topic2\", \"Topic2\", \"Topic2\", \"Topic2\", \"Topic2\", \"Topic2\", \"Topic2\", \"Topic2\", \"Topic2\", \"Topic2\", \"Topic2\", \"Topic2\", \"Topic2\", \"Topic2\", \"Topic2\", \"Topic2\", \"Topic2\", \"Topic2\", \"Topic2\", \"Topic2\", \"Topic2\", \"Topic2\", \"Topic2\", \"Topic2\", \"Topic2\", \"Topic2\", \"Topic2\"], \"logprob\": [30.0, 29.0, 28.0, 27.0, 26.0, 25.0, 24.0, 23.0, 22.0, 21.0, 20.0, 19.0, 18.0, 17.0, 16.0, 15.0, 14.0, 13.0, 12.0, 11.0, 10.0, 9.0, 8.0, 7.0, 6.0, 5.0, 4.0, 3.0, 2.0, 1.0, -5.749199867248535, -5.904399871826172, -5.904900074005127, -5.90500020980835, -6.088799953460693, -6.0894999504089355, -6.09089994430542, -6.09089994430542, -6.091700077056885, -5.490200042724609, -6.316500186920166, -6.316999912261963, -6.317200183868408, -6.317299842834473, -6.317399978637695, -6.31790018081665, -6.3180999755859375, -6.31820011138916, -6.318399906158447, -6.318399906158447, -6.318699836730957, -6.319799900054932, -6.32859992980957, -4.326499938964844, -5.355899810791016, -5.050000190734863, -6.610799789428711, -6.611000061035156, -6.611000061035156, -6.611000061035156, -4.525300025939941, -5.668300151824951, -5.024899959564209, -5.392899990081787, -5.491099834442139, -5.378600120544434, -5.199399948120117, -5.745500087738037, -5.747499942779541, -5.749000072479248, -6.065199851989746, -5.88070011138916, -5.896299839019775, -5.898399829864502, -5.902699947357178, -6.080900192260742, -6.08459997177124, -5.575699806213379, -5.748199939727783, -5.60290002822876, -5.463099956512451, -5.617400169372559, -5.713900089263916, -5.763800144195557, -5.914700031280518, -5.871200084686279, -5.872600078582764, -5.550300121307373, -5.55049991607666, -5.6859002113342285, -5.686100006103516, -5.606500148773193, -6.0269999504089355, -6.0279998779296875, -6.029200077056885, -6.035999774932861, -4.5920000076293945, -5.530200004577637, -6.25439977645874, -6.254499912261963, -6.2546000480651855, -6.254799842834473, -6.254899978637695, -6.255099773406982, -6.255199909210205, -6.256400108337402, -6.264599800109863, -6.5493998527526855, -5.419899940490723, -6.549499988555908, -6.549600124359131, -6.549600124359131, -6.549600124359131, -6.549600124359131, -6.549699783325195, -6.549900054931641, -6.549900054931641, -5.429500102996826, -6.150599956512451, -6.004300117492676, -6.15339994430542, -6.006400108337402, -5.424600124359131, -6.013299942016602, -5.15339994430542, -5.624499797821045, -5.159999847412109, -5.548500061035156, -5.453700065612793, -5.6732001304626465, -5.531799793243408, -5.816999912261963, -5.540299892425537, -5.554800033569336, -6.015200138092041, -5.723400115966797, -5.684599876403809, -5.8703999519348145, -5.610400199890137, -5.629799842834473, -5.888500213623047, -6.014100074768066], \"loglift\": [30.0, 29.0, 28.0, 27.0, 26.0, 25.0, 24.0, 23.0, 22.0, 21.0, 20.0, 19.0, 18.0, 17.0, 16.0, 15.0, 14.0, 13.0, 12.0, 11.0, 10.0, 9.0, 8.0, 7.0, 6.0, 5.0, 4.0, 3.0, 2.0, 1.0, 0.5196, 0.5019, 0.5015, 0.5013, 0.477, 0.4763, 0.475, 0.4749, 0.4741, 0.4562, 0.4392, 0.4387, 0.4385, 0.4384, 0.4382, 0.4378, 0.4376, 0.4375, 0.4373, 0.4372, 0.437, 0.4359, 0.4275, 0.4239, 0.4221, 0.3994, 0.3793, 0.3792, 0.3791, 0.3791, 0.377, 0.3777, 0.3207, 0.3135, 0.291, 0.2594, 0.2013, 0.3028, 0.3009, 0.2995, 0.3463, 0.2758, 0.2607, 0.2586, 0.2545, 0.3311, 0.3276, 0.0674, 0.1198, -0.0231, -0.1552, -0.0373, -0.1319, -0.1168, 0.1382, -0.0004, -0.405, 0.6305, 0.6304, 0.6147, 0.6145, 0.5723, 0.5673, 0.5663, 0.565, 0.5579, 0.5514, 0.5401, 0.5271, 0.527, 0.5268, 0.5266, 0.5266, 0.5263, 0.5262, 0.525, 0.5165, 0.4625, 0.4625, 0.4624, 0.4623, 0.4623, 0.4623, 0.4623, 0.4622, 0.462, 0.462, 0.4526, 0.4395, 0.4269, 0.4366, 0.4248, 0.3739, 0.4177, 0.3141, 0.3428, 0.1479, 0.2466, 0.1283, 0.2021, 0.1153, 0.2446, 0.0398, 0.025, 0.275, -0.0804, -0.2839, 0.0004, -0.7081, -0.8794, -0.543, 0.1527]}, \"token.table\": {\"Topic\": [1, 1, 1, 1, 2, 2, 1, 2, 1, 1, 1, 2, 1, 2, 1, 2, 1, 2, 1, 2, 2, 1, 2, 1, 2, 2, 1, 1, 2, 1, 2, 2, 1, 1, 2, 1, 2, 2, 1, 2, 1, 2, 1, 1, 1, 1, 2, 1, 2, 1, 2, 1, 2, 2, 1, 2, 1, 2, 1, 1, 2, 1, 2, 2, 1, 2, 2, 1, 2, 1, 2, 1, 2, 1, 1, 2, 1, 1, 1, 2, 1, 2, 1, 2, 2, 2, 2, 1, 2, 1, 2, 1, 2, 1, 2, 2, 1, 2, 1, 1, 1, 2, 1, 2, 1, 2, 2, 2, 1, 2, 1, 1, 2, 1, 2, 1, 2, 1, 2, 1, 2, 1, 2, 1, 2, 1, 2, 1, 2, 2, 1, 2, 2, 2, 1, 2, 1, 1, 1, 2, 2, 1, 2, 1, 2, 1, 2, 1, 2], \"Freq\": [0.9944292542534618, 0.847863982044586, 0.8478493021946257, 0.2250975149942531, 0.9003900599770124, 0.8225348299358594, 0.49630794549607493, 0.49630794549607493, 1.013418668395682, 0.8016052865800019, 0.2897461166662839, 0.8692383499988517, 0.7884843329986664, 0.1971210832496666, 1.0134238586673983, 0.8225420698120482, 0.7569944189765345, 0.30279776759061383, 0.8015737077849705, 0.8225276340228896, 0.5178554374821845, 0.8523449564789217, 0.2841149854929739, 0.809367950569612, 0.21583145348522983, 0.7627885645446684, 0.8016126062432133, 0.7017461309823966, 0.28069845239295865, 0.7903715539821902, 0.19759288849554754, 0.6820835457278874, 0.9944517632551927, 0.6608821702425937, 0.2202940567475312, 0.7537086755701173, 0.2512362251900391, 0.7627839337597776, 0.9945023151954786, 0.5178560345009454, 0.7904046168697215, 0.19760115421743038, 0.8015810436034078, 0.8016032796604988, 0.8015982522251895, 1.0134229533726524, 0.5178502933947765, 0.4601257267030885, 0.6135009689374513, 0.49481879143869306, 0.49481879143869306, 0.6848844925307844, 0.29352192537033617, 0.5178563734584514, 0.8478683533415865, 0.8225204991158743, 0.495762796837299, 0.495762796837299, 0.8016492165998488, 0.33966062990098395, 0.6793212598019679, 0.33160545837481714, 0.6632109167496343, 0.5178566202887427, 0.6203593928846662, 0.3101796964423331, 0.5178552104199435, 0.7903253934660203, 0.19758134836650507, 0.40044245739216405, 0.600663686088246, 0.20195355041185878, 0.8078142016474351, 0.8016194914088611, 0.2897275464471716, 0.8691826393415147, 0.8015791787689914, 0.985257267990156, 0.49850565907425226, 0.49850565907425226, 0.4710880719751196, 0.5653056863701436, 0.36437650729363036, 0.7287530145872607, 0.822538430994573, 0.8225191769075517, 0.9022525121346615, 0.8528420868404168, 0.2842806956134723, 0.9945003111733142, 0.5178592196912015, 0.15986664470652343, 0.7993332235326172, 0.6554375748145236, 0.26217502992580943, 0.9022577759711912, 0.4448591294417336, 0.4448591294417336, 0.8015596330359135, 0.8016118610342327, 0.7598469806147808, 0.2170991373185088, 0.34095939067272824, 0.6819187813454565, 0.1673619601180832, 0.836809800590416, 0.6821129813444156, 0.5178507982760898, 0.8921493282746367, 0.17842986565492736, 0.8018813987666493, 0.660475276634876, 0.22015842554495868, 0.7538554473420721, 0.15077108946841442, 0.6598891957866979, 0.32994459789334896, 0.25162403315261367, 0.5032480663052273, 0.4946690002417324, 0.4946690002417324, 0.5269753491378827, 0.395231511853412, 0.8527485804848156, 0.28424952682827187, 0.307800673708882, 0.615601347417764, 0.6607643266077021, 0.2202547755359007, 0.6821371949665901, 0.3346217141993869, 0.6692434283987738, 0.8225297159778185, 0.8224863903042872, 1.0134242820466521, 0.8222546905336721, 0.994529574483837, 0.8015861366350157, 0.28966620849189145, 0.5793324169837829, 0.5178538590254214, 0.5954402137251505, 0.3969601424834337, 0.5290607082295865, 0.5290607082295865, 0.6608037759175162, 0.22026792530583872, 0.33963051611223405, 0.6792610322244681], \"Term\": [\"accionista\", \"aceptar\", \"acto\", \"agrario\", \"agrario\", \"antiguar\", \"apartamento\", \"apartamento\", \"apellidar\", \"aumentar\", \"ayudar\", \"ayudar\", \"bajar\", \"bajar\", \"bolsa\", \"buscar\", \"cambiar\", \"cambiar\", \"canci\\u00f3n\", \"cantidad\", \"capital\", \"cargar\", \"cargar\", \"certificar\", \"certificar\", \"citar\", \"ciudad\", \"cliente\", \"cliente\", \"comentar\", \"comentar\", \"comer\", \"comisionista\", \"completar\", \"completar\", \"comprar\", \"comprar\", \"consignar\", \"consultar\", \"contener\", \"control\", \"control\", \"crecer\", \"creer\", \"crimen\", \"cuartar\", \"danado\", \"dato\", \"dato\", \"decir\", \"decir\", \"declaracion\", \"declaracion\", \"desaparecer\", \"descargar\", \"destacar\", \"dividendo\", \"dividendo\", \"documento\", \"ejemplo\", \"ejemplo\", \"encontrar\", \"encontrar\", \"entender\", \"entrar\", \"entrar\", \"escribir\", \"escuchar\", \"escuchar\", \"esperar\", \"esperar\", \"esposo\", \"esposo\", \"evitar\", \"existir\", \"existir\", \"fijar\", \"formulario\", \"hablar\", \"hablar\", \"hacer\", \"hacer\", \"ideo\", \"ideo\", \"importante\", \"importar\", \"indicar\", \"interesar\", \"interesar\", \"interior\", \"internar\", \"llamar\", \"llamar\", \"llegar\", \"llegar\", \"mandar\", \"manejar\", \"manejar\", \"medio\", \"minimo\", \"necesitar\", \"necesitar\", \"notario\", \"notario\", \"pagar\", \"pagar\", \"pandemia\", \"pantalla\", \"paquete\", \"paquete\", \"parar\", \"pasar\", \"pasar\", \"pedir\", \"pedir\", \"perder\", \"perder\", \"permitir\", \"permitir\", \"poner\", \"poner\", \"preguntar\", \"preguntar\", \"presentar\", \"presentar\", \"producto\", \"producto\", \"quedar\", \"quedar\", \"radicar\", \"recibir\", \"recibir\", \"rendimiento\", \"retirar\", \"solicitud\", \"traspasar\", \"tratar\", \"tributario\", \"unica\", \"unica\", \"unicamente\", \"valorar\", \"valorar\", \"venir\", \"venir\", \"vestir\", \"vestir\", \"vivir\", \"vivir\"]}, \"R\": 30, \"lambda.step\": 0.01, \"plot.opts\": {\"xlab\": \"PC1\", \"ylab\": \"PC2\"}, \"topic.order\": [2, 1]};\n",
              "\n",
              "function LDAvis_load_lib(url, callback){\n",
              "  var s = document.createElement('script');\n",
              "  s.src = url;\n",
              "  s.async = true;\n",
              "  s.onreadystatechange = s.onload = callback;\n",
              "  s.onerror = function(){console.warn(\"failed to load library \" + url);};\n",
              "  document.getElementsByTagName(\"head\")[0].appendChild(s);\n",
              "}\n",
              "\n",
              "if(typeof(LDAvis) !== \"undefined\"){\n",
              "   // already loaded: just create the visualization\n",
              "   !function(LDAvis){\n",
              "       new LDAvis(\"#\" + \"ldavis_el581406581715205925425027069\", ldavis_el581406581715205925425027069_data);\n",
              "   }(LDAvis);\n",
              "}else if(typeof define === \"function\" && define.amd){\n",
              "   // require.js is available: use it to load d3/LDAvis\n",
              "   require.config({paths: {d3: \"https://cdnjs.cloudflare.com/ajax/libs/d3/3.5.5/d3.min\"}});\n",
              "   require([\"d3\"], function(d3){\n",
              "      window.d3 = d3;\n",
              "      LDAvis_load_lib(\"https://cdn.rawgit.com/bmabey/pyLDAvis/files/ldavis.v1.0.0.js\", function(){\n",
              "        new LDAvis(\"#\" + \"ldavis_el581406581715205925425027069\", ldavis_el581406581715205925425027069_data);\n",
              "      });\n",
              "    });\n",
              "}else{\n",
              "    // require.js not available: dynamically load d3 & LDAvis\n",
              "    LDAvis_load_lib(\"https://cdnjs.cloudflare.com/ajax/libs/d3/3.5.5/d3.min.js\", function(){\n",
              "         LDAvis_load_lib(\"https://cdn.rawgit.com/bmabey/pyLDAvis/files/ldavis.v1.0.0.js\", function(){\n",
              "                 new LDAvis(\"#\" + \"ldavis_el581406581715205925425027069\", ldavis_el581406581715205925425027069_data);\n",
              "            })\n",
              "         });\n",
              "}\n",
              "</script>"
            ],
            "text/plain": [
              "PreparedData(topic_coordinates=             x    y  topics  cluster       Freq\n",
              "topic                                          \n",
              "1      0.03691  0.0  1       1        52.565981\n",
              "0     -0.03691  0.0  2       1        47.434019, topic_info=            Term       Freq      Total Category  logprob  loglift\n",
              "45   llamar       12.000000  12.000000  Default  30.0000  30.0000\n",
              "1    certificar   18.000000  18.000000  Default  29.0000  29.0000\n",
              "701  mandar       4.000000   4.000000   Default  28.0000  28.0000\n",
              "881  indicar      4.000000   4.000000   Default  27.0000  27.0000\n",
              "85   comprar      15.000000  15.000000  Default  26.0000  26.0000\n",
              "..       ...            ...        ...      ...      ...      ...\n",
              "596  apartamento  2.868474   6.044634   Topic2  -5.8704   0.0004 \n",
              "85   comprar      3.720038   15.921271  Topic2  -5.6104  -0.7081 \n",
              "1    certificar   3.648551   18.532980  Topic2  -5.6298  -0.8794 \n",
              "58   declaracion  2.816782   10.220702  Topic2  -5.8885  -0.5430 \n",
              "18   manejar      2.484362   4.495805   Topic2  -6.0141   0.1527 \n",
              "\n",
              "[142 rows x 6 columns], token_table=      Topic      Freq        Term\n",
              "term                             \n",
              "261   1      0.994429  accionista\n",
              "377   1      0.847864  aceptar   \n",
              "80    1      0.847849  acto      \n",
              "34    1      0.225098  agrario   \n",
              "34    2      0.900390  agrario   \n",
              "...  ..           ...      ...   \n",
              "29    2      0.529061  venir     \n",
              "519   1      0.660804  vestir    \n",
              "519   2      0.220268  vestir    \n",
              "769   1      0.339631  vivir     \n",
              "769   2      0.679261  vivir     \n",
              "\n",
              "[149 rows x 3 columns], R=30, lambda_step=0.01, plot_opts={'xlab': 'PC1', 'ylab': 'PC2'}, topic_order=[2, 1])"
            ]
          },
          "metadata": {
            "tags": []
          }
        },
        {
          "output_type": "stream",
          "text": [
            "CPU times: user 884 ms, sys: 93.1 ms, total: 977 ms\n",
            "Wall time: 2.95 s\n"
          ],
          "name": "stdout"
        }
      ]
    },
    {
      "cell_type": "code",
      "metadata": {
        "id": "jwTZ0fP7Z2-8",
        "cellView": "form",
        "colab": {
          "base_uri": "https://localhost:8080/",
          "height": 1000
        },
        "outputId": "e7e58883-0634-42a3-cbc2-4f16b26bdb3d"
      },
      "source": [
        "#@title Dominancia de Temas\n",
        "def format_topics_sentences(ldamodel=None, corpus=corpus, texts=data):\n",
        "    # Init output\n",
        "    sent_topics_df = pd.DataFrame()\n",
        "\n",
        "    # Get main topic in each document\n",
        "    for i, row_list in enumerate(ldamodel[corpus]):\n",
        "        row = row_list[0] if ldamodel.per_word_topics else row_list            \n",
        "        # print(row)\n",
        "        row = sorted(row, key=lambda x: (x[1]), reverse=True)\n",
        "        # Get the Dominant topic, Perc Contribution and Keywords for each document\n",
        "        for j, (topic_num, prop_topic) in enumerate(row):\n",
        "            if j == 0:  # => dominant topic\n",
        "                wp = ldamodel.show_topic(topic_num)\n",
        "                topic_keywords = \", \".join([word for word, prop in wp])\n",
        "                sent_topics_df = sent_topics_df.append(pd.Series([int(topic_num), round(prop_topic,4), topic_keywords]), ignore_index=True)\n",
        "            else:\n",
        "                break\n",
        "    sent_topics_df.columns = ['Dominant_Topic', 'Perc_Contribution', 'Topic_Keywords']\n",
        "\n",
        "    # Add original text to the end of the output\n",
        "    contents = pd.Series(texts)\n",
        "    sent_topics_df = pd.concat([sent_topics_df, contents], axis=1)\n",
        "    return(sent_topics_df)\n",
        "\n",
        "df_topic_sents_keywords = format_topics_sentences(ldamodel=lda_model, corpus=corpus, texts=texts)\n",
        "\n",
        "# Format\n",
        "df_dominant_topic = df_topic_sents_keywords.reset_index()\n",
        "df_dominant_topic.columns = ['Document_No', 'Dominant_Topic', 'Topic_Perc_Contrib', 'Keywords', 'Text']\n",
        "df_dominant_topic.head(10)"
      ],
      "execution_count": 70,
      "outputs": [
        {
          "output_type": "execute_result",
          "data": {
            "text/html": [
              "<div>\n",
              "<style scoped>\n",
              "    .dataframe tbody tr th:only-of-type {\n",
              "        vertical-align: middle;\n",
              "    }\n",
              "\n",
              "    .dataframe tbody tr th {\n",
              "        vertical-align: top;\n",
              "    }\n",
              "\n",
              "    .dataframe thead th {\n",
              "        text-align: right;\n",
              "    }\n",
              "</style>\n",
              "<table border=\"1\" class=\"dataframe\">\n",
              "  <thead>\n",
              "    <tr style=\"text-align: right;\">\n",
              "      <th></th>\n",
              "      <th>Document_No</th>\n",
              "      <th>Dominant_Topic</th>\n",
              "      <th>Topic_Perc_Contrib</th>\n",
              "      <th>Keywords</th>\n",
              "      <th>Text</th>\n",
              "    </tr>\n",
              "  </thead>\n",
              "  <tbody>\n",
              "    <tr>\n",
              "      <th>0</th>\n",
              "      <td>0</td>\n",
              "      <td>0.0</td>\n",
              "      <td>0.9730</td>\n",
              "      <td>llamar, encontrar, hacer, pagar, producto, recibir, dividendo, esposo, venir, decir</td>\n",
              "      <td>[violín, digame, hermano, venir, hermano, intentar, hacer, dieta, convertir, mirar, estancia, recto, encontrar, seccion, temer, desigual, intimidar, certificar, dividendo, comer, hotel, encontrar, aparecer, manejar, desigual, presenciar, existir, proyectar, valorar, cuadrar, recibir, registrar, corredor, mierda]</td>\n",
              "    </tr>\n",
              "    <tr>\n",
              "      <th>1</th>\n",
              "      <td>1</td>\n",
              "      <td>0.0</td>\n",
              "      <td>0.9732</td>\n",
              "      <td>llamar, encontrar, hacer, pagar, producto, recibir, dividendo, esposo, venir, decir</td>\n",
              "      <td>[demorar, turbinar, actua, afecto, quito, demorar, llamar, importar, tesoro, llamar, poder, asunto, pandemia, lejos, agrario, aparecer, llamar, depositar, llegar, precio, estilista, dijistes, listo, afectación, unico, filmar, global, encontrar, llamarlos]</td>\n",
              "    </tr>\n",
              "    <tr>\n",
              "      <th>2</th>\n",
              "      <td>2</td>\n",
              "      <td>1.0</td>\n",
              "      <td>0.9197</td>\n",
              "      <td>certificar, comprar, declaracion, necesitar, entrar, pedir, llegar, cliente, hacer, paquete</td>\n",
              "      <td>[ciudad, descargar, declaracion, ingresar, existir, constar, poquito, desacordar, paquete, central]</td>\n",
              "    </tr>\n",
              "    <tr>\n",
              "      <th>3</th>\n",
              "      <td>3</td>\n",
              "      <td>0.0</td>\n",
              "      <td>0.7633</td>\n",
              "      <td>llamar, encontrar, hacer, pagar, producto, recibir, dividendo, esposo, venir, decir</td>\n",
              "      <td>[encontrar, encontrar]</td>\n",
              "    </tr>\n",
              "    <tr>\n",
              "      <th>4</th>\n",
              "      <td>4</td>\n",
              "      <td>1.0</td>\n",
              "      <td>0.9556</td>\n",
              "      <td>certificar, comprar, declaracion, necesitar, entrar, pedir, llegar, cliente, hacer, paquete</td>\n",
              "      <td>[cargar, certificar, declaracion, numeros, reservar, recomendable, quedar, meter, fraude, unir, creer, mentira, diseno, cliente, pendiente, pocimas, declarar]</td>\n",
              "    </tr>\n",
              "    <tr>\n",
              "      <th>5</th>\n",
              "      <td>5</td>\n",
              "      <td>1.0</td>\n",
              "      <td>0.9826</td>\n",
              "      <td>certificar, comprar, declaracion, necesitar, entrar, pedir, llegar, cliente, hacer, paquete</td>\n",
              "      <td>[favor, revisar, dato, casete, comprar, soportar, superar, completar, destinar, acto, intencional, programar, internet, creciente, componer, formulario, normal, papelito, formulario, comenzar, vista, teleton, probable, intencion, futuro, generar, internet, normalmente, manejar, entrar, utilizacion, formulario, mostrar, social, personar, estrato, medio, formulario, especia, descomponer, acercar, crecer]</td>\n",
              "    </tr>\n",
              "    <tr>\n",
              "      <th>6</th>\n",
              "      <td>6</td>\n",
              "      <td>1.0</td>\n",
              "      <td>0.9509</td>\n",
              "      <td>certificar, comprar, declaracion, necesitar, entrar, pedir, llegar, cliente, hacer, paquete</td>\n",
              "      <td>[necesitar, seguir, certificar, obtener, declaracion, respectar, presentar, noto, memoria, fragil, participio, principio, marcar, euro, posicion, actualizar]</td>\n",
              "    </tr>\n",
              "    <tr>\n",
              "      <th>7</th>\n",
              "      <td>7</td>\n",
              "      <td>1.0</td>\n",
              "      <td>0.8671</td>\n",
              "      <td>certificar, comprar, declaracion, necesitar, entrar, pedir, llegar, cliente, hacer, paquete</td>\n",
              "      <td>[funcionar, aficionar, reparación, tratar, venir]</td>\n",
              "    </tr>\n",
              "    <tr>\n",
              "      <th>8</th>\n",
              "      <td>8</td>\n",
              "      <td>0.0</td>\n",
              "      <td>0.9901</td>\n",
              "      <td>llamar, encontrar, hacer, pagar, producto, recibir, dividendo, esposo, venir, decir</td>\n",
              "      <td>[recibir, botin, completar, tiempo, calidad, comprar, buscar, identidad, contener, producto, inconsciente, maridar, improductivo, enemigo, humo, actor, gustar, abrir, mamar, primitivo, discutir, contarlos, tenerla, tono, llamar, decian, sistema, mitad, encontrar, ubicar, programar, sujeto, publicar, coleccionismo, desigual, futbol, recolectar, desaparecer, unicamente, interactivo, necesitar, retirar, preso, liquidar, continuar, explosivo, listo, empezar, partecita, noticiar, desaparecer, futuro, retener, retirarme, activista, unicamente, retirar, comiquisimo, regimentar, entender, puntual, contener, venir, estiercol, parentesis, aspecto, producción, vehiculos, papelero, importante, recomendo, inmediatamente, comunicar, clip, dato, dato, actualizar, filtrar, proceder, destruir]</td>\n",
              "    </tr>\n",
              "    <tr>\n",
              "      <th>9</th>\n",
              "      <td>9</td>\n",
              "      <td>1.0</td>\n",
              "      <td>0.9343</td>\n",
              "      <td>certificar, comprar, declaracion, necesitar, entrar, pedir, llegar, cliente, hacer, paquete</td>\n",
              "      <td>[destinar, probar, desear, certificar, caer, creer, preguntar, pesar, iniciar, cuerdo, conocer, interior, comentar, contestar, celular, valer]</td>\n",
              "    </tr>\n",
              "  </tbody>\n",
              "</table>\n",
              "</div>"
            ],
            "text/plain": [
              "   Document_No  ...                                                                                                                                                                                                                                                                                                                                                                                                                                                                                                                                                                                                                                                                                                                                                                                                                 Text\n",
              "0  0            ...  [violín, digame, hermano, venir, hermano, intentar, hacer, dieta, convertir, mirar, estancia, recto, encontrar, seccion, temer, desigual, intimidar, certificar, dividendo, comer, hotel, encontrar, aparecer, manejar, desigual, presenciar, existir, proyectar, valorar, cuadrar, recibir, registrar, corredor, mierda]                                                                                                                                                                                                                                                                                                                                                                                                                                                                                          \n",
              "1  1            ...  [demorar, turbinar, actua, afecto, quito, demorar, llamar, importar, tesoro, llamar, poder, asunto, pandemia, lejos, agrario, aparecer, llamar, depositar, llegar, precio, estilista, dijistes, listo, afectación, unico, filmar, global, encontrar, llamarlos]                                                                                                                                                                                                                                                                                                                                                                                                                                                                                                                                                    \n",
              "2  2            ...  [ciudad, descargar, declaracion, ingresar, existir, constar, poquito, desacordar, paquete, central]                                                                                                                                                                                                                                                                                                                                                                                                                                                                                                                                                                                                                                                                                                                \n",
              "3  3            ...  [encontrar, encontrar]                                                                                                                                                                                                                                                                                                                                                                                                                                                                                                                                                                                                                                                                                                                                                                                             \n",
              "4  4            ...  [cargar, certificar, declaracion, numeros, reservar, recomendable, quedar, meter, fraude, unir, creer, mentira, diseno, cliente, pendiente, pocimas, declarar]                                                                                                                                                                                                                                                                                                                                                                                                                                                                                                                                                                                                                                                     \n",
              "5  5            ...  [favor, revisar, dato, casete, comprar, soportar, superar, completar, destinar, acto, intencional, programar, internet, creciente, componer, formulario, normal, papelito, formulario, comenzar, vista, teleton, probable, intencion, futuro, generar, internet, normalmente, manejar, entrar, utilizacion, formulario, mostrar, social, personar, estrato, medio, formulario, especia, descomponer, acercar, crecer]                                                                                                                                                                                                                                                                                                                                                                                              \n",
              "6  6            ...  [necesitar, seguir, certificar, obtener, declaracion, respectar, presentar, noto, memoria, fragil, participio, principio, marcar, euro, posicion, actualizar]                                                                                                                                                                                                                                                                                                                                                                                                                                                                                                                                                                                                                                                      \n",
              "7  7            ...  [funcionar, aficionar, reparación, tratar, venir]                                                                                                                                                                                                                                                                                                                                                                                                                                                                                                                                                                                                                                                                                                                                                                  \n",
              "8  8            ...  [recibir, botin, completar, tiempo, calidad, comprar, buscar, identidad, contener, producto, inconsciente, maridar, improductivo, enemigo, humo, actor, gustar, abrir, mamar, primitivo, discutir, contarlos, tenerla, tono, llamar, decian, sistema, mitad, encontrar, ubicar, programar, sujeto, publicar, coleccionismo, desigual, futbol, recolectar, desaparecer, unicamente, interactivo, necesitar, retirar, preso, liquidar, continuar, explosivo, listo, empezar, partecita, noticiar, desaparecer, futuro, retener, retirarme, activista, unicamente, retirar, comiquisimo, regimentar, entender, puntual, contener, venir, estiercol, parentesis, aspecto, producción, vehiculos, papelero, importante, recomendo, inmediatamente, comunicar, clip, dato, dato, actualizar, filtrar, proceder, destruir]\n",
              "9  9            ...  [destinar, probar, desear, certificar, caer, creer, preguntar, pesar, iniciar, cuerdo, conocer, interior, comentar, contestar, celular, valer]                                                                                                                                                                                                                                                                                                                                                                                                                                                                                                                                                                                                                                                                     \n",
              "\n",
              "[10 rows x 5 columns]"
            ]
          },
          "metadata": {
            "tags": []
          },
          "execution_count": 70
        }
      ]
    },
    {
      "cell_type": "code",
      "metadata": {
        "id": "895A6nljaI32",
        "cellView": "form",
        "colab": {
          "base_uri": "https://localhost:8080/",
          "height": 182
        },
        "outputId": "cd7c2c36-0862-48be-93fd-bc574f296381"
      },
      "source": [
        "#@title Oracion mas Representativa por cada Tema\n",
        "pd.options.display.max_colwidth = 100\n",
        "\n",
        "sent_topics_sorteddf_mallet = pd.DataFrame()\n",
        "sent_topics_outdf_grpd = df_topic_sents_keywords.groupby('Dominant_Topic')\n",
        "\n",
        "for i, grp in sent_topics_outdf_grpd:\n",
        "    sent_topics_sorteddf_mallet = pd.concat([sent_topics_sorteddf_mallet, \n",
        "                                             grp.sort_values(['Perc_Contribution'], ascending=False).head(1)], \n",
        "                                            axis=0)\n",
        "    \n",
        "# Reset Index    \n",
        "sent_topics_sorteddf_mallet.reset_index(drop=True, inplace=True)\n",
        "\n",
        "# Format\n",
        "sent_topics_sorteddf_mallet.columns = ['Topic_Num', \"Topic_Perc_Contrib\", \"Keywords\", \"Representative Text\"]\n",
        "\n",
        "# Show\n",
        "sent_topics_sorteddf_mallet.head(10)"
      ],
      "execution_count": 71,
      "outputs": [
        {
          "output_type": "execute_result",
          "data": {
            "text/html": [
              "<div>\n",
              "<style scoped>\n",
              "    .dataframe tbody tr th:only-of-type {\n",
              "        vertical-align: middle;\n",
              "    }\n",
              "\n",
              "    .dataframe tbody tr th {\n",
              "        vertical-align: top;\n",
              "    }\n",
              "\n",
              "    .dataframe thead th {\n",
              "        text-align: right;\n",
              "    }\n",
              "</style>\n",
              "<table border=\"1\" class=\"dataframe\">\n",
              "  <thead>\n",
              "    <tr style=\"text-align: right;\">\n",
              "      <th></th>\n",
              "      <th>Topic_Num</th>\n",
              "      <th>Topic_Perc_Contrib</th>\n",
              "      <th>Keywords</th>\n",
              "      <th>Representative Text</th>\n",
              "    </tr>\n",
              "  </thead>\n",
              "  <tbody>\n",
              "    <tr>\n",
              "      <th>0</th>\n",
              "      <td>0.0</td>\n",
              "      <td>0.9960</td>\n",
              "      <td>llamar, encontrar, hacer, pagar, producto, recibir, dividendo, esposo, venir, decir</td>\n",
              "      <td>[esperar, produccion, final, matriz, mandar, perder, necesitar, calentar, prever, convoy, comput...</td>\n",
              "    </tr>\n",
              "    <tr>\n",
              "      <th>1</th>\n",
              "      <td>1.0</td>\n",
              "      <td>0.9935</td>\n",
              "      <td>certificar, comprar, declaracion, necesitar, entrar, pedir, llegar, cliente, hacer, paquete</td>\n",
              "      <td>[canción, aumentar, llegar, canción, comprarlas, cancelar, proyectar, cancelar, quedo, cosita, p...</td>\n",
              "    </tr>\n",
              "  </tbody>\n",
              "</table>\n",
              "</div>"
            ],
            "text/plain": [
              "   Topic_Num  ...                                                                                  Representative Text\n",
              "0        0.0  ...  [esperar, produccion, final, matriz, mandar, perder, necesitar, calentar, prever, convoy, comput...\n",
              "1        1.0  ...  [canción, aumentar, llegar, canción, comprarlas, cancelar, proyectar, cancelar, quedo, cosita, p...\n",
              "\n",
              "[2 rows x 4 columns]"
            ]
          },
          "metadata": {
            "tags": []
          },
          "execution_count": 71
        }
      ]
    },
    {
      "cell_type": "code",
      "metadata": {
        "id": "rvoRSnN6aUAl",
        "cellView": "form",
        "colab": {
          "base_uri": "https://localhost:8080/",
          "height": 336
        },
        "outputId": "d0cc57de-f530-4596-e444-e9a3063ddfa3"
      },
      "source": [
        "#@title Nubes de Palabras de los Términos clave N Principales en cada Tema\n",
        "# 1. Wordcloud of Top N words in each topic\n",
        "from matplotlib import pyplot as plt\n",
        "from wordcloud import WordCloud, STOPWORDS\n",
        "import matplotlib.colors as mcolors\n",
        "\n",
        "cols = [color for name, color in mcolors.TABLEAU_COLORS.items()]  # more colors: 'mcolors.XKCD_COLORS'\n",
        "\n",
        "cloud = WordCloud(stopwords=lista_stop_words,\n",
        "                  background_color='white',\n",
        "                  width=2500,\n",
        "                  height=1800,\n",
        "                  max_words=20,\n",
        "                  colormap='tab10',\n",
        "                  color_func=lambda *args, **kwargs: cols[i],\n",
        "                  prefer_horizontal=1.0)\n",
        "\n",
        "topics = lda_model.show_topics(formatted=False)\n",
        "\n",
        "fig, axes = plt.subplots(1, 2, figsize=(15,15), sharex=True, sharey=True)\n",
        "\n",
        "for i, ax in enumerate(axes.flatten()):\n",
        "    fig.add_subplot(ax)\n",
        "    topic_words = dict(topics[i][1])\n",
        "    cloud.generate_from_frequencies(topic_words, max_font_size=300)\n",
        "    plt.gca().imshow(cloud)\n",
        "    plt.gca().set_title('Topic ' + str(i), fontdict=dict(size=15))\n",
        "    plt.gca().axis('off')\n",
        "\n",
        "\n",
        "plt.subplots_adjust(wspace=0, hspace=0)\n",
        "plt.axis('off')\n",
        "plt.savefig(\"accionista_topics_results.png\",bbox_inches = 'tight')\n",
        "plt.margins(x=0, y=0)\n",
        "plt.tight_layout()\n",
        "plt.show()"
      ],
      "execution_count": 72,
      "outputs": [
        {
          "output_type": "display_data",
          "data": {
            "image/png": "[encoded data removed]",
            "text/plain": [
              "<Figure size 1080x1080 with 2 Axes>"
            ]
          },
          "metadata": {
            "tags": [],
            "needs_background": "light"
          }
        }
      ]
    },
    {
      "cell_type": "markdown",
      "metadata": {
        "id": "R79pcyKB_Aqq"
      },
      "source": [
        "<b><font color=orange size=5> REDES SEMANTICAS </font></b>"
      ]
    },
    {
      "cell_type": "code",
      "metadata": {
        "id": "Tv4gK4S0AAEd"
      },
      "source": [
        "df_personal=df_accionista"
      ],
      "execution_count": 73,
      "outputs": []
    },
    {
      "cell_type": "code",
      "metadata": {
        "id": "KiMdRhTHsGyl"
      },
      "source": [
        "sw_w2v=['aire','loco','corredores','llega','yahoo','ultima','pensar','encontre','quede','espera','pueda','indiqueme','indicar','digame','podia','adios','chao','partitura','pasada','necesito','necesitar','dices','anteriormente','empezar','entendi','temas','necesita','contienen','pasturas','queda','esperando','perfecta','altas','acepta','actos','pistas','comento','quedan','quieres','ingrese','existen','esperan','cuerdo','simplemente','esperen','pese','altamente','indicar','cumplir','intentando','puntas','maneras','ambiente','tele','menciona','conozco','repente','hacerlo','tranquila','recuerde','acepto','normalmente','intentado','ninas','paren','ademas','pregunto','companero','consta','pidiendo','realizo','llame','visto','seguimiento','actuacion','llamando','cuestion','especies','cuestion','idea','disculpe','regalar','indica','inca','indica','siento','momentico','acerca','quisieron','quieren','hombres','debido','comuna','senores','hablo','this','acto','comunas','cuerda','adelante','mitad','vuelta','invierno','debia','parecio','mision','mananas','texto','maldito','aldeas','vieron','decirle','manejar','mantenido','exito','podian','quieren','conocen','parezca','hicieron','deberia','debemos','tratar','llamamos','caen','humor','llegue','actor','diseno','vienen','repito','curso','decia','anterior','talud','decide','curso','leyenda','dicto','ayudas','dejamos','aparecia','puedas','deje','hacerte','ayuden','darle','utah','rebelde','verlo','horno','podido','perdedor','necesitando','perfecto','perfectamente','callate','entiendo','detente','nuevamente','comentando','tanque','imaginate','momento','momentos','recorre','dependen','canciones','hicimos','atico','partir','claramente','pastizal','sirve','imbecil','bajas','montar','posterior','oyes','oye', 'llevan','parecen','necesitan','trae','aparece','posee','iguales','trajes','ahoritica','llevar','revisando','acido','culta','ultimos','llamen','nuevamente','contestarrrrrrn','contestarrrrrrr','contestarrrrrr','hablar','contestarrrrdo','contestarrrrr','diciendo','actualmente','contestarrr', 'contestarrrdo','contestarrrn','contestarrrron', 'contestarrrr','dicho','volvio','sitio','hablado','mamita','diste','auto','autor','autora','pasando','adonde','tratan','ejemplo','ejemplos','inta','llevarla','comunes','quedando','hacerme','comunicarme','viendo','trenes','crimen','colabora','colaborar','dieran','aplicar','presentar','conocimiento','preso','carcel','pasan','previsto','diferentes','pedido','pedia','febrero','enero','marzo','abril','mayo','junio','julio','pequeno','pequenas','pequena','preocupes','medias','inmediatamente','solicitarr','solicitarndo','solicitarn','senores','explica','hermanas','miente','hablo','extension','herencia','this','acto','comunas','cuerda','adelante','mitad','vuelta','invierno','debia','parecio','mision','mananas','texto','maldito','envia','aldeas','propio','companero','empresas','vieron','decirle','manejar','telefonica','mantenido','exito','podian','quieren','conocen','parezca','hicieron','deberia','debemos','tratar','llamamos','caen','humor','llegue','actor','diseno','vienen','repito','curso','decia','anterior','talud','decide','curso','leyenda','dicto','ayudas','dejamos','aparecia','puedas','deje','hacerte','ayuden','darle','especificado','utah','rebelde','verlo','horno','podido','perdedor','necesitando','perfecto','perfectamente','callate','entiendo','detente','nuevamente','comentando','tanque','imaginate','momento','momentos','recorre','dependen','canciones','hicimos','atico','partir','claramente','motivos','pastizal','detalles','sirve','imbecil','bajas','montar','posterior','oyes','oye', 'llevan','parecen','necesitan','trae','aparece','posee','iguales','trajes','ahoritica','llevar','revisando','acido','culta','ultimos','provoco','amiga','amigo','amigas','amigos','tonto','preguntarte','afecto','pesar','tranquilo','mandan','bendicion','bendecir','dios','caer','entraron','personalmente','acepta','tomado','meramente','sustituta','volvera','alta','ahorita','eseh','haciendo','haria','yendo','hayan','comedy','yoga','izzy','ayudo','medios','torneo','lados','deben','debia','debio','disculpame','climas','segundito','maldita','importe','menciono','quieras','pescar','entendido','caldo','entro','puto','puta','mierda','putos','putas','siguientes','listas','vuelvo','miren','hotel','poner','permite','contacto','conjunto','viene','abajo','existe','cliente','exactamente','quinientas','piden','amables','actual','perdona','llamaba','llevo','respecto','puesto','trato','hotmail','gustaria','escucho','celula','llamaba','vieja','podido','llamen','nuevamente','contestarrrrrrn','contestarrrrrrr','contestarrrrrr','contestarrrrdo','contestarrrrr','diciendo','actualmente','contestarrr', 'contestarrrdo','contestarrrn','contestarrrron', 'contestarrrr','dicho','volvio','sitio','hablado','cuentos','clientes','vieja','entran','venga','triple','aparecen','importa','pregunta','mirar','presente','color','estaciones','preguntar','llegado','contiene','cinta','lleva','contestarr','hagame','siguiente','cancion','maldicion','gmail','dije','pude','entrar','pistas','comento','quedan','quieres','ingrese','existen','esperan','cuerdo','simplemente','esperen','pese','altamente','indicar','cumplir','intentando','puntas','maneras','ambiente','tele','menciona','conozco','repente','hacerlo','tranquila','recuerde','acepto','normalmente','intentado','ninas','paren','ademas','pregunto','companero','consta','pidiendo','realizo','llame','visto','seguimiento','actuacion','llamando','cuestion','especies','cuestion','idea','disculpe','regalar','indica','inca','indica','siento','momentico','acerca','quisieron','quieren','hombres','debido','comuna','senores','hablo','this','acto','comunas','cuerda','adelante','mitad','vuelta','invierno','debia','parecio','mision','mananas','texto','maldito','aldeas','vieron','decirle','manejar','mantenido','exito','podian','quieren','conocen','parezca','hicieron','deberia','debemos','tratar','llamamos','caen','humor','llegue','actor','diseno','vienen','decia','anterior','talud','decide','curso','leyenda','dicto','ayudas','dejamos','aparecia','puedas','deje','hacerte','ayuden','darle','utah','rebelde','verlo','horno','podido','perdedor','necesitando','perfecto','perfectamente','callate','entiendo','detente','nuevamente','comentando','tanque','imaginate','momento','momentos','recorre','dependen','canciones','hicimos','atico','partir','claramente','pastizal','sirve','imbecil','bajas','montar','posterior','oyes','oye', 'llevan','parecen','necesitan','trae','aparece','posee','iguales','trajes','ahoritica','llevar','revisando','acido','culta','ultimos','vieja','podido','llamen','nuevamente','contestarrrrrrn','contestarrrrrrr','contestarrrrrr','contestarrrrdo','contestarrrrr','diciendo','actualmente','contestarrr', 'contestarrrdo','contestarrrn','contestarrrron', 'contestarrrr','dicho','volvio','sitio','hablado','leyenda','dicto','ayudas','dejamos','aparecia','puedas','deje','hacerte','ayuden','darle','especificado','utah','rebelde','verlo','horno','podido','perdedor','necesitando','perfecto','perfectamente','callate','entiendo','detente','nuevamente','comentando','tanque','imaginate','momento','momentos','recorre','dependen','canciones','hicimos','atico','partir','claramente','motivos','pastizal','detalles','sirve','imbecil','bajas','montar','posterior','oyes','oye', 'llevan','parecen','necesitan','trae','aparece','posee','iguales','trajes','ahoritica','llevar','revisando','acido','culta','ultimos','siguientes','listas','vistas','vuelvo','cambiado','miren','hotel','salir','poner','permite','contacto','conjunto','nadie','viene','abajo','existe','cliente','exactamente','quinientas','piden','dientes','amables','actual','perdona','llamaba','llevo','respecto','puesto','trato','hotmail','gustaria','escucho','celula','llamaba,''vieja','podido','llamen','nuevamente','contestarrrrrrn','contestarrrrrrr','contestarrrrrr','contestarrrrdo','contestarrrrr','diciendo','actualmente','contestarrr', 'contestarrrdo','contestarrrn','contestarrrron', 'contestarrrr','dicho','volvio','sitio','hablado','cuentos','clientes','vieja','entran','venga','triple','aparecen','importa','pregunta','mirar','presente','color','estaciones','preguntar','llegado','contiene','cinta','lleva','contestarr','hagame','siguiente','cancion','maldicion','gmail','dije','pude','entrar','pistas','comento','quedan','quieres','ingrese','existen','esperan','cuerdo','simplemente','esperen','pese','altamente','indicar','cumplir','intentando','puntas','maneras','ambiente','tele','menciona','conozco','repente','hacerlo','tranquila','recuerde','acepto','normalmente','intentado','ninas','paren','ademas','pregunto','companero','consta','pidiendo','realizo','llame','visto','seguimiento','actuacion','llamando','cuestion','especies','cuestion','idea','disculpe','regalar','indica','inca','indica','siento','momentico','acerca','quisieron','quieren','hombres','debido','comuna','senores','hablo','this','acto','comunas','cuerda','adelante','mitad','vuelta','invierno','debia','parecio','mision','mananas','texto','maldito','aldeas','vieron','decirle','manejar','mantenido','exito','podian','quieren','conocen','parezca','hicieron','deberia','debemos','tratar','llamamos','caen','humor','llegue','actor','diseno','vienen','repito','curso','decia','anterior','talud','decide','curso','leyenda','dicto','ayudas','dejamos','aparecia','puedas','deje','hacerte','ayuden','darle','utah','rebelde','verlo','horno','podido','perdedor','necesitando','perfecto','perfectamente','callate','entiendo','detente','nuevamente','comentando','tanque','imaginate','momento','momentos','recorre','dependen','canciones','hicimos','atico','partir','claramente','pastizal','sirve','imbecil','bajas','montar','posterior','oyes','oye', 'llevan','parecen','necesitan','trae','aparece','posee','iguales','trajes','ahoritica','llevar','revisando','acido','culta','ultimos','anteriormente','empezar','entendi','temas','necesita','contienen','pasturas','queda','esperando','perfecta','altas','acepta','actos','pistas','comento','quedan','quieres','ingrese','existen','esperan','cuerdo','simplemente','esperen','pese','altamente','indicar','cumplir','intentando','puntas','maneras','ambiente','tele','menciona','conozco','repente','hacerlo','tranquila','recuerde','acepto','normalmente','intentado','ninas','paren','ademas','pregunto','companero','consta','pidiendo','realizo','llame','visto','seguimiento','actuacion','llamando','cuestion','especies','cuestion','idea','disculpe','regalar','indica','inca','indica','siento','momentico','acerca','quisieron','quieren','hombres','debido','comuna','senores','hablo','this','acto','comunas','cuerda','adelante','mitad','vuelta','invierno','debia','parecio','mision','mananas','texto','maldito','aldeas','vieron','decirle','manejar','mantenido','exito','podian','quieren','conocen','parezca','hicieron','deberia','debemos','tratar','llamamos','caen','humor','llegue','actor','diseno','vienen','repito','curso','decia','anterior','talud','decide','curso','leyenda','dicto','ayudas','dejamos','aparecia','puedas','deje','hacerte','ayuden','darle','utah','rebelde','verlo','horno','podido','perdedor','necesitando','perfecto','perfectamente','callate','entiendo','detente','nuevamente','comentando','tanque','imaginate','momento','momentos','recorre','dependen','canciones','hicimos','atico','partir','claramente','pastizal','sirve','imbecil','bajas','montar','posterior','oyes','oye', 'llevan','parecen','necesitan','trae','aparece','posee','iguales','trajes','ahoritica','llevar','revisando','acido','culta','ultimos','llamen','nuevamente','contestarrrrrrn','contestarrrrrrr','contestarrrrrr','hablar','contestarrrrdo','contestarrrrr','diciendo','actualmente','contestarrr', 'contestarrrdo','contestarrrn','contestarrrron', 'contestarrrr','dicho','volvio','sitio','hablado','mamita','diste','auto','autor','autora','pasando','adonde','tratan','ejemplo','ejemplos','inta','llevarla','comunes','quedando','hacerme','comunicarme','viendo','trenes','crimen','colabora','colaborar','dieran','aplicar','presentar','conocimiento','preso','carcel','pasan','previsto','diferentes','pedido','pedia','febrero','enero','marzo','abril','mayo','junio','julio','pequeno','pequenas','pequena','preocupes','medias','inmediatamente','solicitarr','solicitarndo','solicitarn','senores','explica','hermanas','miente','hablo','extension','herencia','this','acto','comunas','cuerda','adelante','mitad','vuelta','invierno','debia','parecio','mision','mananas','texto','maldito','envia','aldeas','propio','companero','empresas','vieron','decirle','manejar','telefonica','mantenido','exito','podian','quieren','conocen','parezca','hicieron','deberia','debemos','tratar','llamamos','caen','humor','llegue','actor','diseno','vienen','repito','curso','decia','anterior','talud','decide','curso','leyenda','dicto','ayudas','dejamos','aparecia','puedas','deje','hacerte','ayuden','darle','especificado','utah','rebelde','verlo','horno','podido','perdedor','necesitando','perfecto','perfectamente','callate','entiendo','detente','nuevamente','comentando','tanque','imaginate','momento','momentos','recorre','dependen','canciones','hicimos','atico','partir','claramente','motivos','pastizal','detalles','sirve','imbecil','bajas','montar','posterior','oyes','oye', 'llevan','parecen','necesitan','trae','aparece','posee','iguales','trajes','ahoritica','llevar','revisando','acido','culta','ultimos','provoco','amiga','amigo','amigas','amigos','tonto','preguntarte','afecto','pesar','tranquilo','mandan','bendicion','bendecir','dios','caer','entraron','personalmente','acepta','tomado','meramente','sustituta','volvera','alta','ahorita','eseh','haciendo','haria','yendo','hayan','comedy','yoga','izzy','ayudo','medios','torneo','lados','deben','debia','debio','disculpame','climas','segundito','maldita','importe','menciono','quieras','pescar','entendido','caldo','entro','puto','puta','mierda','putos','putas','siguientes','listas','vuelvo','miren','hotel','poner','permite','contacto','conjunto','viene','abajo','existe','cliente','exactamente','quinientas','piden','amables','actual','perdona','llamaba','llevo','respecto','puesto','trato','hotmail','gustaria','escucho','celula','llamaba','vieja','podido','llamen','nuevamente','contestarrrrrrn','contestarrrrrrr','contestarrrrrr','contestarrrrdo','contestarrrrr','diciendo','actualmente','contestarrr', 'contestarrrdo','contestarrrn','contestarrrron', 'contestarrrr','dicho','volvio','sitio','hablado','cuentos','clientes','vieja','entran','venga','triple','aparecen','importa','pregunta','mirar','presente','color','estaciones','preguntar','llegado','contiene','cinta','lleva','contestarr','hagame','siguiente','cancion','maldicion','gmail','dije','pude','entrar','pistas','comento','quedan','quieres','ingrese','existen','esperan','cuerdo','simplemente','esperen','pese','altamente','indicar','cumplir','intentando','puntas','maneras','ambiente','tele','menciona','conozco','repente','hacerlo','tranquila','recuerde','acepto','normalmente','intentado','ninas','paren','ademas','pregunto','companero','consta','pidiendo','realizo','llame','visto','seguimiento','actuacion','llamando','cuestion','especies','cuestion','idea','disculpe','regalar','indica','inca','indica','siento','momentico','acerca','quisieron','quieren','hombres','debido','comuna','senores','hablo','this','acto','comunas','cuerda','adelante','mitad','vuelta','invierno','debia','parecio','mision','mananas','texto','maldito','aldeas','vieron','decirle','manejar','mantenido','exito','podian','quieren','conocen','parezca','hicieron','deberia','debemos','tratar','llamamos','caen','humor','llegue','actor','diseno','vienen','decia','anterior','talud','decide','curso','leyenda','dicto','ayudas','dejamos','aparecia','puedas','deje','hacerte','ayuden','darle','utah','rebelde','verlo','horno','podido','perdedor','necesitando','perfecto','perfectamente','callate','entiendo','detente','nuevamente','comentando','tanque','imaginate','momento','momentos','recorre','dependen','canciones','hicimos','atico','partir','claramente','pastizal','sirve','imbecil','bajas','montar','posterior','oyes','oye', 'llevan','parecen','necesitan','trae','aparece','posee','iguales','trajes','ahoritica','llevar','revisando','acido','culta','ultimos','vieja','podido','llamen','nuevamente','contestarrrrrrn','contestarrrrrrr','contestarrrrrr','contestarrrrdo','contestarrrrr','diciendo','actualmente','contestarrr', 'contestarrrdo','contestarrrn','contestarrrron', 'contestarrrr','dicho','volvio','sitio','hablado','leyenda','dicto','ayudas','dejamos','aparecia','puedas','deje','hacerte','ayuden','darle','especificado','utah','rebelde','verlo','horno','podido','perdedor','necesitando','perfecto','perfectamente','callate','entiendo','detente','nuevamente','comentando','tanque','imaginate','momento','momentos','recorre','dependen','canciones','hicimos','atico','partir','claramente','motivos','pastizal','detalles','sirve','imbecil','bajas','montar','posterior','oyes','oye', 'llevan','parecen','necesitan','trae','aparece','posee','iguales','trajes','ahoritica','llevar','revisando','acido','culta','ultimos']\n",
        "df_personal['transcripcion1']=df_personal['transcripcion'].apply(lambda x: word_tokenize(x) )\n",
        "df_personal['transcripcion1']=df_personal['transcripcion1'].apply(lambda x: [word for word in x if not word in sw_w2v] )\n",
        "df_personal['transcripcion1']=df_personal['transcripcion1'].apply(lambda x: ' '.join(x) )"
      ],
      "execution_count": 74,
      "outputs": []
    },
    {
      "cell_type": "code",
      "metadata": {
        "id": "a1_elve7_uQw"
      },
      "source": [
        "lista=[(r'compramos','comprar'),(r'apartamentos','apartamento'),(r'solicitud','solicitar'),(r'contestan','contestar'),(r'contesto','contestar'),(r'contesta','contestar'),(r'registrado','registrada'),(r'recibiendo','recibir'),(r'recibio','recibir'),(r'facturas','factura'),(r'urgencias','urgencia'),(r'colaborarr','colaborar'),(r'urgenciass','urgencia'),(r'verificacion','verificar'),(r'coloabora','colaborar'), (r'medicamentos','medicamento'),(r'certificadoes','certificado'), (r'certificacion','certificado'), (r'disponibles','disponible'),(r'certificados','certificado'), (r'documentos','documento'), (r'disfrute','disfrutar'), (r'pagara','pagar'), (r'pagare','pagar'),(r'tratando','tratar'),(r'reportes','reporte'),(r'desprendibles','desprendible'),(r'dividendos','dividendo'),(r'comisionistas','comisionista'),(r'lineas','linea'),(r'creditos','credito'),(r'accionistas','accionista'),(r'compras','comprar'),(r'compre','comprar'),(r'compro','comprar'),(r'compran','comprar'),(r'facturan','facturan'),(r'facturacion','facturar'),(r'facturas','factura'),(r'llamadas','llamar'),(r'llamarte','llamar'),(r'llames','llamar'),(r'llaman','llamar'),(r'llamado','llamar'),(r'llames','llamar'),(r'llamarlo','llamar'),(r'llamarla','llamar'),(r'llamarle','llamar'),(r'llamarte','llamar'),(r'llamaron','llamar'),(r'llamada','llamar'),(r'llamenme','llamar'),(r'llamo','llamar'),(r'llamaba','llamar'),(r'llame','llamar'),(r'llamando','llamar'),(r'medicos','medico'),(r'doctora','medico'),(r'doctor','medico'),(r'doctores','medico'),(r'urgencias','urgencia'),(r'medicamentos','medicamento'),(r'educativos','educativo'),(r'beneficiaria','beneficiario'),(r'solicita','solicitar'),(r'beneficios','beneficio'),(r'legalizaron','legalizar'), (r'legalizacion','legalizar'),(r'personajes','personaje'), (r'certificadoes','certificado'), (r'certificacion','certificado'), (r'disponibles','disponible'),(r'certificados','certificado'), (r'documentos','documento'), (r'disfrute','disfrutar'), (r'pagara','pagar'), (r'pagare','pagar'),(r'tratando','tratar'),(r'reportes','reporte'),(r'desprendibles','desprendible'),(r'solicitud','solicitar'),(r'contestan','contestar'),(r'contesto','contestar'),(r'contesta','contestar'),(r'registrado','registrada'),(r'recibiendo','recibir'),(r'recibio','recibir'),(r'facturas','factura'),(r'urgencias','urgencia'),(r'colaborarr','colaborar'),(r'urgenciass','urgencia'),(r'verificacion','verificar'),(r'coloabora','colaborar'), (r'medicamentos','medicamento'),(r'certificadoes','certificado'), (r'certificacion','certificado'), (r'disponibles','disponible'),(r'certificados','certificado'), (r'documentos','documento'), (r'disfrute','disfrutar'), (r'pagara','pagar'), (r'pagare','pagar'),(r'tratando','tratar'),(r'reportes','reporte'),(r'desprendibles','desprendible'),(r'compras','comprar'),(r'compre','comprar'),(r'compro','comprar'),(r'compran','comprar'),(r'facturan','facturan'),(r'facturacion','facturar'),(r'facturas','factura'),(r'llamadas','llamar'),(r'llamarte','llamar'),(r'llames','llamar'),(r'llaman','llamar'),(r'llamado','llamar'),(r'llames','llamar'),(r'llamarlo','llamar'),(r'llamarla','llamar'),(r'llamarle','llamar'),(r'llamarte','llamar'),(r'llamaron','llamar'),(r'llamada','llamar'),(r'llamenme','llamar'),(r'llamo','llamar'),(r'llamaba','llamar'),(r'llame','llamar'),(r'llamando','llamar'),(r'medicos','medico'),(r'doctora','medico'),(r'doctor','medico'),(r'doctores','medico'),(r'urgencias','urgencia'),(r'medicamentos','medicamento'),(r'educativos','educativo'),(r'beneficiaria','beneficiario'),(r'solicita','solicitar'),(r'beneficios','beneficio'),(r'legalizaron','legalizar'), (r'legalizacion','legalizar'),(r'personajes','personaje'), (r'certificadoes','certificado'), (r'certificacion','certificado'), (r'disponibles','disponible'),(r'certificados','certificado'), (r'documentos','documento'), (r'disfrute','disfrutar'), (r'pagara','pagar'), (r'pagare','pagar'),(r'tratando','tratar'),(r'reportes','reporte'),(r'desprendibles','desprendible'),(r'solicitud','solicitar'),(r'contestan','contestar'),(r'contesto','contestar'),(r'contesta','contestar'),(r'registrado','registrada'),(r'recibiendo','recibir'),(r'recibio','recibir'),(r'facturas','factura'),(r'urgencias','urgencia'),(r'colaborarr','colaborar'),(r'urgenciass','urgencia'),(r'verificacion','verificar'),(r'coloabora','colaborar'), (r'medicamentos','medicamento'),(r'certificadoes','certificado'), (r'certificacion','certificado'), (r'disponibles','disponible'),(r'certificados','certificado'), (r'documentos','documento'), (r'disfrute','disfrutar'), (r'pagara','pagar'), (r'pagare','pagar'),(r'tratando','tratar'),(r'reportes','reporte'),(r'desprendibles','desprendible')]\n",
        "df_personal['transcripcion']=df_personal['transcripcion'].apply(lambda x: s_correction(x, lista))"
      ],
      "execution_count": 75,
      "outputs": []
    },
    {
      "cell_type": "code",
      "metadata": {
        "id": "I2bFAFRi_ZLM",
        "colab": {
          "base_uri": "https://localhost:8080/"
        },
        "outputId": "511a0f76-c7de-4f31-c75f-8203597ac62d"
      },
      "source": [
        "%%time\n",
        "#sw_w2v=['vieja','podido','llamen','nuevamente','contestarrrrrrn','contestarrrrrrr','contestarrrrrr','contestarrrrdo','contestarrrrr','diciendo','actualmente','contestarrr', 'contestarrrdo','contestarrrn','contestarrrron', 'contestarrrr','dicho','volvio','sitio','hablado']#contrato\n",
        "sw_w2v=['solicitarrrrr','solicitarr','solicitarrrr','siguientes','listas','vistas','vuelvo','cambiado','miren','hotel','salir','poner','permite','contacto','conjunto','nadie','viene','abajo','existe','cliente','exactamente','quinientas','piden','dientes','amables','actual','perdona','llamaba','llevo','respecto','puesto','trato','hotmail','gustaria','escucho','celula','llamaba,''vieja','podido','llamen','nuevamente','contestarrrrrrn','contestarrrrrrr','contestarrrrrr','contestarrrrdo','contestarrrrr','diciendo','actualmente','contestarrr', 'contestarrrdo','contestarrrn','contestarrrron', 'contestarrrr','dicho','volvio','sitio','hablado','cuentos','clientes','vieja','entran','venga','triple','aparecen','importa','pregunta','mirar','presente','color','estaciones','preguntar','llegado','contiene','cinta','lleva','contestarr','hagame','siguiente','cancion','maldicion','gmail','dije','pude','entrar','pistas','comento','quedan','quieres','ingrese','existen','esperan','cuerdo','simplemente','esperen','pese','altamente','indicar','cumplir','intentando','puntas','maneras','ambiente','tele','menciona','conozco','repente','hacerlo','tranquila','recuerde','acepto','normalmente','intentado','ninas','paren','ademas','pregunto','companero','consta','pidiendo','realizo','llame','visto','seguimiento','actuacion','llamando','cuestion','especies','cuestion','idea','disculpe','regalar','indica','inca','indica','siento','momentico','acerca','quisieron','quieren','hombres','debido','comuna','senores','hablo','this','acto','comunas','cuerda','adelante','mitad','vuelta','invierno','debia','parecio','mision','mananas','texto','maldito','aldeas','vieron','decirle','manejar','mantenido','exito','podian','quieren','conocen','parezca','hicieron','deberia','debemos','tratar','llamamos','caen','humor','llegue','actor','diseno','vienen','repito','curso','decia','anterior','talud','decide','curso','leyenda','dicto','ayudas','dejamos','aparecia','puedas','deje','hacerte','ayuden','darle','utah','rebelde','verlo','horno','podido','perdedor','necesitando','perfecto','perfectamente','callate','entiendo','detente','nuevamente','comentando','tanque','imaginate','momento','momentos','recorre','dependen','canciones','hicimos','atico','partir','claramente','pastizal','sirve','imbecil','bajas','montar','posterior','oyes','oye', 'llevan','parecen','necesitan','trae','aparece','posee','iguales','trajes','ahoritica','llevar','revisando','acido','culta','ultimos']\n",
        "df_personal['transcripcion1']=df_personal['transcripcion'].apply(lambda x: word_tokenize(x) )\n",
        "df_personal['transcripcion1']=df_personal['transcripcion1'].apply(lambda x: [word for word in x if not word in sw_w2v] )\n",
        "df_personal['transcripcion1']=df_personal['transcripcion1'].apply(lambda x: ' '.join(x) )"
      ],
      "execution_count": 76,
      "outputs": [
        {
          "output_type": "stream",
          "text": [
            "CPU times: user 34.8 ms, sys: 994 µs, total: 35.8 ms\n",
            "Wall time: 35.5 ms\n"
          ],
          "name": "stdout"
        }
      ]
    },
    {
      "cell_type": "code",
      "metadata": {
        "cellView": "form",
        "id": "SJ5nNOTL-_Sz"
      },
      "source": [
        "#@title Red Semántica\n",
        "\n",
        "#CREACION DEL CORPUS Y FACTORIZACION DE TERMINOS\n",
        "#Analizando los mensajes del usuario en general\n",
        "data=df_personal['transcripcion1'].tolist()\n",
        "\n",
        "#Oraciones a lista de palabras, remocion de puntuacion y caracteres innecesarios\n",
        "def sent_to_words(sentences):\n",
        "    for sentence in sentences:\n",
        "        yield(gensim.utils.simple_preprocess(str(sentence), deacc=True))  # deacc=True remueve puctuacion\n",
        "\n",
        "data_words = list(sent_to_words(data))# Se crea una lista de listas\n",
        "\n",
        "#BRIGRAMAS\n",
        "# Build the bigram and trigram models\n",
        "bigram = gensim.models.Phrases(data_words, min_count=5, threshold=100) # Umbral superior de pocas frases.\n",
        "trigram = gensim.models.Phrases(bigram[data_words], threshold=100)  \n",
        "\n",
        "# Faster way to get a sentence clubbed as a trigram/bigram\n",
        "bigram_mod = gensim.models.phrases.Phraser(bigram)\n",
        "trigram_mod = gensim.models.phrases.Phraser(trigram)\n",
        "\n",
        "# See trigram example\n",
        "#print(trigram_mod[bigram_mod[data_words[0]]])\n",
        "# Funciones para bigrams, trigrams lemmatization\n",
        "def make_bigrams(texts):\n",
        "    return [bigram_mod[doc] for doc in texts]\n",
        "\n",
        "def make_trigrams(texts):\n",
        "    return [trigram_mod[bigram_mod[doc]] for doc in texts]\n",
        "\n",
        "#Aplicacion de las respectivas funciones\n",
        "#Formacion de bigramas\n",
        "data_words_bigrams = make_bigrams(data_words)\n",
        "\n",
        "#Creacion del diccionario\n",
        "id2word = corpora.Dictionary(data_words_bigrams)\n",
        "\n",
        "# Creacion del Corpus\n",
        "texts = data_words_bigrams\n",
        "\n",
        "#Frecuencia termino documento\n",
        "corpus = [id2word.doc2bow(text) for text in texts]\n",
        "\n",
        "#VEMOS CUANTOS TERMINOS ESTAN EN NUESTRO DICCIONARIO Y CUALES SON LOS MÁS FRECUENTE\n",
        "word_freq = defaultdict(int)\n",
        "for sent in data_words_bigrams:\n",
        "    for i in sent:\n",
        "        word_freq[i] += 10\n",
        "len(word_freq)\n",
        "\n",
        "sorted(word_freq, key=word_freq.get, reverse=True)[50:100]\n",
        "\n",
        "cores = multiprocessing.cpu_count()\n",
        "\n",
        "##Entrenamiento del Modelo\n",
        "w2v_model = Word2Vec(min_count=7, #SE CONSTRUYE EL VOCABULARIO A PARTIR DE LA FRECUENCIA DE APARICION QUE SE DEFINA AQUI\n",
        "                     window=1,#SE AJUSTA EL NUMERO DE PALABRAS ATRAS Y ADELANTE DE LA PALABRA OBJETIVO PARA VECORIZARLA\n",
        "                     size=30, #EL TAMANO DEL VECTOR DE CADA PALABRA\n",
        "                     sample=1e-4, #-5 en principio #ESTE ES EL PARAMETRO QUE HAY QUE AJUSTAR, ES EL MAS SENSIBLE DEL MODELO\n",
        "                     alpha=0.003, \n",
        "                     min_alpha=0.007, \n",
        "                     negative=10,\n",
        "                     workers=cores-1)\n",
        "\n",
        "#Construccion de vocabulario\n",
        "w2v_model.build_vocab(data_words_bigrams, progress_per=10000)\n",
        "\n",
        "#Entrenamiento del modelo\n",
        "a=w2v_model.train(data_words_bigrams, total_examples=w2v_model.corpus_count, epochs=200, report_delay=1)\n",
        "\n",
        "#Terminos similares\n",
        "# w2v_model.wv.most_similar(positive=[\"contrasena\"], topn=10)\n",
        "\n",
        "##FUNCION PARA REDUCIR LA DIMENSION DEL ESPACIO DE PALABRAS Y PODER VISUALIZARLAS\n",
        "def tsnescatterplot(model, word, list_names):\n",
        "    \"\"\" Plot in seaborn the results from the t-SNE dimensionality reduction algorithm of the vectors of a query word,\n",
        "    its list of most similar words, and a list of words.\n",
        "    \"\"\"\n",
        "    arrays = np.empty((0, 30), dtype='f')\n",
        "    word_labels = [word]\n",
        "    color_list  = ['darkgreen']\n",
        "\n",
        "    # adds the vector of the query word\n",
        "    arrays = np.append(arrays, model.wv.__getitem__([word]), axis=0)\n",
        "    \n",
        "    # gets list of most similar words\n",
        "    close_words = model.wv.most_similar([word])\n",
        "    \n",
        "    # adds the vector for each of the closest words to the array\n",
        "    for wrd_score in close_words:\n",
        "        wrd_vector = model.wv.__getitem__([wrd_score[0]])\n",
        "        word_labels.append(wrd_score[0])\n",
        "        color_list.append('yellowgreen')\n",
        "        arrays = np.append(arrays, wrd_vector, axis=0)\n",
        "    \n",
        "    # adds the vector for each of the words from list_names to the array\n",
        "    for wrd in list_names:\n",
        "        wrd_vector = model.wv.__getitem__([wrd])\n",
        "        word_labels.append(wrd)\n",
        "        color_list.append('gold')\n",
        "        arrays = np.append(arrays, wrd_vector, axis=0)\n",
        "        \n",
        "    # Reduces the dimensionality from 300 to 50 dimensions with PCA\n",
        "    reduc = PCA(n_components=10).fit_transform(arrays)\n",
        "    \n",
        "    # Finds t-SNE coordinates for 2 dimensions\n",
        "    np.set_printoptions(suppress=True)\n",
        "    \n",
        "    Y = TSNE(n_components=2, random_state=0, perplexity=15).fit_transform(reduc)\n",
        "    freq=[]\n",
        "    for i in word_labels:\n",
        "       freq.append(word_freq[i])\n",
        "\n",
        "    # Sets everything up to plot\n",
        "    df = pd.DataFrame({'x': [x for x in Y[:, 0]],\n",
        "                       'y': [y for y in Y[:, 1]],\n",
        "                       'words': word_labels,\n",
        "                       'color': color_list,'freq':freq})\n",
        "    \n",
        "    fig, _ = plt.subplots()\n",
        "    fig.set_size_inches(9, 9)\n",
        "    \n",
        "    # Basic plot\n",
        "    p1 = sns.regplot(data=df,\n",
        "                     x=\"x\",\n",
        "                     y=\"y\",\n",
        "                     fit_reg=False,\n",
        "                     marker=\"o\",\n",
        "                     scatter_kws={'s': df['freq'],\n",
        "                                  'facecolors': df['color']\n",
        "                                 }\n",
        "                    )\n",
        "    \n",
        "    # Adds annotations one by one with a loop\n",
        "    for line in range(0, df.shape[0]):\n",
        "         p1.text(df[\"x\"][line],\n",
        "                 df['y'][line],\n",
        "                 '  ('+ df[\"words\"][line].title()+','+str(df['freq'][line])+')',\n",
        "                 horizontalalignment='left',\n",
        "                 verticalalignment='top', size='small',\n",
        "                 #color=df['color'][line],\n",
        "                 color='black',\n",
        "                 weight='normal'\n",
        "                ).set_size(11)\n",
        "    \n",
        "    plt.axis(emit=True)\n",
        "    plt.xlim(Y[:, 0].min()-10, Y[:, 0].max()+10)\n",
        "    plt.ylim(Y[:, 1].min()-10, Y[:, 1].max()+30)\n",
        "    plt.title('Visualización semántica para {}'.format(word.title()))"
      ],
      "execution_count": 77,
      "outputs": []
    },
    {
      "cell_type": "code",
      "metadata": {
        "cellView": "code",
        "id": "rRNBK70Z_X3t",
        "colab": {
          "base_uri": "https://localhost:8080/",
          "height": 593
        },
        "outputId": "4e4d62ec-89c7-4744-9d44-a016e55d66da"
      },
      "source": [
        "#@title\n",
        "tsnescatterplot(w2v_model, \"certificado\", [t[0] for t in w2v_model.wv.most_similar(positive=[\"certificado\"], topn=20)][10:])\n",
        "plt.savefig(\"similaridad_calidad_certificado.png\",bbox_inches = 'tight')"
      ],
      "execution_count": 78,
      "outputs": [
        {
          "output_type": "display_data",
          "data": {
            "image/png": "[encoded data removed]",
            "text/plain": [
              "<Figure size 648x648 with 1 Axes>"
            ]
          },
          "metadata": {
            "tags": [],
            "needs_background": "light"
          }
        }
      ]
    },
    {
      "cell_type": "code",
      "metadata": {
        "id": "Pa0r87T1ssBe"
      },
      "source": [
        " word_vectors = w2v_model.wv\n",
        " word_vectors.save_word2vec_format('/content/drive/My Drive/data/ABPS/NPL_Ecopetrol/word_to_vec_ecopetrol/accionista/w2vec')\n",
        " #Save model\n",
        "from gensim.scripts.word2vec2tensor import word2vec2tensor \n",
        "word2vec2tensor('/content/drive/My Drive/data/ABPS/NPL_Ecopetrol/word_to_vec_ecopetrol/accionista/w2vec', '_tensor_accionista_00')"
      ],
      "execution_count": 79,
      "outputs": []
    },
    {
      "cell_type": "markdown",
      "metadata": {
        "id": "mZl_RBUWmhlN"
      },
      "source": [
        "<b><font color=orange size=5> DETECCION DE LA TIPOLOGIA DE LAS PALABRAS EMPLEADAS POR LOS AGENTES </font></b>"
      ]
    },
    {
      "cell_type": "markdown",
      "metadata": {
        "id": "EzmOPLQUxfKE"
      },
      "source": [
        "Para realiar esta parte, es necsariao previamente traducir el texto puro al inglés, es decir, el texto completo, con las stop-words y demás tal como lo obtenemos del algoritmo de speech to text."
      ]
    },
    {
      "cell_type": "code",
      "metadata": {
        "id": "uvHAbFGlxjl1",
        "colab": {
          "base_uri": "https://localhost:8080/"
        },
        "outputId": "76f7c385-4fc4-4f31-d49e-c5290227cc2f"
      },
      "source": [
        "segmento='Atención al Accionista'\r\n",
        "#df=pd.read_parquet('/content/drive/My Drive/NPL_Ecopetrol/emotion_analysis/translate_ecopetrol_agent.parquet')\r\n",
        "df=df_agent\r\n",
        "\r\n",
        "df=df[df['Linea']=='Atención al accionista']\r\n",
        "df['Len'] = [len(x) for x in df[\"transcripcion\"]]\r\n",
        "len(df[df['Len']>5000])"
      ],
      "execution_count": 80,
      "outputs": [
        {
          "output_type": "execute_result",
          "data": {
            "text/plain": [
              "0"
            ]
          },
          "metadata": {
            "tags": []
          },
          "execution_count": 80
        }
      ]
    },
    {
      "cell_type": "code",
      "metadata": {
        "id": "_wWfhSgtxrnb",
        "colab": {
          "base_uri": "https://localhost:8080/"
        },
        "outputId": "7b20c47b-095f-479e-ef8d-508e4aeb4361"
      },
      "source": [
        "%%time\r\n",
        "df[\"c_english\"] = df[\"transcripcion\"].apply(lambda x: translator.translate((x[:5000])).text)\r\n",
        "#df[\"c_english\"] = [translator.translate(x[:5000]).text for x in list(df[\"transcripcion\"])]\r\n",
        "#df=df.sample(n=300, random_state=0)"
      ],
      "execution_count": 81,
      "outputs": [
        {
          "output_type": "stream",
          "text": [
            "CPU times: user 710 ms, sys: 69 ms, total: 779 ms\n",
            "Wall time: 32 s\n"
          ],
          "name": "stdout"
        }
      ]
    },
    {
      "cell_type": "code",
      "metadata": {
        "id": "InsBpBrCaeCt",
        "colab": {
          "base_uri": "https://localhost:8080/",
          "height": 597
        },
        "outputId": "f14df349-a518-4873-e219-a4694262954a"
      },
      "source": [
        "df[['transcripcion','c_english']]"
      ],
      "execution_count": 82,
      "outputs": [
        {
          "output_type": "execute_result",
          "data": {
            "text/html": [
              "<div>\n",
              "<style scoped>\n",
              "    .dataframe tbody tr th:only-of-type {\n",
              "        vertical-align: middle;\n",
              "    }\n",
              "\n",
              "    .dataframe tbody tr th {\n",
              "        vertical-align: top;\n",
              "    }\n",
              "\n",
              "    .dataframe thead th {\n",
              "        text-align: right;\n",
              "    }\n",
              "</style>\n",
              "<table border=\"1\" class=\"dataframe\">\n",
              "  <thead>\n",
              "    <tr style=\"text-align: right;\">\n",
              "      <th></th>\n",
              "      <th>transcripcion</th>\n",
              "      <th>c_english</th>\n",
              "    </tr>\n",
              "  </thead>\n",
              "  <tbody>\n",
              "    <tr>\n",
              "      <th>2</th>\n",
              "      <td>tensional accionista hablar encuentra disculpeme disculpeme contienen datos solicitud informar p...</td>\n",
              "      <td>Tensioner Shareholder Talking Find Find Me Requests Requests Inform Perfect Worry Confirm Commen...</td>\n",
              "    </tr>\n",
              "    <tr>\n",
              "      <th>6</th>\n",
              "      <td>tensional hablar encuentra mostro disculpeme inicio solicitud agradezcome confirmes accionista d...</td>\n",
              "      <td>TENSIONAL Talking Find Show Excuse me Home Request I thank you Confirm Shareholder Tennist Home ...</td>\n",
              "    </tr>\n",
              "    <tr>\n",
              "      <th>54</th>\n",
              "      <td>united probable hablar disculpeme escucho interferencia copio encuentra alegra disculpe asociada...</td>\n",
              "      <td>united probable talk sorry I listen to interference Copio Find a happy apology Associate Continu...</td>\n",
              "    </tr>\n",
              "    <tr>\n",
              "      <th>60</th>\n",
              "      <td>diversion compuesto anillos hablar intelectual documentos permitame poderle brindar desman datos...</td>\n",
              "      <td>Diversion compound Rings Talking Intellectual Documents Allow me to provide Disany data availabl...</td>\n",
              "    </tr>\n",
              "    <tr>\n",
              "      <th>63</th>\n",
              "      <td>vigencia hablar encuentra senal permitame documento zonas permiten realidad podra poderle brinda...</td>\n",
              "      <td>Validity Speak Find Signal Allow me Document areas allow you to be able to provide you, we must ...</td>\n",
              "    </tr>\n",
              "    <tr>\n",
              "      <th>...</th>\n",
              "      <td>...</td>\n",
              "      <td>...</td>\n",
              "    </tr>\n",
              "    <tr>\n",
              "      <th>2176</th>\n",
              "      <td>accionistas colaborar indican documento identidad comentare sigamos reportaron narraciones escri...</td>\n",
              "      <td>Shareholders Collaborate Indicate Document Identity CommentEar Siglamos Reported Written Narrati...</td>\n",
              "    </tr>\n",
              "    <tr>\n",
              "      <th>2182</th>\n",
              "      <td>tensional accionista control hablar inacabada hablar encuentras alegra disculpe contenido solici...</td>\n",
              "      <td>Tensioner Control Talking Inacobada Talking Find Alegre Sorry Content Request Requests Confirm F...</td>\n",
              "    </tr>\n",
              "    <tr>\n",
              "      <th>2197</th>\n",
              "      <td>vendido completo colaborar indicaria documento titular permitame validamos pecados secciones fir...</td>\n",
              "      <td>Sold full Collaborate Indicaria Document holder Allow me Validate sinches Sections Commissioner ...</td>\n",
              "    </tr>\n",
              "    <tr>\n",
              "      <th>2219</th>\n",
              "      <td>colaborar colaborar indican documento informacion indiqueme evidencias compro fija electronico f...</td>\n",
              "      <td>Collaborate Collaborate Indicate Information Indicate Evidence Compro Fixed Electronic Form Comp...</td>\n",
              "    </tr>\n",
              "    <tr>\n",
              "      <th>2247</th>\n",
              "      <td>tensional accionista copec produce hablar disculpe poderle colaborar informacion retener complet...</td>\n",
              "      <td>TENSIONAL shareholder Copec produces Speak to be able to collaborate Information to Hold Full Sh...</td>\n",
              "    </tr>\n",
              "  </tbody>\n",
              "</table>\n",
              "<p>73 rows × 2 columns</p>\n",
              "</div>"
            ],
            "text/plain": [
              "                                                                                            transcripcion                                                                                            c_english\n",
              "2     tensional accionista hablar encuentra disculpeme disculpeme contienen datos solicitud informar p...  Tensioner Shareholder Talking Find Find Me Requests Requests Inform Perfect Worry Confirm Commen...\n",
              "6     tensional hablar encuentra mostro disculpeme inicio solicitud agradezcome confirmes accionista d...  TENSIONAL Talking Find Show Excuse me Home Request I thank you Confirm Shareholder Tennist Home ...\n",
              "54    united probable hablar disculpeme escucho interferencia copio encuentra alegra disculpe asociada...  united probable talk sorry I listen to interference Copio Find a happy apology Associate Continu...\n",
              "60    diversion compuesto anillos hablar intelectual documentos permitame poderle brindar desman datos...  Diversion compound Rings Talking Intellectual Documents Allow me to provide Disany data availabl...\n",
              "63    vigencia hablar encuentra senal permitame documento zonas permiten realidad podra poderle brinda...  Validity Speak Find Signal Allow me Document areas allow you to be able to provide you, we must ...\n",
              "...                                                                                                   ...                                                                                                  ...\n",
              "2176  accionistas colaborar indican documento identidad comentare sigamos reportaron narraciones escri...  Shareholders Collaborate Indicate Document Identity CommentEar Siglamos Reported Written Narrati...\n",
              "2182  tensional accionista control hablar inacabada hablar encuentras alegra disculpe contenido solici...  Tensioner Control Talking Inacobada Talking Find Alegre Sorry Content Request Requests Confirm F...\n",
              "2197  vendido completo colaborar indicaria documento titular permitame validamos pecados secciones fir...  Sold full Collaborate Indicaria Document holder Allow me Validate sinches Sections Commissioner ...\n",
              "2219  colaborar colaborar indican documento informacion indiqueme evidencias compro fija electronico f...  Collaborate Collaborate Indicate Information Indicate Evidence Compro Fixed Electronic Form Comp...\n",
              "2247  tensional accionista copec produce hablar disculpe poderle colaborar informacion retener complet...  TENSIONAL shareholder Copec produces Speak to be able to collaborate Information to Hold Full Sh...\n",
              "\n",
              "[73 rows x 2 columns]"
            ]
          },
          "metadata": {
            "tags": []
          },
          "execution_count": 82
        }
      ]
    },
    {
      "cell_type": "code",
      "metadata": {
        "id": "_QiFInKqmjNY",
        "colab": {
          "base_uri": "https://localhost:8080/",
          "height": 542
        },
        "outputId": "e3c1847c-2009-4910-9885-53a0a79a9bba"
      },
      "source": [
        "# Diccionario donde se guardarán los léxicos.\n",
        "vocab={}\n",
        "# Iteramos para cada una de las emociones de EmoLex.\n",
        "for lexicon in os.listdir(\"EmoLex/\"):\n",
        "    # Se abre cada .txt, se extraen todas las palabras y se eliminan saltos de línea.\n",
        "    with open(\"EmoLex/\"+lexicon,\"r\") as f:\n",
        "        vocab[lexicon.split(\".\")[0]]=[i[:-1] for i in f.readlines()]\n",
        "\n",
        "\n",
        "def emotion_count(text,vocab):\n",
        "    # Separamos las palábras por espacios.\n",
        "    words=text.split(\" \")\n",
        "    # Creamos un diccionario donde se guardarán los conteos por cada emoción.\n",
        "    counts={i:0 for i in list(vocab.keys())}\n",
        "    # Creamos un diccionario donde se guardarán las palabras coincidentes con cada léxico.\n",
        "    words_per_emo={i:[] for i in list(vocab.keys())}\n",
        "    # Iteramos para cada una de las palábras dentro del texto.\n",
        "    for word in words:\n",
        "        # Iteramos para cada una de las emociones del léxico.\n",
        "        for emo in vocab:\n",
        "            # Evalúamos si la palabra está dentro del léxico de cada emoción\n",
        "            if word in vocab[emo]:\n",
        "                # Si la palabra está en el léxico de la emoción, sumamos 1 al conteo acumulado.\n",
        "                counts[emo]+=1\n",
        "                # También agregamos la palabra coincidente.\n",
        "                words_per_emo[emo].append(word)\n",
        "    return counts, words_per_emo\n",
        "\n",
        "df['counts,detected_words']=df['c_english'].apply(lambda x: emotion_count(x,vocab)[0])   \n",
        "\n",
        "dd = defaultdict(list)\n",
        "list_emotions=df['counts,detected_words'].tolist()\n",
        "for d in (list_emotions): \n",
        "     for key, value in d.items():\n",
        "         dd[key].append(value)\n",
        "\n",
        "\n",
        "\n",
        "\n",
        "for name, value in dd.items():\n",
        "  dd[name]=sum(value)\n",
        "\n",
        "dd0={}\n",
        "for name, value in dd.items():\n",
        "   if name=='anger':\n",
        "    name='enojo'\n",
        "    dd0[name]=value\n",
        "  \n",
        "   if name=='fear':\n",
        "    name='ansiedad'\n",
        "    dd0[name]=value\n",
        "  \n",
        "   if name=='trust':\n",
        "    name='confianza'\n",
        "    dd0[name]=value\n",
        "  \n",
        "   if name=='negative':\n",
        "    name='negativa'\n",
        "    dd0[name]=value\n",
        "  \n",
        "   if name=='anticipation':\n",
        "    name='anticipación'\n",
        "    dd0[name]=value\n",
        "  \n",
        "   if name=='disgust':\n",
        "    name='disgusto'\n",
        "    dd0[name]=value\n",
        "  \n",
        "   if name=='positive':\n",
        "    name='positiva'\n",
        "    dd0[name]=value\n",
        "  \n",
        "   if name=='joy':\n",
        "    name='disfrute'\n",
        "    dd0[name]=value\n",
        "  \n",
        "   if name=='surprise':\n",
        "    name='sorpresa'\n",
        "    dd0[name]=value\n",
        "  \n",
        "   if name=='sadness':\n",
        "    name='aflicción'\n",
        "    dd0[name]=value\n",
        "  \n",
        "df_p=pd.DataFrame(dd0, index=range(0,11))\n",
        "df_p=df_p.T\n",
        "df_p=df_p.rename(columns={0:'Frecuencia'})\n",
        "df_p=df_p[['Frecuencia']]\n",
        "df_p=df_p.sort_values(by='Frecuencia', ascending=False)\n",
        "\n",
        "fig=px.bar( x=df_p.index,color_discrete_sequence=[\"darkgreen\",\"gold\",\"yellowgreen\"], y=df_p.Frecuencia, title='Ámbito de las expresiones utilizadas por los agentes en las conversaciones:'+' '+segmento,  labels=dict(x=\"Tipología de las palabras empleadas\", y=\"Frecuencia\", color=\"Place\"))\n",
        "fig.write_html(segmento+\"_palabras_agente_.html\")\n",
        "fig.show()"
      ],
      "execution_count": 83,
      "outputs": [
        {
          "output_type": "display_data",
          "data": {
            "text/html": [
              "<html>\n",
              "<head><meta charset=\"utf-8\" /></head>\n",
              "<body>\n",
              "    <div>\n",
              "            <script src=\"https://cdnjs.cloudflare.com/ajax/libs/mathjax/2.7.5/MathJax.js?config=TeX-AMS-MML_SVG\"></script><script type=\"text/javascript\">if (window.MathJax) {MathJax.Hub.Config({SVG: {font: \"STIX-Web\"}});}</script>\n",
              "                <script type=\"text/javascript\">window.PlotlyConfig = {MathJaxConfig: 'local'};</script>\n",
              "        <script src=\"https://cdn.plot.ly/plotly-latest.min.js\"></script>    \n",
              "            <div id=\"73c9308e-e9b6-4779-9056-724a5282227b\" class=\"plotly-graph-div\" style=\"height:525px; width:100%;\"></div>\n",
              "            <script type=\"text/javascript\">\n",
              "                \n",
              "                    window.PLOTLYENV=window.PLOTLYENV || {};\n",
              "                    \n",
              "                if (document.getElementById(\"73c9308e-e9b6-4779-9056-724a5282227b\")) {\n",
              "                    Plotly.newPlot(\n",
              "                        '73c9308e-e9b6-4779-9056-724a5282227b',\n",
              "                        [{\"alignmentgroup\": \"True\", \"hoverlabel\": {\"namelength\": 0}, \"hovertemplate\": \"Tipolog\\u00eda de las palabras empleadas=%{x}<br>Frecuencia=%{y}\", \"legendgroup\": \"\", \"marker\": {\"color\": \"darkgreen\"}, \"name\": \"\", \"offsetgroup\": \"\", \"orientation\": \"v\", \"showlegend\": false, \"textposition\": \"auto\", \"type\": \"bar\", \"x\": [\"positiva\", \"confianza\", \"negativa\", \"anticipaci\\u00f3n\", \"disfrute\", \"aflicci\\u00f3n\", \"sorpresa\", \"ansiedad\", \"enojo\", \"disgusto\"], \"xaxis\": \"x\", \"y\": [77, 55, 24, 17, 12, 10, 10, 7, 5, 5], \"yaxis\": \"y\"}],\n",
              "                        {\"barmode\": \"relative\", \"legend\": {\"tracegroupgap\": 0}, \"template\": {\"data\": {\"bar\": [{\"error_x\": {\"color\": \"#2a3f5f\"}, \"error_y\": {\"color\": \"#2a3f5f\"}, \"marker\": {\"line\": {\"color\": \"#E5ECF6\", \"width\": 0.5}}, \"type\": \"bar\"}], \"barpolar\": [{\"marker\": {\"line\": {\"color\": \"#E5ECF6\", \"width\": 0.5}}, \"type\": \"barpolar\"}], \"carpet\": [{\"aaxis\": {\"endlinecolor\": \"#2a3f5f\", \"gridcolor\": \"white\", \"linecolor\": \"white\", \"minorgridcolor\": \"white\", \"startlinecolor\": \"#2a3f5f\"}, \"baxis\": {\"endlinecolor\": \"#2a3f5f\", \"gridcolor\": \"white\", \"linecolor\": \"white\", \"minorgridcolor\": \"white\", \"startlinecolor\": \"#2a3f5f\"}, \"type\": \"carpet\"}], \"choropleth\": [{\"colorbar\": {\"outlinewidth\": 0, \"ticks\": \"\"}, \"type\": \"choropleth\"}], \"contour\": [{\"colorbar\": {\"outlinewidth\": 0, \"ticks\": \"\"}, \"colorscale\": [[0.0, \"#0d0887\"], [0.1111111111111111, \"#46039f\"], [0.2222222222222222, \"#7201a8\"], [0.3333333333333333, \"#9c179e\"], [0.4444444444444444, \"#bd3786\"], [0.5555555555555556, \"#d8576b\"], [0.6666666666666666, \"#ed7953\"], [0.7777777777777778, \"#fb9f3a\"], [0.8888888888888888, \"#fdca26\"], [1.0, \"#f0f921\"]], \"type\": \"contour\"}], \"contourcarpet\": [{\"colorbar\": {\"outlinewidth\": 0, \"ticks\": \"\"}, \"type\": \"contourcarpet\"}], \"heatmap\": [{\"colorbar\": {\"outlinewidth\": 0, \"ticks\": \"\"}, \"colorscale\": [[0.0, \"#0d0887\"], [0.1111111111111111, \"#46039f\"], [0.2222222222222222, \"#7201a8\"], [0.3333333333333333, \"#9c179e\"], [0.4444444444444444, \"#bd3786\"], [0.5555555555555556, \"#d8576b\"], [0.6666666666666666, \"#ed7953\"], [0.7777777777777778, \"#fb9f3a\"], [0.8888888888888888, \"#fdca26\"], [1.0, \"#f0f921\"]], \"type\": \"heatmap\"}], \"heatmapgl\": [{\"colorbar\": {\"outlinewidth\": 0, \"ticks\": \"\"}, \"colorscale\": [[0.0, \"#0d0887\"], [0.1111111111111111, \"#46039f\"], [0.2222222222222222, \"#7201a8\"], [0.3333333333333333, \"#9c179e\"], [0.4444444444444444, \"#bd3786\"], [0.5555555555555556, \"#d8576b\"], [0.6666666666666666, \"#ed7953\"], [0.7777777777777778, \"#fb9f3a\"], [0.8888888888888888, \"#fdca26\"], [1.0, \"#f0f921\"]], \"type\": \"heatmapgl\"}], \"histogram\": [{\"marker\": {\"colorbar\": {\"outlinewidth\": 0, \"ticks\": \"\"}}, \"type\": \"histogram\"}], \"histogram2d\": [{\"colorbar\": {\"outlinewidth\": 0, \"ticks\": \"\"}, \"colorscale\": [[0.0, \"#0d0887\"], [0.1111111111111111, \"#46039f\"], [0.2222222222222222, \"#7201a8\"], [0.3333333333333333, \"#9c179e\"], [0.4444444444444444, \"#bd3786\"], [0.5555555555555556, \"#d8576b\"], [0.6666666666666666, \"#ed7953\"], [0.7777777777777778, \"#fb9f3a\"], [0.8888888888888888, \"#fdca26\"], [1.0, \"#f0f921\"]], \"type\": \"histogram2d\"}], \"histogram2dcontour\": [{\"colorbar\": {\"outlinewidth\": 0, \"ticks\": \"\"}, \"colorscale\": [[0.0, \"#0d0887\"], [0.1111111111111111, \"#46039f\"], [0.2222222222222222, \"#7201a8\"], [0.3333333333333333, \"#9c179e\"], [0.4444444444444444, \"#bd3786\"], [0.5555555555555556, \"#d8576b\"], [0.6666666666666666, \"#ed7953\"], [0.7777777777777778, \"#fb9f3a\"], [0.8888888888888888, \"#fdca26\"], [1.0, \"#f0f921\"]], \"type\": \"histogram2dcontour\"}], \"mesh3d\": [{\"colorbar\": {\"outlinewidth\": 0, \"ticks\": \"\"}, \"type\": \"mesh3d\"}], \"parcoords\": [{\"line\": {\"colorbar\": {\"outlinewidth\": 0, \"ticks\": \"\"}}, \"type\": \"parcoords\"}], \"pie\": [{\"automargin\": true, \"type\": \"pie\"}], \"scatter\": [{\"marker\": {\"colorbar\": {\"outlinewidth\": 0, \"ticks\": \"\"}}, \"type\": \"scatter\"}], \"scatter3d\": [{\"line\": {\"colorbar\": {\"outlinewidth\": 0, \"ticks\": \"\"}}, \"marker\": {\"colorbar\": {\"outlinewidth\": 0, \"ticks\": \"\"}}, \"type\": \"scatter3d\"}], \"scattercarpet\": [{\"marker\": {\"colorbar\": {\"outlinewidth\": 0, \"ticks\": \"\"}}, \"type\": \"scattercarpet\"}], \"scattergeo\": [{\"marker\": {\"colorbar\": {\"outlinewidth\": 0, \"ticks\": \"\"}}, \"type\": \"scattergeo\"}], \"scattergl\": [{\"marker\": {\"colorbar\": {\"outlinewidth\": 0, \"ticks\": \"\"}}, \"type\": \"scattergl\"}], \"scattermapbox\": [{\"marker\": {\"colorbar\": {\"outlinewidth\": 0, \"ticks\": \"\"}}, \"type\": \"scattermapbox\"}], \"scatterpolar\": [{\"marker\": {\"colorbar\": {\"outlinewidth\": 0, \"ticks\": \"\"}}, \"type\": \"scatterpolar\"}], \"scatterpolargl\": [{\"marker\": {\"colorbar\": {\"outlinewidth\": 0, \"ticks\": \"\"}}, \"type\": \"scatterpolargl\"}], \"scatterternary\": [{\"marker\": {\"colorbar\": {\"outlinewidth\": 0, \"ticks\": \"\"}}, \"type\": \"scatterternary\"}], \"surface\": [{\"colorbar\": {\"outlinewidth\": 0, \"ticks\": \"\"}, \"colorscale\": [[0.0, \"#0d0887\"], [0.1111111111111111, \"#46039f\"], [0.2222222222222222, \"#7201a8\"], [0.3333333333333333, \"#9c179e\"], [0.4444444444444444, \"#bd3786\"], [0.5555555555555556, \"#d8576b\"], [0.6666666666666666, \"#ed7953\"], [0.7777777777777778, \"#fb9f3a\"], [0.8888888888888888, \"#fdca26\"], [1.0, \"#f0f921\"]], \"type\": \"surface\"}], \"table\": [{\"cells\": {\"fill\": {\"color\": \"#EBF0F8\"}, \"line\": {\"color\": \"white\"}}, \"header\": {\"fill\": {\"color\": \"#C8D4E3\"}, \"line\": {\"color\": \"white\"}}, \"type\": \"table\"}]}, \"layout\": {\"annotationdefaults\": {\"arrowcolor\": \"#2a3f5f\", \"arrowhead\": 0, \"arrowwidth\": 1}, \"coloraxis\": {\"colorbar\": {\"outlinewidth\": 0, \"ticks\": \"\"}}, \"colorscale\": {\"diverging\": [[0, \"#8e0152\"], [0.1, \"#c51b7d\"], [0.2, \"#de77ae\"], [0.3, \"#f1b6da\"], [0.4, \"#fde0ef\"], [0.5, \"#f7f7f7\"], [0.6, \"#e6f5d0\"], [0.7, \"#b8e186\"], [0.8, \"#7fbc41\"], [0.9, \"#4d9221\"], [1, \"#276419\"]], \"sequential\": [[0.0, \"#0d0887\"], [0.1111111111111111, \"#46039f\"], [0.2222222222222222, \"#7201a8\"], [0.3333333333333333, \"#9c179e\"], [0.4444444444444444, \"#bd3786\"], [0.5555555555555556, \"#d8576b\"], [0.6666666666666666, \"#ed7953\"], [0.7777777777777778, \"#fb9f3a\"], [0.8888888888888888, \"#fdca26\"], [1.0, \"#f0f921\"]], \"sequentialminus\": [[0.0, \"#0d0887\"], [0.1111111111111111, \"#46039f\"], [0.2222222222222222, \"#7201a8\"], [0.3333333333333333, \"#9c179e\"], [0.4444444444444444, \"#bd3786\"], [0.5555555555555556, \"#d8576b\"], [0.6666666666666666, \"#ed7953\"], [0.7777777777777778, \"#fb9f3a\"], [0.8888888888888888, \"#fdca26\"], [1.0, \"#f0f921\"]]}, \"colorway\": [\"#636efa\", \"#EF553B\", \"#00cc96\", \"#ab63fa\", \"#FFA15A\", \"#19d3f3\", \"#FF6692\", \"#B6E880\", \"#FF97FF\", \"#FECB52\"], \"font\": {\"color\": \"#2a3f5f\"}, \"geo\": {\"bgcolor\": \"white\", \"lakecolor\": \"white\", \"landcolor\": \"#E5ECF6\", \"showlakes\": true, \"showland\": true, \"subunitcolor\": \"white\"}, \"hoverlabel\": {\"align\": \"left\"}, \"hovermode\": \"closest\", \"mapbox\": {\"style\": \"light\"}, \"paper_bgcolor\": \"white\", \"plot_bgcolor\": \"#E5ECF6\", \"polar\": {\"angularaxis\": {\"gridcolor\": \"white\", \"linecolor\": \"white\", \"ticks\": \"\"}, \"bgcolor\": \"#E5ECF6\", \"radialaxis\": {\"gridcolor\": \"white\", \"linecolor\": \"white\", \"ticks\": \"\"}}, \"scene\": {\"xaxis\": {\"backgroundcolor\": \"#E5ECF6\", \"gridcolor\": \"white\", \"gridwidth\": 2, \"linecolor\": \"white\", \"showbackground\": true, \"ticks\": \"\", \"zerolinecolor\": \"white\"}, \"yaxis\": {\"backgroundcolor\": \"#E5ECF6\", \"gridcolor\": \"white\", \"gridwidth\": 2, \"linecolor\": \"white\", \"showbackground\": true, \"ticks\": \"\", \"zerolinecolor\": \"white\"}, \"zaxis\": {\"backgroundcolor\": \"#E5ECF6\", \"gridcolor\": \"white\", \"gridwidth\": 2, \"linecolor\": \"white\", \"showbackground\": true, \"ticks\": \"\", \"zerolinecolor\": \"white\"}}, \"shapedefaults\": {\"line\": {\"color\": \"#2a3f5f\"}}, \"ternary\": {\"aaxis\": {\"gridcolor\": \"white\", \"linecolor\": \"white\", \"ticks\": \"\"}, \"baxis\": {\"gridcolor\": \"white\", \"linecolor\": \"white\", \"ticks\": \"\"}, \"bgcolor\": \"#E5ECF6\", \"caxis\": {\"gridcolor\": \"white\", \"linecolor\": \"white\", \"ticks\": \"\"}}, \"title\": {\"x\": 0.05}, \"xaxis\": {\"automargin\": true, \"gridcolor\": \"white\", \"linecolor\": \"white\", \"ticks\": \"\", \"title\": {\"standoff\": 15}, \"zerolinecolor\": \"white\", \"zerolinewidth\": 2}, \"yaxis\": {\"automargin\": true, \"gridcolor\": \"white\", \"linecolor\": \"white\", \"ticks\": \"\", \"title\": {\"standoff\": 15}, \"zerolinecolor\": \"white\", \"zerolinewidth\": 2}}}, \"title\": {\"text\": \"\\u00c1mbito de las expresiones utilizadas por los agentes en las conversaciones: Atenci\\u00f3n al Accionista\"}, \"xaxis\": {\"anchor\": \"y\", \"domain\": [0.0, 1.0], \"title\": {\"text\": \"Tipolog\\u00eda de las palabras empleadas\"}}, \"yaxis\": {\"anchor\": \"x\", \"domain\": [0.0, 1.0], \"title\": {\"text\": \"Frecuencia\"}}},\n",
              "                        {\"responsive\": true}\n",
              "                    ).then(function(){\n",
              "                            \n",
              "var gd = document.getElementById('73c9308e-e9b6-4779-9056-724a5282227b');\n",
              "var x = new MutationObserver(function (mutations, observer) {{\n",
              "        var display = window.getComputedStyle(gd).display;\n",
              "        if (!display || display === 'none') {{\n",
              "            console.log([gd, 'removed!']);\n",
              "            Plotly.purge(gd);\n",
              "            observer.disconnect();\n",
              "        }}\n",
              "}});\n",
              "\n",
              "// Listen for the removal of the full notebook cells\n",
              "var notebookContainer = gd.closest('#notebook-container');\n",
              "if (notebookContainer) {{\n",
              "    x.observe(notebookContainer, {childList: true});\n",
              "}}\n",
              "\n",
              "// Listen for the clearing of the current output cell\n",
              "var outputEl = gd.closest('.output');\n",
              "if (outputEl) {{\n",
              "    x.observe(outputEl, {childList: true});\n",
              "}}\n",
              "\n",
              "                        })\n",
              "                };\n",
              "                \n",
              "            </script>\n",
              "        </div>\n",
              "</body>\n",
              "</html>"
            ]
          },
          "metadata": {
            "tags": []
          }
        }
      ]
    },
    {
      "cell_type": "code",
      "metadata": {
        "id": "YlovCazcZOK3"
      },
      "source": [
        "df_atencion_a=pd.DataFrame()\n",
        "df_atencion_a['cantidad_palabras']=list(dd0.values())\n",
        "df_atencion_a['tipo_palabra']=list(dd0.keys())"
      ],
      "execution_count": 84,
      "outputs": []
    },
    {
      "cell_type": "markdown",
      "metadata": {
        "id": "tdRzoZ2DmwV2"
      },
      "source": [
        "<b><font color=orange size=5> DETECCION DE EMOCIONES</font></b>"
      ]
    },
    {
      "cell_type": "markdown",
      "metadata": {
        "id": "N_JSf6yox0kd"
      },
      "source": [
        "Para la detección de emociones en el texto, debemos cargar el texto traducido al inglés. Se realia la aclaración de que el texto traducido debe ser el texto puro, con las stop-words y demás debido a que es necesario tener las frases completas para la clasificación."
      ]
    },
    {
      "cell_type": "code",
      "metadata": {
        "id": "i4KDJcSs21wi",
        "colab": {
          "base_uri": "https://localhost:8080/"
        },
        "outputId": "b10238fa-1b6b-432d-84cc-f6ecf6fd1ddc"
      },
      "source": [
        "#df=pd.read_parquet('/content/drive/My Drive/NPL_Ecopetrol/emotion_analysis/translate_ecopetrol.parquet')\n",
        "#df=df.drop_duplicates('name')\n",
        "#df=df_user_copy\n",
        "\n",
        "#df_personal0=df[df['Linea']=='Atención al accionista']\n",
        "#df_personal0=df_user_copy[df_user_copy['Linea']=='Atención al accionista']\n",
        "df_personal0=df_accionista\n",
        "#df_personal0=df_personal0.sample(n=300, random_state=0)\n",
        "df_personal0['Len'] = [len(x) for x in df_personal0[\"transcripcion\"]]\n",
        "len(df_personal0[df_personal0['Len']>5000])"
      ],
      "execution_count": 85,
      "outputs": [
        {
          "output_type": "execute_result",
          "data": {
            "text/plain": [
              "0"
            ]
          },
          "metadata": {
            "tags": []
          },
          "execution_count": 85
        }
      ]
    },
    {
      "cell_type": "code",
      "metadata": {
        "id": "qiElm6c1_Jyc",
        "colab": {
          "base_uri": "https://localhost:8080/"
        },
        "outputId": "1e96fed1-a8b2-49e4-a615-14f28253d1ae"
      },
      "source": [
        "%%time\r\n",
        "df_personal0[\"c_english\"] = df_personal0[\"transcripcion\"].apply(lambda x: translator.translate((x[:5000])).text)\r\n"
      ],
      "execution_count": 86,
      "outputs": [
        {
          "output_type": "stream",
          "text": [
            "CPU times: user 437 ms, sys: 36.2 ms, total: 473 ms\n",
            "Wall time: 23.4 s\n"
          ],
          "name": "stdout"
        }
      ]
    },
    {
      "cell_type": "code",
      "metadata": {
        "id": "qiU7J1RBB_uq",
        "colab": {
          "base_uri": "https://localhost:8080/",
          "height": 580
        },
        "outputId": "6ffa3cbc-ed04-4f35-ee3d-4e6b00d61469"
      },
      "source": [
        "df_personal0[[\"transcripcion\",'c_english']]"
      ],
      "execution_count": 87,
      "outputs": [
        {
          "output_type": "execute_result",
          "data": {
            "text/html": [
              "<div>\n",
              "<style scoped>\n",
              "    .dataframe tbody tr th:only-of-type {\n",
              "        vertical-align: middle;\n",
              "    }\n",
              "\n",
              "    .dataframe tbody tr th {\n",
              "        vertical-align: top;\n",
              "    }\n",
              "\n",
              "    .dataframe thead th {\n",
              "        text-align: right;\n",
              "    }\n",
              "</style>\n",
              "<table border=\"1\" class=\"dataframe\">\n",
              "  <thead>\n",
              "    <tr style=\"text-align: right;\">\n",
              "      <th></th>\n",
              "      <th>transcripcion</th>\n",
              "      <th>c_english</th>\n",
              "    </tr>\n",
              "  </thead>\n",
              "  <tbody>\n",
              "    <tr>\n",
              "      <th>0</th>\n",
              "      <td>violines digame hermana venga hermana intente haciendo dieta convertida mirar estancia recta enc...</td>\n",
              "      <td>Violins Digame Sister Come Sister Try Diet Converted Looking Straight Stay Find Set Themes Desig...</td>\n",
              "    </tr>\n",
              "    <tr>\n",
              "      <th>1</th>\n",
              "      <td>recibi demoras turbinas actua afecta quita demoras llamar pregun importa tesoros llamar puedas c...</td>\n",
              "      <td>Receive Turbine Delays Acta Affects Remove Delays Call Pregun Matters Treasures Calling Cobrando...</td>\n",
              "    </tr>\n",
              "    <tr>\n",
              "      <th>2</th>\n",
              "      <td>ciudad tratar descargar declaracion codigo ingrese codigo apartamento dieci gmail existen consta...</td>\n",
              "      <td>City Treat Download Disclave Code Enter Code Dieci Gmail Existing Consta UNDER POQUITO Disagree ...</td>\n",
              "    </tr>\n",
              "    <tr>\n",
              "      <th>3</th>\n",
              "      <td>encuentra encuentra encuentra</td>\n",
              "      <td>FindInit.</td>\n",
              "    </tr>\n",
              "    <tr>\n",
              "      <th>4</th>\n",
              "      <td>tarjeta unicef cargar certificado declaracion entro numeros reservar recomendable quedaron metie...</td>\n",
              "      <td>UNICEF Card Load Certificate Declaration Entro Numbers Recommendable Recommendable Fraud Fraud G...</td>\n",
              "    </tr>\n",
              "    <tr>\n",
              "      <th>...</th>\n",
              "      <td>...</td>\n",
              "      <td>...</td>\n",
              "    </tr>\n",
              "    <tr>\n",
              "      <th>66</th>\n",
              "      <td>compania condal rory oiga debajo oficina encuentren telefonica existen clubes comento letra cont...</td>\n",
              "      <td>Company Condal Rory Listen Under Office Find Telefonica There are Clubs Committed Contract Idea ...</td>\n",
              "    </tr>\n",
              "    <tr>\n",
              "      <th>67</th>\n",
              "      <td>hacerte consulta aproximado fallecido tibia pequenas dejo escritura adjudicadas mentira ilya not...</td>\n",
              "      <td>Make APPROACH APPROVED COURTS TIBIA SMALLS I leave writing awarded lying Ilya Notaria TRAMITE Se...</td>\n",
              "    </tr>\n",
              "    <tr>\n",
              "      <th>68</th>\n",
              "      <td>interes conveniente llevar tratar descargar certificado declaracion tributarios pasado especific...</td>\n",
              "      <td>Convenient Interest Take Treat Download Certificate Disclaimer Past Specifications Unemployment ...</td>\n",
              "    </tr>\n",
              "    <tr>\n",
              "      <th>69</th>\n",
              "      <td>usado debemos evitar paquetes conductores condiciones desfavorables quisieran escucho cinico tel...</td>\n",
              "      <td>Used We must avoid packages conductive unfavorable conditions would like I listen cynico telefil...</td>\n",
              "    </tr>\n",
              "    <tr>\n",
              "      <th>70</th>\n",
              "      <td>sorpresa estilo querias preguntarte melinda nivel consignar llevan dividendo consignar ideal flo...</td>\n",
              "      <td>Surprise Style You Wondering Melinda Level Consignment Wearing Dividend Signing Ideal Vases Conn...</td>\n",
              "    </tr>\n",
              "  </tbody>\n",
              "</table>\n",
              "<p>71 rows × 2 columns</p>\n",
              "</div>"
            ],
            "text/plain": [
              "                                                                                          transcripcion                                                                                            c_english\n",
              "0   violines digame hermana venga hermana intente haciendo dieta convertida mirar estancia recta enc...  Violins Digame Sister Come Sister Try Diet Converted Looking Straight Stay Find Set Themes Desig...\n",
              "1   recibi demoras turbinas actua afecta quita demoras llamar pregun importa tesoros llamar puedas c...  Receive Turbine Delays Acta Affects Remove Delays Call Pregun Matters Treasures Calling Cobrando...\n",
              "2   ciudad tratar descargar declaracion codigo ingrese codigo apartamento dieci gmail existen consta...  City Treat Download Disclave Code Enter Code Dieci Gmail Existing Consta UNDER POQUITO Disagree ...\n",
              "3                                                                         encuentra encuentra encuentra                                                                                            FindInit.\n",
              "4   tarjeta unicef cargar certificado declaracion entro numeros reservar recomendable quedaron metie...  UNICEF Card Load Certificate Declaration Entro Numbers Recommendable Recommendable Fraud Fraud G...\n",
              "..                                                                                                  ...                                                                                                  ...\n",
              "66  compania condal rory oiga debajo oficina encuentren telefonica existen clubes comento letra cont...  Company Condal Rory Listen Under Office Find Telefonica There are Clubs Committed Contract Idea ...\n",
              "67  hacerte consulta aproximado fallecido tibia pequenas dejo escritura adjudicadas mentira ilya not...  Make APPROACH APPROVED COURTS TIBIA SMALLS I leave writing awarded lying Ilya Notaria TRAMITE Se...\n",
              "68  interes conveniente llevar tratar descargar certificado declaracion tributarios pasado especific...  Convenient Interest Take Treat Download Certificate Disclaimer Past Specifications Unemployment ...\n",
              "69  usado debemos evitar paquetes conductores condiciones desfavorables quisieran escucho cinico tel...  Used We must avoid packages conductive unfavorable conditions would like I listen cynico telefil...\n",
              "70  sorpresa estilo querias preguntarte melinda nivel consignar llevan dividendo consignar ideal flo...  Surprise Style You Wondering Melinda Level Consignment Wearing Dividend Signing Ideal Vases Conn...\n",
              "\n",
              "[71 rows x 2 columns]"
            ]
          },
          "metadata": {
            "tags": []
          },
          "execution_count": 87
        }
      ]
    },
    {
      "cell_type": "markdown",
      "metadata": {
        "id": "5MrHWHFyx83T"
      },
      "source": [
        "Cargamos el modelo previamente entrenado para la obtención de las emociones"
      ]
    },
    {
      "cell_type": "code",
      "metadata": {
        "id": "Ongr1ZBnyEL7"
      },
      "source": [
        "#Cargar el modelo\r\n",
        "import keras\r\n",
        "model = keras.models.load_model('/content/drive/My Drive/data/ABPS/NPL_Ecopetrol/emotion_analysis/my_model_emotion.h5')\r\n"
      ],
      "execution_count": 88,
      "outputs": []
    },
    {
      "cell_type": "code",
      "metadata": {
        "id": "IyYKW180XSWk",
        "colab": {
          "base_uri": "https://localhost:8080/"
        },
        "outputId": "c50a9189-711d-4eb7-aea5-31e7631e5a20"
      },
      "source": [
        "model"
      ],
      "execution_count": 89,
      "outputs": [
        {
          "output_type": "execute_result",
          "data": {
            "text/plain": [
              "<tensorflow.python.keras.engine.sequential.Sequential at 0x7fed8c4dfe90>"
            ]
          },
          "metadata": {
            "tags": []
          },
          "execution_count": 89
        }
      ]
    },
    {
      "cell_type": "markdown",
      "metadata": {
        "id": "lXnHE3CHyTqc"
      },
      "source": [
        "Calculamos los sentimientos para cada conversación, el resultado es un diccionario con los porcentajes asignados de cada emoción para el texto en particular."
      ]
    },
    {
      "cell_type": "code",
      "metadata": {
        "id": "4BozMPUfmrh_",
        "colab": {
          "base_uri": "https://localhost:8080/",
          "height": 374
        },
        "outputId": "5e7f0de8-a231-4d44-85fe-19686ea8f5c2"
      },
      "source": [
        "dic_sentiment={}\n",
        "for index, row in df_personal0.iterrows():\n",
        "  new_dic={}\n",
        "  result =get_sentiment(model,row['c_english'])\n",
        "  result=result.set_index('sentiment')\n",
        "  a=result.T.to_dict()\n",
        "  for sentiment, value in a.items():\n",
        "    new_dic[sentiment]=a[sentiment]['percentage']\n",
        "  dic_sentiment[index]=new_dic\n",
        "dic_sentiment"
      ],
      "execution_count": 90,
      "outputs": [
        {
          "output_type": "error",
          "ename": "NameError",
          "evalue": "ignored",
          "traceback": [
            "\u001b[0;31m---------------------------------------------------------------------------\u001b[0m",
            "\u001b[0;31mNameError\u001b[0m                                 Traceback (most recent call last)",
            "\u001b[0;32m<ipython-input-90-2b1127fa5438>\u001b[0m in \u001b[0;36m<module>\u001b[0;34m()\u001b[0m\n\u001b[1;32m      2\u001b[0m \u001b[0;32mfor\u001b[0m \u001b[0mindex\u001b[0m\u001b[0;34m,\u001b[0m \u001b[0mrow\u001b[0m \u001b[0;32min\u001b[0m \u001b[0mdf_personal0\u001b[0m\u001b[0;34m.\u001b[0m\u001b[0miterrows\u001b[0m\u001b[0;34m(\u001b[0m\u001b[0;34m)\u001b[0m\u001b[0;34m:\u001b[0m\u001b[0;34m\u001b[0m\u001b[0;34m\u001b[0m\u001b[0m\n\u001b[1;32m      3\u001b[0m   \u001b[0mnew_dic\u001b[0m\u001b[0;34m=\u001b[0m\u001b[0;34m{\u001b[0m\u001b[0;34m}\u001b[0m\u001b[0;34m\u001b[0m\u001b[0;34m\u001b[0m\u001b[0m\n\u001b[0;32m----> 4\u001b[0;31m   \u001b[0mresult\u001b[0m \u001b[0;34m=\u001b[0m\u001b[0mget_sentiment\u001b[0m\u001b[0;34m(\u001b[0m\u001b[0mmodel\u001b[0m\u001b[0;34m,\u001b[0m\u001b[0mrow\u001b[0m\u001b[0;34m[\u001b[0m\u001b[0;34m'c_english'\u001b[0m\u001b[0;34m]\u001b[0m\u001b[0;34m)\u001b[0m\u001b[0;34m\u001b[0m\u001b[0;34m\u001b[0m\u001b[0m\n\u001b[0m\u001b[1;32m      5\u001b[0m   \u001b[0mresult\u001b[0m\u001b[0;34m=\u001b[0m\u001b[0mresult\u001b[0m\u001b[0;34m.\u001b[0m\u001b[0mset_index\u001b[0m\u001b[0;34m(\u001b[0m\u001b[0;34m'sentiment'\u001b[0m\u001b[0;34m)\u001b[0m\u001b[0;34m\u001b[0m\u001b[0;34m\u001b[0m\u001b[0m\n\u001b[1;32m      6\u001b[0m   \u001b[0ma\u001b[0m\u001b[0;34m=\u001b[0m\u001b[0mresult\u001b[0m\u001b[0;34m.\u001b[0m\u001b[0mT\u001b[0m\u001b[0;34m.\u001b[0m\u001b[0mto_dict\u001b[0m\u001b[0;34m(\u001b[0m\u001b[0;34m)\u001b[0m\u001b[0;34m\u001b[0m\u001b[0;34m\u001b[0m\u001b[0m\n",
            "\u001b[0;32m<ipython-input-27-05632f7d24a0>\u001b[0m in \u001b[0;36mget_sentiment\u001b[0;34m(model, text)\u001b[0m\n\u001b[1;32m     28\u001b[0m     \u001b[0mtext\u001b[0m \u001b[0;34m=\u001b[0m \u001b[0mclean_text\u001b[0m\u001b[0;34m(\u001b[0m\u001b[0mtext\u001b[0m\u001b[0;34m)\u001b[0m\u001b[0;34m\u001b[0m\u001b[0;34m\u001b[0m\u001b[0m\n\u001b[1;32m     29\u001b[0m     \u001b[0;31m#tokenize\u001b[0m\u001b[0;34m\u001b[0m\u001b[0;34m\u001b[0m\u001b[0;34m\u001b[0m\u001b[0m\n\u001b[0;32m---> 30\u001b[0;31m     \u001b[0mtwt\u001b[0m \u001b[0;34m=\u001b[0m \u001b[0mtoken\u001b[0m\u001b[0;34m.\u001b[0m\u001b[0mtexts_to_sequences\u001b[0m\u001b[0;34m(\u001b[0m\u001b[0;34m[\u001b[0m\u001b[0mtext\u001b[0m\u001b[0;34m]\u001b[0m\u001b[0;34m)\u001b[0m\u001b[0;34m\u001b[0m\u001b[0;34m\u001b[0m\u001b[0m\n\u001b[0m\u001b[1;32m     31\u001b[0m     \u001b[0mtwt\u001b[0m \u001b[0;34m=\u001b[0m \u001b[0msequence\u001b[0m\u001b[0;34m.\u001b[0m\u001b[0mpad_sequences\u001b[0m\u001b[0;34m(\u001b[0m\u001b[0mtwt\u001b[0m\u001b[0;34m,\u001b[0m \u001b[0mmaxlen\u001b[0m\u001b[0;34m=\u001b[0m\u001b[0mmax_len\u001b[0m\u001b[0;34m,\u001b[0m \u001b[0mdtype\u001b[0m\u001b[0;34m=\u001b[0m\u001b[0;34m'int32'\u001b[0m\u001b[0;34m)\u001b[0m\u001b[0;34m\u001b[0m\u001b[0;34m\u001b[0m\u001b[0m\n\u001b[1;32m     32\u001b[0m     \u001b[0msentiment\u001b[0m \u001b[0;34m=\u001b[0m \u001b[0mmodel\u001b[0m\u001b[0;34m.\u001b[0m\u001b[0mpredict\u001b[0m\u001b[0;34m(\u001b[0m\u001b[0mtwt\u001b[0m\u001b[0;34m,\u001b[0m\u001b[0mbatch_size\u001b[0m\u001b[0;34m=\u001b[0m\u001b[0;36m1\u001b[0m\u001b[0;34m,\u001b[0m\u001b[0mverbose\u001b[0m \u001b[0;34m=\u001b[0m \u001b[0;36m2\u001b[0m\u001b[0;34m)\u001b[0m\u001b[0;34m\u001b[0m\u001b[0;34m\u001b[0m\u001b[0m\n",
            "\u001b[0;31mNameError\u001b[0m: name 'token' is not defined"
          ]
        }
      ]
    },
    {
      "cell_type": "markdown",
      "metadata": {
        "id": "pRADZSXoydt2"
      },
      "source": [
        "Realizamos la creación de una lista que va almacenando los resultados por sentimiento de cada una de las conversaciones, esto lo hacemos para hacer una ponderación después y obtener resultados globales de las emociones de los usuarios."
      ]
    },
    {
      "cell_type": "code",
      "metadata": {
        "id": "qNRuybu_m8jA"
      },
      "source": [
        "anger=[]\n",
        "boredom=[]\n",
        "empty=[]\n",
        "fun=[]\n",
        "happiness=[]\n",
        "relief=[]\n",
        "neutral=[]\n",
        "worry=[]\n",
        "love=[]\n",
        "sadness=[]\n",
        "surprise=[]\n",
        "hate=[]\n",
        "enthusiasm=[]\n",
        "fear=[]\n",
        "joy=[]\n",
        "for name, value in dic_sentiment.items():\n",
        "  for n, v in value.items():\n",
        "    if n=='anger':\n",
        "      anger.append(v)\n",
        "    if n=='boredom':\n",
        "      boredom.append(v)\n",
        "    if n=='empty':\n",
        "      empty.append(v)\n",
        "    if n=='fun':\n",
        "      fun.append(v)\n",
        "    if n=='happiness':\n",
        "      happiness.append(v)\n",
        "    if n=='relief':\n",
        "      relief.append(v)\n",
        "    if n=='neutral':\n",
        "      neutral.append(v)\n",
        "    if n=='worry':\n",
        "      worry.append(v)\n",
        "    if n=='love':\n",
        "      love.append(v)\n",
        "    if n=='sadness':\n",
        "      sadness.append(v)\n",
        "    if n=='surprise':\n",
        "      surprise.append(v)\n",
        "    if n=='hate':\n",
        "      hate.append(v)\n",
        "    if n=='enthusiasm':\n",
        "      enthusiasm.append(v)\n",
        "    if n=='joy':\n",
        "      joy.append(v)\n",
        "    if n=='fear':\n",
        "      fear.append(v)\n"
      ],
      "execution_count": 91,
      "outputs": []
    },
    {
      "cell_type": "code",
      "metadata": {
        "id": "113i0OCKnBxs"
      },
      "source": [
        "df=df_personal0\n",
        "sentiment=['enojo','desinterés','vacio','diversión','felicidad','alivio','neutral','preocupación','amor','incertidumbre','sorpresa','odio','entusiasmo', 'miedo', 'disfrute']\n",
        "percentage=[sum(anger)/len(df),sum(boredom)/len(df),sum(empty)/len(df), sum(fun)/len(df), sum(happiness)/len(df), sum(relief)/len(df), sum(neutral)/len(df), sum(worry)/len(df), sum(love)/len(df),sum(sadness)/len(df), sum(surprise)/len(df), sum(hate)/len(df), sum(enthusiasm)/len(df), sum(fear)/len(df), sum(joy)/len(df)]\n",
        "results=pd.DataFrame(sentiment)\n",
        "results=results.rename(columns={0:'sentiment'})\n",
        "results['percentage']=percentage"
      ],
      "execution_count": 92,
      "outputs": []
    },
    {
      "cell_type": "code",
      "metadata": {
        "id": "OUg1w25OnGoI",
        "colab": {
          "base_uri": "https://localhost:8080/",
          "height": 542
        },
        "outputId": "6642657d-0bf0-4a87-9264-93c41ce9def5"
      },
      "source": [
        "plot_result(results,'Campaña: Atención al Accionista')\n"
      ],
      "execution_count": 93,
      "outputs": [
        {
          "output_type": "display_data",
          "data": {
            "text/html": [
              "<html>\n",
              "<head><meta charset=\"utf-8\" /></head>\n",
              "<body>\n",
              "    <div>\n",
              "            <script src=\"https://cdnjs.cloudflare.com/ajax/libs/mathjax/2.7.5/MathJax.js?config=TeX-AMS-MML_SVG\"></script><script type=\"text/javascript\">if (window.MathJax) {MathJax.Hub.Config({SVG: {font: \"STIX-Web\"}});}</script>\n",
              "                <script type=\"text/javascript\">window.PlotlyConfig = {MathJaxConfig: 'local'};</script>\n",
              "        <script src=\"https://cdn.plot.ly/plotly-latest.min.js\"></script>    \n",
              "            <div id=\"ed14bf17-019d-47d2-8108-4d6006058d1e\" class=\"plotly-graph-div\" style=\"height:525px; width:100%;\"></div>\n",
              "            <script type=\"text/javascript\">\n",
              "                \n",
              "                    window.PLOTLYENV=window.PLOTLYENV || {};\n",
              "                    \n",
              "                if (document.getElementById(\"ed14bf17-019d-47d2-8108-4d6006058d1e\")) {\n",
              "                    Plotly.newPlot(\n",
              "                        'ed14bf17-019d-47d2-8108-4d6006058d1e',\n",
              "                        [{\"customdata\": [[\"enojo\"], [\"desinter\\u00e9s\"], [\"vacio\"], [\"diversi\\u00f3n\"], [\"felicidad\"], [\"alivio\"], [\"neutral\"], [\"preocupaci\\u00f3n\"], [\"amor\"], [\"incertidumbre\"], [\"sorpresa\"], [\"odio\"], [\"entusiasmo\"], [\"miedo\"], [\"disfrute\"]], \"domain\": {\"x\": [0.0, 1.0], \"y\": [0.0, 1.0]}, \"hole\": 0.3, \"hoverlabel\": {\"namelength\": 0}, \"hovertemplate\": \"sentiment=%{label}<br>percentage=%{value}\", \"labels\": [\"enojo\", \"desinter\\u00e9s\", \"vacio\", \"diversi\\u00f3n\", \"felicidad\", \"alivio\", \"neutral\", \"preocupaci\\u00f3n\", \"amor\", \"incertidumbre\", \"sorpresa\", \"odio\", \"entusiasmo\", \"miedo\", \"disfrute\"], \"legendgroup\": \"\", \"marker\": {\"colors\": [\"#636efa\", \"#EF553B\", \"#00cc96\", \"#ab63fa\", \"#FFA15A\", \"#19d3f3\", \"#FF6692\", \"#B6E880\", \"#FF97FF\", \"#FECB52\", \"#636efa\", \"#EF553B\", \"#00cc96\", \"#ab63fa\", \"#FFA15A\"]}, \"name\": \"\", \"showlegend\": true, \"type\": \"pie\", \"values\": [0.0, 0.0, 0.0, 0.0, 0.0, 0.0, 0.0, 0.0, 0.0, 0.0, 0.0, 0.0, 0.0, 0.0, 0.0]}],\n",
              "                        {\"legend\": {\"tracegroupgap\": 0}, \"template\": {\"data\": {\"bar\": [{\"error_x\": {\"color\": \"#2a3f5f\"}, \"error_y\": {\"color\": \"#2a3f5f\"}, \"marker\": {\"line\": {\"color\": \"#E5ECF6\", \"width\": 0.5}}, \"type\": \"bar\"}], \"barpolar\": [{\"marker\": {\"line\": {\"color\": \"#E5ECF6\", \"width\": 0.5}}, \"type\": \"barpolar\"}], \"carpet\": [{\"aaxis\": {\"endlinecolor\": \"#2a3f5f\", \"gridcolor\": \"white\", \"linecolor\": \"white\", \"minorgridcolor\": \"white\", \"startlinecolor\": \"#2a3f5f\"}, \"baxis\": {\"endlinecolor\": \"#2a3f5f\", \"gridcolor\": \"white\", \"linecolor\": \"white\", \"minorgridcolor\": \"white\", \"startlinecolor\": \"#2a3f5f\"}, \"type\": \"carpet\"}], \"choropleth\": [{\"colorbar\": {\"outlinewidth\": 0, \"ticks\": \"\"}, \"type\": \"choropleth\"}], \"contour\": [{\"colorbar\": {\"outlinewidth\": 0, \"ticks\": \"\"}, \"colorscale\": [[0.0, \"#0d0887\"], [0.1111111111111111, \"#46039f\"], [0.2222222222222222, \"#7201a8\"], [0.3333333333333333, \"#9c179e\"], [0.4444444444444444, \"#bd3786\"], [0.5555555555555556, \"#d8576b\"], [0.6666666666666666, \"#ed7953\"], [0.7777777777777778, \"#fb9f3a\"], [0.8888888888888888, \"#fdca26\"], [1.0, \"#f0f921\"]], \"type\": \"contour\"}], \"contourcarpet\": [{\"colorbar\": {\"outlinewidth\": 0, \"ticks\": \"\"}, \"type\": \"contourcarpet\"}], \"heatmap\": [{\"colorbar\": {\"outlinewidth\": 0, \"ticks\": \"\"}, \"colorscale\": [[0.0, \"#0d0887\"], [0.1111111111111111, \"#46039f\"], [0.2222222222222222, \"#7201a8\"], [0.3333333333333333, \"#9c179e\"], [0.4444444444444444, \"#bd3786\"], [0.5555555555555556, \"#d8576b\"], [0.6666666666666666, \"#ed7953\"], [0.7777777777777778, \"#fb9f3a\"], [0.8888888888888888, \"#fdca26\"], [1.0, \"#f0f921\"]], \"type\": \"heatmap\"}], \"heatmapgl\": [{\"colorbar\": {\"outlinewidth\": 0, \"ticks\": \"\"}, \"colorscale\": [[0.0, \"#0d0887\"], [0.1111111111111111, \"#46039f\"], [0.2222222222222222, \"#7201a8\"], [0.3333333333333333, \"#9c179e\"], [0.4444444444444444, \"#bd3786\"], [0.5555555555555556, \"#d8576b\"], [0.6666666666666666, \"#ed7953\"], [0.7777777777777778, \"#fb9f3a\"], [0.8888888888888888, \"#fdca26\"], [1.0, \"#f0f921\"]], \"type\": \"heatmapgl\"}], \"histogram\": [{\"marker\": {\"colorbar\": {\"outlinewidth\": 0, \"ticks\": \"\"}}, \"type\": \"histogram\"}], \"histogram2d\": [{\"colorbar\": {\"outlinewidth\": 0, \"ticks\": \"\"}, \"colorscale\": [[0.0, \"#0d0887\"], [0.1111111111111111, \"#46039f\"], [0.2222222222222222, \"#7201a8\"], [0.3333333333333333, \"#9c179e\"], [0.4444444444444444, \"#bd3786\"], [0.5555555555555556, \"#d8576b\"], [0.6666666666666666, \"#ed7953\"], [0.7777777777777778, \"#fb9f3a\"], [0.8888888888888888, \"#fdca26\"], [1.0, \"#f0f921\"]], \"type\": \"histogram2d\"}], \"histogram2dcontour\": [{\"colorbar\": {\"outlinewidth\": 0, \"ticks\": \"\"}, \"colorscale\": [[0.0, \"#0d0887\"], [0.1111111111111111, \"#46039f\"], [0.2222222222222222, \"#7201a8\"], [0.3333333333333333, \"#9c179e\"], [0.4444444444444444, \"#bd3786\"], [0.5555555555555556, \"#d8576b\"], [0.6666666666666666, \"#ed7953\"], [0.7777777777777778, \"#fb9f3a\"], [0.8888888888888888, \"#fdca26\"], [1.0, \"#f0f921\"]], \"type\": \"histogram2dcontour\"}], \"mesh3d\": [{\"colorbar\": {\"outlinewidth\": 0, \"ticks\": \"\"}, \"type\": \"mesh3d\"}], \"parcoords\": [{\"line\": {\"colorbar\": {\"outlinewidth\": 0, \"ticks\": \"\"}}, \"type\": \"parcoords\"}], \"pie\": [{\"automargin\": true, \"type\": \"pie\"}], \"scatter\": [{\"marker\": {\"colorbar\": {\"outlinewidth\": 0, \"ticks\": \"\"}}, \"type\": \"scatter\"}], \"scatter3d\": [{\"line\": {\"colorbar\": {\"outlinewidth\": 0, \"ticks\": \"\"}}, \"marker\": {\"colorbar\": {\"outlinewidth\": 0, \"ticks\": \"\"}}, \"type\": \"scatter3d\"}], \"scattercarpet\": [{\"marker\": {\"colorbar\": {\"outlinewidth\": 0, \"ticks\": \"\"}}, \"type\": \"scattercarpet\"}], \"scattergeo\": [{\"marker\": {\"colorbar\": {\"outlinewidth\": 0, \"ticks\": \"\"}}, \"type\": \"scattergeo\"}], \"scattergl\": [{\"marker\": {\"colorbar\": {\"outlinewidth\": 0, \"ticks\": \"\"}}, \"type\": \"scattergl\"}], \"scattermapbox\": [{\"marker\": {\"colorbar\": {\"outlinewidth\": 0, \"ticks\": \"\"}}, \"type\": \"scattermapbox\"}], \"scatterpolar\": [{\"marker\": {\"colorbar\": {\"outlinewidth\": 0, \"ticks\": \"\"}}, \"type\": \"scatterpolar\"}], \"scatterpolargl\": [{\"marker\": {\"colorbar\": {\"outlinewidth\": 0, \"ticks\": \"\"}}, \"type\": \"scatterpolargl\"}], \"scatterternary\": [{\"marker\": {\"colorbar\": {\"outlinewidth\": 0, \"ticks\": \"\"}}, \"type\": \"scatterternary\"}], \"surface\": [{\"colorbar\": {\"outlinewidth\": 0, \"ticks\": \"\"}, \"colorscale\": [[0.0, \"#0d0887\"], [0.1111111111111111, \"#46039f\"], [0.2222222222222222, \"#7201a8\"], [0.3333333333333333, \"#9c179e\"], [0.4444444444444444, \"#bd3786\"], [0.5555555555555556, \"#d8576b\"], [0.6666666666666666, \"#ed7953\"], [0.7777777777777778, \"#fb9f3a\"], [0.8888888888888888, \"#fdca26\"], [1.0, \"#f0f921\"]], \"type\": \"surface\"}], \"table\": [{\"cells\": {\"fill\": {\"color\": \"#EBF0F8\"}, \"line\": {\"color\": \"white\"}}, \"header\": {\"fill\": {\"color\": \"#C8D4E3\"}, \"line\": {\"color\": \"white\"}}, \"type\": \"table\"}]}, \"layout\": {\"annotationdefaults\": {\"arrowcolor\": \"#2a3f5f\", \"arrowhead\": 0, \"arrowwidth\": 1}, \"coloraxis\": {\"colorbar\": {\"outlinewidth\": 0, \"ticks\": \"\"}}, \"colorscale\": {\"diverging\": [[0, \"#8e0152\"], [0.1, \"#c51b7d\"], [0.2, \"#de77ae\"], [0.3, \"#f1b6da\"], [0.4, \"#fde0ef\"], [0.5, \"#f7f7f7\"], [0.6, \"#e6f5d0\"], [0.7, \"#b8e186\"], [0.8, \"#7fbc41\"], [0.9, \"#4d9221\"], [1, \"#276419\"]], \"sequential\": [[0.0, \"#0d0887\"], [0.1111111111111111, \"#46039f\"], [0.2222222222222222, \"#7201a8\"], [0.3333333333333333, \"#9c179e\"], [0.4444444444444444, \"#bd3786\"], [0.5555555555555556, \"#d8576b\"], [0.6666666666666666, \"#ed7953\"], [0.7777777777777778, \"#fb9f3a\"], [0.8888888888888888, \"#fdca26\"], [1.0, \"#f0f921\"]], \"sequentialminus\": [[0.0, \"#0d0887\"], [0.1111111111111111, \"#46039f\"], [0.2222222222222222, \"#7201a8\"], [0.3333333333333333, \"#9c179e\"], [0.4444444444444444, \"#bd3786\"], [0.5555555555555556, \"#d8576b\"], [0.6666666666666666, \"#ed7953\"], [0.7777777777777778, \"#fb9f3a\"], [0.8888888888888888, \"#fdca26\"], [1.0, \"#f0f921\"]]}, \"colorway\": [\"#636efa\", \"#EF553B\", \"#00cc96\", \"#ab63fa\", \"#FFA15A\", \"#19d3f3\", \"#FF6692\", \"#B6E880\", \"#FF97FF\", \"#FECB52\"], \"font\": {\"color\": \"#2a3f5f\"}, \"geo\": {\"bgcolor\": \"white\", \"lakecolor\": \"white\", \"landcolor\": \"#E5ECF6\", \"showlakes\": true, \"showland\": true, \"subunitcolor\": \"white\"}, \"hoverlabel\": {\"align\": \"left\"}, \"hovermode\": \"closest\", \"mapbox\": {\"style\": \"light\"}, \"paper_bgcolor\": \"white\", \"plot_bgcolor\": \"#E5ECF6\", \"polar\": {\"angularaxis\": {\"gridcolor\": \"white\", \"linecolor\": \"white\", \"ticks\": \"\"}, \"bgcolor\": \"#E5ECF6\", \"radialaxis\": {\"gridcolor\": \"white\", \"linecolor\": \"white\", \"ticks\": \"\"}}, \"scene\": {\"xaxis\": {\"backgroundcolor\": \"#E5ECF6\", \"gridcolor\": \"white\", \"gridwidth\": 2, \"linecolor\": \"white\", \"showbackground\": true, \"ticks\": \"\", \"zerolinecolor\": \"white\"}, \"yaxis\": {\"backgroundcolor\": \"#E5ECF6\", \"gridcolor\": \"white\", \"gridwidth\": 2, \"linecolor\": \"white\", \"showbackground\": true, \"ticks\": \"\", \"zerolinecolor\": \"white\"}, \"zaxis\": {\"backgroundcolor\": \"#E5ECF6\", \"gridcolor\": \"white\", \"gridwidth\": 2, \"linecolor\": \"white\", \"showbackground\": true, \"ticks\": \"\", \"zerolinecolor\": \"white\"}}, \"shapedefaults\": {\"line\": {\"color\": \"#2a3f5f\"}}, \"ternary\": {\"aaxis\": {\"gridcolor\": \"white\", \"linecolor\": \"white\", \"ticks\": \"\"}, \"baxis\": {\"gridcolor\": \"white\", \"linecolor\": \"white\", \"ticks\": \"\"}, \"bgcolor\": \"#E5ECF6\", \"caxis\": {\"gridcolor\": \"white\", \"linecolor\": \"white\", \"ticks\": \"\"}}, \"title\": {\"x\": 0.05}, \"xaxis\": {\"automargin\": true, \"gridcolor\": \"white\", \"linecolor\": \"white\", \"ticks\": \"\", \"title\": {\"standoff\": 15}, \"zerolinecolor\": \"white\", \"zerolinewidth\": 2}, \"yaxis\": {\"automargin\": true, \"gridcolor\": \"white\", \"linecolor\": \"white\", \"ticks\": \"\", \"title\": {\"standoff\": 15}, \"zerolinecolor\": \"white\", \"zerolinewidth\": 2}}}, \"title\": {\"text\": \"Campa\\u00f1a: Atenci\\u00f3n al Accionista\"}},\n",
              "                        {\"responsive\": true}\n",
              "                    ).then(function(){\n",
              "                            \n",
              "var gd = document.getElementById('ed14bf17-019d-47d2-8108-4d6006058d1e');\n",
              "var x = new MutationObserver(function (mutations, observer) {{\n",
              "        var display = window.getComputedStyle(gd).display;\n",
              "        if (!display || display === 'none') {{\n",
              "            console.log([gd, 'removed!']);\n",
              "            Plotly.purge(gd);\n",
              "            observer.disconnect();\n",
              "        }}\n",
              "}});\n",
              "\n",
              "// Listen for the removal of the full notebook cells\n",
              "var notebookContainer = gd.closest('#notebook-container');\n",
              "if (notebookContainer) {{\n",
              "    x.observe(notebookContainer, {childList: true});\n",
              "}}\n",
              "\n",
              "// Listen for the clearing of the current output cell\n",
              "var outputEl = gd.closest('.output');\n",
              "if (outputEl) {{\n",
              "    x.observe(outputEl, {childList: true});\n",
              "}}\n",
              "\n",
              "                        })\n",
              "                };\n",
              "                \n",
              "            </script>\n",
              "        </div>\n",
              "</body>\n",
              "</html>"
            ]
          },
          "metadata": {
            "tags": []
          }
        }
      ]
    },
    {
      "cell_type": "markdown",
      "metadata": {
        "id": "Qe62b2y1yokT"
      },
      "source": [
        "Para poder hacer la gráfica de sentimientos en versión polar debemos estandarizar todos los valores y esto lo hacemos con la función de MinMaxScaler()"
      ]
    },
    {
      "cell_type": "code",
      "metadata": {
        "id": "xUa5H8OcR3ou",
        "colab": {
          "base_uri": "https://localhost:8080/",
          "height": 542
        },
        "outputId": "cb16714b-be69-4eeb-cde5-41a0ae096681"
      },
      "source": [
        "#Dataframe de sentimientos\n",
        "#result=pd.DataFrame()\n",
        "#result['sentimiento']=['tristeza','disfrute','amor','enojo','preocupación','alivio','miedo','sorpresa','felicidad','neutral','vacio','diversión','odio','desinterés', 'entusiasmo']\n",
        "#result['porcentaje']=[33.4, 31.8, 8.93, 9.78, 3.65,1.73, 3.31,2.49, 2.18,  0.70, 0.92, 0.41,0.19,0.16,0.22]\n",
        "\n",
        "#Para dibujar los sentimientos de forma polar\n",
        "result=results.rename(columns={'sentiment':'sentimiento','percentage':'porcentaje'})\n",
        "result=result.set_index('sentimiento')\n",
        "df_scaled = pd.DataFrame(MinMaxScaler().fit_transform(result), columns=result.columns)\n",
        "result.reset_index(inplace=True)\n",
        "result=result['sentimiento']\n",
        "df_scaled=df_scaled.merge(result, how='inner', on=result.index)\n",
        "df_scaled_accionista=df_scaled\n",
        "fig=px.line_polar(df_scaled, \n",
        "              r=\"porcentaje\", \n",
        "              theta=\"sentimiento\", \n",
        "              title='Distribución de las emociones de los usuarios en las conversaciones de:  Atención al Accionista',\n",
        "              #color=\"darkgreen\", \n",
        "              line_close=True,\n",
        "              line_shape='spline',\n",
        "              range_r=[0, 1],\n",
        "              color_discrete_sequence=[\"darkgreen\",\"gold\"])\n",
        "              #color_discrete_sequence=px.colors.qualitative.G10)\n",
        "fig.write_html(\"atencion_polar_usuario_.html\")\n",
        "fig.show()"
      ],
      "execution_count": 94,
      "outputs": [
        {
          "output_type": "display_data",
          "data": {
            "text/html": [
              "<html>\n",
              "<head><meta charset=\"utf-8\" /></head>\n",
              "<body>\n",
              "    <div>\n",
              "            <script src=\"https://cdnjs.cloudflare.com/ajax/libs/mathjax/2.7.5/MathJax.js?config=TeX-AMS-MML_SVG\"></script><script type=\"text/javascript\">if (window.MathJax) {MathJax.Hub.Config({SVG: {font: \"STIX-Web\"}});}</script>\n",
              "                <script type=\"text/javascript\">window.PlotlyConfig = {MathJaxConfig: 'local'};</script>\n",
              "        <script src=\"https://cdn.plot.ly/plotly-latest.min.js\"></script>    \n",
              "            <div id=\"0388be81-8958-470c-ac26-7bdb39d83070\" class=\"plotly-graph-div\" style=\"height:525px; width:100%;\"></div>\n",
              "            <script type=\"text/javascript\">\n",
              "                \n",
              "                    window.PLOTLYENV=window.PLOTLYENV || {};\n",
              "                    \n",
              "                if (document.getElementById(\"0388be81-8958-470c-ac26-7bdb39d83070\")) {\n",
              "                    Plotly.newPlot(\n",
              "                        '0388be81-8958-470c-ac26-7bdb39d83070',\n",
              "                        [{\"hoverlabel\": {\"namelength\": 0}, \"hovertemplate\": \"porcentaje=%{r}<br>sentimiento=%{theta}\", \"legendgroup\": \"\", \"line\": {\"color\": \"darkgreen\", \"dash\": \"solid\", \"shape\": \"spline\"}, \"mode\": \"lines\", \"name\": \"\", \"r\": [0.0, 0.0, 0.0, 0.0, 0.0, 0.0, 0.0, 0.0, 0.0, 0.0, 0.0, 0.0, 0.0, 0.0, 0.0, 0.0], \"showlegend\": false, \"subplot\": \"polar\", \"theta\": [\"enojo\", \"desinter\\u00e9s\", \"vacio\", \"diversi\\u00f3n\", \"felicidad\", \"alivio\", \"neutral\", \"preocupaci\\u00f3n\", \"amor\", \"incertidumbre\", \"sorpresa\", \"odio\", \"entusiasmo\", \"miedo\", \"disfrute\", \"enojo\"], \"type\": \"scatterpolar\"}],\n",
              "                        {\"legend\": {\"tracegroupgap\": 0}, \"polar\": {\"angularaxis\": {\"direction\": \"clockwise\", \"rotation\": 90}, \"domain\": {\"x\": [0.0, 1.0], \"y\": [0.0, 1.0]}, \"radialaxis\": {\"range\": [0, 1]}}, \"template\": {\"data\": {\"bar\": [{\"error_x\": {\"color\": \"#2a3f5f\"}, \"error_y\": {\"color\": \"#2a3f5f\"}, \"marker\": {\"line\": {\"color\": \"#E5ECF6\", \"width\": 0.5}}, \"type\": \"bar\"}], \"barpolar\": [{\"marker\": {\"line\": {\"color\": \"#E5ECF6\", \"width\": 0.5}}, \"type\": \"barpolar\"}], \"carpet\": [{\"aaxis\": {\"endlinecolor\": \"#2a3f5f\", \"gridcolor\": \"white\", \"linecolor\": \"white\", \"minorgridcolor\": \"white\", \"startlinecolor\": \"#2a3f5f\"}, \"baxis\": {\"endlinecolor\": \"#2a3f5f\", \"gridcolor\": \"white\", \"linecolor\": \"white\", \"minorgridcolor\": \"white\", \"startlinecolor\": \"#2a3f5f\"}, \"type\": \"carpet\"}], \"choropleth\": [{\"colorbar\": {\"outlinewidth\": 0, \"ticks\": \"\"}, \"type\": \"choropleth\"}], \"contour\": [{\"colorbar\": {\"outlinewidth\": 0, \"ticks\": \"\"}, \"colorscale\": [[0.0, \"#0d0887\"], [0.1111111111111111, \"#46039f\"], [0.2222222222222222, \"#7201a8\"], [0.3333333333333333, \"#9c179e\"], [0.4444444444444444, \"#bd3786\"], [0.5555555555555556, \"#d8576b\"], [0.6666666666666666, \"#ed7953\"], [0.7777777777777778, \"#fb9f3a\"], [0.8888888888888888, \"#fdca26\"], [1.0, \"#f0f921\"]], \"type\": \"contour\"}], \"contourcarpet\": [{\"colorbar\": {\"outlinewidth\": 0, \"ticks\": \"\"}, \"type\": \"contourcarpet\"}], \"heatmap\": [{\"colorbar\": {\"outlinewidth\": 0, \"ticks\": \"\"}, \"colorscale\": [[0.0, \"#0d0887\"], [0.1111111111111111, \"#46039f\"], [0.2222222222222222, \"#7201a8\"], [0.3333333333333333, \"#9c179e\"], [0.4444444444444444, \"#bd3786\"], [0.5555555555555556, \"#d8576b\"], [0.6666666666666666, \"#ed7953\"], [0.7777777777777778, \"#fb9f3a\"], [0.8888888888888888, \"#fdca26\"], [1.0, \"#f0f921\"]], \"type\": \"heatmap\"}], \"heatmapgl\": [{\"colorbar\": {\"outlinewidth\": 0, \"ticks\": \"\"}, \"colorscale\": [[0.0, \"#0d0887\"], [0.1111111111111111, \"#46039f\"], [0.2222222222222222, \"#7201a8\"], [0.3333333333333333, \"#9c179e\"], [0.4444444444444444, \"#bd3786\"], [0.5555555555555556, \"#d8576b\"], [0.6666666666666666, \"#ed7953\"], [0.7777777777777778, \"#fb9f3a\"], [0.8888888888888888, \"#fdca26\"], [1.0, \"#f0f921\"]], \"type\": \"heatmapgl\"}], \"histogram\": [{\"marker\": {\"colorbar\": {\"outlinewidth\": 0, \"ticks\": \"\"}}, \"type\": \"histogram\"}], \"histogram2d\": [{\"colorbar\": {\"outlinewidth\": 0, \"ticks\": \"\"}, \"colorscale\": [[0.0, \"#0d0887\"], [0.1111111111111111, \"#46039f\"], [0.2222222222222222, \"#7201a8\"], [0.3333333333333333, \"#9c179e\"], [0.4444444444444444, \"#bd3786\"], [0.5555555555555556, \"#d8576b\"], [0.6666666666666666, \"#ed7953\"], [0.7777777777777778, \"#fb9f3a\"], [0.8888888888888888, \"#fdca26\"], [1.0, \"#f0f921\"]], \"type\": \"histogram2d\"}], \"histogram2dcontour\": [{\"colorbar\": {\"outlinewidth\": 0, \"ticks\": \"\"}, \"colorscale\": [[0.0, \"#0d0887\"], [0.1111111111111111, \"#46039f\"], [0.2222222222222222, \"#7201a8\"], [0.3333333333333333, \"#9c179e\"], [0.4444444444444444, \"#bd3786\"], [0.5555555555555556, \"#d8576b\"], [0.6666666666666666, \"#ed7953\"], [0.7777777777777778, \"#fb9f3a\"], [0.8888888888888888, \"#fdca26\"], [1.0, \"#f0f921\"]], \"type\": \"histogram2dcontour\"}], \"mesh3d\": [{\"colorbar\": {\"outlinewidth\": 0, \"ticks\": \"\"}, \"type\": \"mesh3d\"}], \"parcoords\": [{\"line\": {\"colorbar\": {\"outlinewidth\": 0, \"ticks\": \"\"}}, \"type\": \"parcoords\"}], \"pie\": [{\"automargin\": true, \"type\": \"pie\"}], \"scatter\": [{\"marker\": {\"colorbar\": {\"outlinewidth\": 0, \"ticks\": \"\"}}, \"type\": \"scatter\"}], \"scatter3d\": [{\"line\": {\"colorbar\": {\"outlinewidth\": 0, \"ticks\": \"\"}}, \"marker\": {\"colorbar\": {\"outlinewidth\": 0, \"ticks\": \"\"}}, \"type\": \"scatter3d\"}], \"scattercarpet\": [{\"marker\": {\"colorbar\": {\"outlinewidth\": 0, \"ticks\": \"\"}}, \"type\": \"scattercarpet\"}], \"scattergeo\": [{\"marker\": {\"colorbar\": {\"outlinewidth\": 0, \"ticks\": \"\"}}, \"type\": \"scattergeo\"}], \"scattergl\": [{\"marker\": {\"colorbar\": {\"outlinewidth\": 0, \"ticks\": \"\"}}, \"type\": \"scattergl\"}], \"scattermapbox\": [{\"marker\": {\"colorbar\": {\"outlinewidth\": 0, \"ticks\": \"\"}}, \"type\": \"scattermapbox\"}], \"scatterpolar\": [{\"marker\": {\"colorbar\": {\"outlinewidth\": 0, \"ticks\": \"\"}}, \"type\": \"scatterpolar\"}], \"scatterpolargl\": [{\"marker\": {\"colorbar\": {\"outlinewidth\": 0, \"ticks\": \"\"}}, \"type\": \"scatterpolargl\"}], \"scatterternary\": [{\"marker\": {\"colorbar\": {\"outlinewidth\": 0, \"ticks\": \"\"}}, \"type\": \"scatterternary\"}], \"surface\": [{\"colorbar\": {\"outlinewidth\": 0, \"ticks\": \"\"}, \"colorscale\": [[0.0, \"#0d0887\"], [0.1111111111111111, \"#46039f\"], [0.2222222222222222, \"#7201a8\"], [0.3333333333333333, \"#9c179e\"], [0.4444444444444444, \"#bd3786\"], [0.5555555555555556, \"#d8576b\"], [0.6666666666666666, \"#ed7953\"], [0.7777777777777778, \"#fb9f3a\"], [0.8888888888888888, \"#fdca26\"], [1.0, \"#f0f921\"]], \"type\": \"surface\"}], \"table\": [{\"cells\": {\"fill\": {\"color\": \"#EBF0F8\"}, \"line\": {\"color\": \"white\"}}, \"header\": {\"fill\": {\"color\": \"#C8D4E3\"}, \"line\": {\"color\": \"white\"}}, \"type\": \"table\"}]}, \"layout\": {\"annotationdefaults\": {\"arrowcolor\": \"#2a3f5f\", \"arrowhead\": 0, \"arrowwidth\": 1}, \"coloraxis\": {\"colorbar\": {\"outlinewidth\": 0, \"ticks\": \"\"}}, \"colorscale\": {\"diverging\": [[0, \"#8e0152\"], [0.1, \"#c51b7d\"], [0.2, \"#de77ae\"], [0.3, \"#f1b6da\"], [0.4, \"#fde0ef\"], [0.5, \"#f7f7f7\"], [0.6, \"#e6f5d0\"], [0.7, \"#b8e186\"], [0.8, \"#7fbc41\"], [0.9, \"#4d9221\"], [1, \"#276419\"]], \"sequential\": [[0.0, \"#0d0887\"], [0.1111111111111111, \"#46039f\"], [0.2222222222222222, \"#7201a8\"], [0.3333333333333333, \"#9c179e\"], [0.4444444444444444, \"#bd3786\"], [0.5555555555555556, \"#d8576b\"], [0.6666666666666666, \"#ed7953\"], [0.7777777777777778, \"#fb9f3a\"], [0.8888888888888888, \"#fdca26\"], [1.0, \"#f0f921\"]], \"sequentialminus\": [[0.0, \"#0d0887\"], [0.1111111111111111, \"#46039f\"], [0.2222222222222222, \"#7201a8\"], [0.3333333333333333, \"#9c179e\"], [0.4444444444444444, \"#bd3786\"], [0.5555555555555556, \"#d8576b\"], [0.6666666666666666, \"#ed7953\"], [0.7777777777777778, \"#fb9f3a\"], [0.8888888888888888, \"#fdca26\"], [1.0, \"#f0f921\"]]}, \"colorway\": [\"#636efa\", \"#EF553B\", \"#00cc96\", \"#ab63fa\", \"#FFA15A\", \"#19d3f3\", \"#FF6692\", \"#B6E880\", \"#FF97FF\", \"#FECB52\"], \"font\": {\"color\": \"#2a3f5f\"}, \"geo\": {\"bgcolor\": \"white\", \"lakecolor\": \"white\", \"landcolor\": \"#E5ECF6\", \"showlakes\": true, \"showland\": true, \"subunitcolor\": \"white\"}, \"hoverlabel\": {\"align\": \"left\"}, \"hovermode\": \"closest\", \"mapbox\": {\"style\": \"light\"}, \"paper_bgcolor\": \"white\", \"plot_bgcolor\": \"#E5ECF6\", \"polar\": {\"angularaxis\": {\"gridcolor\": \"white\", \"linecolor\": \"white\", \"ticks\": \"\"}, \"bgcolor\": \"#E5ECF6\", \"radialaxis\": {\"gridcolor\": \"white\", \"linecolor\": \"white\", \"ticks\": \"\"}}, \"scene\": {\"xaxis\": {\"backgroundcolor\": \"#E5ECF6\", \"gridcolor\": \"white\", \"gridwidth\": 2, \"linecolor\": \"white\", \"showbackground\": true, \"ticks\": \"\", \"zerolinecolor\": \"white\"}, \"yaxis\": {\"backgroundcolor\": \"#E5ECF6\", \"gridcolor\": \"white\", \"gridwidth\": 2, \"linecolor\": \"white\", \"showbackground\": true, \"ticks\": \"\", \"zerolinecolor\": \"white\"}, \"zaxis\": {\"backgroundcolor\": \"#E5ECF6\", \"gridcolor\": \"white\", \"gridwidth\": 2, \"linecolor\": \"white\", \"showbackground\": true, \"ticks\": \"\", \"zerolinecolor\": \"white\"}}, \"shapedefaults\": {\"line\": {\"color\": \"#2a3f5f\"}}, \"ternary\": {\"aaxis\": {\"gridcolor\": \"white\", \"linecolor\": \"white\", \"ticks\": \"\"}, \"baxis\": {\"gridcolor\": \"white\", \"linecolor\": \"white\", \"ticks\": \"\"}, \"bgcolor\": \"#E5ECF6\", \"caxis\": {\"gridcolor\": \"white\", \"linecolor\": \"white\", \"ticks\": \"\"}}, \"title\": {\"x\": 0.05}, \"xaxis\": {\"automargin\": true, \"gridcolor\": \"white\", \"linecolor\": \"white\", \"ticks\": \"\", \"title\": {\"standoff\": 15}, \"zerolinecolor\": \"white\", \"zerolinewidth\": 2}, \"yaxis\": {\"automargin\": true, \"gridcolor\": \"white\", \"linecolor\": \"white\", \"ticks\": \"\", \"title\": {\"standoff\": 15}, \"zerolinecolor\": \"white\", \"zerolinewidth\": 2}}}, \"title\": {\"text\": \"Distribuci\\u00f3n de las emociones de los usuarios en las conversaciones de:  Atenci\\u00f3n al Accionista\"}},\n",
              "                        {\"responsive\": true}\n",
              "                    ).then(function(){\n",
              "                            \n",
              "var gd = document.getElementById('0388be81-8958-470c-ac26-7bdb39d83070');\n",
              "var x = new MutationObserver(function (mutations, observer) {{\n",
              "        var display = window.getComputedStyle(gd).display;\n",
              "        if (!display || display === 'none') {{\n",
              "            console.log([gd, 'removed!']);\n",
              "            Plotly.purge(gd);\n",
              "            observer.disconnect();\n",
              "        }}\n",
              "}});\n",
              "\n",
              "// Listen for the removal of the full notebook cells\n",
              "var notebookContainer = gd.closest('#notebook-container');\n",
              "if (notebookContainer) {{\n",
              "    x.observe(notebookContainer, {childList: true});\n",
              "}}\n",
              "\n",
              "// Listen for the clearing of the current output cell\n",
              "var outputEl = gd.closest('.output');\n",
              "if (outputEl) {{\n",
              "    x.observe(outputEl, {childList: true});\n",
              "}}\n",
              "\n",
              "                        })\n",
              "                };\n",
              "                \n",
              "            </script>\n",
              "        </div>\n",
              "</body>\n",
              "</html>"
            ]
          },
          "metadata": {
            "tags": []
          }
        }
      ]
    },
    {
      "cell_type": "markdown",
      "metadata": {
        "id": "IRUDLeSD1cze"
      },
      "source": [
        "<b><font color=orange size=5> Analisis de sentimientos</font></b>"
      ]
    },
    {
      "cell_type": "code",
      "metadata": {
        "id": "g8lQ5Nz1PwA6"
      },
      "source": [
        "df_personal0=df_accionista"
      ],
      "execution_count": 95,
      "outputs": []
    },
    {
      "cell_type": "code",
      "metadata": {
        "id": "ZQcjMdg3nXeF",
        "colab": {
          "base_uri": "https://localhost:8080/",
          "height": 579
        },
        "outputId": "850b2abc-2e14-4257-b170-d81fec1f77a3"
      },
      "source": [
        "%time\n",
        "#Segmento\n",
        "segmento='Experiencia general del cliente en la campaña: Atención al Accionista'\n",
        "\n",
        "\n",
        "#Seleccion de los datos\n",
        "df_personal=df_personal0\n",
        "df_personal=df_personal.rename(columns={'client':'transcripcion'})\n",
        "\n",
        "# Normalizacion de valores perdidos\n",
        "df_personal['transcripcion'] = df_personal['transcripcion'].apply(lambda x: '' if ((len(str(x)) == 3) & ((str(x) == 'NAN') | (str(x) == 'nan'))) | ((len(str(x)) == 4) & ((str(x) == 'NONE') | (str(x) == 'none') | (str(x) == 'None'))) else x)\n",
        "\n",
        "# Aplicacion analisis de polaridad\n",
        "#df_personal['polaridad_cliente'] = df_personal['transcripcion'].apply(lambda x: sentiment.sentiment(x))\n",
        "df_personal['polaridad_cliente'] = df_personal['transcripcion'].apply(polaridad)\n",
        "\n",
        "# Persistencia\n",
        "# dfgral.to_parquet(rt1 + 'operativo_sentiment.parquet')\n",
        "\n",
        "#Asignacion del sentimiento\n",
        "df_personal['sentimiento_cliente'] = df_personal['polaridad_cliente'].apply(lambda x:'Negativos' if x<=0.0015 else('Positivos' if x>=0.08 else 'Neutrales'))\n",
        "df=df_personal\n",
        "names = 'Negativos', 'Positivos', 'Neutrales'\n",
        "\n",
        "b = len(df[df.sentimiento_cliente=='Positivos'])\n",
        "a = len(df[df.sentimiento_cliente=='Negativos'])\n",
        "c = len(df[df.sentimiento_cliente=='Neutrales'])\n",
        "\n",
        "sizes=[a, b, c]\n",
        "\n",
        "df0=pd.DataFrame()\n",
        "df0['experiencia']=[ 'Negativos', 'Positivos', 'Neutrales']\n",
        "df0['cantidad']=sizes\n",
        "\n",
        "fig = px.pie(df0, values='cantidad', names='experiencia',hole=0.5,title=segmento,color_discrete_sequence=[\"darkgreen\",\"gold\",\"yellowgreen\"])\n",
        "fig.show()\n",
        "fig.write_html(segmento+\"_polaridad.html\")\n",
        "\n"
      ],
      "execution_count": 96,
      "outputs": [
        {
          "output_type": "stream",
          "text": [
            "CPU times: user 4 µs, sys: 0 ns, total: 4 µs\n",
            "Wall time: 8.11 µs\n"
          ],
          "name": "stdout"
        },
        {
          "output_type": "display_data",
          "data": {
            "text/html": [
              "<html>\n",
              "<head><meta charset=\"utf-8\" /></head>\n",
              "<body>\n",
              "    <div>\n",
              "            <script src=\"https://cdnjs.cloudflare.com/ajax/libs/mathjax/2.7.5/MathJax.js?config=TeX-AMS-MML_SVG\"></script><script type=\"text/javascript\">if (window.MathJax) {MathJax.Hub.Config({SVG: {font: \"STIX-Web\"}});}</script>\n",
              "                <script type=\"text/javascript\">window.PlotlyConfig = {MathJaxConfig: 'local'};</script>\n",
              "        <script src=\"https://cdn.plot.ly/plotly-latest.min.js\"></script>    \n",
              "            <div id=\"a89bb660-447e-4f80-94c2-070072c5f405\" class=\"plotly-graph-div\" style=\"height:525px; width:100%;\"></div>\n",
              "            <script type=\"text/javascript\">\n",
              "                \n",
              "                    window.PLOTLYENV=window.PLOTLYENV || {};\n",
              "                    \n",
              "                if (document.getElementById(\"a89bb660-447e-4f80-94c2-070072c5f405\")) {\n",
              "                    Plotly.newPlot(\n",
              "                        'a89bb660-447e-4f80-94c2-070072c5f405',\n",
              "                        [{\"domain\": {\"x\": [0.0, 1.0], \"y\": [0.0, 1.0]}, \"hole\": 0.5, \"hoverlabel\": {\"namelength\": 0}, \"hovertemplate\": \"experiencia=%{label}<br>cantidad=%{value}\", \"labels\": [\"Negativos\", \"Positivos\", \"Neutrales\"], \"legendgroup\": \"\", \"name\": \"\", \"showlegend\": true, \"type\": \"pie\", \"values\": [8, 14, 49]}],\n",
              "                        {\"legend\": {\"tracegroupgap\": 0}, \"piecolorway\": [\"darkgreen\", \"gold\", \"yellowgreen\"], \"template\": {\"data\": {\"bar\": [{\"error_x\": {\"color\": \"#2a3f5f\"}, \"error_y\": {\"color\": \"#2a3f5f\"}, \"marker\": {\"line\": {\"color\": \"#E5ECF6\", \"width\": 0.5}}, \"type\": \"bar\"}], \"barpolar\": [{\"marker\": {\"line\": {\"color\": \"#E5ECF6\", \"width\": 0.5}}, \"type\": \"barpolar\"}], \"carpet\": [{\"aaxis\": {\"endlinecolor\": \"#2a3f5f\", \"gridcolor\": \"white\", \"linecolor\": \"white\", \"minorgridcolor\": \"white\", \"startlinecolor\": \"#2a3f5f\"}, \"baxis\": {\"endlinecolor\": \"#2a3f5f\", \"gridcolor\": \"white\", \"linecolor\": \"white\", \"minorgridcolor\": \"white\", \"startlinecolor\": \"#2a3f5f\"}, \"type\": \"carpet\"}], \"choropleth\": [{\"colorbar\": {\"outlinewidth\": 0, \"ticks\": \"\"}, \"type\": \"choropleth\"}], \"contour\": [{\"colorbar\": {\"outlinewidth\": 0, \"ticks\": \"\"}, \"colorscale\": [[0.0, \"#0d0887\"], [0.1111111111111111, \"#46039f\"], [0.2222222222222222, \"#7201a8\"], [0.3333333333333333, \"#9c179e\"], [0.4444444444444444, \"#bd3786\"], [0.5555555555555556, \"#d8576b\"], [0.6666666666666666, \"#ed7953\"], [0.7777777777777778, \"#fb9f3a\"], [0.8888888888888888, \"#fdca26\"], [1.0, \"#f0f921\"]], \"type\": \"contour\"}], \"contourcarpet\": [{\"colorbar\": {\"outlinewidth\": 0, \"ticks\": \"\"}, \"type\": \"contourcarpet\"}], \"heatmap\": [{\"colorbar\": {\"outlinewidth\": 0, \"ticks\": \"\"}, \"colorscale\": [[0.0, \"#0d0887\"], [0.1111111111111111, \"#46039f\"], [0.2222222222222222, \"#7201a8\"], [0.3333333333333333, \"#9c179e\"], [0.4444444444444444, \"#bd3786\"], [0.5555555555555556, \"#d8576b\"], [0.6666666666666666, \"#ed7953\"], [0.7777777777777778, \"#fb9f3a\"], [0.8888888888888888, \"#fdca26\"], [1.0, \"#f0f921\"]], \"type\": \"heatmap\"}], \"heatmapgl\": [{\"colorbar\": {\"outlinewidth\": 0, \"ticks\": \"\"}, \"colorscale\": [[0.0, \"#0d0887\"], [0.1111111111111111, \"#46039f\"], [0.2222222222222222, \"#7201a8\"], [0.3333333333333333, \"#9c179e\"], [0.4444444444444444, \"#bd3786\"], [0.5555555555555556, \"#d8576b\"], [0.6666666666666666, \"#ed7953\"], [0.7777777777777778, \"#fb9f3a\"], [0.8888888888888888, \"#fdca26\"], [1.0, \"#f0f921\"]], \"type\": \"heatmapgl\"}], \"histogram\": [{\"marker\": {\"colorbar\": {\"outlinewidth\": 0, \"ticks\": \"\"}}, \"type\": \"histogram\"}], \"histogram2d\": [{\"colorbar\": {\"outlinewidth\": 0, \"ticks\": \"\"}, \"colorscale\": [[0.0, \"#0d0887\"], [0.1111111111111111, \"#46039f\"], [0.2222222222222222, \"#7201a8\"], [0.3333333333333333, \"#9c179e\"], [0.4444444444444444, \"#bd3786\"], [0.5555555555555556, \"#d8576b\"], [0.6666666666666666, \"#ed7953\"], [0.7777777777777778, \"#fb9f3a\"], [0.8888888888888888, \"#fdca26\"], [1.0, \"#f0f921\"]], \"type\": \"histogram2d\"}], \"histogram2dcontour\": [{\"colorbar\": {\"outlinewidth\": 0, \"ticks\": \"\"}, \"colorscale\": [[0.0, \"#0d0887\"], [0.1111111111111111, \"#46039f\"], [0.2222222222222222, \"#7201a8\"], [0.3333333333333333, \"#9c179e\"], [0.4444444444444444, \"#bd3786\"], [0.5555555555555556, \"#d8576b\"], [0.6666666666666666, \"#ed7953\"], [0.7777777777777778, \"#fb9f3a\"], [0.8888888888888888, \"#fdca26\"], [1.0, \"#f0f921\"]], \"type\": \"histogram2dcontour\"}], \"mesh3d\": [{\"colorbar\": {\"outlinewidth\": 0, \"ticks\": \"\"}, \"type\": \"mesh3d\"}], \"parcoords\": [{\"line\": {\"colorbar\": {\"outlinewidth\": 0, \"ticks\": \"\"}}, \"type\": \"parcoords\"}], \"pie\": [{\"automargin\": true, \"type\": \"pie\"}], \"scatter\": [{\"marker\": {\"colorbar\": {\"outlinewidth\": 0, \"ticks\": \"\"}}, \"type\": \"scatter\"}], \"scatter3d\": [{\"line\": {\"colorbar\": {\"outlinewidth\": 0, \"ticks\": \"\"}}, \"marker\": {\"colorbar\": {\"outlinewidth\": 0, \"ticks\": \"\"}}, \"type\": \"scatter3d\"}], \"scattercarpet\": [{\"marker\": {\"colorbar\": {\"outlinewidth\": 0, \"ticks\": \"\"}}, \"type\": \"scattercarpet\"}], \"scattergeo\": [{\"marker\": {\"colorbar\": {\"outlinewidth\": 0, \"ticks\": \"\"}}, \"type\": \"scattergeo\"}], \"scattergl\": [{\"marker\": {\"colorbar\": {\"outlinewidth\": 0, \"ticks\": \"\"}}, \"type\": \"scattergl\"}], \"scattermapbox\": [{\"marker\": {\"colorbar\": {\"outlinewidth\": 0, \"ticks\": \"\"}}, \"type\": \"scattermapbox\"}], \"scatterpolar\": [{\"marker\": {\"colorbar\": {\"outlinewidth\": 0, \"ticks\": \"\"}}, \"type\": \"scatterpolar\"}], \"scatterpolargl\": [{\"marker\": {\"colorbar\": {\"outlinewidth\": 0, \"ticks\": \"\"}}, \"type\": \"scatterpolargl\"}], \"scatterternary\": [{\"marker\": {\"colorbar\": {\"outlinewidth\": 0, \"ticks\": \"\"}}, \"type\": \"scatterternary\"}], \"surface\": [{\"colorbar\": {\"outlinewidth\": 0, \"ticks\": \"\"}, \"colorscale\": [[0.0, \"#0d0887\"], [0.1111111111111111, \"#46039f\"], [0.2222222222222222, \"#7201a8\"], [0.3333333333333333, \"#9c179e\"], [0.4444444444444444, \"#bd3786\"], [0.5555555555555556, \"#d8576b\"], [0.6666666666666666, \"#ed7953\"], [0.7777777777777778, \"#fb9f3a\"], [0.8888888888888888, \"#fdca26\"], [1.0, \"#f0f921\"]], \"type\": \"surface\"}], \"table\": [{\"cells\": {\"fill\": {\"color\": \"#EBF0F8\"}, \"line\": {\"color\": \"white\"}}, \"header\": {\"fill\": {\"color\": \"#C8D4E3\"}, \"line\": {\"color\": \"white\"}}, \"type\": \"table\"}]}, \"layout\": {\"annotationdefaults\": {\"arrowcolor\": \"#2a3f5f\", \"arrowhead\": 0, \"arrowwidth\": 1}, \"coloraxis\": {\"colorbar\": {\"outlinewidth\": 0, \"ticks\": \"\"}}, \"colorscale\": {\"diverging\": [[0, \"#8e0152\"], [0.1, \"#c51b7d\"], [0.2, \"#de77ae\"], [0.3, \"#f1b6da\"], [0.4, \"#fde0ef\"], [0.5, \"#f7f7f7\"], [0.6, \"#e6f5d0\"], [0.7, \"#b8e186\"], [0.8, \"#7fbc41\"], [0.9, \"#4d9221\"], [1, \"#276419\"]], \"sequential\": [[0.0, \"#0d0887\"], [0.1111111111111111, \"#46039f\"], [0.2222222222222222, \"#7201a8\"], [0.3333333333333333, \"#9c179e\"], [0.4444444444444444, \"#bd3786\"], [0.5555555555555556, \"#d8576b\"], [0.6666666666666666, \"#ed7953\"], [0.7777777777777778, \"#fb9f3a\"], [0.8888888888888888, \"#fdca26\"], [1.0, \"#f0f921\"]], \"sequentialminus\": [[0.0, \"#0d0887\"], [0.1111111111111111, \"#46039f\"], [0.2222222222222222, \"#7201a8\"], [0.3333333333333333, \"#9c179e\"], [0.4444444444444444, \"#bd3786\"], [0.5555555555555556, \"#d8576b\"], [0.6666666666666666, \"#ed7953\"], [0.7777777777777778, \"#fb9f3a\"], [0.8888888888888888, \"#fdca26\"], [1.0, \"#f0f921\"]]}, \"colorway\": [\"#636efa\", \"#EF553B\", \"#00cc96\", \"#ab63fa\", \"#FFA15A\", \"#19d3f3\", \"#FF6692\", \"#B6E880\", \"#FF97FF\", \"#FECB52\"], \"font\": {\"color\": \"#2a3f5f\"}, \"geo\": {\"bgcolor\": \"white\", \"lakecolor\": \"white\", \"landcolor\": \"#E5ECF6\", \"showlakes\": true, \"showland\": true, \"subunitcolor\": \"white\"}, \"hoverlabel\": {\"align\": \"left\"}, \"hovermode\": \"closest\", \"mapbox\": {\"style\": \"light\"}, \"paper_bgcolor\": \"white\", \"plot_bgcolor\": \"#E5ECF6\", \"polar\": {\"angularaxis\": {\"gridcolor\": \"white\", \"linecolor\": \"white\", \"ticks\": \"\"}, \"bgcolor\": \"#E5ECF6\", \"radialaxis\": {\"gridcolor\": \"white\", \"linecolor\": \"white\", \"ticks\": \"\"}}, \"scene\": {\"xaxis\": {\"backgroundcolor\": \"#E5ECF6\", \"gridcolor\": \"white\", \"gridwidth\": 2, \"linecolor\": \"white\", \"showbackground\": true, \"ticks\": \"\", \"zerolinecolor\": \"white\"}, \"yaxis\": {\"backgroundcolor\": \"#E5ECF6\", \"gridcolor\": \"white\", \"gridwidth\": 2, \"linecolor\": \"white\", \"showbackground\": true, \"ticks\": \"\", \"zerolinecolor\": \"white\"}, \"zaxis\": {\"backgroundcolor\": \"#E5ECF6\", \"gridcolor\": \"white\", \"gridwidth\": 2, \"linecolor\": \"white\", \"showbackground\": true, \"ticks\": \"\", \"zerolinecolor\": \"white\"}}, \"shapedefaults\": {\"line\": {\"color\": \"#2a3f5f\"}}, \"ternary\": {\"aaxis\": {\"gridcolor\": \"white\", \"linecolor\": \"white\", \"ticks\": \"\"}, \"baxis\": {\"gridcolor\": \"white\", \"linecolor\": \"white\", \"ticks\": \"\"}, \"bgcolor\": \"#E5ECF6\", \"caxis\": {\"gridcolor\": \"white\", \"linecolor\": \"white\", \"ticks\": \"\"}}, \"title\": {\"x\": 0.05}, \"xaxis\": {\"automargin\": true, \"gridcolor\": \"white\", \"linecolor\": \"white\", \"ticks\": \"\", \"title\": {\"standoff\": 15}, \"zerolinecolor\": \"white\", \"zerolinewidth\": 2}, \"yaxis\": {\"automargin\": true, \"gridcolor\": \"white\", \"linecolor\": \"white\", \"ticks\": \"\", \"title\": {\"standoff\": 15}, \"zerolinecolor\": \"white\", \"zerolinewidth\": 2}}}, \"title\": {\"text\": \"Experiencia general del cliente en la campa\\u00f1a: Atenci\\u00f3n al Accionista\"}},\n",
              "                        {\"responsive\": true}\n",
              "                    ).then(function(){\n",
              "                            \n",
              "var gd = document.getElementById('a89bb660-447e-4f80-94c2-070072c5f405');\n",
              "var x = new MutationObserver(function (mutations, observer) {{\n",
              "        var display = window.getComputedStyle(gd).display;\n",
              "        if (!display || display === 'none') {{\n",
              "            console.log([gd, 'removed!']);\n",
              "            Plotly.purge(gd);\n",
              "            observer.disconnect();\n",
              "        }}\n",
              "}});\n",
              "\n",
              "// Listen for the removal of the full notebook cells\n",
              "var notebookContainer = gd.closest('#notebook-container');\n",
              "if (notebookContainer) {{\n",
              "    x.observe(notebookContainer, {childList: true});\n",
              "}}\n",
              "\n",
              "// Listen for the clearing of the current output cell\n",
              "var outputEl = gd.closest('.output');\n",
              "if (outputEl) {{\n",
              "    x.observe(outputEl, {childList: true});\n",
              "}}\n",
              "\n",
              "                        })\n",
              "                };\n",
              "                \n",
              "            </script>\n",
              "        </div>\n",
              "</body>\n",
              "</html>"
            ]
          },
          "metadata": {
            "tags": []
          }
        }
      ]
    },
    {
      "cell_type": "markdown",
      "metadata": {
        "id": "l9klhICvybSS"
      },
      "source": [
        "# Colocaciones"
      ]
    },
    {
      "cell_type": "code",
      "metadata": {
        "id": "4yuiwWLDylHG"
      },
      "source": [
        "import nltk \r\n",
        "from nltk.collocations import *\r\n",
        "bigram_measures = nltk.collocations.BigramAssocMeasures()"
      ],
      "execution_count": 97,
      "outputs": []
    },
    {
      "cell_type": "markdown",
      "metadata": {
        "id": "CBNqwyJHEB9s"
      },
      "source": [
        "**Usuarios**"
      ]
    },
    {
      "cell_type": "code",
      "metadata": {
        "id": "Bn_tjn7hylu-",
        "colab": {
          "base_uri": "https://localhost:8080/"
        },
        "outputId": "f03a0d79-af46-4261-9f8d-7c4d786872ff"
      },
      "source": [
        "lista_mensajeuser = [w for w in df_accionista['transcripcion']]\r\n",
        "long_string  = ' '.join(lista_mensajeuser)\r\n",
        "text = long_string.split(sep = \" \")\r\n",
        "text = [w  for w in text if w not in lista_stop_words]\r\n",
        "finder = BigramCollocationFinder.from_words(text)\r\n",
        "finder.apply_freq_filter(3)\r\n",
        "finder.nbest(bigram_measures.pmi, 100)"
      ],
      "execution_count": 98,
      "outputs": [
        {
          "output_type": "execute_result",
          "data": {
            "text/plain": [
              "[('comisionista', 'bolsa'),\n",
              " ('tratar', 'descargar'),\n",
              " ('valores', 'bancolombia'),\n",
              " ('bajar', 'certificado'),\n",
              " ('certificado', 'declaracion')]"
            ]
          },
          "metadata": {
            "tags": []
          },
          "execution_count": 98
        }
      ]
    },
    {
      "cell_type": "markdown",
      "metadata": {
        "id": "Knmjw9iJD8_M"
      },
      "source": [
        "**Agentes**"
      ]
    },
    {
      "cell_type": "code",
      "metadata": {
        "id": "VqjyXtSyD7y_",
        "colab": {
          "base_uri": "https://localhost:8080/"
        },
        "outputId": "59c7c1cc-8275-4aae-b7c4-98d50f7f54f5"
      },
      "source": [
        "df_accionista_agent=df_agent[df_agent['Linea']=='Atención al accionista']\r\n",
        "lista_mensajeuser = [w for w in df_accionista_agent['transcripcion']]\r\n",
        "long_string  = ' '.join(lista_mensajeuser)\r\n",
        "text = long_string.split(sep = \" \")\r\n",
        "text = [w  for w in text if w not in lista_stop_words]\r\n",
        "finder = BigramCollocationFinder.from_words(text)\r\n",
        "finder.apply_freq_filter(10)\r\n",
        "finder.nbest(bigram_measures.pmi, 100)"
      ],
      "execution_count": 99,
      "outputs": [
        {
          "output_type": "execute_result",
          "data": {
            "text/plain": [
              "[('mantengan', 'finalidades'),\n",
              " ('finalidades', 'recolectados'),\n",
              " ('calificar', 'brindado'),\n",
              " ('mantener', 'actualizada'),\n",
              " ('vigencia', 'tratamiento'),\n",
              " ('autorizacion', 'colaboracion'),\n",
              " ('firmas', 'comisionistas'),\n",
              " ('registro', 'llamars'),\n",
              " ('global', 'security'),\n",
              " ('davivienda', 'corredores'),\n",
              " ('consultar', 'pagina'),\n",
              " ('recuerde', 'hablo'),\n",
              " ('valores', 'bancolombia'),\n",
              " ('pagina', 'triple'),\n",
              " ('acabo', 'indicar'),\n",
              " ('personales', 'solicitamos'),\n",
              " ('desea', 'colabore'),\n",
              " ('encuesta', 'califique'),\n",
              " ('radicado', 'llamar'),\n",
              " ('realizo', 'compra'),\n",
              " ('compania', 'encuesta'),\n",
              " ('documento', 'identidad'),\n",
              " ('ciudad', 'encuentra'),\n",
              " ('firma', 'comisionista'),\n",
              " ('telefono', 'fijo'),\n",
              " ('numeros', 'contacto'),\n",
              " ('hablar', 'encuentra'),\n",
              " ('permitame', 'validamos'),\n",
              " ('proteccion', 'datos'),\n",
              " ('datos', 'personales'),\n",
              " ('indicaria', 'documento'),\n",
              " ('actualizada', 'datos'),\n",
              " ('actualizar', 'datos'),\n",
              " ('tratamiento', 'datos'),\n",
              " ('actualizacion', 'datos'),\n",
              " ('validamos', 'informacion'),\n",
              " ('validar', 'informacion'),\n",
              " ('datos', 'accionistas'),\n",
              " ('informacion', 'indique'),\n",
              " ('informacion', 'indico')]"
            ]
          },
          "metadata": {
            "tags": []
          },
          "execution_count": 99
        }
      ]
    }
  ]
}